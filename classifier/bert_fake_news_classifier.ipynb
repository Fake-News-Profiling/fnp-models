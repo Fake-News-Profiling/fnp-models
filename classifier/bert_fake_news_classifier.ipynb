{
 "cells": [
  {
   "cell_type": "code",
   "execution_count": 34,
   "metadata": {},
   "outputs": [],
   "source": [
    "from abc import ABC, abstractmethod"
   ]
  },
  {
   "cell_type": "markdown",
   "metadata": {},
   "source": [
    "# BERT Model"
   ]
  },
  {
   "cell_type": "code",
   "execution_count": 35,
   "metadata": {},
   "outputs": [],
   "source": [
    "import tensorflow as tf\n",
    "\n",
    "from tensorflow.keras.layers import Dense, Input\n",
    "from tensorflow.keras.models import Model\n",
    "\n",
    "from official.nlp.bert.tokenization import FullTokenizer"
   ]
  },
  {
   "cell_type": "markdown",
   "metadata": {},
   "source": [
    "## BERT Tokenizers"
   ]
  },
  {
   "cell_type": "code",
   "execution_count": 36,
   "metadata": {},
   "outputs": [],
   "source": [
    "class AbstractBertTokenizer(ABC):\n",
    "    \"\"\" Abstract BERT Tokenizer\"\"\"\n",
    "    label_pattern = None\n",
    "    \n",
    "    def __init__(self, encoder, bert_input_size):\n",
    "        \"\"\" Create the BERT encoder and tokenizer \"\"\"\n",
    "        self.bert_input_size = bert_input_size\n",
    "        self.tokenizer = FullTokenizer(\n",
    "            encoder.resolved_object.vocab_file.asset_path.numpy(), \n",
    "            do_lower_case=encoder.resolved_object.do_lower_case.numpy()\n",
    "        )\n",
    "\n",
    "    @abstractmethod\n",
    "    def tokenize_input(self, x):\n",
    "        \"\"\" Tokenize input data \"\"\"\n",
    "        return\n",
    "\n",
    "    def tokenize_labels(self, y):\n",
    "        \"\"\" Tokenize input data labels \"\"\"\n",
    "        if self.label_pattern is not None:\n",
    "            labels = [int(v) for v,n in zip(y, self.label_pattern) for i in range(n)]\n",
    "            return tf.convert_to_tensor(labels, tf.int32)\n",
    "        else:\n",
    "            raise Exception(\"Must tokenize the input first\")\n",
    "    \n",
    "    def _format_bert_tokens(self, ragged_word_ids):\n",
    "        \"\"\" Create, format and pad BERT's input tensors \"\"\"\n",
    "        # Generate mask, and pad word_ids and mask\n",
    "        mask = tf.ones_like(ragged_word_ids).to_tensor()\n",
    "        word_ids = ragged_word_ids.to_tensor()\n",
    "        padding = tf.constant([[0, 0], [0, (self.bert_input_size - mask.shape[1])]])\n",
    "        word_ids = tf.pad(word_ids, padding, \"CONSTANT\")\n",
    "        mask = tf.pad(mask, padding, \"CONSTANT\")\n",
    "        type_ids = tf.zeros_like(mask)\n",
    "        \n",
    "        return {\n",
    "            'input_word_ids': word_ids,\n",
    "            'input_mask': mask,\n",
    "            'input_type_ids': type_ids,\n",
    "        }\n",
    "    \n",
    "    def _format_bert_word_piece_input(self, word_piece_tokens):\n",
    "        word_piece_tokens.insert(0, '[CLS]')\n",
    "        word_piece_tokens.append('[SEP]')\n",
    "        return self.tokenizer.convert_tokens_to_ids(word_piece_tokens)"
   ]
  },
  {
   "cell_type": "code",
   "execution_count": 37,
   "metadata": {},
   "outputs": [],
   "source": [
    "class BertIndividualTweetTokenizer(AbstractBertTokenizer):\n",
    "    \"\"\" BERT tokenizer which tokenizes historical tweet data as individual tweets \"\"\"\n",
    "    \n",
    "    def tokenize_input(self, X):\n",
    "        \"\"\" Tokenize input data \"\"\"\n",
    "        tokenized_tweets = [\n",
    "            self._tokenize_single_tweet(tweet) for tweet_feed in X for tweet in tweet_feed\n",
    "        ]\n",
    "        self.label_pattern = [len(tweet_feed) for tweet_feed in X]\n",
    "        word_ids = tf.ragged.constant(tokenized_tweets)\n",
    "        return self._format_bert_tokens(word_ids)\n",
    "\n",
    "    def _tokenize_single_tweet(self, tweet):\n",
    "        \"\"\" Tokenize a single tweet, truncating its tokens to bert_input_size \"\"\"\n",
    "        tokens = self.tokenizer.tokenize(tweet)[:self.bert_input_size-2]\n",
    "        return self._format_bert_word_piece_input(tokens)"
   ]
  },
  {
   "cell_type": "code",
   "execution_count": 38,
   "metadata": {},
   "outputs": [],
   "source": [
    "class BertTweetFeedTokenizer(AbstractBertTokenizer):\n",
    "    \"\"\" BERT tokenizer which tokenizes historical tweet data as tweet feed chunks \"\"\"\n",
    "    \n",
    "    def tokenize_input(self, X):\n",
    "        \"\"\" Tokenize input data \"\"\"\n",
    "        tokenized_tweet_feeds = list(map(self._tokenize_tweet_feed, X))\n",
    "        self.label_pattern = list(map(len, tokenized_tweet_feeds))\n",
    "        word_ids = tf.ragged.constant(tokenized_tweet_feeds)\n",
    "        return self._format_bert_tokens(word_ids)\n",
    "    \n",
    "    def _tokenize_tweet_feed(tweet_feed, overlap):\n",
    "        \"\"\" Tokenize an entire tweet feed into chunks \"\"\"\n",
    "        feed_tokens = self.tokenizer.tokenize(tweet_feed)\n",
    "        tokens = [feed_tokens[i:i+self.input_size-2] \n",
    "                  for i in range(0, len(feed_tokens), self.input_size-overlap)]\n",
    "\n",
    "        return list(map(self._format_bert_word_piece_input, tokens))"
   ]
  },
  {
   "cell_type": "markdown",
   "metadata": {},
   "source": [
    "## BERT Model"
   ]
  },
  {
   "cell_type": "code",
   "execution_count": 39,
   "metadata": {},
   "outputs": [],
   "source": [
    "def create_bert_model(encoder, input_size):\n",
    "    # Create BERT input layers\n",
    "    def input_layer(input_name):\n",
    "        return Input(shape=(input_size,), dtype=tf.int32, name=input_name)\n",
    "\n",
    "    inputs = {\n",
    "        'input_word_ids': input_layer(\"inputs/input_word_ids\"),\n",
    "        'input_mask': input_layer(\"inputs/input_mask\"),\n",
    "        'input_type_ids': input_layer(\"inputs/input_type_ids\"),\n",
    "    }\n",
    "\n",
    "    # BERT's pooled output\n",
    "    encoder_pooled_output = encoder(inputs)['pooled_output']\n",
    "\n",
    "    # Dense layer output\n",
    "    dense_output = Dense(1, activation='sigmoid')(encoder_pooled_output)\n",
    "\n",
    "    # Create the Keras model and compile\n",
    "    return Model(inputs, dense_output)"
   ]
  }
 ],
 "metadata": {
  "kernelspec": {
   "display_name": "Python 3",
   "language": "python",
   "name": "python3"
  },
  "language_info": {
   "codemirror_mode": {
    "name": "ipython",
    "version": 3
   },
   "file_extension": ".py",
   "mimetype": "text/x-python",
   "name": "python",
   "nbconvert_exporter": "python",
   "pygments_lexer": "ipython3",
   "version": "3.7.8"
  }
 },
 "nbformat": 4,
 "nbformat_minor": 4
}
