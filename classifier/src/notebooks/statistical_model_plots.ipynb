{
 "cells": [
  {
   "cell_type": "code",
   "execution_count": 12,
   "outputs": [],
   "source": [
    "import sys\n",
    "sys.path.insert(0, \"../../\")"
   ],
   "metadata": {
    "collapsed": false,
    "pycharm": {
     "name": "#%%\n"
    }
   }
  },
  {
   "cell_type": "code",
   "execution_count": 178,
   "outputs": [],
   "source": [
    "import numpy as np\n",
    "import matplotlib.pyplot as plt\n",
    "import seaborn as sn\n",
    "from sklearn.model_selection import StratifiedKFold\n",
    "from sklearn.metrics import roc_curve, auc\n",
    "from mlxtend.plotting import plot_decision_regions\n",
    "\n",
    "from data import parse_dataset\n",
    "from base import load_hyperparameters\n",
    "from experiments.experiment import AbstractSklearnExperiment\n",
    "from experiments.statistical import get_ner_wrapper, get_sentiment_wrapper\n",
    "import statistical.data_extraction as ex"
   ],
   "metadata": {
    "collapsed": false,
    "pycharm": {
     "name": "#%%\n"
    }
   }
  },
  {
   "cell_type": "code",
   "execution_count": 15,
   "outputs": [],
   "source": [
    "x, y = parse_dataset(\"../../datasets\", \"en\")\n",
    "kfold = StratifiedKFold(n_splits=10)\n",
    "splits = list(kfold.split(x, y))\n",
    "\n",
    "\n",
    "def load_model(path_to_hyperparameters, model_type):\n",
    "    hp = load_hyperparameters(path_to_hyperparameters)\n",
    "    model = AbstractSklearnExperiment.build_model(AbstractSklearnExperiment, hp)\n",
    "\n",
    "    if model_type == \"readability\":\n",
    "        extractor = ex.readability_tweet_extractor()\n",
    "    elif model_type == \"ner\":\n",
    "        extractor = ex.ner_tweet_extractor(get_ner_wrapper(hp))\n",
    "    elif model_type == \"sentiment\":\n",
    "        extractor = ex.sentiment_tweet_extractor(get_sentiment_wrapper(hp))\n",
    "    else:\n",
    "        raise ValueError(\"Invalid value for `model_type`\")\n",
    "\n",
    "    return extractor, model\n",
    "\n",
    "\n",
    "def fit_model(path_to_hyperparameters, model_type):\n",
    "    extractor, model = load_model(path_to_hyperparameters, model_type)\n",
    "    xt = extractor.transform(x)\n",
    "\n",
    "    predictions = []\n",
    "    for x_train_indices, x_test_indices in splits:\n",
    "        x_train = xt[x_train_indices]\n",
    "        y_train = y[x_train_indices]\n",
    "        x_test = xt[x_test_indices]\n",
    "        y_test = y[x_test_indices]\n",
    "\n",
    "        model.fit(x_train, y_train)\n",
    "        pred = model.predict_proba(x_test)\n",
    "        predictions.append([pred, y_test])\n",
    "\n",
    "    return np.asarray(predictions)"
   ],
   "metadata": {
    "collapsed": false,
    "pycharm": {
     "name": "#%%\n"
    }
   }
  },
  {
   "cell_type": "code",
   "execution_count": 186,
   "outputs": [],
   "source": [
    "def plot_roc(predictions):\n",
    "    rates = np.asarray([roc_curve(y_true, pred[:, -1].reshape(-1))[:2] for pred, y_true in predictions])\n",
    "    length = max([len(fpr) for fpr, _ in rates])\n",
    "    rates = np.asarray([\n",
    "        [np.pad(fpr, (0, length-len(fpr)), constant_values=1.), np.pad(tpr, (0, length-len(tpr)), constant_values=1.)]\n",
    "        for fpr, tpr in rates\n",
    "    ])\n",
    "    rates_mean = np.mean(rates, axis=0)\n",
    "    rates_mean_plus_std = rates_mean[1] + np.std(rates[1], axis=0)\n",
    "    rates_mean_minus_std = rates_mean[1] - np.std(rates[1], axis=0)\n",
    "\n",
    "    print(\"AUC:\", auc(rates_mean[0], rates_mean[1]))\n",
    "    plt.plot(rates_mean[0], rates_mean[1])\n",
    "    plt.plot(rates_mean[0], rates_mean_plus_std, color=\"blue\", alpha=0.2)\n",
    "    plt.plot(rates_mean[0], rates_mean_minus_std, color=\"blue\", alpha=0.2)\n",
    "    plt.fill_between(rates_mean[0], rates_mean_minus_std, rates_mean_plus_std, alpha=0.2)\n",
    "    plt.xlabel(\"False Positive Rate\")\n",
    "    plt.ylabel(\"True Positive Rate\")\n",
    "    plt.title(\"ROC Curve\")\n",
    "\n",
    "\n",
    "def plot_model_decision_regions(path_to_hyperparameters, model_type):\n",
    "    extractor, model = load_model(path_to_hyperparameters, model_type)\n",
    "    xt = extractor.transform(x)\n",
    "\n",
    "    model.fit(xt, y)\n",
    "    plot_decision_regions(xt, y.astype(np.int32), clf=model, legend=2)\n",
    "    plt.title(\"Decision Regions\")\n",
    "\n",
    "def plot_confusion_matrix(predictions):\n",
    "    matrices = []\n",
    "    for pred, y_trues in predictions:\n",
    "        confusion_matrix = np.full((2, 2), 0)\n",
    "        y_preds = np.argmax(pred, axis=1)\n",
    "\n",
    "        for y_pred, y_true in zip(y_preds, y_trues):\n",
    "            if y_pred == 1 and y_true == 1:  # True positive\n",
    "                confusion_matrix[0, 0] += 1\n",
    "            elif y_pred == 1 and y_true == 0:  # False positive\n",
    "                confusion_matrix[0, 1] += 1\n",
    "            elif y_pred == 0 and y_true == 0:  # True negative\n",
    "                confusion_matrix[1, 1] += 1\n",
    "            elif y_pred == 0 and y_true == 1:  # False negative\n",
    "                confusion_matrix[1, 0] += 1\n",
    "\n",
    "        matrices.append(confusion_matrix)\n",
    "\n",
    "    confusion_matrix = np.mean(matrices, axis=0)\n",
    "    sn.heatmap(confusion_matrix, annot=True, xticklabels=[1, 0], yticklabels=[1, 0])"
   ],
   "metadata": {
    "collapsed": false,
    "pycharm": {
     "name": "#%%\n"
    }
   }
  },
  {
   "cell_type": "markdown",
   "source": [
    "# Readability model"
   ],
   "metadata": {
    "collapsed": false,
    "pycharm": {
     "name": "#%% md\n"
    }
   }
  },
  {
   "cell_type": "code",
   "execution_count": 124,
   "outputs": [
    {
     "name": "stderr",
     "output_type": "stream",
     "text": [
      "c:\\users\\joshh\\desktop\\uni\\soton uni - yr 3\\comp3200\\fake-news-profiling\\venv\\lib\\site-packages\\xgboost\\sklearn.py:888: UserWarning: The use of label encoder in XGBClassifier is deprecated and will be removed in a future release. To remove this warning, do the following: 1) Pass option use_label_encoder=False when constructing XGBClassifier object; and 2) Encode your labels (y) as integers starting with 0, i.e. 0, 1, 2, ..., [num_class - 1].\n",
      "  warnings.warn(label_encoder_deprecation_msg, UserWarning)\n",
      "c:\\users\\joshh\\desktop\\uni\\soton uni - yr 3\\comp3200\\fake-news-profiling\\venv\\lib\\site-packages\\xgboost\\sklearn.py:888: UserWarning: The use of label encoder in XGBClassifier is deprecated and will be removed in a future release. To remove this warning, do the following: 1) Pass option use_label_encoder=False when constructing XGBClassifier object; and 2) Encode your labels (y) as integers starting with 0, i.e. 0, 1, 2, ..., [num_class - 1].\n",
      "  warnings.warn(label_encoder_deprecation_msg, UserWarning)\n",
      "c:\\users\\joshh\\desktop\\uni\\soton uni - yr 3\\comp3200\\fake-news-profiling\\venv\\lib\\site-packages\\xgboost\\sklearn.py:888: UserWarning: The use of label encoder in XGBClassifier is deprecated and will be removed in a future release. To remove this warning, do the following: 1) Pass option use_label_encoder=False when constructing XGBClassifier object; and 2) Encode your labels (y) as integers starting with 0, i.e. 0, 1, 2, ..., [num_class - 1].\n",
      "  warnings.warn(label_encoder_deprecation_msg, UserWarning)\n",
      "c:\\users\\joshh\\desktop\\uni\\soton uni - yr 3\\comp3200\\fake-news-profiling\\venv\\lib\\site-packages\\xgboost\\sklearn.py:888: UserWarning: The use of label encoder in XGBClassifier is deprecated and will be removed in a future release. To remove this warning, do the following: 1) Pass option use_label_encoder=False when constructing XGBClassifier object; and 2) Encode your labels (y) as integers starting with 0, i.e. 0, 1, 2, ..., [num_class - 1].\n",
      "  warnings.warn(label_encoder_deprecation_msg, UserWarning)\n",
      "c:\\users\\joshh\\desktop\\uni\\soton uni - yr 3\\comp3200\\fake-news-profiling\\venv\\lib\\site-packages\\xgboost\\sklearn.py:888: UserWarning: The use of label encoder in XGBClassifier is deprecated and will be removed in a future release. To remove this warning, do the following: 1) Pass option use_label_encoder=False when constructing XGBClassifier object; and 2) Encode your labels (y) as integers starting with 0, i.e. 0, 1, 2, ..., [num_class - 1].\n",
      "  warnings.warn(label_encoder_deprecation_msg, UserWarning)\n",
      "c:\\users\\joshh\\desktop\\uni\\soton uni - yr 3\\comp3200\\fake-news-profiling\\venv\\lib\\site-packages\\xgboost\\sklearn.py:888: UserWarning: The use of label encoder in XGBClassifier is deprecated and will be removed in a future release. To remove this warning, do the following: 1) Pass option use_label_encoder=False when constructing XGBClassifier object; and 2) Encode your labels (y) as integers starting with 0, i.e. 0, 1, 2, ..., [num_class - 1].\n",
      "  warnings.warn(label_encoder_deprecation_msg, UserWarning)\n",
      "c:\\users\\joshh\\desktop\\uni\\soton uni - yr 3\\comp3200\\fake-news-profiling\\venv\\lib\\site-packages\\xgboost\\sklearn.py:888: UserWarning: The use of label encoder in XGBClassifier is deprecated and will be removed in a future release. To remove this warning, do the following: 1) Pass option use_label_encoder=False when constructing XGBClassifier object; and 2) Encode your labels (y) as integers starting with 0, i.e. 0, 1, 2, ..., [num_class - 1].\n",
      "  warnings.warn(label_encoder_deprecation_msg, UserWarning)\n",
      "c:\\users\\joshh\\desktop\\uni\\soton uni - yr 3\\comp3200\\fake-news-profiling\\venv\\lib\\site-packages\\xgboost\\sklearn.py:888: UserWarning: The use of label encoder in XGBClassifier is deprecated and will be removed in a future release. To remove this warning, do the following: 1) Pass option use_label_encoder=False when constructing XGBClassifier object; and 2) Encode your labels (y) as integers starting with 0, i.e. 0, 1, 2, ..., [num_class - 1].\n",
      "  warnings.warn(label_encoder_deprecation_msg, UserWarning)\n",
      "c:\\users\\joshh\\desktop\\uni\\soton uni - yr 3\\comp3200\\fake-news-profiling\\venv\\lib\\site-packages\\xgboost\\sklearn.py:888: UserWarning: The use of label encoder in XGBClassifier is deprecated and will be removed in a future release. To remove this warning, do the following: 1) Pass option use_label_encoder=False when constructing XGBClassifier object; and 2) Encode your labels (y) as integers starting with 0, i.e. 0, 1, 2, ..., [num_class - 1].\n",
      "  warnings.warn(label_encoder_deprecation_msg, UserWarning)\n",
      "c:\\users\\joshh\\desktop\\uni\\soton uni - yr 3\\comp3200\\fake-news-profiling\\venv\\lib\\site-packages\\xgboost\\sklearn.py:888: UserWarning: The use of label encoder in XGBClassifier is deprecated and will be removed in a future release. To remove this warning, do the following: 1) Pass option use_label_encoder=False when constructing XGBClassifier object; and 2) Encode your labels (y) as integers starting with 0, i.e. 0, 1, 2, ..., [num_class - 1].\n",
      "  warnings.warn(label_encoder_deprecation_msg, UserWarning)\n"
     ]
    },
    {
     "name": "stdout",
     "output_type": "stream",
     "text": [
      "[23:22:01] WARNING: C:/Users/Administrator/workspace/xgboost-win64_release_1.3.0/src/learner.cc:1061: Starting in XGBoost 1.3.0, the default evaluation metric used with the objective 'binary:logistic' was changed from 'error' to 'logloss'. Explicitly set eval_metric if you'd like to restore the old behavior.\n",
      "[23:22:01] WARNING: C:/Users/Administrator/workspace/xgboost-win64_release_1.3.0/src/learner.cc:1061: Starting in XGBoost 1.3.0, the default evaluation metric used with the objective 'binary:logistic' was changed from 'error' to 'logloss'. Explicitly set eval_metric if you'd like to restore the old behavior.\n",
      "[23:22:01] WARNING: C:/Users/Administrator/workspace/xgboost-win64_release_1.3.0/src/learner.cc:1061: Starting in XGBoost 1.3.0, the default evaluation metric used with the objective 'binary:logistic' was changed from 'error' to 'logloss'. Explicitly set eval_metric if you'd like to restore the old behavior.\n",
      "[23:22:01] WARNING: C:/Users/Administrator/workspace/xgboost-win64_release_1.3.0/src/learner.cc:1061: Starting in XGBoost 1.3.0, the default evaluation metric used with the objective 'binary:logistic' was changed from 'error' to 'logloss'. Explicitly set eval_metric if you'd like to restore the old behavior.\n",
      "[23:22:01] WARNING: C:/Users/Administrator/workspace/xgboost-win64_release_1.3.0/src/learner.cc:1061: Starting in XGBoost 1.3.0, the default evaluation metric used with the objective 'binary:logistic' was changed from 'error' to 'logloss'. Explicitly set eval_metric if you'd like to restore the old behavior.\n",
      "[23:22:02] WARNING: C:/Users/Administrator/workspace/xgboost-win64_release_1.3.0/src/learner.cc:1061: Starting in XGBoost 1.3.0, the default evaluation metric used with the objective 'binary:logistic' was changed from 'error' to 'logloss'. Explicitly set eval_metric if you'd like to restore the old behavior.\n",
      "[23:22:02] WARNING: C:/Users/Administrator/workspace/xgboost-win64_release_1.3.0/src/learner.cc:1061: Starting in XGBoost 1.3.0, the default evaluation metric used with the objective 'binary:logistic' was changed from 'error' to 'logloss'. Explicitly set eval_metric if you'd like to restore the old behavior.\n",
      "[23:22:02] WARNING: C:/Users/Administrator/workspace/xgboost-win64_release_1.3.0/src/learner.cc:1061: Starting in XGBoost 1.3.0, the default evaluation metric used with the objective 'binary:logistic' was changed from 'error' to 'logloss'. Explicitly set eval_metric if you'd like to restore the old behavior.\n",
      "[23:22:02] WARNING: C:/Users/Administrator/workspace/xgboost-win64_release_1.3.0/src/learner.cc:1061: Starting in XGBoost 1.3.0, the default evaluation metric used with the objective 'binary:logistic' was changed from 'error' to 'logloss'. Explicitly set eval_metric if you'd like to restore the old behavior.\n",
      "[23:22:02] WARNING: C:/Users/Administrator/workspace/xgboost-win64_release_1.3.0/src/learner.cc:1061: Starting in XGBoost 1.3.0, the default evaluation metric used with the objective 'binary:logistic' was changed from 'error' to 'logloss'. Explicitly set eval_metric if you'd like to restore the old behavior.\n"
     ]
    }
   ],
   "source": [
    "predictions = fit_model(\n",
    "    \"../../training/statistical/readability_10/trial_0be075eee1b0230e51a4517cc721c747/trial.json\", \"readability\")"
   ],
   "metadata": {
    "collapsed": false,
    "pycharm": {
     "name": "#%%\n"
    }
   }
  },
  {
   "cell_type": "code",
   "execution_count": 152,
   "outputs": [
    {
     "name": "stdout",
     "output_type": "stream",
     "text": [
      "AUC: 0.697221194937541\n"
     ]
    },
    {
     "data": {
      "text/plain": "<Figure size 432x288 with 1 Axes>",
      "image/png": "[encoded data removed]"
     },
     "metadata": {
      "needs_background": "light"
     },
     "output_type": "display_data"
    }
   ],
   "source": [
    "plot_roc(predictions)"
   ],
   "metadata": {
    "collapsed": false,
    "pycharm": {
     "name": "#%%\n"
    }
   }
  },
  {
   "cell_type": "code",
   "execution_count": 187,
   "outputs": [
    {
     "data": {
      "text/plain": "<Figure size 432x288 with 2 Axes>",
      "image/png": "[encoded data removed]"
     },
     "metadata": {
      "needs_background": "light"
     },
     "output_type": "display_data"
    }
   ],
   "source": [
    "plot_confusion_matrix(predictions)"
   ],
   "metadata": {
    "collapsed": false,
    "pycharm": {
     "name": "#%%\n"
    }
   }
  },
  {
   "cell_type": "code",
   "execution_count": null,
   "outputs": [],
   "source": [
    "\n"
   ],
   "metadata": {
    "collapsed": false,
    "pycharm": {
     "name": "#%%\n"
    }
   }
  }
 ],
 "metadata": {
  "kernelspec": {
   "display_name": "Python 3",
   "language": "python",
   "name": "python3"
  },
  "language_info": {
   "codemirror_mode": {
    "name": "ipython",
    "version": 2
   },
   "file_extension": ".py",
   "mimetype": "text/x-python",
   "name": "python",
   "nbconvert_exporter": "python",
   "pygments_lexer": "ipython2",
   "version": "2.7.6"
  }
 },
 "nbformat": 4,
 "nbformat_minor": 0
}