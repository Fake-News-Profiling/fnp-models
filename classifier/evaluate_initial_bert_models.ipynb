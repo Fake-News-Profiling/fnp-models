{
 "cells": [
  {
   "cell_type": "code",
   "execution_count": 1,
   "metadata": {},
   "outputs": [],
   "source": [
    "import sys\n",
    "\n",
    "preprocessing_path = 'C:\\\\Users\\\\joshh\\\\Desktop\\\\Uni\\\\Soton Year 3\\\\COMP3200\\\\fake-news-profiling\\\\classifier\\\\preprocessing'\n",
    "if preprocessing_path not in sys.path:\n",
    "    sys.path.insert(1, preprocessing_path)\n",
    "\n",
    "notif_path = 'C:\\\\Users\\\\joshh\\\\Desktop\\\\Uni\\\\Soton Year 3\\\\COMP3200\\\\fake-news-profiling\\\\classifier\\\\notifications'\n",
    "if notif_path not in sys.path:\n",
    "    sys.path.insert(1, notif_path)"
   ]
  },
  {
   "cell_type": "code",
   "execution_count": 2,
   "metadata": {},
   "outputs": [],
   "source": [
    "import matplotlib.pyplot as plt\n",
    "import numpy as np\n",
    "import pandas as pd\n",
    "\n",
    "import tensorflow as tf\n",
    "import tensorflow_hub as hub\n",
    "from tensorflow.keras.callbacks import ModelCheckpoint\n",
    "from tensorflow.keras.optimizers import Adam\n",
    "from official.nlp import optimization\n",
    "\n",
    "import ipynb.fs.full.parse_datasets as datasets\n",
    "import ipynb.fs.full.preprocessing as processing\n",
    "import ipynb.fs.full.bert_fake_news_classifier as bclf\n",
    "from ipynb.fs.full.notif_email import send_email"
   ]
  },
  {
   "cell_type": "markdown",
   "metadata": {},
   "source": [
    "# Load Dataset"
   ]
  },
  {
   "cell_type": "code",
   "execution_count": 6,
   "metadata": {},
   "outputs": [],
   "source": [
    "# Load data\n",
    "# tweet_data, label_data = datasets.parse_dataset(\"datasets\", \"en\")\n",
    "\n",
    "# Split the data\n",
    "# (tweet_train, label_train, \n",
    "#  tweet_val, label_val, \n",
    "#  tweet_test, label_test) = datasets.split_dataset(\n",
    "#     tweet_data, label_data, test_size=0.10, val_size=0.10)\n",
    "\n",
    "# Save split data\n",
    "# np.save(\n",
    "#     \"datasets/en_split_data.npy\", \n",
    "#     np.asarray([tweet_train, label_train, tweet_val, label_val, tweet_test, label_test]), \n",
    "#     allow_pickle=True\n",
    "# )"
   ]
  },
  {
   "cell_type": "code",
   "execution_count": 3,
   "metadata": {},
   "outputs": [],
   "source": [
    "# Load the saved dataset split\n",
    "def load_data():\n",
    "    return np.load(\"datasets/en_split_data.npy\", allow_pickle=True)"
   ]
  },
  {
   "cell_type": "code",
   "execution_count": 4,
   "metadata": {},
   "outputs": [],
   "source": [
    "(tweet_train, label_train, \n",
    " tweet_val, label_val, \n",
    " tweet_test, label_test) = load_data()"
   ]
  },
  {
   "cell_type": "code",
   "execution_count": 5,
   "metadata": {},
   "outputs": [],
   "source": [
    "# Preprocess dataset\n",
    "tweet_preprocessor = processing.BertTweetFeedDataPreprocessor(\n",
    "    transformers = [\n",
    "        processing.tag_indicators,\n",
    "        processing.replace_xml_and_html,\n",
    "        processing.replace_emojis,\n",
    "        processing.remove_punctuation,\n",
    "        processing.replace_tags,\n",
    "        processing.remove_hashtag_chars,\n",
    "        processing.replace_accented_chars,\n",
    "        processing.tag_numbers,\n",
    "        processing.remove_stopwords,\n",
    "        processing.remove_extra_spacing,\n",
    "    ])\n",
    "tweet_train_processed = tweet_preprocessor.transform(tweet_train)\n",
    "tweet_val_processed = tweet_preprocessor.transform(tweet_val)\n",
    "tweet_test_processed = tweet_preprocessor.transform(tweet_test)"
   ]
  },
  {
   "cell_type": "markdown",
   "metadata": {},
   "source": [
    "# BERT Individual Model\n",
    "* Each tweet is given the same label as their authors label, and then BERT is trained using this dataset of individual tweets"
   ]
  },
  {
   "cell_type": "markdown",
   "metadata": {},
   "source": [
    "## Investigating model performance\n",
    "* Investigated model performance by varying:\n",
    "    * Batch size, epochs and learning rate (as suggested in the BERT paper)\n",
    "* Used callbacks to log loss and accuracy to TensorBoard\n",
    "* Used the BERT model with hidden size of 128, but also investigated using the one with size of 256"
   ]
  },
  {
   "cell_type": "markdown",
   "metadata": {},
   "source": [
    "### BERT model with 128 input size\n",
    "* Evaluate classifying individual tweets using the BERT model with a hidden size of 128, 12 hidden layers, and 2 attention heads: https://tfhub.dev/tensorflow/small_bert/bert_en_uncased_L-12_H-128_A-2/1\n",
    "* Investigate using the following combinations:\n",
    "    * Batch sizes of: [8, 16, 24, 32, 40]\n",
    "    * Epochs of: [10]\n",
    "    * Learning rates of: [5e-5, 3e-5, 2e-5]\n",
    "    * Optimizers: [Adam, Adam with weight decay (AdamW)]"
   ]
  },
  {
   "cell_type": "code",
   "execution_count": null,
   "metadata": {},
   "outputs": [],
   "source": [
    "bert_url = \"https://tfhub.dev/tensorflow/small_bert/bert_en_uncased_L-12_H-128_A-2/1\"\n",
    "bert_size = 128\n",
    "models = [(batch_size, epochs, lr, optimizer_name)\n",
    "         for batch_size in [8, 16, 24, 32, 40]\n",
    "         for epochs in [10]\n",
    "         for lr in [5e-5, 3e-5, 2e-5]\n",
    "         for optimizer_name in ['adam', 'adamw']]\n",
    "\n",
    "model_path = \"training/bert_individual/initial_eval/\"\n",
    "\n",
    "for batch_size, epochs, lr, optimizer_name in models:\n",
    "    with tf.device('/gpu:0'):\n",
    "        model_name = f\"bert128-batch_size{batch_size}-epochs{epochs}-lr{lr}-optimizer{optimizer_name}\"\n",
    "        model_handler = bclf.BertModelEvalHandler(\n",
    "            bert_url, bert_size, bclf.BertIndividualTweetTokenizer, bclf.dense_bert_model)\n",
    "\n",
    "        train_history = model_handler.train_bert(\n",
    "            tweet_train_processed,\n",
    "            label_train,\n",
    "            batch_size,\n",
    "            epochs,\n",
    "            tweet_val_processed,\n",
    "            label_val,\n",
    "            optimizer_name,\n",
    "            lr,\n",
    "            model_path + model_name + \"/cp.ckpt\",\n",
    "            model_path + \"logs/\" + model_name,\n",
    "        )\n",
    "\n",
    "        text = f\"Finished training {model_name}, training history was:\\n{train_history.history}\"\n",
    "        print(text)\n",
    "        send_email(text)"
   ]
  },
  {
   "cell_type": "markdown",
   "metadata": {},
   "source": [
    "### BERT model with 256 input size\n",
    "* Evaluate classifying individual tweets using the BERT model with a hidden size of 256, 12 hidden layers, and 4 attention heads: https://tfhub.dev/tensorflow/small_bert/bert_en_uncased_L-12_H-256_A-4/1\n",
    "* Investigate using the following combinations:\n",
    "    * Batch sizes of: [8, 16, 24, 32]\n",
    "    * Epochs of: [10]\n",
    "    * Learning rates of: [5e-5, 3e-5, 2e-5]\n",
    "    * Optimizers: [Adam, Adam with weight decay (AdamW)]"
   ]
  },
  {
   "cell_type": "code",
   "execution_count": null,
   "metadata": {},
   "outputs": [],
   "source": [
    "bert_url = \"https://tfhub.dev/tensorflow/small_bert/bert_en_uncased_L-12_H-256_A-4/1\"\n",
    "bert_size = 256\n",
    "models = [(batch_size, epochs, lr, optimizer_name)\n",
    "         for batch_size in [16, 24, 32, 8]\n",
    "         for epochs in [10]\n",
    "         for lr in [5e-5, 3e-5, 2e-5]\n",
    "         for optimizer_name in ['adam', 'adamw']]\n",
    "\n",
    "model_path = \"training/bert_individual/initial_eval/\"\n",
    "\n",
    "for batch_size, epochs, lr, optimizer_name in models:\n",
    "    with tf.device(('/gpu:0' if batch_size < 32 else '/cpu:0')):\n",
    "        model_name = f\"bert256-batch_size{batch_size}-epochs{epochs}-lr{lr}-optimizer{optimizer_name}\"\n",
    "        model_handler = bclf.BertModelEvalHandler(\n",
    "            bert_url, bert_size, bclf.BertIndividualTweetTokenizer, bclf.dense_bert_model)\n",
    "\n",
    "        train_history = model_handler.train_bert(\n",
    "            tweet_train_processed,\n",
    "            label_train,\n",
    "            batch_size,\n",
    "            epochs,\n",
    "            tweet_val_processed,\n",
    "            label_val,\n",
    "            optimizer_name,\n",
    "            lr,\n",
    "            model_path + model_name + \"/cp.ckpt\",\n",
    "            model_path + \"logs/\" + model_name,\n",
    "        )\n",
    "\n",
    "        text = f\"Finished training {model_name}, training history was:\\n{train_history.history}\"\n",
    "        print(text)\n",
    "        send_email(text)\n",
    "        with open(model_path+\"train_history.txt\", \"a\") as file:\n",
    "            name = f\"I_{bert_size}_{batch_size}_{str(lr)[0]}_{'A' if optimizer_name == 'adam' else 'AW'}\"\n",
    "            file_text = \", ,\".join([\n",
    "                \",\".join([bert_size, batch_size, lr, optimizer_name, name]), \n",
    "                \",\".join(train_history.history['loss']),\n",
    "                \",\".join(train_history.history['val_loss']),\n",
    "                \",\".join(train_history.history['binary_accuracy']),\n",
    "                \",\".join(train_history.history['val_binary_accuracy']),\n",
    "            ])\n",
    "            file.write(file_text)"
   ]
  },
  {
   "cell_type": "markdown",
   "metadata": {},
   "source": [
    "### Findings:\n",
    "* As noted by the original BERT paper, fine-tuning takes very few epochs, so from about 6 epochs upwards, both loss and accuracy seemed to plateau.\n",
    "* Found that validation loss using AdamW was generally higher than using Adam, however accuracy was also higher"
   ]
  },
  {
   "cell_type": "markdown",
   "metadata": {},
   "source": [
    "# BERT Feed Model\n",
    "* An authors tweets are concatenated into one string. The string is then split into chunks, and each chunk given the same label as its author. The BERT model is then trained on these tweet chunks."
   ]
  },
  {
   "cell_type": "markdown",
   "metadata": {},
   "source": [
    "## Investigating model performance\n",
    "* Investigated model performance by varyingas before.\n",
    "* Using BERT models with hidden layers of 128 and 256."
   ]
  },
  {
   "cell_type": "markdown",
   "metadata": {},
   "source": [
    "### BERT model with 128 input size\n",
    "* Evaluate classifying individual tweets using the BERT model with a hidden size of 128, 12 hidden layers, and 2 attention heads: https://tfhub.dev/tensorflow/small_bert/bert_en_uncased_L-12_H-128_A-2/1\n",
    "* Investigate using the following combinations:\n",
    "    * Batch sizes of: [8, 16, 24, 32, 40]\n",
    "    * Epochs of: [10]\n",
    "    * Learning rates of: [5e-5, 3e-5, 2e-5]\n",
    "    * Optimizers: [Adam, Adam with weight decay (AdamW)]"
   ]
  },
  {
   "cell_type": "code",
   "execution_count": 7,
   "metadata": {
    "scrolled": true
   },
   "outputs": [],
   "source": [
    "bert_url = \"https://tfhub.dev/tensorflow/small_bert/bert_en_uncased_L-12_H-128_A-2/1\"\n",
    "bert_size = 128\n",
    "models = [(batch_size, epochs, lr, optimizer_name)\n",
    "         for batch_size in [8, 16, 24, 32, 40]\n",
    "         for epochs in [10]\n",
    "         for lr in [5e-5, 3e-5, 2e-5]\n",
    "         for optimizer_name in ['adam', 'adamw']]\n",
    "\n",
    "model_path = \"training/bert_feed/initial_eval/\"\n",
    "\n",
    "for batch_size, epochs, lr, optimizer_name in models:\n",
    "    with tf.device('/gpu:0'):\n",
    "        model_name = f\"bert128-batch_size{batch_size}-epochs{epochs}-lr{lr}-optimizer{optimizer_name}\"\n",
    "        model_handler = bclf.BertModelEvalHandler(\n",
    "            bert_url, bert_size, bclf.BertTweetFeedTokenizer, bclf.dense_bert_model)\n",
    "\n",
    "        train_history = model_handler.train_bert(\n",
    "            tweet_train_processed,\n",
    "            label_train,\n",
    "            batch_size,\n",
    "            epochs,\n",
    "            tweet_val_processed,\n",
    "            label_val,\n",
    "            optimizer_name,\n",
    "            lr,\n",
    "            model_path + model_name + \"/cp.ckpt\",\n",
    "            model_path + \"logs/\" + model_name,\n",
    "        )\n",
    "\n",
    "        text = f\"Finished training {model_name}, training history was:\\n{train_history.history}\"\n",
    "        print(text)\n",
    "        send_email(text)\n",
    "        with open(model_path+\"train_history.txt\", \"a\") as file:\n",
    "            def join_hist_array(array):\n",
    "                return \",\".join([str(i) for i in array])\n",
    "\n",
    "            name = f\"F_{bert_size}_{batch_size}_{str(lr)[0]}_{'A' if optimizer_name == 'adam' else 'AW'}\"\n",
    "            file_text = \", ,\".join([\n",
    "                \",\".join([str(bert_size), str(batch_size), str(lr), optimizer_name, name]), \n",
    "                join_hist_array(train_history.history['loss']),\n",
    "                join_hist_array(train_history.history['val_loss']),\n",
    "                join_hist_array(train_history.history['binary_accuracy']),\n",
    "                join_hist_array(train_history.history['val_binary_accuracy']),\n",
    "            ]) + \"\\n\"\n",
    "            file.write(file_text)"
   ]
  },
  {
   "cell_type": "markdown",
   "metadata": {},
   "source": [
    "### BERT model with 256 input size\n",
    "* Evaluate classifying individual tweets using the BERT model with a hidden size of 256, 12 hidden layers, and 4 attention heads: https://tfhub.dev/tensorflow/small_bert/bert_en_uncased_L-12_H-256_A-4/1\n",
    "* Investigate using the following combinations:\n",
    "    * Batch sizes of: [8, 16, 24, 32]\n",
    "    * Epochs of: [10]\n",
    "    * Learning rates of: [5e-5, 3e-5, 2e-5]\n",
    "    * Optimizers: [Adam, Adam with weight decay (AdamW)]"
   ]
  },
  {
   "cell_type": "code",
   "execution_count": 8,
   "metadata": {},
   "outputs": [],
   "source": [
    "bert_url = \"https://tfhub.dev/tensorflow/small_bert/bert_en_uncased_L-12_H-256_A-4/1\"\n",
    "bert_size = 256\n",
    "models = [(batch_size, epochs, lr, optimizer_name)\n",
    "         for batch_size in [8, 16, 24, 32]\n",
    "         for epochs in [10]\n",
    "         for lr in [5e-5, 3e-5, 2e-5]\n",
    "         for optimizer_name in ['adam', 'adamw']]\n",
    "\n",
    "model_path = \"training/bert_feed/initial_eval/\"\n",
    "\n",
    "\n",
    "for batch_size, epochs, lr, optimizer_name in models:\n",
    "    with tf.device(('/gpu:0' if batch_size < 32 else '/cpu:0')):\n",
    "        model_name = f\"bert256-batch_size{batch_size}-epochs{epochs}-lr{lr}-optimizer{optimizer_name}\"\n",
    "        model_handler = bclf.BertModelEvalHandler(\n",
    "            bert_url, bert_size, bclf.BertTweetFeedTokenizer, bclf.dense_bert_model)\n",
    "\n",
    "        train_history = model_handler.train_bert(\n",
    "            tweet_train_processed,\n",
    "            label_train,\n",
    "            batch_size,\n",
    "            epochs,\n",
    "            tweet_val_processed,\n",
    "            label_val,\n",
    "            optimizer_name,\n",
    "            lr,\n",
    "            model_path + model_name + \"/cp.ckpt\",\n",
    "            model_path + \"logs/\" + model_name,\n",
    "        )\n",
    "\n",
    "        text = f\"Finished training {model_name}, training history was:\\n{train_history.history}\"\n",
    "        print(text)\n",
    "        send_email(text)\n",
    "        with open(model_path+\"train_history.txt\", \"a\") as file:\n",
    "            name = f\"F_{bert_size}_{batch_size}_{str(lr)[0]}_{'A' if optimizer_name == 'adam' else 'AW'}\"\n",
    "            file_text = \", ,\".join([\n",
    "                \",\".join([bert_size, batch_size, lr, optimizer_name, name]), \n",
    "                \",\".join(train_history.history['loss']),\n",
    "                \",\".join(train_history.history['val_loss']),\n",
    "                \",\".join(train_history.history['binary_accuracy']),\n",
    "                \",\".join(train_history.history['val_binary_accuracy']),\n",
    "            ])\n",
    "            file.write(file_text)"
   ]
  },
  {
   "cell_type": "markdown",
   "metadata": {},
   "source": [
    "# Preprocessing functions\n",
    "* I selected the top performing BERT models: \n",
    "    * I_128_40_5_AW, I_256_8_5_AW, F_128_8_2_AW, F_128_16_2_AW, F_128_24_2_AW, F_128_32_3_AW, F_128_32_5_AW, F_128_40_5_AW, F_256_24_5_AW, F_256_64_2_AW, F_256_64_5_AW, F_256_80_5_AW\n",
    "    * ({model type (individual/feed)}-{bert size}-{batch size}-{learning rate}-{optimizer (adam/adam with weight decay)})\n",
    "\n",
    "\n",
    "* Train using different preprocessing functions on the input data:\n",
    "    * No preprocessing functions (raw data)\n",
    "    * Remove emojis, remove accented chars, replace tags\n",
    "    * Remove emojis, remove accented chars, replace tags, remove punctuation, tag numbers\n",
    "    * Remove emojis, remove accented chars, replace tags, remove punctuation, tag numbers, remove stopwords\n",
    "    * Embed emojis, remove accented chars, replace tags, remove punctuation, tag numbers\n",
    "    * Embed emojis, remove accented chars, replace tags, remove punctuation, tag numbers, remove stopwords"
   ]
  },
  {
   "cell_type": "code",
   "execution_count": 21,
   "metadata": {},
   "outputs": [],
   "source": [
    "def preprocess_funcs_search(processing_funcs, model_params, X_train, y_train, X_val, y_val, save_path):\n",
    "    for funcs in processing_funcs:\n",
    "        preprocessor = processing.BertTweetFeedDataPreprocessor(transformers=funcs)\n",
    "        X_train_processed = preprocessor.transform(X_train)\n",
    "        X_val_processed = preprocessor.transform(X_val)\n",
    "        \n",
    "        with open(save_path + \"train_history.txt\", \"a\") as file:\n",
    "            file.write(f\"\\n-----Preprocessing funcs are: {funcs}\")\n",
    "\n",
    "        for params in model_params:\n",
    "            bert_size = params[\"bert_size\"]\n",
    "            lr = params[\"learning_rate\"]\n",
    "            optimizer_name = params[\"optimizer\"]\n",
    "            batch_size = params[\"batch_size\"]\n",
    "            epochs = 16\n",
    "            name = f\"{params['model_type']}_{bert_size}_{str(lr)[0]}_{'A' if optimizer_name == 'adam' else 'AW'}\"\n",
    "\n",
    "            model_handler = bclf.BertModelEvalHandler(\n",
    "                params[\"bert_url\"], bert_size, params[\"tokenizer\"], bclf.dense_bert_model)\n",
    "\n",
    "            with tf.device(('/gpu:0' if batch_size < 32 else '/cpu:0')):\n",
    "                train_history = model_handler.train_bert(\n",
    "                    X_train_processed,\n",
    "                    y_train,\n",
    "                    batch_size,\n",
    "                    epochs,\n",
    "                    X_val_processed,\n",
    "                    y_val,\n",
    "                    optimizer_name,\n",
    "                    lr,\n",
    "                    save_path + name + \"/cp.ckpt\",\n",
    "                    save_path + \"logs/\" + name,\n",
    "                )\n",
    "\n",
    "            file_text = \", ,\".join([\n",
    "                \",\".join([bert_size, batch_size, lr, optimizer_name, name]), \n",
    "                \",\".join(train_history.history['loss']),\n",
    "                \",\".join(train_history.history['val_loss']),\n",
    "                \",\".join(train_history.history['binary_accuracy']),\n",
    "                \",\".join(train_history.history['val_binary_accuracy']),\n",
    "            ])\n",
    "            with open(save_path + \"train_history.txt\", \"a\") as file:\n",
    "                file.write(file_text)\n",
    "        \n",
    "        send_email(\"Finished training\")"
   ]
  },
  {
   "cell_type": "code",
   "execution_count": 22,
   "metadata": {},
   "outputs": [
    {
     "name": "stdout",
     "output_type": "stream",
     "text": [
      "Epoch 1/16\n",
      "  1/600 [..............................] - ETA: 0s - loss: 0.7889 - binary_accuracy: 0.4750WARNING:tensorflow:From c:\\users\\joshh\\desktop\\uni\\soton year 3\\comp3200\\fake-news-profiling\\venv\\lib\\site-packages\\tensorflow\\python\\ops\\summary_ops_v2.py:1277: stop (from tensorflow.python.eager.profiler) is deprecated and will be removed after 2020-07-01.\n",
      "Instructions for updating:\n",
      "use `tf.profiler.experimental.stop` instead.\n"
     ]
    },
    {
     "name": "stderr",
     "output_type": "stream",
     "text": [
      "WARNING:tensorflow:From c:\\users\\joshh\\desktop\\uni\\soton year 3\\comp3200\\fake-news-profiling\\venv\\lib\\site-packages\\tensorflow\\python\\ops\\summary_ops_v2.py:1277: stop (from tensorflow.python.eager.profiler) is deprecated and will be removed after 2020-07-01.\n",
      "Instructions for updating:\n",
      "use `tf.profiler.experimental.stop` instead.\n"
     ]
    },
    {
     "name": "stdout",
     "output_type": "stream",
     "text": [
      " 87/600 [===>..........................] - ETA: 11:33 - loss: 0.7472 - binary_accuracy: 0.5095"
     ]
    },
    {
     "ename": "KeyboardInterrupt",
     "evalue": "",
     "output_type": "error",
     "traceback": [
      "\u001b[1;31m---------------------------------------------------------------------------\u001b[0m",
      "\u001b[1;31mKeyboardInterrupt\u001b[0m                         Traceback (most recent call last)",
      "\u001b[1;32m<ipython-input-22-64602d609485>\u001b[0m in \u001b[0;36m<module>\u001b[1;34m\u001b[0m\n\u001b[0;32m    131\u001b[0m     \u001b[0mX_val\u001b[0m\u001b[1;33m=\u001b[0m\u001b[0mtweet_val\u001b[0m\u001b[1;33m,\u001b[0m\u001b[1;33m\u001b[0m\u001b[1;33m\u001b[0m\u001b[0m\n\u001b[0;32m    132\u001b[0m     \u001b[0my_val\u001b[0m\u001b[1;33m=\u001b[0m\u001b[0mlabel_val\u001b[0m\u001b[1;33m,\u001b[0m\u001b[1;33m\u001b[0m\u001b[1;33m\u001b[0m\u001b[0m\n\u001b[1;32m--> 133\u001b[1;33m     \u001b[0msave_path\u001b[0m\u001b[1;33m=\u001b[0m\u001b[1;34m\"training/preprocessing/initial_eval/\"\u001b[0m\u001b[1;33m,\u001b[0m\u001b[1;33m\u001b[0m\u001b[1;33m\u001b[0m\u001b[0m\n\u001b[0m\u001b[0;32m    134\u001b[0m )\n",
      "\u001b[1;32m<ipython-input-21-500d1062b0dc>\u001b[0m in \u001b[0;36mpreprocess_funcs_search\u001b[1;34m(processing_funcs, model_params, X_train, y_train, X_val, y_val, save_path)\u001b[0m\n\u001b[0;32m     30\u001b[0m                     \u001b[0mlr\u001b[0m\u001b[1;33m,\u001b[0m\u001b[1;33m\u001b[0m\u001b[1;33m\u001b[0m\u001b[0m\n\u001b[0;32m     31\u001b[0m                     \u001b[0msave_path\u001b[0m \u001b[1;33m+\u001b[0m \u001b[0mname\u001b[0m \u001b[1;33m+\u001b[0m \u001b[1;34m\"/cp.ckpt\"\u001b[0m\u001b[1;33m,\u001b[0m\u001b[1;33m\u001b[0m\u001b[1;33m\u001b[0m\u001b[0m\n\u001b[1;32m---> 32\u001b[1;33m                     \u001b[0msave_path\u001b[0m \u001b[1;33m+\u001b[0m \u001b[1;34m\"logs/\"\u001b[0m \u001b[1;33m+\u001b[0m \u001b[0mname\u001b[0m\u001b[1;33m,\u001b[0m\u001b[1;33m\u001b[0m\u001b[1;33m\u001b[0m\u001b[0m\n\u001b[0m\u001b[0;32m     33\u001b[0m                 )\n\u001b[0;32m     34\u001b[0m \u001b[1;33m\u001b[0m\u001b[0m\n",
      "\u001b[1;32m~\\Desktop\\Uni\\Soton Year 3\\COMP3200\\fake-news-profiling\\classifier\\bert_fake_news_classifier.ipynb\u001b[0m in \u001b[0;36mtrain_bert\u001b[1;34m(self, X, y, batch_size, epochs, X_validation, y_validation, optimizer_name, lr, checkpoint_path, tensorboard_path)\u001b[0m\n\u001b[0;32m    204\u001b[0m     \u001b[1;34m\"def create_bert_model_lstm(encoder, input_size, **kwargs):\\n\"\u001b[0m\u001b[1;33m,\u001b[0m\u001b[1;33m\u001b[0m\u001b[1;33m\u001b[0m\u001b[0m\n\u001b[0;32m    205\u001b[0m     \u001b[1;34m\"    bert_pooled_output = base_bert_model(encoder, input_size)['pooled_output']\\n\"\u001b[0m\u001b[1;33m,\u001b[0m\u001b[1;33m\u001b[0m\u001b[1;33m\u001b[0m\u001b[0m\n\u001b[1;32m--> 206\u001b[1;33m     \u001b[1;34m\"\\n\"\u001b[0m\u001b[1;33m,\u001b[0m\u001b[1;33m\u001b[0m\u001b[1;33m\u001b[0m\u001b[0m\n\u001b[0m\u001b[0;32m    207\u001b[0m     \u001b[1;34m\"    # LSTM layer output\\n\"\u001b[0m\u001b[1;33m,\u001b[0m\u001b[1;33m\u001b[0m\u001b[1;33m\u001b[0m\u001b[0m\n\u001b[0;32m    208\u001b[0m     \u001b[1;34m\"    dense_output = LSTM(1, **kwargs)(bert_pooled_output)\\n\"\u001b[0m\u001b[1;33m,\u001b[0m\u001b[1;33m\u001b[0m\u001b[1;33m\u001b[0m\u001b[0m\n",
      "\u001b[1;32mc:\\users\\joshh\\desktop\\uni\\soton year 3\\comp3200\\fake-news-profiling\\venv\\lib\\site-packages\\tensorflow\\python\\keras\\engine\\training.py\u001b[0m in \u001b[0;36m_method_wrapper\u001b[1;34m(self, *args, **kwargs)\u001b[0m\n\u001b[0;32m    106\u001b[0m   \u001b[1;32mdef\u001b[0m \u001b[0m_method_wrapper\u001b[0m\u001b[1;33m(\u001b[0m\u001b[0mself\u001b[0m\u001b[1;33m,\u001b[0m \u001b[1;33m*\u001b[0m\u001b[0margs\u001b[0m\u001b[1;33m,\u001b[0m \u001b[1;33m**\u001b[0m\u001b[0mkwargs\u001b[0m\u001b[1;33m)\u001b[0m\u001b[1;33m:\u001b[0m\u001b[1;33m\u001b[0m\u001b[1;33m\u001b[0m\u001b[0m\n\u001b[0;32m    107\u001b[0m     \u001b[1;32mif\u001b[0m \u001b[1;32mnot\u001b[0m \u001b[0mself\u001b[0m\u001b[1;33m.\u001b[0m\u001b[0m_in_multi_worker_mode\u001b[0m\u001b[1;33m(\u001b[0m\u001b[1;33m)\u001b[0m\u001b[1;33m:\u001b[0m  \u001b[1;31m# pylint: disable=protected-access\u001b[0m\u001b[1;33m\u001b[0m\u001b[1;33m\u001b[0m\u001b[0m\n\u001b[1;32m--> 108\u001b[1;33m       \u001b[1;32mreturn\u001b[0m \u001b[0mmethod\u001b[0m\u001b[1;33m(\u001b[0m\u001b[0mself\u001b[0m\u001b[1;33m,\u001b[0m \u001b[1;33m*\u001b[0m\u001b[0margs\u001b[0m\u001b[1;33m,\u001b[0m \u001b[1;33m**\u001b[0m\u001b[0mkwargs\u001b[0m\u001b[1;33m)\u001b[0m\u001b[1;33m\u001b[0m\u001b[1;33m\u001b[0m\u001b[0m\n\u001b[0m\u001b[0;32m    109\u001b[0m \u001b[1;33m\u001b[0m\u001b[0m\n\u001b[0;32m    110\u001b[0m     \u001b[1;31m# Running inside `run_distribute_coordinator` already.\u001b[0m\u001b[1;33m\u001b[0m\u001b[1;33m\u001b[0m\u001b[1;33m\u001b[0m\u001b[0m\n",
      "\u001b[1;32mc:\\users\\joshh\\desktop\\uni\\soton year 3\\comp3200\\fake-news-profiling\\venv\\lib\\site-packages\\tensorflow\\python\\keras\\engine\\training.py\u001b[0m in \u001b[0;36mfit\u001b[1;34m(self, x, y, batch_size, epochs, verbose, callbacks, validation_split, validation_data, shuffle, class_weight, sample_weight, initial_epoch, steps_per_epoch, validation_steps, validation_batch_size, validation_freq, max_queue_size, workers, use_multiprocessing)\u001b[0m\n\u001b[0;32m   1096\u001b[0m                 batch_size=batch_size):\n\u001b[0;32m   1097\u001b[0m               \u001b[0mcallbacks\u001b[0m\u001b[1;33m.\u001b[0m\u001b[0mon_train_batch_begin\u001b[0m\u001b[1;33m(\u001b[0m\u001b[0mstep\u001b[0m\u001b[1;33m)\u001b[0m\u001b[1;33m\u001b[0m\u001b[1;33m\u001b[0m\u001b[0m\n\u001b[1;32m-> 1098\u001b[1;33m               \u001b[0mtmp_logs\u001b[0m \u001b[1;33m=\u001b[0m \u001b[0mtrain_function\u001b[0m\u001b[1;33m(\u001b[0m\u001b[0miterator\u001b[0m\u001b[1;33m)\u001b[0m\u001b[1;33m\u001b[0m\u001b[1;33m\u001b[0m\u001b[0m\n\u001b[0m\u001b[0;32m   1099\u001b[0m               \u001b[1;32mif\u001b[0m \u001b[0mdata_handler\u001b[0m\u001b[1;33m.\u001b[0m\u001b[0mshould_sync\u001b[0m\u001b[1;33m:\u001b[0m\u001b[1;33m\u001b[0m\u001b[1;33m\u001b[0m\u001b[0m\n\u001b[0;32m   1100\u001b[0m                 \u001b[0mcontext\u001b[0m\u001b[1;33m.\u001b[0m\u001b[0masync_wait\u001b[0m\u001b[1;33m(\u001b[0m\u001b[1;33m)\u001b[0m\u001b[1;33m\u001b[0m\u001b[1;33m\u001b[0m\u001b[0m\n",
      "\u001b[1;32mc:\\users\\joshh\\desktop\\uni\\soton year 3\\comp3200\\fake-news-profiling\\venv\\lib\\site-packages\\tensorflow\\python\\eager\\def_function.py\u001b[0m in \u001b[0;36m__call__\u001b[1;34m(self, *args, **kwds)\u001b[0m\n\u001b[0;32m    778\u001b[0m       \u001b[1;32melse\u001b[0m\u001b[1;33m:\u001b[0m\u001b[1;33m\u001b[0m\u001b[1;33m\u001b[0m\u001b[0m\n\u001b[0;32m    779\u001b[0m         \u001b[0mcompiler\u001b[0m \u001b[1;33m=\u001b[0m \u001b[1;34m\"nonXla\"\u001b[0m\u001b[1;33m\u001b[0m\u001b[1;33m\u001b[0m\u001b[0m\n\u001b[1;32m--> 780\u001b[1;33m         \u001b[0mresult\u001b[0m \u001b[1;33m=\u001b[0m \u001b[0mself\u001b[0m\u001b[1;33m.\u001b[0m\u001b[0m_call\u001b[0m\u001b[1;33m(\u001b[0m\u001b[1;33m*\u001b[0m\u001b[0margs\u001b[0m\u001b[1;33m,\u001b[0m \u001b[1;33m**\u001b[0m\u001b[0mkwds\u001b[0m\u001b[1;33m)\u001b[0m\u001b[1;33m\u001b[0m\u001b[1;33m\u001b[0m\u001b[0m\n\u001b[0m\u001b[0;32m    781\u001b[0m \u001b[1;33m\u001b[0m\u001b[0m\n\u001b[0;32m    782\u001b[0m       \u001b[0mnew_tracing_count\u001b[0m \u001b[1;33m=\u001b[0m \u001b[0mself\u001b[0m\u001b[1;33m.\u001b[0m\u001b[0m_get_tracing_count\u001b[0m\u001b[1;33m(\u001b[0m\u001b[1;33m)\u001b[0m\u001b[1;33m\u001b[0m\u001b[1;33m\u001b[0m\u001b[0m\n",
      "\u001b[1;32mc:\\users\\joshh\\desktop\\uni\\soton year 3\\comp3200\\fake-news-profiling\\venv\\lib\\site-packages\\tensorflow\\python\\eager\\def_function.py\u001b[0m in \u001b[0;36m_call\u001b[1;34m(self, *args, **kwds)\u001b[0m\n\u001b[0;32m    805\u001b[0m       \u001b[1;31m# In this case we have created variables on the first call, so we run the\u001b[0m\u001b[1;33m\u001b[0m\u001b[1;33m\u001b[0m\u001b[1;33m\u001b[0m\u001b[0m\n\u001b[0;32m    806\u001b[0m       \u001b[1;31m# defunned version which is guaranteed to never create variables.\u001b[0m\u001b[1;33m\u001b[0m\u001b[1;33m\u001b[0m\u001b[1;33m\u001b[0m\u001b[0m\n\u001b[1;32m--> 807\u001b[1;33m       \u001b[1;32mreturn\u001b[0m \u001b[0mself\u001b[0m\u001b[1;33m.\u001b[0m\u001b[0m_stateless_fn\u001b[0m\u001b[1;33m(\u001b[0m\u001b[1;33m*\u001b[0m\u001b[0margs\u001b[0m\u001b[1;33m,\u001b[0m \u001b[1;33m**\u001b[0m\u001b[0mkwds\u001b[0m\u001b[1;33m)\u001b[0m  \u001b[1;31m# pylint: disable=not-callable\u001b[0m\u001b[1;33m\u001b[0m\u001b[1;33m\u001b[0m\u001b[0m\n\u001b[0m\u001b[0;32m    808\u001b[0m     \u001b[1;32melif\u001b[0m \u001b[0mself\u001b[0m\u001b[1;33m.\u001b[0m\u001b[0m_stateful_fn\u001b[0m \u001b[1;32mis\u001b[0m \u001b[1;32mnot\u001b[0m \u001b[1;32mNone\u001b[0m\u001b[1;33m:\u001b[0m\u001b[1;33m\u001b[0m\u001b[1;33m\u001b[0m\u001b[0m\n\u001b[0;32m    809\u001b[0m       \u001b[1;31m# Release the lock early so that multiple threads can perform the call\u001b[0m\u001b[1;33m\u001b[0m\u001b[1;33m\u001b[0m\u001b[1;33m\u001b[0m\u001b[0m\n",
      "\u001b[1;32mc:\\users\\joshh\\desktop\\uni\\soton year 3\\comp3200\\fake-news-profiling\\venv\\lib\\site-packages\\tensorflow\\python\\eager\\function.py\u001b[0m in \u001b[0;36m__call__\u001b[1;34m(self, *args, **kwargs)\u001b[0m\n\u001b[0;32m   2827\u001b[0m     \u001b[1;32mwith\u001b[0m \u001b[0mself\u001b[0m\u001b[1;33m.\u001b[0m\u001b[0m_lock\u001b[0m\u001b[1;33m:\u001b[0m\u001b[1;33m\u001b[0m\u001b[1;33m\u001b[0m\u001b[0m\n\u001b[0;32m   2828\u001b[0m       \u001b[0mgraph_function\u001b[0m\u001b[1;33m,\u001b[0m \u001b[0margs\u001b[0m\u001b[1;33m,\u001b[0m \u001b[0mkwargs\u001b[0m \u001b[1;33m=\u001b[0m \u001b[0mself\u001b[0m\u001b[1;33m.\u001b[0m\u001b[0m_maybe_define_function\u001b[0m\u001b[1;33m(\u001b[0m\u001b[0margs\u001b[0m\u001b[1;33m,\u001b[0m \u001b[0mkwargs\u001b[0m\u001b[1;33m)\u001b[0m\u001b[1;33m\u001b[0m\u001b[1;33m\u001b[0m\u001b[0m\n\u001b[1;32m-> 2829\u001b[1;33m     \u001b[1;32mreturn\u001b[0m \u001b[0mgraph_function\u001b[0m\u001b[1;33m.\u001b[0m\u001b[0m_filtered_call\u001b[0m\u001b[1;33m(\u001b[0m\u001b[0margs\u001b[0m\u001b[1;33m,\u001b[0m \u001b[0mkwargs\u001b[0m\u001b[1;33m)\u001b[0m  \u001b[1;31m# pylint: disable=protected-access\u001b[0m\u001b[1;33m\u001b[0m\u001b[1;33m\u001b[0m\u001b[0m\n\u001b[0m\u001b[0;32m   2830\u001b[0m \u001b[1;33m\u001b[0m\u001b[0m\n\u001b[0;32m   2831\u001b[0m   \u001b[1;33m@\u001b[0m\u001b[0mproperty\u001b[0m\u001b[1;33m\u001b[0m\u001b[1;33m\u001b[0m\u001b[0m\n",
      "\u001b[1;32mc:\\users\\joshh\\desktop\\uni\\soton year 3\\comp3200\\fake-news-profiling\\venv\\lib\\site-packages\\tensorflow\\python\\eager\\function.py\u001b[0m in \u001b[0;36m_filtered_call\u001b[1;34m(self, args, kwargs, cancellation_manager)\u001b[0m\n\u001b[0;32m   1846\u001b[0m                            resource_variable_ops.BaseResourceVariable))],\n\u001b[0;32m   1847\u001b[0m         \u001b[0mcaptured_inputs\u001b[0m\u001b[1;33m=\u001b[0m\u001b[0mself\u001b[0m\u001b[1;33m.\u001b[0m\u001b[0mcaptured_inputs\u001b[0m\u001b[1;33m,\u001b[0m\u001b[1;33m\u001b[0m\u001b[1;33m\u001b[0m\u001b[0m\n\u001b[1;32m-> 1848\u001b[1;33m         cancellation_manager=cancellation_manager)\n\u001b[0m\u001b[0;32m   1849\u001b[0m \u001b[1;33m\u001b[0m\u001b[0m\n\u001b[0;32m   1850\u001b[0m   \u001b[1;32mdef\u001b[0m \u001b[0m_call_flat\u001b[0m\u001b[1;33m(\u001b[0m\u001b[0mself\u001b[0m\u001b[1;33m,\u001b[0m \u001b[0margs\u001b[0m\u001b[1;33m,\u001b[0m \u001b[0mcaptured_inputs\u001b[0m\u001b[1;33m,\u001b[0m \u001b[0mcancellation_manager\u001b[0m\u001b[1;33m=\u001b[0m\u001b[1;32mNone\u001b[0m\u001b[1;33m)\u001b[0m\u001b[1;33m:\u001b[0m\u001b[1;33m\u001b[0m\u001b[1;33m\u001b[0m\u001b[0m\n",
      "\u001b[1;32mc:\\users\\joshh\\desktop\\uni\\soton year 3\\comp3200\\fake-news-profiling\\venv\\lib\\site-packages\\tensorflow\\python\\eager\\function.py\u001b[0m in \u001b[0;36m_call_flat\u001b[1;34m(self, args, captured_inputs, cancellation_manager)\u001b[0m\n\u001b[0;32m   1922\u001b[0m       \u001b[1;31m# No tape is watching; skip to running the function.\u001b[0m\u001b[1;33m\u001b[0m\u001b[1;33m\u001b[0m\u001b[1;33m\u001b[0m\u001b[0m\n\u001b[0;32m   1923\u001b[0m       return self._build_call_outputs(self._inference_function.call(\n\u001b[1;32m-> 1924\u001b[1;33m           ctx, args, cancellation_manager=cancellation_manager))\n\u001b[0m\u001b[0;32m   1925\u001b[0m     forward_backward = self._select_forward_and_backward_functions(\n\u001b[0;32m   1926\u001b[0m         \u001b[0margs\u001b[0m\u001b[1;33m,\u001b[0m\u001b[1;33m\u001b[0m\u001b[1;33m\u001b[0m\u001b[0m\n",
      "\u001b[1;32mc:\\users\\joshh\\desktop\\uni\\soton year 3\\comp3200\\fake-news-profiling\\venv\\lib\\site-packages\\tensorflow\\python\\eager\\function.py\u001b[0m in \u001b[0;36mcall\u001b[1;34m(self, ctx, args, cancellation_manager)\u001b[0m\n\u001b[0;32m    548\u001b[0m               \u001b[0minputs\u001b[0m\u001b[1;33m=\u001b[0m\u001b[0margs\u001b[0m\u001b[1;33m,\u001b[0m\u001b[1;33m\u001b[0m\u001b[1;33m\u001b[0m\u001b[0m\n\u001b[0;32m    549\u001b[0m               \u001b[0mattrs\u001b[0m\u001b[1;33m=\u001b[0m\u001b[0mattrs\u001b[0m\u001b[1;33m,\u001b[0m\u001b[1;33m\u001b[0m\u001b[1;33m\u001b[0m\u001b[0m\n\u001b[1;32m--> 550\u001b[1;33m               ctx=ctx)\n\u001b[0m\u001b[0;32m    551\u001b[0m         \u001b[1;32melse\u001b[0m\u001b[1;33m:\u001b[0m\u001b[1;33m\u001b[0m\u001b[1;33m\u001b[0m\u001b[0m\n\u001b[0;32m    552\u001b[0m           outputs = execute.execute_with_cancellation(\n",
      "\u001b[1;32mc:\\users\\joshh\\desktop\\uni\\soton year 3\\comp3200\\fake-news-profiling\\venv\\lib\\site-packages\\tensorflow\\python\\eager\\execute.py\u001b[0m in \u001b[0;36mquick_execute\u001b[1;34m(op_name, num_outputs, inputs, attrs, ctx, name)\u001b[0m\n\u001b[0;32m     58\u001b[0m     \u001b[0mctx\u001b[0m\u001b[1;33m.\u001b[0m\u001b[0mensure_initialized\u001b[0m\u001b[1;33m(\u001b[0m\u001b[1;33m)\u001b[0m\u001b[1;33m\u001b[0m\u001b[1;33m\u001b[0m\u001b[0m\n\u001b[0;32m     59\u001b[0m     tensors = pywrap_tfe.TFE_Py_Execute(ctx._handle, device_name, op_name,\n\u001b[1;32m---> 60\u001b[1;33m                                         inputs, attrs, num_outputs)\n\u001b[0m\u001b[0;32m     61\u001b[0m   \u001b[1;32mexcept\u001b[0m \u001b[0mcore\u001b[0m\u001b[1;33m.\u001b[0m\u001b[0m_NotOkStatusException\u001b[0m \u001b[1;32mas\u001b[0m \u001b[0me\u001b[0m\u001b[1;33m:\u001b[0m\u001b[1;33m\u001b[0m\u001b[1;33m\u001b[0m\u001b[0m\n\u001b[0;32m     62\u001b[0m     \u001b[1;32mif\u001b[0m \u001b[0mname\u001b[0m \u001b[1;32mis\u001b[0m \u001b[1;32mnot\u001b[0m \u001b[1;32mNone\u001b[0m\u001b[1;33m:\u001b[0m\u001b[1;33m\u001b[0m\u001b[1;33m\u001b[0m\u001b[0m\n",
      "\u001b[1;31mKeyboardInterrupt\u001b[0m: "
     ]
    }
   ],
   "source": [
    "preprocess_funcs_search(\n",
    "    processing_funcs=[\n",
    "        # No preprocessing functions (raw data)\n",
    "        [],\n",
    "        # Remove HTML, replace emojis, remove accented chars, replace tags\n",
    "        [processing.replace_xml_and_html,\n",
    "         processing.replace_emojis, \n",
    "         processing.replace_accented_chars, \n",
    "         processing.replace_tags, \n",
    "         processing.remove_extra_spacing],\n",
    "        # Remove HTML, replace emojis, remove accented chars, replace tags, remove punctuation, tag numbers\n",
    "        [processing.replace_xml_and_html,\n",
    "         processing.replace_emojis, \n",
    "         processing.replace_accented_chars, \n",
    "         processing.remove_punctuation,\n",
    "         processing.replace_tags,\n",
    "         processing.remove_hashtag_chars,\n",
    "         processing.tag_numbers,\n",
    "         processing.remove_extra_spacing],\n",
    "        # Remove HTML, replace emojis, remove accented chars, replace tags, remove punctuation, tag numbers, remove stopwords\n",
    "        [processing.replace_xml_and_html,\n",
    "         processing.replace_emojis, \n",
    "         processing.replace_accented_chars, \n",
    "         processing.remove_punctuation,\n",
    "         processing.replace_tags,\n",
    "         processing.remove_hashtag_chars,\n",
    "         processing.tag_numbers,\n",
    "         processing.remove_stopwords,\n",
    "         processing.remove_extra_spacing],\n",
    "    ],\n",
    "    model_params=[\n",
    "        # I_128_40_5_AW\n",
    "        {\"model_type\": \"I\",\n",
    "         \"bert_size\": 128, \n",
    "         \"learning_rate\": 5e-5, \n",
    "         \"optimizer\": \"adamw\", \n",
    "         \"batch_size\": 40,\n",
    "         \"tokenizer\": bclf.BertIndividualTweetTokenizer, \n",
    "         \"bert_url\": \"https://tfhub.dev/tensorflow/small_bert/bert_en_uncased_L-12_H-128_A-2/1\"},\n",
    "        # I_256_8_5_AW\n",
    "        {\"model_type\": \"I\",\n",
    "         \"bert_size\": 256, \n",
    "         \"learning_rate\": 5e-5, \n",
    "         \"optimizer\": \"adamw\", \n",
    "         \"batch_size\": 8,\n",
    "         \"tokenizer\": bclf.BertIndividualTweetTokenizer, \n",
    "         \"bert_url\": \"https://tfhub.dev/tensorflow/small_bert/bert_en_uncased_L-12_H-256_A-4/1\"},\n",
    "        # F_128_8_2_AW\n",
    "        {\"model_type\": \"F\",\n",
    "         \"bert_size\": 128, \n",
    "         \"learning_rate\": 2e-5, \n",
    "         \"optimizer\": \"adamw\", \n",
    "         \"batch_size\": 8,\n",
    "         \"tokenizer\": bclf.BertTweetFeedTokenizer, \n",
    "         \"bert_url\": \"https://tfhub.dev/tensorflow/small_bert/bert_en_uncased_L-12_H-128_A-2/1\"},\n",
    "        # F_128_16_2_AW\n",
    "        {\"model_type\": \"F\",\n",
    "         \"bert_size\": 128, \n",
    "         \"learning_rate\": 2e-5, \n",
    "         \"optimizer\": \"adamw\", \n",
    "         \"batch_size\": 16,\n",
    "         \"tokenizer\": bclf.BertTweetFeedTokenizer, \n",
    "         \"bert_url\": \"https://tfhub.dev/tensorflow/small_bert/bert_en_uncased_L-12_H-128_A-2/1\"},\n",
    "        # F_128_24_2_AW\n",
    "        {\"model_type\": \"F\",\n",
    "         \"bert_size\": 128, \n",
    "         \"learning_rate\": 2e-5, \n",
    "         \"optimizer\": \"adamw\", \n",
    "         \"batch_size\": 24,\n",
    "         \"tokenizer\": bclf.BertTweetFeedTokenizer, \n",
    "         \"bert_url\": \"https://tfhub.dev/tensorflow/small_bert/bert_en_uncased_L-12_H-128_A-2/1\"},\n",
    "        # F_128_32_3_AW\n",
    "        {\"model_type\": \"F\",\n",
    "         \"bert_size\": 128, \n",
    "         \"learning_rate\": 3e-5, \n",
    "         \"optimizer\": \"adamw\", \n",
    "         \"batch_size\": 32,\n",
    "         \"tokenizer\": bclf.BertTweetFeedTokenizer, \n",
    "         \"bert_url\": \"https://tfhub.dev/tensorflow/small_bert/bert_en_uncased_L-12_H-128_A-2/1\"},\n",
    "        # F_128_32_5_AW\n",
    "        {\"model_type\": \"F\",\n",
    "         \"bert_size\": 128, \n",
    "         \"learning_rate\": 5e-5, \n",
    "         \"optimizer\": \"adamw\", \n",
    "         \"batch_size\": 32,\n",
    "         \"tokenizer\": bclf.BertTweetFeedTokenizer, \n",
    "         \"bert_url\": \"https://tfhub.dev/tensorflow/small_bert/bert_en_uncased_L-12_H-128_A-2/1\"},\n",
    "        # F_128_40_5_AW\n",
    "        {\"model_type\": \"F\",\n",
    "         \"bert_size\": 128, \n",
    "         \"learning_rate\": 5e-5, \n",
    "         \"optimizer\": \"adamw\", \n",
    "         \"batch_size\": 40,\n",
    "         \"tokenizer\": bclf.BertTweetFeedTokenizer, \n",
    "         \"bert_url\": \"https://tfhub.dev/tensorflow/small_bert/bert_en_uncased_L-12_H-128_A-2/1\"},\n",
    "        # F_256_24_5_AW\n",
    "        {\"model_type\": \"F\",\n",
    "         \"bert_size\": 256, \n",
    "         \"learning_rate\": 5e-5, \n",
    "         \"optimizer\": \"adamw\", \n",
    "         \"batch_size\": 24,\n",
    "         \"tokenizer\": bclf.BertTweetFeedTokenizer, \n",
    "         \"bert_url\": \"https://tfhub.dev/tensorflow/small_bert/bert_en_uncased_L-12_H-256_A-4/1\"},\n",
    "        # F_256_64_2_AW\n",
    "        {\"model_type\": \"F\",\n",
    "         \"bert_size\": 256, \n",
    "         \"learning_rate\": 2e-5, \n",
    "         \"optimizer\": \"adamw\", \n",
    "         \"batch_size\": 64,\n",
    "         \"tokenizer\": bclf.BertTweetFeedTokenizer, \n",
    "         \"bert_url\": \"https://tfhub.dev/tensorflow/small_bert/bert_en_uncased_L-12_H-256_A-4/1\"},\n",
    "        # F_256_64_5_AW\n",
    "        {\"model_type\": \"F\",\n",
    "         \"bert_size\": 256, \n",
    "         \"learning_rate\": 5e-5, \n",
    "         \"optimizer\": \"adamw\", \n",
    "         \"batch_size\": 64,\n",
    "         \"tokenizer\": bclf.BertTweetFeedTokenizer, \n",
    "         \"bert_url\": \"https://tfhub.dev/tensorflow/small_bert/bert_en_uncased_L-12_H-256_A-4/1\"},\n",
    "        # F_256_80_5_AW\n",
    "        {\"model_type\": \"F\",\n",
    "         \"bert_size\": 256, \n",
    "         \"learning_rate\": 5e-5, \n",
    "         \"optimizer\": \"adamw\", \n",
    "         \"batch_size\": 80,\n",
    "         \"tokenizer\": bclf.BertTweetFeedTokenizer, \n",
    "         \"bert_url\": \"https://tfhub.dev/tensorflow/small_bert/bert_en_uncased_L-12_H-256_A-4/1\"},\n",
    "    ],\n",
    "    X_train=tweet_train,\n",
    "    y_train=label_train,\n",
    "    X_val=tweet_val,\n",
    "    y_val=label_val,\n",
    "    save_path=\"training/preprocessing/initial_eval/\",\n",
    ")"
   ]
  },
  {
   "cell_type": "code",
   "execution_count": null,
   "metadata": {},
   "outputs": [],
   "source": []
  },
  {
   "cell_type": "code",
   "execution_count": null,
   "metadata": {},
   "outputs": [],
   "source": []
  },
  {
   "cell_type": "markdown",
   "metadata": {},
   "source": [
    "### Final training + classification\n",
    "* Picked the best performing models after initial evaluation and train them\n",
    "* Using these models, I added a final (separate) classifier over their predictions. Below I investigate the performance of different classifiers\n",
    "\n",
    "Top 5 models:\n",
    "* batch_size=32, epochs=1, learning_rate=5e-5, bert_size=128, optimizer=Adam\n",
    "* batch_size=40, epochs=3, learning_rate=2e-5, bert_size=128, optimizer=Adam\n",
    "* batch_size=32, epochs=5, learning_rate=3e-5, bert_size=128, optimizer=AdamW\n",
    "* batch_size=16, epochs=3, learning_rate=3e-5, bert_size=128, optimizer=AdamW\n",
    "* batch_size=16, epochs=7, learning_rate=3e-5, bert_size=256, optimizer=AdamW"
   ]
  },
  {
   "cell_type": "code",
   "execution_count": 50,
   "metadata": {},
   "outputs": [],
   "source": [
    "from sklearn.model_selection import GridSearchCV\n",
    "from sklearn.linear_model import LogisticRegression\n",
    "from sklearn.svm import SVC\n",
    "from sklearn.ensemble import RandomForestClassifier, GradientBoostingClassifier\n",
    "from sklearn.metrics import accuracy_score, f1_score, log_loss"
   ]
  },
  {
   "cell_type": "code",
   "execution_count": 51,
   "metadata": {},
   "outputs": [],
   "source": [
    "# Calculate user predictions from individual tweet data\n",
    "def calculate_user_predictions_from_individual_tweets(model, tweets, labels):\n",
    "    # Get tweets for each user\n",
    "    tweets_per_user = 100\n",
    "    user_tweets = [\n",
    "        {\n",
    "            'input_word_ids': tweets['input_word_ids'][i:i+tweets_per_user],\n",
    "            'input_mask': tweets['input_mask'][i:i+tweets_per_user],\n",
    "            'input_type_ids': tweets['input_type_ids'][i:i+tweets_per_user],\n",
    "        }\n",
    "        for i in range(0, len(tweets['input_word_ids']), tweets_per_user)\n",
    "    ]\n",
    "    user_labels = np.asarray([\n",
    "        labels[i].numpy() for i in range(0, len(labels), tweets_per_user)\n",
    "     ])\n",
    "    \n",
    "    # Evaluate each user\n",
    "    all_predictions = []\n",
    "    for user_label, user_tweet in zip(user_labels, user_tweets):\n",
    "        all_predictions.append(\n",
    "            model.predict(user_tweet).flatten()\n",
    "        )\n",
    "    \n",
    "    return np.asarray(all_predictions), user_labels"
   ]
  },
  {
   "cell_type": "code",
   "execution_count": 66,
   "metadata": {},
   "outputs": [],
   "source": [
    "def train_clf_individual_models(X_train, y_train, X_val, y_val, bert_model_name):\n",
    "    X_train_sorted = np.sort(X_train, axis=1)\n",
    "    X_val_sorted = np.sort(X_val, axis=1)\n",
    "    \n",
    "    def fit_evaluate(estimator, param_grid, estimator_name):\n",
    "        clf = GridSearchCV(\n",
    "            estimator,\n",
    "            param_grid,\n",
    "            scoring=['accuracy', 'f1'],\n",
    "            refit='accuracy',\n",
    "        )\n",
    "        \n",
    "        df_results = []\n",
    "        \n",
    "        # Unsorted datapoints\n",
    "        clf.fit(X_train, y_train)\n",
    "        y_val_pred = clf.predict(X_val)\n",
    "        accuracy = accuracy_score(y_val, y_val_pred)\n",
    "        f1 = f1_score(y_val, y_val_pred)\n",
    "        loss = log_loss(y_val, y_val_pred)\n",
    "        df_results.append(\n",
    "            np.asarray([bert_model_name, estimator_name, \"Unsorted\", loss, accuracy, f1]))\n",
    "        clf_params = clf.best_params_\n",
    "        \n",
    "        # Sorted datapoints\n",
    "        clf.fit(X_train_sorted, y_train)\n",
    "        y_val_pred = clf.predict(X_val_sorted)\n",
    "        accuracy_sorted = accuracy_score(y_val, y_val_pred)\n",
    "        f1_sorted = f1_score(y_val, y_val_pred)\n",
    "        loss_sorted = log_loss(y_val, y_val_pred)\n",
    "        df_results.append(\n",
    "            np.asarray([bert_model_name, estimator_name, \"Sorted\", loss_sorted, accuracy_sorted, f1_sorted]))\n",
    "        clf_params_sorted = clf.best_params_\n",
    "        \n",
    "        return ({\n",
    "            'unsorted-params': {\n",
    "                'params': clf_params,\n",
    "                'accuracy': accuracy,\n",
    "                'f1': f1,\n",
    "                'log_loss': loss,\n",
    "            },\n",
    "            'sorted': {\n",
    "                'params': clf_params_sorted,\n",
    "                'accuracy': accuracy_sorted,\n",
    "                'f1': f1_sorted,\n",
    "                'log_loss': loss_sorted,\n",
    "            }\n",
    "        }, df_results)\n",
    "    \n",
    "    result = {}\n",
    "    df_result = []\n",
    "    \n",
    "    # Logistic Regression\n",
    "    param_grid = {\n",
    "        'penalty': ['l1', 'l2'],\n",
    "        'solver': ['newton-cg', 'lbfgs', 'liblinear', 'sag', 'saga'],\n",
    "        'max_iter': [100, 200],\n",
    "    }\n",
    "    data, df = fit_evaluate(LogisticRegression(), param_grid, 'LogisticRegression')\n",
    "    df_result.append(df)\n",
    "    result['LogisticRegression'] = data\n",
    "    \n",
    "    # Support Vector Classifier\n",
    "    param_grid = {\n",
    "        'kernel': ['linear', 'poly', 'rbf', 'sigmoid'],\n",
    "        'degree': [2, 3, 4, 5],\n",
    "    }\n",
    "    data, df = fit_evaluate(SVC(), param_grid, 'SVC')\n",
    "    df_result.append(df)\n",
    "    result['SVC'] = data\n",
    "\n",
    "    # RandomForest\n",
    "    param_grid = {\n",
    "        'n_estimators': [50, 100, 150, 200],\n",
    "        'criterion': ['gini', 'entropy'],\n",
    "    }\n",
    "    data, df = fit_evaluate(RandomForestClassifier(), param_grid, 'RandomForest')\n",
    "    df_result.append(df)\n",
    "    result['RandomForestClassifier'] = data\n",
    "    \n",
    "    # GradientBoosting\n",
    "    param_grid = {\n",
    "        'loss': ['deviance', 'exponential'],\n",
    "        'learning_rate': [0.2, 0.1, 0.01, 0.001, 0.0001],\n",
    "        'n_estimators': [100, 150, 200],\n",
    "    }\n",
    "    data, df = fit_evaluate(GradientBoostingClassifier(), param_grid, 'GradientBoosting')\n",
    "    df_result.append(df)\n",
    "    result['GradientBoostingClassifier'] = data\n",
    "    \n",
    "    return result, np.asarray(df_result)"
   ]
  },
  {
   "cell_type": "code",
   "execution_count": 67,
   "metadata": {},
   "outputs": [],
   "source": [
    "def train_bert_individual_model(batch_size, epochs, learning_rate, bert_size, optimizer_name):\n",
    "    # Load encoder and tokenizer\n",
    "    if bert_size == 128:\n",
    "        url = \"https://tfhub.dev/tensorflow/small_bert/bert_en_uncased_L-12_H-128_A-2/1\"\n",
    "    elif bert_size == 256:\n",
    "        url = \"https://tfhub.dev/tensorflow/small_bert/bert_en_uncased_L-12_H-256_A-4/1\"\n",
    "    \n",
    "    encoder = hub.KerasLayer(url, trainable=True)\n",
    "    tokenizer = bclf.BertIndividualTweetTokenizer(encoder, bert_size)\n",
    "    \n",
    "    tweet_individual_train = tokenizer.tokenize_input(tweet_train_processed)\n",
    "    label_individual_train = tokenizer.tokenize_labels(label_train)\n",
    "    tweet_individual_val = tokenizer.tokenize_input(tweet_val_processed)\n",
    "    label_individual_val = tokenizer.tokenize_labels(label_val)\n",
    "    \n",
    "    # Callbacks (checkpoint, tensorboard)\n",
    "    name = f\"batch_size{batch_size}-epochs{epochs}-lr{learning_rate}-size{bert_size}\"\n",
    "    path = \"training/bert_individual/loss-testing-full-model-1/\"\n",
    "#     log_dir = path + \"logs/\" + name\n",
    "#     tensorboard = tf.keras.callbacks.TensorBoard(log_dir=log_dir)\n",
    "    \n",
    "    checkpoint_path = path + name + \"/cp.ckpt\"\n",
    "#     checkpoint = ModelCheckpoint(\n",
    "#         filepath=checkpoint_path,\n",
    "#         save_weights_only=True,\n",
    "#         save_best_only=True,\n",
    "#         verbose=1,\n",
    "#     )\n",
    "    \n",
    "    # Optimizer\n",
    "#     if optimizer_name == 'adam':\n",
    "#         optimizer = tf.keras.optimizers.Adam(learning_rate)\n",
    "#     elif optimizer_name == 'adamw':\n",
    "#         steps_per_epoch = len(tweet_individual_train['input_word_ids']) / batch_size\n",
    "#         total_training_steps = epochs * steps_per_epoch\n",
    "#         warmup_steps = int(0.1 * total_training_steps)\n",
    "#         optimizer = optimization.create_optimizer(\n",
    "#             init_lr=learning_rate,\n",
    "#             num_train_steps=total_training_steps,\n",
    "#             num_warmup_steps=warmup_steps,\n",
    "#             optimizer_type='adamw'\n",
    "#         )\n",
    "    \n",
    "    # BERT Model\n",
    "    bert_model = bclf.create_bert_model(encoder, bert_size)\n",
    "#     bert_model.compile(\n",
    "#         optimizer=optimizer, \n",
    "#         loss=tf.keras.losses.BinaryCrossentropy(from_logits=True), \n",
    "#         metrics=tf.metrics.BinaryAccuracy(),\n",
    "#     )\n",
    "\n",
    "    # Train BERT\n",
    "#     bert_model.fit(\n",
    "#         x=tweet_individual_train,\n",
    "#         y=label_individual_train,\n",
    "#         batch_size=batch_size,\n",
    "#         epochs=epochs,\n",
    "#         callbacks=[checkpoint, tensorboard],\n",
    "#         validation_data=(tweet_individual_val, label_individual_val),\n",
    "#     )\n",
    "\n",
    "    print(\"Loading weights for model:\", name)\n",
    "    bert_model.load_weights(checkpoint_path)\n",
    "    print(\"Successfully loaded weights\")\n",
    "    \n",
    "    # Format data for final classifiers\n",
    "    X_train, y_train = calculate_user_predictions_from_individual_tweets(\n",
    "        bert_model, \n",
    "        tweet_individual_train, \n",
    "        label_individual_train,\n",
    "    )\n",
    "    X_val, y_val = calculate_user_predictions_from_individual_tweets(\n",
    "        bert_model, \n",
    "        tweet_individual_val, \n",
    "        label_individual_val,\n",
    "    )\n",
    "    \n",
    "    # Train and evaluate final classifiers\n",
    "    best_clfs_data, best_clfs_df = train_clf_individual_models(X_train, y_train, X_val, y_val, name)\n",
    "    text = f\"Best classifiers for BERT model {name}:\\n{best_clfs_data}\"\n",
    "    print(text)\n",
    "    send_email(text)\n",
    "    return best_clfs_data, best_clfs_df, name"
   ]
  },
  {
   "cell_type": "code",
   "execution_count": 68,
   "metadata": {
    "scrolled": true
   },
   "outputs": [
    {
     "name": "stdout",
     "output_type": "stream",
     "text": [
      "Loading weights for model: batch_size32-epochs10-lr5e-05-size128\n",
      "Successfully loaded weights\n"
     ]
    },
    {
     "name": "stderr",
     "output_type": "stream",
     "text": [
      "c:\\users\\joshh\\desktop\\uni\\soton year 3\\comp3200\\fake-news-profiling\\venv\\lib\\site-packages\\sklearn\\model_selection\\_validation.py:552: FitFailedWarning: Estimator fit failed. The score on this train-test partition for these parameters will be set to nan. Details: \n",
      "Traceback (most recent call last):\n",
      "  File \"c:\\users\\joshh\\desktop\\uni\\soton year 3\\comp3200\\fake-news-profiling\\venv\\lib\\site-packages\\sklearn\\model_selection\\_validation.py\", line 531, in _fit_and_score\n",
      "    estimator.fit(X_train, y_train, **fit_params)\n",
      "  File \"c:\\users\\joshh\\desktop\\uni\\soton year 3\\comp3200\\fake-news-profiling\\venv\\lib\\site-packages\\sklearn\\linear_model\\_logistic.py\", line 1304, in fit\n",
      "    solver = _check_solver(self.solver, self.penalty, self.dual)\n",
      "  File \"c:\\users\\joshh\\desktop\\uni\\soton year 3\\comp3200\\fake-news-profiling\\venv\\lib\\site-packages\\sklearn\\linear_model\\_logistic.py\", line 443, in _check_solver\n",
      "    \"got %s penalty.\" % (solver, penalty))\n",
      "ValueError: Solver newton-cg supports only 'l2' or 'none' penalties, got l1 penalty.\n",
      "\n",
      "  FitFailedWarning)\n",
      "c:\\users\\joshh\\desktop\\uni\\soton year 3\\comp3200\\fake-news-profiling\\venv\\lib\\site-packages\\sklearn\\model_selection\\_validation.py:552: FitFailedWarning: Estimator fit failed. The score on this train-test partition for these parameters will be set to nan. Details: \n",
      "Traceback (most recent call last):\n",
      "  File \"c:\\users\\joshh\\desktop\\uni\\soton year 3\\comp3200\\fake-news-profiling\\venv\\lib\\site-packages\\sklearn\\model_selection\\_validation.py\", line 531, in _fit_and_score\n",
      "    estimator.fit(X_train, y_train, **fit_params)\n",
      "  File \"c:\\users\\joshh\\desktop\\uni\\soton year 3\\comp3200\\fake-news-profiling\\venv\\lib\\site-packages\\sklearn\\linear_model\\_logistic.py\", line 1304, in fit\n",
      "    solver = _check_solver(self.solver, self.penalty, self.dual)\n",
      "  File \"c:\\users\\joshh\\desktop\\uni\\soton year 3\\comp3200\\fake-news-profiling\\venv\\lib\\site-packages\\sklearn\\linear_model\\_logistic.py\", line 443, in _check_solver\n",
      "    \"got %s penalty.\" % (solver, penalty))\n",
      "ValueError: Solver lbfgs supports only 'l2' or 'none' penalties, got l1 penalty.\n",
      "\n",
      "  FitFailedWarning)\n",
      "c:\\users\\joshh\\desktop\\uni\\soton year 3\\comp3200\\fake-news-profiling\\venv\\lib\\site-packages\\sklearn\\model_selection\\_validation.py:552: FitFailedWarning: Estimator fit failed. The score on this train-test partition for these parameters will be set to nan. Details: \n",
      "Traceback (most recent call last):\n",
      "  File \"c:\\users\\joshh\\desktop\\uni\\soton year 3\\comp3200\\fake-news-profiling\\venv\\lib\\site-packages\\sklearn\\model_selection\\_validation.py\", line 531, in _fit_and_score\n",
      "    estimator.fit(X_train, y_train, **fit_params)\n",
      "  File \"c:\\users\\joshh\\desktop\\uni\\soton year 3\\comp3200\\fake-news-profiling\\venv\\lib\\site-packages\\sklearn\\linear_model\\_logistic.py\", line 1304, in fit\n",
      "    solver = _check_solver(self.solver, self.penalty, self.dual)\n",
      "  File \"c:\\users\\joshh\\desktop\\uni\\soton year 3\\comp3200\\fake-news-profiling\\venv\\lib\\site-packages\\sklearn\\linear_model\\_logistic.py\", line 443, in _check_solver\n",
      "    \"got %s penalty.\" % (solver, penalty))\n",
      "ValueError: Solver sag supports only 'l2' or 'none' penalties, got l1 penalty.\n",
      "\n",
      "  FitFailedWarning)\n",
      "c:\\users\\joshh\\desktop\\uni\\soton year 3\\comp3200\\fake-news-profiling\\venv\\lib\\site-packages\\sklearn\\linear_model\\_sag.py:330: ConvergenceWarning: The max_iter was reached which means the coef_ did not converge\n",
      "  \"the coef_ did not converge\", ConvergenceWarning)\n",
      "c:\\users\\joshh\\desktop\\uni\\soton year 3\\comp3200\\fake-news-profiling\\venv\\lib\\site-packages\\sklearn\\linear_model\\_sag.py:330: ConvergenceWarning: The max_iter was reached which means the coef_ did not converge\n",
      "  \"the coef_ did not converge\", ConvergenceWarning)\n",
      "c:\\users\\joshh\\desktop\\uni\\soton year 3\\comp3200\\fake-news-profiling\\venv\\lib\\site-packages\\sklearn\\linear_model\\_sag.py:330: ConvergenceWarning: The max_iter was reached which means the coef_ did not converge\n",
      "  \"the coef_ did not converge\", ConvergenceWarning)\n",
      "c:\\users\\joshh\\desktop\\uni\\soton year 3\\comp3200\\fake-news-profiling\\venv\\lib\\site-packages\\sklearn\\linear_model\\_sag.py:330: ConvergenceWarning: The max_iter was reached which means the coef_ did not converge\n",
      "  \"the coef_ did not converge\", ConvergenceWarning)\n",
      "c:\\users\\joshh\\desktop\\uni\\soton year 3\\comp3200\\fake-news-profiling\\venv\\lib\\site-packages\\sklearn\\linear_model\\_sag.py:330: ConvergenceWarning: The max_iter was reached which means the coef_ did not converge\n",
      "  \"the coef_ did not converge\", ConvergenceWarning)\n",
      "c:\\users\\joshh\\desktop\\uni\\soton year 3\\comp3200\\fake-news-profiling\\venv\\lib\\site-packages\\scipy\\optimize\\linesearch.py:327: LineSearchWarning: The line search algorithm did not converge\n",
      "  warn('The line search algorithm did not converge', LineSearchWarning)\n",
      "c:\\users\\joshh\\desktop\\uni\\soton year 3\\comp3200\\fake-news-profiling\\venv\\lib\\site-packages\\sklearn\\utils\\optimize.py:204: UserWarning: Line Search failed\n",
      "  warnings.warn('Line Search failed')\n",
      "c:\\users\\joshh\\desktop\\uni\\soton year 3\\comp3200\\fake-news-profiling\\venv\\lib\\site-packages\\sklearn\\linear_model\\_sag.py:330: ConvergenceWarning: The max_iter was reached which means the coef_ did not converge\n",
      "  \"the coef_ did not converge\", ConvergenceWarning)\n",
      "c:\\users\\joshh\\desktop\\uni\\soton year 3\\comp3200\\fake-news-profiling\\venv\\lib\\site-packages\\sklearn\\linear_model\\_sag.py:330: ConvergenceWarning: The max_iter was reached which means the coef_ did not converge\n",
      "  \"the coef_ did not converge\", ConvergenceWarning)\n",
      "c:\\users\\joshh\\desktop\\uni\\soton year 3\\comp3200\\fake-news-profiling\\venv\\lib\\site-packages\\sklearn\\linear_model\\_sag.py:330: ConvergenceWarning: The max_iter was reached which means the coef_ did not converge\n",
      "  \"the coef_ did not converge\", ConvergenceWarning)\n",
      "c:\\users\\joshh\\desktop\\uni\\soton year 3\\comp3200\\fake-news-profiling\\venv\\lib\\site-packages\\sklearn\\linear_model\\_sag.py:330: ConvergenceWarning: The max_iter was reached which means the coef_ did not converge\n",
      "  \"the coef_ did not converge\", ConvergenceWarning)\n",
      "c:\\users\\joshh\\desktop\\uni\\soton year 3\\comp3200\\fake-news-profiling\\venv\\lib\\site-packages\\sklearn\\linear_model\\_sag.py:330: ConvergenceWarning: The max_iter was reached which means the coef_ did not converge\n",
      "  \"the coef_ did not converge\", ConvergenceWarning)\n",
      "c:\\users\\joshh\\desktop\\uni\\soton year 3\\comp3200\\fake-news-profiling\\venv\\lib\\site-packages\\sklearn\\linear_model\\_sag.py:330: ConvergenceWarning: The max_iter was reached which means the coef_ did not converge\n",
      "  \"the coef_ did not converge\", ConvergenceWarning)\n",
      "c:\\users\\joshh\\desktop\\uni\\soton year 3\\comp3200\\fake-news-profiling\\venv\\lib\\site-packages\\sklearn\\linear_model\\_sag.py:330: ConvergenceWarning: The max_iter was reached which means the coef_ did not converge\n",
      "  \"the coef_ did not converge\", ConvergenceWarning)\n",
      "c:\\users\\joshh\\desktop\\uni\\soton year 3\\comp3200\\fake-news-profiling\\venv\\lib\\site-packages\\sklearn\\linear_model\\_sag.py:330: ConvergenceWarning: The max_iter was reached which means the coef_ did not converge\n",
      "  \"the coef_ did not converge\", ConvergenceWarning)\n",
      "c:\\users\\joshh\\desktop\\uni\\soton year 3\\comp3200\\fake-news-profiling\\venv\\lib\\site-packages\\sklearn\\linear_model\\_sag.py:330: ConvergenceWarning: The max_iter was reached which means the coef_ did not converge\n",
      "  \"the coef_ did not converge\", ConvergenceWarning)\n",
      "c:\\users\\joshh\\desktop\\uni\\soton year 3\\comp3200\\fake-news-profiling\\venv\\lib\\site-packages\\sklearn\\model_selection\\_validation.py:552: FitFailedWarning: Estimator fit failed. The score on this train-test partition for these parameters will be set to nan. Details: \n",
      "Traceback (most recent call last):\n",
      "  File \"c:\\users\\joshh\\desktop\\uni\\soton year 3\\comp3200\\fake-news-profiling\\venv\\lib\\site-packages\\sklearn\\model_selection\\_validation.py\", line 531, in _fit_and_score\n",
      "    estimator.fit(X_train, y_train, **fit_params)\n",
      "  File \"c:\\users\\joshh\\desktop\\uni\\soton year 3\\comp3200\\fake-news-profiling\\venv\\lib\\site-packages\\sklearn\\linear_model\\_logistic.py\", line 1304, in fit\n",
      "    solver = _check_solver(self.solver, self.penalty, self.dual)\n",
      "  File \"c:\\users\\joshh\\desktop\\uni\\soton year 3\\comp3200\\fake-news-profiling\\venv\\lib\\site-packages\\sklearn\\linear_model\\_logistic.py\", line 443, in _check_solver\n",
      "    \"got %s penalty.\" % (solver, penalty))\n",
      "ValueError: Solver newton-cg supports only 'l2' or 'none' penalties, got l1 penalty.\n",
      "\n",
      "  FitFailedWarning)\n",
      "c:\\users\\joshh\\desktop\\uni\\soton year 3\\comp3200\\fake-news-profiling\\venv\\lib\\site-packages\\sklearn\\model_selection\\_validation.py:552: FitFailedWarning: Estimator fit failed. The score on this train-test partition for these parameters will be set to nan. Details: \n",
      "Traceback (most recent call last):\n",
      "  File \"c:\\users\\joshh\\desktop\\uni\\soton year 3\\comp3200\\fake-news-profiling\\venv\\lib\\site-packages\\sklearn\\model_selection\\_validation.py\", line 531, in _fit_and_score\n",
      "    estimator.fit(X_train, y_train, **fit_params)\n",
      "  File \"c:\\users\\joshh\\desktop\\uni\\soton year 3\\comp3200\\fake-news-profiling\\venv\\lib\\site-packages\\sklearn\\linear_model\\_logistic.py\", line 1304, in fit\n",
      "    solver = _check_solver(self.solver, self.penalty, self.dual)\n",
      "  File \"c:\\users\\joshh\\desktop\\uni\\soton year 3\\comp3200\\fake-news-profiling\\venv\\lib\\site-packages\\sklearn\\linear_model\\_logistic.py\", line 443, in _check_solver\n",
      "    \"got %s penalty.\" % (solver, penalty))\n",
      "ValueError: Solver lbfgs supports only 'l2' or 'none' penalties, got l1 penalty.\n",
      "\n",
      "  FitFailedWarning)\n",
      "c:\\users\\joshh\\desktop\\uni\\soton year 3\\comp3200\\fake-news-profiling\\venv\\lib\\site-packages\\sklearn\\model_selection\\_validation.py:552: FitFailedWarning: Estimator fit failed. The score on this train-test partition for these parameters will be set to nan. Details: \n",
      "Traceback (most recent call last):\n",
      "  File \"c:\\users\\joshh\\desktop\\uni\\soton year 3\\comp3200\\fake-news-profiling\\venv\\lib\\site-packages\\sklearn\\model_selection\\_validation.py\", line 531, in _fit_and_score\n",
      "    estimator.fit(X_train, y_train, **fit_params)\n",
      "  File \"c:\\users\\joshh\\desktop\\uni\\soton year 3\\comp3200\\fake-news-profiling\\venv\\lib\\site-packages\\sklearn\\linear_model\\_logistic.py\", line 1304, in fit\n",
      "    solver = _check_solver(self.solver, self.penalty, self.dual)\n",
      "  File \"c:\\users\\joshh\\desktop\\uni\\soton year 3\\comp3200\\fake-news-profiling\\venv\\lib\\site-packages\\sklearn\\linear_model\\_logistic.py\", line 443, in _check_solver\n",
      "    \"got %s penalty.\" % (solver, penalty))\n",
      "ValueError: Solver sag supports only 'l2' or 'none' penalties, got l1 penalty.\n",
      "\n",
      "  FitFailedWarning)\n",
      "c:\\users\\joshh\\desktop\\uni\\soton year 3\\comp3200\\fake-news-profiling\\venv\\lib\\site-packages\\sklearn\\linear_model\\_sag.py:330: ConvergenceWarning: The max_iter was reached which means the coef_ did not converge\n",
      "  \"the coef_ did not converge\", ConvergenceWarning)\n",
      "c:\\users\\joshh\\desktop\\uni\\soton year 3\\comp3200\\fake-news-profiling\\venv\\lib\\site-packages\\sklearn\\linear_model\\_sag.py:330: ConvergenceWarning: The max_iter was reached which means the coef_ did not converge\n",
      "  \"the coef_ did not converge\", ConvergenceWarning)\n",
      "c:\\users\\joshh\\desktop\\uni\\soton year 3\\comp3200\\fake-news-profiling\\venv\\lib\\site-packages\\sklearn\\linear_model\\_sag.py:330: ConvergenceWarning: The max_iter was reached which means the coef_ did not converge\n",
      "  \"the coef_ did not converge\", ConvergenceWarning)\n"
     ]
    },
    {
     "name": "stderr",
     "output_type": "stream",
     "text": [
      "c:\\users\\joshh\\desktop\\uni\\soton year 3\\comp3200\\fake-news-profiling\\venv\\lib\\site-packages\\sklearn\\linear_model\\_sag.py:330: ConvergenceWarning: The max_iter was reached which means the coef_ did not converge\n",
      "  \"the coef_ did not converge\", ConvergenceWarning)\n",
      "c:\\users\\joshh\\desktop\\uni\\soton year 3\\comp3200\\fake-news-profiling\\venv\\lib\\site-packages\\sklearn\\linear_model\\_sag.py:330: ConvergenceWarning: The max_iter was reached which means the coef_ did not converge\n",
      "  \"the coef_ did not converge\", ConvergenceWarning)\n",
      "c:\\users\\joshh\\desktop\\uni\\soton year 3\\comp3200\\fake-news-profiling\\venv\\lib\\site-packages\\scipy\\optimize\\linesearch.py:327: LineSearchWarning: The line search algorithm did not converge\n",
      "  warn('The line search algorithm did not converge', LineSearchWarning)\n",
      "c:\\users\\joshh\\desktop\\uni\\soton year 3\\comp3200\\fake-news-profiling\\venv\\lib\\site-packages\\sklearn\\utils\\optimize.py:204: UserWarning: Line Search failed\n",
      "  warnings.warn('Line Search failed')\n",
      "c:\\users\\joshh\\desktop\\uni\\soton year 3\\comp3200\\fake-news-profiling\\venv\\lib\\site-packages\\sklearn\\linear_model\\_sag.py:330: ConvergenceWarning: The max_iter was reached which means the coef_ did not converge\n",
      "  \"the coef_ did not converge\", ConvergenceWarning)\n",
      "c:\\users\\joshh\\desktop\\uni\\soton year 3\\comp3200\\fake-news-profiling\\venv\\lib\\site-packages\\scipy\\optimize\\linesearch.py:327: LineSearchWarning: The line search algorithm did not converge\n",
      "  warn('The line search algorithm did not converge', LineSearchWarning)\n",
      "c:\\users\\joshh\\desktop\\uni\\soton year 3\\comp3200\\fake-news-profiling\\venv\\lib\\site-packages\\sklearn\\utils\\optimize.py:204: UserWarning: Line Search failed\n",
      "  warnings.warn('Line Search failed')\n",
      "c:\\users\\joshh\\desktop\\uni\\soton year 3\\comp3200\\fake-news-profiling\\venv\\lib\\site-packages\\sklearn\\model_selection\\_validation.py:552: FitFailedWarning: Estimator fit failed. The score on this train-test partition for these parameters will be set to nan. Details: \n",
      "Traceback (most recent call last):\n",
      "  File \"c:\\users\\joshh\\desktop\\uni\\soton year 3\\comp3200\\fake-news-profiling\\venv\\lib\\site-packages\\sklearn\\model_selection\\_validation.py\", line 531, in _fit_and_score\n",
      "    estimator.fit(X_train, y_train, **fit_params)\n",
      "  File \"c:\\users\\joshh\\desktop\\uni\\soton year 3\\comp3200\\fake-news-profiling\\venv\\lib\\site-packages\\sklearn\\linear_model\\_logistic.py\", line 1304, in fit\n",
      "    solver = _check_solver(self.solver, self.penalty, self.dual)\n",
      "  File \"c:\\users\\joshh\\desktop\\uni\\soton year 3\\comp3200\\fake-news-profiling\\venv\\lib\\site-packages\\sklearn\\linear_model\\_logistic.py\", line 443, in _check_solver\n",
      "    \"got %s penalty.\" % (solver, penalty))\n",
      "ValueError: Solver newton-cg supports only 'l2' or 'none' penalties, got l1 penalty.\n",
      "\n",
      "  FitFailedWarning)\n",
      "c:\\users\\joshh\\desktop\\uni\\soton year 3\\comp3200\\fake-news-profiling\\venv\\lib\\site-packages\\sklearn\\model_selection\\_validation.py:552: FitFailedWarning: Estimator fit failed. The score on this train-test partition for these parameters will be set to nan. Details: \n",
      "Traceback (most recent call last):\n",
      "  File \"c:\\users\\joshh\\desktop\\uni\\soton year 3\\comp3200\\fake-news-profiling\\venv\\lib\\site-packages\\sklearn\\model_selection\\_validation.py\", line 531, in _fit_and_score\n",
      "    estimator.fit(X_train, y_train, **fit_params)\n",
      "  File \"c:\\users\\joshh\\desktop\\uni\\soton year 3\\comp3200\\fake-news-profiling\\venv\\lib\\site-packages\\sklearn\\linear_model\\_logistic.py\", line 1304, in fit\n",
      "    solver = _check_solver(self.solver, self.penalty, self.dual)\n",
      "  File \"c:\\users\\joshh\\desktop\\uni\\soton year 3\\comp3200\\fake-news-profiling\\venv\\lib\\site-packages\\sklearn\\linear_model\\_logistic.py\", line 443, in _check_solver\n",
      "    \"got %s penalty.\" % (solver, penalty))\n",
      "ValueError: Solver lbfgs supports only 'l2' or 'none' penalties, got l1 penalty.\n",
      "\n",
      "  FitFailedWarning)\n",
      "c:\\users\\joshh\\desktop\\uni\\soton year 3\\comp3200\\fake-news-profiling\\venv\\lib\\site-packages\\sklearn\\model_selection\\_validation.py:552: FitFailedWarning: Estimator fit failed. The score on this train-test partition for these parameters will be set to nan. Details: \n",
      "Traceback (most recent call last):\n",
      "  File \"c:\\users\\joshh\\desktop\\uni\\soton year 3\\comp3200\\fake-news-profiling\\venv\\lib\\site-packages\\sklearn\\model_selection\\_validation.py\", line 531, in _fit_and_score\n",
      "    estimator.fit(X_train, y_train, **fit_params)\n",
      "  File \"c:\\users\\joshh\\desktop\\uni\\soton year 3\\comp3200\\fake-news-profiling\\venv\\lib\\site-packages\\sklearn\\linear_model\\_logistic.py\", line 1304, in fit\n",
      "    solver = _check_solver(self.solver, self.penalty, self.dual)\n",
      "  File \"c:\\users\\joshh\\desktop\\uni\\soton year 3\\comp3200\\fake-news-profiling\\venv\\lib\\site-packages\\sklearn\\linear_model\\_logistic.py\", line 443, in _check_solver\n",
      "    \"got %s penalty.\" % (solver, penalty))\n",
      "ValueError: Solver sag supports only 'l2' or 'none' penalties, got l1 penalty.\n",
      "\n",
      "  FitFailedWarning)\n",
      "c:\\users\\joshh\\desktop\\uni\\soton year 3\\comp3200\\fake-news-profiling\\venv\\lib\\site-packages\\sklearn\\linear_model\\_sag.py:330: ConvergenceWarning: The max_iter was reached which means the coef_ did not converge\n",
      "  \"the coef_ did not converge\", ConvergenceWarning)\n",
      "c:\\users\\joshh\\desktop\\uni\\soton year 3\\comp3200\\fake-news-profiling\\venv\\lib\\site-packages\\sklearn\\linear_model\\_sag.py:330: ConvergenceWarning: The max_iter was reached which means the coef_ did not converge\n",
      "  \"the coef_ did not converge\", ConvergenceWarning)\n",
      "c:\\users\\joshh\\desktop\\uni\\soton year 3\\comp3200\\fake-news-profiling\\venv\\lib\\site-packages\\sklearn\\linear_model\\_sag.py:330: ConvergenceWarning: The max_iter was reached which means the coef_ did not converge\n",
      "  \"the coef_ did not converge\", ConvergenceWarning)\n",
      "c:\\users\\joshh\\desktop\\uni\\soton year 3\\comp3200\\fake-news-profiling\\venv\\lib\\site-packages\\sklearn\\linear_model\\_sag.py:330: ConvergenceWarning: The max_iter was reached which means the coef_ did not converge\n",
      "  \"the coef_ did not converge\", ConvergenceWarning)\n",
      "c:\\users\\joshh\\desktop\\uni\\soton year 3\\comp3200\\fake-news-profiling\\venv\\lib\\site-packages\\sklearn\\linear_model\\_sag.py:330: ConvergenceWarning: The max_iter was reached which means the coef_ did not converge\n",
      "  \"the coef_ did not converge\", ConvergenceWarning)\n",
      "c:\\users\\joshh\\desktop\\uni\\soton year 3\\comp3200\\fake-news-profiling\\venv\\lib\\site-packages\\scipy\\optimize\\linesearch.py:327: LineSearchWarning: The line search algorithm did not converge\n",
      "  warn('The line search algorithm did not converge', LineSearchWarning)\n",
      "c:\\users\\joshh\\desktop\\uni\\soton year 3\\comp3200\\fake-news-profiling\\venv\\lib\\site-packages\\sklearn\\utils\\optimize.py:204: UserWarning: Line Search failed\n",
      "  warnings.warn('Line Search failed')\n",
      "c:\\users\\joshh\\desktop\\uni\\soton year 3\\comp3200\\fake-news-profiling\\venv\\lib\\site-packages\\scipy\\optimize\\linesearch.py:327: LineSearchWarning: The line search algorithm did not converge\n",
      "  warn('The line search algorithm did not converge', LineSearchWarning)\n",
      "c:\\users\\joshh\\desktop\\uni\\soton year 3\\comp3200\\fake-news-profiling\\venv\\lib\\site-packages\\sklearn\\utils\\optimize.py:204: UserWarning: Line Search failed\n",
      "  warnings.warn('Line Search failed')\n",
      "c:\\users\\joshh\\desktop\\uni\\soton year 3\\comp3200\\fake-news-profiling\\venv\\lib\\site-packages\\sklearn\\linear_model\\_sag.py:330: ConvergenceWarning: The max_iter was reached which means the coef_ did not converge\n",
      "  \"the coef_ did not converge\", ConvergenceWarning)\n",
      "c:\\users\\joshh\\desktop\\uni\\soton year 3\\comp3200\\fake-news-profiling\\venv\\lib\\site-packages\\sklearn\\linear_model\\_sag.py:330: ConvergenceWarning: The max_iter was reached which means the coef_ did not converge\n",
      "  \"the coef_ did not converge\", ConvergenceWarning)\n",
      "c:\\users\\joshh\\desktop\\uni\\soton year 3\\comp3200\\fake-news-profiling\\venv\\lib\\site-packages\\sklearn\\linear_model\\_sag.py:330: ConvergenceWarning: The max_iter was reached which means the coef_ did not converge\n",
      "  \"the coef_ did not converge\", ConvergenceWarning)\n",
      "c:\\users\\joshh\\desktop\\uni\\soton year 3\\comp3200\\fake-news-profiling\\venv\\lib\\site-packages\\sklearn\\linear_model\\_sag.py:330: ConvergenceWarning: The max_iter was reached which means the coef_ did not converge\n",
      "  \"the coef_ did not converge\", ConvergenceWarning)\n",
      "c:\\users\\joshh\\desktop\\uni\\soton year 3\\comp3200\\fake-news-profiling\\venv\\lib\\site-packages\\sklearn\\linear_model\\_sag.py:330: ConvergenceWarning: The max_iter was reached which means the coef_ did not converge\n",
      "  \"the coef_ did not converge\", ConvergenceWarning)\n",
      "c:\\users\\joshh\\desktop\\uni\\soton year 3\\comp3200\\fake-news-profiling\\venv\\lib\\site-packages\\sklearn\\linear_model\\_sag.py:330: ConvergenceWarning: The max_iter was reached which means the coef_ did not converge\n",
      "  \"the coef_ did not converge\", ConvergenceWarning)\n",
      "c:\\users\\joshh\\desktop\\uni\\soton year 3\\comp3200\\fake-news-profiling\\venv\\lib\\site-packages\\sklearn\\linear_model\\_sag.py:330: ConvergenceWarning: The max_iter was reached which means the coef_ did not converge\n",
      "  \"the coef_ did not converge\", ConvergenceWarning)\n",
      "c:\\users\\joshh\\desktop\\uni\\soton year 3\\comp3200\\fake-news-profiling\\venv\\lib\\site-packages\\sklearn\\linear_model\\_sag.py:330: ConvergenceWarning: The max_iter was reached which means the coef_ did not converge\n",
      "  \"the coef_ did not converge\", ConvergenceWarning)\n",
      "c:\\users\\joshh\\desktop\\uni\\soton year 3\\comp3200\\fake-news-profiling\\venv\\lib\\site-packages\\sklearn\\linear_model\\_sag.py:330: ConvergenceWarning: The max_iter was reached which means the coef_ did not converge\n",
      "  \"the coef_ did not converge\", ConvergenceWarning)\n",
      "c:\\users\\joshh\\desktop\\uni\\soton year 3\\comp3200\\fake-news-profiling\\venv\\lib\\site-packages\\sklearn\\linear_model\\_sag.py:330: ConvergenceWarning: The max_iter was reached which means the coef_ did not converge\n",
      "  \"the coef_ did not converge\", ConvergenceWarning)\n",
      "c:\\users\\joshh\\desktop\\uni\\soton year 3\\comp3200\\fake-news-profiling\\venv\\lib\\site-packages\\sklearn\\model_selection\\_validation.py:552: FitFailedWarning: Estimator fit failed. The score on this train-test partition for these parameters will be set to nan. Details: \n",
      "Traceback (most recent call last):\n",
      "  File \"c:\\users\\joshh\\desktop\\uni\\soton year 3\\comp3200\\fake-news-profiling\\venv\\lib\\site-packages\\sklearn\\model_selection\\_validation.py\", line 531, in _fit_and_score\n",
      "    estimator.fit(X_train, y_train, **fit_params)\n",
      "  File \"c:\\users\\joshh\\desktop\\uni\\soton year 3\\comp3200\\fake-news-profiling\\venv\\lib\\site-packages\\sklearn\\linear_model\\_logistic.py\", line 1304, in fit\n",
      "    solver = _check_solver(self.solver, self.penalty, self.dual)\n",
      "  File \"c:\\users\\joshh\\desktop\\uni\\soton year 3\\comp3200\\fake-news-profiling\\venv\\lib\\site-packages\\sklearn\\linear_model\\_logistic.py\", line 443, in _check_solver\n",
      "    \"got %s penalty.\" % (solver, penalty))\n",
      "ValueError: Solver newton-cg supports only 'l2' or 'none' penalties, got l1 penalty.\n",
      "\n",
      "  FitFailedWarning)\n",
      "c:\\users\\joshh\\desktop\\uni\\soton year 3\\comp3200\\fake-news-profiling\\venv\\lib\\site-packages\\sklearn\\model_selection\\_validation.py:552: FitFailedWarning: Estimator fit failed. The score on this train-test partition for these parameters will be set to nan. Details: \n",
      "Traceback (most recent call last):\n",
      "  File \"c:\\users\\joshh\\desktop\\uni\\soton year 3\\comp3200\\fake-news-profiling\\venv\\lib\\site-packages\\sklearn\\model_selection\\_validation.py\", line 531, in _fit_and_score\n",
      "    estimator.fit(X_train, y_train, **fit_params)\n",
      "  File \"c:\\users\\joshh\\desktop\\uni\\soton year 3\\comp3200\\fake-news-profiling\\venv\\lib\\site-packages\\sklearn\\linear_model\\_logistic.py\", line 1304, in fit\n",
      "    solver = _check_solver(self.solver, self.penalty, self.dual)\n",
      "  File \"c:\\users\\joshh\\desktop\\uni\\soton year 3\\comp3200\\fake-news-profiling\\venv\\lib\\site-packages\\sklearn\\linear_model\\_logistic.py\", line 443, in _check_solver\n",
      "    \"got %s penalty.\" % (solver, penalty))\n",
      "ValueError: Solver lbfgs supports only 'l2' or 'none' penalties, got l1 penalty.\n",
      "\n",
      "  FitFailedWarning)\n",
      "c:\\users\\joshh\\desktop\\uni\\soton year 3\\comp3200\\fake-news-profiling\\venv\\lib\\site-packages\\sklearn\\model_selection\\_validation.py:552: FitFailedWarning: Estimator fit failed. The score on this train-test partition for these parameters will be set to nan. Details: \n",
      "Traceback (most recent call last):\n",
      "  File \"c:\\users\\joshh\\desktop\\uni\\soton year 3\\comp3200\\fake-news-profiling\\venv\\lib\\site-packages\\sklearn\\model_selection\\_validation.py\", line 531, in _fit_and_score\n",
      "    estimator.fit(X_train, y_train, **fit_params)\n",
      "  File \"c:\\users\\joshh\\desktop\\uni\\soton year 3\\comp3200\\fake-news-profiling\\venv\\lib\\site-packages\\sklearn\\linear_model\\_logistic.py\", line 1304, in fit\n",
      "    solver = _check_solver(self.solver, self.penalty, self.dual)\n",
      "  File \"c:\\users\\joshh\\desktop\\uni\\soton year 3\\comp3200\\fake-news-profiling\\venv\\lib\\site-packages\\sklearn\\linear_model\\_logistic.py\", line 443, in _check_solver\n",
      "    \"got %s penalty.\" % (solver, penalty))\n",
      "ValueError: Solver sag supports only 'l2' or 'none' penalties, got l1 penalty.\n",
      "\n",
      "  FitFailedWarning)\n",
      "c:\\users\\joshh\\desktop\\uni\\soton year 3\\comp3200\\fake-news-profiling\\venv\\lib\\site-packages\\sklearn\\linear_model\\_sag.py:330: ConvergenceWarning: The max_iter was reached which means the coef_ did not converge\n",
      "  \"the coef_ did not converge\", ConvergenceWarning)\n"
     ]
    },
    {
     "name": "stderr",
     "output_type": "stream",
     "text": [
      "c:\\users\\joshh\\desktop\\uni\\soton year 3\\comp3200\\fake-news-profiling\\venv\\lib\\site-packages\\sklearn\\linear_model\\_sag.py:330: ConvergenceWarning: The max_iter was reached which means the coef_ did not converge\n",
      "  \"the coef_ did not converge\", ConvergenceWarning)\n",
      "c:\\users\\joshh\\desktop\\uni\\soton year 3\\comp3200\\fake-news-profiling\\venv\\lib\\site-packages\\sklearn\\linear_model\\_sag.py:330: ConvergenceWarning: The max_iter was reached which means the coef_ did not converge\n",
      "  \"the coef_ did not converge\", ConvergenceWarning)\n",
      "c:\\users\\joshh\\desktop\\uni\\soton year 3\\comp3200\\fake-news-profiling\\venv\\lib\\site-packages\\sklearn\\linear_model\\_sag.py:330: ConvergenceWarning: The max_iter was reached which means the coef_ did not converge\n",
      "  \"the coef_ did not converge\", ConvergenceWarning)\n",
      "c:\\users\\joshh\\desktop\\uni\\soton year 3\\comp3200\\fake-news-profiling\\venv\\lib\\site-packages\\sklearn\\linear_model\\_sag.py:330: ConvergenceWarning: The max_iter was reached which means the coef_ did not converge\n",
      "  \"the coef_ did not converge\", ConvergenceWarning)\n",
      "c:\\users\\joshh\\desktop\\uni\\soton year 3\\comp3200\\fake-news-profiling\\venv\\lib\\site-packages\\scipy\\optimize\\linesearch.py:327: LineSearchWarning: The line search algorithm did not converge\n",
      "  warn('The line search algorithm did not converge', LineSearchWarning)\n",
      "c:\\users\\joshh\\desktop\\uni\\soton year 3\\comp3200\\fake-news-profiling\\venv\\lib\\site-packages\\sklearn\\utils\\optimize.py:204: UserWarning: Line Search failed\n",
      "  warnings.warn('Line Search failed')\n",
      "c:\\users\\joshh\\desktop\\uni\\soton year 3\\comp3200\\fake-news-profiling\\venv\\lib\\site-packages\\scipy\\optimize\\linesearch.py:327: LineSearchWarning: The line search algorithm did not converge\n",
      "  warn('The line search algorithm did not converge', LineSearchWarning)\n",
      "c:\\users\\joshh\\desktop\\uni\\soton year 3\\comp3200\\fake-news-profiling\\venv\\lib\\site-packages\\sklearn\\utils\\optimize.py:204: UserWarning: Line Search failed\n",
      "  warnings.warn('Line Search failed')\n",
      "c:\\users\\joshh\\desktop\\uni\\soton year 3\\comp3200\\fake-news-profiling\\venv\\lib\\site-packages\\sklearn\\linear_model\\_sag.py:330: ConvergenceWarning: The max_iter was reached which means the coef_ did not converge\n",
      "  \"the coef_ did not converge\", ConvergenceWarning)\n",
      "c:\\users\\joshh\\desktop\\uni\\soton year 3\\comp3200\\fake-news-profiling\\venv\\lib\\site-packages\\sklearn\\linear_model\\_sag.py:330: ConvergenceWarning: The max_iter was reached which means the coef_ did not converge\n",
      "  \"the coef_ did not converge\", ConvergenceWarning)\n",
      "c:\\users\\joshh\\desktop\\uni\\soton year 3\\comp3200\\fake-news-profiling\\venv\\lib\\site-packages\\sklearn\\linear_model\\_sag.py:330: ConvergenceWarning: The max_iter was reached which means the coef_ did not converge\n",
      "  \"the coef_ did not converge\", ConvergenceWarning)\n",
      "c:\\users\\joshh\\desktop\\uni\\soton year 3\\comp3200\\fake-news-profiling\\venv\\lib\\site-packages\\sklearn\\linear_model\\_sag.py:330: ConvergenceWarning: The max_iter was reached which means the coef_ did not converge\n",
      "  \"the coef_ did not converge\", ConvergenceWarning)\n",
      "c:\\users\\joshh\\desktop\\uni\\soton year 3\\comp3200\\fake-news-profiling\\venv\\lib\\site-packages\\sklearn\\linear_model\\_sag.py:330: ConvergenceWarning: The max_iter was reached which means the coef_ did not converge\n",
      "  \"the coef_ did not converge\", ConvergenceWarning)\n"
     ]
    },
    {
     "name": "stdout",
     "output_type": "stream",
     "text": [
      "Best classifiers for BERT model batch_size32-epochs10-lr5e-05-size128:\n",
      "{'LogisticRegression': {'unsorted-params': {'params': {'max_iter': 100, 'penalty': 'l2', 'solver': 'newton-cg'}, 'accuracy': 0.7666666666666667, 'f1': 0.7741935483870969, 'log_loss': 8.059154438469852}, 'sorted': {'params': {'max_iter': 200, 'penalty': 'l1', 'solver': 'liblinear'}, 'accuracy': 0.8333333333333334, 'f1': 0.8275862068965518, 'log_loss': 5.75651603898046}}, 'SVC': {'unsorted-params': {'params': {'degree': 2, 'kernel': 'rbf'}, 'accuracy': 0.8, 'f1': 0.8000000000000002, 'log_loss': 6.907835238725156}, 'sorted': {'params': {'degree': 2, 'kernel': 'linear'}, 'accuracy': 0.8, 'f1': 0.8000000000000002, 'log_loss': 6.907835238725156}}, 'RandomForestClassifier': {'unsorted-params': {'params': {'criterion': 'gini', 'n_estimators': 50}, 'accuracy': 0.7333333333333333, 'f1': 0.7500000000000001, 'log_loss': 9.210473638214548}, 'sorted': {'params': {'criterion': 'entropy', 'n_estimators': 200}, 'accuracy': 0.8, 'f1': 0.8000000000000002, 'log_loss': 6.907835238725156}}, 'GradientBoostingClassifier': {'unsorted-params': {'params': {'learning_rate': 0.2, 'loss': 'exponential', 'n_estimators': 150}, 'accuracy': 0.7333333333333333, 'f1': 0.7333333333333333, 'log_loss': 9.210446984966874}, 'sorted': {'params': {'learning_rate': 0.01, 'loss': 'exponential', 'n_estimators': 150}, 'accuracy': 0.6666666666666666, 'f1': 0.6875, 'log_loss': 11.513085384456266}}}\n",
      "Loading weights for model: batch_size40-epochs10-lr2e-05-size128\n",
      "Successfully loaded weights\n"
     ]
    },
    {
     "name": "stderr",
     "output_type": "stream",
     "text": [
      "c:\\users\\joshh\\desktop\\uni\\soton year 3\\comp3200\\fake-news-profiling\\venv\\lib\\site-packages\\sklearn\\model_selection\\_validation.py:552: FitFailedWarning: Estimator fit failed. The score on this train-test partition for these parameters will be set to nan. Details: \n",
      "Traceback (most recent call last):\n",
      "  File \"c:\\users\\joshh\\desktop\\uni\\soton year 3\\comp3200\\fake-news-profiling\\venv\\lib\\site-packages\\sklearn\\model_selection\\_validation.py\", line 531, in _fit_and_score\n",
      "    estimator.fit(X_train, y_train, **fit_params)\n",
      "  File \"c:\\users\\joshh\\desktop\\uni\\soton year 3\\comp3200\\fake-news-profiling\\venv\\lib\\site-packages\\sklearn\\linear_model\\_logistic.py\", line 1304, in fit\n",
      "    solver = _check_solver(self.solver, self.penalty, self.dual)\n",
      "  File \"c:\\users\\joshh\\desktop\\uni\\soton year 3\\comp3200\\fake-news-profiling\\venv\\lib\\site-packages\\sklearn\\linear_model\\_logistic.py\", line 443, in _check_solver\n",
      "    \"got %s penalty.\" % (solver, penalty))\n",
      "ValueError: Solver newton-cg supports only 'l2' or 'none' penalties, got l1 penalty.\n",
      "\n",
      "  FitFailedWarning)\n",
      "c:\\users\\joshh\\desktop\\uni\\soton year 3\\comp3200\\fake-news-profiling\\venv\\lib\\site-packages\\sklearn\\model_selection\\_validation.py:552: FitFailedWarning: Estimator fit failed. The score on this train-test partition for these parameters will be set to nan. Details: \n",
      "Traceback (most recent call last):\n",
      "  File \"c:\\users\\joshh\\desktop\\uni\\soton year 3\\comp3200\\fake-news-profiling\\venv\\lib\\site-packages\\sklearn\\model_selection\\_validation.py\", line 531, in _fit_and_score\n",
      "    estimator.fit(X_train, y_train, **fit_params)\n",
      "  File \"c:\\users\\joshh\\desktop\\uni\\soton year 3\\comp3200\\fake-news-profiling\\venv\\lib\\site-packages\\sklearn\\linear_model\\_logistic.py\", line 1304, in fit\n",
      "    solver = _check_solver(self.solver, self.penalty, self.dual)\n",
      "  File \"c:\\users\\joshh\\desktop\\uni\\soton year 3\\comp3200\\fake-news-profiling\\venv\\lib\\site-packages\\sklearn\\linear_model\\_logistic.py\", line 443, in _check_solver\n",
      "    \"got %s penalty.\" % (solver, penalty))\n",
      "ValueError: Solver lbfgs supports only 'l2' or 'none' penalties, got l1 penalty.\n",
      "\n",
      "  FitFailedWarning)\n",
      "c:\\users\\joshh\\desktop\\uni\\soton year 3\\comp3200\\fake-news-profiling\\venv\\lib\\site-packages\\sklearn\\model_selection\\_validation.py:552: FitFailedWarning: Estimator fit failed. The score on this train-test partition for these parameters will be set to nan. Details: \n",
      "Traceback (most recent call last):\n",
      "  File \"c:\\users\\joshh\\desktop\\uni\\soton year 3\\comp3200\\fake-news-profiling\\venv\\lib\\site-packages\\sklearn\\model_selection\\_validation.py\", line 531, in _fit_and_score\n",
      "    estimator.fit(X_train, y_train, **fit_params)\n",
      "  File \"c:\\users\\joshh\\desktop\\uni\\soton year 3\\comp3200\\fake-news-profiling\\venv\\lib\\site-packages\\sklearn\\linear_model\\_logistic.py\", line 1304, in fit\n",
      "    solver = _check_solver(self.solver, self.penalty, self.dual)\n",
      "  File \"c:\\users\\joshh\\desktop\\uni\\soton year 3\\comp3200\\fake-news-profiling\\venv\\lib\\site-packages\\sklearn\\linear_model\\_logistic.py\", line 443, in _check_solver\n",
      "    \"got %s penalty.\" % (solver, penalty))\n",
      "ValueError: Solver sag supports only 'l2' or 'none' penalties, got l1 penalty.\n",
      "\n",
      "  FitFailedWarning)\n",
      "c:\\users\\joshh\\desktop\\uni\\soton year 3\\comp3200\\fake-news-profiling\\venv\\lib\\site-packages\\sklearn\\linear_model\\_sag.py:330: ConvergenceWarning: The max_iter was reached which means the coef_ did not converge\n",
      "  \"the coef_ did not converge\", ConvergenceWarning)\n",
      "c:\\users\\joshh\\desktop\\uni\\soton year 3\\comp3200\\fake-news-profiling\\venv\\lib\\site-packages\\sklearn\\linear_model\\_sag.py:330: ConvergenceWarning: The max_iter was reached which means the coef_ did not converge\n",
      "  \"the coef_ did not converge\", ConvergenceWarning)\n",
      "c:\\users\\joshh\\desktop\\uni\\soton year 3\\comp3200\\fake-news-profiling\\venv\\lib\\site-packages\\sklearn\\linear_model\\_sag.py:330: ConvergenceWarning: The max_iter was reached which means the coef_ did not converge\n",
      "  \"the coef_ did not converge\", ConvergenceWarning)\n",
      "c:\\users\\joshh\\desktop\\uni\\soton year 3\\comp3200\\fake-news-profiling\\venv\\lib\\site-packages\\sklearn\\linear_model\\_sag.py:330: ConvergenceWarning: The max_iter was reached which means the coef_ did not converge\n",
      "  \"the coef_ did not converge\", ConvergenceWarning)\n",
      "c:\\users\\joshh\\desktop\\uni\\soton year 3\\comp3200\\fake-news-profiling\\venv\\lib\\site-packages\\sklearn\\linear_model\\_sag.py:330: ConvergenceWarning: The max_iter was reached which means the coef_ did not converge\n",
      "  \"the coef_ did not converge\", ConvergenceWarning)\n",
      "c:\\users\\joshh\\desktop\\uni\\soton year 3\\comp3200\\fake-news-profiling\\venv\\lib\\site-packages\\scipy\\optimize\\linesearch.py:327: LineSearchWarning: The line search algorithm did not converge\n",
      "  warn('The line search algorithm did not converge', LineSearchWarning)\n",
      "c:\\users\\joshh\\desktop\\uni\\soton year 3\\comp3200\\fake-news-profiling\\venv\\lib\\site-packages\\sklearn\\utils\\optimize.py:204: UserWarning: Line Search failed\n",
      "  warnings.warn('Line Search failed')\n",
      "c:\\users\\joshh\\desktop\\uni\\soton year 3\\comp3200\\fake-news-profiling\\venv\\lib\\site-packages\\sklearn\\linear_model\\_sag.py:330: ConvergenceWarning: The max_iter was reached which means the coef_ did not converge\n",
      "  \"the coef_ did not converge\", ConvergenceWarning)\n",
      "c:\\users\\joshh\\desktop\\uni\\soton year 3\\comp3200\\fake-news-profiling\\venv\\lib\\site-packages\\sklearn\\linear_model\\_sag.py:330: ConvergenceWarning: The max_iter was reached which means the coef_ did not converge\n",
      "  \"the coef_ did not converge\", ConvergenceWarning)\n",
      "c:\\users\\joshh\\desktop\\uni\\soton year 3\\comp3200\\fake-news-profiling\\venv\\lib\\site-packages\\sklearn\\linear_model\\_sag.py:330: ConvergenceWarning: The max_iter was reached which means the coef_ did not converge\n",
      "  \"the coef_ did not converge\", ConvergenceWarning)\n",
      "c:\\users\\joshh\\desktop\\uni\\soton year 3\\comp3200\\fake-news-profiling\\venv\\lib\\site-packages\\sklearn\\linear_model\\_sag.py:330: ConvergenceWarning: The max_iter was reached which means the coef_ did not converge\n",
      "  \"the coef_ did not converge\", ConvergenceWarning)\n",
      "c:\\users\\joshh\\desktop\\uni\\soton year 3\\comp3200\\fake-news-profiling\\venv\\lib\\site-packages\\sklearn\\linear_model\\_sag.py:330: ConvergenceWarning: The max_iter was reached which means the coef_ did not converge\n",
      "  \"the coef_ did not converge\", ConvergenceWarning)\n",
      "c:\\users\\joshh\\desktop\\uni\\soton year 3\\comp3200\\fake-news-profiling\\venv\\lib\\site-packages\\sklearn\\linear_model\\_sag.py:330: ConvergenceWarning: The max_iter was reached which means the coef_ did not converge\n",
      "  \"the coef_ did not converge\", ConvergenceWarning)\n",
      "c:\\users\\joshh\\desktop\\uni\\soton year 3\\comp3200\\fake-news-profiling\\venv\\lib\\site-packages\\sklearn\\linear_model\\_sag.py:330: ConvergenceWarning: The max_iter was reached which means the coef_ did not converge\n",
      "  \"the coef_ did not converge\", ConvergenceWarning)\n",
      "c:\\users\\joshh\\desktop\\uni\\soton year 3\\comp3200\\fake-news-profiling\\venv\\lib\\site-packages\\sklearn\\linear_model\\_sag.py:330: ConvergenceWarning: The max_iter was reached which means the coef_ did not converge\n",
      "  \"the coef_ did not converge\", ConvergenceWarning)\n",
      "c:\\users\\joshh\\desktop\\uni\\soton year 3\\comp3200\\fake-news-profiling\\venv\\lib\\site-packages\\sklearn\\linear_model\\_sag.py:330: ConvergenceWarning: The max_iter was reached which means the coef_ did not converge\n",
      "  \"the coef_ did not converge\", ConvergenceWarning)\n",
      "c:\\users\\joshh\\desktop\\uni\\soton year 3\\comp3200\\fake-news-profiling\\venv\\lib\\site-packages\\sklearn\\model_selection\\_validation.py:552: FitFailedWarning: Estimator fit failed. The score on this train-test partition for these parameters will be set to nan. Details: \n",
      "Traceback (most recent call last):\n",
      "  File \"c:\\users\\joshh\\desktop\\uni\\soton year 3\\comp3200\\fake-news-profiling\\venv\\lib\\site-packages\\sklearn\\model_selection\\_validation.py\", line 531, in _fit_and_score\n",
      "    estimator.fit(X_train, y_train, **fit_params)\n",
      "  File \"c:\\users\\joshh\\desktop\\uni\\soton year 3\\comp3200\\fake-news-profiling\\venv\\lib\\site-packages\\sklearn\\linear_model\\_logistic.py\", line 1304, in fit\n",
      "    solver = _check_solver(self.solver, self.penalty, self.dual)\n",
      "  File \"c:\\users\\joshh\\desktop\\uni\\soton year 3\\comp3200\\fake-news-profiling\\venv\\lib\\site-packages\\sklearn\\linear_model\\_logistic.py\", line 443, in _check_solver\n",
      "    \"got %s penalty.\" % (solver, penalty))\n",
      "ValueError: Solver newton-cg supports only 'l2' or 'none' penalties, got l1 penalty.\n",
      "\n",
      "  FitFailedWarning)\n",
      "c:\\users\\joshh\\desktop\\uni\\soton year 3\\comp3200\\fake-news-profiling\\venv\\lib\\site-packages\\sklearn\\model_selection\\_validation.py:552: FitFailedWarning: Estimator fit failed. The score on this train-test partition for these parameters will be set to nan. Details: \n",
      "Traceback (most recent call last):\n",
      "  File \"c:\\users\\joshh\\desktop\\uni\\soton year 3\\comp3200\\fake-news-profiling\\venv\\lib\\site-packages\\sklearn\\model_selection\\_validation.py\", line 531, in _fit_and_score\n",
      "    estimator.fit(X_train, y_train, **fit_params)\n",
      "  File \"c:\\users\\joshh\\desktop\\uni\\soton year 3\\comp3200\\fake-news-profiling\\venv\\lib\\site-packages\\sklearn\\linear_model\\_logistic.py\", line 1304, in fit\n",
      "    solver = _check_solver(self.solver, self.penalty, self.dual)\n",
      "  File \"c:\\users\\joshh\\desktop\\uni\\soton year 3\\comp3200\\fake-news-profiling\\venv\\lib\\site-packages\\sklearn\\linear_model\\_logistic.py\", line 443, in _check_solver\n",
      "    \"got %s penalty.\" % (solver, penalty))\n",
      "ValueError: Solver lbfgs supports only 'l2' or 'none' penalties, got l1 penalty.\n",
      "\n",
      "  FitFailedWarning)\n",
      "c:\\users\\joshh\\desktop\\uni\\soton year 3\\comp3200\\fake-news-profiling\\venv\\lib\\site-packages\\sklearn\\model_selection\\_validation.py:552: FitFailedWarning: Estimator fit failed. The score on this train-test partition for these parameters will be set to nan. Details: \n",
      "Traceback (most recent call last):\n",
      "  File \"c:\\users\\joshh\\desktop\\uni\\soton year 3\\comp3200\\fake-news-profiling\\venv\\lib\\site-packages\\sklearn\\model_selection\\_validation.py\", line 531, in _fit_and_score\n",
      "    estimator.fit(X_train, y_train, **fit_params)\n",
      "  File \"c:\\users\\joshh\\desktop\\uni\\soton year 3\\comp3200\\fake-news-profiling\\venv\\lib\\site-packages\\sklearn\\linear_model\\_logistic.py\", line 1304, in fit\n",
      "    solver = _check_solver(self.solver, self.penalty, self.dual)\n",
      "  File \"c:\\users\\joshh\\desktop\\uni\\soton year 3\\comp3200\\fake-news-profiling\\venv\\lib\\site-packages\\sklearn\\linear_model\\_logistic.py\", line 443, in _check_solver\n",
      "    \"got %s penalty.\" % (solver, penalty))\n",
      "ValueError: Solver sag supports only 'l2' or 'none' penalties, got l1 penalty.\n",
      "\n",
      "  FitFailedWarning)\n",
      "c:\\users\\joshh\\desktop\\uni\\soton year 3\\comp3200\\fake-news-profiling\\venv\\lib\\site-packages\\sklearn\\linear_model\\_sag.py:330: ConvergenceWarning: The max_iter was reached which means the coef_ did not converge\n",
      "  \"the coef_ did not converge\", ConvergenceWarning)\n",
      "c:\\users\\joshh\\desktop\\uni\\soton year 3\\comp3200\\fake-news-profiling\\venv\\lib\\site-packages\\sklearn\\linear_model\\_sag.py:330: ConvergenceWarning: The max_iter was reached which means the coef_ did not converge\n",
      "  \"the coef_ did not converge\", ConvergenceWarning)\n",
      "c:\\users\\joshh\\desktop\\uni\\soton year 3\\comp3200\\fake-news-profiling\\venv\\lib\\site-packages\\sklearn\\linear_model\\_sag.py:330: ConvergenceWarning: The max_iter was reached which means the coef_ did not converge\n",
      "  \"the coef_ did not converge\", ConvergenceWarning)\n"
     ]
    },
    {
     "name": "stderr",
     "output_type": "stream",
     "text": [
      "c:\\users\\joshh\\desktop\\uni\\soton year 3\\comp3200\\fake-news-profiling\\venv\\lib\\site-packages\\sklearn\\linear_model\\_sag.py:330: ConvergenceWarning: The max_iter was reached which means the coef_ did not converge\n",
      "  \"the coef_ did not converge\", ConvergenceWarning)\n",
      "c:\\users\\joshh\\desktop\\uni\\soton year 3\\comp3200\\fake-news-profiling\\venv\\lib\\site-packages\\sklearn\\linear_model\\_sag.py:330: ConvergenceWarning: The max_iter was reached which means the coef_ did not converge\n",
      "  \"the coef_ did not converge\", ConvergenceWarning)\n",
      "c:\\users\\joshh\\desktop\\uni\\soton year 3\\comp3200\\fake-news-profiling\\venv\\lib\\site-packages\\scipy\\optimize\\linesearch.py:327: LineSearchWarning: The line search algorithm did not converge\n",
      "  warn('The line search algorithm did not converge', LineSearchWarning)\n",
      "c:\\users\\joshh\\desktop\\uni\\soton year 3\\comp3200\\fake-news-profiling\\venv\\lib\\site-packages\\sklearn\\utils\\optimize.py:204: UserWarning: Line Search failed\n",
      "  warnings.warn('Line Search failed')\n",
      "c:\\users\\joshh\\desktop\\uni\\soton year 3\\comp3200\\fake-news-profiling\\venv\\lib\\site-packages\\sklearn\\model_selection\\_validation.py:552: FitFailedWarning: Estimator fit failed. The score on this train-test partition for these parameters will be set to nan. Details: \n",
      "Traceback (most recent call last):\n",
      "  File \"c:\\users\\joshh\\desktop\\uni\\soton year 3\\comp3200\\fake-news-profiling\\venv\\lib\\site-packages\\sklearn\\model_selection\\_validation.py\", line 531, in _fit_and_score\n",
      "    estimator.fit(X_train, y_train, **fit_params)\n",
      "  File \"c:\\users\\joshh\\desktop\\uni\\soton year 3\\comp3200\\fake-news-profiling\\venv\\lib\\site-packages\\sklearn\\linear_model\\_logistic.py\", line 1304, in fit\n",
      "    solver = _check_solver(self.solver, self.penalty, self.dual)\n",
      "  File \"c:\\users\\joshh\\desktop\\uni\\soton year 3\\comp3200\\fake-news-profiling\\venv\\lib\\site-packages\\sklearn\\linear_model\\_logistic.py\", line 443, in _check_solver\n",
      "    \"got %s penalty.\" % (solver, penalty))\n",
      "ValueError: Solver newton-cg supports only 'l2' or 'none' penalties, got l1 penalty.\n",
      "\n",
      "  FitFailedWarning)\n",
      "c:\\users\\joshh\\desktop\\uni\\soton year 3\\comp3200\\fake-news-profiling\\venv\\lib\\site-packages\\sklearn\\model_selection\\_validation.py:552: FitFailedWarning: Estimator fit failed. The score on this train-test partition for these parameters will be set to nan. Details: \n",
      "Traceback (most recent call last):\n",
      "  File \"c:\\users\\joshh\\desktop\\uni\\soton year 3\\comp3200\\fake-news-profiling\\venv\\lib\\site-packages\\sklearn\\model_selection\\_validation.py\", line 531, in _fit_and_score\n",
      "    estimator.fit(X_train, y_train, **fit_params)\n",
      "  File \"c:\\users\\joshh\\desktop\\uni\\soton year 3\\comp3200\\fake-news-profiling\\venv\\lib\\site-packages\\sklearn\\linear_model\\_logistic.py\", line 1304, in fit\n",
      "    solver = _check_solver(self.solver, self.penalty, self.dual)\n",
      "  File \"c:\\users\\joshh\\desktop\\uni\\soton year 3\\comp3200\\fake-news-profiling\\venv\\lib\\site-packages\\sklearn\\linear_model\\_logistic.py\", line 443, in _check_solver\n",
      "    \"got %s penalty.\" % (solver, penalty))\n",
      "ValueError: Solver lbfgs supports only 'l2' or 'none' penalties, got l1 penalty.\n",
      "\n",
      "  FitFailedWarning)\n",
      "c:\\users\\joshh\\desktop\\uni\\soton year 3\\comp3200\\fake-news-profiling\\venv\\lib\\site-packages\\sklearn\\model_selection\\_validation.py:552: FitFailedWarning: Estimator fit failed. The score on this train-test partition for these parameters will be set to nan. Details: \n",
      "Traceback (most recent call last):\n",
      "  File \"c:\\users\\joshh\\desktop\\uni\\soton year 3\\comp3200\\fake-news-profiling\\venv\\lib\\site-packages\\sklearn\\model_selection\\_validation.py\", line 531, in _fit_and_score\n",
      "    estimator.fit(X_train, y_train, **fit_params)\n",
      "  File \"c:\\users\\joshh\\desktop\\uni\\soton year 3\\comp3200\\fake-news-profiling\\venv\\lib\\site-packages\\sklearn\\linear_model\\_logistic.py\", line 1304, in fit\n",
      "    solver = _check_solver(self.solver, self.penalty, self.dual)\n",
      "  File \"c:\\users\\joshh\\desktop\\uni\\soton year 3\\comp3200\\fake-news-profiling\\venv\\lib\\site-packages\\sklearn\\linear_model\\_logistic.py\", line 443, in _check_solver\n",
      "    \"got %s penalty.\" % (solver, penalty))\n",
      "ValueError: Solver sag supports only 'l2' or 'none' penalties, got l1 penalty.\n",
      "\n",
      "  FitFailedWarning)\n",
      "c:\\users\\joshh\\desktop\\uni\\soton year 3\\comp3200\\fake-news-profiling\\venv\\lib\\site-packages\\sklearn\\linear_model\\_sag.py:330: ConvergenceWarning: The max_iter was reached which means the coef_ did not converge\n",
      "  \"the coef_ did not converge\", ConvergenceWarning)\n",
      "c:\\users\\joshh\\desktop\\uni\\soton year 3\\comp3200\\fake-news-profiling\\venv\\lib\\site-packages\\sklearn\\linear_model\\_sag.py:330: ConvergenceWarning: The max_iter was reached which means the coef_ did not converge\n",
      "  \"the coef_ did not converge\", ConvergenceWarning)\n",
      "c:\\users\\joshh\\desktop\\uni\\soton year 3\\comp3200\\fake-news-profiling\\venv\\lib\\site-packages\\sklearn\\linear_model\\_sag.py:330: ConvergenceWarning: The max_iter was reached which means the coef_ did not converge\n",
      "  \"the coef_ did not converge\", ConvergenceWarning)\n",
      "c:\\users\\joshh\\desktop\\uni\\soton year 3\\comp3200\\fake-news-profiling\\venv\\lib\\site-packages\\sklearn\\linear_model\\_sag.py:330: ConvergenceWarning: The max_iter was reached which means the coef_ did not converge\n",
      "  \"the coef_ did not converge\", ConvergenceWarning)\n",
      "c:\\users\\joshh\\desktop\\uni\\soton year 3\\comp3200\\fake-news-profiling\\venv\\lib\\site-packages\\sklearn\\linear_model\\_sag.py:330: ConvergenceWarning: The max_iter was reached which means the coef_ did not converge\n",
      "  \"the coef_ did not converge\", ConvergenceWarning)\n",
      "c:\\users\\joshh\\desktop\\uni\\soton year 3\\comp3200\\fake-news-profiling\\venv\\lib\\site-packages\\scipy\\optimize\\linesearch.py:327: LineSearchWarning: The line search algorithm did not converge\n",
      "  warn('The line search algorithm did not converge', LineSearchWarning)\n",
      "c:\\users\\joshh\\desktop\\uni\\soton year 3\\comp3200\\fake-news-profiling\\venv\\lib\\site-packages\\sklearn\\utils\\optimize.py:204: UserWarning: Line Search failed\n",
      "  warnings.warn('Line Search failed')\n",
      "c:\\users\\joshh\\desktop\\uni\\soton year 3\\comp3200\\fake-news-profiling\\venv\\lib\\site-packages\\scipy\\optimize\\linesearch.py:327: LineSearchWarning: The line search algorithm did not converge\n",
      "  warn('The line search algorithm did not converge', LineSearchWarning)\n",
      "c:\\users\\joshh\\desktop\\uni\\soton year 3\\comp3200\\fake-news-profiling\\venv\\lib\\site-packages\\sklearn\\utils\\optimize.py:204: UserWarning: Line Search failed\n",
      "  warnings.warn('Line Search failed')\n",
      "c:\\users\\joshh\\desktop\\uni\\soton year 3\\comp3200\\fake-news-profiling\\venv\\lib\\site-packages\\sklearn\\linear_model\\_sag.py:330: ConvergenceWarning: The max_iter was reached which means the coef_ did not converge\n",
      "  \"the coef_ did not converge\", ConvergenceWarning)\n",
      "c:\\users\\joshh\\desktop\\uni\\soton year 3\\comp3200\\fake-news-profiling\\venv\\lib\\site-packages\\sklearn\\linear_model\\_sag.py:330: ConvergenceWarning: The max_iter was reached which means the coef_ did not converge\n",
      "  \"the coef_ did not converge\", ConvergenceWarning)\n",
      "c:\\users\\joshh\\desktop\\uni\\soton year 3\\comp3200\\fake-news-profiling\\venv\\lib\\site-packages\\sklearn\\linear_model\\_sag.py:330: ConvergenceWarning: The max_iter was reached which means the coef_ did not converge\n",
      "  \"the coef_ did not converge\", ConvergenceWarning)\n",
      "c:\\users\\joshh\\desktop\\uni\\soton year 3\\comp3200\\fake-news-profiling\\venv\\lib\\site-packages\\sklearn\\linear_model\\_sag.py:330: ConvergenceWarning: The max_iter was reached which means the coef_ did not converge\n",
      "  \"the coef_ did not converge\", ConvergenceWarning)\n",
      "c:\\users\\joshh\\desktop\\uni\\soton year 3\\comp3200\\fake-news-profiling\\venv\\lib\\site-packages\\sklearn\\linear_model\\_sag.py:330: ConvergenceWarning: The max_iter was reached which means the coef_ did not converge\n",
      "  \"the coef_ did not converge\", ConvergenceWarning)\n",
      "c:\\users\\joshh\\desktop\\uni\\soton year 3\\comp3200\\fake-news-profiling\\venv\\lib\\site-packages\\sklearn\\linear_model\\_sag.py:330: ConvergenceWarning: The max_iter was reached which means the coef_ did not converge\n",
      "  \"the coef_ did not converge\", ConvergenceWarning)\n",
      "c:\\users\\joshh\\desktop\\uni\\soton year 3\\comp3200\\fake-news-profiling\\venv\\lib\\site-packages\\sklearn\\linear_model\\_sag.py:330: ConvergenceWarning: The max_iter was reached which means the coef_ did not converge\n",
      "  \"the coef_ did not converge\", ConvergenceWarning)\n",
      "c:\\users\\joshh\\desktop\\uni\\soton year 3\\comp3200\\fake-news-profiling\\venv\\lib\\site-packages\\sklearn\\linear_model\\_sag.py:330: ConvergenceWarning: The max_iter was reached which means the coef_ did not converge\n",
      "  \"the coef_ did not converge\", ConvergenceWarning)\n",
      "c:\\users\\joshh\\desktop\\uni\\soton year 3\\comp3200\\fake-news-profiling\\venv\\lib\\site-packages\\sklearn\\linear_model\\_sag.py:330: ConvergenceWarning: The max_iter was reached which means the coef_ did not converge\n",
      "  \"the coef_ did not converge\", ConvergenceWarning)\n",
      "c:\\users\\joshh\\desktop\\uni\\soton year 3\\comp3200\\fake-news-profiling\\venv\\lib\\site-packages\\sklearn\\linear_model\\_sag.py:330: ConvergenceWarning: The max_iter was reached which means the coef_ did not converge\n",
      "  \"the coef_ did not converge\", ConvergenceWarning)\n",
      "c:\\users\\joshh\\desktop\\uni\\soton year 3\\comp3200\\fake-news-profiling\\venv\\lib\\site-packages\\sklearn\\model_selection\\_validation.py:552: FitFailedWarning: Estimator fit failed. The score on this train-test partition for these parameters will be set to nan. Details: \n",
      "Traceback (most recent call last):\n",
      "  File \"c:\\users\\joshh\\desktop\\uni\\soton year 3\\comp3200\\fake-news-profiling\\venv\\lib\\site-packages\\sklearn\\model_selection\\_validation.py\", line 531, in _fit_and_score\n",
      "    estimator.fit(X_train, y_train, **fit_params)\n",
      "  File \"c:\\users\\joshh\\desktop\\uni\\soton year 3\\comp3200\\fake-news-profiling\\venv\\lib\\site-packages\\sklearn\\linear_model\\_logistic.py\", line 1304, in fit\n",
      "    solver = _check_solver(self.solver, self.penalty, self.dual)\n",
      "  File \"c:\\users\\joshh\\desktop\\uni\\soton year 3\\comp3200\\fake-news-profiling\\venv\\lib\\site-packages\\sklearn\\linear_model\\_logistic.py\", line 443, in _check_solver\n",
      "    \"got %s penalty.\" % (solver, penalty))\n",
      "ValueError: Solver newton-cg supports only 'l2' or 'none' penalties, got l1 penalty.\n",
      "\n",
      "  FitFailedWarning)\n",
      "c:\\users\\joshh\\desktop\\uni\\soton year 3\\comp3200\\fake-news-profiling\\venv\\lib\\site-packages\\sklearn\\model_selection\\_validation.py:552: FitFailedWarning: Estimator fit failed. The score on this train-test partition for these parameters will be set to nan. Details: \n",
      "Traceback (most recent call last):\n",
      "  File \"c:\\users\\joshh\\desktop\\uni\\soton year 3\\comp3200\\fake-news-profiling\\venv\\lib\\site-packages\\sklearn\\model_selection\\_validation.py\", line 531, in _fit_and_score\n",
      "    estimator.fit(X_train, y_train, **fit_params)\n",
      "  File \"c:\\users\\joshh\\desktop\\uni\\soton year 3\\comp3200\\fake-news-profiling\\venv\\lib\\site-packages\\sklearn\\linear_model\\_logistic.py\", line 1304, in fit\n",
      "    solver = _check_solver(self.solver, self.penalty, self.dual)\n",
      "  File \"c:\\users\\joshh\\desktop\\uni\\soton year 3\\comp3200\\fake-news-profiling\\venv\\lib\\site-packages\\sklearn\\linear_model\\_logistic.py\", line 443, in _check_solver\n",
      "    \"got %s penalty.\" % (solver, penalty))\n",
      "ValueError: Solver lbfgs supports only 'l2' or 'none' penalties, got l1 penalty.\n",
      "\n",
      "  FitFailedWarning)\n",
      "c:\\users\\joshh\\desktop\\uni\\soton year 3\\comp3200\\fake-news-profiling\\venv\\lib\\site-packages\\sklearn\\model_selection\\_validation.py:552: FitFailedWarning: Estimator fit failed. The score on this train-test partition for these parameters will be set to nan. Details: \n",
      "Traceback (most recent call last):\n",
      "  File \"c:\\users\\joshh\\desktop\\uni\\soton year 3\\comp3200\\fake-news-profiling\\venv\\lib\\site-packages\\sklearn\\model_selection\\_validation.py\", line 531, in _fit_and_score\n",
      "    estimator.fit(X_train, y_train, **fit_params)\n",
      "  File \"c:\\users\\joshh\\desktop\\uni\\soton year 3\\comp3200\\fake-news-profiling\\venv\\lib\\site-packages\\sklearn\\linear_model\\_logistic.py\", line 1304, in fit\n",
      "    solver = _check_solver(self.solver, self.penalty, self.dual)\n",
      "  File \"c:\\users\\joshh\\desktop\\uni\\soton year 3\\comp3200\\fake-news-profiling\\venv\\lib\\site-packages\\sklearn\\linear_model\\_logistic.py\", line 443, in _check_solver\n",
      "    \"got %s penalty.\" % (solver, penalty))\n",
      "ValueError: Solver sag supports only 'l2' or 'none' penalties, got l1 penalty.\n",
      "\n",
      "  FitFailedWarning)\n",
      "c:\\users\\joshh\\desktop\\uni\\soton year 3\\comp3200\\fake-news-profiling\\venv\\lib\\site-packages\\sklearn\\linear_model\\_sag.py:330: ConvergenceWarning: The max_iter was reached which means the coef_ did not converge\n",
      "  \"the coef_ did not converge\", ConvergenceWarning)\n",
      "c:\\users\\joshh\\desktop\\uni\\soton year 3\\comp3200\\fake-news-profiling\\venv\\lib\\site-packages\\sklearn\\linear_model\\_sag.py:330: ConvergenceWarning: The max_iter was reached which means the coef_ did not converge\n",
      "  \"the coef_ did not converge\", ConvergenceWarning)\n"
     ]
    },
    {
     "name": "stderr",
     "output_type": "stream",
     "text": [
      "c:\\users\\joshh\\desktop\\uni\\soton year 3\\comp3200\\fake-news-profiling\\venv\\lib\\site-packages\\sklearn\\linear_model\\_sag.py:330: ConvergenceWarning: The max_iter was reached which means the coef_ did not converge\n",
      "  \"the coef_ did not converge\", ConvergenceWarning)\n",
      "c:\\users\\joshh\\desktop\\uni\\soton year 3\\comp3200\\fake-news-profiling\\venv\\lib\\site-packages\\sklearn\\linear_model\\_sag.py:330: ConvergenceWarning: The max_iter was reached which means the coef_ did not converge\n",
      "  \"the coef_ did not converge\", ConvergenceWarning)\n",
      "c:\\users\\joshh\\desktop\\uni\\soton year 3\\comp3200\\fake-news-profiling\\venv\\lib\\site-packages\\sklearn\\linear_model\\_sag.py:330: ConvergenceWarning: The max_iter was reached which means the coef_ did not converge\n",
      "  \"the coef_ did not converge\", ConvergenceWarning)\n",
      "c:\\users\\joshh\\desktop\\uni\\soton year 3\\comp3200\\fake-news-profiling\\venv\\lib\\site-packages\\scipy\\optimize\\linesearch.py:327: LineSearchWarning: The line search algorithm did not converge\n",
      "  warn('The line search algorithm did not converge', LineSearchWarning)\n",
      "c:\\users\\joshh\\desktop\\uni\\soton year 3\\comp3200\\fake-news-profiling\\venv\\lib\\site-packages\\sklearn\\utils\\optimize.py:204: UserWarning: Line Search failed\n",
      "  warnings.warn('Line Search failed')\n",
      "c:\\users\\joshh\\desktop\\uni\\soton year 3\\comp3200\\fake-news-profiling\\venv\\lib\\site-packages\\scipy\\optimize\\linesearch.py:327: LineSearchWarning: The line search algorithm did not converge\n",
      "  warn('The line search algorithm did not converge', LineSearchWarning)\n",
      "c:\\users\\joshh\\desktop\\uni\\soton year 3\\comp3200\\fake-news-profiling\\venv\\lib\\site-packages\\sklearn\\utils\\optimize.py:204: UserWarning: Line Search failed\n",
      "  warnings.warn('Line Search failed')\n",
      "c:\\users\\joshh\\desktop\\uni\\soton year 3\\comp3200\\fake-news-profiling\\venv\\lib\\site-packages\\sklearn\\linear_model\\_sag.py:330: ConvergenceWarning: The max_iter was reached which means the coef_ did not converge\n",
      "  \"the coef_ did not converge\", ConvergenceWarning)\n",
      "c:\\users\\joshh\\desktop\\uni\\soton year 3\\comp3200\\fake-news-profiling\\venv\\lib\\site-packages\\sklearn\\linear_model\\_sag.py:330: ConvergenceWarning: The max_iter was reached which means the coef_ did not converge\n",
      "  \"the coef_ did not converge\", ConvergenceWarning)\n",
      "c:\\users\\joshh\\desktop\\uni\\soton year 3\\comp3200\\fake-news-profiling\\venv\\lib\\site-packages\\sklearn\\linear_model\\_sag.py:330: ConvergenceWarning: The max_iter was reached which means the coef_ did not converge\n",
      "  \"the coef_ did not converge\", ConvergenceWarning)\n",
      "c:\\users\\joshh\\desktop\\uni\\soton year 3\\comp3200\\fake-news-profiling\\venv\\lib\\site-packages\\sklearn\\linear_model\\_sag.py:330: ConvergenceWarning: The max_iter was reached which means the coef_ did not converge\n",
      "  \"the coef_ did not converge\", ConvergenceWarning)\n",
      "c:\\users\\joshh\\desktop\\uni\\soton year 3\\comp3200\\fake-news-profiling\\venv\\lib\\site-packages\\scipy\\optimize\\linesearch.py:327: LineSearchWarning: The line search algorithm did not converge\n",
      "  warn('The line search algorithm did not converge', LineSearchWarning)\n",
      "c:\\users\\joshh\\desktop\\uni\\soton year 3\\comp3200\\fake-news-profiling\\venv\\lib\\site-packages\\sklearn\\utils\\optimize.py:204: UserWarning: Line Search failed\n",
      "  warnings.warn('Line Search failed')\n"
     ]
    },
    {
     "name": "stdout",
     "output_type": "stream",
     "text": [
      "Best classifiers for BERT model batch_size40-epochs10-lr2e-05-size128:\n",
      "{'LogisticRegression': {'unsorted-params': {'params': {'max_iter': 100, 'penalty': 'l2', 'solver': 'liblinear'}, 'accuracy': 0.6666666666666666, 'f1': 0.6875, 'log_loss': 11.513085384456266}, 'sorted': {'params': {'max_iter': 100, 'penalty': 'l2', 'solver': 'newton-cg'}, 'accuracy': 0.7666666666666667, 'f1': 0.7407407407407408, 'log_loss': 8.059101131974506}}, 'SVC': {'unsorted-params': {'params': {'degree': 2, 'kernel': 'rbf'}, 'accuracy': 0.7666666666666667, 'f1': 0.7741935483870969, 'log_loss': 8.059154438469852}, 'sorted': {'params': {'degree': 3, 'kernel': 'poly'}, 'accuracy': 0.8, 'f1': 0.7692307692307692, 'log_loss': 6.90778193222981}}, 'RandomForestClassifier': {'unsorted-params': {'params': {'criterion': 'gini', 'n_estimators': 150}, 'accuracy': 0.7, 'f1': 0.7096774193548386, 'log_loss': 10.36176618471157}, 'sorted': {'params': {'criterion': 'gini', 'n_estimators': 50}, 'accuracy': 0.8, 'f1': 0.8000000000000002, 'log_loss': 6.907835238725156}}, 'GradientBoostingClassifier': {'unsorted-params': {'params': {'learning_rate': 0.2, 'loss': 'deviance', 'n_estimators': 200}, 'accuracy': 0.7, 'f1': 0.7272727272727272, 'log_loss': 10.361792837959245}, 'sorted': {'params': {'learning_rate': 0.01, 'loss': 'exponential', 'n_estimators': 200}, 'accuracy': 0.8, 'f1': 0.8125, 'log_loss': 6.907861891972829}}}\n",
      "WARNING:tensorflow:Unresolved object in checkpoint: (root).optimizer\n"
     ]
    },
    {
     "name": "stderr",
     "output_type": "stream",
     "text": [
      "WARNING:tensorflow:Unresolved object in checkpoint: (root).optimizer\n"
     ]
    },
    {
     "name": "stdout",
     "output_type": "stream",
     "text": [
      "WARNING:tensorflow:Unresolved object in checkpoint: (root).optimizer.iter\n"
     ]
    },
    {
     "name": "stderr",
     "output_type": "stream",
     "text": [
      "WARNING:tensorflow:Unresolved object in checkpoint: (root).optimizer.iter\n"
     ]
    },
    {
     "name": "stdout",
     "output_type": "stream",
     "text": [
      "WARNING:tensorflow:Unresolved object in checkpoint: (root).optimizer.beta_1\n"
     ]
    },
    {
     "name": "stderr",
     "output_type": "stream",
     "text": [
      "WARNING:tensorflow:Unresolved object in checkpoint: (root).optimizer.beta_1\n"
     ]
    },
    {
     "name": "stdout",
     "output_type": "stream",
     "text": [
      "WARNING:tensorflow:Unresolved object in checkpoint: (root).optimizer.beta_2\n"
     ]
    },
    {
     "name": "stderr",
     "output_type": "stream",
     "text": [
      "WARNING:tensorflow:Unresolved object in checkpoint: (root).optimizer.beta_2\n"
     ]
    },
    {
     "name": "stdout",
     "output_type": "stream",
     "text": [
      "WARNING:tensorflow:Unresolved object in checkpoint: (root).optimizer.decay\n"
     ]
    },
    {
     "name": "stderr",
     "output_type": "stream",
     "text": [
      "WARNING:tensorflow:Unresolved object in checkpoint: (root).optimizer.decay\n"
     ]
    },
    {
     "name": "stdout",
     "output_type": "stream",
     "text": [
      "WARNING:tensorflow:Unresolved object in checkpoint: (root).optimizer.learning_rate\n"
     ]
    },
    {
     "name": "stderr",
     "output_type": "stream",
     "text": [
      "WARNING:tensorflow:Unresolved object in checkpoint: (root).optimizer.learning_rate\n"
     ]
    },
    {
     "name": "stdout",
     "output_type": "stream",
     "text": [
      "WARNING:tensorflow:Unresolved object in checkpoint: (root).optimizer's state 'm' for (root).layer_with_weights-0.word_embeddings/embeddings:0\n"
     ]
    },
    {
     "name": "stderr",
     "output_type": "stream",
     "text": [
      "WARNING:tensorflow:Unresolved object in checkpoint: (root).optimizer's state 'm' for (root).layer_with_weights-0.word_embeddings/embeddings:0\n"
     ]
    },
    {
     "name": "stdout",
     "output_type": "stream",
     "text": [
      "WARNING:tensorflow:Unresolved object in checkpoint: (root).optimizer's state 'm' for (root).layer_with_weights-0.position_embedding/embeddings:0\n"
     ]
    },
    {
     "name": "stderr",
     "output_type": "stream",
     "text": [
      "WARNING:tensorflow:Unresolved object in checkpoint: (root).optimizer's state 'm' for (root).layer_with_weights-0.position_embedding/embeddings:0\n"
     ]
    },
    {
     "name": "stdout",
     "output_type": "stream",
     "text": [
      "WARNING:tensorflow:Unresolved object in checkpoint: (root).optimizer's state 'm' for (root).layer_with_weights-0.type_embeddings/embeddings:0\n"
     ]
    },
    {
     "name": "stderr",
     "output_type": "stream",
     "text": [
      "WARNING:tensorflow:Unresolved object in checkpoint: (root).optimizer's state 'm' for (root).layer_with_weights-0.type_embeddings/embeddings:0\n"
     ]
    },
    {
     "name": "stdout",
     "output_type": "stream",
     "text": [
      "WARNING:tensorflow:Unresolved object in checkpoint: (root).optimizer's state 'm' for (root).layer_with_weights-0.embeddings/layer_norm/gamma:0\n"
     ]
    },
    {
     "name": "stderr",
     "output_type": "stream",
     "text": [
      "WARNING:tensorflow:Unresolved object in checkpoint: (root).optimizer's state 'm' for (root).layer_with_weights-0.embeddings/layer_norm/gamma:0\n"
     ]
    },
    {
     "name": "stdout",
     "output_type": "stream",
     "text": [
      "WARNING:tensorflow:Unresolved object in checkpoint: (root).optimizer's state 'm' for (root).layer_with_weights-0.embeddings/layer_norm/beta:0\n"
     ]
    },
    {
     "name": "stderr",
     "output_type": "stream",
     "text": [
      "WARNING:tensorflow:Unresolved object in checkpoint: (root).optimizer's state 'm' for (root).layer_with_weights-0.embeddings/layer_norm/beta:0\n"
     ]
    },
    {
     "name": "stdout",
     "output_type": "stream",
     "text": [
      "WARNING:tensorflow:Unresolved object in checkpoint: (root).optimizer's state 'm' for (root).layer_with_weights-0.transformer/layer_0/self_attention/query/kernel:0\n"
     ]
    },
    {
     "name": "stderr",
     "output_type": "stream",
     "text": [
      "WARNING:tensorflow:Unresolved object in checkpoint: (root).optimizer's state 'm' for (root).layer_with_weights-0.transformer/layer_0/self_attention/query/kernel:0\n"
     ]
    },
    {
     "name": "stdout",
     "output_type": "stream",
     "text": [
      "WARNING:tensorflow:Unresolved object in checkpoint: (root).optimizer's state 'm' for (root).layer_with_weights-0.transformer/layer_0/self_attention/query/bias:0\n"
     ]
    },
    {
     "name": "stderr",
     "output_type": "stream",
     "text": [
      "WARNING:tensorflow:Unresolved object in checkpoint: (root).optimizer's state 'm' for (root).layer_with_weights-0.transformer/layer_0/self_attention/query/bias:0\n"
     ]
    },
    {
     "name": "stdout",
     "output_type": "stream",
     "text": [
      "WARNING:tensorflow:Unresolved object in checkpoint: (root).optimizer's state 'm' for (root).layer_with_weights-0.transformer/layer_0/self_attention/key/kernel:0\n"
     ]
    },
    {
     "name": "stderr",
     "output_type": "stream",
     "text": [
      "WARNING:tensorflow:Unresolved object in checkpoint: (root).optimizer's state 'm' for (root).layer_with_weights-0.transformer/layer_0/self_attention/key/kernel:0\n"
     ]
    },
    {
     "name": "stdout",
     "output_type": "stream",
     "text": [
      "WARNING:tensorflow:Unresolved object in checkpoint: (root).optimizer's state 'm' for (root).layer_with_weights-0.transformer/layer_0/self_attention/key/bias:0\n"
     ]
    },
    {
     "name": "stderr",
     "output_type": "stream",
     "text": [
      "WARNING:tensorflow:Unresolved object in checkpoint: (root).optimizer's state 'm' for (root).layer_with_weights-0.transformer/layer_0/self_attention/key/bias:0\n"
     ]
    },
    {
     "name": "stdout",
     "output_type": "stream",
     "text": [
      "WARNING:tensorflow:Unresolved object in checkpoint: (root).optimizer's state 'm' for (root).layer_with_weights-0.transformer/layer_0/self_attention/value/kernel:0\n"
     ]
    },
    {
     "name": "stderr",
     "output_type": "stream",
     "text": [
      "WARNING:tensorflow:Unresolved object in checkpoint: (root).optimizer's state 'm' for (root).layer_with_weights-0.transformer/layer_0/self_attention/value/kernel:0\n"
     ]
    },
    {
     "name": "stdout",
     "output_type": "stream",
     "text": [
      "WARNING:tensorflow:Unresolved object in checkpoint: (root).optimizer's state 'm' for (root).layer_with_weights-0.transformer/layer_0/self_attention/value/bias:0\n"
     ]
    },
    {
     "name": "stderr",
     "output_type": "stream",
     "text": [
      "WARNING:tensorflow:Unresolved object in checkpoint: (root).optimizer's state 'm' for (root).layer_with_weights-0.transformer/layer_0/self_attention/value/bias:0\n"
     ]
    },
    {
     "name": "stdout",
     "output_type": "stream",
     "text": [
      "WARNING:tensorflow:Unresolved object in checkpoint: (root).optimizer's state 'm' for (root).layer_with_weights-0.transformer/layer_0/self_attention/attention_output/kernel:0\n"
     ]
    },
    {
     "name": "stderr",
     "output_type": "stream",
     "text": [
      "WARNING:tensorflow:Unresolved object in checkpoint: (root).optimizer's state 'm' for (root).layer_with_weights-0.transformer/layer_0/self_attention/attention_output/kernel:0\n"
     ]
    },
    {
     "name": "stdout",
     "output_type": "stream",
     "text": [
      "WARNING:tensorflow:Unresolved object in checkpoint: (root).optimizer's state 'm' for (root).layer_with_weights-0.transformer/layer_0/self_attention/attention_output/bias:0\n"
     ]
    },
    {
     "name": "stderr",
     "output_type": "stream",
     "text": [
      "WARNING:tensorflow:Unresolved object in checkpoint: (root).optimizer's state 'm' for (root).layer_with_weights-0.transformer/layer_0/self_attention/attention_output/bias:0\n"
     ]
    },
    {
     "name": "stdout",
     "output_type": "stream",
     "text": [
      "WARNING:tensorflow:Unresolved object in checkpoint: (root).optimizer's state 'm' for (root).layer_with_weights-0.transformer/layer_0/self_attention_layer_norm/gamma:0\n"
     ]
    },
    {
     "name": "stderr",
     "output_type": "stream",
     "text": [
      "WARNING:tensorflow:Unresolved object in checkpoint: (root).optimizer's state 'm' for (root).layer_with_weights-0.transformer/layer_0/self_attention_layer_norm/gamma:0\n"
     ]
    },
    {
     "name": "stdout",
     "output_type": "stream",
     "text": [
      "WARNING:tensorflow:Unresolved object in checkpoint: (root).optimizer's state 'm' for (root).layer_with_weights-0.transformer/layer_0/self_attention_layer_norm/beta:0\n"
     ]
    },
    {
     "name": "stderr",
     "output_type": "stream",
     "text": [
      "WARNING:tensorflow:Unresolved object in checkpoint: (root).optimizer's state 'm' for (root).layer_with_weights-0.transformer/layer_0/self_attention_layer_norm/beta:0\n"
     ]
    },
    {
     "name": "stdout",
     "output_type": "stream",
     "text": [
      "WARNING:tensorflow:Unresolved object in checkpoint: (root).optimizer's state 'm' for (root).layer_with_weights-0.transformer/layer_0/intermediate/kernel:0\n"
     ]
    },
    {
     "name": "stderr",
     "output_type": "stream",
     "text": [
      "WARNING:tensorflow:Unresolved object in checkpoint: (root).optimizer's state 'm' for (root).layer_with_weights-0.transformer/layer_0/intermediate/kernel:0\n"
     ]
    },
    {
     "name": "stdout",
     "output_type": "stream",
     "text": [
      "WARNING:tensorflow:Unresolved object in checkpoint: (root).optimizer's state 'm' for (root).layer_with_weights-0.transformer/layer_0/intermediate/bias:0\n"
     ]
    },
    {
     "name": "stderr",
     "output_type": "stream",
     "text": [
      "WARNING:tensorflow:Unresolved object in checkpoint: (root).optimizer's state 'm' for (root).layer_with_weights-0.transformer/layer_0/intermediate/bias:0\n"
     ]
    },
    {
     "name": "stdout",
     "output_type": "stream",
     "text": [
      "WARNING:tensorflow:Unresolved object in checkpoint: (root).optimizer's state 'm' for (root).layer_with_weights-0.transformer/layer_0/output/kernel:0\n"
     ]
    },
    {
     "name": "stderr",
     "output_type": "stream",
     "text": [
      "WARNING:tensorflow:Unresolved object in checkpoint: (root).optimizer's state 'm' for (root).layer_with_weights-0.transformer/layer_0/output/kernel:0\n"
     ]
    },
    {
     "name": "stdout",
     "output_type": "stream",
     "text": [
      "WARNING:tensorflow:Unresolved object in checkpoint: (root).optimizer's state 'm' for (root).layer_with_weights-0.transformer/layer_0/output/bias:0\n"
     ]
    },
    {
     "name": "stderr",
     "output_type": "stream",
     "text": [
      "WARNING:tensorflow:Unresolved object in checkpoint: (root).optimizer's state 'm' for (root).layer_with_weights-0.transformer/layer_0/output/bias:0\n"
     ]
    },
    {
     "name": "stdout",
     "output_type": "stream",
     "text": [
      "WARNING:tensorflow:Unresolved object in checkpoint: (root).optimizer's state 'm' for (root).layer_with_weights-0.transformer/layer_0/output_layer_norm/gamma:0\n"
     ]
    },
    {
     "name": "stderr",
     "output_type": "stream",
     "text": [
      "WARNING:tensorflow:Unresolved object in checkpoint: (root).optimizer's state 'm' for (root).layer_with_weights-0.transformer/layer_0/output_layer_norm/gamma:0\n"
     ]
    },
    {
     "name": "stdout",
     "output_type": "stream",
     "text": [
      "WARNING:tensorflow:Unresolved object in checkpoint: (root).optimizer's state 'm' for (root).layer_with_weights-0.transformer/layer_0/output_layer_norm/beta:0\n"
     ]
    },
    {
     "name": "stderr",
     "output_type": "stream",
     "text": [
      "WARNING:tensorflow:Unresolved object in checkpoint: (root).optimizer's state 'm' for (root).layer_with_weights-0.transformer/layer_0/output_layer_norm/beta:0\n"
     ]
    },
    {
     "name": "stdout",
     "output_type": "stream",
     "text": [
      "WARNING:tensorflow:Unresolved object in checkpoint: (root).optimizer's state 'm' for (root).layer_with_weights-0.transformer/layer_1/self_attention/query/kernel:0\n"
     ]
    },
    {
     "name": "stderr",
     "output_type": "stream",
     "text": [
      "WARNING:tensorflow:Unresolved object in checkpoint: (root).optimizer's state 'm' for (root).layer_with_weights-0.transformer/layer_1/self_attention/query/kernel:0\n"
     ]
    },
    {
     "name": "stdout",
     "output_type": "stream",
     "text": [
      "WARNING:tensorflow:Unresolved object in checkpoint: (root).optimizer's state 'm' for (root).layer_with_weights-0.transformer/layer_1/self_attention/query/bias:0\n"
     ]
    },
    {
     "name": "stderr",
     "output_type": "stream",
     "text": [
      "WARNING:tensorflow:Unresolved object in checkpoint: (root).optimizer's state 'm' for (root).layer_with_weights-0.transformer/layer_1/self_attention/query/bias:0\n"
     ]
    },
    {
     "name": "stdout",
     "output_type": "stream",
     "text": [
      "WARNING:tensorflow:Unresolved object in checkpoint: (root).optimizer's state 'm' for (root).layer_with_weights-0.transformer/layer_1/self_attention/key/kernel:0\n"
     ]
    },
    {
     "name": "stderr",
     "output_type": "stream",
     "text": [
      "WARNING:tensorflow:Unresolved object in checkpoint: (root).optimizer's state 'm' for (root).layer_with_weights-0.transformer/layer_1/self_attention/key/kernel:0\n"
     ]
    },
    {
     "name": "stdout",
     "output_type": "stream",
     "text": [
      "WARNING:tensorflow:Unresolved object in checkpoint: (root).optimizer's state 'm' for (root).layer_with_weights-0.transformer/layer_1/self_attention/key/bias:0\n"
     ]
    },
    {
     "name": "stderr",
     "output_type": "stream",
     "text": [
      "WARNING:tensorflow:Unresolved object in checkpoint: (root).optimizer's state 'm' for (root).layer_with_weights-0.transformer/layer_1/self_attention/key/bias:0\n"
     ]
    },
    {
     "name": "stdout",
     "output_type": "stream",
     "text": [
      "WARNING:tensorflow:Unresolved object in checkpoint: (root).optimizer's state 'm' for (root).layer_with_weights-0.transformer/layer_1/self_attention/value/kernel:0\n"
     ]
    },
    {
     "name": "stderr",
     "output_type": "stream",
     "text": [
      "WARNING:tensorflow:Unresolved object in checkpoint: (root).optimizer's state 'm' for (root).layer_with_weights-0.transformer/layer_1/self_attention/value/kernel:0\n"
     ]
    },
    {
     "name": "stdout",
     "output_type": "stream",
     "text": [
      "WARNING:tensorflow:Unresolved object in checkpoint: (root).optimizer's state 'm' for (root).layer_with_weights-0.transformer/layer_1/self_attention/value/bias:0\n"
     ]
    },
    {
     "name": "stderr",
     "output_type": "stream",
     "text": [
      "WARNING:tensorflow:Unresolved object in checkpoint: (root).optimizer's state 'm' for (root).layer_with_weights-0.transformer/layer_1/self_attention/value/bias:0\n"
     ]
    },
    {
     "name": "stdout",
     "output_type": "stream",
     "text": [
      "WARNING:tensorflow:Unresolved object in checkpoint: (root).optimizer's state 'm' for (root).layer_with_weights-0.transformer/layer_1/self_attention/attention_output/kernel:0\n"
     ]
    },
    {
     "name": "stderr",
     "output_type": "stream",
     "text": [
      "WARNING:tensorflow:Unresolved object in checkpoint: (root).optimizer's state 'm' for (root).layer_with_weights-0.transformer/layer_1/self_attention/attention_output/kernel:0\n"
     ]
    },
    {
     "name": "stdout",
     "output_type": "stream",
     "text": [
      "WARNING:tensorflow:Unresolved object in checkpoint: (root).optimizer's state 'm' for (root).layer_with_weights-0.transformer/layer_1/self_attention/attention_output/bias:0\n"
     ]
    },
    {
     "name": "stderr",
     "output_type": "stream",
     "text": [
      "WARNING:tensorflow:Unresolved object in checkpoint: (root).optimizer's state 'm' for (root).layer_with_weights-0.transformer/layer_1/self_attention/attention_output/bias:0\n"
     ]
    },
    {
     "name": "stdout",
     "output_type": "stream",
     "text": [
      "WARNING:tensorflow:Unresolved object in checkpoint: (root).optimizer's state 'm' for (root).layer_with_weights-0.transformer/layer_1/self_attention_layer_norm/gamma:0\n"
     ]
    },
    {
     "name": "stderr",
     "output_type": "stream",
     "text": [
      "WARNING:tensorflow:Unresolved object in checkpoint: (root).optimizer's state 'm' for (root).layer_with_weights-0.transformer/layer_1/self_attention_layer_norm/gamma:0\n"
     ]
    },
    {
     "name": "stdout",
     "output_type": "stream",
     "text": [
      "WARNING:tensorflow:Unresolved object in checkpoint: (root).optimizer's state 'm' for (root).layer_with_weights-0.transformer/layer_1/self_attention_layer_norm/beta:0\n"
     ]
    },
    {
     "name": "stderr",
     "output_type": "stream",
     "text": [
      "WARNING:tensorflow:Unresolved object in checkpoint: (root).optimizer's state 'm' for (root).layer_with_weights-0.transformer/layer_1/self_attention_layer_norm/beta:0\n"
     ]
    },
    {
     "name": "stdout",
     "output_type": "stream",
     "text": [
      "WARNING:tensorflow:Unresolved object in checkpoint: (root).optimizer's state 'm' for (root).layer_with_weights-0.transformer/layer_1/intermediate/kernel:0\n"
     ]
    },
    {
     "name": "stderr",
     "output_type": "stream",
     "text": [
      "WARNING:tensorflow:Unresolved object in checkpoint: (root).optimizer's state 'm' for (root).layer_with_weights-0.transformer/layer_1/intermediate/kernel:0\n"
     ]
    },
    {
     "name": "stdout",
     "output_type": "stream",
     "text": [
      "WARNING:tensorflow:Unresolved object in checkpoint: (root).optimizer's state 'm' for (root).layer_with_weights-0.transformer/layer_1/intermediate/bias:0\n"
     ]
    },
    {
     "name": "stderr",
     "output_type": "stream",
     "text": [
      "WARNING:tensorflow:Unresolved object in checkpoint: (root).optimizer's state 'm' for (root).layer_with_weights-0.transformer/layer_1/intermediate/bias:0\n"
     ]
    },
    {
     "name": "stdout",
     "output_type": "stream",
     "text": [
      "WARNING:tensorflow:Unresolved object in checkpoint: (root).optimizer's state 'm' for (root).layer_with_weights-0.transformer/layer_1/output/kernel:0\n"
     ]
    },
    {
     "name": "stderr",
     "output_type": "stream",
     "text": [
      "WARNING:tensorflow:Unresolved object in checkpoint: (root).optimizer's state 'm' for (root).layer_with_weights-0.transformer/layer_1/output/kernel:0\n"
     ]
    },
    {
     "name": "stdout",
     "output_type": "stream",
     "text": [
      "WARNING:tensorflow:Unresolved object in checkpoint: (root).optimizer's state 'm' for (root).layer_with_weights-0.transformer/layer_1/output/bias:0\n"
     ]
    },
    {
     "name": "stderr",
     "output_type": "stream",
     "text": [
      "WARNING:tensorflow:Unresolved object in checkpoint: (root).optimizer's state 'm' for (root).layer_with_weights-0.transformer/layer_1/output/bias:0\n"
     ]
    },
    {
     "name": "stdout",
     "output_type": "stream",
     "text": [
      "WARNING:tensorflow:Unresolved object in checkpoint: (root).optimizer's state 'm' for (root).layer_with_weights-0.transformer/layer_1/output_layer_norm/gamma:0\n"
     ]
    },
    {
     "name": "stderr",
     "output_type": "stream",
     "text": [
      "WARNING:tensorflow:Unresolved object in checkpoint: (root).optimizer's state 'm' for (root).layer_with_weights-0.transformer/layer_1/output_layer_norm/gamma:0\n"
     ]
    },
    {
     "name": "stdout",
     "output_type": "stream",
     "text": [
      "WARNING:tensorflow:Unresolved object in checkpoint: (root).optimizer's state 'm' for (root).layer_with_weights-0.transformer/layer_1/output_layer_norm/beta:0\n"
     ]
    },
    {
     "name": "stderr",
     "output_type": "stream",
     "text": [
      "WARNING:tensorflow:Unresolved object in checkpoint: (root).optimizer's state 'm' for (root).layer_with_weights-0.transformer/layer_1/output_layer_norm/beta:0\n"
     ]
    },
    {
     "name": "stdout",
     "output_type": "stream",
     "text": [
      "WARNING:tensorflow:Unresolved object in checkpoint: (root).optimizer's state 'm' for (root).layer_with_weights-0.transformer/layer_2/self_attention/query/kernel:0\n"
     ]
    },
    {
     "name": "stderr",
     "output_type": "stream",
     "text": [
      "WARNING:tensorflow:Unresolved object in checkpoint: (root).optimizer's state 'm' for (root).layer_with_weights-0.transformer/layer_2/self_attention/query/kernel:0\n"
     ]
    },
    {
     "name": "stdout",
     "output_type": "stream",
     "text": [
      "WARNING:tensorflow:Unresolved object in checkpoint: (root).optimizer's state 'm' for (root).layer_with_weights-0.transformer/layer_2/self_attention/query/bias:0\n"
     ]
    },
    {
     "name": "stderr",
     "output_type": "stream",
     "text": [
      "WARNING:tensorflow:Unresolved object in checkpoint: (root).optimizer's state 'm' for (root).layer_with_weights-0.transformer/layer_2/self_attention/query/bias:0\n"
     ]
    },
    {
     "name": "stdout",
     "output_type": "stream",
     "text": [
      "WARNING:tensorflow:Unresolved object in checkpoint: (root).optimizer's state 'm' for (root).layer_with_weights-0.transformer/layer_2/self_attention/key/kernel:0\n"
     ]
    },
    {
     "name": "stderr",
     "output_type": "stream",
     "text": [
      "WARNING:tensorflow:Unresolved object in checkpoint: (root).optimizer's state 'm' for (root).layer_with_weights-0.transformer/layer_2/self_attention/key/kernel:0\n"
     ]
    },
    {
     "name": "stdout",
     "output_type": "stream",
     "text": [
      "WARNING:tensorflow:Unresolved object in checkpoint: (root).optimizer's state 'm' for (root).layer_with_weights-0.transformer/layer_2/self_attention/key/bias:0\n"
     ]
    },
    {
     "name": "stderr",
     "output_type": "stream",
     "text": [
      "WARNING:tensorflow:Unresolved object in checkpoint: (root).optimizer's state 'm' for (root).layer_with_weights-0.transformer/layer_2/self_attention/key/bias:0\n"
     ]
    },
    {
     "name": "stdout",
     "output_type": "stream",
     "text": [
      "WARNING:tensorflow:Unresolved object in checkpoint: (root).optimizer's state 'm' for (root).layer_with_weights-0.transformer/layer_2/self_attention/value/kernel:0\n"
     ]
    },
    {
     "name": "stderr",
     "output_type": "stream",
     "text": [
      "WARNING:tensorflow:Unresolved object in checkpoint: (root).optimizer's state 'm' for (root).layer_with_weights-0.transformer/layer_2/self_attention/value/kernel:0\n"
     ]
    },
    {
     "name": "stdout",
     "output_type": "stream",
     "text": [
      "WARNING:tensorflow:Unresolved object in checkpoint: (root).optimizer's state 'm' for (root).layer_with_weights-0.transformer/layer_2/self_attention/value/bias:0\n"
     ]
    },
    {
     "name": "stderr",
     "output_type": "stream",
     "text": [
      "WARNING:tensorflow:Unresolved object in checkpoint: (root).optimizer's state 'm' for (root).layer_with_weights-0.transformer/layer_2/self_attention/value/bias:0\n"
     ]
    },
    {
     "name": "stdout",
     "output_type": "stream",
     "text": [
      "WARNING:tensorflow:Unresolved object in checkpoint: (root).optimizer's state 'm' for (root).layer_with_weights-0.transformer/layer_2/self_attention/attention_output/kernel:0\n"
     ]
    },
    {
     "name": "stderr",
     "output_type": "stream",
     "text": [
      "WARNING:tensorflow:Unresolved object in checkpoint: (root).optimizer's state 'm' for (root).layer_with_weights-0.transformer/layer_2/self_attention/attention_output/kernel:0\n"
     ]
    },
    {
     "name": "stdout",
     "output_type": "stream",
     "text": [
      "WARNING:tensorflow:Unresolved object in checkpoint: (root).optimizer's state 'm' for (root).layer_with_weights-0.transformer/layer_2/self_attention/attention_output/bias:0\n"
     ]
    },
    {
     "name": "stderr",
     "output_type": "stream",
     "text": [
      "WARNING:tensorflow:Unresolved object in checkpoint: (root).optimizer's state 'm' for (root).layer_with_weights-0.transformer/layer_2/self_attention/attention_output/bias:0\n"
     ]
    },
    {
     "name": "stdout",
     "output_type": "stream",
     "text": [
      "WARNING:tensorflow:Unresolved object in checkpoint: (root).optimizer's state 'm' for (root).layer_with_weights-0.transformer/layer_2/self_attention_layer_norm/gamma:0\n"
     ]
    },
    {
     "name": "stderr",
     "output_type": "stream",
     "text": [
      "WARNING:tensorflow:Unresolved object in checkpoint: (root).optimizer's state 'm' for (root).layer_with_weights-0.transformer/layer_2/self_attention_layer_norm/gamma:0\n"
     ]
    },
    {
     "name": "stdout",
     "output_type": "stream",
     "text": [
      "WARNING:tensorflow:Unresolved object in checkpoint: (root).optimizer's state 'm' for (root).layer_with_weights-0.transformer/layer_2/self_attention_layer_norm/beta:0\n"
     ]
    },
    {
     "name": "stderr",
     "output_type": "stream",
     "text": [
      "WARNING:tensorflow:Unresolved object in checkpoint: (root).optimizer's state 'm' for (root).layer_with_weights-0.transformer/layer_2/self_attention_layer_norm/beta:0\n"
     ]
    },
    {
     "name": "stdout",
     "output_type": "stream",
     "text": [
      "WARNING:tensorflow:Unresolved object in checkpoint: (root).optimizer's state 'm' for (root).layer_with_weights-0.transformer/layer_2/intermediate/kernel:0\n"
     ]
    },
    {
     "name": "stderr",
     "output_type": "stream",
     "text": [
      "WARNING:tensorflow:Unresolved object in checkpoint: (root).optimizer's state 'm' for (root).layer_with_weights-0.transformer/layer_2/intermediate/kernel:0\n"
     ]
    },
    {
     "name": "stdout",
     "output_type": "stream",
     "text": [
      "WARNING:tensorflow:Unresolved object in checkpoint: (root).optimizer's state 'm' for (root).layer_with_weights-0.transformer/layer_2/intermediate/bias:0\n"
     ]
    },
    {
     "name": "stderr",
     "output_type": "stream",
     "text": [
      "WARNING:tensorflow:Unresolved object in checkpoint: (root).optimizer's state 'm' for (root).layer_with_weights-0.transformer/layer_2/intermediate/bias:0\n"
     ]
    },
    {
     "name": "stdout",
     "output_type": "stream",
     "text": [
      "WARNING:tensorflow:Unresolved object in checkpoint: (root).optimizer's state 'm' for (root).layer_with_weights-0.transformer/layer_2/output/kernel:0\n"
     ]
    },
    {
     "name": "stderr",
     "output_type": "stream",
     "text": [
      "WARNING:tensorflow:Unresolved object in checkpoint: (root).optimizer's state 'm' for (root).layer_with_weights-0.transformer/layer_2/output/kernel:0\n"
     ]
    },
    {
     "name": "stdout",
     "output_type": "stream",
     "text": [
      "WARNING:tensorflow:Unresolved object in checkpoint: (root).optimizer's state 'm' for (root).layer_with_weights-0.transformer/layer_2/output/bias:0\n"
     ]
    },
    {
     "name": "stderr",
     "output_type": "stream",
     "text": [
      "WARNING:tensorflow:Unresolved object in checkpoint: (root).optimizer's state 'm' for (root).layer_with_weights-0.transformer/layer_2/output/bias:0\n"
     ]
    },
    {
     "name": "stdout",
     "output_type": "stream",
     "text": [
      "WARNING:tensorflow:Unresolved object in checkpoint: (root).optimizer's state 'm' for (root).layer_with_weights-0.transformer/layer_2/output_layer_norm/gamma:0\n"
     ]
    },
    {
     "name": "stderr",
     "output_type": "stream",
     "text": [
      "WARNING:tensorflow:Unresolved object in checkpoint: (root).optimizer's state 'm' for (root).layer_with_weights-0.transformer/layer_2/output_layer_norm/gamma:0\n"
     ]
    },
    {
     "name": "stdout",
     "output_type": "stream",
     "text": [
      "WARNING:tensorflow:Unresolved object in checkpoint: (root).optimizer's state 'm' for (root).layer_with_weights-0.transformer/layer_2/output_layer_norm/beta:0\n"
     ]
    },
    {
     "name": "stderr",
     "output_type": "stream",
     "text": [
      "WARNING:tensorflow:Unresolved object in checkpoint: (root).optimizer's state 'm' for (root).layer_with_weights-0.transformer/layer_2/output_layer_norm/beta:0\n"
     ]
    },
    {
     "name": "stdout",
     "output_type": "stream",
     "text": [
      "WARNING:tensorflow:Unresolved object in checkpoint: (root).optimizer's state 'm' for (root).layer_with_weights-0.transformer/layer_3/self_attention/query/kernel:0\n"
     ]
    },
    {
     "name": "stderr",
     "output_type": "stream",
     "text": [
      "WARNING:tensorflow:Unresolved object in checkpoint: (root).optimizer's state 'm' for (root).layer_with_weights-0.transformer/layer_3/self_attention/query/kernel:0\n"
     ]
    },
    {
     "name": "stdout",
     "output_type": "stream",
     "text": [
      "WARNING:tensorflow:Unresolved object in checkpoint: (root).optimizer's state 'm' for (root).layer_with_weights-0.transformer/layer_3/self_attention/query/bias:0\n"
     ]
    },
    {
     "name": "stderr",
     "output_type": "stream",
     "text": [
      "WARNING:tensorflow:Unresolved object in checkpoint: (root).optimizer's state 'm' for (root).layer_with_weights-0.transformer/layer_3/self_attention/query/bias:0\n"
     ]
    },
    {
     "name": "stdout",
     "output_type": "stream",
     "text": [
      "WARNING:tensorflow:Unresolved object in checkpoint: (root).optimizer's state 'm' for (root).layer_with_weights-0.transformer/layer_3/self_attention/key/kernel:0\n"
     ]
    },
    {
     "name": "stderr",
     "output_type": "stream",
     "text": [
      "WARNING:tensorflow:Unresolved object in checkpoint: (root).optimizer's state 'm' for (root).layer_with_weights-0.transformer/layer_3/self_attention/key/kernel:0\n"
     ]
    },
    {
     "name": "stdout",
     "output_type": "stream",
     "text": [
      "WARNING:tensorflow:Unresolved object in checkpoint: (root).optimizer's state 'm' for (root).layer_with_weights-0.transformer/layer_3/self_attention/key/bias:0\n"
     ]
    },
    {
     "name": "stderr",
     "output_type": "stream",
     "text": [
      "WARNING:tensorflow:Unresolved object in checkpoint: (root).optimizer's state 'm' for (root).layer_with_weights-0.transformer/layer_3/self_attention/key/bias:0\n"
     ]
    },
    {
     "name": "stdout",
     "output_type": "stream",
     "text": [
      "WARNING:tensorflow:Unresolved object in checkpoint: (root).optimizer's state 'm' for (root).layer_with_weights-0.transformer/layer_3/self_attention/value/kernel:0\n"
     ]
    },
    {
     "name": "stderr",
     "output_type": "stream",
     "text": [
      "WARNING:tensorflow:Unresolved object in checkpoint: (root).optimizer's state 'm' for (root).layer_with_weights-0.transformer/layer_3/self_attention/value/kernel:0\n"
     ]
    },
    {
     "name": "stdout",
     "output_type": "stream",
     "text": [
      "WARNING:tensorflow:Unresolved object in checkpoint: (root).optimizer's state 'm' for (root).layer_with_weights-0.transformer/layer_3/self_attention/value/bias:0\n"
     ]
    },
    {
     "name": "stderr",
     "output_type": "stream",
     "text": [
      "WARNING:tensorflow:Unresolved object in checkpoint: (root).optimizer's state 'm' for (root).layer_with_weights-0.transformer/layer_3/self_attention/value/bias:0\n"
     ]
    },
    {
     "name": "stdout",
     "output_type": "stream",
     "text": [
      "WARNING:tensorflow:Unresolved object in checkpoint: (root).optimizer's state 'm' for (root).layer_with_weights-0.transformer/layer_3/self_attention/attention_output/kernel:0\n"
     ]
    },
    {
     "name": "stderr",
     "output_type": "stream",
     "text": [
      "WARNING:tensorflow:Unresolved object in checkpoint: (root).optimizer's state 'm' for (root).layer_with_weights-0.transformer/layer_3/self_attention/attention_output/kernel:0\n"
     ]
    },
    {
     "name": "stdout",
     "output_type": "stream",
     "text": [
      "WARNING:tensorflow:Unresolved object in checkpoint: (root).optimizer's state 'm' for (root).layer_with_weights-0.transformer/layer_3/self_attention/attention_output/bias:0\n"
     ]
    },
    {
     "name": "stderr",
     "output_type": "stream",
     "text": [
      "WARNING:tensorflow:Unresolved object in checkpoint: (root).optimizer's state 'm' for (root).layer_with_weights-0.transformer/layer_3/self_attention/attention_output/bias:0\n"
     ]
    },
    {
     "name": "stdout",
     "output_type": "stream",
     "text": [
      "WARNING:tensorflow:Unresolved object in checkpoint: (root).optimizer's state 'm' for (root).layer_with_weights-0.transformer/layer_3/self_attention_layer_norm/gamma:0\n"
     ]
    },
    {
     "name": "stderr",
     "output_type": "stream",
     "text": [
      "WARNING:tensorflow:Unresolved object in checkpoint: (root).optimizer's state 'm' for (root).layer_with_weights-0.transformer/layer_3/self_attention_layer_norm/gamma:0\n"
     ]
    },
    {
     "name": "stdout",
     "output_type": "stream",
     "text": [
      "WARNING:tensorflow:Unresolved object in checkpoint: (root).optimizer's state 'm' for (root).layer_with_weights-0.transformer/layer_3/self_attention_layer_norm/beta:0\n"
     ]
    },
    {
     "name": "stderr",
     "output_type": "stream",
     "text": [
      "WARNING:tensorflow:Unresolved object in checkpoint: (root).optimizer's state 'm' for (root).layer_with_weights-0.transformer/layer_3/self_attention_layer_norm/beta:0\n"
     ]
    },
    {
     "name": "stdout",
     "output_type": "stream",
     "text": [
      "WARNING:tensorflow:Unresolved object in checkpoint: (root).optimizer's state 'm' for (root).layer_with_weights-0.transformer/layer_3/intermediate/kernel:0\n"
     ]
    },
    {
     "name": "stderr",
     "output_type": "stream",
     "text": [
      "WARNING:tensorflow:Unresolved object in checkpoint: (root).optimizer's state 'm' for (root).layer_with_weights-0.transformer/layer_3/intermediate/kernel:0\n"
     ]
    },
    {
     "name": "stdout",
     "output_type": "stream",
     "text": [
      "WARNING:tensorflow:Unresolved object in checkpoint: (root).optimizer's state 'm' for (root).layer_with_weights-0.transformer/layer_3/intermediate/bias:0\n"
     ]
    },
    {
     "name": "stderr",
     "output_type": "stream",
     "text": [
      "WARNING:tensorflow:Unresolved object in checkpoint: (root).optimizer's state 'm' for (root).layer_with_weights-0.transformer/layer_3/intermediate/bias:0\n"
     ]
    },
    {
     "name": "stdout",
     "output_type": "stream",
     "text": [
      "WARNING:tensorflow:Unresolved object in checkpoint: (root).optimizer's state 'm' for (root).layer_with_weights-0.transformer/layer_3/output/kernel:0\n"
     ]
    },
    {
     "name": "stderr",
     "output_type": "stream",
     "text": [
      "WARNING:tensorflow:Unresolved object in checkpoint: (root).optimizer's state 'm' for (root).layer_with_weights-0.transformer/layer_3/output/kernel:0\n"
     ]
    },
    {
     "name": "stdout",
     "output_type": "stream",
     "text": [
      "WARNING:tensorflow:Unresolved object in checkpoint: (root).optimizer's state 'm' for (root).layer_with_weights-0.transformer/layer_3/output/bias:0\n"
     ]
    },
    {
     "name": "stderr",
     "output_type": "stream",
     "text": [
      "WARNING:tensorflow:Unresolved object in checkpoint: (root).optimizer's state 'm' for (root).layer_with_weights-0.transformer/layer_3/output/bias:0\n"
     ]
    },
    {
     "name": "stdout",
     "output_type": "stream",
     "text": [
      "WARNING:tensorflow:Unresolved object in checkpoint: (root).optimizer's state 'm' for (root).layer_with_weights-0.transformer/layer_3/output_layer_norm/gamma:0\n"
     ]
    },
    {
     "name": "stderr",
     "output_type": "stream",
     "text": [
      "WARNING:tensorflow:Unresolved object in checkpoint: (root).optimizer's state 'm' for (root).layer_with_weights-0.transformer/layer_3/output_layer_norm/gamma:0\n"
     ]
    },
    {
     "name": "stdout",
     "output_type": "stream",
     "text": [
      "WARNING:tensorflow:Unresolved object in checkpoint: (root).optimizer's state 'm' for (root).layer_with_weights-0.transformer/layer_3/output_layer_norm/beta:0\n"
     ]
    },
    {
     "name": "stderr",
     "output_type": "stream",
     "text": [
      "WARNING:tensorflow:Unresolved object in checkpoint: (root).optimizer's state 'm' for (root).layer_with_weights-0.transformer/layer_3/output_layer_norm/beta:0\n"
     ]
    },
    {
     "name": "stdout",
     "output_type": "stream",
     "text": [
      "WARNING:tensorflow:Unresolved object in checkpoint: (root).optimizer's state 'm' for (root).layer_with_weights-0.transformer/layer_4/self_attention/query/kernel:0\n"
     ]
    },
    {
     "name": "stderr",
     "output_type": "stream",
     "text": [
      "WARNING:tensorflow:Unresolved object in checkpoint: (root).optimizer's state 'm' for (root).layer_with_weights-0.transformer/layer_4/self_attention/query/kernel:0\n"
     ]
    },
    {
     "name": "stdout",
     "output_type": "stream",
     "text": [
      "WARNING:tensorflow:Unresolved object in checkpoint: (root).optimizer's state 'm' for (root).layer_with_weights-0.transformer/layer_4/self_attention/query/bias:0\n"
     ]
    },
    {
     "name": "stderr",
     "output_type": "stream",
     "text": [
      "WARNING:tensorflow:Unresolved object in checkpoint: (root).optimizer's state 'm' for (root).layer_with_weights-0.transformer/layer_4/self_attention/query/bias:0\n"
     ]
    },
    {
     "name": "stdout",
     "output_type": "stream",
     "text": [
      "WARNING:tensorflow:Unresolved object in checkpoint: (root).optimizer's state 'm' for (root).layer_with_weights-0.transformer/layer_4/self_attention/key/kernel:0\n"
     ]
    },
    {
     "name": "stderr",
     "output_type": "stream",
     "text": [
      "WARNING:tensorflow:Unresolved object in checkpoint: (root).optimizer's state 'm' for (root).layer_with_weights-0.transformer/layer_4/self_attention/key/kernel:0\n"
     ]
    },
    {
     "name": "stdout",
     "output_type": "stream",
     "text": [
      "WARNING:tensorflow:Unresolved object in checkpoint: (root).optimizer's state 'm' for (root).layer_with_weights-0.transformer/layer_4/self_attention/key/bias:0\n"
     ]
    },
    {
     "name": "stderr",
     "output_type": "stream",
     "text": [
      "WARNING:tensorflow:Unresolved object in checkpoint: (root).optimizer's state 'm' for (root).layer_with_weights-0.transformer/layer_4/self_attention/key/bias:0\n"
     ]
    },
    {
     "name": "stdout",
     "output_type": "stream",
     "text": [
      "WARNING:tensorflow:Unresolved object in checkpoint: (root).optimizer's state 'm' for (root).layer_with_weights-0.transformer/layer_4/self_attention/value/kernel:0\n"
     ]
    },
    {
     "name": "stderr",
     "output_type": "stream",
     "text": [
      "WARNING:tensorflow:Unresolved object in checkpoint: (root).optimizer's state 'm' for (root).layer_with_weights-0.transformer/layer_4/self_attention/value/kernel:0\n"
     ]
    },
    {
     "name": "stdout",
     "output_type": "stream",
     "text": [
      "WARNING:tensorflow:Unresolved object in checkpoint: (root).optimizer's state 'm' for (root).layer_with_weights-0.transformer/layer_4/self_attention/value/bias:0\n"
     ]
    },
    {
     "name": "stderr",
     "output_type": "stream",
     "text": [
      "WARNING:tensorflow:Unresolved object in checkpoint: (root).optimizer's state 'm' for (root).layer_with_weights-0.transformer/layer_4/self_attention/value/bias:0\n"
     ]
    },
    {
     "name": "stdout",
     "output_type": "stream",
     "text": [
      "WARNING:tensorflow:Unresolved object in checkpoint: (root).optimizer's state 'm' for (root).layer_with_weights-0.transformer/layer_4/self_attention/attention_output/kernel:0\n"
     ]
    },
    {
     "name": "stderr",
     "output_type": "stream",
     "text": [
      "WARNING:tensorflow:Unresolved object in checkpoint: (root).optimizer's state 'm' for (root).layer_with_weights-0.transformer/layer_4/self_attention/attention_output/kernel:0\n"
     ]
    },
    {
     "name": "stdout",
     "output_type": "stream",
     "text": [
      "WARNING:tensorflow:Unresolved object in checkpoint: (root).optimizer's state 'm' for (root).layer_with_weights-0.transformer/layer_4/self_attention/attention_output/bias:0\n"
     ]
    },
    {
     "name": "stderr",
     "output_type": "stream",
     "text": [
      "WARNING:tensorflow:Unresolved object in checkpoint: (root).optimizer's state 'm' for (root).layer_with_weights-0.transformer/layer_4/self_attention/attention_output/bias:0\n"
     ]
    },
    {
     "name": "stdout",
     "output_type": "stream",
     "text": [
      "WARNING:tensorflow:Unresolved object in checkpoint: (root).optimizer's state 'm' for (root).layer_with_weights-0.transformer/layer_4/self_attention_layer_norm/gamma:0\n"
     ]
    },
    {
     "name": "stderr",
     "output_type": "stream",
     "text": [
      "WARNING:tensorflow:Unresolved object in checkpoint: (root).optimizer's state 'm' for (root).layer_with_weights-0.transformer/layer_4/self_attention_layer_norm/gamma:0\n"
     ]
    },
    {
     "name": "stdout",
     "output_type": "stream",
     "text": [
      "WARNING:tensorflow:Unresolved object in checkpoint: (root).optimizer's state 'm' for (root).layer_with_weights-0.transformer/layer_4/self_attention_layer_norm/beta:0\n"
     ]
    },
    {
     "name": "stderr",
     "output_type": "stream",
     "text": [
      "WARNING:tensorflow:Unresolved object in checkpoint: (root).optimizer's state 'm' for (root).layer_with_weights-0.transformer/layer_4/self_attention_layer_norm/beta:0\n"
     ]
    },
    {
     "name": "stdout",
     "output_type": "stream",
     "text": [
      "WARNING:tensorflow:Unresolved object in checkpoint: (root).optimizer's state 'm' for (root).layer_with_weights-0.transformer/layer_4/intermediate/kernel:0\n"
     ]
    },
    {
     "name": "stderr",
     "output_type": "stream",
     "text": [
      "WARNING:tensorflow:Unresolved object in checkpoint: (root).optimizer's state 'm' for (root).layer_with_weights-0.transformer/layer_4/intermediate/kernel:0\n"
     ]
    },
    {
     "name": "stdout",
     "output_type": "stream",
     "text": [
      "WARNING:tensorflow:Unresolved object in checkpoint: (root).optimizer's state 'm' for (root).layer_with_weights-0.transformer/layer_4/intermediate/bias:0\n"
     ]
    },
    {
     "name": "stderr",
     "output_type": "stream",
     "text": [
      "WARNING:tensorflow:Unresolved object in checkpoint: (root).optimizer's state 'm' for (root).layer_with_weights-0.transformer/layer_4/intermediate/bias:0\n"
     ]
    },
    {
     "name": "stdout",
     "output_type": "stream",
     "text": [
      "WARNING:tensorflow:Unresolved object in checkpoint: (root).optimizer's state 'm' for (root).layer_with_weights-0.transformer/layer_4/output/kernel:0\n"
     ]
    },
    {
     "name": "stderr",
     "output_type": "stream",
     "text": [
      "WARNING:tensorflow:Unresolved object in checkpoint: (root).optimizer's state 'm' for (root).layer_with_weights-0.transformer/layer_4/output/kernel:0\n"
     ]
    },
    {
     "name": "stdout",
     "output_type": "stream",
     "text": [
      "WARNING:tensorflow:Unresolved object in checkpoint: (root).optimizer's state 'm' for (root).layer_with_weights-0.transformer/layer_4/output/bias:0\n"
     ]
    },
    {
     "name": "stderr",
     "output_type": "stream",
     "text": [
      "WARNING:tensorflow:Unresolved object in checkpoint: (root).optimizer's state 'm' for (root).layer_with_weights-0.transformer/layer_4/output/bias:0\n"
     ]
    },
    {
     "name": "stdout",
     "output_type": "stream",
     "text": [
      "WARNING:tensorflow:Unresolved object in checkpoint: (root).optimizer's state 'm' for (root).layer_with_weights-0.transformer/layer_4/output_layer_norm/gamma:0\n"
     ]
    },
    {
     "name": "stderr",
     "output_type": "stream",
     "text": [
      "WARNING:tensorflow:Unresolved object in checkpoint: (root).optimizer's state 'm' for (root).layer_with_weights-0.transformer/layer_4/output_layer_norm/gamma:0\n"
     ]
    },
    {
     "name": "stdout",
     "output_type": "stream",
     "text": [
      "WARNING:tensorflow:Unresolved object in checkpoint: (root).optimizer's state 'm' for (root).layer_with_weights-0.transformer/layer_4/output_layer_norm/beta:0\n"
     ]
    },
    {
     "name": "stderr",
     "output_type": "stream",
     "text": [
      "WARNING:tensorflow:Unresolved object in checkpoint: (root).optimizer's state 'm' for (root).layer_with_weights-0.transformer/layer_4/output_layer_norm/beta:0\n"
     ]
    },
    {
     "name": "stdout",
     "output_type": "stream",
     "text": [
      "WARNING:tensorflow:Unresolved object in checkpoint: (root).optimizer's state 'm' for (root).layer_with_weights-0.transformer/layer_5/self_attention/query/kernel:0\n"
     ]
    },
    {
     "name": "stderr",
     "output_type": "stream",
     "text": [
      "WARNING:tensorflow:Unresolved object in checkpoint: (root).optimizer's state 'm' for (root).layer_with_weights-0.transformer/layer_5/self_attention/query/kernel:0\n"
     ]
    },
    {
     "name": "stdout",
     "output_type": "stream",
     "text": [
      "WARNING:tensorflow:Unresolved object in checkpoint: (root).optimizer's state 'm' for (root).layer_with_weights-0.transformer/layer_5/self_attention/query/bias:0\n"
     ]
    },
    {
     "name": "stderr",
     "output_type": "stream",
     "text": [
      "WARNING:tensorflow:Unresolved object in checkpoint: (root).optimizer's state 'm' for (root).layer_with_weights-0.transformer/layer_5/self_attention/query/bias:0\n"
     ]
    },
    {
     "name": "stdout",
     "output_type": "stream",
     "text": [
      "WARNING:tensorflow:Unresolved object in checkpoint: (root).optimizer's state 'm' for (root).layer_with_weights-0.transformer/layer_5/self_attention/key/kernel:0\n"
     ]
    },
    {
     "name": "stderr",
     "output_type": "stream",
     "text": [
      "WARNING:tensorflow:Unresolved object in checkpoint: (root).optimizer's state 'm' for (root).layer_with_weights-0.transformer/layer_5/self_attention/key/kernel:0\n"
     ]
    },
    {
     "name": "stdout",
     "output_type": "stream",
     "text": [
      "WARNING:tensorflow:Unresolved object in checkpoint: (root).optimizer's state 'm' for (root).layer_with_weights-0.transformer/layer_5/self_attention/key/bias:0\n"
     ]
    },
    {
     "name": "stderr",
     "output_type": "stream",
     "text": [
      "WARNING:tensorflow:Unresolved object in checkpoint: (root).optimizer's state 'm' for (root).layer_with_weights-0.transformer/layer_5/self_attention/key/bias:0\n"
     ]
    },
    {
     "name": "stdout",
     "output_type": "stream",
     "text": [
      "WARNING:tensorflow:Unresolved object in checkpoint: (root).optimizer's state 'm' for (root).layer_with_weights-0.transformer/layer_5/self_attention/value/kernel:0\n"
     ]
    },
    {
     "name": "stderr",
     "output_type": "stream",
     "text": [
      "WARNING:tensorflow:Unresolved object in checkpoint: (root).optimizer's state 'm' for (root).layer_with_weights-0.transformer/layer_5/self_attention/value/kernel:0\n"
     ]
    },
    {
     "name": "stdout",
     "output_type": "stream",
     "text": [
      "WARNING:tensorflow:Unresolved object in checkpoint: (root).optimizer's state 'm' for (root).layer_with_weights-0.transformer/layer_5/self_attention/value/bias:0\n"
     ]
    },
    {
     "name": "stderr",
     "output_type": "stream",
     "text": [
      "WARNING:tensorflow:Unresolved object in checkpoint: (root).optimizer's state 'm' for (root).layer_with_weights-0.transformer/layer_5/self_attention/value/bias:0\n"
     ]
    },
    {
     "name": "stdout",
     "output_type": "stream",
     "text": [
      "WARNING:tensorflow:Unresolved object in checkpoint: (root).optimizer's state 'm' for (root).layer_with_weights-0.transformer/layer_5/self_attention/attention_output/kernel:0\n"
     ]
    },
    {
     "name": "stderr",
     "output_type": "stream",
     "text": [
      "WARNING:tensorflow:Unresolved object in checkpoint: (root).optimizer's state 'm' for (root).layer_with_weights-0.transformer/layer_5/self_attention/attention_output/kernel:0\n"
     ]
    },
    {
     "name": "stdout",
     "output_type": "stream",
     "text": [
      "WARNING:tensorflow:Unresolved object in checkpoint: (root).optimizer's state 'm' for (root).layer_with_weights-0.transformer/layer_5/self_attention/attention_output/bias:0\n"
     ]
    },
    {
     "name": "stderr",
     "output_type": "stream",
     "text": [
      "WARNING:tensorflow:Unresolved object in checkpoint: (root).optimizer's state 'm' for (root).layer_with_weights-0.transformer/layer_5/self_attention/attention_output/bias:0\n"
     ]
    },
    {
     "name": "stdout",
     "output_type": "stream",
     "text": [
      "WARNING:tensorflow:Unresolved object in checkpoint: (root).optimizer's state 'm' for (root).layer_with_weights-0.transformer/layer_5/self_attention_layer_norm/gamma:0\n"
     ]
    },
    {
     "name": "stderr",
     "output_type": "stream",
     "text": [
      "WARNING:tensorflow:Unresolved object in checkpoint: (root).optimizer's state 'm' for (root).layer_with_weights-0.transformer/layer_5/self_attention_layer_norm/gamma:0\n"
     ]
    },
    {
     "name": "stdout",
     "output_type": "stream",
     "text": [
      "WARNING:tensorflow:Unresolved object in checkpoint: (root).optimizer's state 'm' for (root).layer_with_weights-0.transformer/layer_5/self_attention_layer_norm/beta:0\n"
     ]
    },
    {
     "name": "stderr",
     "output_type": "stream",
     "text": [
      "WARNING:tensorflow:Unresolved object in checkpoint: (root).optimizer's state 'm' for (root).layer_with_weights-0.transformer/layer_5/self_attention_layer_norm/beta:0\n"
     ]
    },
    {
     "name": "stdout",
     "output_type": "stream",
     "text": [
      "WARNING:tensorflow:Unresolved object in checkpoint: (root).optimizer's state 'm' for (root).layer_with_weights-0.transformer/layer_5/intermediate/kernel:0\n"
     ]
    },
    {
     "name": "stderr",
     "output_type": "stream",
     "text": [
      "WARNING:tensorflow:Unresolved object in checkpoint: (root).optimizer's state 'm' for (root).layer_with_weights-0.transformer/layer_5/intermediate/kernel:0\n"
     ]
    },
    {
     "name": "stdout",
     "output_type": "stream",
     "text": [
      "WARNING:tensorflow:Unresolved object in checkpoint: (root).optimizer's state 'm' for (root).layer_with_weights-0.transformer/layer_5/intermediate/bias:0\n"
     ]
    },
    {
     "name": "stderr",
     "output_type": "stream",
     "text": [
      "WARNING:tensorflow:Unresolved object in checkpoint: (root).optimizer's state 'm' for (root).layer_with_weights-0.transformer/layer_5/intermediate/bias:0\n"
     ]
    },
    {
     "name": "stdout",
     "output_type": "stream",
     "text": [
      "WARNING:tensorflow:Unresolved object in checkpoint: (root).optimizer's state 'm' for (root).layer_with_weights-0.transformer/layer_5/output/kernel:0\n"
     ]
    },
    {
     "name": "stderr",
     "output_type": "stream",
     "text": [
      "WARNING:tensorflow:Unresolved object in checkpoint: (root).optimizer's state 'm' for (root).layer_with_weights-0.transformer/layer_5/output/kernel:0\n"
     ]
    },
    {
     "name": "stdout",
     "output_type": "stream",
     "text": [
      "WARNING:tensorflow:Unresolved object in checkpoint: (root).optimizer's state 'm' for (root).layer_with_weights-0.transformer/layer_5/output/bias:0\n"
     ]
    },
    {
     "name": "stderr",
     "output_type": "stream",
     "text": [
      "WARNING:tensorflow:Unresolved object in checkpoint: (root).optimizer's state 'm' for (root).layer_with_weights-0.transformer/layer_5/output/bias:0\n"
     ]
    },
    {
     "name": "stdout",
     "output_type": "stream",
     "text": [
      "WARNING:tensorflow:Unresolved object in checkpoint: (root).optimizer's state 'm' for (root).layer_with_weights-0.transformer/layer_5/output_layer_norm/gamma:0\n"
     ]
    },
    {
     "name": "stderr",
     "output_type": "stream",
     "text": [
      "WARNING:tensorflow:Unresolved object in checkpoint: (root).optimizer's state 'm' for (root).layer_with_weights-0.transformer/layer_5/output_layer_norm/gamma:0\n"
     ]
    },
    {
     "name": "stdout",
     "output_type": "stream",
     "text": [
      "WARNING:tensorflow:Unresolved object in checkpoint: (root).optimizer's state 'm' for (root).layer_with_weights-0.transformer/layer_5/output_layer_norm/beta:0\n"
     ]
    },
    {
     "name": "stderr",
     "output_type": "stream",
     "text": [
      "WARNING:tensorflow:Unresolved object in checkpoint: (root).optimizer's state 'm' for (root).layer_with_weights-0.transformer/layer_5/output_layer_norm/beta:0\n"
     ]
    },
    {
     "name": "stdout",
     "output_type": "stream",
     "text": [
      "WARNING:tensorflow:Unresolved object in checkpoint: (root).optimizer's state 'm' for (root).layer_with_weights-0.transformer/layer_6/self_attention/query/kernel:0\n"
     ]
    },
    {
     "name": "stderr",
     "output_type": "stream",
     "text": [
      "WARNING:tensorflow:Unresolved object in checkpoint: (root).optimizer's state 'm' for (root).layer_with_weights-0.transformer/layer_6/self_attention/query/kernel:0\n"
     ]
    },
    {
     "name": "stdout",
     "output_type": "stream",
     "text": [
      "WARNING:tensorflow:Unresolved object in checkpoint: (root).optimizer's state 'm' for (root).layer_with_weights-0.transformer/layer_6/self_attention/query/bias:0\n"
     ]
    },
    {
     "name": "stderr",
     "output_type": "stream",
     "text": [
      "WARNING:tensorflow:Unresolved object in checkpoint: (root).optimizer's state 'm' for (root).layer_with_weights-0.transformer/layer_6/self_attention/query/bias:0\n"
     ]
    },
    {
     "name": "stdout",
     "output_type": "stream",
     "text": [
      "WARNING:tensorflow:Unresolved object in checkpoint: (root).optimizer's state 'm' for (root).layer_with_weights-0.transformer/layer_6/self_attention/key/kernel:0\n"
     ]
    },
    {
     "name": "stderr",
     "output_type": "stream",
     "text": [
      "WARNING:tensorflow:Unresolved object in checkpoint: (root).optimizer's state 'm' for (root).layer_with_weights-0.transformer/layer_6/self_attention/key/kernel:0\n"
     ]
    },
    {
     "name": "stdout",
     "output_type": "stream",
     "text": [
      "WARNING:tensorflow:Unresolved object in checkpoint: (root).optimizer's state 'm' for (root).layer_with_weights-0.transformer/layer_6/self_attention/key/bias:0\n"
     ]
    },
    {
     "name": "stderr",
     "output_type": "stream",
     "text": [
      "WARNING:tensorflow:Unresolved object in checkpoint: (root).optimizer's state 'm' for (root).layer_with_weights-0.transformer/layer_6/self_attention/key/bias:0\n"
     ]
    },
    {
     "name": "stdout",
     "output_type": "stream",
     "text": [
      "WARNING:tensorflow:Unresolved object in checkpoint: (root).optimizer's state 'm' for (root).layer_with_weights-0.transformer/layer_6/self_attention/value/kernel:0\n"
     ]
    },
    {
     "name": "stderr",
     "output_type": "stream",
     "text": [
      "WARNING:tensorflow:Unresolved object in checkpoint: (root).optimizer's state 'm' for (root).layer_with_weights-0.transformer/layer_6/self_attention/value/kernel:0\n"
     ]
    },
    {
     "name": "stdout",
     "output_type": "stream",
     "text": [
      "WARNING:tensorflow:Unresolved object in checkpoint: (root).optimizer's state 'm' for (root).layer_with_weights-0.transformer/layer_6/self_attention/value/bias:0\n"
     ]
    },
    {
     "name": "stderr",
     "output_type": "stream",
     "text": [
      "WARNING:tensorflow:Unresolved object in checkpoint: (root).optimizer's state 'm' for (root).layer_with_weights-0.transformer/layer_6/self_attention/value/bias:0\n"
     ]
    },
    {
     "name": "stdout",
     "output_type": "stream",
     "text": [
      "WARNING:tensorflow:Unresolved object in checkpoint: (root).optimizer's state 'm' for (root).layer_with_weights-0.transformer/layer_6/self_attention/attention_output/kernel:0\n"
     ]
    },
    {
     "name": "stderr",
     "output_type": "stream",
     "text": [
      "WARNING:tensorflow:Unresolved object in checkpoint: (root).optimizer's state 'm' for (root).layer_with_weights-0.transformer/layer_6/self_attention/attention_output/kernel:0\n"
     ]
    },
    {
     "name": "stdout",
     "output_type": "stream",
     "text": [
      "WARNING:tensorflow:Unresolved object in checkpoint: (root).optimizer's state 'm' for (root).layer_with_weights-0.transformer/layer_6/self_attention/attention_output/bias:0\n"
     ]
    },
    {
     "name": "stderr",
     "output_type": "stream",
     "text": [
      "WARNING:tensorflow:Unresolved object in checkpoint: (root).optimizer's state 'm' for (root).layer_with_weights-0.transformer/layer_6/self_attention/attention_output/bias:0\n"
     ]
    },
    {
     "name": "stdout",
     "output_type": "stream",
     "text": [
      "WARNING:tensorflow:Unresolved object in checkpoint: (root).optimizer's state 'm' for (root).layer_with_weights-0.transformer/layer_6/self_attention_layer_norm/gamma:0\n"
     ]
    },
    {
     "name": "stderr",
     "output_type": "stream",
     "text": [
      "WARNING:tensorflow:Unresolved object in checkpoint: (root).optimizer's state 'm' for (root).layer_with_weights-0.transformer/layer_6/self_attention_layer_norm/gamma:0\n"
     ]
    },
    {
     "name": "stdout",
     "output_type": "stream",
     "text": [
      "WARNING:tensorflow:Unresolved object in checkpoint: (root).optimizer's state 'm' for (root).layer_with_weights-0.transformer/layer_6/self_attention_layer_norm/beta:0\n"
     ]
    },
    {
     "name": "stderr",
     "output_type": "stream",
     "text": [
      "WARNING:tensorflow:Unresolved object in checkpoint: (root).optimizer's state 'm' for (root).layer_with_weights-0.transformer/layer_6/self_attention_layer_norm/beta:0\n"
     ]
    },
    {
     "name": "stdout",
     "output_type": "stream",
     "text": [
      "WARNING:tensorflow:Unresolved object in checkpoint: (root).optimizer's state 'm' for (root).layer_with_weights-0.transformer/layer_6/intermediate/kernel:0\n"
     ]
    },
    {
     "name": "stderr",
     "output_type": "stream",
     "text": [
      "WARNING:tensorflow:Unresolved object in checkpoint: (root).optimizer's state 'm' for (root).layer_with_weights-0.transformer/layer_6/intermediate/kernel:0\n"
     ]
    },
    {
     "name": "stdout",
     "output_type": "stream",
     "text": [
      "WARNING:tensorflow:Unresolved object in checkpoint: (root).optimizer's state 'm' for (root).layer_with_weights-0.transformer/layer_6/intermediate/bias:0\n"
     ]
    },
    {
     "name": "stderr",
     "output_type": "stream",
     "text": [
      "WARNING:tensorflow:Unresolved object in checkpoint: (root).optimizer's state 'm' for (root).layer_with_weights-0.transformer/layer_6/intermediate/bias:0\n"
     ]
    },
    {
     "name": "stdout",
     "output_type": "stream",
     "text": [
      "WARNING:tensorflow:Unresolved object in checkpoint: (root).optimizer's state 'm' for (root).layer_with_weights-0.transformer/layer_6/output/kernel:0\n"
     ]
    },
    {
     "name": "stderr",
     "output_type": "stream",
     "text": [
      "WARNING:tensorflow:Unresolved object in checkpoint: (root).optimizer's state 'm' for (root).layer_with_weights-0.transformer/layer_6/output/kernel:0\n"
     ]
    },
    {
     "name": "stdout",
     "output_type": "stream",
     "text": [
      "WARNING:tensorflow:Unresolved object in checkpoint: (root).optimizer's state 'm' for (root).layer_with_weights-0.transformer/layer_6/output/bias:0\n"
     ]
    },
    {
     "name": "stderr",
     "output_type": "stream",
     "text": [
      "WARNING:tensorflow:Unresolved object in checkpoint: (root).optimizer's state 'm' for (root).layer_with_weights-0.transformer/layer_6/output/bias:0\n"
     ]
    },
    {
     "name": "stdout",
     "output_type": "stream",
     "text": [
      "WARNING:tensorflow:Unresolved object in checkpoint: (root).optimizer's state 'm' for (root).layer_with_weights-0.transformer/layer_6/output_layer_norm/gamma:0\n"
     ]
    },
    {
     "name": "stderr",
     "output_type": "stream",
     "text": [
      "WARNING:tensorflow:Unresolved object in checkpoint: (root).optimizer's state 'm' for (root).layer_with_weights-0.transformer/layer_6/output_layer_norm/gamma:0\n"
     ]
    },
    {
     "name": "stdout",
     "output_type": "stream",
     "text": [
      "WARNING:tensorflow:Unresolved object in checkpoint: (root).optimizer's state 'm' for (root).layer_with_weights-0.transformer/layer_6/output_layer_norm/beta:0\n"
     ]
    },
    {
     "name": "stderr",
     "output_type": "stream",
     "text": [
      "WARNING:tensorflow:Unresolved object in checkpoint: (root).optimizer's state 'm' for (root).layer_with_weights-0.transformer/layer_6/output_layer_norm/beta:0\n"
     ]
    },
    {
     "name": "stdout",
     "output_type": "stream",
     "text": [
      "WARNING:tensorflow:Unresolved object in checkpoint: (root).optimizer's state 'm' for (root).layer_with_weights-0.transformer/layer_7/self_attention/query/kernel:0\n"
     ]
    },
    {
     "name": "stderr",
     "output_type": "stream",
     "text": [
      "WARNING:tensorflow:Unresolved object in checkpoint: (root).optimizer's state 'm' for (root).layer_with_weights-0.transformer/layer_7/self_attention/query/kernel:0\n"
     ]
    },
    {
     "name": "stdout",
     "output_type": "stream",
     "text": [
      "WARNING:tensorflow:Unresolved object in checkpoint: (root).optimizer's state 'm' for (root).layer_with_weights-0.transformer/layer_7/self_attention/query/bias:0\n"
     ]
    },
    {
     "name": "stderr",
     "output_type": "stream",
     "text": [
      "WARNING:tensorflow:Unresolved object in checkpoint: (root).optimizer's state 'm' for (root).layer_with_weights-0.transformer/layer_7/self_attention/query/bias:0\n"
     ]
    },
    {
     "name": "stdout",
     "output_type": "stream",
     "text": [
      "WARNING:tensorflow:Unresolved object in checkpoint: (root).optimizer's state 'm' for (root).layer_with_weights-0.transformer/layer_7/self_attention/key/kernel:0\n"
     ]
    },
    {
     "name": "stderr",
     "output_type": "stream",
     "text": [
      "WARNING:tensorflow:Unresolved object in checkpoint: (root).optimizer's state 'm' for (root).layer_with_weights-0.transformer/layer_7/self_attention/key/kernel:0\n"
     ]
    },
    {
     "name": "stdout",
     "output_type": "stream",
     "text": [
      "WARNING:tensorflow:Unresolved object in checkpoint: (root).optimizer's state 'm' for (root).layer_with_weights-0.transformer/layer_7/self_attention/key/bias:0\n"
     ]
    },
    {
     "name": "stderr",
     "output_type": "stream",
     "text": [
      "WARNING:tensorflow:Unresolved object in checkpoint: (root).optimizer's state 'm' for (root).layer_with_weights-0.transformer/layer_7/self_attention/key/bias:0\n"
     ]
    },
    {
     "name": "stdout",
     "output_type": "stream",
     "text": [
      "WARNING:tensorflow:Unresolved object in checkpoint: (root).optimizer's state 'm' for (root).layer_with_weights-0.transformer/layer_7/self_attention/value/kernel:0\n"
     ]
    },
    {
     "name": "stderr",
     "output_type": "stream",
     "text": [
      "WARNING:tensorflow:Unresolved object in checkpoint: (root).optimizer's state 'm' for (root).layer_with_weights-0.transformer/layer_7/self_attention/value/kernel:0\n"
     ]
    },
    {
     "name": "stdout",
     "output_type": "stream",
     "text": [
      "WARNING:tensorflow:Unresolved object in checkpoint: (root).optimizer's state 'm' for (root).layer_with_weights-0.transformer/layer_7/self_attention/value/bias:0\n"
     ]
    },
    {
     "name": "stderr",
     "output_type": "stream",
     "text": [
      "WARNING:tensorflow:Unresolved object in checkpoint: (root).optimizer's state 'm' for (root).layer_with_weights-0.transformer/layer_7/self_attention/value/bias:0\n"
     ]
    },
    {
     "name": "stdout",
     "output_type": "stream",
     "text": [
      "WARNING:tensorflow:Unresolved object in checkpoint: (root).optimizer's state 'm' for (root).layer_with_weights-0.transformer/layer_7/self_attention/attention_output/kernel:0\n"
     ]
    },
    {
     "name": "stderr",
     "output_type": "stream",
     "text": [
      "WARNING:tensorflow:Unresolved object in checkpoint: (root).optimizer's state 'm' for (root).layer_with_weights-0.transformer/layer_7/self_attention/attention_output/kernel:0\n"
     ]
    },
    {
     "name": "stdout",
     "output_type": "stream",
     "text": [
      "WARNING:tensorflow:Unresolved object in checkpoint: (root).optimizer's state 'm' for (root).layer_with_weights-0.transformer/layer_7/self_attention/attention_output/bias:0\n"
     ]
    },
    {
     "name": "stderr",
     "output_type": "stream",
     "text": [
      "WARNING:tensorflow:Unresolved object in checkpoint: (root).optimizer's state 'm' for (root).layer_with_weights-0.transformer/layer_7/self_attention/attention_output/bias:0\n"
     ]
    },
    {
     "name": "stdout",
     "output_type": "stream",
     "text": [
      "WARNING:tensorflow:Unresolved object in checkpoint: (root).optimizer's state 'm' for (root).layer_with_weights-0.transformer/layer_7/self_attention_layer_norm/gamma:0\n"
     ]
    },
    {
     "name": "stderr",
     "output_type": "stream",
     "text": [
      "WARNING:tensorflow:Unresolved object in checkpoint: (root).optimizer's state 'm' for (root).layer_with_weights-0.transformer/layer_7/self_attention_layer_norm/gamma:0\n"
     ]
    },
    {
     "name": "stdout",
     "output_type": "stream",
     "text": [
      "WARNING:tensorflow:Unresolved object in checkpoint: (root).optimizer's state 'm' for (root).layer_with_weights-0.transformer/layer_7/self_attention_layer_norm/beta:0\n"
     ]
    },
    {
     "name": "stderr",
     "output_type": "stream",
     "text": [
      "WARNING:tensorflow:Unresolved object in checkpoint: (root).optimizer's state 'm' for (root).layer_with_weights-0.transformer/layer_7/self_attention_layer_norm/beta:0\n"
     ]
    },
    {
     "name": "stdout",
     "output_type": "stream",
     "text": [
      "WARNING:tensorflow:Unresolved object in checkpoint: (root).optimizer's state 'm' for (root).layer_with_weights-0.transformer/layer_7/intermediate/kernel:0\n"
     ]
    },
    {
     "name": "stderr",
     "output_type": "stream",
     "text": [
      "WARNING:tensorflow:Unresolved object in checkpoint: (root).optimizer's state 'm' for (root).layer_with_weights-0.transformer/layer_7/intermediate/kernel:0\n"
     ]
    },
    {
     "name": "stdout",
     "output_type": "stream",
     "text": [
      "WARNING:tensorflow:Unresolved object in checkpoint: (root).optimizer's state 'm' for (root).layer_with_weights-0.transformer/layer_7/intermediate/bias:0\n"
     ]
    },
    {
     "name": "stderr",
     "output_type": "stream",
     "text": [
      "WARNING:tensorflow:Unresolved object in checkpoint: (root).optimizer's state 'm' for (root).layer_with_weights-0.transformer/layer_7/intermediate/bias:0\n"
     ]
    },
    {
     "name": "stdout",
     "output_type": "stream",
     "text": [
      "WARNING:tensorflow:Unresolved object in checkpoint: (root).optimizer's state 'm' for (root).layer_with_weights-0.transformer/layer_7/output/kernel:0\n"
     ]
    },
    {
     "name": "stderr",
     "output_type": "stream",
     "text": [
      "WARNING:tensorflow:Unresolved object in checkpoint: (root).optimizer's state 'm' for (root).layer_with_weights-0.transformer/layer_7/output/kernel:0\n"
     ]
    },
    {
     "name": "stdout",
     "output_type": "stream",
     "text": [
      "WARNING:tensorflow:Unresolved object in checkpoint: (root).optimizer's state 'm' for (root).layer_with_weights-0.transformer/layer_7/output/bias:0\n"
     ]
    },
    {
     "name": "stderr",
     "output_type": "stream",
     "text": [
      "WARNING:tensorflow:Unresolved object in checkpoint: (root).optimizer's state 'm' for (root).layer_with_weights-0.transformer/layer_7/output/bias:0\n"
     ]
    },
    {
     "name": "stdout",
     "output_type": "stream",
     "text": [
      "WARNING:tensorflow:Unresolved object in checkpoint: (root).optimizer's state 'm' for (root).layer_with_weights-0.transformer/layer_7/output_layer_norm/gamma:0\n"
     ]
    },
    {
     "name": "stderr",
     "output_type": "stream",
     "text": [
      "WARNING:tensorflow:Unresolved object in checkpoint: (root).optimizer's state 'm' for (root).layer_with_weights-0.transformer/layer_7/output_layer_norm/gamma:0\n"
     ]
    },
    {
     "name": "stdout",
     "output_type": "stream",
     "text": [
      "WARNING:tensorflow:Unresolved object in checkpoint: (root).optimizer's state 'm' for (root).layer_with_weights-0.transformer/layer_7/output_layer_norm/beta:0\n"
     ]
    },
    {
     "name": "stderr",
     "output_type": "stream",
     "text": [
      "WARNING:tensorflow:Unresolved object in checkpoint: (root).optimizer's state 'm' for (root).layer_with_weights-0.transformer/layer_7/output_layer_norm/beta:0\n"
     ]
    },
    {
     "name": "stdout",
     "output_type": "stream",
     "text": [
      "WARNING:tensorflow:Unresolved object in checkpoint: (root).optimizer's state 'm' for (root).layer_with_weights-0.transformer/layer_8/self_attention/query/kernel:0\n"
     ]
    },
    {
     "name": "stderr",
     "output_type": "stream",
     "text": [
      "WARNING:tensorflow:Unresolved object in checkpoint: (root).optimizer's state 'm' for (root).layer_with_weights-0.transformer/layer_8/self_attention/query/kernel:0\n"
     ]
    },
    {
     "name": "stdout",
     "output_type": "stream",
     "text": [
      "WARNING:tensorflow:Unresolved object in checkpoint: (root).optimizer's state 'm' for (root).layer_with_weights-0.transformer/layer_8/self_attention/query/bias:0\n"
     ]
    },
    {
     "name": "stderr",
     "output_type": "stream",
     "text": [
      "WARNING:tensorflow:Unresolved object in checkpoint: (root).optimizer's state 'm' for (root).layer_with_weights-0.transformer/layer_8/self_attention/query/bias:0\n"
     ]
    },
    {
     "name": "stdout",
     "output_type": "stream",
     "text": [
      "WARNING:tensorflow:Unresolved object in checkpoint: (root).optimizer's state 'm' for (root).layer_with_weights-0.transformer/layer_8/self_attention/key/kernel:0\n"
     ]
    },
    {
     "name": "stderr",
     "output_type": "stream",
     "text": [
      "WARNING:tensorflow:Unresolved object in checkpoint: (root).optimizer's state 'm' for (root).layer_with_weights-0.transformer/layer_8/self_attention/key/kernel:0\n"
     ]
    },
    {
     "name": "stdout",
     "output_type": "stream",
     "text": [
      "WARNING:tensorflow:Unresolved object in checkpoint: (root).optimizer's state 'm' for (root).layer_with_weights-0.transformer/layer_8/self_attention/key/bias:0\n"
     ]
    },
    {
     "name": "stderr",
     "output_type": "stream",
     "text": [
      "WARNING:tensorflow:Unresolved object in checkpoint: (root).optimizer's state 'm' for (root).layer_with_weights-0.transformer/layer_8/self_attention/key/bias:0\n"
     ]
    },
    {
     "name": "stdout",
     "output_type": "stream",
     "text": [
      "WARNING:tensorflow:Unresolved object in checkpoint: (root).optimizer's state 'm' for (root).layer_with_weights-0.transformer/layer_8/self_attention/value/kernel:0\n"
     ]
    },
    {
     "name": "stderr",
     "output_type": "stream",
     "text": [
      "WARNING:tensorflow:Unresolved object in checkpoint: (root).optimizer's state 'm' for (root).layer_with_weights-0.transformer/layer_8/self_attention/value/kernel:0\n"
     ]
    },
    {
     "name": "stdout",
     "output_type": "stream",
     "text": [
      "WARNING:tensorflow:Unresolved object in checkpoint: (root).optimizer's state 'm' for (root).layer_with_weights-0.transformer/layer_8/self_attention/value/bias:0\n"
     ]
    },
    {
     "name": "stderr",
     "output_type": "stream",
     "text": [
      "WARNING:tensorflow:Unresolved object in checkpoint: (root).optimizer's state 'm' for (root).layer_with_weights-0.transformer/layer_8/self_attention/value/bias:0\n"
     ]
    },
    {
     "name": "stdout",
     "output_type": "stream",
     "text": [
      "WARNING:tensorflow:Unresolved object in checkpoint: (root).optimizer's state 'm' for (root).layer_with_weights-0.transformer/layer_8/self_attention/attention_output/kernel:0\n"
     ]
    },
    {
     "name": "stderr",
     "output_type": "stream",
     "text": [
      "WARNING:tensorflow:Unresolved object in checkpoint: (root).optimizer's state 'm' for (root).layer_with_weights-0.transformer/layer_8/self_attention/attention_output/kernel:0\n"
     ]
    },
    {
     "name": "stdout",
     "output_type": "stream",
     "text": [
      "WARNING:tensorflow:Unresolved object in checkpoint: (root).optimizer's state 'm' for (root).layer_with_weights-0.transformer/layer_8/self_attention/attention_output/bias:0\n"
     ]
    },
    {
     "name": "stderr",
     "output_type": "stream",
     "text": [
      "WARNING:tensorflow:Unresolved object in checkpoint: (root).optimizer's state 'm' for (root).layer_with_weights-0.transformer/layer_8/self_attention/attention_output/bias:0\n"
     ]
    },
    {
     "name": "stdout",
     "output_type": "stream",
     "text": [
      "WARNING:tensorflow:Unresolved object in checkpoint: (root).optimizer's state 'm' for (root).layer_with_weights-0.transformer/layer_8/self_attention_layer_norm/gamma:0\n"
     ]
    },
    {
     "name": "stderr",
     "output_type": "stream",
     "text": [
      "WARNING:tensorflow:Unresolved object in checkpoint: (root).optimizer's state 'm' for (root).layer_with_weights-0.transformer/layer_8/self_attention_layer_norm/gamma:0\n"
     ]
    },
    {
     "name": "stdout",
     "output_type": "stream",
     "text": [
      "WARNING:tensorflow:Unresolved object in checkpoint: (root).optimizer's state 'm' for (root).layer_with_weights-0.transformer/layer_8/self_attention_layer_norm/beta:0\n"
     ]
    },
    {
     "name": "stderr",
     "output_type": "stream",
     "text": [
      "WARNING:tensorflow:Unresolved object in checkpoint: (root).optimizer's state 'm' for (root).layer_with_weights-0.transformer/layer_8/self_attention_layer_norm/beta:0\n"
     ]
    },
    {
     "name": "stdout",
     "output_type": "stream",
     "text": [
      "WARNING:tensorflow:Unresolved object in checkpoint: (root).optimizer's state 'm' for (root).layer_with_weights-0.transformer/layer_8/intermediate/kernel:0\n"
     ]
    },
    {
     "name": "stderr",
     "output_type": "stream",
     "text": [
      "WARNING:tensorflow:Unresolved object in checkpoint: (root).optimizer's state 'm' for (root).layer_with_weights-0.transformer/layer_8/intermediate/kernel:0\n"
     ]
    },
    {
     "name": "stdout",
     "output_type": "stream",
     "text": [
      "WARNING:tensorflow:Unresolved object in checkpoint: (root).optimizer's state 'm' for (root).layer_with_weights-0.transformer/layer_8/intermediate/bias:0\n"
     ]
    },
    {
     "name": "stderr",
     "output_type": "stream",
     "text": [
      "WARNING:tensorflow:Unresolved object in checkpoint: (root).optimizer's state 'm' for (root).layer_with_weights-0.transformer/layer_8/intermediate/bias:0\n"
     ]
    },
    {
     "name": "stdout",
     "output_type": "stream",
     "text": [
      "WARNING:tensorflow:Unresolved object in checkpoint: (root).optimizer's state 'm' for (root).layer_with_weights-0.transformer/layer_8/output/kernel:0\n"
     ]
    },
    {
     "name": "stderr",
     "output_type": "stream",
     "text": [
      "WARNING:tensorflow:Unresolved object in checkpoint: (root).optimizer's state 'm' for (root).layer_with_weights-0.transformer/layer_8/output/kernel:0\n"
     ]
    },
    {
     "name": "stdout",
     "output_type": "stream",
     "text": [
      "WARNING:tensorflow:Unresolved object in checkpoint: (root).optimizer's state 'm' for (root).layer_with_weights-0.transformer/layer_8/output/bias:0\n"
     ]
    },
    {
     "name": "stderr",
     "output_type": "stream",
     "text": [
      "WARNING:tensorflow:Unresolved object in checkpoint: (root).optimizer's state 'm' for (root).layer_with_weights-0.transformer/layer_8/output/bias:0\n"
     ]
    },
    {
     "name": "stdout",
     "output_type": "stream",
     "text": [
      "WARNING:tensorflow:Unresolved object in checkpoint: (root).optimizer's state 'm' for (root).layer_with_weights-0.transformer/layer_8/output_layer_norm/gamma:0\n"
     ]
    },
    {
     "name": "stderr",
     "output_type": "stream",
     "text": [
      "WARNING:tensorflow:Unresolved object in checkpoint: (root).optimizer's state 'm' for (root).layer_with_weights-0.transformer/layer_8/output_layer_norm/gamma:0\n"
     ]
    },
    {
     "name": "stdout",
     "output_type": "stream",
     "text": [
      "WARNING:tensorflow:Unresolved object in checkpoint: (root).optimizer's state 'm' for (root).layer_with_weights-0.transformer/layer_8/output_layer_norm/beta:0\n"
     ]
    },
    {
     "name": "stderr",
     "output_type": "stream",
     "text": [
      "WARNING:tensorflow:Unresolved object in checkpoint: (root).optimizer's state 'm' for (root).layer_with_weights-0.transformer/layer_8/output_layer_norm/beta:0\n"
     ]
    },
    {
     "name": "stdout",
     "output_type": "stream",
     "text": [
      "WARNING:tensorflow:Unresolved object in checkpoint: (root).optimizer's state 'm' for (root).layer_with_weights-0.transformer/layer_9/self_attention/query/kernel:0\n"
     ]
    },
    {
     "name": "stderr",
     "output_type": "stream",
     "text": [
      "WARNING:tensorflow:Unresolved object in checkpoint: (root).optimizer's state 'm' for (root).layer_with_weights-0.transformer/layer_9/self_attention/query/kernel:0\n"
     ]
    },
    {
     "name": "stdout",
     "output_type": "stream",
     "text": [
      "WARNING:tensorflow:Unresolved object in checkpoint: (root).optimizer's state 'm' for (root).layer_with_weights-0.transformer/layer_9/self_attention/query/bias:0\n"
     ]
    },
    {
     "name": "stderr",
     "output_type": "stream",
     "text": [
      "WARNING:tensorflow:Unresolved object in checkpoint: (root).optimizer's state 'm' for (root).layer_with_weights-0.transformer/layer_9/self_attention/query/bias:0\n"
     ]
    },
    {
     "name": "stdout",
     "output_type": "stream",
     "text": [
      "WARNING:tensorflow:Unresolved object in checkpoint: (root).optimizer's state 'm' for (root).layer_with_weights-0.transformer/layer_9/self_attention/key/kernel:0\n"
     ]
    },
    {
     "name": "stderr",
     "output_type": "stream",
     "text": [
      "WARNING:tensorflow:Unresolved object in checkpoint: (root).optimizer's state 'm' for (root).layer_with_weights-0.transformer/layer_9/self_attention/key/kernel:0\n"
     ]
    },
    {
     "name": "stdout",
     "output_type": "stream",
     "text": [
      "WARNING:tensorflow:Unresolved object in checkpoint: (root).optimizer's state 'm' for (root).layer_with_weights-0.transformer/layer_9/self_attention/key/bias:0\n"
     ]
    },
    {
     "name": "stderr",
     "output_type": "stream",
     "text": [
      "WARNING:tensorflow:Unresolved object in checkpoint: (root).optimizer's state 'm' for (root).layer_with_weights-0.transformer/layer_9/self_attention/key/bias:0\n"
     ]
    },
    {
     "name": "stdout",
     "output_type": "stream",
     "text": [
      "WARNING:tensorflow:Unresolved object in checkpoint: (root).optimizer's state 'm' for (root).layer_with_weights-0.transformer/layer_9/self_attention/value/kernel:0\n"
     ]
    },
    {
     "name": "stderr",
     "output_type": "stream",
     "text": [
      "WARNING:tensorflow:Unresolved object in checkpoint: (root).optimizer's state 'm' for (root).layer_with_weights-0.transformer/layer_9/self_attention/value/kernel:0\n"
     ]
    },
    {
     "name": "stdout",
     "output_type": "stream",
     "text": [
      "WARNING:tensorflow:Unresolved object in checkpoint: (root).optimizer's state 'm' for (root).layer_with_weights-0.transformer/layer_9/self_attention/value/bias:0\n"
     ]
    },
    {
     "name": "stderr",
     "output_type": "stream",
     "text": [
      "WARNING:tensorflow:Unresolved object in checkpoint: (root).optimizer's state 'm' for (root).layer_with_weights-0.transformer/layer_9/self_attention/value/bias:0\n"
     ]
    },
    {
     "name": "stdout",
     "output_type": "stream",
     "text": [
      "WARNING:tensorflow:Unresolved object in checkpoint: (root).optimizer's state 'm' for (root).layer_with_weights-0.transformer/layer_9/self_attention/attention_output/kernel:0\n"
     ]
    },
    {
     "name": "stderr",
     "output_type": "stream",
     "text": [
      "WARNING:tensorflow:Unresolved object in checkpoint: (root).optimizer's state 'm' for (root).layer_with_weights-0.transformer/layer_9/self_attention/attention_output/kernel:0\n"
     ]
    },
    {
     "name": "stdout",
     "output_type": "stream",
     "text": [
      "WARNING:tensorflow:Unresolved object in checkpoint: (root).optimizer's state 'm' for (root).layer_with_weights-0.transformer/layer_9/self_attention/attention_output/bias:0\n"
     ]
    },
    {
     "name": "stderr",
     "output_type": "stream",
     "text": [
      "WARNING:tensorflow:Unresolved object in checkpoint: (root).optimizer's state 'm' for (root).layer_with_weights-0.transformer/layer_9/self_attention/attention_output/bias:0\n"
     ]
    },
    {
     "name": "stdout",
     "output_type": "stream",
     "text": [
      "WARNING:tensorflow:Unresolved object in checkpoint: (root).optimizer's state 'm' for (root).layer_with_weights-0.transformer/layer_9/self_attention_layer_norm/gamma:0\n"
     ]
    },
    {
     "name": "stderr",
     "output_type": "stream",
     "text": [
      "WARNING:tensorflow:Unresolved object in checkpoint: (root).optimizer's state 'm' for (root).layer_with_weights-0.transformer/layer_9/self_attention_layer_norm/gamma:0\n"
     ]
    },
    {
     "name": "stdout",
     "output_type": "stream",
     "text": [
      "WARNING:tensorflow:Unresolved object in checkpoint: (root).optimizer's state 'm' for (root).layer_with_weights-0.transformer/layer_9/self_attention_layer_norm/beta:0\n"
     ]
    },
    {
     "name": "stderr",
     "output_type": "stream",
     "text": [
      "WARNING:tensorflow:Unresolved object in checkpoint: (root).optimizer's state 'm' for (root).layer_with_weights-0.transformer/layer_9/self_attention_layer_norm/beta:0\n"
     ]
    },
    {
     "name": "stdout",
     "output_type": "stream",
     "text": [
      "WARNING:tensorflow:Unresolved object in checkpoint: (root).optimizer's state 'm' for (root).layer_with_weights-0.transformer/layer_9/intermediate/kernel:0\n"
     ]
    },
    {
     "name": "stderr",
     "output_type": "stream",
     "text": [
      "WARNING:tensorflow:Unresolved object in checkpoint: (root).optimizer's state 'm' for (root).layer_with_weights-0.transformer/layer_9/intermediate/kernel:0\n"
     ]
    },
    {
     "name": "stdout",
     "output_type": "stream",
     "text": [
      "WARNING:tensorflow:Unresolved object in checkpoint: (root).optimizer's state 'm' for (root).layer_with_weights-0.transformer/layer_9/intermediate/bias:0\n"
     ]
    },
    {
     "name": "stderr",
     "output_type": "stream",
     "text": [
      "WARNING:tensorflow:Unresolved object in checkpoint: (root).optimizer's state 'm' for (root).layer_with_weights-0.transformer/layer_9/intermediate/bias:0\n"
     ]
    },
    {
     "name": "stdout",
     "output_type": "stream",
     "text": [
      "WARNING:tensorflow:Unresolved object in checkpoint: (root).optimizer's state 'm' for (root).layer_with_weights-0.transformer/layer_9/output/kernel:0\n"
     ]
    },
    {
     "name": "stderr",
     "output_type": "stream",
     "text": [
      "WARNING:tensorflow:Unresolved object in checkpoint: (root).optimizer's state 'm' for (root).layer_with_weights-0.transformer/layer_9/output/kernel:0\n"
     ]
    },
    {
     "name": "stdout",
     "output_type": "stream",
     "text": [
      "WARNING:tensorflow:Unresolved object in checkpoint: (root).optimizer's state 'm' for (root).layer_with_weights-0.transformer/layer_9/output/bias:0\n"
     ]
    },
    {
     "name": "stderr",
     "output_type": "stream",
     "text": [
      "WARNING:tensorflow:Unresolved object in checkpoint: (root).optimizer's state 'm' for (root).layer_with_weights-0.transformer/layer_9/output/bias:0\n"
     ]
    },
    {
     "name": "stdout",
     "output_type": "stream",
     "text": [
      "WARNING:tensorflow:Unresolved object in checkpoint: (root).optimizer's state 'm' for (root).layer_with_weights-0.transformer/layer_9/output_layer_norm/gamma:0\n"
     ]
    },
    {
     "name": "stderr",
     "output_type": "stream",
     "text": [
      "WARNING:tensorflow:Unresolved object in checkpoint: (root).optimizer's state 'm' for (root).layer_with_weights-0.transformer/layer_9/output_layer_norm/gamma:0\n"
     ]
    },
    {
     "name": "stdout",
     "output_type": "stream",
     "text": [
      "WARNING:tensorflow:Unresolved object in checkpoint: (root).optimizer's state 'm' for (root).layer_with_weights-0.transformer/layer_9/output_layer_norm/beta:0\n"
     ]
    },
    {
     "name": "stderr",
     "output_type": "stream",
     "text": [
      "WARNING:tensorflow:Unresolved object in checkpoint: (root).optimizer's state 'm' for (root).layer_with_weights-0.transformer/layer_9/output_layer_norm/beta:0\n"
     ]
    },
    {
     "name": "stdout",
     "output_type": "stream",
     "text": [
      "WARNING:tensorflow:Unresolved object in checkpoint: (root).optimizer's state 'm' for (root).layer_with_weights-0.transformer/layer_10/self_attention/query/kernel:0\n"
     ]
    },
    {
     "name": "stderr",
     "output_type": "stream",
     "text": [
      "WARNING:tensorflow:Unresolved object in checkpoint: (root).optimizer's state 'm' for (root).layer_with_weights-0.transformer/layer_10/self_attention/query/kernel:0\n"
     ]
    },
    {
     "name": "stdout",
     "output_type": "stream",
     "text": [
      "WARNING:tensorflow:Unresolved object in checkpoint: (root).optimizer's state 'm' for (root).layer_with_weights-0.transformer/layer_10/self_attention/query/bias:0\n"
     ]
    },
    {
     "name": "stderr",
     "output_type": "stream",
     "text": [
      "WARNING:tensorflow:Unresolved object in checkpoint: (root).optimizer's state 'm' for (root).layer_with_weights-0.transformer/layer_10/self_attention/query/bias:0\n"
     ]
    },
    {
     "name": "stdout",
     "output_type": "stream",
     "text": [
      "WARNING:tensorflow:Unresolved object in checkpoint: (root).optimizer's state 'm' for (root).layer_with_weights-0.transformer/layer_10/self_attention/key/kernel:0\n"
     ]
    },
    {
     "name": "stderr",
     "output_type": "stream",
     "text": [
      "WARNING:tensorflow:Unresolved object in checkpoint: (root).optimizer's state 'm' for (root).layer_with_weights-0.transformer/layer_10/self_attention/key/kernel:0\n"
     ]
    },
    {
     "name": "stdout",
     "output_type": "stream",
     "text": [
      "WARNING:tensorflow:Unresolved object in checkpoint: (root).optimizer's state 'm' for (root).layer_with_weights-0.transformer/layer_10/self_attention/key/bias:0\n"
     ]
    },
    {
     "name": "stderr",
     "output_type": "stream",
     "text": [
      "WARNING:tensorflow:Unresolved object in checkpoint: (root).optimizer's state 'm' for (root).layer_with_weights-0.transformer/layer_10/self_attention/key/bias:0\n"
     ]
    },
    {
     "name": "stdout",
     "output_type": "stream",
     "text": [
      "WARNING:tensorflow:Unresolved object in checkpoint: (root).optimizer's state 'm' for (root).layer_with_weights-0.transformer/layer_10/self_attention/value/kernel:0\n"
     ]
    },
    {
     "name": "stderr",
     "output_type": "stream",
     "text": [
      "WARNING:tensorflow:Unresolved object in checkpoint: (root).optimizer's state 'm' for (root).layer_with_weights-0.transformer/layer_10/self_attention/value/kernel:0\n"
     ]
    },
    {
     "name": "stdout",
     "output_type": "stream",
     "text": [
      "WARNING:tensorflow:Unresolved object in checkpoint: (root).optimizer's state 'm' for (root).layer_with_weights-0.transformer/layer_10/self_attention/value/bias:0\n"
     ]
    },
    {
     "name": "stderr",
     "output_type": "stream",
     "text": [
      "WARNING:tensorflow:Unresolved object in checkpoint: (root).optimizer's state 'm' for (root).layer_with_weights-0.transformer/layer_10/self_attention/value/bias:0\n"
     ]
    },
    {
     "name": "stdout",
     "output_type": "stream",
     "text": [
      "WARNING:tensorflow:Unresolved object in checkpoint: (root).optimizer's state 'm' for (root).layer_with_weights-0.transformer/layer_10/self_attention/attention_output/kernel:0\n"
     ]
    },
    {
     "name": "stderr",
     "output_type": "stream",
     "text": [
      "WARNING:tensorflow:Unresolved object in checkpoint: (root).optimizer's state 'm' for (root).layer_with_weights-0.transformer/layer_10/self_attention/attention_output/kernel:0\n"
     ]
    },
    {
     "name": "stdout",
     "output_type": "stream",
     "text": [
      "WARNING:tensorflow:Unresolved object in checkpoint: (root).optimizer's state 'm' for (root).layer_with_weights-0.transformer/layer_10/self_attention/attention_output/bias:0\n"
     ]
    },
    {
     "name": "stderr",
     "output_type": "stream",
     "text": [
      "WARNING:tensorflow:Unresolved object in checkpoint: (root).optimizer's state 'm' for (root).layer_with_weights-0.transformer/layer_10/self_attention/attention_output/bias:0\n"
     ]
    },
    {
     "name": "stdout",
     "output_type": "stream",
     "text": [
      "WARNING:tensorflow:Unresolved object in checkpoint: (root).optimizer's state 'm' for (root).layer_with_weights-0.transformer/layer_10/self_attention_layer_norm/gamma:0\n"
     ]
    },
    {
     "name": "stderr",
     "output_type": "stream",
     "text": [
      "WARNING:tensorflow:Unresolved object in checkpoint: (root).optimizer's state 'm' for (root).layer_with_weights-0.transformer/layer_10/self_attention_layer_norm/gamma:0\n"
     ]
    },
    {
     "name": "stdout",
     "output_type": "stream",
     "text": [
      "WARNING:tensorflow:Unresolved object in checkpoint: (root).optimizer's state 'm' for (root).layer_with_weights-0.transformer/layer_10/self_attention_layer_norm/beta:0\n"
     ]
    },
    {
     "name": "stderr",
     "output_type": "stream",
     "text": [
      "WARNING:tensorflow:Unresolved object in checkpoint: (root).optimizer's state 'm' for (root).layer_with_weights-0.transformer/layer_10/self_attention_layer_norm/beta:0\n"
     ]
    },
    {
     "name": "stdout",
     "output_type": "stream",
     "text": [
      "WARNING:tensorflow:Unresolved object in checkpoint: (root).optimizer's state 'm' for (root).layer_with_weights-0.transformer/layer_10/intermediate/kernel:0\n"
     ]
    },
    {
     "name": "stderr",
     "output_type": "stream",
     "text": [
      "WARNING:tensorflow:Unresolved object in checkpoint: (root).optimizer's state 'm' for (root).layer_with_weights-0.transformer/layer_10/intermediate/kernel:0\n"
     ]
    },
    {
     "name": "stdout",
     "output_type": "stream",
     "text": [
      "WARNING:tensorflow:Unresolved object in checkpoint: (root).optimizer's state 'm' for (root).layer_with_weights-0.transformer/layer_10/intermediate/bias:0\n"
     ]
    },
    {
     "name": "stderr",
     "output_type": "stream",
     "text": [
      "WARNING:tensorflow:Unresolved object in checkpoint: (root).optimizer's state 'm' for (root).layer_with_weights-0.transformer/layer_10/intermediate/bias:0\n"
     ]
    },
    {
     "name": "stdout",
     "output_type": "stream",
     "text": [
      "WARNING:tensorflow:Unresolved object in checkpoint: (root).optimizer's state 'm' for (root).layer_with_weights-0.transformer/layer_10/output/kernel:0\n"
     ]
    },
    {
     "name": "stderr",
     "output_type": "stream",
     "text": [
      "WARNING:tensorflow:Unresolved object in checkpoint: (root).optimizer's state 'm' for (root).layer_with_weights-0.transformer/layer_10/output/kernel:0\n"
     ]
    },
    {
     "name": "stdout",
     "output_type": "stream",
     "text": [
      "WARNING:tensorflow:Unresolved object in checkpoint: (root).optimizer's state 'm' for (root).layer_with_weights-0.transformer/layer_10/output/bias:0\n"
     ]
    },
    {
     "name": "stderr",
     "output_type": "stream",
     "text": [
      "WARNING:tensorflow:Unresolved object in checkpoint: (root).optimizer's state 'm' for (root).layer_with_weights-0.transformer/layer_10/output/bias:0\n"
     ]
    },
    {
     "name": "stdout",
     "output_type": "stream",
     "text": [
      "WARNING:tensorflow:Unresolved object in checkpoint: (root).optimizer's state 'm' for (root).layer_with_weights-0.transformer/layer_10/output_layer_norm/gamma:0\n"
     ]
    },
    {
     "name": "stderr",
     "output_type": "stream",
     "text": [
      "WARNING:tensorflow:Unresolved object in checkpoint: (root).optimizer's state 'm' for (root).layer_with_weights-0.transformer/layer_10/output_layer_norm/gamma:0\n"
     ]
    },
    {
     "name": "stdout",
     "output_type": "stream",
     "text": [
      "WARNING:tensorflow:Unresolved object in checkpoint: (root).optimizer's state 'm' for (root).layer_with_weights-0.transformer/layer_10/output_layer_norm/beta:0\n"
     ]
    },
    {
     "name": "stderr",
     "output_type": "stream",
     "text": [
      "WARNING:tensorflow:Unresolved object in checkpoint: (root).optimizer's state 'm' for (root).layer_with_weights-0.transformer/layer_10/output_layer_norm/beta:0\n"
     ]
    },
    {
     "name": "stdout",
     "output_type": "stream",
     "text": [
      "WARNING:tensorflow:Unresolved object in checkpoint: (root).optimizer's state 'm' for (root).layer_with_weights-0.transformer/layer_11/self_attention/query/kernel:0\n"
     ]
    },
    {
     "name": "stderr",
     "output_type": "stream",
     "text": [
      "WARNING:tensorflow:Unresolved object in checkpoint: (root).optimizer's state 'm' for (root).layer_with_weights-0.transformer/layer_11/self_attention/query/kernel:0\n"
     ]
    },
    {
     "name": "stdout",
     "output_type": "stream",
     "text": [
      "WARNING:tensorflow:Unresolved object in checkpoint: (root).optimizer's state 'm' for (root).layer_with_weights-0.transformer/layer_11/self_attention/query/bias:0\n"
     ]
    },
    {
     "name": "stderr",
     "output_type": "stream",
     "text": [
      "WARNING:tensorflow:Unresolved object in checkpoint: (root).optimizer's state 'm' for (root).layer_with_weights-0.transformer/layer_11/self_attention/query/bias:0\n"
     ]
    },
    {
     "name": "stdout",
     "output_type": "stream",
     "text": [
      "WARNING:tensorflow:Unresolved object in checkpoint: (root).optimizer's state 'm' for (root).layer_with_weights-0.transformer/layer_11/self_attention/key/kernel:0\n"
     ]
    },
    {
     "name": "stderr",
     "output_type": "stream",
     "text": [
      "WARNING:tensorflow:Unresolved object in checkpoint: (root).optimizer's state 'm' for (root).layer_with_weights-0.transformer/layer_11/self_attention/key/kernel:0\n"
     ]
    },
    {
     "name": "stdout",
     "output_type": "stream",
     "text": [
      "WARNING:tensorflow:Unresolved object in checkpoint: (root).optimizer's state 'm' for (root).layer_with_weights-0.transformer/layer_11/self_attention/key/bias:0\n"
     ]
    },
    {
     "name": "stderr",
     "output_type": "stream",
     "text": [
      "WARNING:tensorflow:Unresolved object in checkpoint: (root).optimizer's state 'm' for (root).layer_with_weights-0.transformer/layer_11/self_attention/key/bias:0\n"
     ]
    },
    {
     "name": "stdout",
     "output_type": "stream",
     "text": [
      "WARNING:tensorflow:Unresolved object in checkpoint: (root).optimizer's state 'm' for (root).layer_with_weights-0.transformer/layer_11/self_attention/value/kernel:0\n"
     ]
    },
    {
     "name": "stderr",
     "output_type": "stream",
     "text": [
      "WARNING:tensorflow:Unresolved object in checkpoint: (root).optimizer's state 'm' for (root).layer_with_weights-0.transformer/layer_11/self_attention/value/kernel:0\n"
     ]
    },
    {
     "name": "stdout",
     "output_type": "stream",
     "text": [
      "WARNING:tensorflow:Unresolved object in checkpoint: (root).optimizer's state 'm' for (root).layer_with_weights-0.transformer/layer_11/self_attention/value/bias:0\n"
     ]
    },
    {
     "name": "stderr",
     "output_type": "stream",
     "text": [
      "WARNING:tensorflow:Unresolved object in checkpoint: (root).optimizer's state 'm' for (root).layer_with_weights-0.transformer/layer_11/self_attention/value/bias:0\n"
     ]
    },
    {
     "name": "stdout",
     "output_type": "stream",
     "text": [
      "WARNING:tensorflow:Unresolved object in checkpoint: (root).optimizer's state 'm' for (root).layer_with_weights-0.transformer/layer_11/self_attention/attention_output/kernel:0\n"
     ]
    },
    {
     "name": "stderr",
     "output_type": "stream",
     "text": [
      "WARNING:tensorflow:Unresolved object in checkpoint: (root).optimizer's state 'm' for (root).layer_with_weights-0.transformer/layer_11/self_attention/attention_output/kernel:0\n"
     ]
    },
    {
     "name": "stdout",
     "output_type": "stream",
     "text": [
      "WARNING:tensorflow:Unresolved object in checkpoint: (root).optimizer's state 'm' for (root).layer_with_weights-0.transformer/layer_11/self_attention/attention_output/bias:0\n"
     ]
    },
    {
     "name": "stderr",
     "output_type": "stream",
     "text": [
      "WARNING:tensorflow:Unresolved object in checkpoint: (root).optimizer's state 'm' for (root).layer_with_weights-0.transformer/layer_11/self_attention/attention_output/bias:0\n"
     ]
    },
    {
     "name": "stdout",
     "output_type": "stream",
     "text": [
      "WARNING:tensorflow:Unresolved object in checkpoint: (root).optimizer's state 'm' for (root).layer_with_weights-0.transformer/layer_11/self_attention_layer_norm/gamma:0\n"
     ]
    },
    {
     "name": "stderr",
     "output_type": "stream",
     "text": [
      "WARNING:tensorflow:Unresolved object in checkpoint: (root).optimizer's state 'm' for (root).layer_with_weights-0.transformer/layer_11/self_attention_layer_norm/gamma:0\n"
     ]
    },
    {
     "name": "stdout",
     "output_type": "stream",
     "text": [
      "WARNING:tensorflow:Unresolved object in checkpoint: (root).optimizer's state 'm' for (root).layer_with_weights-0.transformer/layer_11/self_attention_layer_norm/beta:0\n"
     ]
    },
    {
     "name": "stderr",
     "output_type": "stream",
     "text": [
      "WARNING:tensorflow:Unresolved object in checkpoint: (root).optimizer's state 'm' for (root).layer_with_weights-0.transformer/layer_11/self_attention_layer_norm/beta:0\n"
     ]
    },
    {
     "name": "stdout",
     "output_type": "stream",
     "text": [
      "WARNING:tensorflow:Unresolved object in checkpoint: (root).optimizer's state 'm' for (root).layer_with_weights-0.transformer/layer_11/intermediate/kernel:0\n"
     ]
    },
    {
     "name": "stderr",
     "output_type": "stream",
     "text": [
      "WARNING:tensorflow:Unresolved object in checkpoint: (root).optimizer's state 'm' for (root).layer_with_weights-0.transformer/layer_11/intermediate/kernel:0\n"
     ]
    },
    {
     "name": "stdout",
     "output_type": "stream",
     "text": [
      "WARNING:tensorflow:Unresolved object in checkpoint: (root).optimizer's state 'm' for (root).layer_with_weights-0.transformer/layer_11/intermediate/bias:0\n"
     ]
    },
    {
     "name": "stderr",
     "output_type": "stream",
     "text": [
      "WARNING:tensorflow:Unresolved object in checkpoint: (root).optimizer's state 'm' for (root).layer_with_weights-0.transformer/layer_11/intermediate/bias:0\n"
     ]
    },
    {
     "name": "stdout",
     "output_type": "stream",
     "text": [
      "WARNING:tensorflow:Unresolved object in checkpoint: (root).optimizer's state 'm' for (root).layer_with_weights-0.transformer/layer_11/output/kernel:0\n"
     ]
    },
    {
     "name": "stderr",
     "output_type": "stream",
     "text": [
      "WARNING:tensorflow:Unresolved object in checkpoint: (root).optimizer's state 'm' for (root).layer_with_weights-0.transformer/layer_11/output/kernel:0\n"
     ]
    },
    {
     "name": "stdout",
     "output_type": "stream",
     "text": [
      "WARNING:tensorflow:Unresolved object in checkpoint: (root).optimizer's state 'm' for (root).layer_with_weights-0.transformer/layer_11/output/bias:0\n"
     ]
    },
    {
     "name": "stderr",
     "output_type": "stream",
     "text": [
      "WARNING:tensorflow:Unresolved object in checkpoint: (root).optimizer's state 'm' for (root).layer_with_weights-0.transformer/layer_11/output/bias:0\n"
     ]
    },
    {
     "name": "stdout",
     "output_type": "stream",
     "text": [
      "WARNING:tensorflow:Unresolved object in checkpoint: (root).optimizer's state 'm' for (root).layer_with_weights-0.transformer/layer_11/output_layer_norm/gamma:0\n"
     ]
    },
    {
     "name": "stderr",
     "output_type": "stream",
     "text": [
      "WARNING:tensorflow:Unresolved object in checkpoint: (root).optimizer's state 'm' for (root).layer_with_weights-0.transformer/layer_11/output_layer_norm/gamma:0\n"
     ]
    },
    {
     "name": "stdout",
     "output_type": "stream",
     "text": [
      "WARNING:tensorflow:Unresolved object in checkpoint: (root).optimizer's state 'm' for (root).layer_with_weights-0.transformer/layer_11/output_layer_norm/beta:0\n"
     ]
    },
    {
     "name": "stderr",
     "output_type": "stream",
     "text": [
      "WARNING:tensorflow:Unresolved object in checkpoint: (root).optimizer's state 'm' for (root).layer_with_weights-0.transformer/layer_11/output_layer_norm/beta:0\n"
     ]
    },
    {
     "name": "stdout",
     "output_type": "stream",
     "text": [
      "WARNING:tensorflow:Unresolved object in checkpoint: (root).optimizer's state 'm' for (root).layer_with_weights-0.pooler_transform/kernel:0\n"
     ]
    },
    {
     "name": "stderr",
     "output_type": "stream",
     "text": [
      "WARNING:tensorflow:Unresolved object in checkpoint: (root).optimizer's state 'm' for (root).layer_with_weights-0.pooler_transform/kernel:0\n"
     ]
    },
    {
     "name": "stdout",
     "output_type": "stream",
     "text": [
      "WARNING:tensorflow:Unresolved object in checkpoint: (root).optimizer's state 'm' for (root).layer_with_weights-0.pooler_transform/bias:0\n"
     ]
    },
    {
     "name": "stderr",
     "output_type": "stream",
     "text": [
      "WARNING:tensorflow:Unresolved object in checkpoint: (root).optimizer's state 'm' for (root).layer_with_weights-0.pooler_transform/bias:0\n"
     ]
    },
    {
     "name": "stdout",
     "output_type": "stream",
     "text": [
      "WARNING:tensorflow:Unresolved object in checkpoint: (root).optimizer's state 'm' for (root).layer_with_weights-1.kernel\n"
     ]
    },
    {
     "name": "stderr",
     "output_type": "stream",
     "text": [
      "WARNING:tensorflow:Unresolved object in checkpoint: (root).optimizer's state 'm' for (root).layer_with_weights-1.kernel\n"
     ]
    },
    {
     "name": "stdout",
     "output_type": "stream",
     "text": [
      "WARNING:tensorflow:Unresolved object in checkpoint: (root).optimizer's state 'm' for (root).layer_with_weights-1.bias\n"
     ]
    },
    {
     "name": "stderr",
     "output_type": "stream",
     "text": [
      "WARNING:tensorflow:Unresolved object in checkpoint: (root).optimizer's state 'm' for (root).layer_with_weights-1.bias\n"
     ]
    },
    {
     "name": "stdout",
     "output_type": "stream",
     "text": [
      "WARNING:tensorflow:Unresolved object in checkpoint: (root).optimizer's state 'v' for (root).layer_with_weights-0.word_embeddings/embeddings:0\n"
     ]
    },
    {
     "name": "stderr",
     "output_type": "stream",
     "text": [
      "WARNING:tensorflow:Unresolved object in checkpoint: (root).optimizer's state 'v' for (root).layer_with_weights-0.word_embeddings/embeddings:0\n"
     ]
    },
    {
     "name": "stdout",
     "output_type": "stream",
     "text": [
      "WARNING:tensorflow:Unresolved object in checkpoint: (root).optimizer's state 'v' for (root).layer_with_weights-0.position_embedding/embeddings:0\n"
     ]
    },
    {
     "name": "stderr",
     "output_type": "stream",
     "text": [
      "WARNING:tensorflow:Unresolved object in checkpoint: (root).optimizer's state 'v' for (root).layer_with_weights-0.position_embedding/embeddings:0\n"
     ]
    },
    {
     "name": "stdout",
     "output_type": "stream",
     "text": [
      "WARNING:tensorflow:Unresolved object in checkpoint: (root).optimizer's state 'v' for (root).layer_with_weights-0.type_embeddings/embeddings:0\n"
     ]
    },
    {
     "name": "stderr",
     "output_type": "stream",
     "text": [
      "WARNING:tensorflow:Unresolved object in checkpoint: (root).optimizer's state 'v' for (root).layer_with_weights-0.type_embeddings/embeddings:0\n"
     ]
    },
    {
     "name": "stdout",
     "output_type": "stream",
     "text": [
      "WARNING:tensorflow:Unresolved object in checkpoint: (root).optimizer's state 'v' for (root).layer_with_weights-0.embeddings/layer_norm/gamma:0\n"
     ]
    },
    {
     "name": "stderr",
     "output_type": "stream",
     "text": [
      "WARNING:tensorflow:Unresolved object in checkpoint: (root).optimizer's state 'v' for (root).layer_with_weights-0.embeddings/layer_norm/gamma:0\n"
     ]
    },
    {
     "name": "stdout",
     "output_type": "stream",
     "text": [
      "WARNING:tensorflow:Unresolved object in checkpoint: (root).optimizer's state 'v' for (root).layer_with_weights-0.embeddings/layer_norm/beta:0\n"
     ]
    },
    {
     "name": "stderr",
     "output_type": "stream",
     "text": [
      "WARNING:tensorflow:Unresolved object in checkpoint: (root).optimizer's state 'v' for (root).layer_with_weights-0.embeddings/layer_norm/beta:0\n"
     ]
    },
    {
     "name": "stdout",
     "output_type": "stream",
     "text": [
      "WARNING:tensorflow:Unresolved object in checkpoint: (root).optimizer's state 'v' for (root).layer_with_weights-0.transformer/layer_0/self_attention/query/kernel:0\n"
     ]
    },
    {
     "name": "stderr",
     "output_type": "stream",
     "text": [
      "WARNING:tensorflow:Unresolved object in checkpoint: (root).optimizer's state 'v' for (root).layer_with_weights-0.transformer/layer_0/self_attention/query/kernel:0\n"
     ]
    },
    {
     "name": "stdout",
     "output_type": "stream",
     "text": [
      "WARNING:tensorflow:Unresolved object in checkpoint: (root).optimizer's state 'v' for (root).layer_with_weights-0.transformer/layer_0/self_attention/query/bias:0\n"
     ]
    },
    {
     "name": "stderr",
     "output_type": "stream",
     "text": [
      "WARNING:tensorflow:Unresolved object in checkpoint: (root).optimizer's state 'v' for (root).layer_with_weights-0.transformer/layer_0/self_attention/query/bias:0\n"
     ]
    },
    {
     "name": "stdout",
     "output_type": "stream",
     "text": [
      "WARNING:tensorflow:Unresolved object in checkpoint: (root).optimizer's state 'v' for (root).layer_with_weights-0.transformer/layer_0/self_attention/key/kernel:0\n"
     ]
    },
    {
     "name": "stderr",
     "output_type": "stream",
     "text": [
      "WARNING:tensorflow:Unresolved object in checkpoint: (root).optimizer's state 'v' for (root).layer_with_weights-0.transformer/layer_0/self_attention/key/kernel:0\n"
     ]
    },
    {
     "name": "stdout",
     "output_type": "stream",
     "text": [
      "WARNING:tensorflow:Unresolved object in checkpoint: (root).optimizer's state 'v' for (root).layer_with_weights-0.transformer/layer_0/self_attention/key/bias:0\n"
     ]
    },
    {
     "name": "stderr",
     "output_type": "stream",
     "text": [
      "WARNING:tensorflow:Unresolved object in checkpoint: (root).optimizer's state 'v' for (root).layer_with_weights-0.transformer/layer_0/self_attention/key/bias:0\n"
     ]
    },
    {
     "name": "stdout",
     "output_type": "stream",
     "text": [
      "WARNING:tensorflow:Unresolved object in checkpoint: (root).optimizer's state 'v' for (root).layer_with_weights-0.transformer/layer_0/self_attention/value/kernel:0\n"
     ]
    },
    {
     "name": "stderr",
     "output_type": "stream",
     "text": [
      "WARNING:tensorflow:Unresolved object in checkpoint: (root).optimizer's state 'v' for (root).layer_with_weights-0.transformer/layer_0/self_attention/value/kernel:0\n"
     ]
    },
    {
     "name": "stdout",
     "output_type": "stream",
     "text": [
      "WARNING:tensorflow:Unresolved object in checkpoint: (root).optimizer's state 'v' for (root).layer_with_weights-0.transformer/layer_0/self_attention/value/bias:0\n"
     ]
    },
    {
     "name": "stderr",
     "output_type": "stream",
     "text": [
      "WARNING:tensorflow:Unresolved object in checkpoint: (root).optimizer's state 'v' for (root).layer_with_weights-0.transformer/layer_0/self_attention/value/bias:0\n"
     ]
    },
    {
     "name": "stdout",
     "output_type": "stream",
     "text": [
      "WARNING:tensorflow:Unresolved object in checkpoint: (root).optimizer's state 'v' for (root).layer_with_weights-0.transformer/layer_0/self_attention/attention_output/kernel:0\n"
     ]
    },
    {
     "name": "stderr",
     "output_type": "stream",
     "text": [
      "WARNING:tensorflow:Unresolved object in checkpoint: (root).optimizer's state 'v' for (root).layer_with_weights-0.transformer/layer_0/self_attention/attention_output/kernel:0\n"
     ]
    },
    {
     "name": "stdout",
     "output_type": "stream",
     "text": [
      "WARNING:tensorflow:Unresolved object in checkpoint: (root).optimizer's state 'v' for (root).layer_with_weights-0.transformer/layer_0/self_attention/attention_output/bias:0\n"
     ]
    },
    {
     "name": "stderr",
     "output_type": "stream",
     "text": [
      "WARNING:tensorflow:Unresolved object in checkpoint: (root).optimizer's state 'v' for (root).layer_with_weights-0.transformer/layer_0/self_attention/attention_output/bias:0\n"
     ]
    },
    {
     "name": "stdout",
     "output_type": "stream",
     "text": [
      "WARNING:tensorflow:Unresolved object in checkpoint: (root).optimizer's state 'v' for (root).layer_with_weights-0.transformer/layer_0/self_attention_layer_norm/gamma:0\n"
     ]
    },
    {
     "name": "stderr",
     "output_type": "stream",
     "text": [
      "WARNING:tensorflow:Unresolved object in checkpoint: (root).optimizer's state 'v' for (root).layer_with_weights-0.transformer/layer_0/self_attention_layer_norm/gamma:0\n"
     ]
    },
    {
     "name": "stdout",
     "output_type": "stream",
     "text": [
      "WARNING:tensorflow:Unresolved object in checkpoint: (root).optimizer's state 'v' for (root).layer_with_weights-0.transformer/layer_0/self_attention_layer_norm/beta:0\n"
     ]
    },
    {
     "name": "stderr",
     "output_type": "stream",
     "text": [
      "WARNING:tensorflow:Unresolved object in checkpoint: (root).optimizer's state 'v' for (root).layer_with_weights-0.transformer/layer_0/self_attention_layer_norm/beta:0\n"
     ]
    },
    {
     "name": "stdout",
     "output_type": "stream",
     "text": [
      "WARNING:tensorflow:Unresolved object in checkpoint: (root).optimizer's state 'v' for (root).layer_with_weights-0.transformer/layer_0/intermediate/kernel:0\n"
     ]
    },
    {
     "name": "stderr",
     "output_type": "stream",
     "text": [
      "WARNING:tensorflow:Unresolved object in checkpoint: (root).optimizer's state 'v' for (root).layer_with_weights-0.transformer/layer_0/intermediate/kernel:0\n"
     ]
    },
    {
     "name": "stdout",
     "output_type": "stream",
     "text": [
      "WARNING:tensorflow:Unresolved object in checkpoint: (root).optimizer's state 'v' for (root).layer_with_weights-0.transformer/layer_0/intermediate/bias:0\n"
     ]
    },
    {
     "name": "stderr",
     "output_type": "stream",
     "text": [
      "WARNING:tensorflow:Unresolved object in checkpoint: (root).optimizer's state 'v' for (root).layer_with_weights-0.transformer/layer_0/intermediate/bias:0\n"
     ]
    },
    {
     "name": "stdout",
     "output_type": "stream",
     "text": [
      "WARNING:tensorflow:Unresolved object in checkpoint: (root).optimizer's state 'v' for (root).layer_with_weights-0.transformer/layer_0/output/kernel:0\n"
     ]
    },
    {
     "name": "stderr",
     "output_type": "stream",
     "text": [
      "WARNING:tensorflow:Unresolved object in checkpoint: (root).optimizer's state 'v' for (root).layer_with_weights-0.transformer/layer_0/output/kernel:0\n"
     ]
    },
    {
     "name": "stdout",
     "output_type": "stream",
     "text": [
      "WARNING:tensorflow:Unresolved object in checkpoint: (root).optimizer's state 'v' for (root).layer_with_weights-0.transformer/layer_0/output/bias:0\n"
     ]
    },
    {
     "name": "stderr",
     "output_type": "stream",
     "text": [
      "WARNING:tensorflow:Unresolved object in checkpoint: (root).optimizer's state 'v' for (root).layer_with_weights-0.transformer/layer_0/output/bias:0\n"
     ]
    },
    {
     "name": "stdout",
     "output_type": "stream",
     "text": [
      "WARNING:tensorflow:Unresolved object in checkpoint: (root).optimizer's state 'v' for (root).layer_with_weights-0.transformer/layer_0/output_layer_norm/gamma:0\n"
     ]
    },
    {
     "name": "stderr",
     "output_type": "stream",
     "text": [
      "WARNING:tensorflow:Unresolved object in checkpoint: (root).optimizer's state 'v' for (root).layer_with_weights-0.transformer/layer_0/output_layer_norm/gamma:0\n"
     ]
    },
    {
     "name": "stdout",
     "output_type": "stream",
     "text": [
      "WARNING:tensorflow:Unresolved object in checkpoint: (root).optimizer's state 'v' for (root).layer_with_weights-0.transformer/layer_0/output_layer_norm/beta:0\n"
     ]
    },
    {
     "name": "stderr",
     "output_type": "stream",
     "text": [
      "WARNING:tensorflow:Unresolved object in checkpoint: (root).optimizer's state 'v' for (root).layer_with_weights-0.transformer/layer_0/output_layer_norm/beta:0\n"
     ]
    },
    {
     "name": "stdout",
     "output_type": "stream",
     "text": [
      "WARNING:tensorflow:Unresolved object in checkpoint: (root).optimizer's state 'v' for (root).layer_with_weights-0.transformer/layer_1/self_attention/query/kernel:0\n"
     ]
    },
    {
     "name": "stderr",
     "output_type": "stream",
     "text": [
      "WARNING:tensorflow:Unresolved object in checkpoint: (root).optimizer's state 'v' for (root).layer_with_weights-0.transformer/layer_1/self_attention/query/kernel:0\n"
     ]
    },
    {
     "name": "stdout",
     "output_type": "stream",
     "text": [
      "WARNING:tensorflow:Unresolved object in checkpoint: (root).optimizer's state 'v' for (root).layer_with_weights-0.transformer/layer_1/self_attention/query/bias:0\n"
     ]
    },
    {
     "name": "stderr",
     "output_type": "stream",
     "text": [
      "WARNING:tensorflow:Unresolved object in checkpoint: (root).optimizer's state 'v' for (root).layer_with_weights-0.transformer/layer_1/self_attention/query/bias:0\n"
     ]
    },
    {
     "name": "stdout",
     "output_type": "stream",
     "text": [
      "WARNING:tensorflow:Unresolved object in checkpoint: (root).optimizer's state 'v' for (root).layer_with_weights-0.transformer/layer_1/self_attention/key/kernel:0\n"
     ]
    },
    {
     "name": "stderr",
     "output_type": "stream",
     "text": [
      "WARNING:tensorflow:Unresolved object in checkpoint: (root).optimizer's state 'v' for (root).layer_with_weights-0.transformer/layer_1/self_attention/key/kernel:0\n"
     ]
    },
    {
     "name": "stdout",
     "output_type": "stream",
     "text": [
      "WARNING:tensorflow:Unresolved object in checkpoint: (root).optimizer's state 'v' for (root).layer_with_weights-0.transformer/layer_1/self_attention/key/bias:0\n"
     ]
    },
    {
     "name": "stderr",
     "output_type": "stream",
     "text": [
      "WARNING:tensorflow:Unresolved object in checkpoint: (root).optimizer's state 'v' for (root).layer_with_weights-0.transformer/layer_1/self_attention/key/bias:0\n"
     ]
    },
    {
     "name": "stdout",
     "output_type": "stream",
     "text": [
      "WARNING:tensorflow:Unresolved object in checkpoint: (root).optimizer's state 'v' for (root).layer_with_weights-0.transformer/layer_1/self_attention/value/kernel:0\n"
     ]
    },
    {
     "name": "stderr",
     "output_type": "stream",
     "text": [
      "WARNING:tensorflow:Unresolved object in checkpoint: (root).optimizer's state 'v' for (root).layer_with_weights-0.transformer/layer_1/self_attention/value/kernel:0\n"
     ]
    },
    {
     "name": "stdout",
     "output_type": "stream",
     "text": [
      "WARNING:tensorflow:Unresolved object in checkpoint: (root).optimizer's state 'v' for (root).layer_with_weights-0.transformer/layer_1/self_attention/value/bias:0\n"
     ]
    },
    {
     "name": "stderr",
     "output_type": "stream",
     "text": [
      "WARNING:tensorflow:Unresolved object in checkpoint: (root).optimizer's state 'v' for (root).layer_with_weights-0.transformer/layer_1/self_attention/value/bias:0\n"
     ]
    },
    {
     "name": "stdout",
     "output_type": "stream",
     "text": [
      "WARNING:tensorflow:Unresolved object in checkpoint: (root).optimizer's state 'v' for (root).layer_with_weights-0.transformer/layer_1/self_attention/attention_output/kernel:0\n"
     ]
    },
    {
     "name": "stderr",
     "output_type": "stream",
     "text": [
      "WARNING:tensorflow:Unresolved object in checkpoint: (root).optimizer's state 'v' for (root).layer_with_weights-0.transformer/layer_1/self_attention/attention_output/kernel:0\n"
     ]
    },
    {
     "name": "stdout",
     "output_type": "stream",
     "text": [
      "WARNING:tensorflow:Unresolved object in checkpoint: (root).optimizer's state 'v' for (root).layer_with_weights-0.transformer/layer_1/self_attention/attention_output/bias:0\n"
     ]
    },
    {
     "name": "stderr",
     "output_type": "stream",
     "text": [
      "WARNING:tensorflow:Unresolved object in checkpoint: (root).optimizer's state 'v' for (root).layer_with_weights-0.transformer/layer_1/self_attention/attention_output/bias:0\n"
     ]
    },
    {
     "name": "stdout",
     "output_type": "stream",
     "text": [
      "WARNING:tensorflow:Unresolved object in checkpoint: (root).optimizer's state 'v' for (root).layer_with_weights-0.transformer/layer_1/self_attention_layer_norm/gamma:0\n"
     ]
    },
    {
     "name": "stderr",
     "output_type": "stream",
     "text": [
      "WARNING:tensorflow:Unresolved object in checkpoint: (root).optimizer's state 'v' for (root).layer_with_weights-0.transformer/layer_1/self_attention_layer_norm/gamma:0\n"
     ]
    },
    {
     "name": "stdout",
     "output_type": "stream",
     "text": [
      "WARNING:tensorflow:Unresolved object in checkpoint: (root).optimizer's state 'v' for (root).layer_with_weights-0.transformer/layer_1/self_attention_layer_norm/beta:0\n"
     ]
    },
    {
     "name": "stderr",
     "output_type": "stream",
     "text": [
      "WARNING:tensorflow:Unresolved object in checkpoint: (root).optimizer's state 'v' for (root).layer_with_weights-0.transformer/layer_1/self_attention_layer_norm/beta:0\n"
     ]
    },
    {
     "name": "stdout",
     "output_type": "stream",
     "text": [
      "WARNING:tensorflow:Unresolved object in checkpoint: (root).optimizer's state 'v' for (root).layer_with_weights-0.transformer/layer_1/intermediate/kernel:0\n"
     ]
    },
    {
     "name": "stderr",
     "output_type": "stream",
     "text": [
      "WARNING:tensorflow:Unresolved object in checkpoint: (root).optimizer's state 'v' for (root).layer_with_weights-0.transformer/layer_1/intermediate/kernel:0\n"
     ]
    },
    {
     "name": "stdout",
     "output_type": "stream",
     "text": [
      "WARNING:tensorflow:Unresolved object in checkpoint: (root).optimizer's state 'v' for (root).layer_with_weights-0.transformer/layer_1/intermediate/bias:0\n"
     ]
    },
    {
     "name": "stderr",
     "output_type": "stream",
     "text": [
      "WARNING:tensorflow:Unresolved object in checkpoint: (root).optimizer's state 'v' for (root).layer_with_weights-0.transformer/layer_1/intermediate/bias:0\n"
     ]
    },
    {
     "name": "stdout",
     "output_type": "stream",
     "text": [
      "WARNING:tensorflow:Unresolved object in checkpoint: (root).optimizer's state 'v' for (root).layer_with_weights-0.transformer/layer_1/output/kernel:0\n"
     ]
    },
    {
     "name": "stderr",
     "output_type": "stream",
     "text": [
      "WARNING:tensorflow:Unresolved object in checkpoint: (root).optimizer's state 'v' for (root).layer_with_weights-0.transformer/layer_1/output/kernel:0\n"
     ]
    },
    {
     "name": "stdout",
     "output_type": "stream",
     "text": [
      "WARNING:tensorflow:Unresolved object in checkpoint: (root).optimizer's state 'v' for (root).layer_with_weights-0.transformer/layer_1/output/bias:0\n"
     ]
    },
    {
     "name": "stderr",
     "output_type": "stream",
     "text": [
      "WARNING:tensorflow:Unresolved object in checkpoint: (root).optimizer's state 'v' for (root).layer_with_weights-0.transformer/layer_1/output/bias:0\n"
     ]
    },
    {
     "name": "stdout",
     "output_type": "stream",
     "text": [
      "WARNING:tensorflow:Unresolved object in checkpoint: (root).optimizer's state 'v' for (root).layer_with_weights-0.transformer/layer_1/output_layer_norm/gamma:0\n"
     ]
    },
    {
     "name": "stderr",
     "output_type": "stream",
     "text": [
      "WARNING:tensorflow:Unresolved object in checkpoint: (root).optimizer's state 'v' for (root).layer_with_weights-0.transformer/layer_1/output_layer_norm/gamma:0\n"
     ]
    },
    {
     "name": "stdout",
     "output_type": "stream",
     "text": [
      "WARNING:tensorflow:Unresolved object in checkpoint: (root).optimizer's state 'v' for (root).layer_with_weights-0.transformer/layer_1/output_layer_norm/beta:0\n"
     ]
    },
    {
     "name": "stderr",
     "output_type": "stream",
     "text": [
      "WARNING:tensorflow:Unresolved object in checkpoint: (root).optimizer's state 'v' for (root).layer_with_weights-0.transformer/layer_1/output_layer_norm/beta:0\n"
     ]
    },
    {
     "name": "stdout",
     "output_type": "stream",
     "text": [
      "WARNING:tensorflow:Unresolved object in checkpoint: (root).optimizer's state 'v' for (root).layer_with_weights-0.transformer/layer_2/self_attention/query/kernel:0\n"
     ]
    },
    {
     "name": "stderr",
     "output_type": "stream",
     "text": [
      "WARNING:tensorflow:Unresolved object in checkpoint: (root).optimizer's state 'v' for (root).layer_with_weights-0.transformer/layer_2/self_attention/query/kernel:0\n"
     ]
    },
    {
     "name": "stdout",
     "output_type": "stream",
     "text": [
      "WARNING:tensorflow:Unresolved object in checkpoint: (root).optimizer's state 'v' for (root).layer_with_weights-0.transformer/layer_2/self_attention/query/bias:0\n"
     ]
    },
    {
     "name": "stderr",
     "output_type": "stream",
     "text": [
      "WARNING:tensorflow:Unresolved object in checkpoint: (root).optimizer's state 'v' for (root).layer_with_weights-0.transformer/layer_2/self_attention/query/bias:0\n"
     ]
    },
    {
     "name": "stdout",
     "output_type": "stream",
     "text": [
      "WARNING:tensorflow:Unresolved object in checkpoint: (root).optimizer's state 'v' for (root).layer_with_weights-0.transformer/layer_2/self_attention/key/kernel:0\n"
     ]
    },
    {
     "name": "stderr",
     "output_type": "stream",
     "text": [
      "WARNING:tensorflow:Unresolved object in checkpoint: (root).optimizer's state 'v' for (root).layer_with_weights-0.transformer/layer_2/self_attention/key/kernel:0\n"
     ]
    },
    {
     "name": "stdout",
     "output_type": "stream",
     "text": [
      "WARNING:tensorflow:Unresolved object in checkpoint: (root).optimizer's state 'v' for (root).layer_with_weights-0.transformer/layer_2/self_attention/key/bias:0\n"
     ]
    },
    {
     "name": "stderr",
     "output_type": "stream",
     "text": [
      "WARNING:tensorflow:Unresolved object in checkpoint: (root).optimizer's state 'v' for (root).layer_with_weights-0.transformer/layer_2/self_attention/key/bias:0\n"
     ]
    },
    {
     "name": "stdout",
     "output_type": "stream",
     "text": [
      "WARNING:tensorflow:Unresolved object in checkpoint: (root).optimizer's state 'v' for (root).layer_with_weights-0.transformer/layer_2/self_attention/value/kernel:0\n"
     ]
    },
    {
     "name": "stderr",
     "output_type": "stream",
     "text": [
      "WARNING:tensorflow:Unresolved object in checkpoint: (root).optimizer's state 'v' for (root).layer_with_weights-0.transformer/layer_2/self_attention/value/kernel:0\n"
     ]
    },
    {
     "name": "stdout",
     "output_type": "stream",
     "text": [
      "WARNING:tensorflow:Unresolved object in checkpoint: (root).optimizer's state 'v' for (root).layer_with_weights-0.transformer/layer_2/self_attention/value/bias:0\n"
     ]
    },
    {
     "name": "stderr",
     "output_type": "stream",
     "text": [
      "WARNING:tensorflow:Unresolved object in checkpoint: (root).optimizer's state 'v' for (root).layer_with_weights-0.transformer/layer_2/self_attention/value/bias:0\n"
     ]
    },
    {
     "name": "stdout",
     "output_type": "stream",
     "text": [
      "WARNING:tensorflow:Unresolved object in checkpoint: (root).optimizer's state 'v' for (root).layer_with_weights-0.transformer/layer_2/self_attention/attention_output/kernel:0\n"
     ]
    },
    {
     "name": "stderr",
     "output_type": "stream",
     "text": [
      "WARNING:tensorflow:Unresolved object in checkpoint: (root).optimizer's state 'v' for (root).layer_with_weights-0.transformer/layer_2/self_attention/attention_output/kernel:0\n"
     ]
    },
    {
     "name": "stdout",
     "output_type": "stream",
     "text": [
      "WARNING:tensorflow:Unresolved object in checkpoint: (root).optimizer's state 'v' for (root).layer_with_weights-0.transformer/layer_2/self_attention/attention_output/bias:0\n"
     ]
    },
    {
     "name": "stderr",
     "output_type": "stream",
     "text": [
      "WARNING:tensorflow:Unresolved object in checkpoint: (root).optimizer's state 'v' for (root).layer_with_weights-0.transformer/layer_2/self_attention/attention_output/bias:0\n"
     ]
    },
    {
     "name": "stdout",
     "output_type": "stream",
     "text": [
      "WARNING:tensorflow:Unresolved object in checkpoint: (root).optimizer's state 'v' for (root).layer_with_weights-0.transformer/layer_2/self_attention_layer_norm/gamma:0\n"
     ]
    },
    {
     "name": "stderr",
     "output_type": "stream",
     "text": [
      "WARNING:tensorflow:Unresolved object in checkpoint: (root).optimizer's state 'v' for (root).layer_with_weights-0.transformer/layer_2/self_attention_layer_norm/gamma:0\n"
     ]
    },
    {
     "name": "stdout",
     "output_type": "stream",
     "text": [
      "WARNING:tensorflow:Unresolved object in checkpoint: (root).optimizer's state 'v' for (root).layer_with_weights-0.transformer/layer_2/self_attention_layer_norm/beta:0\n"
     ]
    },
    {
     "name": "stderr",
     "output_type": "stream",
     "text": [
      "WARNING:tensorflow:Unresolved object in checkpoint: (root).optimizer's state 'v' for (root).layer_with_weights-0.transformer/layer_2/self_attention_layer_norm/beta:0\n"
     ]
    },
    {
     "name": "stdout",
     "output_type": "stream",
     "text": [
      "WARNING:tensorflow:Unresolved object in checkpoint: (root).optimizer's state 'v' for (root).layer_with_weights-0.transformer/layer_2/intermediate/kernel:0\n"
     ]
    },
    {
     "name": "stderr",
     "output_type": "stream",
     "text": [
      "WARNING:tensorflow:Unresolved object in checkpoint: (root).optimizer's state 'v' for (root).layer_with_weights-0.transformer/layer_2/intermediate/kernel:0\n"
     ]
    },
    {
     "name": "stdout",
     "output_type": "stream",
     "text": [
      "WARNING:tensorflow:Unresolved object in checkpoint: (root).optimizer's state 'v' for (root).layer_with_weights-0.transformer/layer_2/intermediate/bias:0\n"
     ]
    },
    {
     "name": "stderr",
     "output_type": "stream",
     "text": [
      "WARNING:tensorflow:Unresolved object in checkpoint: (root).optimizer's state 'v' for (root).layer_with_weights-0.transformer/layer_2/intermediate/bias:0\n"
     ]
    },
    {
     "name": "stdout",
     "output_type": "stream",
     "text": [
      "WARNING:tensorflow:Unresolved object in checkpoint: (root).optimizer's state 'v' for (root).layer_with_weights-0.transformer/layer_2/output/kernel:0\n"
     ]
    },
    {
     "name": "stderr",
     "output_type": "stream",
     "text": [
      "WARNING:tensorflow:Unresolved object in checkpoint: (root).optimizer's state 'v' for (root).layer_with_weights-0.transformer/layer_2/output/kernel:0\n"
     ]
    },
    {
     "name": "stdout",
     "output_type": "stream",
     "text": [
      "WARNING:tensorflow:Unresolved object in checkpoint: (root).optimizer's state 'v' for (root).layer_with_weights-0.transformer/layer_2/output/bias:0\n"
     ]
    },
    {
     "name": "stderr",
     "output_type": "stream",
     "text": [
      "WARNING:tensorflow:Unresolved object in checkpoint: (root).optimizer's state 'v' for (root).layer_with_weights-0.transformer/layer_2/output/bias:0\n"
     ]
    },
    {
     "name": "stdout",
     "output_type": "stream",
     "text": [
      "WARNING:tensorflow:Unresolved object in checkpoint: (root).optimizer's state 'v' for (root).layer_with_weights-0.transformer/layer_2/output_layer_norm/gamma:0\n"
     ]
    },
    {
     "name": "stderr",
     "output_type": "stream",
     "text": [
      "WARNING:tensorflow:Unresolved object in checkpoint: (root).optimizer's state 'v' for (root).layer_with_weights-0.transformer/layer_2/output_layer_norm/gamma:0\n"
     ]
    },
    {
     "name": "stdout",
     "output_type": "stream",
     "text": [
      "WARNING:tensorflow:Unresolved object in checkpoint: (root).optimizer's state 'v' for (root).layer_with_weights-0.transformer/layer_2/output_layer_norm/beta:0\n"
     ]
    },
    {
     "name": "stderr",
     "output_type": "stream",
     "text": [
      "WARNING:tensorflow:Unresolved object in checkpoint: (root).optimizer's state 'v' for (root).layer_with_weights-0.transformer/layer_2/output_layer_norm/beta:0\n"
     ]
    },
    {
     "name": "stdout",
     "output_type": "stream",
     "text": [
      "WARNING:tensorflow:Unresolved object in checkpoint: (root).optimizer's state 'v' for (root).layer_with_weights-0.transformer/layer_3/self_attention/query/kernel:0\n"
     ]
    },
    {
     "name": "stderr",
     "output_type": "stream",
     "text": [
      "WARNING:tensorflow:Unresolved object in checkpoint: (root).optimizer's state 'v' for (root).layer_with_weights-0.transformer/layer_3/self_attention/query/kernel:0\n"
     ]
    },
    {
     "name": "stdout",
     "output_type": "stream",
     "text": [
      "WARNING:tensorflow:Unresolved object in checkpoint: (root).optimizer's state 'v' for (root).layer_with_weights-0.transformer/layer_3/self_attention/query/bias:0\n"
     ]
    },
    {
     "name": "stderr",
     "output_type": "stream",
     "text": [
      "WARNING:tensorflow:Unresolved object in checkpoint: (root).optimizer's state 'v' for (root).layer_with_weights-0.transformer/layer_3/self_attention/query/bias:0\n"
     ]
    },
    {
     "name": "stdout",
     "output_type": "stream",
     "text": [
      "WARNING:tensorflow:Unresolved object in checkpoint: (root).optimizer's state 'v' for (root).layer_with_weights-0.transformer/layer_3/self_attention/key/kernel:0\n"
     ]
    },
    {
     "name": "stderr",
     "output_type": "stream",
     "text": [
      "WARNING:tensorflow:Unresolved object in checkpoint: (root).optimizer's state 'v' for (root).layer_with_weights-0.transformer/layer_3/self_attention/key/kernel:0\n"
     ]
    },
    {
     "name": "stdout",
     "output_type": "stream",
     "text": [
      "WARNING:tensorflow:Unresolved object in checkpoint: (root).optimizer's state 'v' for (root).layer_with_weights-0.transformer/layer_3/self_attention/key/bias:0\n"
     ]
    },
    {
     "name": "stderr",
     "output_type": "stream",
     "text": [
      "WARNING:tensorflow:Unresolved object in checkpoint: (root).optimizer's state 'v' for (root).layer_with_weights-0.transformer/layer_3/self_attention/key/bias:0\n"
     ]
    },
    {
     "name": "stdout",
     "output_type": "stream",
     "text": [
      "WARNING:tensorflow:Unresolved object in checkpoint: (root).optimizer's state 'v' for (root).layer_with_weights-0.transformer/layer_3/self_attention/value/kernel:0\n"
     ]
    },
    {
     "name": "stderr",
     "output_type": "stream",
     "text": [
      "WARNING:tensorflow:Unresolved object in checkpoint: (root).optimizer's state 'v' for (root).layer_with_weights-0.transformer/layer_3/self_attention/value/kernel:0\n"
     ]
    },
    {
     "name": "stdout",
     "output_type": "stream",
     "text": [
      "WARNING:tensorflow:Unresolved object in checkpoint: (root).optimizer's state 'v' for (root).layer_with_weights-0.transformer/layer_3/self_attention/value/bias:0\n"
     ]
    },
    {
     "name": "stderr",
     "output_type": "stream",
     "text": [
      "WARNING:tensorflow:Unresolved object in checkpoint: (root).optimizer's state 'v' for (root).layer_with_weights-0.transformer/layer_3/self_attention/value/bias:0\n"
     ]
    },
    {
     "name": "stdout",
     "output_type": "stream",
     "text": [
      "WARNING:tensorflow:Unresolved object in checkpoint: (root).optimizer's state 'v' for (root).layer_with_weights-0.transformer/layer_3/self_attention/attention_output/kernel:0\n"
     ]
    },
    {
     "name": "stderr",
     "output_type": "stream",
     "text": [
      "WARNING:tensorflow:Unresolved object in checkpoint: (root).optimizer's state 'v' for (root).layer_with_weights-0.transformer/layer_3/self_attention/attention_output/kernel:0\n"
     ]
    },
    {
     "name": "stdout",
     "output_type": "stream",
     "text": [
      "WARNING:tensorflow:Unresolved object in checkpoint: (root).optimizer's state 'v' for (root).layer_with_weights-0.transformer/layer_3/self_attention/attention_output/bias:0\n"
     ]
    },
    {
     "name": "stderr",
     "output_type": "stream",
     "text": [
      "WARNING:tensorflow:Unresolved object in checkpoint: (root).optimizer's state 'v' for (root).layer_with_weights-0.transformer/layer_3/self_attention/attention_output/bias:0\n"
     ]
    },
    {
     "name": "stdout",
     "output_type": "stream",
     "text": [
      "WARNING:tensorflow:Unresolved object in checkpoint: (root).optimizer's state 'v' for (root).layer_with_weights-0.transformer/layer_3/self_attention_layer_norm/gamma:0\n"
     ]
    },
    {
     "name": "stderr",
     "output_type": "stream",
     "text": [
      "WARNING:tensorflow:Unresolved object in checkpoint: (root).optimizer's state 'v' for (root).layer_with_weights-0.transformer/layer_3/self_attention_layer_norm/gamma:0\n"
     ]
    },
    {
     "name": "stdout",
     "output_type": "stream",
     "text": [
      "WARNING:tensorflow:Unresolved object in checkpoint: (root).optimizer's state 'v' for (root).layer_with_weights-0.transformer/layer_3/self_attention_layer_norm/beta:0\n"
     ]
    },
    {
     "name": "stderr",
     "output_type": "stream",
     "text": [
      "WARNING:tensorflow:Unresolved object in checkpoint: (root).optimizer's state 'v' for (root).layer_with_weights-0.transformer/layer_3/self_attention_layer_norm/beta:0\n"
     ]
    },
    {
     "name": "stdout",
     "output_type": "stream",
     "text": [
      "WARNING:tensorflow:Unresolved object in checkpoint: (root).optimizer's state 'v' for (root).layer_with_weights-0.transformer/layer_3/intermediate/kernel:0\n"
     ]
    },
    {
     "name": "stderr",
     "output_type": "stream",
     "text": [
      "WARNING:tensorflow:Unresolved object in checkpoint: (root).optimizer's state 'v' for (root).layer_with_weights-0.transformer/layer_3/intermediate/kernel:0\n"
     ]
    },
    {
     "name": "stdout",
     "output_type": "stream",
     "text": [
      "WARNING:tensorflow:Unresolved object in checkpoint: (root).optimizer's state 'v' for (root).layer_with_weights-0.transformer/layer_3/intermediate/bias:0\n"
     ]
    },
    {
     "name": "stderr",
     "output_type": "stream",
     "text": [
      "WARNING:tensorflow:Unresolved object in checkpoint: (root).optimizer's state 'v' for (root).layer_with_weights-0.transformer/layer_3/intermediate/bias:0\n"
     ]
    },
    {
     "name": "stdout",
     "output_type": "stream",
     "text": [
      "WARNING:tensorflow:Unresolved object in checkpoint: (root).optimizer's state 'v' for (root).layer_with_weights-0.transformer/layer_3/output/kernel:0\n"
     ]
    },
    {
     "name": "stderr",
     "output_type": "stream",
     "text": [
      "WARNING:tensorflow:Unresolved object in checkpoint: (root).optimizer's state 'v' for (root).layer_with_weights-0.transformer/layer_3/output/kernel:0\n"
     ]
    },
    {
     "name": "stdout",
     "output_type": "stream",
     "text": [
      "WARNING:tensorflow:Unresolved object in checkpoint: (root).optimizer's state 'v' for (root).layer_with_weights-0.transformer/layer_3/output/bias:0\n"
     ]
    },
    {
     "name": "stderr",
     "output_type": "stream",
     "text": [
      "WARNING:tensorflow:Unresolved object in checkpoint: (root).optimizer's state 'v' for (root).layer_with_weights-0.transformer/layer_3/output/bias:0\n"
     ]
    },
    {
     "name": "stdout",
     "output_type": "stream",
     "text": [
      "WARNING:tensorflow:Unresolved object in checkpoint: (root).optimizer's state 'v' for (root).layer_with_weights-0.transformer/layer_3/output_layer_norm/gamma:0\n"
     ]
    },
    {
     "name": "stderr",
     "output_type": "stream",
     "text": [
      "WARNING:tensorflow:Unresolved object in checkpoint: (root).optimizer's state 'v' for (root).layer_with_weights-0.transformer/layer_3/output_layer_norm/gamma:0\n"
     ]
    },
    {
     "name": "stdout",
     "output_type": "stream",
     "text": [
      "WARNING:tensorflow:Unresolved object in checkpoint: (root).optimizer's state 'v' for (root).layer_with_weights-0.transformer/layer_3/output_layer_norm/beta:0\n"
     ]
    },
    {
     "name": "stderr",
     "output_type": "stream",
     "text": [
      "WARNING:tensorflow:Unresolved object in checkpoint: (root).optimizer's state 'v' for (root).layer_with_weights-0.transformer/layer_3/output_layer_norm/beta:0\n"
     ]
    },
    {
     "name": "stdout",
     "output_type": "stream",
     "text": [
      "WARNING:tensorflow:Unresolved object in checkpoint: (root).optimizer's state 'v' for (root).layer_with_weights-0.transformer/layer_4/self_attention/query/kernel:0\n"
     ]
    },
    {
     "name": "stderr",
     "output_type": "stream",
     "text": [
      "WARNING:tensorflow:Unresolved object in checkpoint: (root).optimizer's state 'v' for (root).layer_with_weights-0.transformer/layer_4/self_attention/query/kernel:0\n"
     ]
    },
    {
     "name": "stdout",
     "output_type": "stream",
     "text": [
      "WARNING:tensorflow:Unresolved object in checkpoint: (root).optimizer's state 'v' for (root).layer_with_weights-0.transformer/layer_4/self_attention/query/bias:0\n"
     ]
    },
    {
     "name": "stderr",
     "output_type": "stream",
     "text": [
      "WARNING:tensorflow:Unresolved object in checkpoint: (root).optimizer's state 'v' for (root).layer_with_weights-0.transformer/layer_4/self_attention/query/bias:0\n"
     ]
    },
    {
     "name": "stdout",
     "output_type": "stream",
     "text": [
      "WARNING:tensorflow:Unresolved object in checkpoint: (root).optimizer's state 'v' for (root).layer_with_weights-0.transformer/layer_4/self_attention/key/kernel:0\n"
     ]
    },
    {
     "name": "stderr",
     "output_type": "stream",
     "text": [
      "WARNING:tensorflow:Unresolved object in checkpoint: (root).optimizer's state 'v' for (root).layer_with_weights-0.transformer/layer_4/self_attention/key/kernel:0\n"
     ]
    },
    {
     "name": "stdout",
     "output_type": "stream",
     "text": [
      "WARNING:tensorflow:Unresolved object in checkpoint: (root).optimizer's state 'v' for (root).layer_with_weights-0.transformer/layer_4/self_attention/key/bias:0\n"
     ]
    },
    {
     "name": "stderr",
     "output_type": "stream",
     "text": [
      "WARNING:tensorflow:Unresolved object in checkpoint: (root).optimizer's state 'v' for (root).layer_with_weights-0.transformer/layer_4/self_attention/key/bias:0\n"
     ]
    },
    {
     "name": "stdout",
     "output_type": "stream",
     "text": [
      "WARNING:tensorflow:Unresolved object in checkpoint: (root).optimizer's state 'v' for (root).layer_with_weights-0.transformer/layer_4/self_attention/value/kernel:0\n"
     ]
    },
    {
     "name": "stderr",
     "output_type": "stream",
     "text": [
      "WARNING:tensorflow:Unresolved object in checkpoint: (root).optimizer's state 'v' for (root).layer_with_weights-0.transformer/layer_4/self_attention/value/kernel:0\n"
     ]
    },
    {
     "name": "stdout",
     "output_type": "stream",
     "text": [
      "WARNING:tensorflow:Unresolved object in checkpoint: (root).optimizer's state 'v' for (root).layer_with_weights-0.transformer/layer_4/self_attention/value/bias:0\n"
     ]
    },
    {
     "name": "stderr",
     "output_type": "stream",
     "text": [
      "WARNING:tensorflow:Unresolved object in checkpoint: (root).optimizer's state 'v' for (root).layer_with_weights-0.transformer/layer_4/self_attention/value/bias:0\n"
     ]
    },
    {
     "name": "stdout",
     "output_type": "stream",
     "text": [
      "WARNING:tensorflow:Unresolved object in checkpoint: (root).optimizer's state 'v' for (root).layer_with_weights-0.transformer/layer_4/self_attention/attention_output/kernel:0\n"
     ]
    },
    {
     "name": "stderr",
     "output_type": "stream",
     "text": [
      "WARNING:tensorflow:Unresolved object in checkpoint: (root).optimizer's state 'v' for (root).layer_with_weights-0.transformer/layer_4/self_attention/attention_output/kernel:0\n"
     ]
    },
    {
     "name": "stdout",
     "output_type": "stream",
     "text": [
      "WARNING:tensorflow:Unresolved object in checkpoint: (root).optimizer's state 'v' for (root).layer_with_weights-0.transformer/layer_4/self_attention/attention_output/bias:0\n"
     ]
    },
    {
     "name": "stderr",
     "output_type": "stream",
     "text": [
      "WARNING:tensorflow:Unresolved object in checkpoint: (root).optimizer's state 'v' for (root).layer_with_weights-0.transformer/layer_4/self_attention/attention_output/bias:0\n"
     ]
    },
    {
     "name": "stdout",
     "output_type": "stream",
     "text": [
      "WARNING:tensorflow:Unresolved object in checkpoint: (root).optimizer's state 'v' for (root).layer_with_weights-0.transformer/layer_4/self_attention_layer_norm/gamma:0\n"
     ]
    },
    {
     "name": "stderr",
     "output_type": "stream",
     "text": [
      "WARNING:tensorflow:Unresolved object in checkpoint: (root).optimizer's state 'v' for (root).layer_with_weights-0.transformer/layer_4/self_attention_layer_norm/gamma:0\n"
     ]
    },
    {
     "name": "stdout",
     "output_type": "stream",
     "text": [
      "WARNING:tensorflow:Unresolved object in checkpoint: (root).optimizer's state 'v' for (root).layer_with_weights-0.transformer/layer_4/self_attention_layer_norm/beta:0\n"
     ]
    },
    {
     "name": "stderr",
     "output_type": "stream",
     "text": [
      "WARNING:tensorflow:Unresolved object in checkpoint: (root).optimizer's state 'v' for (root).layer_with_weights-0.transformer/layer_4/self_attention_layer_norm/beta:0\n"
     ]
    },
    {
     "name": "stdout",
     "output_type": "stream",
     "text": [
      "WARNING:tensorflow:Unresolved object in checkpoint: (root).optimizer's state 'v' for (root).layer_with_weights-0.transformer/layer_4/intermediate/kernel:0\n"
     ]
    },
    {
     "name": "stderr",
     "output_type": "stream",
     "text": [
      "WARNING:tensorflow:Unresolved object in checkpoint: (root).optimizer's state 'v' for (root).layer_with_weights-0.transformer/layer_4/intermediate/kernel:0\n"
     ]
    },
    {
     "name": "stdout",
     "output_type": "stream",
     "text": [
      "WARNING:tensorflow:Unresolved object in checkpoint: (root).optimizer's state 'v' for (root).layer_with_weights-0.transformer/layer_4/intermediate/bias:0\n"
     ]
    },
    {
     "name": "stderr",
     "output_type": "stream",
     "text": [
      "WARNING:tensorflow:Unresolved object in checkpoint: (root).optimizer's state 'v' for (root).layer_with_weights-0.transformer/layer_4/intermediate/bias:0\n"
     ]
    },
    {
     "name": "stdout",
     "output_type": "stream",
     "text": [
      "WARNING:tensorflow:Unresolved object in checkpoint: (root).optimizer's state 'v' for (root).layer_with_weights-0.transformer/layer_4/output/kernel:0\n"
     ]
    },
    {
     "name": "stderr",
     "output_type": "stream",
     "text": [
      "WARNING:tensorflow:Unresolved object in checkpoint: (root).optimizer's state 'v' for (root).layer_with_weights-0.transformer/layer_4/output/kernel:0\n"
     ]
    },
    {
     "name": "stdout",
     "output_type": "stream",
     "text": [
      "WARNING:tensorflow:Unresolved object in checkpoint: (root).optimizer's state 'v' for (root).layer_with_weights-0.transformer/layer_4/output/bias:0\n"
     ]
    },
    {
     "name": "stderr",
     "output_type": "stream",
     "text": [
      "WARNING:tensorflow:Unresolved object in checkpoint: (root).optimizer's state 'v' for (root).layer_with_weights-0.transformer/layer_4/output/bias:0\n"
     ]
    },
    {
     "name": "stdout",
     "output_type": "stream",
     "text": [
      "WARNING:tensorflow:Unresolved object in checkpoint: (root).optimizer's state 'v' for (root).layer_with_weights-0.transformer/layer_4/output_layer_norm/gamma:0\n"
     ]
    },
    {
     "name": "stderr",
     "output_type": "stream",
     "text": [
      "WARNING:tensorflow:Unresolved object in checkpoint: (root).optimizer's state 'v' for (root).layer_with_weights-0.transformer/layer_4/output_layer_norm/gamma:0\n"
     ]
    },
    {
     "name": "stdout",
     "output_type": "stream",
     "text": [
      "WARNING:tensorflow:Unresolved object in checkpoint: (root).optimizer's state 'v' for (root).layer_with_weights-0.transformer/layer_4/output_layer_norm/beta:0\n"
     ]
    },
    {
     "name": "stderr",
     "output_type": "stream",
     "text": [
      "WARNING:tensorflow:Unresolved object in checkpoint: (root).optimizer's state 'v' for (root).layer_with_weights-0.transformer/layer_4/output_layer_norm/beta:0\n"
     ]
    },
    {
     "name": "stdout",
     "output_type": "stream",
     "text": [
      "WARNING:tensorflow:Unresolved object in checkpoint: (root).optimizer's state 'v' for (root).layer_with_weights-0.transformer/layer_5/self_attention/query/kernel:0\n"
     ]
    },
    {
     "name": "stderr",
     "output_type": "stream",
     "text": [
      "WARNING:tensorflow:Unresolved object in checkpoint: (root).optimizer's state 'v' for (root).layer_with_weights-0.transformer/layer_5/self_attention/query/kernel:0\n"
     ]
    },
    {
     "name": "stdout",
     "output_type": "stream",
     "text": [
      "WARNING:tensorflow:Unresolved object in checkpoint: (root).optimizer's state 'v' for (root).layer_with_weights-0.transformer/layer_5/self_attention/query/bias:0\n"
     ]
    },
    {
     "name": "stderr",
     "output_type": "stream",
     "text": [
      "WARNING:tensorflow:Unresolved object in checkpoint: (root).optimizer's state 'v' for (root).layer_with_weights-0.transformer/layer_5/self_attention/query/bias:0\n"
     ]
    },
    {
     "name": "stdout",
     "output_type": "stream",
     "text": [
      "WARNING:tensorflow:Unresolved object in checkpoint: (root).optimizer's state 'v' for (root).layer_with_weights-0.transformer/layer_5/self_attention/key/kernel:0\n"
     ]
    },
    {
     "name": "stderr",
     "output_type": "stream",
     "text": [
      "WARNING:tensorflow:Unresolved object in checkpoint: (root).optimizer's state 'v' for (root).layer_with_weights-0.transformer/layer_5/self_attention/key/kernel:0\n"
     ]
    },
    {
     "name": "stdout",
     "output_type": "stream",
     "text": [
      "WARNING:tensorflow:Unresolved object in checkpoint: (root).optimizer's state 'v' for (root).layer_with_weights-0.transformer/layer_5/self_attention/key/bias:0\n"
     ]
    },
    {
     "name": "stderr",
     "output_type": "stream",
     "text": [
      "WARNING:tensorflow:Unresolved object in checkpoint: (root).optimizer's state 'v' for (root).layer_with_weights-0.transformer/layer_5/self_attention/key/bias:0\n"
     ]
    },
    {
     "name": "stdout",
     "output_type": "stream",
     "text": [
      "WARNING:tensorflow:Unresolved object in checkpoint: (root).optimizer's state 'v' for (root).layer_with_weights-0.transformer/layer_5/self_attention/value/kernel:0\n"
     ]
    },
    {
     "name": "stderr",
     "output_type": "stream",
     "text": [
      "WARNING:tensorflow:Unresolved object in checkpoint: (root).optimizer's state 'v' for (root).layer_with_weights-0.transformer/layer_5/self_attention/value/kernel:0\n"
     ]
    },
    {
     "name": "stdout",
     "output_type": "stream",
     "text": [
      "WARNING:tensorflow:Unresolved object in checkpoint: (root).optimizer's state 'v' for (root).layer_with_weights-0.transformer/layer_5/self_attention/value/bias:0\n"
     ]
    },
    {
     "name": "stderr",
     "output_type": "stream",
     "text": [
      "WARNING:tensorflow:Unresolved object in checkpoint: (root).optimizer's state 'v' for (root).layer_with_weights-0.transformer/layer_5/self_attention/value/bias:0\n"
     ]
    },
    {
     "name": "stdout",
     "output_type": "stream",
     "text": [
      "WARNING:tensorflow:Unresolved object in checkpoint: (root).optimizer's state 'v' for (root).layer_with_weights-0.transformer/layer_5/self_attention/attention_output/kernel:0\n"
     ]
    },
    {
     "name": "stderr",
     "output_type": "stream",
     "text": [
      "WARNING:tensorflow:Unresolved object in checkpoint: (root).optimizer's state 'v' for (root).layer_with_weights-0.transformer/layer_5/self_attention/attention_output/kernel:0\n"
     ]
    },
    {
     "name": "stdout",
     "output_type": "stream",
     "text": [
      "WARNING:tensorflow:Unresolved object in checkpoint: (root).optimizer's state 'v' for (root).layer_with_weights-0.transformer/layer_5/self_attention/attention_output/bias:0\n"
     ]
    },
    {
     "name": "stderr",
     "output_type": "stream",
     "text": [
      "WARNING:tensorflow:Unresolved object in checkpoint: (root).optimizer's state 'v' for (root).layer_with_weights-0.transformer/layer_5/self_attention/attention_output/bias:0\n"
     ]
    },
    {
     "name": "stdout",
     "output_type": "stream",
     "text": [
      "WARNING:tensorflow:Unresolved object in checkpoint: (root).optimizer's state 'v' for (root).layer_with_weights-0.transformer/layer_5/self_attention_layer_norm/gamma:0\n"
     ]
    },
    {
     "name": "stderr",
     "output_type": "stream",
     "text": [
      "WARNING:tensorflow:Unresolved object in checkpoint: (root).optimizer's state 'v' for (root).layer_with_weights-0.transformer/layer_5/self_attention_layer_norm/gamma:0\n"
     ]
    },
    {
     "name": "stdout",
     "output_type": "stream",
     "text": [
      "WARNING:tensorflow:Unresolved object in checkpoint: (root).optimizer's state 'v' for (root).layer_with_weights-0.transformer/layer_5/self_attention_layer_norm/beta:0\n"
     ]
    },
    {
     "name": "stderr",
     "output_type": "stream",
     "text": [
      "WARNING:tensorflow:Unresolved object in checkpoint: (root).optimizer's state 'v' for (root).layer_with_weights-0.transformer/layer_5/self_attention_layer_norm/beta:0\n"
     ]
    },
    {
     "name": "stdout",
     "output_type": "stream",
     "text": [
      "WARNING:tensorflow:Unresolved object in checkpoint: (root).optimizer's state 'v' for (root).layer_with_weights-0.transformer/layer_5/intermediate/kernel:0\n"
     ]
    },
    {
     "name": "stderr",
     "output_type": "stream",
     "text": [
      "WARNING:tensorflow:Unresolved object in checkpoint: (root).optimizer's state 'v' for (root).layer_with_weights-0.transformer/layer_5/intermediate/kernel:0\n"
     ]
    },
    {
     "name": "stdout",
     "output_type": "stream",
     "text": [
      "WARNING:tensorflow:Unresolved object in checkpoint: (root).optimizer's state 'v' for (root).layer_with_weights-0.transformer/layer_5/intermediate/bias:0\n"
     ]
    },
    {
     "name": "stderr",
     "output_type": "stream",
     "text": [
      "WARNING:tensorflow:Unresolved object in checkpoint: (root).optimizer's state 'v' for (root).layer_with_weights-0.transformer/layer_5/intermediate/bias:0\n"
     ]
    },
    {
     "name": "stdout",
     "output_type": "stream",
     "text": [
      "WARNING:tensorflow:Unresolved object in checkpoint: (root).optimizer's state 'v' for (root).layer_with_weights-0.transformer/layer_5/output/kernel:0\n"
     ]
    },
    {
     "name": "stderr",
     "output_type": "stream",
     "text": [
      "WARNING:tensorflow:Unresolved object in checkpoint: (root).optimizer's state 'v' for (root).layer_with_weights-0.transformer/layer_5/output/kernel:0\n"
     ]
    },
    {
     "name": "stdout",
     "output_type": "stream",
     "text": [
      "WARNING:tensorflow:Unresolved object in checkpoint: (root).optimizer's state 'v' for (root).layer_with_weights-0.transformer/layer_5/output/bias:0\n"
     ]
    },
    {
     "name": "stderr",
     "output_type": "stream",
     "text": [
      "WARNING:tensorflow:Unresolved object in checkpoint: (root).optimizer's state 'v' for (root).layer_with_weights-0.transformer/layer_5/output/bias:0\n"
     ]
    },
    {
     "name": "stdout",
     "output_type": "stream",
     "text": [
      "WARNING:tensorflow:Unresolved object in checkpoint: (root).optimizer's state 'v' for (root).layer_with_weights-0.transformer/layer_5/output_layer_norm/gamma:0\n"
     ]
    },
    {
     "name": "stderr",
     "output_type": "stream",
     "text": [
      "WARNING:tensorflow:Unresolved object in checkpoint: (root).optimizer's state 'v' for (root).layer_with_weights-0.transformer/layer_5/output_layer_norm/gamma:0\n"
     ]
    },
    {
     "name": "stdout",
     "output_type": "stream",
     "text": [
      "WARNING:tensorflow:Unresolved object in checkpoint: (root).optimizer's state 'v' for (root).layer_with_weights-0.transformer/layer_5/output_layer_norm/beta:0\n"
     ]
    },
    {
     "name": "stderr",
     "output_type": "stream",
     "text": [
      "WARNING:tensorflow:Unresolved object in checkpoint: (root).optimizer's state 'v' for (root).layer_with_weights-0.transformer/layer_5/output_layer_norm/beta:0\n"
     ]
    },
    {
     "name": "stdout",
     "output_type": "stream",
     "text": [
      "WARNING:tensorflow:Unresolved object in checkpoint: (root).optimizer's state 'v' for (root).layer_with_weights-0.transformer/layer_6/self_attention/query/kernel:0\n"
     ]
    },
    {
     "name": "stderr",
     "output_type": "stream",
     "text": [
      "WARNING:tensorflow:Unresolved object in checkpoint: (root).optimizer's state 'v' for (root).layer_with_weights-0.transformer/layer_6/self_attention/query/kernel:0\n"
     ]
    },
    {
     "name": "stdout",
     "output_type": "stream",
     "text": [
      "WARNING:tensorflow:Unresolved object in checkpoint: (root).optimizer's state 'v' for (root).layer_with_weights-0.transformer/layer_6/self_attention/query/bias:0\n"
     ]
    },
    {
     "name": "stderr",
     "output_type": "stream",
     "text": [
      "WARNING:tensorflow:Unresolved object in checkpoint: (root).optimizer's state 'v' for (root).layer_with_weights-0.transformer/layer_6/self_attention/query/bias:0\n"
     ]
    },
    {
     "name": "stdout",
     "output_type": "stream",
     "text": [
      "WARNING:tensorflow:Unresolved object in checkpoint: (root).optimizer's state 'v' for (root).layer_with_weights-0.transformer/layer_6/self_attention/key/kernel:0\n"
     ]
    },
    {
     "name": "stderr",
     "output_type": "stream",
     "text": [
      "WARNING:tensorflow:Unresolved object in checkpoint: (root).optimizer's state 'v' for (root).layer_with_weights-0.transformer/layer_6/self_attention/key/kernel:0\n"
     ]
    },
    {
     "name": "stdout",
     "output_type": "stream",
     "text": [
      "WARNING:tensorflow:Unresolved object in checkpoint: (root).optimizer's state 'v' for (root).layer_with_weights-0.transformer/layer_6/self_attention/key/bias:0\n"
     ]
    },
    {
     "name": "stderr",
     "output_type": "stream",
     "text": [
      "WARNING:tensorflow:Unresolved object in checkpoint: (root).optimizer's state 'v' for (root).layer_with_weights-0.transformer/layer_6/self_attention/key/bias:0\n"
     ]
    },
    {
     "name": "stdout",
     "output_type": "stream",
     "text": [
      "WARNING:tensorflow:Unresolved object in checkpoint: (root).optimizer's state 'v' for (root).layer_with_weights-0.transformer/layer_6/self_attention/value/kernel:0\n"
     ]
    },
    {
     "name": "stderr",
     "output_type": "stream",
     "text": [
      "WARNING:tensorflow:Unresolved object in checkpoint: (root).optimizer's state 'v' for (root).layer_with_weights-0.transformer/layer_6/self_attention/value/kernel:0\n"
     ]
    },
    {
     "name": "stdout",
     "output_type": "stream",
     "text": [
      "WARNING:tensorflow:Unresolved object in checkpoint: (root).optimizer's state 'v' for (root).layer_with_weights-0.transformer/layer_6/self_attention/value/bias:0\n"
     ]
    },
    {
     "name": "stderr",
     "output_type": "stream",
     "text": [
      "WARNING:tensorflow:Unresolved object in checkpoint: (root).optimizer's state 'v' for (root).layer_with_weights-0.transformer/layer_6/self_attention/value/bias:0\n"
     ]
    },
    {
     "name": "stdout",
     "output_type": "stream",
     "text": [
      "WARNING:tensorflow:Unresolved object in checkpoint: (root).optimizer's state 'v' for (root).layer_with_weights-0.transformer/layer_6/self_attention/attention_output/kernel:0\n"
     ]
    },
    {
     "name": "stderr",
     "output_type": "stream",
     "text": [
      "WARNING:tensorflow:Unresolved object in checkpoint: (root).optimizer's state 'v' for (root).layer_with_weights-0.transformer/layer_6/self_attention/attention_output/kernel:0\n"
     ]
    },
    {
     "name": "stdout",
     "output_type": "stream",
     "text": [
      "WARNING:tensorflow:Unresolved object in checkpoint: (root).optimizer's state 'v' for (root).layer_with_weights-0.transformer/layer_6/self_attention/attention_output/bias:0\n"
     ]
    },
    {
     "name": "stderr",
     "output_type": "stream",
     "text": [
      "WARNING:tensorflow:Unresolved object in checkpoint: (root).optimizer's state 'v' for (root).layer_with_weights-0.transformer/layer_6/self_attention/attention_output/bias:0\n"
     ]
    },
    {
     "name": "stdout",
     "output_type": "stream",
     "text": [
      "WARNING:tensorflow:Unresolved object in checkpoint: (root).optimizer's state 'v' for (root).layer_with_weights-0.transformer/layer_6/self_attention_layer_norm/gamma:0\n"
     ]
    },
    {
     "name": "stderr",
     "output_type": "stream",
     "text": [
      "WARNING:tensorflow:Unresolved object in checkpoint: (root).optimizer's state 'v' for (root).layer_with_weights-0.transformer/layer_6/self_attention_layer_norm/gamma:0\n"
     ]
    },
    {
     "name": "stdout",
     "output_type": "stream",
     "text": [
      "WARNING:tensorflow:Unresolved object in checkpoint: (root).optimizer's state 'v' for (root).layer_with_weights-0.transformer/layer_6/self_attention_layer_norm/beta:0\n"
     ]
    },
    {
     "name": "stderr",
     "output_type": "stream",
     "text": [
      "WARNING:tensorflow:Unresolved object in checkpoint: (root).optimizer's state 'v' for (root).layer_with_weights-0.transformer/layer_6/self_attention_layer_norm/beta:0\n"
     ]
    },
    {
     "name": "stdout",
     "output_type": "stream",
     "text": [
      "WARNING:tensorflow:Unresolved object in checkpoint: (root).optimizer's state 'v' for (root).layer_with_weights-0.transformer/layer_6/intermediate/kernel:0\n"
     ]
    },
    {
     "name": "stderr",
     "output_type": "stream",
     "text": [
      "WARNING:tensorflow:Unresolved object in checkpoint: (root).optimizer's state 'v' for (root).layer_with_weights-0.transformer/layer_6/intermediate/kernel:0\n"
     ]
    },
    {
     "name": "stdout",
     "output_type": "stream",
     "text": [
      "WARNING:tensorflow:Unresolved object in checkpoint: (root).optimizer's state 'v' for (root).layer_with_weights-0.transformer/layer_6/intermediate/bias:0\n"
     ]
    },
    {
     "name": "stderr",
     "output_type": "stream",
     "text": [
      "WARNING:tensorflow:Unresolved object in checkpoint: (root).optimizer's state 'v' for (root).layer_with_weights-0.transformer/layer_6/intermediate/bias:0\n"
     ]
    },
    {
     "name": "stdout",
     "output_type": "stream",
     "text": [
      "WARNING:tensorflow:Unresolved object in checkpoint: (root).optimizer's state 'v' for (root).layer_with_weights-0.transformer/layer_6/output/kernel:0\n"
     ]
    },
    {
     "name": "stderr",
     "output_type": "stream",
     "text": [
      "WARNING:tensorflow:Unresolved object in checkpoint: (root).optimizer's state 'v' for (root).layer_with_weights-0.transformer/layer_6/output/kernel:0\n"
     ]
    },
    {
     "name": "stdout",
     "output_type": "stream",
     "text": [
      "WARNING:tensorflow:Unresolved object in checkpoint: (root).optimizer's state 'v' for (root).layer_with_weights-0.transformer/layer_6/output/bias:0\n"
     ]
    },
    {
     "name": "stderr",
     "output_type": "stream",
     "text": [
      "WARNING:tensorflow:Unresolved object in checkpoint: (root).optimizer's state 'v' for (root).layer_with_weights-0.transformer/layer_6/output/bias:0\n"
     ]
    },
    {
     "name": "stdout",
     "output_type": "stream",
     "text": [
      "WARNING:tensorflow:Unresolved object in checkpoint: (root).optimizer's state 'v' for (root).layer_with_weights-0.transformer/layer_6/output_layer_norm/gamma:0\n"
     ]
    },
    {
     "name": "stderr",
     "output_type": "stream",
     "text": [
      "WARNING:tensorflow:Unresolved object in checkpoint: (root).optimizer's state 'v' for (root).layer_with_weights-0.transformer/layer_6/output_layer_norm/gamma:0\n"
     ]
    },
    {
     "name": "stdout",
     "output_type": "stream",
     "text": [
      "WARNING:tensorflow:Unresolved object in checkpoint: (root).optimizer's state 'v' for (root).layer_with_weights-0.transformer/layer_6/output_layer_norm/beta:0\n"
     ]
    },
    {
     "name": "stderr",
     "output_type": "stream",
     "text": [
      "WARNING:tensorflow:Unresolved object in checkpoint: (root).optimizer's state 'v' for (root).layer_with_weights-0.transformer/layer_6/output_layer_norm/beta:0\n"
     ]
    },
    {
     "name": "stdout",
     "output_type": "stream",
     "text": [
      "WARNING:tensorflow:Unresolved object in checkpoint: (root).optimizer's state 'v' for (root).layer_with_weights-0.transformer/layer_7/self_attention/query/kernel:0\n"
     ]
    },
    {
     "name": "stderr",
     "output_type": "stream",
     "text": [
      "WARNING:tensorflow:Unresolved object in checkpoint: (root).optimizer's state 'v' for (root).layer_with_weights-0.transformer/layer_7/self_attention/query/kernel:0\n"
     ]
    },
    {
     "name": "stdout",
     "output_type": "stream",
     "text": [
      "WARNING:tensorflow:Unresolved object in checkpoint: (root).optimizer's state 'v' for (root).layer_with_weights-0.transformer/layer_7/self_attention/query/bias:0\n"
     ]
    },
    {
     "name": "stderr",
     "output_type": "stream",
     "text": [
      "WARNING:tensorflow:Unresolved object in checkpoint: (root).optimizer's state 'v' for (root).layer_with_weights-0.transformer/layer_7/self_attention/query/bias:0\n"
     ]
    },
    {
     "name": "stdout",
     "output_type": "stream",
     "text": [
      "WARNING:tensorflow:Unresolved object in checkpoint: (root).optimizer's state 'v' for (root).layer_with_weights-0.transformer/layer_7/self_attention/key/kernel:0\n"
     ]
    },
    {
     "name": "stderr",
     "output_type": "stream",
     "text": [
      "WARNING:tensorflow:Unresolved object in checkpoint: (root).optimizer's state 'v' for (root).layer_with_weights-0.transformer/layer_7/self_attention/key/kernel:0\n"
     ]
    },
    {
     "name": "stdout",
     "output_type": "stream",
     "text": [
      "WARNING:tensorflow:Unresolved object in checkpoint: (root).optimizer's state 'v' for (root).layer_with_weights-0.transformer/layer_7/self_attention/key/bias:0\n"
     ]
    },
    {
     "name": "stderr",
     "output_type": "stream",
     "text": [
      "WARNING:tensorflow:Unresolved object in checkpoint: (root).optimizer's state 'v' for (root).layer_with_weights-0.transformer/layer_7/self_attention/key/bias:0\n"
     ]
    },
    {
     "name": "stdout",
     "output_type": "stream",
     "text": [
      "WARNING:tensorflow:Unresolved object in checkpoint: (root).optimizer's state 'v' for (root).layer_with_weights-0.transformer/layer_7/self_attention/value/kernel:0\n"
     ]
    },
    {
     "name": "stderr",
     "output_type": "stream",
     "text": [
      "WARNING:tensorflow:Unresolved object in checkpoint: (root).optimizer's state 'v' for (root).layer_with_weights-0.transformer/layer_7/self_attention/value/kernel:0\n"
     ]
    },
    {
     "name": "stdout",
     "output_type": "stream",
     "text": [
      "WARNING:tensorflow:Unresolved object in checkpoint: (root).optimizer's state 'v' for (root).layer_with_weights-0.transformer/layer_7/self_attention/value/bias:0\n"
     ]
    },
    {
     "name": "stderr",
     "output_type": "stream",
     "text": [
      "WARNING:tensorflow:Unresolved object in checkpoint: (root).optimizer's state 'v' for (root).layer_with_weights-0.transformer/layer_7/self_attention/value/bias:0\n"
     ]
    },
    {
     "name": "stdout",
     "output_type": "stream",
     "text": [
      "WARNING:tensorflow:Unresolved object in checkpoint: (root).optimizer's state 'v' for (root).layer_with_weights-0.transformer/layer_7/self_attention/attention_output/kernel:0\n"
     ]
    },
    {
     "name": "stderr",
     "output_type": "stream",
     "text": [
      "WARNING:tensorflow:Unresolved object in checkpoint: (root).optimizer's state 'v' for (root).layer_with_weights-0.transformer/layer_7/self_attention/attention_output/kernel:0\n"
     ]
    },
    {
     "name": "stdout",
     "output_type": "stream",
     "text": [
      "WARNING:tensorflow:Unresolved object in checkpoint: (root).optimizer's state 'v' for (root).layer_with_weights-0.transformer/layer_7/self_attention/attention_output/bias:0\n"
     ]
    },
    {
     "name": "stderr",
     "output_type": "stream",
     "text": [
      "WARNING:tensorflow:Unresolved object in checkpoint: (root).optimizer's state 'v' for (root).layer_with_weights-0.transformer/layer_7/self_attention/attention_output/bias:0\n"
     ]
    },
    {
     "name": "stdout",
     "output_type": "stream",
     "text": [
      "WARNING:tensorflow:Unresolved object in checkpoint: (root).optimizer's state 'v' for (root).layer_with_weights-0.transformer/layer_7/self_attention_layer_norm/gamma:0\n"
     ]
    },
    {
     "name": "stderr",
     "output_type": "stream",
     "text": [
      "WARNING:tensorflow:Unresolved object in checkpoint: (root).optimizer's state 'v' for (root).layer_with_weights-0.transformer/layer_7/self_attention_layer_norm/gamma:0\n"
     ]
    },
    {
     "name": "stdout",
     "output_type": "stream",
     "text": [
      "WARNING:tensorflow:Unresolved object in checkpoint: (root).optimizer's state 'v' for (root).layer_with_weights-0.transformer/layer_7/self_attention_layer_norm/beta:0\n"
     ]
    },
    {
     "name": "stderr",
     "output_type": "stream",
     "text": [
      "WARNING:tensorflow:Unresolved object in checkpoint: (root).optimizer's state 'v' for (root).layer_with_weights-0.transformer/layer_7/self_attention_layer_norm/beta:0\n"
     ]
    },
    {
     "name": "stdout",
     "output_type": "stream",
     "text": [
      "WARNING:tensorflow:Unresolved object in checkpoint: (root).optimizer's state 'v' for (root).layer_with_weights-0.transformer/layer_7/intermediate/kernel:0\n"
     ]
    },
    {
     "name": "stderr",
     "output_type": "stream",
     "text": [
      "WARNING:tensorflow:Unresolved object in checkpoint: (root).optimizer's state 'v' for (root).layer_with_weights-0.transformer/layer_7/intermediate/kernel:0\n"
     ]
    },
    {
     "name": "stdout",
     "output_type": "stream",
     "text": [
      "WARNING:tensorflow:Unresolved object in checkpoint: (root).optimizer's state 'v' for (root).layer_with_weights-0.transformer/layer_7/intermediate/bias:0\n"
     ]
    },
    {
     "name": "stderr",
     "output_type": "stream",
     "text": [
      "WARNING:tensorflow:Unresolved object in checkpoint: (root).optimizer's state 'v' for (root).layer_with_weights-0.transformer/layer_7/intermediate/bias:0\n"
     ]
    },
    {
     "name": "stdout",
     "output_type": "stream",
     "text": [
      "WARNING:tensorflow:Unresolved object in checkpoint: (root).optimizer's state 'v' for (root).layer_with_weights-0.transformer/layer_7/output/kernel:0\n"
     ]
    },
    {
     "name": "stderr",
     "output_type": "stream",
     "text": [
      "WARNING:tensorflow:Unresolved object in checkpoint: (root).optimizer's state 'v' for (root).layer_with_weights-0.transformer/layer_7/output/kernel:0\n"
     ]
    },
    {
     "name": "stdout",
     "output_type": "stream",
     "text": [
      "WARNING:tensorflow:Unresolved object in checkpoint: (root).optimizer's state 'v' for (root).layer_with_weights-0.transformer/layer_7/output/bias:0\n"
     ]
    },
    {
     "name": "stderr",
     "output_type": "stream",
     "text": [
      "WARNING:tensorflow:Unresolved object in checkpoint: (root).optimizer's state 'v' for (root).layer_with_weights-0.transformer/layer_7/output/bias:0\n"
     ]
    },
    {
     "name": "stdout",
     "output_type": "stream",
     "text": [
      "WARNING:tensorflow:Unresolved object in checkpoint: (root).optimizer's state 'v' for (root).layer_with_weights-0.transformer/layer_7/output_layer_norm/gamma:0\n"
     ]
    },
    {
     "name": "stderr",
     "output_type": "stream",
     "text": [
      "WARNING:tensorflow:Unresolved object in checkpoint: (root).optimizer's state 'v' for (root).layer_with_weights-0.transformer/layer_7/output_layer_norm/gamma:0\n"
     ]
    },
    {
     "name": "stdout",
     "output_type": "stream",
     "text": [
      "WARNING:tensorflow:Unresolved object in checkpoint: (root).optimizer's state 'v' for (root).layer_with_weights-0.transformer/layer_7/output_layer_norm/beta:0\n"
     ]
    },
    {
     "name": "stderr",
     "output_type": "stream",
     "text": [
      "WARNING:tensorflow:Unresolved object in checkpoint: (root).optimizer's state 'v' for (root).layer_with_weights-0.transformer/layer_7/output_layer_norm/beta:0\n"
     ]
    },
    {
     "name": "stdout",
     "output_type": "stream",
     "text": [
      "WARNING:tensorflow:Unresolved object in checkpoint: (root).optimizer's state 'v' for (root).layer_with_weights-0.transformer/layer_8/self_attention/query/kernel:0\n"
     ]
    },
    {
     "name": "stderr",
     "output_type": "stream",
     "text": [
      "WARNING:tensorflow:Unresolved object in checkpoint: (root).optimizer's state 'v' for (root).layer_with_weights-0.transformer/layer_8/self_attention/query/kernel:0\n"
     ]
    },
    {
     "name": "stdout",
     "output_type": "stream",
     "text": [
      "WARNING:tensorflow:Unresolved object in checkpoint: (root).optimizer's state 'v' for (root).layer_with_weights-0.transformer/layer_8/self_attention/query/bias:0\n"
     ]
    },
    {
     "name": "stderr",
     "output_type": "stream",
     "text": [
      "WARNING:tensorflow:Unresolved object in checkpoint: (root).optimizer's state 'v' for (root).layer_with_weights-0.transformer/layer_8/self_attention/query/bias:0\n"
     ]
    },
    {
     "name": "stdout",
     "output_type": "stream",
     "text": [
      "WARNING:tensorflow:Unresolved object in checkpoint: (root).optimizer's state 'v' for (root).layer_with_weights-0.transformer/layer_8/self_attention/key/kernel:0\n"
     ]
    },
    {
     "name": "stderr",
     "output_type": "stream",
     "text": [
      "WARNING:tensorflow:Unresolved object in checkpoint: (root).optimizer's state 'v' for (root).layer_with_weights-0.transformer/layer_8/self_attention/key/kernel:0\n"
     ]
    },
    {
     "name": "stdout",
     "output_type": "stream",
     "text": [
      "WARNING:tensorflow:Unresolved object in checkpoint: (root).optimizer's state 'v' for (root).layer_with_weights-0.transformer/layer_8/self_attention/key/bias:0\n"
     ]
    },
    {
     "name": "stderr",
     "output_type": "stream",
     "text": [
      "WARNING:tensorflow:Unresolved object in checkpoint: (root).optimizer's state 'v' for (root).layer_with_weights-0.transformer/layer_8/self_attention/key/bias:0\n"
     ]
    },
    {
     "name": "stdout",
     "output_type": "stream",
     "text": [
      "WARNING:tensorflow:Unresolved object in checkpoint: (root).optimizer's state 'v' for (root).layer_with_weights-0.transformer/layer_8/self_attention/value/kernel:0\n"
     ]
    },
    {
     "name": "stderr",
     "output_type": "stream",
     "text": [
      "WARNING:tensorflow:Unresolved object in checkpoint: (root).optimizer's state 'v' for (root).layer_with_weights-0.transformer/layer_8/self_attention/value/kernel:0\n"
     ]
    },
    {
     "name": "stdout",
     "output_type": "stream",
     "text": [
      "WARNING:tensorflow:Unresolved object in checkpoint: (root).optimizer's state 'v' for (root).layer_with_weights-0.transformer/layer_8/self_attention/value/bias:0\n"
     ]
    },
    {
     "name": "stderr",
     "output_type": "stream",
     "text": [
      "WARNING:tensorflow:Unresolved object in checkpoint: (root).optimizer's state 'v' for (root).layer_with_weights-0.transformer/layer_8/self_attention/value/bias:0\n"
     ]
    },
    {
     "name": "stdout",
     "output_type": "stream",
     "text": [
      "WARNING:tensorflow:Unresolved object in checkpoint: (root).optimizer's state 'v' for (root).layer_with_weights-0.transformer/layer_8/self_attention/attention_output/kernel:0\n"
     ]
    },
    {
     "name": "stderr",
     "output_type": "stream",
     "text": [
      "WARNING:tensorflow:Unresolved object in checkpoint: (root).optimizer's state 'v' for (root).layer_with_weights-0.transformer/layer_8/self_attention/attention_output/kernel:0\n"
     ]
    },
    {
     "name": "stdout",
     "output_type": "stream",
     "text": [
      "WARNING:tensorflow:Unresolved object in checkpoint: (root).optimizer's state 'v' for (root).layer_with_weights-0.transformer/layer_8/self_attention/attention_output/bias:0\n"
     ]
    },
    {
     "name": "stderr",
     "output_type": "stream",
     "text": [
      "WARNING:tensorflow:Unresolved object in checkpoint: (root).optimizer's state 'v' for (root).layer_with_weights-0.transformer/layer_8/self_attention/attention_output/bias:0\n"
     ]
    },
    {
     "name": "stdout",
     "output_type": "stream",
     "text": [
      "WARNING:tensorflow:Unresolved object in checkpoint: (root).optimizer's state 'v' for (root).layer_with_weights-0.transformer/layer_8/self_attention_layer_norm/gamma:0\n"
     ]
    },
    {
     "name": "stderr",
     "output_type": "stream",
     "text": [
      "WARNING:tensorflow:Unresolved object in checkpoint: (root).optimizer's state 'v' for (root).layer_with_weights-0.transformer/layer_8/self_attention_layer_norm/gamma:0\n"
     ]
    },
    {
     "name": "stdout",
     "output_type": "stream",
     "text": [
      "WARNING:tensorflow:Unresolved object in checkpoint: (root).optimizer's state 'v' for (root).layer_with_weights-0.transformer/layer_8/self_attention_layer_norm/beta:0\n"
     ]
    },
    {
     "name": "stderr",
     "output_type": "stream",
     "text": [
      "WARNING:tensorflow:Unresolved object in checkpoint: (root).optimizer's state 'v' for (root).layer_with_weights-0.transformer/layer_8/self_attention_layer_norm/beta:0\n"
     ]
    },
    {
     "name": "stdout",
     "output_type": "stream",
     "text": [
      "WARNING:tensorflow:Unresolved object in checkpoint: (root).optimizer's state 'v' for (root).layer_with_weights-0.transformer/layer_8/intermediate/kernel:0\n"
     ]
    },
    {
     "name": "stderr",
     "output_type": "stream",
     "text": [
      "WARNING:tensorflow:Unresolved object in checkpoint: (root).optimizer's state 'v' for (root).layer_with_weights-0.transformer/layer_8/intermediate/kernel:0\n"
     ]
    },
    {
     "name": "stdout",
     "output_type": "stream",
     "text": [
      "WARNING:tensorflow:Unresolved object in checkpoint: (root).optimizer's state 'v' for (root).layer_with_weights-0.transformer/layer_8/intermediate/bias:0\n"
     ]
    },
    {
     "name": "stderr",
     "output_type": "stream",
     "text": [
      "WARNING:tensorflow:Unresolved object in checkpoint: (root).optimizer's state 'v' for (root).layer_with_weights-0.transformer/layer_8/intermediate/bias:0\n"
     ]
    },
    {
     "name": "stdout",
     "output_type": "stream",
     "text": [
      "WARNING:tensorflow:Unresolved object in checkpoint: (root).optimizer's state 'v' for (root).layer_with_weights-0.transformer/layer_8/output/kernel:0\n"
     ]
    },
    {
     "name": "stderr",
     "output_type": "stream",
     "text": [
      "WARNING:tensorflow:Unresolved object in checkpoint: (root).optimizer's state 'v' for (root).layer_with_weights-0.transformer/layer_8/output/kernel:0\n"
     ]
    },
    {
     "name": "stdout",
     "output_type": "stream",
     "text": [
      "WARNING:tensorflow:Unresolved object in checkpoint: (root).optimizer's state 'v' for (root).layer_with_weights-0.transformer/layer_8/output/bias:0\n"
     ]
    },
    {
     "name": "stderr",
     "output_type": "stream",
     "text": [
      "WARNING:tensorflow:Unresolved object in checkpoint: (root).optimizer's state 'v' for (root).layer_with_weights-0.transformer/layer_8/output/bias:0\n"
     ]
    },
    {
     "name": "stdout",
     "output_type": "stream",
     "text": [
      "WARNING:tensorflow:Unresolved object in checkpoint: (root).optimizer's state 'v' for (root).layer_with_weights-0.transformer/layer_8/output_layer_norm/gamma:0\n"
     ]
    },
    {
     "name": "stderr",
     "output_type": "stream",
     "text": [
      "WARNING:tensorflow:Unresolved object in checkpoint: (root).optimizer's state 'v' for (root).layer_with_weights-0.transformer/layer_8/output_layer_norm/gamma:0\n"
     ]
    },
    {
     "name": "stdout",
     "output_type": "stream",
     "text": [
      "WARNING:tensorflow:Unresolved object in checkpoint: (root).optimizer's state 'v' for (root).layer_with_weights-0.transformer/layer_8/output_layer_norm/beta:0\n"
     ]
    },
    {
     "name": "stderr",
     "output_type": "stream",
     "text": [
      "WARNING:tensorflow:Unresolved object in checkpoint: (root).optimizer's state 'v' for (root).layer_with_weights-0.transformer/layer_8/output_layer_norm/beta:0\n"
     ]
    },
    {
     "name": "stdout",
     "output_type": "stream",
     "text": [
      "WARNING:tensorflow:Unresolved object in checkpoint: (root).optimizer's state 'v' for (root).layer_with_weights-0.transformer/layer_9/self_attention/query/kernel:0\n"
     ]
    },
    {
     "name": "stderr",
     "output_type": "stream",
     "text": [
      "WARNING:tensorflow:Unresolved object in checkpoint: (root).optimizer's state 'v' for (root).layer_with_weights-0.transformer/layer_9/self_attention/query/kernel:0\n"
     ]
    },
    {
     "name": "stdout",
     "output_type": "stream",
     "text": [
      "WARNING:tensorflow:Unresolved object in checkpoint: (root).optimizer's state 'v' for (root).layer_with_weights-0.transformer/layer_9/self_attention/query/bias:0\n"
     ]
    },
    {
     "name": "stderr",
     "output_type": "stream",
     "text": [
      "WARNING:tensorflow:Unresolved object in checkpoint: (root).optimizer's state 'v' for (root).layer_with_weights-0.transformer/layer_9/self_attention/query/bias:0\n"
     ]
    },
    {
     "name": "stdout",
     "output_type": "stream",
     "text": [
      "WARNING:tensorflow:Unresolved object in checkpoint: (root).optimizer's state 'v' for (root).layer_with_weights-0.transformer/layer_9/self_attention/key/kernel:0\n"
     ]
    },
    {
     "name": "stderr",
     "output_type": "stream",
     "text": [
      "WARNING:tensorflow:Unresolved object in checkpoint: (root).optimizer's state 'v' for (root).layer_with_weights-0.transformer/layer_9/self_attention/key/kernel:0\n"
     ]
    },
    {
     "name": "stdout",
     "output_type": "stream",
     "text": [
      "WARNING:tensorflow:Unresolved object in checkpoint: (root).optimizer's state 'v' for (root).layer_with_weights-0.transformer/layer_9/self_attention/key/bias:0\n"
     ]
    },
    {
     "name": "stderr",
     "output_type": "stream",
     "text": [
      "WARNING:tensorflow:Unresolved object in checkpoint: (root).optimizer's state 'v' for (root).layer_with_weights-0.transformer/layer_9/self_attention/key/bias:0\n"
     ]
    },
    {
     "name": "stdout",
     "output_type": "stream",
     "text": [
      "WARNING:tensorflow:Unresolved object in checkpoint: (root).optimizer's state 'v' for (root).layer_with_weights-0.transformer/layer_9/self_attention/value/kernel:0\n"
     ]
    },
    {
     "name": "stderr",
     "output_type": "stream",
     "text": [
      "WARNING:tensorflow:Unresolved object in checkpoint: (root).optimizer's state 'v' for (root).layer_with_weights-0.transformer/layer_9/self_attention/value/kernel:0\n"
     ]
    },
    {
     "name": "stdout",
     "output_type": "stream",
     "text": [
      "WARNING:tensorflow:Unresolved object in checkpoint: (root).optimizer's state 'v' for (root).layer_with_weights-0.transformer/layer_9/self_attention/value/bias:0\n"
     ]
    },
    {
     "name": "stderr",
     "output_type": "stream",
     "text": [
      "WARNING:tensorflow:Unresolved object in checkpoint: (root).optimizer's state 'v' for (root).layer_with_weights-0.transformer/layer_9/self_attention/value/bias:0\n"
     ]
    },
    {
     "name": "stdout",
     "output_type": "stream",
     "text": [
      "WARNING:tensorflow:Unresolved object in checkpoint: (root).optimizer's state 'v' for (root).layer_with_weights-0.transformer/layer_9/self_attention/attention_output/kernel:0\n"
     ]
    },
    {
     "name": "stderr",
     "output_type": "stream",
     "text": [
      "WARNING:tensorflow:Unresolved object in checkpoint: (root).optimizer's state 'v' for (root).layer_with_weights-0.transformer/layer_9/self_attention/attention_output/kernel:0\n"
     ]
    },
    {
     "name": "stdout",
     "output_type": "stream",
     "text": [
      "WARNING:tensorflow:Unresolved object in checkpoint: (root).optimizer's state 'v' for (root).layer_with_weights-0.transformer/layer_9/self_attention/attention_output/bias:0\n"
     ]
    },
    {
     "name": "stderr",
     "output_type": "stream",
     "text": [
      "WARNING:tensorflow:Unresolved object in checkpoint: (root).optimizer's state 'v' for (root).layer_with_weights-0.transformer/layer_9/self_attention/attention_output/bias:0\n"
     ]
    },
    {
     "name": "stdout",
     "output_type": "stream",
     "text": [
      "WARNING:tensorflow:Unresolved object in checkpoint: (root).optimizer's state 'v' for (root).layer_with_weights-0.transformer/layer_9/self_attention_layer_norm/gamma:0\n"
     ]
    },
    {
     "name": "stderr",
     "output_type": "stream",
     "text": [
      "WARNING:tensorflow:Unresolved object in checkpoint: (root).optimizer's state 'v' for (root).layer_with_weights-0.transformer/layer_9/self_attention_layer_norm/gamma:0\n"
     ]
    },
    {
     "name": "stdout",
     "output_type": "stream",
     "text": [
      "WARNING:tensorflow:Unresolved object in checkpoint: (root).optimizer's state 'v' for (root).layer_with_weights-0.transformer/layer_9/self_attention_layer_norm/beta:0\n"
     ]
    },
    {
     "name": "stderr",
     "output_type": "stream",
     "text": [
      "WARNING:tensorflow:Unresolved object in checkpoint: (root).optimizer's state 'v' for (root).layer_with_weights-0.transformer/layer_9/self_attention_layer_norm/beta:0\n"
     ]
    },
    {
     "name": "stdout",
     "output_type": "stream",
     "text": [
      "WARNING:tensorflow:Unresolved object in checkpoint: (root).optimizer's state 'v' for (root).layer_with_weights-0.transformer/layer_9/intermediate/kernel:0\n"
     ]
    },
    {
     "name": "stderr",
     "output_type": "stream",
     "text": [
      "WARNING:tensorflow:Unresolved object in checkpoint: (root).optimizer's state 'v' for (root).layer_with_weights-0.transformer/layer_9/intermediate/kernel:0\n"
     ]
    },
    {
     "name": "stdout",
     "output_type": "stream",
     "text": [
      "WARNING:tensorflow:Unresolved object in checkpoint: (root).optimizer's state 'v' for (root).layer_with_weights-0.transformer/layer_9/intermediate/bias:0\n"
     ]
    },
    {
     "name": "stderr",
     "output_type": "stream",
     "text": [
      "WARNING:tensorflow:Unresolved object in checkpoint: (root).optimizer's state 'v' for (root).layer_with_weights-0.transformer/layer_9/intermediate/bias:0\n"
     ]
    },
    {
     "name": "stdout",
     "output_type": "stream",
     "text": [
      "WARNING:tensorflow:Unresolved object in checkpoint: (root).optimizer's state 'v' for (root).layer_with_weights-0.transformer/layer_9/output/kernel:0\n"
     ]
    },
    {
     "name": "stderr",
     "output_type": "stream",
     "text": [
      "WARNING:tensorflow:Unresolved object in checkpoint: (root).optimizer's state 'v' for (root).layer_with_weights-0.transformer/layer_9/output/kernel:0\n"
     ]
    },
    {
     "name": "stdout",
     "output_type": "stream",
     "text": [
      "WARNING:tensorflow:Unresolved object in checkpoint: (root).optimizer's state 'v' for (root).layer_with_weights-0.transformer/layer_9/output/bias:0\n"
     ]
    },
    {
     "name": "stderr",
     "output_type": "stream",
     "text": [
      "WARNING:tensorflow:Unresolved object in checkpoint: (root).optimizer's state 'v' for (root).layer_with_weights-0.transformer/layer_9/output/bias:0\n"
     ]
    },
    {
     "name": "stdout",
     "output_type": "stream",
     "text": [
      "WARNING:tensorflow:Unresolved object in checkpoint: (root).optimizer's state 'v' for (root).layer_with_weights-0.transformer/layer_9/output_layer_norm/gamma:0\n"
     ]
    },
    {
     "name": "stderr",
     "output_type": "stream",
     "text": [
      "WARNING:tensorflow:Unresolved object in checkpoint: (root).optimizer's state 'v' for (root).layer_with_weights-0.transformer/layer_9/output_layer_norm/gamma:0\n"
     ]
    },
    {
     "name": "stdout",
     "output_type": "stream",
     "text": [
      "WARNING:tensorflow:Unresolved object in checkpoint: (root).optimizer's state 'v' for (root).layer_with_weights-0.transformer/layer_9/output_layer_norm/beta:0\n"
     ]
    },
    {
     "name": "stderr",
     "output_type": "stream",
     "text": [
      "WARNING:tensorflow:Unresolved object in checkpoint: (root).optimizer's state 'v' for (root).layer_with_weights-0.transformer/layer_9/output_layer_norm/beta:0\n"
     ]
    },
    {
     "name": "stdout",
     "output_type": "stream",
     "text": [
      "WARNING:tensorflow:Unresolved object in checkpoint: (root).optimizer's state 'v' for (root).layer_with_weights-0.transformer/layer_10/self_attention/query/kernel:0\n"
     ]
    },
    {
     "name": "stderr",
     "output_type": "stream",
     "text": [
      "WARNING:tensorflow:Unresolved object in checkpoint: (root).optimizer's state 'v' for (root).layer_with_weights-0.transformer/layer_10/self_attention/query/kernel:0\n"
     ]
    },
    {
     "name": "stdout",
     "output_type": "stream",
     "text": [
      "WARNING:tensorflow:Unresolved object in checkpoint: (root).optimizer's state 'v' for (root).layer_with_weights-0.transformer/layer_10/self_attention/query/bias:0\n"
     ]
    },
    {
     "name": "stderr",
     "output_type": "stream",
     "text": [
      "WARNING:tensorflow:Unresolved object in checkpoint: (root).optimizer's state 'v' for (root).layer_with_weights-0.transformer/layer_10/self_attention/query/bias:0\n"
     ]
    },
    {
     "name": "stdout",
     "output_type": "stream",
     "text": [
      "WARNING:tensorflow:Unresolved object in checkpoint: (root).optimizer's state 'v' for (root).layer_with_weights-0.transformer/layer_10/self_attention/key/kernel:0\n"
     ]
    },
    {
     "name": "stderr",
     "output_type": "stream",
     "text": [
      "WARNING:tensorflow:Unresolved object in checkpoint: (root).optimizer's state 'v' for (root).layer_with_weights-0.transformer/layer_10/self_attention/key/kernel:0\n"
     ]
    },
    {
     "name": "stdout",
     "output_type": "stream",
     "text": [
      "WARNING:tensorflow:Unresolved object in checkpoint: (root).optimizer's state 'v' for (root).layer_with_weights-0.transformer/layer_10/self_attention/key/bias:0\n"
     ]
    },
    {
     "name": "stderr",
     "output_type": "stream",
     "text": [
      "WARNING:tensorflow:Unresolved object in checkpoint: (root).optimizer's state 'v' for (root).layer_with_weights-0.transformer/layer_10/self_attention/key/bias:0\n"
     ]
    },
    {
     "name": "stdout",
     "output_type": "stream",
     "text": [
      "WARNING:tensorflow:Unresolved object in checkpoint: (root).optimizer's state 'v' for (root).layer_with_weights-0.transformer/layer_10/self_attention/value/kernel:0\n"
     ]
    },
    {
     "name": "stderr",
     "output_type": "stream",
     "text": [
      "WARNING:tensorflow:Unresolved object in checkpoint: (root).optimizer's state 'v' for (root).layer_with_weights-0.transformer/layer_10/self_attention/value/kernel:0\n"
     ]
    },
    {
     "name": "stdout",
     "output_type": "stream",
     "text": [
      "WARNING:tensorflow:Unresolved object in checkpoint: (root).optimizer's state 'v' for (root).layer_with_weights-0.transformer/layer_10/self_attention/value/bias:0\n"
     ]
    },
    {
     "name": "stderr",
     "output_type": "stream",
     "text": [
      "WARNING:tensorflow:Unresolved object in checkpoint: (root).optimizer's state 'v' for (root).layer_with_weights-0.transformer/layer_10/self_attention/value/bias:0\n"
     ]
    },
    {
     "name": "stdout",
     "output_type": "stream",
     "text": [
      "WARNING:tensorflow:Unresolved object in checkpoint: (root).optimizer's state 'v' for (root).layer_with_weights-0.transformer/layer_10/self_attention/attention_output/kernel:0\n"
     ]
    },
    {
     "name": "stderr",
     "output_type": "stream",
     "text": [
      "WARNING:tensorflow:Unresolved object in checkpoint: (root).optimizer's state 'v' for (root).layer_with_weights-0.transformer/layer_10/self_attention/attention_output/kernel:0\n"
     ]
    },
    {
     "name": "stdout",
     "output_type": "stream",
     "text": [
      "WARNING:tensorflow:Unresolved object in checkpoint: (root).optimizer's state 'v' for (root).layer_with_weights-0.transformer/layer_10/self_attention/attention_output/bias:0\n"
     ]
    },
    {
     "name": "stderr",
     "output_type": "stream",
     "text": [
      "WARNING:tensorflow:Unresolved object in checkpoint: (root).optimizer's state 'v' for (root).layer_with_weights-0.transformer/layer_10/self_attention/attention_output/bias:0\n"
     ]
    },
    {
     "name": "stdout",
     "output_type": "stream",
     "text": [
      "WARNING:tensorflow:Unresolved object in checkpoint: (root).optimizer's state 'v' for (root).layer_with_weights-0.transformer/layer_10/self_attention_layer_norm/gamma:0\n"
     ]
    },
    {
     "name": "stderr",
     "output_type": "stream",
     "text": [
      "WARNING:tensorflow:Unresolved object in checkpoint: (root).optimizer's state 'v' for (root).layer_with_weights-0.transformer/layer_10/self_attention_layer_norm/gamma:0\n"
     ]
    },
    {
     "name": "stdout",
     "output_type": "stream",
     "text": [
      "WARNING:tensorflow:Unresolved object in checkpoint: (root).optimizer's state 'v' for (root).layer_with_weights-0.transformer/layer_10/self_attention_layer_norm/beta:0\n"
     ]
    },
    {
     "name": "stderr",
     "output_type": "stream",
     "text": [
      "WARNING:tensorflow:Unresolved object in checkpoint: (root).optimizer's state 'v' for (root).layer_with_weights-0.transformer/layer_10/self_attention_layer_norm/beta:0\n"
     ]
    },
    {
     "name": "stdout",
     "output_type": "stream",
     "text": [
      "WARNING:tensorflow:Unresolved object in checkpoint: (root).optimizer's state 'v' for (root).layer_with_weights-0.transformer/layer_10/intermediate/kernel:0\n"
     ]
    },
    {
     "name": "stderr",
     "output_type": "stream",
     "text": [
      "WARNING:tensorflow:Unresolved object in checkpoint: (root).optimizer's state 'v' for (root).layer_with_weights-0.transformer/layer_10/intermediate/kernel:0\n"
     ]
    },
    {
     "name": "stdout",
     "output_type": "stream",
     "text": [
      "WARNING:tensorflow:Unresolved object in checkpoint: (root).optimizer's state 'v' for (root).layer_with_weights-0.transformer/layer_10/intermediate/bias:0\n"
     ]
    },
    {
     "name": "stderr",
     "output_type": "stream",
     "text": [
      "WARNING:tensorflow:Unresolved object in checkpoint: (root).optimizer's state 'v' for (root).layer_with_weights-0.transformer/layer_10/intermediate/bias:0\n"
     ]
    },
    {
     "name": "stdout",
     "output_type": "stream",
     "text": [
      "WARNING:tensorflow:Unresolved object in checkpoint: (root).optimizer's state 'v' for (root).layer_with_weights-0.transformer/layer_10/output/kernel:0\n"
     ]
    },
    {
     "name": "stderr",
     "output_type": "stream",
     "text": [
      "WARNING:tensorflow:Unresolved object in checkpoint: (root).optimizer's state 'v' for (root).layer_with_weights-0.transformer/layer_10/output/kernel:0\n"
     ]
    },
    {
     "name": "stdout",
     "output_type": "stream",
     "text": [
      "WARNING:tensorflow:Unresolved object in checkpoint: (root).optimizer's state 'v' for (root).layer_with_weights-0.transformer/layer_10/output/bias:0\n"
     ]
    },
    {
     "name": "stderr",
     "output_type": "stream",
     "text": [
      "WARNING:tensorflow:Unresolved object in checkpoint: (root).optimizer's state 'v' for (root).layer_with_weights-0.transformer/layer_10/output/bias:0\n"
     ]
    },
    {
     "name": "stdout",
     "output_type": "stream",
     "text": [
      "WARNING:tensorflow:Unresolved object in checkpoint: (root).optimizer's state 'v' for (root).layer_with_weights-0.transformer/layer_10/output_layer_norm/gamma:0\n"
     ]
    },
    {
     "name": "stderr",
     "output_type": "stream",
     "text": [
      "WARNING:tensorflow:Unresolved object in checkpoint: (root).optimizer's state 'v' for (root).layer_with_weights-0.transformer/layer_10/output_layer_norm/gamma:0\n"
     ]
    },
    {
     "name": "stdout",
     "output_type": "stream",
     "text": [
      "WARNING:tensorflow:Unresolved object in checkpoint: (root).optimizer's state 'v' for (root).layer_with_weights-0.transformer/layer_10/output_layer_norm/beta:0\n"
     ]
    },
    {
     "name": "stderr",
     "output_type": "stream",
     "text": [
      "WARNING:tensorflow:Unresolved object in checkpoint: (root).optimizer's state 'v' for (root).layer_with_weights-0.transformer/layer_10/output_layer_norm/beta:0\n"
     ]
    },
    {
     "name": "stdout",
     "output_type": "stream",
     "text": [
      "WARNING:tensorflow:Unresolved object in checkpoint: (root).optimizer's state 'v' for (root).layer_with_weights-0.transformer/layer_11/self_attention/query/kernel:0\n"
     ]
    },
    {
     "name": "stderr",
     "output_type": "stream",
     "text": [
      "WARNING:tensorflow:Unresolved object in checkpoint: (root).optimizer's state 'v' for (root).layer_with_weights-0.transformer/layer_11/self_attention/query/kernel:0\n"
     ]
    },
    {
     "name": "stdout",
     "output_type": "stream",
     "text": [
      "WARNING:tensorflow:Unresolved object in checkpoint: (root).optimizer's state 'v' for (root).layer_with_weights-0.transformer/layer_11/self_attention/query/bias:0\n"
     ]
    },
    {
     "name": "stderr",
     "output_type": "stream",
     "text": [
      "WARNING:tensorflow:Unresolved object in checkpoint: (root).optimizer's state 'v' for (root).layer_with_weights-0.transformer/layer_11/self_attention/query/bias:0\n"
     ]
    },
    {
     "name": "stdout",
     "output_type": "stream",
     "text": [
      "WARNING:tensorflow:Unresolved object in checkpoint: (root).optimizer's state 'v' for (root).layer_with_weights-0.transformer/layer_11/self_attention/key/kernel:0\n"
     ]
    },
    {
     "name": "stderr",
     "output_type": "stream",
     "text": [
      "WARNING:tensorflow:Unresolved object in checkpoint: (root).optimizer's state 'v' for (root).layer_with_weights-0.transformer/layer_11/self_attention/key/kernel:0\n"
     ]
    },
    {
     "name": "stdout",
     "output_type": "stream",
     "text": [
      "WARNING:tensorflow:Unresolved object in checkpoint: (root).optimizer's state 'v' for (root).layer_with_weights-0.transformer/layer_11/self_attention/key/bias:0\n"
     ]
    },
    {
     "name": "stderr",
     "output_type": "stream",
     "text": [
      "WARNING:tensorflow:Unresolved object in checkpoint: (root).optimizer's state 'v' for (root).layer_with_weights-0.transformer/layer_11/self_attention/key/bias:0\n"
     ]
    },
    {
     "name": "stdout",
     "output_type": "stream",
     "text": [
      "WARNING:tensorflow:Unresolved object in checkpoint: (root).optimizer's state 'v' for (root).layer_with_weights-0.transformer/layer_11/self_attention/value/kernel:0\n"
     ]
    },
    {
     "name": "stderr",
     "output_type": "stream",
     "text": [
      "WARNING:tensorflow:Unresolved object in checkpoint: (root).optimizer's state 'v' for (root).layer_with_weights-0.transformer/layer_11/self_attention/value/kernel:0\n"
     ]
    },
    {
     "name": "stdout",
     "output_type": "stream",
     "text": [
      "WARNING:tensorflow:Unresolved object in checkpoint: (root).optimizer's state 'v' for (root).layer_with_weights-0.transformer/layer_11/self_attention/value/bias:0\n"
     ]
    },
    {
     "name": "stderr",
     "output_type": "stream",
     "text": [
      "WARNING:tensorflow:Unresolved object in checkpoint: (root).optimizer's state 'v' for (root).layer_with_weights-0.transformer/layer_11/self_attention/value/bias:0\n"
     ]
    },
    {
     "name": "stdout",
     "output_type": "stream",
     "text": [
      "WARNING:tensorflow:Unresolved object in checkpoint: (root).optimizer's state 'v' for (root).layer_with_weights-0.transformer/layer_11/self_attention/attention_output/kernel:0\n"
     ]
    },
    {
     "name": "stderr",
     "output_type": "stream",
     "text": [
      "WARNING:tensorflow:Unresolved object in checkpoint: (root).optimizer's state 'v' for (root).layer_with_weights-0.transformer/layer_11/self_attention/attention_output/kernel:0\n"
     ]
    },
    {
     "name": "stdout",
     "output_type": "stream",
     "text": [
      "WARNING:tensorflow:Unresolved object in checkpoint: (root).optimizer's state 'v' for (root).layer_with_weights-0.transformer/layer_11/self_attention/attention_output/bias:0\n"
     ]
    },
    {
     "name": "stderr",
     "output_type": "stream",
     "text": [
      "WARNING:tensorflow:Unresolved object in checkpoint: (root).optimizer's state 'v' for (root).layer_with_weights-0.transformer/layer_11/self_attention/attention_output/bias:0\n"
     ]
    },
    {
     "name": "stdout",
     "output_type": "stream",
     "text": [
      "WARNING:tensorflow:Unresolved object in checkpoint: (root).optimizer's state 'v' for (root).layer_with_weights-0.transformer/layer_11/self_attention_layer_norm/gamma:0\n"
     ]
    },
    {
     "name": "stderr",
     "output_type": "stream",
     "text": [
      "WARNING:tensorflow:Unresolved object in checkpoint: (root).optimizer's state 'v' for (root).layer_with_weights-0.transformer/layer_11/self_attention_layer_norm/gamma:0\n"
     ]
    },
    {
     "name": "stdout",
     "output_type": "stream",
     "text": [
      "WARNING:tensorflow:Unresolved object in checkpoint: (root).optimizer's state 'v' for (root).layer_with_weights-0.transformer/layer_11/self_attention_layer_norm/beta:0\n"
     ]
    },
    {
     "name": "stderr",
     "output_type": "stream",
     "text": [
      "WARNING:tensorflow:Unresolved object in checkpoint: (root).optimizer's state 'v' for (root).layer_with_weights-0.transformer/layer_11/self_attention_layer_norm/beta:0\n"
     ]
    },
    {
     "name": "stdout",
     "output_type": "stream",
     "text": [
      "WARNING:tensorflow:Unresolved object in checkpoint: (root).optimizer's state 'v' for (root).layer_with_weights-0.transformer/layer_11/intermediate/kernel:0\n"
     ]
    },
    {
     "name": "stderr",
     "output_type": "stream",
     "text": [
      "WARNING:tensorflow:Unresolved object in checkpoint: (root).optimizer's state 'v' for (root).layer_with_weights-0.transformer/layer_11/intermediate/kernel:0\n"
     ]
    },
    {
     "name": "stdout",
     "output_type": "stream",
     "text": [
      "WARNING:tensorflow:Unresolved object in checkpoint: (root).optimizer's state 'v' for (root).layer_with_weights-0.transformer/layer_11/intermediate/bias:0\n"
     ]
    },
    {
     "name": "stderr",
     "output_type": "stream",
     "text": [
      "WARNING:tensorflow:Unresolved object in checkpoint: (root).optimizer's state 'v' for (root).layer_with_weights-0.transformer/layer_11/intermediate/bias:0\n"
     ]
    },
    {
     "name": "stdout",
     "output_type": "stream",
     "text": [
      "WARNING:tensorflow:Unresolved object in checkpoint: (root).optimizer's state 'v' for (root).layer_with_weights-0.transformer/layer_11/output/kernel:0\n"
     ]
    },
    {
     "name": "stderr",
     "output_type": "stream",
     "text": [
      "WARNING:tensorflow:Unresolved object in checkpoint: (root).optimizer's state 'v' for (root).layer_with_weights-0.transformer/layer_11/output/kernel:0\n"
     ]
    },
    {
     "name": "stdout",
     "output_type": "stream",
     "text": [
      "WARNING:tensorflow:Unresolved object in checkpoint: (root).optimizer's state 'v' for (root).layer_with_weights-0.transformer/layer_11/output/bias:0\n"
     ]
    },
    {
     "name": "stderr",
     "output_type": "stream",
     "text": [
      "WARNING:tensorflow:Unresolved object in checkpoint: (root).optimizer's state 'v' for (root).layer_with_weights-0.transformer/layer_11/output/bias:0\n"
     ]
    },
    {
     "name": "stdout",
     "output_type": "stream",
     "text": [
      "WARNING:tensorflow:Unresolved object in checkpoint: (root).optimizer's state 'v' for (root).layer_with_weights-0.transformer/layer_11/output_layer_norm/gamma:0\n"
     ]
    },
    {
     "name": "stderr",
     "output_type": "stream",
     "text": [
      "WARNING:tensorflow:Unresolved object in checkpoint: (root).optimizer's state 'v' for (root).layer_with_weights-0.transformer/layer_11/output_layer_norm/gamma:0\n"
     ]
    },
    {
     "name": "stdout",
     "output_type": "stream",
     "text": [
      "WARNING:tensorflow:Unresolved object in checkpoint: (root).optimizer's state 'v' for (root).layer_with_weights-0.transformer/layer_11/output_layer_norm/beta:0\n"
     ]
    },
    {
     "name": "stderr",
     "output_type": "stream",
     "text": [
      "WARNING:tensorflow:Unresolved object in checkpoint: (root).optimizer's state 'v' for (root).layer_with_weights-0.transformer/layer_11/output_layer_norm/beta:0\n"
     ]
    },
    {
     "name": "stdout",
     "output_type": "stream",
     "text": [
      "WARNING:tensorflow:Unresolved object in checkpoint: (root).optimizer's state 'v' for (root).layer_with_weights-0.pooler_transform/kernel:0\n"
     ]
    },
    {
     "name": "stderr",
     "output_type": "stream",
     "text": [
      "WARNING:tensorflow:Unresolved object in checkpoint: (root).optimizer's state 'v' for (root).layer_with_weights-0.pooler_transform/kernel:0\n"
     ]
    },
    {
     "name": "stdout",
     "output_type": "stream",
     "text": [
      "WARNING:tensorflow:Unresolved object in checkpoint: (root).optimizer's state 'v' for (root).layer_with_weights-0.pooler_transform/bias:0\n"
     ]
    },
    {
     "name": "stderr",
     "output_type": "stream",
     "text": [
      "WARNING:tensorflow:Unresolved object in checkpoint: (root).optimizer's state 'v' for (root).layer_with_weights-0.pooler_transform/bias:0\n"
     ]
    },
    {
     "name": "stdout",
     "output_type": "stream",
     "text": [
      "WARNING:tensorflow:Unresolved object in checkpoint: (root).optimizer's state 'v' for (root).layer_with_weights-1.kernel\n"
     ]
    },
    {
     "name": "stderr",
     "output_type": "stream",
     "text": [
      "WARNING:tensorflow:Unresolved object in checkpoint: (root).optimizer's state 'v' for (root).layer_with_weights-1.kernel\n"
     ]
    },
    {
     "name": "stdout",
     "output_type": "stream",
     "text": [
      "WARNING:tensorflow:Unresolved object in checkpoint: (root).optimizer's state 'v' for (root).layer_with_weights-1.bias\n"
     ]
    },
    {
     "name": "stderr",
     "output_type": "stream",
     "text": [
      "WARNING:tensorflow:Unresolved object in checkpoint: (root).optimizer's state 'v' for (root).layer_with_weights-1.bias\n"
     ]
    },
    {
     "name": "stdout",
     "output_type": "stream",
     "text": [
      "WARNING:tensorflow:A checkpoint was restored (e.g. tf.train.Checkpoint.restore or tf.keras.Model.load_weights) but not all checkpointed values were used. See above for specific issues. Use expect_partial() on the load status object, e.g. tf.train.Checkpoint.restore(...).expect_partial(), to silence these warnings, or use assert_consumed() to make the check explicit. See https://www.tensorflow.org/guide/checkpoint#loading_mechanics for details.\n"
     ]
    },
    {
     "name": "stderr",
     "output_type": "stream",
     "text": [
      "WARNING:tensorflow:A checkpoint was restored (e.g. tf.train.Checkpoint.restore or tf.keras.Model.load_weights) but not all checkpointed values were used. See above for specific issues. Use expect_partial() on the load status object, e.g. tf.train.Checkpoint.restore(...).expect_partial(), to silence these warnings, or use assert_consumed() to make the check explicit. See https://www.tensorflow.org/guide/checkpoint#loading_mechanics for details.\n"
     ]
    },
    {
     "name": "stdout",
     "output_type": "stream",
     "text": [
      "WARNING:tensorflow:Unresolved object in checkpoint: (root).optimizer\n"
     ]
    },
    {
     "name": "stderr",
     "output_type": "stream",
     "text": [
      "WARNING:tensorflow:Unresolved object in checkpoint: (root).optimizer\n"
     ]
    },
    {
     "name": "stdout",
     "output_type": "stream",
     "text": [
      "WARNING:tensorflow:Unresolved object in checkpoint: (root).optimizer.iter\n"
     ]
    },
    {
     "name": "stderr",
     "output_type": "stream",
     "text": [
      "WARNING:tensorflow:Unresolved object in checkpoint: (root).optimizer.iter\n"
     ]
    },
    {
     "name": "stdout",
     "output_type": "stream",
     "text": [
      "WARNING:tensorflow:Unresolved object in checkpoint: (root).optimizer.beta_1\n"
     ]
    },
    {
     "name": "stderr",
     "output_type": "stream",
     "text": [
      "WARNING:tensorflow:Unresolved object in checkpoint: (root).optimizer.beta_1\n"
     ]
    },
    {
     "name": "stdout",
     "output_type": "stream",
     "text": [
      "WARNING:tensorflow:Unresolved object in checkpoint: (root).optimizer.beta_2\n"
     ]
    },
    {
     "name": "stderr",
     "output_type": "stream",
     "text": [
      "WARNING:tensorflow:Unresolved object in checkpoint: (root).optimizer.beta_2\n"
     ]
    },
    {
     "name": "stdout",
     "output_type": "stream",
     "text": [
      "WARNING:tensorflow:Unresolved object in checkpoint: (root).optimizer.decay\n"
     ]
    },
    {
     "name": "stderr",
     "output_type": "stream",
     "text": [
      "WARNING:tensorflow:Unresolved object in checkpoint: (root).optimizer.decay\n"
     ]
    },
    {
     "name": "stdout",
     "output_type": "stream",
     "text": [
      "WARNING:tensorflow:Unresolved object in checkpoint: (root).optimizer.learning_rate\n"
     ]
    },
    {
     "name": "stderr",
     "output_type": "stream",
     "text": [
      "WARNING:tensorflow:Unresolved object in checkpoint: (root).optimizer.learning_rate\n"
     ]
    },
    {
     "name": "stdout",
     "output_type": "stream",
     "text": [
      "WARNING:tensorflow:Unresolved object in checkpoint: (root).optimizer's state 'm' for (root).layer_with_weights-0.word_embeddings/embeddings:0\n"
     ]
    },
    {
     "name": "stderr",
     "output_type": "stream",
     "text": [
      "WARNING:tensorflow:Unresolved object in checkpoint: (root).optimizer's state 'm' for (root).layer_with_weights-0.word_embeddings/embeddings:0\n"
     ]
    },
    {
     "name": "stdout",
     "output_type": "stream",
     "text": [
      "WARNING:tensorflow:Unresolved object in checkpoint: (root).optimizer's state 'm' for (root).layer_with_weights-0.position_embedding/embeddings:0\n"
     ]
    },
    {
     "name": "stderr",
     "output_type": "stream",
     "text": [
      "WARNING:tensorflow:Unresolved object in checkpoint: (root).optimizer's state 'm' for (root).layer_with_weights-0.position_embedding/embeddings:0\n"
     ]
    },
    {
     "name": "stdout",
     "output_type": "stream",
     "text": [
      "WARNING:tensorflow:Unresolved object in checkpoint: (root).optimizer's state 'm' for (root).layer_with_weights-0.type_embeddings/embeddings:0\n"
     ]
    },
    {
     "name": "stderr",
     "output_type": "stream",
     "text": [
      "WARNING:tensorflow:Unresolved object in checkpoint: (root).optimizer's state 'm' for (root).layer_with_weights-0.type_embeddings/embeddings:0\n"
     ]
    },
    {
     "name": "stdout",
     "output_type": "stream",
     "text": [
      "WARNING:tensorflow:Unresolved object in checkpoint: (root).optimizer's state 'm' for (root).layer_with_weights-0.embeddings/layer_norm/gamma:0\n"
     ]
    },
    {
     "name": "stderr",
     "output_type": "stream",
     "text": [
      "WARNING:tensorflow:Unresolved object in checkpoint: (root).optimizer's state 'm' for (root).layer_with_weights-0.embeddings/layer_norm/gamma:0\n"
     ]
    },
    {
     "name": "stdout",
     "output_type": "stream",
     "text": [
      "WARNING:tensorflow:Unresolved object in checkpoint: (root).optimizer's state 'm' for (root).layer_with_weights-0.embeddings/layer_norm/beta:0\n"
     ]
    },
    {
     "name": "stderr",
     "output_type": "stream",
     "text": [
      "WARNING:tensorflow:Unresolved object in checkpoint: (root).optimizer's state 'm' for (root).layer_with_weights-0.embeddings/layer_norm/beta:0\n"
     ]
    },
    {
     "name": "stdout",
     "output_type": "stream",
     "text": [
      "WARNING:tensorflow:Unresolved object in checkpoint: (root).optimizer's state 'm' for (root).layer_with_weights-0.transformer/layer_0/self_attention/query/kernel:0\n"
     ]
    },
    {
     "name": "stderr",
     "output_type": "stream",
     "text": [
      "WARNING:tensorflow:Unresolved object in checkpoint: (root).optimizer's state 'm' for (root).layer_with_weights-0.transformer/layer_0/self_attention/query/kernel:0\n"
     ]
    },
    {
     "name": "stdout",
     "output_type": "stream",
     "text": [
      "WARNING:tensorflow:Unresolved object in checkpoint: (root).optimizer's state 'm' for (root).layer_with_weights-0.transformer/layer_0/self_attention/query/bias:0\n"
     ]
    },
    {
     "name": "stderr",
     "output_type": "stream",
     "text": [
      "WARNING:tensorflow:Unresolved object in checkpoint: (root).optimizer's state 'm' for (root).layer_with_weights-0.transformer/layer_0/self_attention/query/bias:0\n"
     ]
    },
    {
     "name": "stdout",
     "output_type": "stream",
     "text": [
      "WARNING:tensorflow:Unresolved object in checkpoint: (root).optimizer's state 'm' for (root).layer_with_weights-0.transformer/layer_0/self_attention/key/kernel:0\n"
     ]
    },
    {
     "name": "stderr",
     "output_type": "stream",
     "text": [
      "WARNING:tensorflow:Unresolved object in checkpoint: (root).optimizer's state 'm' for (root).layer_with_weights-0.transformer/layer_0/self_attention/key/kernel:0\n"
     ]
    },
    {
     "name": "stdout",
     "output_type": "stream",
     "text": [
      "WARNING:tensorflow:Unresolved object in checkpoint: (root).optimizer's state 'm' for (root).layer_with_weights-0.transformer/layer_0/self_attention/key/bias:0\n"
     ]
    },
    {
     "name": "stderr",
     "output_type": "stream",
     "text": [
      "WARNING:tensorflow:Unresolved object in checkpoint: (root).optimizer's state 'm' for (root).layer_with_weights-0.transformer/layer_0/self_attention/key/bias:0\n"
     ]
    },
    {
     "name": "stdout",
     "output_type": "stream",
     "text": [
      "WARNING:tensorflow:Unresolved object in checkpoint: (root).optimizer's state 'm' for (root).layer_with_weights-0.transformer/layer_0/self_attention/value/kernel:0\n"
     ]
    },
    {
     "name": "stderr",
     "output_type": "stream",
     "text": [
      "WARNING:tensorflow:Unresolved object in checkpoint: (root).optimizer's state 'm' for (root).layer_with_weights-0.transformer/layer_0/self_attention/value/kernel:0\n"
     ]
    },
    {
     "name": "stdout",
     "output_type": "stream",
     "text": [
      "WARNING:tensorflow:Unresolved object in checkpoint: (root).optimizer's state 'm' for (root).layer_with_weights-0.transformer/layer_0/self_attention/value/bias:0\n"
     ]
    },
    {
     "name": "stderr",
     "output_type": "stream",
     "text": [
      "WARNING:tensorflow:Unresolved object in checkpoint: (root).optimizer's state 'm' for (root).layer_with_weights-0.transformer/layer_0/self_attention/value/bias:0\n"
     ]
    },
    {
     "name": "stdout",
     "output_type": "stream",
     "text": [
      "WARNING:tensorflow:Unresolved object in checkpoint: (root).optimizer's state 'm' for (root).layer_with_weights-0.transformer/layer_0/self_attention/attention_output/kernel:0\n"
     ]
    },
    {
     "name": "stderr",
     "output_type": "stream",
     "text": [
      "WARNING:tensorflow:Unresolved object in checkpoint: (root).optimizer's state 'm' for (root).layer_with_weights-0.transformer/layer_0/self_attention/attention_output/kernel:0\n"
     ]
    },
    {
     "name": "stdout",
     "output_type": "stream",
     "text": [
      "WARNING:tensorflow:Unresolved object in checkpoint: (root).optimizer's state 'm' for (root).layer_with_weights-0.transformer/layer_0/self_attention/attention_output/bias:0\n"
     ]
    },
    {
     "name": "stderr",
     "output_type": "stream",
     "text": [
      "WARNING:tensorflow:Unresolved object in checkpoint: (root).optimizer's state 'm' for (root).layer_with_weights-0.transformer/layer_0/self_attention/attention_output/bias:0\n"
     ]
    },
    {
     "name": "stdout",
     "output_type": "stream",
     "text": [
      "WARNING:tensorflow:Unresolved object in checkpoint: (root).optimizer's state 'm' for (root).layer_with_weights-0.transformer/layer_0/self_attention_layer_norm/gamma:0\n"
     ]
    },
    {
     "name": "stderr",
     "output_type": "stream",
     "text": [
      "WARNING:tensorflow:Unresolved object in checkpoint: (root).optimizer's state 'm' for (root).layer_with_weights-0.transformer/layer_0/self_attention_layer_norm/gamma:0\n"
     ]
    },
    {
     "name": "stdout",
     "output_type": "stream",
     "text": [
      "WARNING:tensorflow:Unresolved object in checkpoint: (root).optimizer's state 'm' for (root).layer_with_weights-0.transformer/layer_0/self_attention_layer_norm/beta:0\n"
     ]
    },
    {
     "name": "stderr",
     "output_type": "stream",
     "text": [
      "WARNING:tensorflow:Unresolved object in checkpoint: (root).optimizer's state 'm' for (root).layer_with_weights-0.transformer/layer_0/self_attention_layer_norm/beta:0\n"
     ]
    },
    {
     "name": "stdout",
     "output_type": "stream",
     "text": [
      "WARNING:tensorflow:Unresolved object in checkpoint: (root).optimizer's state 'm' for (root).layer_with_weights-0.transformer/layer_0/intermediate/kernel:0\n"
     ]
    },
    {
     "name": "stderr",
     "output_type": "stream",
     "text": [
      "WARNING:tensorflow:Unresolved object in checkpoint: (root).optimizer's state 'm' for (root).layer_with_weights-0.transformer/layer_0/intermediate/kernel:0\n"
     ]
    },
    {
     "name": "stdout",
     "output_type": "stream",
     "text": [
      "WARNING:tensorflow:Unresolved object in checkpoint: (root).optimizer's state 'm' for (root).layer_with_weights-0.transformer/layer_0/intermediate/bias:0\n"
     ]
    },
    {
     "name": "stderr",
     "output_type": "stream",
     "text": [
      "WARNING:tensorflow:Unresolved object in checkpoint: (root).optimizer's state 'm' for (root).layer_with_weights-0.transformer/layer_0/intermediate/bias:0\n"
     ]
    },
    {
     "name": "stdout",
     "output_type": "stream",
     "text": [
      "WARNING:tensorflow:Unresolved object in checkpoint: (root).optimizer's state 'm' for (root).layer_with_weights-0.transformer/layer_0/output/kernel:0\n"
     ]
    },
    {
     "name": "stderr",
     "output_type": "stream",
     "text": [
      "WARNING:tensorflow:Unresolved object in checkpoint: (root).optimizer's state 'm' for (root).layer_with_weights-0.transformer/layer_0/output/kernel:0\n"
     ]
    },
    {
     "name": "stdout",
     "output_type": "stream",
     "text": [
      "WARNING:tensorflow:Unresolved object in checkpoint: (root).optimizer's state 'm' for (root).layer_with_weights-0.transformer/layer_0/output/bias:0\n"
     ]
    },
    {
     "name": "stderr",
     "output_type": "stream",
     "text": [
      "WARNING:tensorflow:Unresolved object in checkpoint: (root).optimizer's state 'm' for (root).layer_with_weights-0.transformer/layer_0/output/bias:0\n"
     ]
    },
    {
     "name": "stdout",
     "output_type": "stream",
     "text": [
      "WARNING:tensorflow:Unresolved object in checkpoint: (root).optimizer's state 'm' for (root).layer_with_weights-0.transformer/layer_0/output_layer_norm/gamma:0\n"
     ]
    },
    {
     "name": "stderr",
     "output_type": "stream",
     "text": [
      "WARNING:tensorflow:Unresolved object in checkpoint: (root).optimizer's state 'm' for (root).layer_with_weights-0.transformer/layer_0/output_layer_norm/gamma:0\n"
     ]
    },
    {
     "name": "stdout",
     "output_type": "stream",
     "text": [
      "WARNING:tensorflow:Unresolved object in checkpoint: (root).optimizer's state 'm' for (root).layer_with_weights-0.transformer/layer_0/output_layer_norm/beta:0\n"
     ]
    },
    {
     "name": "stderr",
     "output_type": "stream",
     "text": [
      "WARNING:tensorflow:Unresolved object in checkpoint: (root).optimizer's state 'm' for (root).layer_with_weights-0.transformer/layer_0/output_layer_norm/beta:0\n"
     ]
    },
    {
     "name": "stdout",
     "output_type": "stream",
     "text": [
      "WARNING:tensorflow:Unresolved object in checkpoint: (root).optimizer's state 'm' for (root).layer_with_weights-0.transformer/layer_1/self_attention/query/kernel:0\n"
     ]
    },
    {
     "name": "stderr",
     "output_type": "stream",
     "text": [
      "WARNING:tensorflow:Unresolved object in checkpoint: (root).optimizer's state 'm' for (root).layer_with_weights-0.transformer/layer_1/self_attention/query/kernel:0\n"
     ]
    },
    {
     "name": "stdout",
     "output_type": "stream",
     "text": [
      "WARNING:tensorflow:Unresolved object in checkpoint: (root).optimizer's state 'm' for (root).layer_with_weights-0.transformer/layer_1/self_attention/query/bias:0\n"
     ]
    },
    {
     "name": "stderr",
     "output_type": "stream",
     "text": [
      "WARNING:tensorflow:Unresolved object in checkpoint: (root).optimizer's state 'm' for (root).layer_with_weights-0.transformer/layer_1/self_attention/query/bias:0\n"
     ]
    },
    {
     "name": "stdout",
     "output_type": "stream",
     "text": [
      "WARNING:tensorflow:Unresolved object in checkpoint: (root).optimizer's state 'm' for (root).layer_with_weights-0.transformer/layer_1/self_attention/key/kernel:0\n"
     ]
    },
    {
     "name": "stderr",
     "output_type": "stream",
     "text": [
      "WARNING:tensorflow:Unresolved object in checkpoint: (root).optimizer's state 'm' for (root).layer_with_weights-0.transformer/layer_1/self_attention/key/kernel:0\n"
     ]
    },
    {
     "name": "stdout",
     "output_type": "stream",
     "text": [
      "WARNING:tensorflow:Unresolved object in checkpoint: (root).optimizer's state 'm' for (root).layer_with_weights-0.transformer/layer_1/self_attention/key/bias:0\n"
     ]
    },
    {
     "name": "stderr",
     "output_type": "stream",
     "text": [
      "WARNING:tensorflow:Unresolved object in checkpoint: (root).optimizer's state 'm' for (root).layer_with_weights-0.transformer/layer_1/self_attention/key/bias:0\n"
     ]
    },
    {
     "name": "stdout",
     "output_type": "stream",
     "text": [
      "WARNING:tensorflow:Unresolved object in checkpoint: (root).optimizer's state 'm' for (root).layer_with_weights-0.transformer/layer_1/self_attention/value/kernel:0\n"
     ]
    },
    {
     "name": "stderr",
     "output_type": "stream",
     "text": [
      "WARNING:tensorflow:Unresolved object in checkpoint: (root).optimizer's state 'm' for (root).layer_with_weights-0.transformer/layer_1/self_attention/value/kernel:0\n"
     ]
    },
    {
     "name": "stdout",
     "output_type": "stream",
     "text": [
      "WARNING:tensorflow:Unresolved object in checkpoint: (root).optimizer's state 'm' for (root).layer_with_weights-0.transformer/layer_1/self_attention/value/bias:0\n"
     ]
    },
    {
     "name": "stderr",
     "output_type": "stream",
     "text": [
      "WARNING:tensorflow:Unresolved object in checkpoint: (root).optimizer's state 'm' for (root).layer_with_weights-0.transformer/layer_1/self_attention/value/bias:0\n"
     ]
    },
    {
     "name": "stdout",
     "output_type": "stream",
     "text": [
      "WARNING:tensorflow:Unresolved object in checkpoint: (root).optimizer's state 'm' for (root).layer_with_weights-0.transformer/layer_1/self_attention/attention_output/kernel:0\n"
     ]
    },
    {
     "name": "stderr",
     "output_type": "stream",
     "text": [
      "WARNING:tensorflow:Unresolved object in checkpoint: (root).optimizer's state 'm' for (root).layer_with_weights-0.transformer/layer_1/self_attention/attention_output/kernel:0\n"
     ]
    },
    {
     "name": "stdout",
     "output_type": "stream",
     "text": [
      "WARNING:tensorflow:Unresolved object in checkpoint: (root).optimizer's state 'm' for (root).layer_with_weights-0.transformer/layer_1/self_attention/attention_output/bias:0\n"
     ]
    },
    {
     "name": "stderr",
     "output_type": "stream",
     "text": [
      "WARNING:tensorflow:Unresolved object in checkpoint: (root).optimizer's state 'm' for (root).layer_with_weights-0.transformer/layer_1/self_attention/attention_output/bias:0\n"
     ]
    },
    {
     "name": "stdout",
     "output_type": "stream",
     "text": [
      "WARNING:tensorflow:Unresolved object in checkpoint: (root).optimizer's state 'm' for (root).layer_with_weights-0.transformer/layer_1/self_attention_layer_norm/gamma:0\n"
     ]
    },
    {
     "name": "stderr",
     "output_type": "stream",
     "text": [
      "WARNING:tensorflow:Unresolved object in checkpoint: (root).optimizer's state 'm' for (root).layer_with_weights-0.transformer/layer_1/self_attention_layer_norm/gamma:0\n"
     ]
    },
    {
     "name": "stdout",
     "output_type": "stream",
     "text": [
      "WARNING:tensorflow:Unresolved object in checkpoint: (root).optimizer's state 'm' for (root).layer_with_weights-0.transformer/layer_1/self_attention_layer_norm/beta:0\n"
     ]
    },
    {
     "name": "stderr",
     "output_type": "stream",
     "text": [
      "WARNING:tensorflow:Unresolved object in checkpoint: (root).optimizer's state 'm' for (root).layer_with_weights-0.transformer/layer_1/self_attention_layer_norm/beta:0\n"
     ]
    },
    {
     "name": "stdout",
     "output_type": "stream",
     "text": [
      "WARNING:tensorflow:Unresolved object in checkpoint: (root).optimizer's state 'm' for (root).layer_with_weights-0.transformer/layer_1/intermediate/kernel:0\n"
     ]
    },
    {
     "name": "stderr",
     "output_type": "stream",
     "text": [
      "WARNING:tensorflow:Unresolved object in checkpoint: (root).optimizer's state 'm' for (root).layer_with_weights-0.transformer/layer_1/intermediate/kernel:0\n"
     ]
    },
    {
     "name": "stdout",
     "output_type": "stream",
     "text": [
      "WARNING:tensorflow:Unresolved object in checkpoint: (root).optimizer's state 'm' for (root).layer_with_weights-0.transformer/layer_1/intermediate/bias:0\n"
     ]
    },
    {
     "name": "stderr",
     "output_type": "stream",
     "text": [
      "WARNING:tensorflow:Unresolved object in checkpoint: (root).optimizer's state 'm' for (root).layer_with_weights-0.transformer/layer_1/intermediate/bias:0\n"
     ]
    },
    {
     "name": "stdout",
     "output_type": "stream",
     "text": [
      "WARNING:tensorflow:Unresolved object in checkpoint: (root).optimizer's state 'm' for (root).layer_with_weights-0.transformer/layer_1/output/kernel:0\n"
     ]
    },
    {
     "name": "stderr",
     "output_type": "stream",
     "text": [
      "WARNING:tensorflow:Unresolved object in checkpoint: (root).optimizer's state 'm' for (root).layer_with_weights-0.transformer/layer_1/output/kernel:0\n"
     ]
    },
    {
     "name": "stdout",
     "output_type": "stream",
     "text": [
      "WARNING:tensorflow:Unresolved object in checkpoint: (root).optimizer's state 'm' for (root).layer_with_weights-0.transformer/layer_1/output/bias:0\n"
     ]
    },
    {
     "name": "stderr",
     "output_type": "stream",
     "text": [
      "WARNING:tensorflow:Unresolved object in checkpoint: (root).optimizer's state 'm' for (root).layer_with_weights-0.transformer/layer_1/output/bias:0\n"
     ]
    },
    {
     "name": "stdout",
     "output_type": "stream",
     "text": [
      "WARNING:tensorflow:Unresolved object in checkpoint: (root).optimizer's state 'm' for (root).layer_with_weights-0.transformer/layer_1/output_layer_norm/gamma:0\n"
     ]
    },
    {
     "name": "stderr",
     "output_type": "stream",
     "text": [
      "WARNING:tensorflow:Unresolved object in checkpoint: (root).optimizer's state 'm' for (root).layer_with_weights-0.transformer/layer_1/output_layer_norm/gamma:0\n"
     ]
    },
    {
     "name": "stdout",
     "output_type": "stream",
     "text": [
      "WARNING:tensorflow:Unresolved object in checkpoint: (root).optimizer's state 'm' for (root).layer_with_weights-0.transformer/layer_1/output_layer_norm/beta:0\n"
     ]
    },
    {
     "name": "stderr",
     "output_type": "stream",
     "text": [
      "WARNING:tensorflow:Unresolved object in checkpoint: (root).optimizer's state 'm' for (root).layer_with_weights-0.transformer/layer_1/output_layer_norm/beta:0\n"
     ]
    },
    {
     "name": "stdout",
     "output_type": "stream",
     "text": [
      "WARNING:tensorflow:Unresolved object in checkpoint: (root).optimizer's state 'm' for (root).layer_with_weights-0.transformer/layer_2/self_attention/query/kernel:0\n"
     ]
    },
    {
     "name": "stderr",
     "output_type": "stream",
     "text": [
      "WARNING:tensorflow:Unresolved object in checkpoint: (root).optimizer's state 'm' for (root).layer_with_weights-0.transformer/layer_2/self_attention/query/kernel:0\n"
     ]
    },
    {
     "name": "stdout",
     "output_type": "stream",
     "text": [
      "WARNING:tensorflow:Unresolved object in checkpoint: (root).optimizer's state 'm' for (root).layer_with_weights-0.transformer/layer_2/self_attention/query/bias:0\n"
     ]
    },
    {
     "name": "stderr",
     "output_type": "stream",
     "text": [
      "WARNING:tensorflow:Unresolved object in checkpoint: (root).optimizer's state 'm' for (root).layer_with_weights-0.transformer/layer_2/self_attention/query/bias:0\n"
     ]
    },
    {
     "name": "stdout",
     "output_type": "stream",
     "text": [
      "WARNING:tensorflow:Unresolved object in checkpoint: (root).optimizer's state 'm' for (root).layer_with_weights-0.transformer/layer_2/self_attention/key/kernel:0\n"
     ]
    },
    {
     "name": "stderr",
     "output_type": "stream",
     "text": [
      "WARNING:tensorflow:Unresolved object in checkpoint: (root).optimizer's state 'm' for (root).layer_with_weights-0.transformer/layer_2/self_attention/key/kernel:0\n"
     ]
    },
    {
     "name": "stdout",
     "output_type": "stream",
     "text": [
      "WARNING:tensorflow:Unresolved object in checkpoint: (root).optimizer's state 'm' for (root).layer_with_weights-0.transformer/layer_2/self_attention/key/bias:0\n"
     ]
    },
    {
     "name": "stderr",
     "output_type": "stream",
     "text": [
      "WARNING:tensorflow:Unresolved object in checkpoint: (root).optimizer's state 'm' for (root).layer_with_weights-0.transformer/layer_2/self_attention/key/bias:0\n"
     ]
    },
    {
     "name": "stdout",
     "output_type": "stream",
     "text": [
      "WARNING:tensorflow:Unresolved object in checkpoint: (root).optimizer's state 'm' for (root).layer_with_weights-0.transformer/layer_2/self_attention/value/kernel:0\n"
     ]
    },
    {
     "name": "stderr",
     "output_type": "stream",
     "text": [
      "WARNING:tensorflow:Unresolved object in checkpoint: (root).optimizer's state 'm' for (root).layer_with_weights-0.transformer/layer_2/self_attention/value/kernel:0\n"
     ]
    },
    {
     "name": "stdout",
     "output_type": "stream",
     "text": [
      "WARNING:tensorflow:Unresolved object in checkpoint: (root).optimizer's state 'm' for (root).layer_with_weights-0.transformer/layer_2/self_attention/value/bias:0\n"
     ]
    },
    {
     "name": "stderr",
     "output_type": "stream",
     "text": [
      "WARNING:tensorflow:Unresolved object in checkpoint: (root).optimizer's state 'm' for (root).layer_with_weights-0.transformer/layer_2/self_attention/value/bias:0\n"
     ]
    },
    {
     "name": "stdout",
     "output_type": "stream",
     "text": [
      "WARNING:tensorflow:Unresolved object in checkpoint: (root).optimizer's state 'm' for (root).layer_with_weights-0.transformer/layer_2/self_attention/attention_output/kernel:0\n"
     ]
    },
    {
     "name": "stderr",
     "output_type": "stream",
     "text": [
      "WARNING:tensorflow:Unresolved object in checkpoint: (root).optimizer's state 'm' for (root).layer_with_weights-0.transformer/layer_2/self_attention/attention_output/kernel:0\n"
     ]
    },
    {
     "name": "stdout",
     "output_type": "stream",
     "text": [
      "WARNING:tensorflow:Unresolved object in checkpoint: (root).optimizer's state 'm' for (root).layer_with_weights-0.transformer/layer_2/self_attention/attention_output/bias:0\n"
     ]
    },
    {
     "name": "stderr",
     "output_type": "stream",
     "text": [
      "WARNING:tensorflow:Unresolved object in checkpoint: (root).optimizer's state 'm' for (root).layer_with_weights-0.transformer/layer_2/self_attention/attention_output/bias:0\n"
     ]
    },
    {
     "name": "stdout",
     "output_type": "stream",
     "text": [
      "WARNING:tensorflow:Unresolved object in checkpoint: (root).optimizer's state 'm' for (root).layer_with_weights-0.transformer/layer_2/self_attention_layer_norm/gamma:0\n"
     ]
    },
    {
     "name": "stderr",
     "output_type": "stream",
     "text": [
      "WARNING:tensorflow:Unresolved object in checkpoint: (root).optimizer's state 'm' for (root).layer_with_weights-0.transformer/layer_2/self_attention_layer_norm/gamma:0\n"
     ]
    },
    {
     "name": "stdout",
     "output_type": "stream",
     "text": [
      "WARNING:tensorflow:Unresolved object in checkpoint: (root).optimizer's state 'm' for (root).layer_with_weights-0.transformer/layer_2/self_attention_layer_norm/beta:0\n"
     ]
    },
    {
     "name": "stderr",
     "output_type": "stream",
     "text": [
      "WARNING:tensorflow:Unresolved object in checkpoint: (root).optimizer's state 'm' for (root).layer_with_weights-0.transformer/layer_2/self_attention_layer_norm/beta:0\n"
     ]
    },
    {
     "name": "stdout",
     "output_type": "stream",
     "text": [
      "WARNING:tensorflow:Unresolved object in checkpoint: (root).optimizer's state 'm' for (root).layer_with_weights-0.transformer/layer_2/intermediate/kernel:0\n"
     ]
    },
    {
     "name": "stderr",
     "output_type": "stream",
     "text": [
      "WARNING:tensorflow:Unresolved object in checkpoint: (root).optimizer's state 'm' for (root).layer_with_weights-0.transformer/layer_2/intermediate/kernel:0\n"
     ]
    },
    {
     "name": "stdout",
     "output_type": "stream",
     "text": [
      "WARNING:tensorflow:Unresolved object in checkpoint: (root).optimizer's state 'm' for (root).layer_with_weights-0.transformer/layer_2/intermediate/bias:0\n"
     ]
    },
    {
     "name": "stderr",
     "output_type": "stream",
     "text": [
      "WARNING:tensorflow:Unresolved object in checkpoint: (root).optimizer's state 'm' for (root).layer_with_weights-0.transformer/layer_2/intermediate/bias:0\n"
     ]
    },
    {
     "name": "stdout",
     "output_type": "stream",
     "text": [
      "WARNING:tensorflow:Unresolved object in checkpoint: (root).optimizer's state 'm' for (root).layer_with_weights-0.transformer/layer_2/output/kernel:0\n"
     ]
    },
    {
     "name": "stderr",
     "output_type": "stream",
     "text": [
      "WARNING:tensorflow:Unresolved object in checkpoint: (root).optimizer's state 'm' for (root).layer_with_weights-0.transformer/layer_2/output/kernel:0\n"
     ]
    },
    {
     "name": "stdout",
     "output_type": "stream",
     "text": [
      "WARNING:tensorflow:Unresolved object in checkpoint: (root).optimizer's state 'm' for (root).layer_with_weights-0.transformer/layer_2/output/bias:0\n"
     ]
    },
    {
     "name": "stderr",
     "output_type": "stream",
     "text": [
      "WARNING:tensorflow:Unresolved object in checkpoint: (root).optimizer's state 'm' for (root).layer_with_weights-0.transformer/layer_2/output/bias:0\n"
     ]
    },
    {
     "name": "stdout",
     "output_type": "stream",
     "text": [
      "WARNING:tensorflow:Unresolved object in checkpoint: (root).optimizer's state 'm' for (root).layer_with_weights-0.transformer/layer_2/output_layer_norm/gamma:0\n"
     ]
    },
    {
     "name": "stderr",
     "output_type": "stream",
     "text": [
      "WARNING:tensorflow:Unresolved object in checkpoint: (root).optimizer's state 'm' for (root).layer_with_weights-0.transformer/layer_2/output_layer_norm/gamma:0\n"
     ]
    },
    {
     "name": "stdout",
     "output_type": "stream",
     "text": [
      "WARNING:tensorflow:Unresolved object in checkpoint: (root).optimizer's state 'm' for (root).layer_with_weights-0.transformer/layer_2/output_layer_norm/beta:0\n"
     ]
    },
    {
     "name": "stderr",
     "output_type": "stream",
     "text": [
      "WARNING:tensorflow:Unresolved object in checkpoint: (root).optimizer's state 'm' for (root).layer_with_weights-0.transformer/layer_2/output_layer_norm/beta:0\n"
     ]
    },
    {
     "name": "stdout",
     "output_type": "stream",
     "text": [
      "WARNING:tensorflow:Unresolved object in checkpoint: (root).optimizer's state 'm' for (root).layer_with_weights-0.transformer/layer_3/self_attention/query/kernel:0\n"
     ]
    },
    {
     "name": "stderr",
     "output_type": "stream",
     "text": [
      "WARNING:tensorflow:Unresolved object in checkpoint: (root).optimizer's state 'm' for (root).layer_with_weights-0.transformer/layer_3/self_attention/query/kernel:0\n"
     ]
    },
    {
     "name": "stdout",
     "output_type": "stream",
     "text": [
      "WARNING:tensorflow:Unresolved object in checkpoint: (root).optimizer's state 'm' for (root).layer_with_weights-0.transformer/layer_3/self_attention/query/bias:0\n"
     ]
    },
    {
     "name": "stderr",
     "output_type": "stream",
     "text": [
      "WARNING:tensorflow:Unresolved object in checkpoint: (root).optimizer's state 'm' for (root).layer_with_weights-0.transformer/layer_3/self_attention/query/bias:0\n"
     ]
    },
    {
     "name": "stdout",
     "output_type": "stream",
     "text": [
      "WARNING:tensorflow:Unresolved object in checkpoint: (root).optimizer's state 'm' for (root).layer_with_weights-0.transformer/layer_3/self_attention/key/kernel:0\n"
     ]
    },
    {
     "name": "stderr",
     "output_type": "stream",
     "text": [
      "WARNING:tensorflow:Unresolved object in checkpoint: (root).optimizer's state 'm' for (root).layer_with_weights-0.transformer/layer_3/self_attention/key/kernel:0\n"
     ]
    },
    {
     "name": "stdout",
     "output_type": "stream",
     "text": [
      "WARNING:tensorflow:Unresolved object in checkpoint: (root).optimizer's state 'm' for (root).layer_with_weights-0.transformer/layer_3/self_attention/key/bias:0\n"
     ]
    },
    {
     "name": "stderr",
     "output_type": "stream",
     "text": [
      "WARNING:tensorflow:Unresolved object in checkpoint: (root).optimizer's state 'm' for (root).layer_with_weights-0.transformer/layer_3/self_attention/key/bias:0\n"
     ]
    },
    {
     "name": "stdout",
     "output_type": "stream",
     "text": [
      "WARNING:tensorflow:Unresolved object in checkpoint: (root).optimizer's state 'm' for (root).layer_with_weights-0.transformer/layer_3/self_attention/value/kernel:0\n"
     ]
    },
    {
     "name": "stderr",
     "output_type": "stream",
     "text": [
      "WARNING:tensorflow:Unresolved object in checkpoint: (root).optimizer's state 'm' for (root).layer_with_weights-0.transformer/layer_3/self_attention/value/kernel:0\n"
     ]
    },
    {
     "name": "stdout",
     "output_type": "stream",
     "text": [
      "WARNING:tensorflow:Unresolved object in checkpoint: (root).optimizer's state 'm' for (root).layer_with_weights-0.transformer/layer_3/self_attention/value/bias:0\n"
     ]
    },
    {
     "name": "stderr",
     "output_type": "stream",
     "text": [
      "WARNING:tensorflow:Unresolved object in checkpoint: (root).optimizer's state 'm' for (root).layer_with_weights-0.transformer/layer_3/self_attention/value/bias:0\n"
     ]
    },
    {
     "name": "stdout",
     "output_type": "stream",
     "text": [
      "WARNING:tensorflow:Unresolved object in checkpoint: (root).optimizer's state 'm' for (root).layer_with_weights-0.transformer/layer_3/self_attention/attention_output/kernel:0\n"
     ]
    },
    {
     "name": "stderr",
     "output_type": "stream",
     "text": [
      "WARNING:tensorflow:Unresolved object in checkpoint: (root).optimizer's state 'm' for (root).layer_with_weights-0.transformer/layer_3/self_attention/attention_output/kernel:0\n"
     ]
    },
    {
     "name": "stdout",
     "output_type": "stream",
     "text": [
      "WARNING:tensorflow:Unresolved object in checkpoint: (root).optimizer's state 'm' for (root).layer_with_weights-0.transformer/layer_3/self_attention/attention_output/bias:0\n"
     ]
    },
    {
     "name": "stderr",
     "output_type": "stream",
     "text": [
      "WARNING:tensorflow:Unresolved object in checkpoint: (root).optimizer's state 'm' for (root).layer_with_weights-0.transformer/layer_3/self_attention/attention_output/bias:0\n"
     ]
    },
    {
     "name": "stdout",
     "output_type": "stream",
     "text": [
      "WARNING:tensorflow:Unresolved object in checkpoint: (root).optimizer's state 'm' for (root).layer_with_weights-0.transformer/layer_3/self_attention_layer_norm/gamma:0\n"
     ]
    },
    {
     "name": "stderr",
     "output_type": "stream",
     "text": [
      "WARNING:tensorflow:Unresolved object in checkpoint: (root).optimizer's state 'm' for (root).layer_with_weights-0.transformer/layer_3/self_attention_layer_norm/gamma:0\n"
     ]
    },
    {
     "name": "stdout",
     "output_type": "stream",
     "text": [
      "WARNING:tensorflow:Unresolved object in checkpoint: (root).optimizer's state 'm' for (root).layer_with_weights-0.transformer/layer_3/self_attention_layer_norm/beta:0\n"
     ]
    },
    {
     "name": "stderr",
     "output_type": "stream",
     "text": [
      "WARNING:tensorflow:Unresolved object in checkpoint: (root).optimizer's state 'm' for (root).layer_with_weights-0.transformer/layer_3/self_attention_layer_norm/beta:0\n"
     ]
    },
    {
     "name": "stdout",
     "output_type": "stream",
     "text": [
      "WARNING:tensorflow:Unresolved object in checkpoint: (root).optimizer's state 'm' for (root).layer_with_weights-0.transformer/layer_3/intermediate/kernel:0\n"
     ]
    },
    {
     "name": "stderr",
     "output_type": "stream",
     "text": [
      "WARNING:tensorflow:Unresolved object in checkpoint: (root).optimizer's state 'm' for (root).layer_with_weights-0.transformer/layer_3/intermediate/kernel:0\n"
     ]
    },
    {
     "name": "stdout",
     "output_type": "stream",
     "text": [
      "WARNING:tensorflow:Unresolved object in checkpoint: (root).optimizer's state 'm' for (root).layer_with_weights-0.transformer/layer_3/intermediate/bias:0\n"
     ]
    },
    {
     "name": "stderr",
     "output_type": "stream",
     "text": [
      "WARNING:tensorflow:Unresolved object in checkpoint: (root).optimizer's state 'm' for (root).layer_with_weights-0.transformer/layer_3/intermediate/bias:0\n"
     ]
    },
    {
     "name": "stdout",
     "output_type": "stream",
     "text": [
      "WARNING:tensorflow:Unresolved object in checkpoint: (root).optimizer's state 'm' for (root).layer_with_weights-0.transformer/layer_3/output/kernel:0\n"
     ]
    },
    {
     "name": "stderr",
     "output_type": "stream",
     "text": [
      "WARNING:tensorflow:Unresolved object in checkpoint: (root).optimizer's state 'm' for (root).layer_with_weights-0.transformer/layer_3/output/kernel:0\n"
     ]
    },
    {
     "name": "stdout",
     "output_type": "stream",
     "text": [
      "WARNING:tensorflow:Unresolved object in checkpoint: (root).optimizer's state 'm' for (root).layer_with_weights-0.transformer/layer_3/output/bias:0\n"
     ]
    },
    {
     "name": "stderr",
     "output_type": "stream",
     "text": [
      "WARNING:tensorflow:Unresolved object in checkpoint: (root).optimizer's state 'm' for (root).layer_with_weights-0.transformer/layer_3/output/bias:0\n"
     ]
    },
    {
     "name": "stdout",
     "output_type": "stream",
     "text": [
      "WARNING:tensorflow:Unresolved object in checkpoint: (root).optimizer's state 'm' for (root).layer_with_weights-0.transformer/layer_3/output_layer_norm/gamma:0\n"
     ]
    },
    {
     "name": "stderr",
     "output_type": "stream",
     "text": [
      "WARNING:tensorflow:Unresolved object in checkpoint: (root).optimizer's state 'm' for (root).layer_with_weights-0.transformer/layer_3/output_layer_norm/gamma:0\n"
     ]
    },
    {
     "name": "stdout",
     "output_type": "stream",
     "text": [
      "WARNING:tensorflow:Unresolved object in checkpoint: (root).optimizer's state 'm' for (root).layer_with_weights-0.transformer/layer_3/output_layer_norm/beta:0\n"
     ]
    },
    {
     "name": "stderr",
     "output_type": "stream",
     "text": [
      "WARNING:tensorflow:Unresolved object in checkpoint: (root).optimizer's state 'm' for (root).layer_with_weights-0.transformer/layer_3/output_layer_norm/beta:0\n"
     ]
    },
    {
     "name": "stdout",
     "output_type": "stream",
     "text": [
      "WARNING:tensorflow:Unresolved object in checkpoint: (root).optimizer's state 'm' for (root).layer_with_weights-0.transformer/layer_4/self_attention/query/kernel:0\n"
     ]
    },
    {
     "name": "stderr",
     "output_type": "stream",
     "text": [
      "WARNING:tensorflow:Unresolved object in checkpoint: (root).optimizer's state 'm' for (root).layer_with_weights-0.transformer/layer_4/self_attention/query/kernel:0\n"
     ]
    },
    {
     "name": "stdout",
     "output_type": "stream",
     "text": [
      "WARNING:tensorflow:Unresolved object in checkpoint: (root).optimizer's state 'm' for (root).layer_with_weights-0.transformer/layer_4/self_attention/query/bias:0\n"
     ]
    },
    {
     "name": "stderr",
     "output_type": "stream",
     "text": [
      "WARNING:tensorflow:Unresolved object in checkpoint: (root).optimizer's state 'm' for (root).layer_with_weights-0.transformer/layer_4/self_attention/query/bias:0\n"
     ]
    },
    {
     "name": "stdout",
     "output_type": "stream",
     "text": [
      "WARNING:tensorflow:Unresolved object in checkpoint: (root).optimizer's state 'm' for (root).layer_with_weights-0.transformer/layer_4/self_attention/key/kernel:0\n"
     ]
    },
    {
     "name": "stderr",
     "output_type": "stream",
     "text": [
      "WARNING:tensorflow:Unresolved object in checkpoint: (root).optimizer's state 'm' for (root).layer_with_weights-0.transformer/layer_4/self_attention/key/kernel:0\n"
     ]
    },
    {
     "name": "stdout",
     "output_type": "stream",
     "text": [
      "WARNING:tensorflow:Unresolved object in checkpoint: (root).optimizer's state 'm' for (root).layer_with_weights-0.transformer/layer_4/self_attention/key/bias:0\n"
     ]
    },
    {
     "name": "stderr",
     "output_type": "stream",
     "text": [
      "WARNING:tensorflow:Unresolved object in checkpoint: (root).optimizer's state 'm' for (root).layer_with_weights-0.transformer/layer_4/self_attention/key/bias:0\n"
     ]
    },
    {
     "name": "stdout",
     "output_type": "stream",
     "text": [
      "WARNING:tensorflow:Unresolved object in checkpoint: (root).optimizer's state 'm' for (root).layer_with_weights-0.transformer/layer_4/self_attention/value/kernel:0\n"
     ]
    },
    {
     "name": "stderr",
     "output_type": "stream",
     "text": [
      "WARNING:tensorflow:Unresolved object in checkpoint: (root).optimizer's state 'm' for (root).layer_with_weights-0.transformer/layer_4/self_attention/value/kernel:0\n"
     ]
    },
    {
     "name": "stdout",
     "output_type": "stream",
     "text": [
      "WARNING:tensorflow:Unresolved object in checkpoint: (root).optimizer's state 'm' for (root).layer_with_weights-0.transformer/layer_4/self_attention/value/bias:0\n"
     ]
    },
    {
     "name": "stderr",
     "output_type": "stream",
     "text": [
      "WARNING:tensorflow:Unresolved object in checkpoint: (root).optimizer's state 'm' for (root).layer_with_weights-0.transformer/layer_4/self_attention/value/bias:0\n"
     ]
    },
    {
     "name": "stdout",
     "output_type": "stream",
     "text": [
      "WARNING:tensorflow:Unresolved object in checkpoint: (root).optimizer's state 'm' for (root).layer_with_weights-0.transformer/layer_4/self_attention/attention_output/kernel:0\n"
     ]
    },
    {
     "name": "stderr",
     "output_type": "stream",
     "text": [
      "WARNING:tensorflow:Unresolved object in checkpoint: (root).optimizer's state 'm' for (root).layer_with_weights-0.transformer/layer_4/self_attention/attention_output/kernel:0\n"
     ]
    },
    {
     "name": "stdout",
     "output_type": "stream",
     "text": [
      "WARNING:tensorflow:Unresolved object in checkpoint: (root).optimizer's state 'm' for (root).layer_with_weights-0.transformer/layer_4/self_attention/attention_output/bias:0\n"
     ]
    },
    {
     "name": "stderr",
     "output_type": "stream",
     "text": [
      "WARNING:tensorflow:Unresolved object in checkpoint: (root).optimizer's state 'm' for (root).layer_with_weights-0.transformer/layer_4/self_attention/attention_output/bias:0\n"
     ]
    },
    {
     "name": "stdout",
     "output_type": "stream",
     "text": [
      "WARNING:tensorflow:Unresolved object in checkpoint: (root).optimizer's state 'm' for (root).layer_with_weights-0.transformer/layer_4/self_attention_layer_norm/gamma:0\n"
     ]
    },
    {
     "name": "stderr",
     "output_type": "stream",
     "text": [
      "WARNING:tensorflow:Unresolved object in checkpoint: (root).optimizer's state 'm' for (root).layer_with_weights-0.transformer/layer_4/self_attention_layer_norm/gamma:0\n"
     ]
    },
    {
     "name": "stdout",
     "output_type": "stream",
     "text": [
      "WARNING:tensorflow:Unresolved object in checkpoint: (root).optimizer's state 'm' for (root).layer_with_weights-0.transformer/layer_4/self_attention_layer_norm/beta:0\n"
     ]
    },
    {
     "name": "stderr",
     "output_type": "stream",
     "text": [
      "WARNING:tensorflow:Unresolved object in checkpoint: (root).optimizer's state 'm' for (root).layer_with_weights-0.transformer/layer_4/self_attention_layer_norm/beta:0\n"
     ]
    },
    {
     "name": "stdout",
     "output_type": "stream",
     "text": [
      "WARNING:tensorflow:Unresolved object in checkpoint: (root).optimizer's state 'm' for (root).layer_with_weights-0.transformer/layer_4/intermediate/kernel:0\n"
     ]
    },
    {
     "name": "stderr",
     "output_type": "stream",
     "text": [
      "WARNING:tensorflow:Unresolved object in checkpoint: (root).optimizer's state 'm' for (root).layer_with_weights-0.transformer/layer_4/intermediate/kernel:0\n"
     ]
    },
    {
     "name": "stdout",
     "output_type": "stream",
     "text": [
      "WARNING:tensorflow:Unresolved object in checkpoint: (root).optimizer's state 'm' for (root).layer_with_weights-0.transformer/layer_4/intermediate/bias:0\n"
     ]
    },
    {
     "name": "stderr",
     "output_type": "stream",
     "text": [
      "WARNING:tensorflow:Unresolved object in checkpoint: (root).optimizer's state 'm' for (root).layer_with_weights-0.transformer/layer_4/intermediate/bias:0\n"
     ]
    },
    {
     "name": "stdout",
     "output_type": "stream",
     "text": [
      "WARNING:tensorflow:Unresolved object in checkpoint: (root).optimizer's state 'm' for (root).layer_with_weights-0.transformer/layer_4/output/kernel:0\n"
     ]
    },
    {
     "name": "stderr",
     "output_type": "stream",
     "text": [
      "WARNING:tensorflow:Unresolved object in checkpoint: (root).optimizer's state 'm' for (root).layer_with_weights-0.transformer/layer_4/output/kernel:0\n"
     ]
    },
    {
     "name": "stdout",
     "output_type": "stream",
     "text": [
      "WARNING:tensorflow:Unresolved object in checkpoint: (root).optimizer's state 'm' for (root).layer_with_weights-0.transformer/layer_4/output/bias:0\n"
     ]
    },
    {
     "name": "stderr",
     "output_type": "stream",
     "text": [
      "WARNING:tensorflow:Unresolved object in checkpoint: (root).optimizer's state 'm' for (root).layer_with_weights-0.transformer/layer_4/output/bias:0\n"
     ]
    },
    {
     "name": "stdout",
     "output_type": "stream",
     "text": [
      "WARNING:tensorflow:Unresolved object in checkpoint: (root).optimizer's state 'm' for (root).layer_with_weights-0.transformer/layer_4/output_layer_norm/gamma:0\n"
     ]
    },
    {
     "name": "stderr",
     "output_type": "stream",
     "text": [
      "WARNING:tensorflow:Unresolved object in checkpoint: (root).optimizer's state 'm' for (root).layer_with_weights-0.transformer/layer_4/output_layer_norm/gamma:0\n"
     ]
    },
    {
     "name": "stdout",
     "output_type": "stream",
     "text": [
      "WARNING:tensorflow:Unresolved object in checkpoint: (root).optimizer's state 'm' for (root).layer_with_weights-0.transformer/layer_4/output_layer_norm/beta:0\n"
     ]
    },
    {
     "name": "stderr",
     "output_type": "stream",
     "text": [
      "WARNING:tensorflow:Unresolved object in checkpoint: (root).optimizer's state 'm' for (root).layer_with_weights-0.transformer/layer_4/output_layer_norm/beta:0\n"
     ]
    },
    {
     "name": "stdout",
     "output_type": "stream",
     "text": [
      "WARNING:tensorflow:Unresolved object in checkpoint: (root).optimizer's state 'm' for (root).layer_with_weights-0.transformer/layer_5/self_attention/query/kernel:0\n"
     ]
    },
    {
     "name": "stderr",
     "output_type": "stream",
     "text": [
      "WARNING:tensorflow:Unresolved object in checkpoint: (root).optimizer's state 'm' for (root).layer_with_weights-0.transformer/layer_5/self_attention/query/kernel:0\n"
     ]
    },
    {
     "name": "stdout",
     "output_type": "stream",
     "text": [
      "WARNING:tensorflow:Unresolved object in checkpoint: (root).optimizer's state 'm' for (root).layer_with_weights-0.transformer/layer_5/self_attention/query/bias:0\n"
     ]
    },
    {
     "name": "stderr",
     "output_type": "stream",
     "text": [
      "WARNING:tensorflow:Unresolved object in checkpoint: (root).optimizer's state 'm' for (root).layer_with_weights-0.transformer/layer_5/self_attention/query/bias:0\n"
     ]
    },
    {
     "name": "stdout",
     "output_type": "stream",
     "text": [
      "WARNING:tensorflow:Unresolved object in checkpoint: (root).optimizer's state 'm' for (root).layer_with_weights-0.transformer/layer_5/self_attention/key/kernel:0\n"
     ]
    },
    {
     "name": "stderr",
     "output_type": "stream",
     "text": [
      "WARNING:tensorflow:Unresolved object in checkpoint: (root).optimizer's state 'm' for (root).layer_with_weights-0.transformer/layer_5/self_attention/key/kernel:0\n"
     ]
    },
    {
     "name": "stdout",
     "output_type": "stream",
     "text": [
      "WARNING:tensorflow:Unresolved object in checkpoint: (root).optimizer's state 'm' for (root).layer_with_weights-0.transformer/layer_5/self_attention/key/bias:0\n"
     ]
    },
    {
     "name": "stderr",
     "output_type": "stream",
     "text": [
      "WARNING:tensorflow:Unresolved object in checkpoint: (root).optimizer's state 'm' for (root).layer_with_weights-0.transformer/layer_5/self_attention/key/bias:0\n"
     ]
    },
    {
     "name": "stdout",
     "output_type": "stream",
     "text": [
      "WARNING:tensorflow:Unresolved object in checkpoint: (root).optimizer's state 'm' for (root).layer_with_weights-0.transformer/layer_5/self_attention/value/kernel:0\n"
     ]
    },
    {
     "name": "stderr",
     "output_type": "stream",
     "text": [
      "WARNING:tensorflow:Unresolved object in checkpoint: (root).optimizer's state 'm' for (root).layer_with_weights-0.transformer/layer_5/self_attention/value/kernel:0\n"
     ]
    },
    {
     "name": "stdout",
     "output_type": "stream",
     "text": [
      "WARNING:tensorflow:Unresolved object in checkpoint: (root).optimizer's state 'm' for (root).layer_with_weights-0.transformer/layer_5/self_attention/value/bias:0\n"
     ]
    },
    {
     "name": "stderr",
     "output_type": "stream",
     "text": [
      "WARNING:tensorflow:Unresolved object in checkpoint: (root).optimizer's state 'm' for (root).layer_with_weights-0.transformer/layer_5/self_attention/value/bias:0\n"
     ]
    },
    {
     "name": "stdout",
     "output_type": "stream",
     "text": [
      "WARNING:tensorflow:Unresolved object in checkpoint: (root).optimizer's state 'm' for (root).layer_with_weights-0.transformer/layer_5/self_attention/attention_output/kernel:0\n"
     ]
    },
    {
     "name": "stderr",
     "output_type": "stream",
     "text": [
      "WARNING:tensorflow:Unresolved object in checkpoint: (root).optimizer's state 'm' for (root).layer_with_weights-0.transformer/layer_5/self_attention/attention_output/kernel:0\n"
     ]
    },
    {
     "name": "stdout",
     "output_type": "stream",
     "text": [
      "WARNING:tensorflow:Unresolved object in checkpoint: (root).optimizer's state 'm' for (root).layer_with_weights-0.transformer/layer_5/self_attention/attention_output/bias:0\n"
     ]
    },
    {
     "name": "stderr",
     "output_type": "stream",
     "text": [
      "WARNING:tensorflow:Unresolved object in checkpoint: (root).optimizer's state 'm' for (root).layer_with_weights-0.transformer/layer_5/self_attention/attention_output/bias:0\n"
     ]
    },
    {
     "name": "stdout",
     "output_type": "stream",
     "text": [
      "WARNING:tensorflow:Unresolved object in checkpoint: (root).optimizer's state 'm' for (root).layer_with_weights-0.transformer/layer_5/self_attention_layer_norm/gamma:0\n"
     ]
    },
    {
     "name": "stderr",
     "output_type": "stream",
     "text": [
      "WARNING:tensorflow:Unresolved object in checkpoint: (root).optimizer's state 'm' for (root).layer_with_weights-0.transformer/layer_5/self_attention_layer_norm/gamma:0\n"
     ]
    },
    {
     "name": "stdout",
     "output_type": "stream",
     "text": [
      "WARNING:tensorflow:Unresolved object in checkpoint: (root).optimizer's state 'm' for (root).layer_with_weights-0.transformer/layer_5/self_attention_layer_norm/beta:0\n"
     ]
    },
    {
     "name": "stderr",
     "output_type": "stream",
     "text": [
      "WARNING:tensorflow:Unresolved object in checkpoint: (root).optimizer's state 'm' for (root).layer_with_weights-0.transformer/layer_5/self_attention_layer_norm/beta:0\n"
     ]
    },
    {
     "name": "stdout",
     "output_type": "stream",
     "text": [
      "WARNING:tensorflow:Unresolved object in checkpoint: (root).optimizer's state 'm' for (root).layer_with_weights-0.transformer/layer_5/intermediate/kernel:0\n"
     ]
    },
    {
     "name": "stderr",
     "output_type": "stream",
     "text": [
      "WARNING:tensorflow:Unresolved object in checkpoint: (root).optimizer's state 'm' for (root).layer_with_weights-0.transformer/layer_5/intermediate/kernel:0\n"
     ]
    },
    {
     "name": "stdout",
     "output_type": "stream",
     "text": [
      "WARNING:tensorflow:Unresolved object in checkpoint: (root).optimizer's state 'm' for (root).layer_with_weights-0.transformer/layer_5/intermediate/bias:0\n"
     ]
    },
    {
     "name": "stderr",
     "output_type": "stream",
     "text": [
      "WARNING:tensorflow:Unresolved object in checkpoint: (root).optimizer's state 'm' for (root).layer_with_weights-0.transformer/layer_5/intermediate/bias:0\n"
     ]
    },
    {
     "name": "stdout",
     "output_type": "stream",
     "text": [
      "WARNING:tensorflow:Unresolved object in checkpoint: (root).optimizer's state 'm' for (root).layer_with_weights-0.transformer/layer_5/output/kernel:0\n"
     ]
    },
    {
     "name": "stderr",
     "output_type": "stream",
     "text": [
      "WARNING:tensorflow:Unresolved object in checkpoint: (root).optimizer's state 'm' for (root).layer_with_weights-0.transformer/layer_5/output/kernel:0\n"
     ]
    },
    {
     "name": "stdout",
     "output_type": "stream",
     "text": [
      "WARNING:tensorflow:Unresolved object in checkpoint: (root).optimizer's state 'm' for (root).layer_with_weights-0.transformer/layer_5/output/bias:0\n"
     ]
    },
    {
     "name": "stderr",
     "output_type": "stream",
     "text": [
      "WARNING:tensorflow:Unresolved object in checkpoint: (root).optimizer's state 'm' for (root).layer_with_weights-0.transformer/layer_5/output/bias:0\n"
     ]
    },
    {
     "name": "stdout",
     "output_type": "stream",
     "text": [
      "WARNING:tensorflow:Unresolved object in checkpoint: (root).optimizer's state 'm' for (root).layer_with_weights-0.transformer/layer_5/output_layer_norm/gamma:0\n"
     ]
    },
    {
     "name": "stderr",
     "output_type": "stream",
     "text": [
      "WARNING:tensorflow:Unresolved object in checkpoint: (root).optimizer's state 'm' for (root).layer_with_weights-0.transformer/layer_5/output_layer_norm/gamma:0\n"
     ]
    },
    {
     "name": "stdout",
     "output_type": "stream",
     "text": [
      "WARNING:tensorflow:Unresolved object in checkpoint: (root).optimizer's state 'm' for (root).layer_with_weights-0.transformer/layer_5/output_layer_norm/beta:0\n"
     ]
    },
    {
     "name": "stderr",
     "output_type": "stream",
     "text": [
      "WARNING:tensorflow:Unresolved object in checkpoint: (root).optimizer's state 'm' for (root).layer_with_weights-0.transformer/layer_5/output_layer_norm/beta:0\n"
     ]
    },
    {
     "name": "stdout",
     "output_type": "stream",
     "text": [
      "WARNING:tensorflow:Unresolved object in checkpoint: (root).optimizer's state 'm' for (root).layer_with_weights-0.transformer/layer_6/self_attention/query/kernel:0\n"
     ]
    },
    {
     "name": "stderr",
     "output_type": "stream",
     "text": [
      "WARNING:tensorflow:Unresolved object in checkpoint: (root).optimizer's state 'm' for (root).layer_with_weights-0.transformer/layer_6/self_attention/query/kernel:0\n"
     ]
    },
    {
     "name": "stdout",
     "output_type": "stream",
     "text": [
      "WARNING:tensorflow:Unresolved object in checkpoint: (root).optimizer's state 'm' for (root).layer_with_weights-0.transformer/layer_6/self_attention/query/bias:0\n"
     ]
    },
    {
     "name": "stderr",
     "output_type": "stream",
     "text": [
      "WARNING:tensorflow:Unresolved object in checkpoint: (root).optimizer's state 'm' for (root).layer_with_weights-0.transformer/layer_6/self_attention/query/bias:0\n"
     ]
    },
    {
     "name": "stdout",
     "output_type": "stream",
     "text": [
      "WARNING:tensorflow:Unresolved object in checkpoint: (root).optimizer's state 'm' for (root).layer_with_weights-0.transformer/layer_6/self_attention/key/kernel:0\n"
     ]
    },
    {
     "name": "stderr",
     "output_type": "stream",
     "text": [
      "WARNING:tensorflow:Unresolved object in checkpoint: (root).optimizer's state 'm' for (root).layer_with_weights-0.transformer/layer_6/self_attention/key/kernel:0\n"
     ]
    },
    {
     "name": "stdout",
     "output_type": "stream",
     "text": [
      "WARNING:tensorflow:Unresolved object in checkpoint: (root).optimizer's state 'm' for (root).layer_with_weights-0.transformer/layer_6/self_attention/key/bias:0\n"
     ]
    },
    {
     "name": "stderr",
     "output_type": "stream",
     "text": [
      "WARNING:tensorflow:Unresolved object in checkpoint: (root).optimizer's state 'm' for (root).layer_with_weights-0.transformer/layer_6/self_attention/key/bias:0\n"
     ]
    },
    {
     "name": "stdout",
     "output_type": "stream",
     "text": [
      "WARNING:tensorflow:Unresolved object in checkpoint: (root).optimizer's state 'm' for (root).layer_with_weights-0.transformer/layer_6/self_attention/value/kernel:0\n"
     ]
    },
    {
     "name": "stderr",
     "output_type": "stream",
     "text": [
      "WARNING:tensorflow:Unresolved object in checkpoint: (root).optimizer's state 'm' for (root).layer_with_weights-0.transformer/layer_6/self_attention/value/kernel:0\n"
     ]
    },
    {
     "name": "stdout",
     "output_type": "stream",
     "text": [
      "WARNING:tensorflow:Unresolved object in checkpoint: (root).optimizer's state 'm' for (root).layer_with_weights-0.transformer/layer_6/self_attention/value/bias:0\n"
     ]
    },
    {
     "name": "stderr",
     "output_type": "stream",
     "text": [
      "WARNING:tensorflow:Unresolved object in checkpoint: (root).optimizer's state 'm' for (root).layer_with_weights-0.transformer/layer_6/self_attention/value/bias:0\n"
     ]
    },
    {
     "name": "stdout",
     "output_type": "stream",
     "text": [
      "WARNING:tensorflow:Unresolved object in checkpoint: (root).optimizer's state 'm' for (root).layer_with_weights-0.transformer/layer_6/self_attention/attention_output/kernel:0\n"
     ]
    },
    {
     "name": "stderr",
     "output_type": "stream",
     "text": [
      "WARNING:tensorflow:Unresolved object in checkpoint: (root).optimizer's state 'm' for (root).layer_with_weights-0.transformer/layer_6/self_attention/attention_output/kernel:0\n"
     ]
    },
    {
     "name": "stdout",
     "output_type": "stream",
     "text": [
      "WARNING:tensorflow:Unresolved object in checkpoint: (root).optimizer's state 'm' for (root).layer_with_weights-0.transformer/layer_6/self_attention/attention_output/bias:0\n"
     ]
    },
    {
     "name": "stderr",
     "output_type": "stream",
     "text": [
      "WARNING:tensorflow:Unresolved object in checkpoint: (root).optimizer's state 'm' for (root).layer_with_weights-0.transformer/layer_6/self_attention/attention_output/bias:0\n"
     ]
    },
    {
     "name": "stdout",
     "output_type": "stream",
     "text": [
      "WARNING:tensorflow:Unresolved object in checkpoint: (root).optimizer's state 'm' for (root).layer_with_weights-0.transformer/layer_6/self_attention_layer_norm/gamma:0\n"
     ]
    },
    {
     "name": "stderr",
     "output_type": "stream",
     "text": [
      "WARNING:tensorflow:Unresolved object in checkpoint: (root).optimizer's state 'm' for (root).layer_with_weights-0.transformer/layer_6/self_attention_layer_norm/gamma:0\n"
     ]
    },
    {
     "name": "stdout",
     "output_type": "stream",
     "text": [
      "WARNING:tensorflow:Unresolved object in checkpoint: (root).optimizer's state 'm' for (root).layer_with_weights-0.transformer/layer_6/self_attention_layer_norm/beta:0\n"
     ]
    },
    {
     "name": "stderr",
     "output_type": "stream",
     "text": [
      "WARNING:tensorflow:Unresolved object in checkpoint: (root).optimizer's state 'm' for (root).layer_with_weights-0.transformer/layer_6/self_attention_layer_norm/beta:0\n"
     ]
    },
    {
     "name": "stdout",
     "output_type": "stream",
     "text": [
      "WARNING:tensorflow:Unresolved object in checkpoint: (root).optimizer's state 'm' for (root).layer_with_weights-0.transformer/layer_6/intermediate/kernel:0\n"
     ]
    },
    {
     "name": "stderr",
     "output_type": "stream",
     "text": [
      "WARNING:tensorflow:Unresolved object in checkpoint: (root).optimizer's state 'm' for (root).layer_with_weights-0.transformer/layer_6/intermediate/kernel:0\n"
     ]
    },
    {
     "name": "stdout",
     "output_type": "stream",
     "text": [
      "WARNING:tensorflow:Unresolved object in checkpoint: (root).optimizer's state 'm' for (root).layer_with_weights-0.transformer/layer_6/intermediate/bias:0\n"
     ]
    },
    {
     "name": "stderr",
     "output_type": "stream",
     "text": [
      "WARNING:tensorflow:Unresolved object in checkpoint: (root).optimizer's state 'm' for (root).layer_with_weights-0.transformer/layer_6/intermediate/bias:0\n"
     ]
    },
    {
     "name": "stdout",
     "output_type": "stream",
     "text": [
      "WARNING:tensorflow:Unresolved object in checkpoint: (root).optimizer's state 'm' for (root).layer_with_weights-0.transformer/layer_6/output/kernel:0\n"
     ]
    },
    {
     "name": "stderr",
     "output_type": "stream",
     "text": [
      "WARNING:tensorflow:Unresolved object in checkpoint: (root).optimizer's state 'm' for (root).layer_with_weights-0.transformer/layer_6/output/kernel:0\n"
     ]
    },
    {
     "name": "stdout",
     "output_type": "stream",
     "text": [
      "WARNING:tensorflow:Unresolved object in checkpoint: (root).optimizer's state 'm' for (root).layer_with_weights-0.transformer/layer_6/output/bias:0\n"
     ]
    },
    {
     "name": "stderr",
     "output_type": "stream",
     "text": [
      "WARNING:tensorflow:Unresolved object in checkpoint: (root).optimizer's state 'm' for (root).layer_with_weights-0.transformer/layer_6/output/bias:0\n"
     ]
    },
    {
     "name": "stdout",
     "output_type": "stream",
     "text": [
      "WARNING:tensorflow:Unresolved object in checkpoint: (root).optimizer's state 'm' for (root).layer_with_weights-0.transformer/layer_6/output_layer_norm/gamma:0\n"
     ]
    },
    {
     "name": "stderr",
     "output_type": "stream",
     "text": [
      "WARNING:tensorflow:Unresolved object in checkpoint: (root).optimizer's state 'm' for (root).layer_with_weights-0.transformer/layer_6/output_layer_norm/gamma:0\n"
     ]
    },
    {
     "name": "stdout",
     "output_type": "stream",
     "text": [
      "WARNING:tensorflow:Unresolved object in checkpoint: (root).optimizer's state 'm' for (root).layer_with_weights-0.transformer/layer_6/output_layer_norm/beta:0\n"
     ]
    },
    {
     "name": "stderr",
     "output_type": "stream",
     "text": [
      "WARNING:tensorflow:Unresolved object in checkpoint: (root).optimizer's state 'm' for (root).layer_with_weights-0.transformer/layer_6/output_layer_norm/beta:0\n"
     ]
    },
    {
     "name": "stdout",
     "output_type": "stream",
     "text": [
      "WARNING:tensorflow:Unresolved object in checkpoint: (root).optimizer's state 'm' for (root).layer_with_weights-0.transformer/layer_7/self_attention/query/kernel:0\n"
     ]
    },
    {
     "name": "stderr",
     "output_type": "stream",
     "text": [
      "WARNING:tensorflow:Unresolved object in checkpoint: (root).optimizer's state 'm' for (root).layer_with_weights-0.transformer/layer_7/self_attention/query/kernel:0\n"
     ]
    },
    {
     "name": "stdout",
     "output_type": "stream",
     "text": [
      "WARNING:tensorflow:Unresolved object in checkpoint: (root).optimizer's state 'm' for (root).layer_with_weights-0.transformer/layer_7/self_attention/query/bias:0\n"
     ]
    },
    {
     "name": "stderr",
     "output_type": "stream",
     "text": [
      "WARNING:tensorflow:Unresolved object in checkpoint: (root).optimizer's state 'm' for (root).layer_with_weights-0.transformer/layer_7/self_attention/query/bias:0\n"
     ]
    },
    {
     "name": "stdout",
     "output_type": "stream",
     "text": [
      "WARNING:tensorflow:Unresolved object in checkpoint: (root).optimizer's state 'm' for (root).layer_with_weights-0.transformer/layer_7/self_attention/key/kernel:0\n"
     ]
    },
    {
     "name": "stderr",
     "output_type": "stream",
     "text": [
      "WARNING:tensorflow:Unresolved object in checkpoint: (root).optimizer's state 'm' for (root).layer_with_weights-0.transformer/layer_7/self_attention/key/kernel:0\n"
     ]
    },
    {
     "name": "stdout",
     "output_type": "stream",
     "text": [
      "WARNING:tensorflow:Unresolved object in checkpoint: (root).optimizer's state 'm' for (root).layer_with_weights-0.transformer/layer_7/self_attention/key/bias:0\n"
     ]
    },
    {
     "name": "stderr",
     "output_type": "stream",
     "text": [
      "WARNING:tensorflow:Unresolved object in checkpoint: (root).optimizer's state 'm' for (root).layer_with_weights-0.transformer/layer_7/self_attention/key/bias:0\n"
     ]
    },
    {
     "name": "stdout",
     "output_type": "stream",
     "text": [
      "WARNING:tensorflow:Unresolved object in checkpoint: (root).optimizer's state 'm' for (root).layer_with_weights-0.transformer/layer_7/self_attention/value/kernel:0\n"
     ]
    },
    {
     "name": "stderr",
     "output_type": "stream",
     "text": [
      "WARNING:tensorflow:Unresolved object in checkpoint: (root).optimizer's state 'm' for (root).layer_with_weights-0.transformer/layer_7/self_attention/value/kernel:0\n"
     ]
    },
    {
     "name": "stdout",
     "output_type": "stream",
     "text": [
      "WARNING:tensorflow:Unresolved object in checkpoint: (root).optimizer's state 'm' for (root).layer_with_weights-0.transformer/layer_7/self_attention/value/bias:0\n"
     ]
    },
    {
     "name": "stderr",
     "output_type": "stream",
     "text": [
      "WARNING:tensorflow:Unresolved object in checkpoint: (root).optimizer's state 'm' for (root).layer_with_weights-0.transformer/layer_7/self_attention/value/bias:0\n"
     ]
    },
    {
     "name": "stdout",
     "output_type": "stream",
     "text": [
      "WARNING:tensorflow:Unresolved object in checkpoint: (root).optimizer's state 'm' for (root).layer_with_weights-0.transformer/layer_7/self_attention/attention_output/kernel:0\n"
     ]
    },
    {
     "name": "stderr",
     "output_type": "stream",
     "text": [
      "WARNING:tensorflow:Unresolved object in checkpoint: (root).optimizer's state 'm' for (root).layer_with_weights-0.transformer/layer_7/self_attention/attention_output/kernel:0\n"
     ]
    },
    {
     "name": "stdout",
     "output_type": "stream",
     "text": [
      "WARNING:tensorflow:Unresolved object in checkpoint: (root).optimizer's state 'm' for (root).layer_with_weights-0.transformer/layer_7/self_attention/attention_output/bias:0\n"
     ]
    },
    {
     "name": "stderr",
     "output_type": "stream",
     "text": [
      "WARNING:tensorflow:Unresolved object in checkpoint: (root).optimizer's state 'm' for (root).layer_with_weights-0.transformer/layer_7/self_attention/attention_output/bias:0\n"
     ]
    },
    {
     "name": "stdout",
     "output_type": "stream",
     "text": [
      "WARNING:tensorflow:Unresolved object in checkpoint: (root).optimizer's state 'm' for (root).layer_with_weights-0.transformer/layer_7/self_attention_layer_norm/gamma:0\n"
     ]
    },
    {
     "name": "stderr",
     "output_type": "stream",
     "text": [
      "WARNING:tensorflow:Unresolved object in checkpoint: (root).optimizer's state 'm' for (root).layer_with_weights-0.transformer/layer_7/self_attention_layer_norm/gamma:0\n"
     ]
    },
    {
     "name": "stdout",
     "output_type": "stream",
     "text": [
      "WARNING:tensorflow:Unresolved object in checkpoint: (root).optimizer's state 'm' for (root).layer_with_weights-0.transformer/layer_7/self_attention_layer_norm/beta:0\n"
     ]
    },
    {
     "name": "stderr",
     "output_type": "stream",
     "text": [
      "WARNING:tensorflow:Unresolved object in checkpoint: (root).optimizer's state 'm' for (root).layer_with_weights-0.transformer/layer_7/self_attention_layer_norm/beta:0\n"
     ]
    },
    {
     "name": "stdout",
     "output_type": "stream",
     "text": [
      "WARNING:tensorflow:Unresolved object in checkpoint: (root).optimizer's state 'm' for (root).layer_with_weights-0.transformer/layer_7/intermediate/kernel:0\n"
     ]
    },
    {
     "name": "stderr",
     "output_type": "stream",
     "text": [
      "WARNING:tensorflow:Unresolved object in checkpoint: (root).optimizer's state 'm' for (root).layer_with_weights-0.transformer/layer_7/intermediate/kernel:0\n"
     ]
    },
    {
     "name": "stdout",
     "output_type": "stream",
     "text": [
      "WARNING:tensorflow:Unresolved object in checkpoint: (root).optimizer's state 'm' for (root).layer_with_weights-0.transformer/layer_7/intermediate/bias:0\n"
     ]
    },
    {
     "name": "stderr",
     "output_type": "stream",
     "text": [
      "WARNING:tensorflow:Unresolved object in checkpoint: (root).optimizer's state 'm' for (root).layer_with_weights-0.transformer/layer_7/intermediate/bias:0\n"
     ]
    },
    {
     "name": "stdout",
     "output_type": "stream",
     "text": [
      "WARNING:tensorflow:Unresolved object in checkpoint: (root).optimizer's state 'm' for (root).layer_with_weights-0.transformer/layer_7/output/kernel:0\n"
     ]
    },
    {
     "name": "stderr",
     "output_type": "stream",
     "text": [
      "WARNING:tensorflow:Unresolved object in checkpoint: (root).optimizer's state 'm' for (root).layer_with_weights-0.transformer/layer_7/output/kernel:0\n"
     ]
    },
    {
     "name": "stdout",
     "output_type": "stream",
     "text": [
      "WARNING:tensorflow:Unresolved object in checkpoint: (root).optimizer's state 'm' for (root).layer_with_weights-0.transformer/layer_7/output/bias:0\n"
     ]
    },
    {
     "name": "stderr",
     "output_type": "stream",
     "text": [
      "WARNING:tensorflow:Unresolved object in checkpoint: (root).optimizer's state 'm' for (root).layer_with_weights-0.transformer/layer_7/output/bias:0\n"
     ]
    },
    {
     "name": "stdout",
     "output_type": "stream",
     "text": [
      "WARNING:tensorflow:Unresolved object in checkpoint: (root).optimizer's state 'm' for (root).layer_with_weights-0.transformer/layer_7/output_layer_norm/gamma:0\n"
     ]
    },
    {
     "name": "stderr",
     "output_type": "stream",
     "text": [
      "WARNING:tensorflow:Unresolved object in checkpoint: (root).optimizer's state 'm' for (root).layer_with_weights-0.transformer/layer_7/output_layer_norm/gamma:0\n"
     ]
    },
    {
     "name": "stdout",
     "output_type": "stream",
     "text": [
      "WARNING:tensorflow:Unresolved object in checkpoint: (root).optimizer's state 'm' for (root).layer_with_weights-0.transformer/layer_7/output_layer_norm/beta:0\n"
     ]
    },
    {
     "name": "stderr",
     "output_type": "stream",
     "text": [
      "WARNING:tensorflow:Unresolved object in checkpoint: (root).optimizer's state 'm' for (root).layer_with_weights-0.transformer/layer_7/output_layer_norm/beta:0\n"
     ]
    },
    {
     "name": "stdout",
     "output_type": "stream",
     "text": [
      "WARNING:tensorflow:Unresolved object in checkpoint: (root).optimizer's state 'm' for (root).layer_with_weights-0.transformer/layer_8/self_attention/query/kernel:0\n"
     ]
    },
    {
     "name": "stderr",
     "output_type": "stream",
     "text": [
      "WARNING:tensorflow:Unresolved object in checkpoint: (root).optimizer's state 'm' for (root).layer_with_weights-0.transformer/layer_8/self_attention/query/kernel:0\n"
     ]
    },
    {
     "name": "stdout",
     "output_type": "stream",
     "text": [
      "WARNING:tensorflow:Unresolved object in checkpoint: (root).optimizer's state 'm' for (root).layer_with_weights-0.transformer/layer_8/self_attention/query/bias:0\n"
     ]
    },
    {
     "name": "stderr",
     "output_type": "stream",
     "text": [
      "WARNING:tensorflow:Unresolved object in checkpoint: (root).optimizer's state 'm' for (root).layer_with_weights-0.transformer/layer_8/self_attention/query/bias:0\n"
     ]
    },
    {
     "name": "stdout",
     "output_type": "stream",
     "text": [
      "WARNING:tensorflow:Unresolved object in checkpoint: (root).optimizer's state 'm' for (root).layer_with_weights-0.transformer/layer_8/self_attention/key/kernel:0\n"
     ]
    },
    {
     "name": "stderr",
     "output_type": "stream",
     "text": [
      "WARNING:tensorflow:Unresolved object in checkpoint: (root).optimizer's state 'm' for (root).layer_with_weights-0.transformer/layer_8/self_attention/key/kernel:0\n"
     ]
    },
    {
     "name": "stdout",
     "output_type": "stream",
     "text": [
      "WARNING:tensorflow:Unresolved object in checkpoint: (root).optimizer's state 'm' for (root).layer_with_weights-0.transformer/layer_8/self_attention/key/bias:0\n"
     ]
    },
    {
     "name": "stderr",
     "output_type": "stream",
     "text": [
      "WARNING:tensorflow:Unresolved object in checkpoint: (root).optimizer's state 'm' for (root).layer_with_weights-0.transformer/layer_8/self_attention/key/bias:0\n"
     ]
    },
    {
     "name": "stdout",
     "output_type": "stream",
     "text": [
      "WARNING:tensorflow:Unresolved object in checkpoint: (root).optimizer's state 'm' for (root).layer_with_weights-0.transformer/layer_8/self_attention/value/kernel:0\n"
     ]
    },
    {
     "name": "stderr",
     "output_type": "stream",
     "text": [
      "WARNING:tensorflow:Unresolved object in checkpoint: (root).optimizer's state 'm' for (root).layer_with_weights-0.transformer/layer_8/self_attention/value/kernel:0\n"
     ]
    },
    {
     "name": "stdout",
     "output_type": "stream",
     "text": [
      "WARNING:tensorflow:Unresolved object in checkpoint: (root).optimizer's state 'm' for (root).layer_with_weights-0.transformer/layer_8/self_attention/value/bias:0\n"
     ]
    },
    {
     "name": "stderr",
     "output_type": "stream",
     "text": [
      "WARNING:tensorflow:Unresolved object in checkpoint: (root).optimizer's state 'm' for (root).layer_with_weights-0.transformer/layer_8/self_attention/value/bias:0\n"
     ]
    },
    {
     "name": "stdout",
     "output_type": "stream",
     "text": [
      "WARNING:tensorflow:Unresolved object in checkpoint: (root).optimizer's state 'm' for (root).layer_with_weights-0.transformer/layer_8/self_attention/attention_output/kernel:0\n"
     ]
    },
    {
     "name": "stderr",
     "output_type": "stream",
     "text": [
      "WARNING:tensorflow:Unresolved object in checkpoint: (root).optimizer's state 'm' for (root).layer_with_weights-0.transformer/layer_8/self_attention/attention_output/kernel:0\n"
     ]
    },
    {
     "name": "stdout",
     "output_type": "stream",
     "text": [
      "WARNING:tensorflow:Unresolved object in checkpoint: (root).optimizer's state 'm' for (root).layer_with_weights-0.transformer/layer_8/self_attention/attention_output/bias:0\n"
     ]
    },
    {
     "name": "stderr",
     "output_type": "stream",
     "text": [
      "WARNING:tensorflow:Unresolved object in checkpoint: (root).optimizer's state 'm' for (root).layer_with_weights-0.transformer/layer_8/self_attention/attention_output/bias:0\n"
     ]
    },
    {
     "name": "stdout",
     "output_type": "stream",
     "text": [
      "WARNING:tensorflow:Unresolved object in checkpoint: (root).optimizer's state 'm' for (root).layer_with_weights-0.transformer/layer_8/self_attention_layer_norm/gamma:0\n"
     ]
    },
    {
     "name": "stderr",
     "output_type": "stream",
     "text": [
      "WARNING:tensorflow:Unresolved object in checkpoint: (root).optimizer's state 'm' for (root).layer_with_weights-0.transformer/layer_8/self_attention_layer_norm/gamma:0\n"
     ]
    },
    {
     "name": "stdout",
     "output_type": "stream",
     "text": [
      "WARNING:tensorflow:Unresolved object in checkpoint: (root).optimizer's state 'm' for (root).layer_with_weights-0.transformer/layer_8/self_attention_layer_norm/beta:0\n"
     ]
    },
    {
     "name": "stderr",
     "output_type": "stream",
     "text": [
      "WARNING:tensorflow:Unresolved object in checkpoint: (root).optimizer's state 'm' for (root).layer_with_weights-0.transformer/layer_8/self_attention_layer_norm/beta:0\n"
     ]
    },
    {
     "name": "stdout",
     "output_type": "stream",
     "text": [
      "WARNING:tensorflow:Unresolved object in checkpoint: (root).optimizer's state 'm' for (root).layer_with_weights-0.transformer/layer_8/intermediate/kernel:0\n"
     ]
    },
    {
     "name": "stderr",
     "output_type": "stream",
     "text": [
      "WARNING:tensorflow:Unresolved object in checkpoint: (root).optimizer's state 'm' for (root).layer_with_weights-0.transformer/layer_8/intermediate/kernel:0\n"
     ]
    },
    {
     "name": "stdout",
     "output_type": "stream",
     "text": [
      "WARNING:tensorflow:Unresolved object in checkpoint: (root).optimizer's state 'm' for (root).layer_with_weights-0.transformer/layer_8/intermediate/bias:0\n"
     ]
    },
    {
     "name": "stderr",
     "output_type": "stream",
     "text": [
      "WARNING:tensorflow:Unresolved object in checkpoint: (root).optimizer's state 'm' for (root).layer_with_weights-0.transformer/layer_8/intermediate/bias:0\n"
     ]
    },
    {
     "name": "stdout",
     "output_type": "stream",
     "text": [
      "WARNING:tensorflow:Unresolved object in checkpoint: (root).optimizer's state 'm' for (root).layer_with_weights-0.transformer/layer_8/output/kernel:0\n"
     ]
    },
    {
     "name": "stderr",
     "output_type": "stream",
     "text": [
      "WARNING:tensorflow:Unresolved object in checkpoint: (root).optimizer's state 'm' for (root).layer_with_weights-0.transformer/layer_8/output/kernel:0\n"
     ]
    },
    {
     "name": "stdout",
     "output_type": "stream",
     "text": [
      "WARNING:tensorflow:Unresolved object in checkpoint: (root).optimizer's state 'm' for (root).layer_with_weights-0.transformer/layer_8/output/bias:0\n"
     ]
    },
    {
     "name": "stderr",
     "output_type": "stream",
     "text": [
      "WARNING:tensorflow:Unresolved object in checkpoint: (root).optimizer's state 'm' for (root).layer_with_weights-0.transformer/layer_8/output/bias:0\n"
     ]
    },
    {
     "name": "stdout",
     "output_type": "stream",
     "text": [
      "WARNING:tensorflow:Unresolved object in checkpoint: (root).optimizer's state 'm' for (root).layer_with_weights-0.transformer/layer_8/output_layer_norm/gamma:0\n"
     ]
    },
    {
     "name": "stderr",
     "output_type": "stream",
     "text": [
      "WARNING:tensorflow:Unresolved object in checkpoint: (root).optimizer's state 'm' for (root).layer_with_weights-0.transformer/layer_8/output_layer_norm/gamma:0\n"
     ]
    },
    {
     "name": "stdout",
     "output_type": "stream",
     "text": [
      "WARNING:tensorflow:Unresolved object in checkpoint: (root).optimizer's state 'm' for (root).layer_with_weights-0.transformer/layer_8/output_layer_norm/beta:0\n"
     ]
    },
    {
     "name": "stderr",
     "output_type": "stream",
     "text": [
      "WARNING:tensorflow:Unresolved object in checkpoint: (root).optimizer's state 'm' for (root).layer_with_weights-0.transformer/layer_8/output_layer_norm/beta:0\n"
     ]
    },
    {
     "name": "stdout",
     "output_type": "stream",
     "text": [
      "WARNING:tensorflow:Unresolved object in checkpoint: (root).optimizer's state 'm' for (root).layer_with_weights-0.transformer/layer_9/self_attention/query/kernel:0\n"
     ]
    },
    {
     "name": "stderr",
     "output_type": "stream",
     "text": [
      "WARNING:tensorflow:Unresolved object in checkpoint: (root).optimizer's state 'm' for (root).layer_with_weights-0.transformer/layer_9/self_attention/query/kernel:0\n"
     ]
    },
    {
     "name": "stdout",
     "output_type": "stream",
     "text": [
      "WARNING:tensorflow:Unresolved object in checkpoint: (root).optimizer's state 'm' for (root).layer_with_weights-0.transformer/layer_9/self_attention/query/bias:0\n"
     ]
    },
    {
     "name": "stderr",
     "output_type": "stream",
     "text": [
      "WARNING:tensorflow:Unresolved object in checkpoint: (root).optimizer's state 'm' for (root).layer_with_weights-0.transformer/layer_9/self_attention/query/bias:0\n"
     ]
    },
    {
     "name": "stdout",
     "output_type": "stream",
     "text": [
      "WARNING:tensorflow:Unresolved object in checkpoint: (root).optimizer's state 'm' for (root).layer_with_weights-0.transformer/layer_9/self_attention/key/kernel:0\n"
     ]
    },
    {
     "name": "stderr",
     "output_type": "stream",
     "text": [
      "WARNING:tensorflow:Unresolved object in checkpoint: (root).optimizer's state 'm' for (root).layer_with_weights-0.transformer/layer_9/self_attention/key/kernel:0\n"
     ]
    },
    {
     "name": "stdout",
     "output_type": "stream",
     "text": [
      "WARNING:tensorflow:Unresolved object in checkpoint: (root).optimizer's state 'm' for (root).layer_with_weights-0.transformer/layer_9/self_attention/key/bias:0\n"
     ]
    },
    {
     "name": "stderr",
     "output_type": "stream",
     "text": [
      "WARNING:tensorflow:Unresolved object in checkpoint: (root).optimizer's state 'm' for (root).layer_with_weights-0.transformer/layer_9/self_attention/key/bias:0\n"
     ]
    },
    {
     "name": "stdout",
     "output_type": "stream",
     "text": [
      "WARNING:tensorflow:Unresolved object in checkpoint: (root).optimizer's state 'm' for (root).layer_with_weights-0.transformer/layer_9/self_attention/value/kernel:0\n"
     ]
    },
    {
     "name": "stderr",
     "output_type": "stream",
     "text": [
      "WARNING:tensorflow:Unresolved object in checkpoint: (root).optimizer's state 'm' for (root).layer_with_weights-0.transformer/layer_9/self_attention/value/kernel:0\n"
     ]
    },
    {
     "name": "stdout",
     "output_type": "stream",
     "text": [
      "WARNING:tensorflow:Unresolved object in checkpoint: (root).optimizer's state 'm' for (root).layer_with_weights-0.transformer/layer_9/self_attention/value/bias:0\n"
     ]
    },
    {
     "name": "stderr",
     "output_type": "stream",
     "text": [
      "WARNING:tensorflow:Unresolved object in checkpoint: (root).optimizer's state 'm' for (root).layer_with_weights-0.transformer/layer_9/self_attention/value/bias:0\n"
     ]
    },
    {
     "name": "stdout",
     "output_type": "stream",
     "text": [
      "WARNING:tensorflow:Unresolved object in checkpoint: (root).optimizer's state 'm' for (root).layer_with_weights-0.transformer/layer_9/self_attention/attention_output/kernel:0\n"
     ]
    },
    {
     "name": "stderr",
     "output_type": "stream",
     "text": [
      "WARNING:tensorflow:Unresolved object in checkpoint: (root).optimizer's state 'm' for (root).layer_with_weights-0.transformer/layer_9/self_attention/attention_output/kernel:0\n"
     ]
    },
    {
     "name": "stdout",
     "output_type": "stream",
     "text": [
      "WARNING:tensorflow:Unresolved object in checkpoint: (root).optimizer's state 'm' for (root).layer_with_weights-0.transformer/layer_9/self_attention/attention_output/bias:0\n"
     ]
    },
    {
     "name": "stderr",
     "output_type": "stream",
     "text": [
      "WARNING:tensorflow:Unresolved object in checkpoint: (root).optimizer's state 'm' for (root).layer_with_weights-0.transformer/layer_9/self_attention/attention_output/bias:0\n"
     ]
    },
    {
     "name": "stdout",
     "output_type": "stream",
     "text": [
      "WARNING:tensorflow:Unresolved object in checkpoint: (root).optimizer's state 'm' for (root).layer_with_weights-0.transformer/layer_9/self_attention_layer_norm/gamma:0\n"
     ]
    },
    {
     "name": "stderr",
     "output_type": "stream",
     "text": [
      "WARNING:tensorflow:Unresolved object in checkpoint: (root).optimizer's state 'm' for (root).layer_with_weights-0.transformer/layer_9/self_attention_layer_norm/gamma:0\n"
     ]
    },
    {
     "name": "stdout",
     "output_type": "stream",
     "text": [
      "WARNING:tensorflow:Unresolved object in checkpoint: (root).optimizer's state 'm' for (root).layer_with_weights-0.transformer/layer_9/self_attention_layer_norm/beta:0\n"
     ]
    },
    {
     "name": "stderr",
     "output_type": "stream",
     "text": [
      "WARNING:tensorflow:Unresolved object in checkpoint: (root).optimizer's state 'm' for (root).layer_with_weights-0.transformer/layer_9/self_attention_layer_norm/beta:0\n"
     ]
    },
    {
     "name": "stdout",
     "output_type": "stream",
     "text": [
      "WARNING:tensorflow:Unresolved object in checkpoint: (root).optimizer's state 'm' for (root).layer_with_weights-0.transformer/layer_9/intermediate/kernel:0\n"
     ]
    },
    {
     "name": "stderr",
     "output_type": "stream",
     "text": [
      "WARNING:tensorflow:Unresolved object in checkpoint: (root).optimizer's state 'm' for (root).layer_with_weights-0.transformer/layer_9/intermediate/kernel:0\n"
     ]
    },
    {
     "name": "stdout",
     "output_type": "stream",
     "text": [
      "WARNING:tensorflow:Unresolved object in checkpoint: (root).optimizer's state 'm' for (root).layer_with_weights-0.transformer/layer_9/intermediate/bias:0\n"
     ]
    },
    {
     "name": "stderr",
     "output_type": "stream",
     "text": [
      "WARNING:tensorflow:Unresolved object in checkpoint: (root).optimizer's state 'm' for (root).layer_with_weights-0.transformer/layer_9/intermediate/bias:0\n"
     ]
    },
    {
     "name": "stdout",
     "output_type": "stream",
     "text": [
      "WARNING:tensorflow:Unresolved object in checkpoint: (root).optimizer's state 'm' for (root).layer_with_weights-0.transformer/layer_9/output/kernel:0\n"
     ]
    },
    {
     "name": "stderr",
     "output_type": "stream",
     "text": [
      "WARNING:tensorflow:Unresolved object in checkpoint: (root).optimizer's state 'm' for (root).layer_with_weights-0.transformer/layer_9/output/kernel:0\n"
     ]
    },
    {
     "name": "stdout",
     "output_type": "stream",
     "text": [
      "WARNING:tensorflow:Unresolved object in checkpoint: (root).optimizer's state 'm' for (root).layer_with_weights-0.transformer/layer_9/output/bias:0\n"
     ]
    },
    {
     "name": "stderr",
     "output_type": "stream",
     "text": [
      "WARNING:tensorflow:Unresolved object in checkpoint: (root).optimizer's state 'm' for (root).layer_with_weights-0.transformer/layer_9/output/bias:0\n"
     ]
    },
    {
     "name": "stdout",
     "output_type": "stream",
     "text": [
      "WARNING:tensorflow:Unresolved object in checkpoint: (root).optimizer's state 'm' for (root).layer_with_weights-0.transformer/layer_9/output_layer_norm/gamma:0\n"
     ]
    },
    {
     "name": "stderr",
     "output_type": "stream",
     "text": [
      "WARNING:tensorflow:Unresolved object in checkpoint: (root).optimizer's state 'm' for (root).layer_with_weights-0.transformer/layer_9/output_layer_norm/gamma:0\n"
     ]
    },
    {
     "name": "stdout",
     "output_type": "stream",
     "text": [
      "WARNING:tensorflow:Unresolved object in checkpoint: (root).optimizer's state 'm' for (root).layer_with_weights-0.transformer/layer_9/output_layer_norm/beta:0\n"
     ]
    },
    {
     "name": "stderr",
     "output_type": "stream",
     "text": [
      "WARNING:tensorflow:Unresolved object in checkpoint: (root).optimizer's state 'm' for (root).layer_with_weights-0.transformer/layer_9/output_layer_norm/beta:0\n"
     ]
    },
    {
     "name": "stdout",
     "output_type": "stream",
     "text": [
      "WARNING:tensorflow:Unresolved object in checkpoint: (root).optimizer's state 'm' for (root).layer_with_weights-0.transformer/layer_10/self_attention/query/kernel:0\n"
     ]
    },
    {
     "name": "stderr",
     "output_type": "stream",
     "text": [
      "WARNING:tensorflow:Unresolved object in checkpoint: (root).optimizer's state 'm' for (root).layer_with_weights-0.transformer/layer_10/self_attention/query/kernel:0\n"
     ]
    },
    {
     "name": "stdout",
     "output_type": "stream",
     "text": [
      "WARNING:tensorflow:Unresolved object in checkpoint: (root).optimizer's state 'm' for (root).layer_with_weights-0.transformer/layer_10/self_attention/query/bias:0\n"
     ]
    },
    {
     "name": "stderr",
     "output_type": "stream",
     "text": [
      "WARNING:tensorflow:Unresolved object in checkpoint: (root).optimizer's state 'm' for (root).layer_with_weights-0.transformer/layer_10/self_attention/query/bias:0\n"
     ]
    },
    {
     "name": "stdout",
     "output_type": "stream",
     "text": [
      "WARNING:tensorflow:Unresolved object in checkpoint: (root).optimizer's state 'm' for (root).layer_with_weights-0.transformer/layer_10/self_attention/key/kernel:0\n"
     ]
    },
    {
     "name": "stderr",
     "output_type": "stream",
     "text": [
      "WARNING:tensorflow:Unresolved object in checkpoint: (root).optimizer's state 'm' for (root).layer_with_weights-0.transformer/layer_10/self_attention/key/kernel:0\n"
     ]
    },
    {
     "name": "stdout",
     "output_type": "stream",
     "text": [
      "WARNING:tensorflow:Unresolved object in checkpoint: (root).optimizer's state 'm' for (root).layer_with_weights-0.transformer/layer_10/self_attention/key/bias:0\n"
     ]
    },
    {
     "name": "stderr",
     "output_type": "stream",
     "text": [
      "WARNING:tensorflow:Unresolved object in checkpoint: (root).optimizer's state 'm' for (root).layer_with_weights-0.transformer/layer_10/self_attention/key/bias:0\n"
     ]
    },
    {
     "name": "stdout",
     "output_type": "stream",
     "text": [
      "WARNING:tensorflow:Unresolved object in checkpoint: (root).optimizer's state 'm' for (root).layer_with_weights-0.transformer/layer_10/self_attention/value/kernel:0\n"
     ]
    },
    {
     "name": "stderr",
     "output_type": "stream",
     "text": [
      "WARNING:tensorflow:Unresolved object in checkpoint: (root).optimizer's state 'm' for (root).layer_with_weights-0.transformer/layer_10/self_attention/value/kernel:0\n"
     ]
    },
    {
     "name": "stdout",
     "output_type": "stream",
     "text": [
      "WARNING:tensorflow:Unresolved object in checkpoint: (root).optimizer's state 'm' for (root).layer_with_weights-0.transformer/layer_10/self_attention/value/bias:0\n"
     ]
    },
    {
     "name": "stderr",
     "output_type": "stream",
     "text": [
      "WARNING:tensorflow:Unresolved object in checkpoint: (root).optimizer's state 'm' for (root).layer_with_weights-0.transformer/layer_10/self_attention/value/bias:0\n"
     ]
    },
    {
     "name": "stdout",
     "output_type": "stream",
     "text": [
      "WARNING:tensorflow:Unresolved object in checkpoint: (root).optimizer's state 'm' for (root).layer_with_weights-0.transformer/layer_10/self_attention/attention_output/kernel:0\n"
     ]
    },
    {
     "name": "stderr",
     "output_type": "stream",
     "text": [
      "WARNING:tensorflow:Unresolved object in checkpoint: (root).optimizer's state 'm' for (root).layer_with_weights-0.transformer/layer_10/self_attention/attention_output/kernel:0\n"
     ]
    },
    {
     "name": "stdout",
     "output_type": "stream",
     "text": [
      "WARNING:tensorflow:Unresolved object in checkpoint: (root).optimizer's state 'm' for (root).layer_with_weights-0.transformer/layer_10/self_attention/attention_output/bias:0\n"
     ]
    },
    {
     "name": "stderr",
     "output_type": "stream",
     "text": [
      "WARNING:tensorflow:Unresolved object in checkpoint: (root).optimizer's state 'm' for (root).layer_with_weights-0.transformer/layer_10/self_attention/attention_output/bias:0\n"
     ]
    },
    {
     "name": "stdout",
     "output_type": "stream",
     "text": [
      "WARNING:tensorflow:Unresolved object in checkpoint: (root).optimizer's state 'm' for (root).layer_with_weights-0.transformer/layer_10/self_attention_layer_norm/gamma:0\n"
     ]
    },
    {
     "name": "stderr",
     "output_type": "stream",
     "text": [
      "WARNING:tensorflow:Unresolved object in checkpoint: (root).optimizer's state 'm' for (root).layer_with_weights-0.transformer/layer_10/self_attention_layer_norm/gamma:0\n"
     ]
    },
    {
     "name": "stdout",
     "output_type": "stream",
     "text": [
      "WARNING:tensorflow:Unresolved object in checkpoint: (root).optimizer's state 'm' for (root).layer_with_weights-0.transformer/layer_10/self_attention_layer_norm/beta:0\n"
     ]
    },
    {
     "name": "stderr",
     "output_type": "stream",
     "text": [
      "WARNING:tensorflow:Unresolved object in checkpoint: (root).optimizer's state 'm' for (root).layer_with_weights-0.transformer/layer_10/self_attention_layer_norm/beta:0\n"
     ]
    },
    {
     "name": "stdout",
     "output_type": "stream",
     "text": [
      "WARNING:tensorflow:Unresolved object in checkpoint: (root).optimizer's state 'm' for (root).layer_with_weights-0.transformer/layer_10/intermediate/kernel:0\n"
     ]
    },
    {
     "name": "stderr",
     "output_type": "stream",
     "text": [
      "WARNING:tensorflow:Unresolved object in checkpoint: (root).optimizer's state 'm' for (root).layer_with_weights-0.transformer/layer_10/intermediate/kernel:0\n"
     ]
    },
    {
     "name": "stdout",
     "output_type": "stream",
     "text": [
      "WARNING:tensorflow:Unresolved object in checkpoint: (root).optimizer's state 'm' for (root).layer_with_weights-0.transformer/layer_10/intermediate/bias:0\n"
     ]
    },
    {
     "name": "stderr",
     "output_type": "stream",
     "text": [
      "WARNING:tensorflow:Unresolved object in checkpoint: (root).optimizer's state 'm' for (root).layer_with_weights-0.transformer/layer_10/intermediate/bias:0\n"
     ]
    },
    {
     "name": "stdout",
     "output_type": "stream",
     "text": [
      "WARNING:tensorflow:Unresolved object in checkpoint: (root).optimizer's state 'm' for (root).layer_with_weights-0.transformer/layer_10/output/kernel:0\n"
     ]
    },
    {
     "name": "stderr",
     "output_type": "stream",
     "text": [
      "WARNING:tensorflow:Unresolved object in checkpoint: (root).optimizer's state 'm' for (root).layer_with_weights-0.transformer/layer_10/output/kernel:0\n"
     ]
    },
    {
     "name": "stdout",
     "output_type": "stream",
     "text": [
      "WARNING:tensorflow:Unresolved object in checkpoint: (root).optimizer's state 'm' for (root).layer_with_weights-0.transformer/layer_10/output/bias:0\n"
     ]
    },
    {
     "name": "stderr",
     "output_type": "stream",
     "text": [
      "WARNING:tensorflow:Unresolved object in checkpoint: (root).optimizer's state 'm' for (root).layer_with_weights-0.transformer/layer_10/output/bias:0\n"
     ]
    },
    {
     "name": "stdout",
     "output_type": "stream",
     "text": [
      "WARNING:tensorflow:Unresolved object in checkpoint: (root).optimizer's state 'm' for (root).layer_with_weights-0.transformer/layer_10/output_layer_norm/gamma:0\n"
     ]
    },
    {
     "name": "stderr",
     "output_type": "stream",
     "text": [
      "WARNING:tensorflow:Unresolved object in checkpoint: (root).optimizer's state 'm' for (root).layer_with_weights-0.transformer/layer_10/output_layer_norm/gamma:0\n"
     ]
    },
    {
     "name": "stdout",
     "output_type": "stream",
     "text": [
      "WARNING:tensorflow:Unresolved object in checkpoint: (root).optimizer's state 'm' for (root).layer_with_weights-0.transformer/layer_10/output_layer_norm/beta:0\n"
     ]
    },
    {
     "name": "stderr",
     "output_type": "stream",
     "text": [
      "WARNING:tensorflow:Unresolved object in checkpoint: (root).optimizer's state 'm' for (root).layer_with_weights-0.transformer/layer_10/output_layer_norm/beta:0\n"
     ]
    },
    {
     "name": "stdout",
     "output_type": "stream",
     "text": [
      "WARNING:tensorflow:Unresolved object in checkpoint: (root).optimizer's state 'm' for (root).layer_with_weights-0.transformer/layer_11/self_attention/query/kernel:0\n"
     ]
    },
    {
     "name": "stderr",
     "output_type": "stream",
     "text": [
      "WARNING:tensorflow:Unresolved object in checkpoint: (root).optimizer's state 'm' for (root).layer_with_weights-0.transformer/layer_11/self_attention/query/kernel:0\n"
     ]
    },
    {
     "name": "stdout",
     "output_type": "stream",
     "text": [
      "WARNING:tensorflow:Unresolved object in checkpoint: (root).optimizer's state 'm' for (root).layer_with_weights-0.transformer/layer_11/self_attention/query/bias:0\n"
     ]
    },
    {
     "name": "stderr",
     "output_type": "stream",
     "text": [
      "WARNING:tensorflow:Unresolved object in checkpoint: (root).optimizer's state 'm' for (root).layer_with_weights-0.transformer/layer_11/self_attention/query/bias:0\n"
     ]
    },
    {
     "name": "stdout",
     "output_type": "stream",
     "text": [
      "WARNING:tensorflow:Unresolved object in checkpoint: (root).optimizer's state 'm' for (root).layer_with_weights-0.transformer/layer_11/self_attention/key/kernel:0\n"
     ]
    },
    {
     "name": "stderr",
     "output_type": "stream",
     "text": [
      "WARNING:tensorflow:Unresolved object in checkpoint: (root).optimizer's state 'm' for (root).layer_with_weights-0.transformer/layer_11/self_attention/key/kernel:0\n"
     ]
    },
    {
     "name": "stdout",
     "output_type": "stream",
     "text": [
      "WARNING:tensorflow:Unresolved object in checkpoint: (root).optimizer's state 'm' for (root).layer_with_weights-0.transformer/layer_11/self_attention/key/bias:0\n"
     ]
    },
    {
     "name": "stderr",
     "output_type": "stream",
     "text": [
      "WARNING:tensorflow:Unresolved object in checkpoint: (root).optimizer's state 'm' for (root).layer_with_weights-0.transformer/layer_11/self_attention/key/bias:0\n"
     ]
    },
    {
     "name": "stdout",
     "output_type": "stream",
     "text": [
      "WARNING:tensorflow:Unresolved object in checkpoint: (root).optimizer's state 'm' for (root).layer_with_weights-0.transformer/layer_11/self_attention/value/kernel:0\n"
     ]
    },
    {
     "name": "stderr",
     "output_type": "stream",
     "text": [
      "WARNING:tensorflow:Unresolved object in checkpoint: (root).optimizer's state 'm' for (root).layer_with_weights-0.transformer/layer_11/self_attention/value/kernel:0\n"
     ]
    },
    {
     "name": "stdout",
     "output_type": "stream",
     "text": [
      "WARNING:tensorflow:Unresolved object in checkpoint: (root).optimizer's state 'm' for (root).layer_with_weights-0.transformer/layer_11/self_attention/value/bias:0\n"
     ]
    },
    {
     "name": "stderr",
     "output_type": "stream",
     "text": [
      "WARNING:tensorflow:Unresolved object in checkpoint: (root).optimizer's state 'm' for (root).layer_with_weights-0.transformer/layer_11/self_attention/value/bias:0\n"
     ]
    },
    {
     "name": "stdout",
     "output_type": "stream",
     "text": [
      "WARNING:tensorflow:Unresolved object in checkpoint: (root).optimizer's state 'm' for (root).layer_with_weights-0.transformer/layer_11/self_attention/attention_output/kernel:0\n"
     ]
    },
    {
     "name": "stderr",
     "output_type": "stream",
     "text": [
      "WARNING:tensorflow:Unresolved object in checkpoint: (root).optimizer's state 'm' for (root).layer_with_weights-0.transformer/layer_11/self_attention/attention_output/kernel:0\n"
     ]
    },
    {
     "name": "stdout",
     "output_type": "stream",
     "text": [
      "WARNING:tensorflow:Unresolved object in checkpoint: (root).optimizer's state 'm' for (root).layer_with_weights-0.transformer/layer_11/self_attention/attention_output/bias:0\n"
     ]
    },
    {
     "name": "stderr",
     "output_type": "stream",
     "text": [
      "WARNING:tensorflow:Unresolved object in checkpoint: (root).optimizer's state 'm' for (root).layer_with_weights-0.transformer/layer_11/self_attention/attention_output/bias:0\n"
     ]
    },
    {
     "name": "stdout",
     "output_type": "stream",
     "text": [
      "WARNING:tensorflow:Unresolved object in checkpoint: (root).optimizer's state 'm' for (root).layer_with_weights-0.transformer/layer_11/self_attention_layer_norm/gamma:0\n"
     ]
    },
    {
     "name": "stderr",
     "output_type": "stream",
     "text": [
      "WARNING:tensorflow:Unresolved object in checkpoint: (root).optimizer's state 'm' for (root).layer_with_weights-0.transformer/layer_11/self_attention_layer_norm/gamma:0\n"
     ]
    },
    {
     "name": "stdout",
     "output_type": "stream",
     "text": [
      "WARNING:tensorflow:Unresolved object in checkpoint: (root).optimizer's state 'm' for (root).layer_with_weights-0.transformer/layer_11/self_attention_layer_norm/beta:0\n"
     ]
    },
    {
     "name": "stderr",
     "output_type": "stream",
     "text": [
      "WARNING:tensorflow:Unresolved object in checkpoint: (root).optimizer's state 'm' for (root).layer_with_weights-0.transformer/layer_11/self_attention_layer_norm/beta:0\n"
     ]
    },
    {
     "name": "stdout",
     "output_type": "stream",
     "text": [
      "WARNING:tensorflow:Unresolved object in checkpoint: (root).optimizer's state 'm' for (root).layer_with_weights-0.transformer/layer_11/intermediate/kernel:0\n"
     ]
    },
    {
     "name": "stderr",
     "output_type": "stream",
     "text": [
      "WARNING:tensorflow:Unresolved object in checkpoint: (root).optimizer's state 'm' for (root).layer_with_weights-0.transformer/layer_11/intermediate/kernel:0\n"
     ]
    },
    {
     "name": "stdout",
     "output_type": "stream",
     "text": [
      "WARNING:tensorflow:Unresolved object in checkpoint: (root).optimizer's state 'm' for (root).layer_with_weights-0.transformer/layer_11/intermediate/bias:0\n"
     ]
    },
    {
     "name": "stderr",
     "output_type": "stream",
     "text": [
      "WARNING:tensorflow:Unresolved object in checkpoint: (root).optimizer's state 'm' for (root).layer_with_weights-0.transformer/layer_11/intermediate/bias:0\n"
     ]
    },
    {
     "name": "stdout",
     "output_type": "stream",
     "text": [
      "WARNING:tensorflow:Unresolved object in checkpoint: (root).optimizer's state 'm' for (root).layer_with_weights-0.transformer/layer_11/output/kernel:0\n"
     ]
    },
    {
     "name": "stderr",
     "output_type": "stream",
     "text": [
      "WARNING:tensorflow:Unresolved object in checkpoint: (root).optimizer's state 'm' for (root).layer_with_weights-0.transformer/layer_11/output/kernel:0\n"
     ]
    },
    {
     "name": "stdout",
     "output_type": "stream",
     "text": [
      "WARNING:tensorflow:Unresolved object in checkpoint: (root).optimizer's state 'm' for (root).layer_with_weights-0.transformer/layer_11/output/bias:0\n"
     ]
    },
    {
     "name": "stderr",
     "output_type": "stream",
     "text": [
      "WARNING:tensorflow:Unresolved object in checkpoint: (root).optimizer's state 'm' for (root).layer_with_weights-0.transformer/layer_11/output/bias:0\n"
     ]
    },
    {
     "name": "stdout",
     "output_type": "stream",
     "text": [
      "WARNING:tensorflow:Unresolved object in checkpoint: (root).optimizer's state 'm' for (root).layer_with_weights-0.transformer/layer_11/output_layer_norm/gamma:0\n"
     ]
    },
    {
     "name": "stderr",
     "output_type": "stream",
     "text": [
      "WARNING:tensorflow:Unresolved object in checkpoint: (root).optimizer's state 'm' for (root).layer_with_weights-0.transformer/layer_11/output_layer_norm/gamma:0\n"
     ]
    },
    {
     "name": "stdout",
     "output_type": "stream",
     "text": [
      "WARNING:tensorflow:Unresolved object in checkpoint: (root).optimizer's state 'm' for (root).layer_with_weights-0.transformer/layer_11/output_layer_norm/beta:0\n"
     ]
    },
    {
     "name": "stderr",
     "output_type": "stream",
     "text": [
      "WARNING:tensorflow:Unresolved object in checkpoint: (root).optimizer's state 'm' for (root).layer_with_weights-0.transformer/layer_11/output_layer_norm/beta:0\n"
     ]
    },
    {
     "name": "stdout",
     "output_type": "stream",
     "text": [
      "WARNING:tensorflow:Unresolved object in checkpoint: (root).optimizer's state 'm' for (root).layer_with_weights-0.pooler_transform/kernel:0\n"
     ]
    },
    {
     "name": "stderr",
     "output_type": "stream",
     "text": [
      "WARNING:tensorflow:Unresolved object in checkpoint: (root).optimizer's state 'm' for (root).layer_with_weights-0.pooler_transform/kernel:0\n"
     ]
    },
    {
     "name": "stdout",
     "output_type": "stream",
     "text": [
      "WARNING:tensorflow:Unresolved object in checkpoint: (root).optimizer's state 'm' for (root).layer_with_weights-0.pooler_transform/bias:0\n"
     ]
    },
    {
     "name": "stderr",
     "output_type": "stream",
     "text": [
      "WARNING:tensorflow:Unresolved object in checkpoint: (root).optimizer's state 'm' for (root).layer_with_weights-0.pooler_transform/bias:0\n"
     ]
    },
    {
     "name": "stdout",
     "output_type": "stream",
     "text": [
      "WARNING:tensorflow:Unresolved object in checkpoint: (root).optimizer's state 'm' for (root).layer_with_weights-1.kernel\n"
     ]
    },
    {
     "name": "stderr",
     "output_type": "stream",
     "text": [
      "WARNING:tensorflow:Unresolved object in checkpoint: (root).optimizer's state 'm' for (root).layer_with_weights-1.kernel\n"
     ]
    },
    {
     "name": "stdout",
     "output_type": "stream",
     "text": [
      "WARNING:tensorflow:Unresolved object in checkpoint: (root).optimizer's state 'm' for (root).layer_with_weights-1.bias\n"
     ]
    },
    {
     "name": "stderr",
     "output_type": "stream",
     "text": [
      "WARNING:tensorflow:Unresolved object in checkpoint: (root).optimizer's state 'm' for (root).layer_with_weights-1.bias\n"
     ]
    },
    {
     "name": "stdout",
     "output_type": "stream",
     "text": [
      "WARNING:tensorflow:Unresolved object in checkpoint: (root).optimizer's state 'v' for (root).layer_with_weights-0.word_embeddings/embeddings:0\n"
     ]
    },
    {
     "name": "stderr",
     "output_type": "stream",
     "text": [
      "WARNING:tensorflow:Unresolved object in checkpoint: (root).optimizer's state 'v' for (root).layer_with_weights-0.word_embeddings/embeddings:0\n"
     ]
    },
    {
     "name": "stdout",
     "output_type": "stream",
     "text": [
      "WARNING:tensorflow:Unresolved object in checkpoint: (root).optimizer's state 'v' for (root).layer_with_weights-0.position_embedding/embeddings:0\n"
     ]
    },
    {
     "name": "stderr",
     "output_type": "stream",
     "text": [
      "WARNING:tensorflow:Unresolved object in checkpoint: (root).optimizer's state 'v' for (root).layer_with_weights-0.position_embedding/embeddings:0\n"
     ]
    },
    {
     "name": "stdout",
     "output_type": "stream",
     "text": [
      "WARNING:tensorflow:Unresolved object in checkpoint: (root).optimizer's state 'v' for (root).layer_with_weights-0.type_embeddings/embeddings:0\n"
     ]
    },
    {
     "name": "stderr",
     "output_type": "stream",
     "text": [
      "WARNING:tensorflow:Unresolved object in checkpoint: (root).optimizer's state 'v' for (root).layer_with_weights-0.type_embeddings/embeddings:0\n"
     ]
    },
    {
     "name": "stdout",
     "output_type": "stream",
     "text": [
      "WARNING:tensorflow:Unresolved object in checkpoint: (root).optimizer's state 'v' for (root).layer_with_weights-0.embeddings/layer_norm/gamma:0\n"
     ]
    },
    {
     "name": "stderr",
     "output_type": "stream",
     "text": [
      "WARNING:tensorflow:Unresolved object in checkpoint: (root).optimizer's state 'v' for (root).layer_with_weights-0.embeddings/layer_norm/gamma:0\n"
     ]
    },
    {
     "name": "stdout",
     "output_type": "stream",
     "text": [
      "WARNING:tensorflow:Unresolved object in checkpoint: (root).optimizer's state 'v' for (root).layer_with_weights-0.embeddings/layer_norm/beta:0\n"
     ]
    },
    {
     "name": "stderr",
     "output_type": "stream",
     "text": [
      "WARNING:tensorflow:Unresolved object in checkpoint: (root).optimizer's state 'v' for (root).layer_with_weights-0.embeddings/layer_norm/beta:0\n"
     ]
    },
    {
     "name": "stdout",
     "output_type": "stream",
     "text": [
      "WARNING:tensorflow:Unresolved object in checkpoint: (root).optimizer's state 'v' for (root).layer_with_weights-0.transformer/layer_0/self_attention/query/kernel:0\n"
     ]
    },
    {
     "name": "stderr",
     "output_type": "stream",
     "text": [
      "WARNING:tensorflow:Unresolved object in checkpoint: (root).optimizer's state 'v' for (root).layer_with_weights-0.transformer/layer_0/self_attention/query/kernel:0\n"
     ]
    },
    {
     "name": "stdout",
     "output_type": "stream",
     "text": [
      "WARNING:tensorflow:Unresolved object in checkpoint: (root).optimizer's state 'v' for (root).layer_with_weights-0.transformer/layer_0/self_attention/query/bias:0\n"
     ]
    },
    {
     "name": "stderr",
     "output_type": "stream",
     "text": [
      "WARNING:tensorflow:Unresolved object in checkpoint: (root).optimizer's state 'v' for (root).layer_with_weights-0.transformer/layer_0/self_attention/query/bias:0\n"
     ]
    },
    {
     "name": "stdout",
     "output_type": "stream",
     "text": [
      "WARNING:tensorflow:Unresolved object in checkpoint: (root).optimizer's state 'v' for (root).layer_with_weights-0.transformer/layer_0/self_attention/key/kernel:0\n"
     ]
    },
    {
     "name": "stderr",
     "output_type": "stream",
     "text": [
      "WARNING:tensorflow:Unresolved object in checkpoint: (root).optimizer's state 'v' for (root).layer_with_weights-0.transformer/layer_0/self_attention/key/kernel:0\n"
     ]
    },
    {
     "name": "stdout",
     "output_type": "stream",
     "text": [
      "WARNING:tensorflow:Unresolved object in checkpoint: (root).optimizer's state 'v' for (root).layer_with_weights-0.transformer/layer_0/self_attention/key/bias:0\n"
     ]
    },
    {
     "name": "stderr",
     "output_type": "stream",
     "text": [
      "WARNING:tensorflow:Unresolved object in checkpoint: (root).optimizer's state 'v' for (root).layer_with_weights-0.transformer/layer_0/self_attention/key/bias:0\n"
     ]
    },
    {
     "name": "stdout",
     "output_type": "stream",
     "text": [
      "WARNING:tensorflow:Unresolved object in checkpoint: (root).optimizer's state 'v' for (root).layer_with_weights-0.transformer/layer_0/self_attention/value/kernel:0\n"
     ]
    },
    {
     "name": "stderr",
     "output_type": "stream",
     "text": [
      "WARNING:tensorflow:Unresolved object in checkpoint: (root).optimizer's state 'v' for (root).layer_with_weights-0.transformer/layer_0/self_attention/value/kernel:0\n"
     ]
    },
    {
     "name": "stdout",
     "output_type": "stream",
     "text": [
      "WARNING:tensorflow:Unresolved object in checkpoint: (root).optimizer's state 'v' for (root).layer_with_weights-0.transformer/layer_0/self_attention/value/bias:0\n"
     ]
    },
    {
     "name": "stderr",
     "output_type": "stream",
     "text": [
      "WARNING:tensorflow:Unresolved object in checkpoint: (root).optimizer's state 'v' for (root).layer_with_weights-0.transformer/layer_0/self_attention/value/bias:0\n"
     ]
    },
    {
     "name": "stdout",
     "output_type": "stream",
     "text": [
      "WARNING:tensorflow:Unresolved object in checkpoint: (root).optimizer's state 'v' for (root).layer_with_weights-0.transformer/layer_0/self_attention/attention_output/kernel:0\n"
     ]
    },
    {
     "name": "stderr",
     "output_type": "stream",
     "text": [
      "WARNING:tensorflow:Unresolved object in checkpoint: (root).optimizer's state 'v' for (root).layer_with_weights-0.transformer/layer_0/self_attention/attention_output/kernel:0\n"
     ]
    },
    {
     "name": "stdout",
     "output_type": "stream",
     "text": [
      "WARNING:tensorflow:Unresolved object in checkpoint: (root).optimizer's state 'v' for (root).layer_with_weights-0.transformer/layer_0/self_attention/attention_output/bias:0\n"
     ]
    },
    {
     "name": "stderr",
     "output_type": "stream",
     "text": [
      "WARNING:tensorflow:Unresolved object in checkpoint: (root).optimizer's state 'v' for (root).layer_with_weights-0.transformer/layer_0/self_attention/attention_output/bias:0\n"
     ]
    },
    {
     "name": "stdout",
     "output_type": "stream",
     "text": [
      "WARNING:tensorflow:Unresolved object in checkpoint: (root).optimizer's state 'v' for (root).layer_with_weights-0.transformer/layer_0/self_attention_layer_norm/gamma:0\n"
     ]
    },
    {
     "name": "stderr",
     "output_type": "stream",
     "text": [
      "WARNING:tensorflow:Unresolved object in checkpoint: (root).optimizer's state 'v' for (root).layer_with_weights-0.transformer/layer_0/self_attention_layer_norm/gamma:0\n"
     ]
    },
    {
     "name": "stdout",
     "output_type": "stream",
     "text": [
      "WARNING:tensorflow:Unresolved object in checkpoint: (root).optimizer's state 'v' for (root).layer_with_weights-0.transformer/layer_0/self_attention_layer_norm/beta:0\n"
     ]
    },
    {
     "name": "stderr",
     "output_type": "stream",
     "text": [
      "WARNING:tensorflow:Unresolved object in checkpoint: (root).optimizer's state 'v' for (root).layer_with_weights-0.transformer/layer_0/self_attention_layer_norm/beta:0\n"
     ]
    },
    {
     "name": "stdout",
     "output_type": "stream",
     "text": [
      "WARNING:tensorflow:Unresolved object in checkpoint: (root).optimizer's state 'v' for (root).layer_with_weights-0.transformer/layer_0/intermediate/kernel:0\n"
     ]
    },
    {
     "name": "stderr",
     "output_type": "stream",
     "text": [
      "WARNING:tensorflow:Unresolved object in checkpoint: (root).optimizer's state 'v' for (root).layer_with_weights-0.transformer/layer_0/intermediate/kernel:0\n"
     ]
    },
    {
     "name": "stdout",
     "output_type": "stream",
     "text": [
      "WARNING:tensorflow:Unresolved object in checkpoint: (root).optimizer's state 'v' for (root).layer_with_weights-0.transformer/layer_0/intermediate/bias:0\n"
     ]
    },
    {
     "name": "stderr",
     "output_type": "stream",
     "text": [
      "WARNING:tensorflow:Unresolved object in checkpoint: (root).optimizer's state 'v' for (root).layer_with_weights-0.transformer/layer_0/intermediate/bias:0\n"
     ]
    },
    {
     "name": "stdout",
     "output_type": "stream",
     "text": [
      "WARNING:tensorflow:Unresolved object in checkpoint: (root).optimizer's state 'v' for (root).layer_with_weights-0.transformer/layer_0/output/kernel:0\n"
     ]
    },
    {
     "name": "stderr",
     "output_type": "stream",
     "text": [
      "WARNING:tensorflow:Unresolved object in checkpoint: (root).optimizer's state 'v' for (root).layer_with_weights-0.transformer/layer_0/output/kernel:0\n"
     ]
    },
    {
     "name": "stdout",
     "output_type": "stream",
     "text": [
      "WARNING:tensorflow:Unresolved object in checkpoint: (root).optimizer's state 'v' for (root).layer_with_weights-0.transformer/layer_0/output/bias:0\n"
     ]
    },
    {
     "name": "stderr",
     "output_type": "stream",
     "text": [
      "WARNING:tensorflow:Unresolved object in checkpoint: (root).optimizer's state 'v' for (root).layer_with_weights-0.transformer/layer_0/output/bias:0\n"
     ]
    },
    {
     "name": "stdout",
     "output_type": "stream",
     "text": [
      "WARNING:tensorflow:Unresolved object in checkpoint: (root).optimizer's state 'v' for (root).layer_with_weights-0.transformer/layer_0/output_layer_norm/gamma:0\n"
     ]
    },
    {
     "name": "stderr",
     "output_type": "stream",
     "text": [
      "WARNING:tensorflow:Unresolved object in checkpoint: (root).optimizer's state 'v' for (root).layer_with_weights-0.transformer/layer_0/output_layer_norm/gamma:0\n"
     ]
    },
    {
     "name": "stdout",
     "output_type": "stream",
     "text": [
      "WARNING:tensorflow:Unresolved object in checkpoint: (root).optimizer's state 'v' for (root).layer_with_weights-0.transformer/layer_0/output_layer_norm/beta:0\n"
     ]
    },
    {
     "name": "stderr",
     "output_type": "stream",
     "text": [
      "WARNING:tensorflow:Unresolved object in checkpoint: (root).optimizer's state 'v' for (root).layer_with_weights-0.transformer/layer_0/output_layer_norm/beta:0\n"
     ]
    },
    {
     "name": "stdout",
     "output_type": "stream",
     "text": [
      "WARNING:tensorflow:Unresolved object in checkpoint: (root).optimizer's state 'v' for (root).layer_with_weights-0.transformer/layer_1/self_attention/query/kernel:0\n"
     ]
    },
    {
     "name": "stderr",
     "output_type": "stream",
     "text": [
      "WARNING:tensorflow:Unresolved object in checkpoint: (root).optimizer's state 'v' for (root).layer_with_weights-0.transformer/layer_1/self_attention/query/kernel:0\n"
     ]
    },
    {
     "name": "stdout",
     "output_type": "stream",
     "text": [
      "WARNING:tensorflow:Unresolved object in checkpoint: (root).optimizer's state 'v' for (root).layer_with_weights-0.transformer/layer_1/self_attention/query/bias:0\n"
     ]
    },
    {
     "name": "stderr",
     "output_type": "stream",
     "text": [
      "WARNING:tensorflow:Unresolved object in checkpoint: (root).optimizer's state 'v' for (root).layer_with_weights-0.transformer/layer_1/self_attention/query/bias:0\n"
     ]
    },
    {
     "name": "stdout",
     "output_type": "stream",
     "text": [
      "WARNING:tensorflow:Unresolved object in checkpoint: (root).optimizer's state 'v' for (root).layer_with_weights-0.transformer/layer_1/self_attention/key/kernel:0\n"
     ]
    },
    {
     "name": "stderr",
     "output_type": "stream",
     "text": [
      "WARNING:tensorflow:Unresolved object in checkpoint: (root).optimizer's state 'v' for (root).layer_with_weights-0.transformer/layer_1/self_attention/key/kernel:0\n"
     ]
    },
    {
     "name": "stdout",
     "output_type": "stream",
     "text": [
      "WARNING:tensorflow:Unresolved object in checkpoint: (root).optimizer's state 'v' for (root).layer_with_weights-0.transformer/layer_1/self_attention/key/bias:0\n"
     ]
    },
    {
     "name": "stderr",
     "output_type": "stream",
     "text": [
      "WARNING:tensorflow:Unresolved object in checkpoint: (root).optimizer's state 'v' for (root).layer_with_weights-0.transformer/layer_1/self_attention/key/bias:0\n"
     ]
    },
    {
     "name": "stdout",
     "output_type": "stream",
     "text": [
      "WARNING:tensorflow:Unresolved object in checkpoint: (root).optimizer's state 'v' for (root).layer_with_weights-0.transformer/layer_1/self_attention/value/kernel:0\n"
     ]
    },
    {
     "name": "stderr",
     "output_type": "stream",
     "text": [
      "WARNING:tensorflow:Unresolved object in checkpoint: (root).optimizer's state 'v' for (root).layer_with_weights-0.transformer/layer_1/self_attention/value/kernel:0\n"
     ]
    },
    {
     "name": "stdout",
     "output_type": "stream",
     "text": [
      "WARNING:tensorflow:Unresolved object in checkpoint: (root).optimizer's state 'v' for (root).layer_with_weights-0.transformer/layer_1/self_attention/value/bias:0\n"
     ]
    },
    {
     "name": "stderr",
     "output_type": "stream",
     "text": [
      "WARNING:tensorflow:Unresolved object in checkpoint: (root).optimizer's state 'v' for (root).layer_with_weights-0.transformer/layer_1/self_attention/value/bias:0\n"
     ]
    },
    {
     "name": "stdout",
     "output_type": "stream",
     "text": [
      "WARNING:tensorflow:Unresolved object in checkpoint: (root).optimizer's state 'v' for (root).layer_with_weights-0.transformer/layer_1/self_attention/attention_output/kernel:0\n"
     ]
    },
    {
     "name": "stderr",
     "output_type": "stream",
     "text": [
      "WARNING:tensorflow:Unresolved object in checkpoint: (root).optimizer's state 'v' for (root).layer_with_weights-0.transformer/layer_1/self_attention/attention_output/kernel:0\n"
     ]
    },
    {
     "name": "stdout",
     "output_type": "stream",
     "text": [
      "WARNING:tensorflow:Unresolved object in checkpoint: (root).optimizer's state 'v' for (root).layer_with_weights-0.transformer/layer_1/self_attention/attention_output/bias:0\n"
     ]
    },
    {
     "name": "stderr",
     "output_type": "stream",
     "text": [
      "WARNING:tensorflow:Unresolved object in checkpoint: (root).optimizer's state 'v' for (root).layer_with_weights-0.transformer/layer_1/self_attention/attention_output/bias:0\n"
     ]
    },
    {
     "name": "stdout",
     "output_type": "stream",
     "text": [
      "WARNING:tensorflow:Unresolved object in checkpoint: (root).optimizer's state 'v' for (root).layer_with_weights-0.transformer/layer_1/self_attention_layer_norm/gamma:0\n"
     ]
    },
    {
     "name": "stderr",
     "output_type": "stream",
     "text": [
      "WARNING:tensorflow:Unresolved object in checkpoint: (root).optimizer's state 'v' for (root).layer_with_weights-0.transformer/layer_1/self_attention_layer_norm/gamma:0\n"
     ]
    },
    {
     "name": "stdout",
     "output_type": "stream",
     "text": [
      "WARNING:tensorflow:Unresolved object in checkpoint: (root).optimizer's state 'v' for (root).layer_with_weights-0.transformer/layer_1/self_attention_layer_norm/beta:0\n"
     ]
    },
    {
     "name": "stderr",
     "output_type": "stream",
     "text": [
      "WARNING:tensorflow:Unresolved object in checkpoint: (root).optimizer's state 'v' for (root).layer_with_weights-0.transformer/layer_1/self_attention_layer_norm/beta:0\n"
     ]
    },
    {
     "name": "stdout",
     "output_type": "stream",
     "text": [
      "WARNING:tensorflow:Unresolved object in checkpoint: (root).optimizer's state 'v' for (root).layer_with_weights-0.transformer/layer_1/intermediate/kernel:0\n"
     ]
    },
    {
     "name": "stderr",
     "output_type": "stream",
     "text": [
      "WARNING:tensorflow:Unresolved object in checkpoint: (root).optimizer's state 'v' for (root).layer_with_weights-0.transformer/layer_1/intermediate/kernel:0\n"
     ]
    },
    {
     "name": "stdout",
     "output_type": "stream",
     "text": [
      "WARNING:tensorflow:Unresolved object in checkpoint: (root).optimizer's state 'v' for (root).layer_with_weights-0.transformer/layer_1/intermediate/bias:0\n"
     ]
    },
    {
     "name": "stderr",
     "output_type": "stream",
     "text": [
      "WARNING:tensorflow:Unresolved object in checkpoint: (root).optimizer's state 'v' for (root).layer_with_weights-0.transformer/layer_1/intermediate/bias:0\n"
     ]
    },
    {
     "name": "stdout",
     "output_type": "stream",
     "text": [
      "WARNING:tensorflow:Unresolved object in checkpoint: (root).optimizer's state 'v' for (root).layer_with_weights-0.transformer/layer_1/output/kernel:0\n"
     ]
    },
    {
     "name": "stderr",
     "output_type": "stream",
     "text": [
      "WARNING:tensorflow:Unresolved object in checkpoint: (root).optimizer's state 'v' for (root).layer_with_weights-0.transformer/layer_1/output/kernel:0\n"
     ]
    },
    {
     "name": "stdout",
     "output_type": "stream",
     "text": [
      "WARNING:tensorflow:Unresolved object in checkpoint: (root).optimizer's state 'v' for (root).layer_with_weights-0.transformer/layer_1/output/bias:0\n"
     ]
    },
    {
     "name": "stderr",
     "output_type": "stream",
     "text": [
      "WARNING:tensorflow:Unresolved object in checkpoint: (root).optimizer's state 'v' for (root).layer_with_weights-0.transformer/layer_1/output/bias:0\n"
     ]
    },
    {
     "name": "stdout",
     "output_type": "stream",
     "text": [
      "WARNING:tensorflow:Unresolved object in checkpoint: (root).optimizer's state 'v' for (root).layer_with_weights-0.transformer/layer_1/output_layer_norm/gamma:0\n"
     ]
    },
    {
     "name": "stderr",
     "output_type": "stream",
     "text": [
      "WARNING:tensorflow:Unresolved object in checkpoint: (root).optimizer's state 'v' for (root).layer_with_weights-0.transformer/layer_1/output_layer_norm/gamma:0\n"
     ]
    },
    {
     "name": "stdout",
     "output_type": "stream",
     "text": [
      "WARNING:tensorflow:Unresolved object in checkpoint: (root).optimizer's state 'v' for (root).layer_with_weights-0.transformer/layer_1/output_layer_norm/beta:0\n"
     ]
    },
    {
     "name": "stderr",
     "output_type": "stream",
     "text": [
      "WARNING:tensorflow:Unresolved object in checkpoint: (root).optimizer's state 'v' for (root).layer_with_weights-0.transformer/layer_1/output_layer_norm/beta:0\n"
     ]
    },
    {
     "name": "stdout",
     "output_type": "stream",
     "text": [
      "WARNING:tensorflow:Unresolved object in checkpoint: (root).optimizer's state 'v' for (root).layer_with_weights-0.transformer/layer_2/self_attention/query/kernel:0\n"
     ]
    },
    {
     "name": "stderr",
     "output_type": "stream",
     "text": [
      "WARNING:tensorflow:Unresolved object in checkpoint: (root).optimizer's state 'v' for (root).layer_with_weights-0.transformer/layer_2/self_attention/query/kernel:0\n"
     ]
    },
    {
     "name": "stdout",
     "output_type": "stream",
     "text": [
      "WARNING:tensorflow:Unresolved object in checkpoint: (root).optimizer's state 'v' for (root).layer_with_weights-0.transformer/layer_2/self_attention/query/bias:0\n"
     ]
    },
    {
     "name": "stderr",
     "output_type": "stream",
     "text": [
      "WARNING:tensorflow:Unresolved object in checkpoint: (root).optimizer's state 'v' for (root).layer_with_weights-0.transformer/layer_2/self_attention/query/bias:0\n"
     ]
    },
    {
     "name": "stdout",
     "output_type": "stream",
     "text": [
      "WARNING:tensorflow:Unresolved object in checkpoint: (root).optimizer's state 'v' for (root).layer_with_weights-0.transformer/layer_2/self_attention/key/kernel:0\n"
     ]
    },
    {
     "name": "stderr",
     "output_type": "stream",
     "text": [
      "WARNING:tensorflow:Unresolved object in checkpoint: (root).optimizer's state 'v' for (root).layer_with_weights-0.transformer/layer_2/self_attention/key/kernel:0\n"
     ]
    },
    {
     "name": "stdout",
     "output_type": "stream",
     "text": [
      "WARNING:tensorflow:Unresolved object in checkpoint: (root).optimizer's state 'v' for (root).layer_with_weights-0.transformer/layer_2/self_attention/key/bias:0\n"
     ]
    },
    {
     "name": "stderr",
     "output_type": "stream",
     "text": [
      "WARNING:tensorflow:Unresolved object in checkpoint: (root).optimizer's state 'v' for (root).layer_with_weights-0.transformer/layer_2/self_attention/key/bias:0\n"
     ]
    },
    {
     "name": "stdout",
     "output_type": "stream",
     "text": [
      "WARNING:tensorflow:Unresolved object in checkpoint: (root).optimizer's state 'v' for (root).layer_with_weights-0.transformer/layer_2/self_attention/value/kernel:0\n"
     ]
    },
    {
     "name": "stderr",
     "output_type": "stream",
     "text": [
      "WARNING:tensorflow:Unresolved object in checkpoint: (root).optimizer's state 'v' for (root).layer_with_weights-0.transformer/layer_2/self_attention/value/kernel:0\n"
     ]
    },
    {
     "name": "stdout",
     "output_type": "stream",
     "text": [
      "WARNING:tensorflow:Unresolved object in checkpoint: (root).optimizer's state 'v' for (root).layer_with_weights-0.transformer/layer_2/self_attention/value/bias:0\n"
     ]
    },
    {
     "name": "stderr",
     "output_type": "stream",
     "text": [
      "WARNING:tensorflow:Unresolved object in checkpoint: (root).optimizer's state 'v' for (root).layer_with_weights-0.transformer/layer_2/self_attention/value/bias:0\n"
     ]
    },
    {
     "name": "stdout",
     "output_type": "stream",
     "text": [
      "WARNING:tensorflow:Unresolved object in checkpoint: (root).optimizer's state 'v' for (root).layer_with_weights-0.transformer/layer_2/self_attention/attention_output/kernel:0\n"
     ]
    },
    {
     "name": "stderr",
     "output_type": "stream",
     "text": [
      "WARNING:tensorflow:Unresolved object in checkpoint: (root).optimizer's state 'v' for (root).layer_with_weights-0.transformer/layer_2/self_attention/attention_output/kernel:0\n"
     ]
    },
    {
     "name": "stdout",
     "output_type": "stream",
     "text": [
      "WARNING:tensorflow:Unresolved object in checkpoint: (root).optimizer's state 'v' for (root).layer_with_weights-0.transformer/layer_2/self_attention/attention_output/bias:0\n"
     ]
    },
    {
     "name": "stderr",
     "output_type": "stream",
     "text": [
      "WARNING:tensorflow:Unresolved object in checkpoint: (root).optimizer's state 'v' for (root).layer_with_weights-0.transformer/layer_2/self_attention/attention_output/bias:0\n"
     ]
    },
    {
     "name": "stdout",
     "output_type": "stream",
     "text": [
      "WARNING:tensorflow:Unresolved object in checkpoint: (root).optimizer's state 'v' for (root).layer_with_weights-0.transformer/layer_2/self_attention_layer_norm/gamma:0\n"
     ]
    },
    {
     "name": "stderr",
     "output_type": "stream",
     "text": [
      "WARNING:tensorflow:Unresolved object in checkpoint: (root).optimizer's state 'v' for (root).layer_with_weights-0.transformer/layer_2/self_attention_layer_norm/gamma:0\n"
     ]
    },
    {
     "name": "stdout",
     "output_type": "stream",
     "text": [
      "WARNING:tensorflow:Unresolved object in checkpoint: (root).optimizer's state 'v' for (root).layer_with_weights-0.transformer/layer_2/self_attention_layer_norm/beta:0\n"
     ]
    },
    {
     "name": "stderr",
     "output_type": "stream",
     "text": [
      "WARNING:tensorflow:Unresolved object in checkpoint: (root).optimizer's state 'v' for (root).layer_with_weights-0.transformer/layer_2/self_attention_layer_norm/beta:0\n"
     ]
    },
    {
     "name": "stdout",
     "output_type": "stream",
     "text": [
      "WARNING:tensorflow:Unresolved object in checkpoint: (root).optimizer's state 'v' for (root).layer_with_weights-0.transformer/layer_2/intermediate/kernel:0\n"
     ]
    },
    {
     "name": "stderr",
     "output_type": "stream",
     "text": [
      "WARNING:tensorflow:Unresolved object in checkpoint: (root).optimizer's state 'v' for (root).layer_with_weights-0.transformer/layer_2/intermediate/kernel:0\n"
     ]
    },
    {
     "name": "stdout",
     "output_type": "stream",
     "text": [
      "WARNING:tensorflow:Unresolved object in checkpoint: (root).optimizer's state 'v' for (root).layer_with_weights-0.transformer/layer_2/intermediate/bias:0\n"
     ]
    },
    {
     "name": "stderr",
     "output_type": "stream",
     "text": [
      "WARNING:tensorflow:Unresolved object in checkpoint: (root).optimizer's state 'v' for (root).layer_with_weights-0.transformer/layer_2/intermediate/bias:0\n"
     ]
    },
    {
     "name": "stdout",
     "output_type": "stream",
     "text": [
      "WARNING:tensorflow:Unresolved object in checkpoint: (root).optimizer's state 'v' for (root).layer_with_weights-0.transformer/layer_2/output/kernel:0\n"
     ]
    },
    {
     "name": "stderr",
     "output_type": "stream",
     "text": [
      "WARNING:tensorflow:Unresolved object in checkpoint: (root).optimizer's state 'v' for (root).layer_with_weights-0.transformer/layer_2/output/kernel:0\n"
     ]
    },
    {
     "name": "stdout",
     "output_type": "stream",
     "text": [
      "WARNING:tensorflow:Unresolved object in checkpoint: (root).optimizer's state 'v' for (root).layer_with_weights-0.transformer/layer_2/output/bias:0\n"
     ]
    },
    {
     "name": "stderr",
     "output_type": "stream",
     "text": [
      "WARNING:tensorflow:Unresolved object in checkpoint: (root).optimizer's state 'v' for (root).layer_with_weights-0.transformer/layer_2/output/bias:0\n"
     ]
    },
    {
     "name": "stdout",
     "output_type": "stream",
     "text": [
      "WARNING:tensorflow:Unresolved object in checkpoint: (root).optimizer's state 'v' for (root).layer_with_weights-0.transformer/layer_2/output_layer_norm/gamma:0\n"
     ]
    },
    {
     "name": "stderr",
     "output_type": "stream",
     "text": [
      "WARNING:tensorflow:Unresolved object in checkpoint: (root).optimizer's state 'v' for (root).layer_with_weights-0.transformer/layer_2/output_layer_norm/gamma:0\n"
     ]
    },
    {
     "name": "stdout",
     "output_type": "stream",
     "text": [
      "WARNING:tensorflow:Unresolved object in checkpoint: (root).optimizer's state 'v' for (root).layer_with_weights-0.transformer/layer_2/output_layer_norm/beta:0\n"
     ]
    },
    {
     "name": "stderr",
     "output_type": "stream",
     "text": [
      "WARNING:tensorflow:Unresolved object in checkpoint: (root).optimizer's state 'v' for (root).layer_with_weights-0.transformer/layer_2/output_layer_norm/beta:0\n"
     ]
    },
    {
     "name": "stdout",
     "output_type": "stream",
     "text": [
      "WARNING:tensorflow:Unresolved object in checkpoint: (root).optimizer's state 'v' for (root).layer_with_weights-0.transformer/layer_3/self_attention/query/kernel:0\n"
     ]
    },
    {
     "name": "stderr",
     "output_type": "stream",
     "text": [
      "WARNING:tensorflow:Unresolved object in checkpoint: (root).optimizer's state 'v' for (root).layer_with_weights-0.transformer/layer_3/self_attention/query/kernel:0\n"
     ]
    },
    {
     "name": "stdout",
     "output_type": "stream",
     "text": [
      "WARNING:tensorflow:Unresolved object in checkpoint: (root).optimizer's state 'v' for (root).layer_with_weights-0.transformer/layer_3/self_attention/query/bias:0\n"
     ]
    },
    {
     "name": "stderr",
     "output_type": "stream",
     "text": [
      "WARNING:tensorflow:Unresolved object in checkpoint: (root).optimizer's state 'v' for (root).layer_with_weights-0.transformer/layer_3/self_attention/query/bias:0\n"
     ]
    },
    {
     "name": "stdout",
     "output_type": "stream",
     "text": [
      "WARNING:tensorflow:Unresolved object in checkpoint: (root).optimizer's state 'v' for (root).layer_with_weights-0.transformer/layer_3/self_attention/key/kernel:0\n"
     ]
    },
    {
     "name": "stderr",
     "output_type": "stream",
     "text": [
      "WARNING:tensorflow:Unresolved object in checkpoint: (root).optimizer's state 'v' for (root).layer_with_weights-0.transformer/layer_3/self_attention/key/kernel:0\n"
     ]
    },
    {
     "name": "stdout",
     "output_type": "stream",
     "text": [
      "WARNING:tensorflow:Unresolved object in checkpoint: (root).optimizer's state 'v' for (root).layer_with_weights-0.transformer/layer_3/self_attention/key/bias:0\n"
     ]
    },
    {
     "name": "stderr",
     "output_type": "stream",
     "text": [
      "WARNING:tensorflow:Unresolved object in checkpoint: (root).optimizer's state 'v' for (root).layer_with_weights-0.transformer/layer_3/self_attention/key/bias:0\n"
     ]
    },
    {
     "name": "stdout",
     "output_type": "stream",
     "text": [
      "WARNING:tensorflow:Unresolved object in checkpoint: (root).optimizer's state 'v' for (root).layer_with_weights-0.transformer/layer_3/self_attention/value/kernel:0\n"
     ]
    },
    {
     "name": "stderr",
     "output_type": "stream",
     "text": [
      "WARNING:tensorflow:Unresolved object in checkpoint: (root).optimizer's state 'v' for (root).layer_with_weights-0.transformer/layer_3/self_attention/value/kernel:0\n"
     ]
    },
    {
     "name": "stdout",
     "output_type": "stream",
     "text": [
      "WARNING:tensorflow:Unresolved object in checkpoint: (root).optimizer's state 'v' for (root).layer_with_weights-0.transformer/layer_3/self_attention/value/bias:0\n"
     ]
    },
    {
     "name": "stderr",
     "output_type": "stream",
     "text": [
      "WARNING:tensorflow:Unresolved object in checkpoint: (root).optimizer's state 'v' for (root).layer_with_weights-0.transformer/layer_3/self_attention/value/bias:0\n"
     ]
    },
    {
     "name": "stdout",
     "output_type": "stream",
     "text": [
      "WARNING:tensorflow:Unresolved object in checkpoint: (root).optimizer's state 'v' for (root).layer_with_weights-0.transformer/layer_3/self_attention/attention_output/kernel:0\n"
     ]
    },
    {
     "name": "stderr",
     "output_type": "stream",
     "text": [
      "WARNING:tensorflow:Unresolved object in checkpoint: (root).optimizer's state 'v' for (root).layer_with_weights-0.transformer/layer_3/self_attention/attention_output/kernel:0\n"
     ]
    },
    {
     "name": "stdout",
     "output_type": "stream",
     "text": [
      "WARNING:tensorflow:Unresolved object in checkpoint: (root).optimizer's state 'v' for (root).layer_with_weights-0.transformer/layer_3/self_attention/attention_output/bias:0\n"
     ]
    },
    {
     "name": "stderr",
     "output_type": "stream",
     "text": [
      "WARNING:tensorflow:Unresolved object in checkpoint: (root).optimizer's state 'v' for (root).layer_with_weights-0.transformer/layer_3/self_attention/attention_output/bias:0\n"
     ]
    },
    {
     "name": "stdout",
     "output_type": "stream",
     "text": [
      "WARNING:tensorflow:Unresolved object in checkpoint: (root).optimizer's state 'v' for (root).layer_with_weights-0.transformer/layer_3/self_attention_layer_norm/gamma:0\n"
     ]
    },
    {
     "name": "stderr",
     "output_type": "stream",
     "text": [
      "WARNING:tensorflow:Unresolved object in checkpoint: (root).optimizer's state 'v' for (root).layer_with_weights-0.transformer/layer_3/self_attention_layer_norm/gamma:0\n"
     ]
    },
    {
     "name": "stdout",
     "output_type": "stream",
     "text": [
      "WARNING:tensorflow:Unresolved object in checkpoint: (root).optimizer's state 'v' for (root).layer_with_weights-0.transformer/layer_3/self_attention_layer_norm/beta:0\n"
     ]
    },
    {
     "name": "stderr",
     "output_type": "stream",
     "text": [
      "WARNING:tensorflow:Unresolved object in checkpoint: (root).optimizer's state 'v' for (root).layer_with_weights-0.transformer/layer_3/self_attention_layer_norm/beta:0\n"
     ]
    },
    {
     "name": "stdout",
     "output_type": "stream",
     "text": [
      "WARNING:tensorflow:Unresolved object in checkpoint: (root).optimizer's state 'v' for (root).layer_with_weights-0.transformer/layer_3/intermediate/kernel:0\n"
     ]
    },
    {
     "name": "stderr",
     "output_type": "stream",
     "text": [
      "WARNING:tensorflow:Unresolved object in checkpoint: (root).optimizer's state 'v' for (root).layer_with_weights-0.transformer/layer_3/intermediate/kernel:0\n"
     ]
    },
    {
     "name": "stdout",
     "output_type": "stream",
     "text": [
      "WARNING:tensorflow:Unresolved object in checkpoint: (root).optimizer's state 'v' for (root).layer_with_weights-0.transformer/layer_3/intermediate/bias:0\n"
     ]
    },
    {
     "name": "stderr",
     "output_type": "stream",
     "text": [
      "WARNING:tensorflow:Unresolved object in checkpoint: (root).optimizer's state 'v' for (root).layer_with_weights-0.transformer/layer_3/intermediate/bias:0\n"
     ]
    },
    {
     "name": "stdout",
     "output_type": "stream",
     "text": [
      "WARNING:tensorflow:Unresolved object in checkpoint: (root).optimizer's state 'v' for (root).layer_with_weights-0.transformer/layer_3/output/kernel:0\n"
     ]
    },
    {
     "name": "stderr",
     "output_type": "stream",
     "text": [
      "WARNING:tensorflow:Unresolved object in checkpoint: (root).optimizer's state 'v' for (root).layer_with_weights-0.transformer/layer_3/output/kernel:0\n"
     ]
    },
    {
     "name": "stdout",
     "output_type": "stream",
     "text": [
      "WARNING:tensorflow:Unresolved object in checkpoint: (root).optimizer's state 'v' for (root).layer_with_weights-0.transformer/layer_3/output/bias:0\n"
     ]
    },
    {
     "name": "stderr",
     "output_type": "stream",
     "text": [
      "WARNING:tensorflow:Unresolved object in checkpoint: (root).optimizer's state 'v' for (root).layer_with_weights-0.transformer/layer_3/output/bias:0\n"
     ]
    },
    {
     "name": "stdout",
     "output_type": "stream",
     "text": [
      "WARNING:tensorflow:Unresolved object in checkpoint: (root).optimizer's state 'v' for (root).layer_with_weights-0.transformer/layer_3/output_layer_norm/gamma:0\n"
     ]
    },
    {
     "name": "stderr",
     "output_type": "stream",
     "text": [
      "WARNING:tensorflow:Unresolved object in checkpoint: (root).optimizer's state 'v' for (root).layer_with_weights-0.transformer/layer_3/output_layer_norm/gamma:0\n"
     ]
    },
    {
     "name": "stdout",
     "output_type": "stream",
     "text": [
      "WARNING:tensorflow:Unresolved object in checkpoint: (root).optimizer's state 'v' for (root).layer_with_weights-0.transformer/layer_3/output_layer_norm/beta:0\n"
     ]
    },
    {
     "name": "stderr",
     "output_type": "stream",
     "text": [
      "WARNING:tensorflow:Unresolved object in checkpoint: (root).optimizer's state 'v' for (root).layer_with_weights-0.transformer/layer_3/output_layer_norm/beta:0\n"
     ]
    },
    {
     "name": "stdout",
     "output_type": "stream",
     "text": [
      "WARNING:tensorflow:Unresolved object in checkpoint: (root).optimizer's state 'v' for (root).layer_with_weights-0.transformer/layer_4/self_attention/query/kernel:0\n"
     ]
    },
    {
     "name": "stderr",
     "output_type": "stream",
     "text": [
      "WARNING:tensorflow:Unresolved object in checkpoint: (root).optimizer's state 'v' for (root).layer_with_weights-0.transformer/layer_4/self_attention/query/kernel:0\n"
     ]
    },
    {
     "name": "stdout",
     "output_type": "stream",
     "text": [
      "WARNING:tensorflow:Unresolved object in checkpoint: (root).optimizer's state 'v' for (root).layer_with_weights-0.transformer/layer_4/self_attention/query/bias:0\n"
     ]
    },
    {
     "name": "stderr",
     "output_type": "stream",
     "text": [
      "WARNING:tensorflow:Unresolved object in checkpoint: (root).optimizer's state 'v' for (root).layer_with_weights-0.transformer/layer_4/self_attention/query/bias:0\n"
     ]
    },
    {
     "name": "stdout",
     "output_type": "stream",
     "text": [
      "WARNING:tensorflow:Unresolved object in checkpoint: (root).optimizer's state 'v' for (root).layer_with_weights-0.transformer/layer_4/self_attention/key/kernel:0\n"
     ]
    },
    {
     "name": "stderr",
     "output_type": "stream",
     "text": [
      "WARNING:tensorflow:Unresolved object in checkpoint: (root).optimizer's state 'v' for (root).layer_with_weights-0.transformer/layer_4/self_attention/key/kernel:0\n"
     ]
    },
    {
     "name": "stdout",
     "output_type": "stream",
     "text": [
      "WARNING:tensorflow:Unresolved object in checkpoint: (root).optimizer's state 'v' for (root).layer_with_weights-0.transformer/layer_4/self_attention/key/bias:0\n"
     ]
    },
    {
     "name": "stderr",
     "output_type": "stream",
     "text": [
      "WARNING:tensorflow:Unresolved object in checkpoint: (root).optimizer's state 'v' for (root).layer_with_weights-0.transformer/layer_4/self_attention/key/bias:0\n"
     ]
    },
    {
     "name": "stdout",
     "output_type": "stream",
     "text": [
      "WARNING:tensorflow:Unresolved object in checkpoint: (root).optimizer's state 'v' for (root).layer_with_weights-0.transformer/layer_4/self_attention/value/kernel:0\n"
     ]
    },
    {
     "name": "stderr",
     "output_type": "stream",
     "text": [
      "WARNING:tensorflow:Unresolved object in checkpoint: (root).optimizer's state 'v' for (root).layer_with_weights-0.transformer/layer_4/self_attention/value/kernel:0\n"
     ]
    },
    {
     "name": "stdout",
     "output_type": "stream",
     "text": [
      "WARNING:tensorflow:Unresolved object in checkpoint: (root).optimizer's state 'v' for (root).layer_with_weights-0.transformer/layer_4/self_attention/value/bias:0\n"
     ]
    },
    {
     "name": "stderr",
     "output_type": "stream",
     "text": [
      "WARNING:tensorflow:Unresolved object in checkpoint: (root).optimizer's state 'v' for (root).layer_with_weights-0.transformer/layer_4/self_attention/value/bias:0\n"
     ]
    },
    {
     "name": "stdout",
     "output_type": "stream",
     "text": [
      "WARNING:tensorflow:Unresolved object in checkpoint: (root).optimizer's state 'v' for (root).layer_with_weights-0.transformer/layer_4/self_attention/attention_output/kernel:0\n"
     ]
    },
    {
     "name": "stderr",
     "output_type": "stream",
     "text": [
      "WARNING:tensorflow:Unresolved object in checkpoint: (root).optimizer's state 'v' for (root).layer_with_weights-0.transformer/layer_4/self_attention/attention_output/kernel:0\n"
     ]
    },
    {
     "name": "stdout",
     "output_type": "stream",
     "text": [
      "WARNING:tensorflow:Unresolved object in checkpoint: (root).optimizer's state 'v' for (root).layer_with_weights-0.transformer/layer_4/self_attention/attention_output/bias:0\n"
     ]
    },
    {
     "name": "stderr",
     "output_type": "stream",
     "text": [
      "WARNING:tensorflow:Unresolved object in checkpoint: (root).optimizer's state 'v' for (root).layer_with_weights-0.transformer/layer_4/self_attention/attention_output/bias:0\n"
     ]
    },
    {
     "name": "stdout",
     "output_type": "stream",
     "text": [
      "WARNING:tensorflow:Unresolved object in checkpoint: (root).optimizer's state 'v' for (root).layer_with_weights-0.transformer/layer_4/self_attention_layer_norm/gamma:0\n"
     ]
    },
    {
     "name": "stderr",
     "output_type": "stream",
     "text": [
      "WARNING:tensorflow:Unresolved object in checkpoint: (root).optimizer's state 'v' for (root).layer_with_weights-0.transformer/layer_4/self_attention_layer_norm/gamma:0\n"
     ]
    },
    {
     "name": "stdout",
     "output_type": "stream",
     "text": [
      "WARNING:tensorflow:Unresolved object in checkpoint: (root).optimizer's state 'v' for (root).layer_with_weights-0.transformer/layer_4/self_attention_layer_norm/beta:0\n"
     ]
    },
    {
     "name": "stderr",
     "output_type": "stream",
     "text": [
      "WARNING:tensorflow:Unresolved object in checkpoint: (root).optimizer's state 'v' for (root).layer_with_weights-0.transformer/layer_4/self_attention_layer_norm/beta:0\n"
     ]
    },
    {
     "name": "stdout",
     "output_type": "stream",
     "text": [
      "WARNING:tensorflow:Unresolved object in checkpoint: (root).optimizer's state 'v' for (root).layer_with_weights-0.transformer/layer_4/intermediate/kernel:0\n"
     ]
    },
    {
     "name": "stderr",
     "output_type": "stream",
     "text": [
      "WARNING:tensorflow:Unresolved object in checkpoint: (root).optimizer's state 'v' for (root).layer_with_weights-0.transformer/layer_4/intermediate/kernel:0\n"
     ]
    },
    {
     "name": "stdout",
     "output_type": "stream",
     "text": [
      "WARNING:tensorflow:Unresolved object in checkpoint: (root).optimizer's state 'v' for (root).layer_with_weights-0.transformer/layer_4/intermediate/bias:0\n"
     ]
    },
    {
     "name": "stderr",
     "output_type": "stream",
     "text": [
      "WARNING:tensorflow:Unresolved object in checkpoint: (root).optimizer's state 'v' for (root).layer_with_weights-0.transformer/layer_4/intermediate/bias:0\n"
     ]
    },
    {
     "name": "stdout",
     "output_type": "stream",
     "text": [
      "WARNING:tensorflow:Unresolved object in checkpoint: (root).optimizer's state 'v' for (root).layer_with_weights-0.transformer/layer_4/output/kernel:0\n"
     ]
    },
    {
     "name": "stderr",
     "output_type": "stream",
     "text": [
      "WARNING:tensorflow:Unresolved object in checkpoint: (root).optimizer's state 'v' for (root).layer_with_weights-0.transformer/layer_4/output/kernel:0\n"
     ]
    },
    {
     "name": "stdout",
     "output_type": "stream",
     "text": [
      "WARNING:tensorflow:Unresolved object in checkpoint: (root).optimizer's state 'v' for (root).layer_with_weights-0.transformer/layer_4/output/bias:0\n"
     ]
    },
    {
     "name": "stderr",
     "output_type": "stream",
     "text": [
      "WARNING:tensorflow:Unresolved object in checkpoint: (root).optimizer's state 'v' for (root).layer_with_weights-0.transformer/layer_4/output/bias:0\n"
     ]
    },
    {
     "name": "stdout",
     "output_type": "stream",
     "text": [
      "WARNING:tensorflow:Unresolved object in checkpoint: (root).optimizer's state 'v' for (root).layer_with_weights-0.transformer/layer_4/output_layer_norm/gamma:0\n"
     ]
    },
    {
     "name": "stderr",
     "output_type": "stream",
     "text": [
      "WARNING:tensorflow:Unresolved object in checkpoint: (root).optimizer's state 'v' for (root).layer_with_weights-0.transformer/layer_4/output_layer_norm/gamma:0\n"
     ]
    },
    {
     "name": "stdout",
     "output_type": "stream",
     "text": [
      "WARNING:tensorflow:Unresolved object in checkpoint: (root).optimizer's state 'v' for (root).layer_with_weights-0.transformer/layer_4/output_layer_norm/beta:0\n"
     ]
    },
    {
     "name": "stderr",
     "output_type": "stream",
     "text": [
      "WARNING:tensorflow:Unresolved object in checkpoint: (root).optimizer's state 'v' for (root).layer_with_weights-0.transformer/layer_4/output_layer_norm/beta:0\n"
     ]
    },
    {
     "name": "stdout",
     "output_type": "stream",
     "text": [
      "WARNING:tensorflow:Unresolved object in checkpoint: (root).optimizer's state 'v' for (root).layer_with_weights-0.transformer/layer_5/self_attention/query/kernel:0\n"
     ]
    },
    {
     "name": "stderr",
     "output_type": "stream",
     "text": [
      "WARNING:tensorflow:Unresolved object in checkpoint: (root).optimizer's state 'v' for (root).layer_with_weights-0.transformer/layer_5/self_attention/query/kernel:0\n"
     ]
    },
    {
     "name": "stdout",
     "output_type": "stream",
     "text": [
      "WARNING:tensorflow:Unresolved object in checkpoint: (root).optimizer's state 'v' for (root).layer_with_weights-0.transformer/layer_5/self_attention/query/bias:0\n"
     ]
    },
    {
     "name": "stderr",
     "output_type": "stream",
     "text": [
      "WARNING:tensorflow:Unresolved object in checkpoint: (root).optimizer's state 'v' for (root).layer_with_weights-0.transformer/layer_5/self_attention/query/bias:0\n"
     ]
    },
    {
     "name": "stdout",
     "output_type": "stream",
     "text": [
      "WARNING:tensorflow:Unresolved object in checkpoint: (root).optimizer's state 'v' for (root).layer_with_weights-0.transformer/layer_5/self_attention/key/kernel:0\n"
     ]
    },
    {
     "name": "stderr",
     "output_type": "stream",
     "text": [
      "WARNING:tensorflow:Unresolved object in checkpoint: (root).optimizer's state 'v' for (root).layer_with_weights-0.transformer/layer_5/self_attention/key/kernel:0\n"
     ]
    },
    {
     "name": "stdout",
     "output_type": "stream",
     "text": [
      "WARNING:tensorflow:Unresolved object in checkpoint: (root).optimizer's state 'v' for (root).layer_with_weights-0.transformer/layer_5/self_attention/key/bias:0\n"
     ]
    },
    {
     "name": "stderr",
     "output_type": "stream",
     "text": [
      "WARNING:tensorflow:Unresolved object in checkpoint: (root).optimizer's state 'v' for (root).layer_with_weights-0.transformer/layer_5/self_attention/key/bias:0\n"
     ]
    },
    {
     "name": "stdout",
     "output_type": "stream",
     "text": [
      "WARNING:tensorflow:Unresolved object in checkpoint: (root).optimizer's state 'v' for (root).layer_with_weights-0.transformer/layer_5/self_attention/value/kernel:0\n"
     ]
    },
    {
     "name": "stderr",
     "output_type": "stream",
     "text": [
      "WARNING:tensorflow:Unresolved object in checkpoint: (root).optimizer's state 'v' for (root).layer_with_weights-0.transformer/layer_5/self_attention/value/kernel:0\n"
     ]
    },
    {
     "name": "stdout",
     "output_type": "stream",
     "text": [
      "WARNING:tensorflow:Unresolved object in checkpoint: (root).optimizer's state 'v' for (root).layer_with_weights-0.transformer/layer_5/self_attention/value/bias:0\n"
     ]
    },
    {
     "name": "stderr",
     "output_type": "stream",
     "text": [
      "WARNING:tensorflow:Unresolved object in checkpoint: (root).optimizer's state 'v' for (root).layer_with_weights-0.transformer/layer_5/self_attention/value/bias:0\n"
     ]
    },
    {
     "name": "stdout",
     "output_type": "stream",
     "text": [
      "WARNING:tensorflow:Unresolved object in checkpoint: (root).optimizer's state 'v' for (root).layer_with_weights-0.transformer/layer_5/self_attention/attention_output/kernel:0\n"
     ]
    },
    {
     "name": "stderr",
     "output_type": "stream",
     "text": [
      "WARNING:tensorflow:Unresolved object in checkpoint: (root).optimizer's state 'v' for (root).layer_with_weights-0.transformer/layer_5/self_attention/attention_output/kernel:0\n"
     ]
    },
    {
     "name": "stdout",
     "output_type": "stream",
     "text": [
      "WARNING:tensorflow:Unresolved object in checkpoint: (root).optimizer's state 'v' for (root).layer_with_weights-0.transformer/layer_5/self_attention/attention_output/bias:0\n"
     ]
    },
    {
     "name": "stderr",
     "output_type": "stream",
     "text": [
      "WARNING:tensorflow:Unresolved object in checkpoint: (root).optimizer's state 'v' for (root).layer_with_weights-0.transformer/layer_5/self_attention/attention_output/bias:0\n"
     ]
    },
    {
     "name": "stdout",
     "output_type": "stream",
     "text": [
      "WARNING:tensorflow:Unresolved object in checkpoint: (root).optimizer's state 'v' for (root).layer_with_weights-0.transformer/layer_5/self_attention_layer_norm/gamma:0\n"
     ]
    },
    {
     "name": "stderr",
     "output_type": "stream",
     "text": [
      "WARNING:tensorflow:Unresolved object in checkpoint: (root).optimizer's state 'v' for (root).layer_with_weights-0.transformer/layer_5/self_attention_layer_norm/gamma:0\n"
     ]
    },
    {
     "name": "stdout",
     "output_type": "stream",
     "text": [
      "WARNING:tensorflow:Unresolved object in checkpoint: (root).optimizer's state 'v' for (root).layer_with_weights-0.transformer/layer_5/self_attention_layer_norm/beta:0\n"
     ]
    },
    {
     "name": "stderr",
     "output_type": "stream",
     "text": [
      "WARNING:tensorflow:Unresolved object in checkpoint: (root).optimizer's state 'v' for (root).layer_with_weights-0.transformer/layer_5/self_attention_layer_norm/beta:0\n"
     ]
    },
    {
     "name": "stdout",
     "output_type": "stream",
     "text": [
      "WARNING:tensorflow:Unresolved object in checkpoint: (root).optimizer's state 'v' for (root).layer_with_weights-0.transformer/layer_5/intermediate/kernel:0\n"
     ]
    },
    {
     "name": "stderr",
     "output_type": "stream",
     "text": [
      "WARNING:tensorflow:Unresolved object in checkpoint: (root).optimizer's state 'v' for (root).layer_with_weights-0.transformer/layer_5/intermediate/kernel:0\n"
     ]
    },
    {
     "name": "stdout",
     "output_type": "stream",
     "text": [
      "WARNING:tensorflow:Unresolved object in checkpoint: (root).optimizer's state 'v' for (root).layer_with_weights-0.transformer/layer_5/intermediate/bias:0\n"
     ]
    },
    {
     "name": "stderr",
     "output_type": "stream",
     "text": [
      "WARNING:tensorflow:Unresolved object in checkpoint: (root).optimizer's state 'v' for (root).layer_with_weights-0.transformer/layer_5/intermediate/bias:0\n"
     ]
    },
    {
     "name": "stdout",
     "output_type": "stream",
     "text": [
      "WARNING:tensorflow:Unresolved object in checkpoint: (root).optimizer's state 'v' for (root).layer_with_weights-0.transformer/layer_5/output/kernel:0\n"
     ]
    },
    {
     "name": "stderr",
     "output_type": "stream",
     "text": [
      "WARNING:tensorflow:Unresolved object in checkpoint: (root).optimizer's state 'v' for (root).layer_with_weights-0.transformer/layer_5/output/kernel:0\n"
     ]
    },
    {
     "name": "stdout",
     "output_type": "stream",
     "text": [
      "WARNING:tensorflow:Unresolved object in checkpoint: (root).optimizer's state 'v' for (root).layer_with_weights-0.transformer/layer_5/output/bias:0\n"
     ]
    },
    {
     "name": "stderr",
     "output_type": "stream",
     "text": [
      "WARNING:tensorflow:Unresolved object in checkpoint: (root).optimizer's state 'v' for (root).layer_with_weights-0.transformer/layer_5/output/bias:0\n"
     ]
    },
    {
     "name": "stdout",
     "output_type": "stream",
     "text": [
      "WARNING:tensorflow:Unresolved object in checkpoint: (root).optimizer's state 'v' for (root).layer_with_weights-0.transformer/layer_5/output_layer_norm/gamma:0\n"
     ]
    },
    {
     "name": "stderr",
     "output_type": "stream",
     "text": [
      "WARNING:tensorflow:Unresolved object in checkpoint: (root).optimizer's state 'v' for (root).layer_with_weights-0.transformer/layer_5/output_layer_norm/gamma:0\n"
     ]
    },
    {
     "name": "stdout",
     "output_type": "stream",
     "text": [
      "WARNING:tensorflow:Unresolved object in checkpoint: (root).optimizer's state 'v' for (root).layer_with_weights-0.transformer/layer_5/output_layer_norm/beta:0\n"
     ]
    },
    {
     "name": "stderr",
     "output_type": "stream",
     "text": [
      "WARNING:tensorflow:Unresolved object in checkpoint: (root).optimizer's state 'v' for (root).layer_with_weights-0.transformer/layer_5/output_layer_norm/beta:0\n"
     ]
    },
    {
     "name": "stdout",
     "output_type": "stream",
     "text": [
      "WARNING:tensorflow:Unresolved object in checkpoint: (root).optimizer's state 'v' for (root).layer_with_weights-0.transformer/layer_6/self_attention/query/kernel:0\n"
     ]
    },
    {
     "name": "stderr",
     "output_type": "stream",
     "text": [
      "WARNING:tensorflow:Unresolved object in checkpoint: (root).optimizer's state 'v' for (root).layer_with_weights-0.transformer/layer_6/self_attention/query/kernel:0\n"
     ]
    },
    {
     "name": "stdout",
     "output_type": "stream",
     "text": [
      "WARNING:tensorflow:Unresolved object in checkpoint: (root).optimizer's state 'v' for (root).layer_with_weights-0.transformer/layer_6/self_attention/query/bias:0\n"
     ]
    },
    {
     "name": "stderr",
     "output_type": "stream",
     "text": [
      "WARNING:tensorflow:Unresolved object in checkpoint: (root).optimizer's state 'v' for (root).layer_with_weights-0.transformer/layer_6/self_attention/query/bias:0\n"
     ]
    },
    {
     "name": "stdout",
     "output_type": "stream",
     "text": [
      "WARNING:tensorflow:Unresolved object in checkpoint: (root).optimizer's state 'v' for (root).layer_with_weights-0.transformer/layer_6/self_attention/key/kernel:0\n"
     ]
    },
    {
     "name": "stderr",
     "output_type": "stream",
     "text": [
      "WARNING:tensorflow:Unresolved object in checkpoint: (root).optimizer's state 'v' for (root).layer_with_weights-0.transformer/layer_6/self_attention/key/kernel:0\n"
     ]
    },
    {
     "name": "stdout",
     "output_type": "stream",
     "text": [
      "WARNING:tensorflow:Unresolved object in checkpoint: (root).optimizer's state 'v' for (root).layer_with_weights-0.transformer/layer_6/self_attention/key/bias:0\n"
     ]
    },
    {
     "name": "stderr",
     "output_type": "stream",
     "text": [
      "WARNING:tensorflow:Unresolved object in checkpoint: (root).optimizer's state 'v' for (root).layer_with_weights-0.transformer/layer_6/self_attention/key/bias:0\n"
     ]
    },
    {
     "name": "stdout",
     "output_type": "stream",
     "text": [
      "WARNING:tensorflow:Unresolved object in checkpoint: (root).optimizer's state 'v' for (root).layer_with_weights-0.transformer/layer_6/self_attention/value/kernel:0\n"
     ]
    },
    {
     "name": "stderr",
     "output_type": "stream",
     "text": [
      "WARNING:tensorflow:Unresolved object in checkpoint: (root).optimizer's state 'v' for (root).layer_with_weights-0.transformer/layer_6/self_attention/value/kernel:0\n"
     ]
    },
    {
     "name": "stdout",
     "output_type": "stream",
     "text": [
      "WARNING:tensorflow:Unresolved object in checkpoint: (root).optimizer's state 'v' for (root).layer_with_weights-0.transformer/layer_6/self_attention/value/bias:0\n"
     ]
    },
    {
     "name": "stderr",
     "output_type": "stream",
     "text": [
      "WARNING:tensorflow:Unresolved object in checkpoint: (root).optimizer's state 'v' for (root).layer_with_weights-0.transformer/layer_6/self_attention/value/bias:0\n"
     ]
    },
    {
     "name": "stdout",
     "output_type": "stream",
     "text": [
      "WARNING:tensorflow:Unresolved object in checkpoint: (root).optimizer's state 'v' for (root).layer_with_weights-0.transformer/layer_6/self_attention/attention_output/kernel:0\n"
     ]
    },
    {
     "name": "stderr",
     "output_type": "stream",
     "text": [
      "WARNING:tensorflow:Unresolved object in checkpoint: (root).optimizer's state 'v' for (root).layer_with_weights-0.transformer/layer_6/self_attention/attention_output/kernel:0\n"
     ]
    },
    {
     "name": "stdout",
     "output_type": "stream",
     "text": [
      "WARNING:tensorflow:Unresolved object in checkpoint: (root).optimizer's state 'v' for (root).layer_with_weights-0.transformer/layer_6/self_attention/attention_output/bias:0\n"
     ]
    },
    {
     "name": "stderr",
     "output_type": "stream",
     "text": [
      "WARNING:tensorflow:Unresolved object in checkpoint: (root).optimizer's state 'v' for (root).layer_with_weights-0.transformer/layer_6/self_attention/attention_output/bias:0\n"
     ]
    },
    {
     "name": "stdout",
     "output_type": "stream",
     "text": [
      "WARNING:tensorflow:Unresolved object in checkpoint: (root).optimizer's state 'v' for (root).layer_with_weights-0.transformer/layer_6/self_attention_layer_norm/gamma:0\n"
     ]
    },
    {
     "name": "stderr",
     "output_type": "stream",
     "text": [
      "WARNING:tensorflow:Unresolved object in checkpoint: (root).optimizer's state 'v' for (root).layer_with_weights-0.transformer/layer_6/self_attention_layer_norm/gamma:0\n"
     ]
    },
    {
     "name": "stdout",
     "output_type": "stream",
     "text": [
      "WARNING:tensorflow:Unresolved object in checkpoint: (root).optimizer's state 'v' for (root).layer_with_weights-0.transformer/layer_6/self_attention_layer_norm/beta:0\n"
     ]
    },
    {
     "name": "stderr",
     "output_type": "stream",
     "text": [
      "WARNING:tensorflow:Unresolved object in checkpoint: (root).optimizer's state 'v' for (root).layer_with_weights-0.transformer/layer_6/self_attention_layer_norm/beta:0\n"
     ]
    },
    {
     "name": "stdout",
     "output_type": "stream",
     "text": [
      "WARNING:tensorflow:Unresolved object in checkpoint: (root).optimizer's state 'v' for (root).layer_with_weights-0.transformer/layer_6/intermediate/kernel:0\n"
     ]
    },
    {
     "name": "stderr",
     "output_type": "stream",
     "text": [
      "WARNING:tensorflow:Unresolved object in checkpoint: (root).optimizer's state 'v' for (root).layer_with_weights-0.transformer/layer_6/intermediate/kernel:0\n"
     ]
    },
    {
     "name": "stdout",
     "output_type": "stream",
     "text": [
      "WARNING:tensorflow:Unresolved object in checkpoint: (root).optimizer's state 'v' for (root).layer_with_weights-0.transformer/layer_6/intermediate/bias:0\n"
     ]
    },
    {
     "name": "stderr",
     "output_type": "stream",
     "text": [
      "WARNING:tensorflow:Unresolved object in checkpoint: (root).optimizer's state 'v' for (root).layer_with_weights-0.transformer/layer_6/intermediate/bias:0\n"
     ]
    },
    {
     "name": "stdout",
     "output_type": "stream",
     "text": [
      "WARNING:tensorflow:Unresolved object in checkpoint: (root).optimizer's state 'v' for (root).layer_with_weights-0.transformer/layer_6/output/kernel:0\n"
     ]
    },
    {
     "name": "stderr",
     "output_type": "stream",
     "text": [
      "WARNING:tensorflow:Unresolved object in checkpoint: (root).optimizer's state 'v' for (root).layer_with_weights-0.transformer/layer_6/output/kernel:0\n"
     ]
    },
    {
     "name": "stdout",
     "output_type": "stream",
     "text": [
      "WARNING:tensorflow:Unresolved object in checkpoint: (root).optimizer's state 'v' for (root).layer_with_weights-0.transformer/layer_6/output/bias:0\n"
     ]
    },
    {
     "name": "stderr",
     "output_type": "stream",
     "text": [
      "WARNING:tensorflow:Unresolved object in checkpoint: (root).optimizer's state 'v' for (root).layer_with_weights-0.transformer/layer_6/output/bias:0\n"
     ]
    },
    {
     "name": "stdout",
     "output_type": "stream",
     "text": [
      "WARNING:tensorflow:Unresolved object in checkpoint: (root).optimizer's state 'v' for (root).layer_with_weights-0.transformer/layer_6/output_layer_norm/gamma:0\n"
     ]
    },
    {
     "name": "stderr",
     "output_type": "stream",
     "text": [
      "WARNING:tensorflow:Unresolved object in checkpoint: (root).optimizer's state 'v' for (root).layer_with_weights-0.transformer/layer_6/output_layer_norm/gamma:0\n"
     ]
    },
    {
     "name": "stdout",
     "output_type": "stream",
     "text": [
      "WARNING:tensorflow:Unresolved object in checkpoint: (root).optimizer's state 'v' for (root).layer_with_weights-0.transformer/layer_6/output_layer_norm/beta:0\n"
     ]
    },
    {
     "name": "stderr",
     "output_type": "stream",
     "text": [
      "WARNING:tensorflow:Unresolved object in checkpoint: (root).optimizer's state 'v' for (root).layer_with_weights-0.transformer/layer_6/output_layer_norm/beta:0\n"
     ]
    },
    {
     "name": "stdout",
     "output_type": "stream",
     "text": [
      "WARNING:tensorflow:Unresolved object in checkpoint: (root).optimizer's state 'v' for (root).layer_with_weights-0.transformer/layer_7/self_attention/query/kernel:0\n"
     ]
    },
    {
     "name": "stderr",
     "output_type": "stream",
     "text": [
      "WARNING:tensorflow:Unresolved object in checkpoint: (root).optimizer's state 'v' for (root).layer_with_weights-0.transformer/layer_7/self_attention/query/kernel:0\n"
     ]
    },
    {
     "name": "stdout",
     "output_type": "stream",
     "text": [
      "WARNING:tensorflow:Unresolved object in checkpoint: (root).optimizer's state 'v' for (root).layer_with_weights-0.transformer/layer_7/self_attention/query/bias:0\n"
     ]
    },
    {
     "name": "stderr",
     "output_type": "stream",
     "text": [
      "WARNING:tensorflow:Unresolved object in checkpoint: (root).optimizer's state 'v' for (root).layer_with_weights-0.transformer/layer_7/self_attention/query/bias:0\n"
     ]
    },
    {
     "name": "stdout",
     "output_type": "stream",
     "text": [
      "WARNING:tensorflow:Unresolved object in checkpoint: (root).optimizer's state 'v' for (root).layer_with_weights-0.transformer/layer_7/self_attention/key/kernel:0\n"
     ]
    },
    {
     "name": "stderr",
     "output_type": "stream",
     "text": [
      "WARNING:tensorflow:Unresolved object in checkpoint: (root).optimizer's state 'v' for (root).layer_with_weights-0.transformer/layer_7/self_attention/key/kernel:0\n"
     ]
    },
    {
     "name": "stdout",
     "output_type": "stream",
     "text": [
      "WARNING:tensorflow:Unresolved object in checkpoint: (root).optimizer's state 'v' for (root).layer_with_weights-0.transformer/layer_7/self_attention/key/bias:0\n"
     ]
    },
    {
     "name": "stderr",
     "output_type": "stream",
     "text": [
      "WARNING:tensorflow:Unresolved object in checkpoint: (root).optimizer's state 'v' for (root).layer_with_weights-0.transformer/layer_7/self_attention/key/bias:0\n"
     ]
    },
    {
     "name": "stdout",
     "output_type": "stream",
     "text": [
      "WARNING:tensorflow:Unresolved object in checkpoint: (root).optimizer's state 'v' for (root).layer_with_weights-0.transformer/layer_7/self_attention/value/kernel:0\n"
     ]
    },
    {
     "name": "stderr",
     "output_type": "stream",
     "text": [
      "WARNING:tensorflow:Unresolved object in checkpoint: (root).optimizer's state 'v' for (root).layer_with_weights-0.transformer/layer_7/self_attention/value/kernel:0\n"
     ]
    },
    {
     "name": "stdout",
     "output_type": "stream",
     "text": [
      "WARNING:tensorflow:Unresolved object in checkpoint: (root).optimizer's state 'v' for (root).layer_with_weights-0.transformer/layer_7/self_attention/value/bias:0\n"
     ]
    },
    {
     "name": "stderr",
     "output_type": "stream",
     "text": [
      "WARNING:tensorflow:Unresolved object in checkpoint: (root).optimizer's state 'v' for (root).layer_with_weights-0.transformer/layer_7/self_attention/value/bias:0\n"
     ]
    },
    {
     "name": "stdout",
     "output_type": "stream",
     "text": [
      "WARNING:tensorflow:Unresolved object in checkpoint: (root).optimizer's state 'v' for (root).layer_with_weights-0.transformer/layer_7/self_attention/attention_output/kernel:0\n"
     ]
    },
    {
     "name": "stderr",
     "output_type": "stream",
     "text": [
      "WARNING:tensorflow:Unresolved object in checkpoint: (root).optimizer's state 'v' for (root).layer_with_weights-0.transformer/layer_7/self_attention/attention_output/kernel:0\n"
     ]
    },
    {
     "name": "stdout",
     "output_type": "stream",
     "text": [
      "WARNING:tensorflow:Unresolved object in checkpoint: (root).optimizer's state 'v' for (root).layer_with_weights-0.transformer/layer_7/self_attention/attention_output/bias:0\n"
     ]
    },
    {
     "name": "stderr",
     "output_type": "stream",
     "text": [
      "WARNING:tensorflow:Unresolved object in checkpoint: (root).optimizer's state 'v' for (root).layer_with_weights-0.transformer/layer_7/self_attention/attention_output/bias:0\n"
     ]
    },
    {
     "name": "stdout",
     "output_type": "stream",
     "text": [
      "WARNING:tensorflow:Unresolved object in checkpoint: (root).optimizer's state 'v' for (root).layer_with_weights-0.transformer/layer_7/self_attention_layer_norm/gamma:0\n"
     ]
    },
    {
     "name": "stderr",
     "output_type": "stream",
     "text": [
      "WARNING:tensorflow:Unresolved object in checkpoint: (root).optimizer's state 'v' for (root).layer_with_weights-0.transformer/layer_7/self_attention_layer_norm/gamma:0\n"
     ]
    },
    {
     "name": "stdout",
     "output_type": "stream",
     "text": [
      "WARNING:tensorflow:Unresolved object in checkpoint: (root).optimizer's state 'v' for (root).layer_with_weights-0.transformer/layer_7/self_attention_layer_norm/beta:0\n"
     ]
    },
    {
     "name": "stderr",
     "output_type": "stream",
     "text": [
      "WARNING:tensorflow:Unresolved object in checkpoint: (root).optimizer's state 'v' for (root).layer_with_weights-0.transformer/layer_7/self_attention_layer_norm/beta:0\n"
     ]
    },
    {
     "name": "stdout",
     "output_type": "stream",
     "text": [
      "WARNING:tensorflow:Unresolved object in checkpoint: (root).optimizer's state 'v' for (root).layer_with_weights-0.transformer/layer_7/intermediate/kernel:0\n"
     ]
    },
    {
     "name": "stderr",
     "output_type": "stream",
     "text": [
      "WARNING:tensorflow:Unresolved object in checkpoint: (root).optimizer's state 'v' for (root).layer_with_weights-0.transformer/layer_7/intermediate/kernel:0\n"
     ]
    },
    {
     "name": "stdout",
     "output_type": "stream",
     "text": [
      "WARNING:tensorflow:Unresolved object in checkpoint: (root).optimizer's state 'v' for (root).layer_with_weights-0.transformer/layer_7/intermediate/bias:0\n"
     ]
    },
    {
     "name": "stderr",
     "output_type": "stream",
     "text": [
      "WARNING:tensorflow:Unresolved object in checkpoint: (root).optimizer's state 'v' for (root).layer_with_weights-0.transformer/layer_7/intermediate/bias:0\n"
     ]
    },
    {
     "name": "stdout",
     "output_type": "stream",
     "text": [
      "WARNING:tensorflow:Unresolved object in checkpoint: (root).optimizer's state 'v' for (root).layer_with_weights-0.transformer/layer_7/output/kernel:0\n"
     ]
    },
    {
     "name": "stderr",
     "output_type": "stream",
     "text": [
      "WARNING:tensorflow:Unresolved object in checkpoint: (root).optimizer's state 'v' for (root).layer_with_weights-0.transformer/layer_7/output/kernel:0\n"
     ]
    },
    {
     "name": "stdout",
     "output_type": "stream",
     "text": [
      "WARNING:tensorflow:Unresolved object in checkpoint: (root).optimizer's state 'v' for (root).layer_with_weights-0.transformer/layer_7/output/bias:0\n"
     ]
    },
    {
     "name": "stderr",
     "output_type": "stream",
     "text": [
      "WARNING:tensorflow:Unresolved object in checkpoint: (root).optimizer's state 'v' for (root).layer_with_weights-0.transformer/layer_7/output/bias:0\n"
     ]
    },
    {
     "name": "stdout",
     "output_type": "stream",
     "text": [
      "WARNING:tensorflow:Unresolved object in checkpoint: (root).optimizer's state 'v' for (root).layer_with_weights-0.transformer/layer_7/output_layer_norm/gamma:0\n"
     ]
    },
    {
     "name": "stderr",
     "output_type": "stream",
     "text": [
      "WARNING:tensorflow:Unresolved object in checkpoint: (root).optimizer's state 'v' for (root).layer_with_weights-0.transformer/layer_7/output_layer_norm/gamma:0\n"
     ]
    },
    {
     "name": "stdout",
     "output_type": "stream",
     "text": [
      "WARNING:tensorflow:Unresolved object in checkpoint: (root).optimizer's state 'v' for (root).layer_with_weights-0.transformer/layer_7/output_layer_norm/beta:0\n"
     ]
    },
    {
     "name": "stderr",
     "output_type": "stream",
     "text": [
      "WARNING:tensorflow:Unresolved object in checkpoint: (root).optimizer's state 'v' for (root).layer_with_weights-0.transformer/layer_7/output_layer_norm/beta:0\n"
     ]
    },
    {
     "name": "stdout",
     "output_type": "stream",
     "text": [
      "WARNING:tensorflow:Unresolved object in checkpoint: (root).optimizer's state 'v' for (root).layer_with_weights-0.transformer/layer_8/self_attention/query/kernel:0\n"
     ]
    },
    {
     "name": "stderr",
     "output_type": "stream",
     "text": [
      "WARNING:tensorflow:Unresolved object in checkpoint: (root).optimizer's state 'v' for (root).layer_with_weights-0.transformer/layer_8/self_attention/query/kernel:0\n"
     ]
    },
    {
     "name": "stdout",
     "output_type": "stream",
     "text": [
      "WARNING:tensorflow:Unresolved object in checkpoint: (root).optimizer's state 'v' for (root).layer_with_weights-0.transformer/layer_8/self_attention/query/bias:0\n"
     ]
    },
    {
     "name": "stderr",
     "output_type": "stream",
     "text": [
      "WARNING:tensorflow:Unresolved object in checkpoint: (root).optimizer's state 'v' for (root).layer_with_weights-0.transformer/layer_8/self_attention/query/bias:0\n"
     ]
    },
    {
     "name": "stdout",
     "output_type": "stream",
     "text": [
      "WARNING:tensorflow:Unresolved object in checkpoint: (root).optimizer's state 'v' for (root).layer_with_weights-0.transformer/layer_8/self_attention/key/kernel:0\n"
     ]
    },
    {
     "name": "stderr",
     "output_type": "stream",
     "text": [
      "WARNING:tensorflow:Unresolved object in checkpoint: (root).optimizer's state 'v' for (root).layer_with_weights-0.transformer/layer_8/self_attention/key/kernel:0\n"
     ]
    },
    {
     "name": "stdout",
     "output_type": "stream",
     "text": [
      "WARNING:tensorflow:Unresolved object in checkpoint: (root).optimizer's state 'v' for (root).layer_with_weights-0.transformer/layer_8/self_attention/key/bias:0\n"
     ]
    },
    {
     "name": "stderr",
     "output_type": "stream",
     "text": [
      "WARNING:tensorflow:Unresolved object in checkpoint: (root).optimizer's state 'v' for (root).layer_with_weights-0.transformer/layer_8/self_attention/key/bias:0\n"
     ]
    },
    {
     "name": "stdout",
     "output_type": "stream",
     "text": [
      "WARNING:tensorflow:Unresolved object in checkpoint: (root).optimizer's state 'v' for (root).layer_with_weights-0.transformer/layer_8/self_attention/value/kernel:0\n"
     ]
    },
    {
     "name": "stderr",
     "output_type": "stream",
     "text": [
      "WARNING:tensorflow:Unresolved object in checkpoint: (root).optimizer's state 'v' for (root).layer_with_weights-0.transformer/layer_8/self_attention/value/kernel:0\n"
     ]
    },
    {
     "name": "stdout",
     "output_type": "stream",
     "text": [
      "WARNING:tensorflow:Unresolved object in checkpoint: (root).optimizer's state 'v' for (root).layer_with_weights-0.transformer/layer_8/self_attention/value/bias:0\n"
     ]
    },
    {
     "name": "stderr",
     "output_type": "stream",
     "text": [
      "WARNING:tensorflow:Unresolved object in checkpoint: (root).optimizer's state 'v' for (root).layer_with_weights-0.transformer/layer_8/self_attention/value/bias:0\n"
     ]
    },
    {
     "name": "stdout",
     "output_type": "stream",
     "text": [
      "WARNING:tensorflow:Unresolved object in checkpoint: (root).optimizer's state 'v' for (root).layer_with_weights-0.transformer/layer_8/self_attention/attention_output/kernel:0\n"
     ]
    },
    {
     "name": "stderr",
     "output_type": "stream",
     "text": [
      "WARNING:tensorflow:Unresolved object in checkpoint: (root).optimizer's state 'v' for (root).layer_with_weights-0.transformer/layer_8/self_attention/attention_output/kernel:0\n"
     ]
    },
    {
     "name": "stdout",
     "output_type": "stream",
     "text": [
      "WARNING:tensorflow:Unresolved object in checkpoint: (root).optimizer's state 'v' for (root).layer_with_weights-0.transformer/layer_8/self_attention/attention_output/bias:0\n"
     ]
    },
    {
     "name": "stderr",
     "output_type": "stream",
     "text": [
      "WARNING:tensorflow:Unresolved object in checkpoint: (root).optimizer's state 'v' for (root).layer_with_weights-0.transformer/layer_8/self_attention/attention_output/bias:0\n"
     ]
    },
    {
     "name": "stdout",
     "output_type": "stream",
     "text": [
      "WARNING:tensorflow:Unresolved object in checkpoint: (root).optimizer's state 'v' for (root).layer_with_weights-0.transformer/layer_8/self_attention_layer_norm/gamma:0\n"
     ]
    },
    {
     "name": "stderr",
     "output_type": "stream",
     "text": [
      "WARNING:tensorflow:Unresolved object in checkpoint: (root).optimizer's state 'v' for (root).layer_with_weights-0.transformer/layer_8/self_attention_layer_norm/gamma:0\n"
     ]
    },
    {
     "name": "stdout",
     "output_type": "stream",
     "text": [
      "WARNING:tensorflow:Unresolved object in checkpoint: (root).optimizer's state 'v' for (root).layer_with_weights-0.transformer/layer_8/self_attention_layer_norm/beta:0\n"
     ]
    },
    {
     "name": "stderr",
     "output_type": "stream",
     "text": [
      "WARNING:tensorflow:Unresolved object in checkpoint: (root).optimizer's state 'v' for (root).layer_with_weights-0.transformer/layer_8/self_attention_layer_norm/beta:0\n"
     ]
    },
    {
     "name": "stdout",
     "output_type": "stream",
     "text": [
      "WARNING:tensorflow:Unresolved object in checkpoint: (root).optimizer's state 'v' for (root).layer_with_weights-0.transformer/layer_8/intermediate/kernel:0\n"
     ]
    },
    {
     "name": "stderr",
     "output_type": "stream",
     "text": [
      "WARNING:tensorflow:Unresolved object in checkpoint: (root).optimizer's state 'v' for (root).layer_with_weights-0.transformer/layer_8/intermediate/kernel:0\n"
     ]
    },
    {
     "name": "stdout",
     "output_type": "stream",
     "text": [
      "WARNING:tensorflow:Unresolved object in checkpoint: (root).optimizer's state 'v' for (root).layer_with_weights-0.transformer/layer_8/intermediate/bias:0\n"
     ]
    },
    {
     "name": "stderr",
     "output_type": "stream",
     "text": [
      "WARNING:tensorflow:Unresolved object in checkpoint: (root).optimizer's state 'v' for (root).layer_with_weights-0.transformer/layer_8/intermediate/bias:0\n"
     ]
    },
    {
     "name": "stdout",
     "output_type": "stream",
     "text": [
      "WARNING:tensorflow:Unresolved object in checkpoint: (root).optimizer's state 'v' for (root).layer_with_weights-0.transformer/layer_8/output/kernel:0\n"
     ]
    },
    {
     "name": "stderr",
     "output_type": "stream",
     "text": [
      "WARNING:tensorflow:Unresolved object in checkpoint: (root).optimizer's state 'v' for (root).layer_with_weights-0.transformer/layer_8/output/kernel:0\n"
     ]
    },
    {
     "name": "stdout",
     "output_type": "stream",
     "text": [
      "WARNING:tensorflow:Unresolved object in checkpoint: (root).optimizer's state 'v' for (root).layer_with_weights-0.transformer/layer_8/output/bias:0\n"
     ]
    },
    {
     "name": "stderr",
     "output_type": "stream",
     "text": [
      "WARNING:tensorflow:Unresolved object in checkpoint: (root).optimizer's state 'v' for (root).layer_with_weights-0.transformer/layer_8/output/bias:0\n"
     ]
    },
    {
     "name": "stdout",
     "output_type": "stream",
     "text": [
      "WARNING:tensorflow:Unresolved object in checkpoint: (root).optimizer's state 'v' for (root).layer_with_weights-0.transformer/layer_8/output_layer_norm/gamma:0\n"
     ]
    },
    {
     "name": "stderr",
     "output_type": "stream",
     "text": [
      "WARNING:tensorflow:Unresolved object in checkpoint: (root).optimizer's state 'v' for (root).layer_with_weights-0.transformer/layer_8/output_layer_norm/gamma:0\n"
     ]
    },
    {
     "name": "stdout",
     "output_type": "stream",
     "text": [
      "WARNING:tensorflow:Unresolved object in checkpoint: (root).optimizer's state 'v' for (root).layer_with_weights-0.transformer/layer_8/output_layer_norm/beta:0\n"
     ]
    },
    {
     "name": "stderr",
     "output_type": "stream",
     "text": [
      "WARNING:tensorflow:Unresolved object in checkpoint: (root).optimizer's state 'v' for (root).layer_with_weights-0.transformer/layer_8/output_layer_norm/beta:0\n"
     ]
    },
    {
     "name": "stdout",
     "output_type": "stream",
     "text": [
      "WARNING:tensorflow:Unresolved object in checkpoint: (root).optimizer's state 'v' for (root).layer_with_weights-0.transformer/layer_9/self_attention/query/kernel:0\n"
     ]
    },
    {
     "name": "stderr",
     "output_type": "stream",
     "text": [
      "WARNING:tensorflow:Unresolved object in checkpoint: (root).optimizer's state 'v' for (root).layer_with_weights-0.transformer/layer_9/self_attention/query/kernel:0\n"
     ]
    },
    {
     "name": "stdout",
     "output_type": "stream",
     "text": [
      "WARNING:tensorflow:Unresolved object in checkpoint: (root).optimizer's state 'v' for (root).layer_with_weights-0.transformer/layer_9/self_attention/query/bias:0\n"
     ]
    },
    {
     "name": "stderr",
     "output_type": "stream",
     "text": [
      "WARNING:tensorflow:Unresolved object in checkpoint: (root).optimizer's state 'v' for (root).layer_with_weights-0.transformer/layer_9/self_attention/query/bias:0\n"
     ]
    },
    {
     "name": "stdout",
     "output_type": "stream",
     "text": [
      "WARNING:tensorflow:Unresolved object in checkpoint: (root).optimizer's state 'v' for (root).layer_with_weights-0.transformer/layer_9/self_attention/key/kernel:0\n"
     ]
    },
    {
     "name": "stderr",
     "output_type": "stream",
     "text": [
      "WARNING:tensorflow:Unresolved object in checkpoint: (root).optimizer's state 'v' for (root).layer_with_weights-0.transformer/layer_9/self_attention/key/kernel:0\n"
     ]
    },
    {
     "name": "stdout",
     "output_type": "stream",
     "text": [
      "WARNING:tensorflow:Unresolved object in checkpoint: (root).optimizer's state 'v' for (root).layer_with_weights-0.transformer/layer_9/self_attention/key/bias:0\n"
     ]
    },
    {
     "name": "stderr",
     "output_type": "stream",
     "text": [
      "WARNING:tensorflow:Unresolved object in checkpoint: (root).optimizer's state 'v' for (root).layer_with_weights-0.transformer/layer_9/self_attention/key/bias:0\n"
     ]
    },
    {
     "name": "stdout",
     "output_type": "stream",
     "text": [
      "WARNING:tensorflow:Unresolved object in checkpoint: (root).optimizer's state 'v' for (root).layer_with_weights-0.transformer/layer_9/self_attention/value/kernel:0\n"
     ]
    },
    {
     "name": "stderr",
     "output_type": "stream",
     "text": [
      "WARNING:tensorflow:Unresolved object in checkpoint: (root).optimizer's state 'v' for (root).layer_with_weights-0.transformer/layer_9/self_attention/value/kernel:0\n"
     ]
    },
    {
     "name": "stdout",
     "output_type": "stream",
     "text": [
      "WARNING:tensorflow:Unresolved object in checkpoint: (root).optimizer's state 'v' for (root).layer_with_weights-0.transformer/layer_9/self_attention/value/bias:0\n"
     ]
    },
    {
     "name": "stderr",
     "output_type": "stream",
     "text": [
      "WARNING:tensorflow:Unresolved object in checkpoint: (root).optimizer's state 'v' for (root).layer_with_weights-0.transformer/layer_9/self_attention/value/bias:0\n"
     ]
    },
    {
     "name": "stdout",
     "output_type": "stream",
     "text": [
      "WARNING:tensorflow:Unresolved object in checkpoint: (root).optimizer's state 'v' for (root).layer_with_weights-0.transformer/layer_9/self_attention/attention_output/kernel:0\n"
     ]
    },
    {
     "name": "stderr",
     "output_type": "stream",
     "text": [
      "WARNING:tensorflow:Unresolved object in checkpoint: (root).optimizer's state 'v' for (root).layer_with_weights-0.transformer/layer_9/self_attention/attention_output/kernel:0\n"
     ]
    },
    {
     "name": "stdout",
     "output_type": "stream",
     "text": [
      "WARNING:tensorflow:Unresolved object in checkpoint: (root).optimizer's state 'v' for (root).layer_with_weights-0.transformer/layer_9/self_attention/attention_output/bias:0\n"
     ]
    },
    {
     "name": "stderr",
     "output_type": "stream",
     "text": [
      "WARNING:tensorflow:Unresolved object in checkpoint: (root).optimizer's state 'v' for (root).layer_with_weights-0.transformer/layer_9/self_attention/attention_output/bias:0\n"
     ]
    },
    {
     "name": "stdout",
     "output_type": "stream",
     "text": [
      "WARNING:tensorflow:Unresolved object in checkpoint: (root).optimizer's state 'v' for (root).layer_with_weights-0.transformer/layer_9/self_attention_layer_norm/gamma:0\n"
     ]
    },
    {
     "name": "stderr",
     "output_type": "stream",
     "text": [
      "WARNING:tensorflow:Unresolved object in checkpoint: (root).optimizer's state 'v' for (root).layer_with_weights-0.transformer/layer_9/self_attention_layer_norm/gamma:0\n"
     ]
    },
    {
     "name": "stdout",
     "output_type": "stream",
     "text": [
      "WARNING:tensorflow:Unresolved object in checkpoint: (root).optimizer's state 'v' for (root).layer_with_weights-0.transformer/layer_9/self_attention_layer_norm/beta:0\n"
     ]
    },
    {
     "name": "stderr",
     "output_type": "stream",
     "text": [
      "WARNING:tensorflow:Unresolved object in checkpoint: (root).optimizer's state 'v' for (root).layer_with_weights-0.transformer/layer_9/self_attention_layer_norm/beta:0\n"
     ]
    },
    {
     "name": "stdout",
     "output_type": "stream",
     "text": [
      "WARNING:tensorflow:Unresolved object in checkpoint: (root).optimizer's state 'v' for (root).layer_with_weights-0.transformer/layer_9/intermediate/kernel:0\n"
     ]
    },
    {
     "name": "stderr",
     "output_type": "stream",
     "text": [
      "WARNING:tensorflow:Unresolved object in checkpoint: (root).optimizer's state 'v' for (root).layer_with_weights-0.transformer/layer_9/intermediate/kernel:0\n"
     ]
    },
    {
     "name": "stdout",
     "output_type": "stream",
     "text": [
      "WARNING:tensorflow:Unresolved object in checkpoint: (root).optimizer's state 'v' for (root).layer_with_weights-0.transformer/layer_9/intermediate/bias:0\n"
     ]
    },
    {
     "name": "stderr",
     "output_type": "stream",
     "text": [
      "WARNING:tensorflow:Unresolved object in checkpoint: (root).optimizer's state 'v' for (root).layer_with_weights-0.transformer/layer_9/intermediate/bias:0\n"
     ]
    },
    {
     "name": "stdout",
     "output_type": "stream",
     "text": [
      "WARNING:tensorflow:Unresolved object in checkpoint: (root).optimizer's state 'v' for (root).layer_with_weights-0.transformer/layer_9/output/kernel:0\n"
     ]
    },
    {
     "name": "stderr",
     "output_type": "stream",
     "text": [
      "WARNING:tensorflow:Unresolved object in checkpoint: (root).optimizer's state 'v' for (root).layer_with_weights-0.transformer/layer_9/output/kernel:0\n"
     ]
    },
    {
     "name": "stdout",
     "output_type": "stream",
     "text": [
      "WARNING:tensorflow:Unresolved object in checkpoint: (root).optimizer's state 'v' for (root).layer_with_weights-0.transformer/layer_9/output/bias:0\n"
     ]
    },
    {
     "name": "stderr",
     "output_type": "stream",
     "text": [
      "WARNING:tensorflow:Unresolved object in checkpoint: (root).optimizer's state 'v' for (root).layer_with_weights-0.transformer/layer_9/output/bias:0\n"
     ]
    },
    {
     "name": "stdout",
     "output_type": "stream",
     "text": [
      "WARNING:tensorflow:Unresolved object in checkpoint: (root).optimizer's state 'v' for (root).layer_with_weights-0.transformer/layer_9/output_layer_norm/gamma:0\n"
     ]
    },
    {
     "name": "stderr",
     "output_type": "stream",
     "text": [
      "WARNING:tensorflow:Unresolved object in checkpoint: (root).optimizer's state 'v' for (root).layer_with_weights-0.transformer/layer_9/output_layer_norm/gamma:0\n"
     ]
    },
    {
     "name": "stdout",
     "output_type": "stream",
     "text": [
      "WARNING:tensorflow:Unresolved object in checkpoint: (root).optimizer's state 'v' for (root).layer_with_weights-0.transformer/layer_9/output_layer_norm/beta:0\n"
     ]
    },
    {
     "name": "stderr",
     "output_type": "stream",
     "text": [
      "WARNING:tensorflow:Unresolved object in checkpoint: (root).optimizer's state 'v' for (root).layer_with_weights-0.transformer/layer_9/output_layer_norm/beta:0\n"
     ]
    },
    {
     "name": "stdout",
     "output_type": "stream",
     "text": [
      "WARNING:tensorflow:Unresolved object in checkpoint: (root).optimizer's state 'v' for (root).layer_with_weights-0.transformer/layer_10/self_attention/query/kernel:0\n"
     ]
    },
    {
     "name": "stderr",
     "output_type": "stream",
     "text": [
      "WARNING:tensorflow:Unresolved object in checkpoint: (root).optimizer's state 'v' for (root).layer_with_weights-0.transformer/layer_10/self_attention/query/kernel:0\n"
     ]
    },
    {
     "name": "stdout",
     "output_type": "stream",
     "text": [
      "WARNING:tensorflow:Unresolved object in checkpoint: (root).optimizer's state 'v' for (root).layer_with_weights-0.transformer/layer_10/self_attention/query/bias:0\n"
     ]
    },
    {
     "name": "stderr",
     "output_type": "stream",
     "text": [
      "WARNING:tensorflow:Unresolved object in checkpoint: (root).optimizer's state 'v' for (root).layer_with_weights-0.transformer/layer_10/self_attention/query/bias:0\n"
     ]
    },
    {
     "name": "stdout",
     "output_type": "stream",
     "text": [
      "WARNING:tensorflow:Unresolved object in checkpoint: (root).optimizer's state 'v' for (root).layer_with_weights-0.transformer/layer_10/self_attention/key/kernel:0\n"
     ]
    },
    {
     "name": "stderr",
     "output_type": "stream",
     "text": [
      "WARNING:tensorflow:Unresolved object in checkpoint: (root).optimizer's state 'v' for (root).layer_with_weights-0.transformer/layer_10/self_attention/key/kernel:0\n"
     ]
    },
    {
     "name": "stdout",
     "output_type": "stream",
     "text": [
      "WARNING:tensorflow:Unresolved object in checkpoint: (root).optimizer's state 'v' for (root).layer_with_weights-0.transformer/layer_10/self_attention/key/bias:0\n"
     ]
    },
    {
     "name": "stderr",
     "output_type": "stream",
     "text": [
      "WARNING:tensorflow:Unresolved object in checkpoint: (root).optimizer's state 'v' for (root).layer_with_weights-0.transformer/layer_10/self_attention/key/bias:0\n"
     ]
    },
    {
     "name": "stdout",
     "output_type": "stream",
     "text": [
      "WARNING:tensorflow:Unresolved object in checkpoint: (root).optimizer's state 'v' for (root).layer_with_weights-0.transformer/layer_10/self_attention/value/kernel:0\n"
     ]
    },
    {
     "name": "stderr",
     "output_type": "stream",
     "text": [
      "WARNING:tensorflow:Unresolved object in checkpoint: (root).optimizer's state 'v' for (root).layer_with_weights-0.transformer/layer_10/self_attention/value/kernel:0\n"
     ]
    },
    {
     "name": "stdout",
     "output_type": "stream",
     "text": [
      "WARNING:tensorflow:Unresolved object in checkpoint: (root).optimizer's state 'v' for (root).layer_with_weights-0.transformer/layer_10/self_attention/value/bias:0\n"
     ]
    },
    {
     "name": "stderr",
     "output_type": "stream",
     "text": [
      "WARNING:tensorflow:Unresolved object in checkpoint: (root).optimizer's state 'v' for (root).layer_with_weights-0.transformer/layer_10/self_attention/value/bias:0\n"
     ]
    },
    {
     "name": "stdout",
     "output_type": "stream",
     "text": [
      "WARNING:tensorflow:Unresolved object in checkpoint: (root).optimizer's state 'v' for (root).layer_with_weights-0.transformer/layer_10/self_attention/attention_output/kernel:0\n"
     ]
    },
    {
     "name": "stderr",
     "output_type": "stream",
     "text": [
      "WARNING:tensorflow:Unresolved object in checkpoint: (root).optimizer's state 'v' for (root).layer_with_weights-0.transformer/layer_10/self_attention/attention_output/kernel:0\n"
     ]
    },
    {
     "name": "stdout",
     "output_type": "stream",
     "text": [
      "WARNING:tensorflow:Unresolved object in checkpoint: (root).optimizer's state 'v' for (root).layer_with_weights-0.transformer/layer_10/self_attention/attention_output/bias:0\n"
     ]
    },
    {
     "name": "stderr",
     "output_type": "stream",
     "text": [
      "WARNING:tensorflow:Unresolved object in checkpoint: (root).optimizer's state 'v' for (root).layer_with_weights-0.transformer/layer_10/self_attention/attention_output/bias:0\n"
     ]
    },
    {
     "name": "stdout",
     "output_type": "stream",
     "text": [
      "WARNING:tensorflow:Unresolved object in checkpoint: (root).optimizer's state 'v' for (root).layer_with_weights-0.transformer/layer_10/self_attention_layer_norm/gamma:0\n"
     ]
    },
    {
     "name": "stderr",
     "output_type": "stream",
     "text": [
      "WARNING:tensorflow:Unresolved object in checkpoint: (root).optimizer's state 'v' for (root).layer_with_weights-0.transformer/layer_10/self_attention_layer_norm/gamma:0\n"
     ]
    },
    {
     "name": "stdout",
     "output_type": "stream",
     "text": [
      "WARNING:tensorflow:Unresolved object in checkpoint: (root).optimizer's state 'v' for (root).layer_with_weights-0.transformer/layer_10/self_attention_layer_norm/beta:0\n"
     ]
    },
    {
     "name": "stderr",
     "output_type": "stream",
     "text": [
      "WARNING:tensorflow:Unresolved object in checkpoint: (root).optimizer's state 'v' for (root).layer_with_weights-0.transformer/layer_10/self_attention_layer_norm/beta:0\n"
     ]
    },
    {
     "name": "stdout",
     "output_type": "stream",
     "text": [
      "WARNING:tensorflow:Unresolved object in checkpoint: (root).optimizer's state 'v' for (root).layer_with_weights-0.transformer/layer_10/intermediate/kernel:0\n"
     ]
    },
    {
     "name": "stderr",
     "output_type": "stream",
     "text": [
      "WARNING:tensorflow:Unresolved object in checkpoint: (root).optimizer's state 'v' for (root).layer_with_weights-0.transformer/layer_10/intermediate/kernel:0\n"
     ]
    },
    {
     "name": "stdout",
     "output_type": "stream",
     "text": [
      "WARNING:tensorflow:Unresolved object in checkpoint: (root).optimizer's state 'v' for (root).layer_with_weights-0.transformer/layer_10/intermediate/bias:0\n"
     ]
    },
    {
     "name": "stderr",
     "output_type": "stream",
     "text": [
      "WARNING:tensorflow:Unresolved object in checkpoint: (root).optimizer's state 'v' for (root).layer_with_weights-0.transformer/layer_10/intermediate/bias:0\n"
     ]
    },
    {
     "name": "stdout",
     "output_type": "stream",
     "text": [
      "WARNING:tensorflow:Unresolved object in checkpoint: (root).optimizer's state 'v' for (root).layer_with_weights-0.transformer/layer_10/output/kernel:0\n"
     ]
    },
    {
     "name": "stderr",
     "output_type": "stream",
     "text": [
      "WARNING:tensorflow:Unresolved object in checkpoint: (root).optimizer's state 'v' for (root).layer_with_weights-0.transformer/layer_10/output/kernel:0\n"
     ]
    },
    {
     "name": "stdout",
     "output_type": "stream",
     "text": [
      "WARNING:tensorflow:Unresolved object in checkpoint: (root).optimizer's state 'v' for (root).layer_with_weights-0.transformer/layer_10/output/bias:0\n"
     ]
    },
    {
     "name": "stderr",
     "output_type": "stream",
     "text": [
      "WARNING:tensorflow:Unresolved object in checkpoint: (root).optimizer's state 'v' for (root).layer_with_weights-0.transformer/layer_10/output/bias:0\n"
     ]
    },
    {
     "name": "stdout",
     "output_type": "stream",
     "text": [
      "WARNING:tensorflow:Unresolved object in checkpoint: (root).optimizer's state 'v' for (root).layer_with_weights-0.transformer/layer_10/output_layer_norm/gamma:0\n"
     ]
    },
    {
     "name": "stderr",
     "output_type": "stream",
     "text": [
      "WARNING:tensorflow:Unresolved object in checkpoint: (root).optimizer's state 'v' for (root).layer_with_weights-0.transformer/layer_10/output_layer_norm/gamma:0\n"
     ]
    },
    {
     "name": "stdout",
     "output_type": "stream",
     "text": [
      "WARNING:tensorflow:Unresolved object in checkpoint: (root).optimizer's state 'v' for (root).layer_with_weights-0.transformer/layer_10/output_layer_norm/beta:0\n"
     ]
    },
    {
     "name": "stderr",
     "output_type": "stream",
     "text": [
      "WARNING:tensorflow:Unresolved object in checkpoint: (root).optimizer's state 'v' for (root).layer_with_weights-0.transformer/layer_10/output_layer_norm/beta:0\n"
     ]
    },
    {
     "name": "stdout",
     "output_type": "stream",
     "text": [
      "WARNING:tensorflow:Unresolved object in checkpoint: (root).optimizer's state 'v' for (root).layer_with_weights-0.transformer/layer_11/self_attention/query/kernel:0\n"
     ]
    },
    {
     "name": "stderr",
     "output_type": "stream",
     "text": [
      "WARNING:tensorflow:Unresolved object in checkpoint: (root).optimizer's state 'v' for (root).layer_with_weights-0.transformer/layer_11/self_attention/query/kernel:0\n"
     ]
    },
    {
     "name": "stdout",
     "output_type": "stream",
     "text": [
      "WARNING:tensorflow:Unresolved object in checkpoint: (root).optimizer's state 'v' for (root).layer_with_weights-0.transformer/layer_11/self_attention/query/bias:0\n"
     ]
    },
    {
     "name": "stderr",
     "output_type": "stream",
     "text": [
      "WARNING:tensorflow:Unresolved object in checkpoint: (root).optimizer's state 'v' for (root).layer_with_weights-0.transformer/layer_11/self_attention/query/bias:0\n"
     ]
    },
    {
     "name": "stdout",
     "output_type": "stream",
     "text": [
      "WARNING:tensorflow:Unresolved object in checkpoint: (root).optimizer's state 'v' for (root).layer_with_weights-0.transformer/layer_11/self_attention/key/kernel:0\n"
     ]
    },
    {
     "name": "stderr",
     "output_type": "stream",
     "text": [
      "WARNING:tensorflow:Unresolved object in checkpoint: (root).optimizer's state 'v' for (root).layer_with_weights-0.transformer/layer_11/self_attention/key/kernel:0\n"
     ]
    },
    {
     "name": "stdout",
     "output_type": "stream",
     "text": [
      "WARNING:tensorflow:Unresolved object in checkpoint: (root).optimizer's state 'v' for (root).layer_with_weights-0.transformer/layer_11/self_attention/key/bias:0\n"
     ]
    },
    {
     "name": "stderr",
     "output_type": "stream",
     "text": [
      "WARNING:tensorflow:Unresolved object in checkpoint: (root).optimizer's state 'v' for (root).layer_with_weights-0.transformer/layer_11/self_attention/key/bias:0\n"
     ]
    },
    {
     "name": "stdout",
     "output_type": "stream",
     "text": [
      "WARNING:tensorflow:Unresolved object in checkpoint: (root).optimizer's state 'v' for (root).layer_with_weights-0.transformer/layer_11/self_attention/value/kernel:0\n"
     ]
    },
    {
     "name": "stderr",
     "output_type": "stream",
     "text": [
      "WARNING:tensorflow:Unresolved object in checkpoint: (root).optimizer's state 'v' for (root).layer_with_weights-0.transformer/layer_11/self_attention/value/kernel:0\n"
     ]
    },
    {
     "name": "stdout",
     "output_type": "stream",
     "text": [
      "WARNING:tensorflow:Unresolved object in checkpoint: (root).optimizer's state 'v' for (root).layer_with_weights-0.transformer/layer_11/self_attention/value/bias:0\n"
     ]
    },
    {
     "name": "stderr",
     "output_type": "stream",
     "text": [
      "WARNING:tensorflow:Unresolved object in checkpoint: (root).optimizer's state 'v' for (root).layer_with_weights-0.transformer/layer_11/self_attention/value/bias:0\n"
     ]
    },
    {
     "name": "stdout",
     "output_type": "stream",
     "text": [
      "WARNING:tensorflow:Unresolved object in checkpoint: (root).optimizer's state 'v' for (root).layer_with_weights-0.transformer/layer_11/self_attention/attention_output/kernel:0\n"
     ]
    },
    {
     "name": "stderr",
     "output_type": "stream",
     "text": [
      "WARNING:tensorflow:Unresolved object in checkpoint: (root).optimizer's state 'v' for (root).layer_with_weights-0.transformer/layer_11/self_attention/attention_output/kernel:0\n"
     ]
    },
    {
     "name": "stdout",
     "output_type": "stream",
     "text": [
      "WARNING:tensorflow:Unresolved object in checkpoint: (root).optimizer's state 'v' for (root).layer_with_weights-0.transformer/layer_11/self_attention/attention_output/bias:0\n"
     ]
    },
    {
     "name": "stderr",
     "output_type": "stream",
     "text": [
      "WARNING:tensorflow:Unresolved object in checkpoint: (root).optimizer's state 'v' for (root).layer_with_weights-0.transformer/layer_11/self_attention/attention_output/bias:0\n"
     ]
    },
    {
     "name": "stdout",
     "output_type": "stream",
     "text": [
      "WARNING:tensorflow:Unresolved object in checkpoint: (root).optimizer's state 'v' for (root).layer_with_weights-0.transformer/layer_11/self_attention_layer_norm/gamma:0\n"
     ]
    },
    {
     "name": "stderr",
     "output_type": "stream",
     "text": [
      "WARNING:tensorflow:Unresolved object in checkpoint: (root).optimizer's state 'v' for (root).layer_with_weights-0.transformer/layer_11/self_attention_layer_norm/gamma:0\n"
     ]
    },
    {
     "name": "stdout",
     "output_type": "stream",
     "text": [
      "WARNING:tensorflow:Unresolved object in checkpoint: (root).optimizer's state 'v' for (root).layer_with_weights-0.transformer/layer_11/self_attention_layer_norm/beta:0\n"
     ]
    },
    {
     "name": "stderr",
     "output_type": "stream",
     "text": [
      "WARNING:tensorflow:Unresolved object in checkpoint: (root).optimizer's state 'v' for (root).layer_with_weights-0.transformer/layer_11/self_attention_layer_norm/beta:0\n"
     ]
    },
    {
     "name": "stdout",
     "output_type": "stream",
     "text": [
      "WARNING:tensorflow:Unresolved object in checkpoint: (root).optimizer's state 'v' for (root).layer_with_weights-0.transformer/layer_11/intermediate/kernel:0\n"
     ]
    },
    {
     "name": "stderr",
     "output_type": "stream",
     "text": [
      "WARNING:tensorflow:Unresolved object in checkpoint: (root).optimizer's state 'v' for (root).layer_with_weights-0.transformer/layer_11/intermediate/kernel:0\n"
     ]
    },
    {
     "name": "stdout",
     "output_type": "stream",
     "text": [
      "WARNING:tensorflow:Unresolved object in checkpoint: (root).optimizer's state 'v' for (root).layer_with_weights-0.transformer/layer_11/intermediate/bias:0\n"
     ]
    },
    {
     "name": "stderr",
     "output_type": "stream",
     "text": [
      "WARNING:tensorflow:Unresolved object in checkpoint: (root).optimizer's state 'v' for (root).layer_with_weights-0.transformer/layer_11/intermediate/bias:0\n"
     ]
    },
    {
     "name": "stdout",
     "output_type": "stream",
     "text": [
      "WARNING:tensorflow:Unresolved object in checkpoint: (root).optimizer's state 'v' for (root).layer_with_weights-0.transformer/layer_11/output/kernel:0\n"
     ]
    },
    {
     "name": "stderr",
     "output_type": "stream",
     "text": [
      "WARNING:tensorflow:Unresolved object in checkpoint: (root).optimizer's state 'v' for (root).layer_with_weights-0.transformer/layer_11/output/kernel:0\n"
     ]
    },
    {
     "name": "stdout",
     "output_type": "stream",
     "text": [
      "WARNING:tensorflow:Unresolved object in checkpoint: (root).optimizer's state 'v' for (root).layer_with_weights-0.transformer/layer_11/output/bias:0\n"
     ]
    },
    {
     "name": "stderr",
     "output_type": "stream",
     "text": [
      "WARNING:tensorflow:Unresolved object in checkpoint: (root).optimizer's state 'v' for (root).layer_with_weights-0.transformer/layer_11/output/bias:0\n"
     ]
    },
    {
     "name": "stdout",
     "output_type": "stream",
     "text": [
      "WARNING:tensorflow:Unresolved object in checkpoint: (root).optimizer's state 'v' for (root).layer_with_weights-0.transformer/layer_11/output_layer_norm/gamma:0\n"
     ]
    },
    {
     "name": "stderr",
     "output_type": "stream",
     "text": [
      "WARNING:tensorflow:Unresolved object in checkpoint: (root).optimizer's state 'v' for (root).layer_with_weights-0.transformer/layer_11/output_layer_norm/gamma:0\n"
     ]
    },
    {
     "name": "stdout",
     "output_type": "stream",
     "text": [
      "WARNING:tensorflow:Unresolved object in checkpoint: (root).optimizer's state 'v' for (root).layer_with_weights-0.transformer/layer_11/output_layer_norm/beta:0\n"
     ]
    },
    {
     "name": "stderr",
     "output_type": "stream",
     "text": [
      "WARNING:tensorflow:Unresolved object in checkpoint: (root).optimizer's state 'v' for (root).layer_with_weights-0.transformer/layer_11/output_layer_norm/beta:0\n"
     ]
    },
    {
     "name": "stdout",
     "output_type": "stream",
     "text": [
      "WARNING:tensorflow:Unresolved object in checkpoint: (root).optimizer's state 'v' for (root).layer_with_weights-0.pooler_transform/kernel:0\n"
     ]
    },
    {
     "name": "stderr",
     "output_type": "stream",
     "text": [
      "WARNING:tensorflow:Unresolved object in checkpoint: (root).optimizer's state 'v' for (root).layer_with_weights-0.pooler_transform/kernel:0\n"
     ]
    },
    {
     "name": "stdout",
     "output_type": "stream",
     "text": [
      "WARNING:tensorflow:Unresolved object in checkpoint: (root).optimizer's state 'v' for (root).layer_with_weights-0.pooler_transform/bias:0\n"
     ]
    },
    {
     "name": "stderr",
     "output_type": "stream",
     "text": [
      "WARNING:tensorflow:Unresolved object in checkpoint: (root).optimizer's state 'v' for (root).layer_with_weights-0.pooler_transform/bias:0\n"
     ]
    },
    {
     "name": "stdout",
     "output_type": "stream",
     "text": [
      "WARNING:tensorflow:Unresolved object in checkpoint: (root).optimizer's state 'v' for (root).layer_with_weights-1.kernel\n"
     ]
    },
    {
     "name": "stderr",
     "output_type": "stream",
     "text": [
      "WARNING:tensorflow:Unresolved object in checkpoint: (root).optimizer's state 'v' for (root).layer_with_weights-1.kernel\n"
     ]
    },
    {
     "name": "stdout",
     "output_type": "stream",
     "text": [
      "WARNING:tensorflow:Unresolved object in checkpoint: (root).optimizer's state 'v' for (root).layer_with_weights-1.bias\n"
     ]
    },
    {
     "name": "stderr",
     "output_type": "stream",
     "text": [
      "WARNING:tensorflow:Unresolved object in checkpoint: (root).optimizer's state 'v' for (root).layer_with_weights-1.bias\n"
     ]
    },
    {
     "name": "stdout",
     "output_type": "stream",
     "text": [
      "WARNING:tensorflow:A checkpoint was restored (e.g. tf.train.Checkpoint.restore or tf.keras.Model.load_weights) but not all checkpointed values were used. See above for specific issues. Use expect_partial() on the load status object, e.g. tf.train.Checkpoint.restore(...).expect_partial(), to silence these warnings, or use assert_consumed() to make the check explicit. See https://www.tensorflow.org/guide/checkpoint#loading_mechanics for details.\n"
     ]
    },
    {
     "name": "stderr",
     "output_type": "stream",
     "text": [
      "WARNING:tensorflow:A checkpoint was restored (e.g. tf.train.Checkpoint.restore or tf.keras.Model.load_weights) but not all checkpointed values were used. See above for specific issues. Use expect_partial() on the load status object, e.g. tf.train.Checkpoint.restore(...).expect_partial(), to silence these warnings, or use assert_consumed() to make the check explicit. See https://www.tensorflow.org/guide/checkpoint#loading_mechanics for details.\n"
     ]
    },
    {
     "name": "stdout",
     "output_type": "stream",
     "text": [
      "Loading weights for model: batch_size32-epochs10-lr3e-05-size128\n",
      "Successfully loaded weights\n"
     ]
    },
    {
     "name": "stderr",
     "output_type": "stream",
     "text": [
      "c:\\users\\joshh\\desktop\\uni\\soton year 3\\comp3200\\fake-news-profiling\\venv\\lib\\site-packages\\sklearn\\model_selection\\_validation.py:552: FitFailedWarning: Estimator fit failed. The score on this train-test partition for these parameters will be set to nan. Details: \n",
      "Traceback (most recent call last):\n",
      "  File \"c:\\users\\joshh\\desktop\\uni\\soton year 3\\comp3200\\fake-news-profiling\\venv\\lib\\site-packages\\sklearn\\model_selection\\_validation.py\", line 531, in _fit_and_score\n",
      "    estimator.fit(X_train, y_train, **fit_params)\n",
      "  File \"c:\\users\\joshh\\desktop\\uni\\soton year 3\\comp3200\\fake-news-profiling\\venv\\lib\\site-packages\\sklearn\\linear_model\\_logistic.py\", line 1304, in fit\n",
      "    solver = _check_solver(self.solver, self.penalty, self.dual)\n",
      "  File \"c:\\users\\joshh\\desktop\\uni\\soton year 3\\comp3200\\fake-news-profiling\\venv\\lib\\site-packages\\sklearn\\linear_model\\_logistic.py\", line 443, in _check_solver\n",
      "    \"got %s penalty.\" % (solver, penalty))\n",
      "ValueError: Solver newton-cg supports only 'l2' or 'none' penalties, got l1 penalty.\n",
      "\n",
      "  FitFailedWarning)\n",
      "c:\\users\\joshh\\desktop\\uni\\soton year 3\\comp3200\\fake-news-profiling\\venv\\lib\\site-packages\\sklearn\\model_selection\\_validation.py:552: FitFailedWarning: Estimator fit failed. The score on this train-test partition for these parameters will be set to nan. Details: \n",
      "Traceback (most recent call last):\n",
      "  File \"c:\\users\\joshh\\desktop\\uni\\soton year 3\\comp3200\\fake-news-profiling\\venv\\lib\\site-packages\\sklearn\\model_selection\\_validation.py\", line 531, in _fit_and_score\n",
      "    estimator.fit(X_train, y_train, **fit_params)\n",
      "  File \"c:\\users\\joshh\\desktop\\uni\\soton year 3\\comp3200\\fake-news-profiling\\venv\\lib\\site-packages\\sklearn\\linear_model\\_logistic.py\", line 1304, in fit\n",
      "    solver = _check_solver(self.solver, self.penalty, self.dual)\n",
      "  File \"c:\\users\\joshh\\desktop\\uni\\soton year 3\\comp3200\\fake-news-profiling\\venv\\lib\\site-packages\\sklearn\\linear_model\\_logistic.py\", line 443, in _check_solver\n",
      "    \"got %s penalty.\" % (solver, penalty))\n",
      "ValueError: Solver lbfgs supports only 'l2' or 'none' penalties, got l1 penalty.\n",
      "\n",
      "  FitFailedWarning)\n",
      "c:\\users\\joshh\\desktop\\uni\\soton year 3\\comp3200\\fake-news-profiling\\venv\\lib\\site-packages\\sklearn\\model_selection\\_validation.py:552: FitFailedWarning: Estimator fit failed. The score on this train-test partition for these parameters will be set to nan. Details: \n",
      "Traceback (most recent call last):\n",
      "  File \"c:\\users\\joshh\\desktop\\uni\\soton year 3\\comp3200\\fake-news-profiling\\venv\\lib\\site-packages\\sklearn\\model_selection\\_validation.py\", line 531, in _fit_and_score\n",
      "    estimator.fit(X_train, y_train, **fit_params)\n",
      "  File \"c:\\users\\joshh\\desktop\\uni\\soton year 3\\comp3200\\fake-news-profiling\\venv\\lib\\site-packages\\sklearn\\linear_model\\_logistic.py\", line 1304, in fit\n",
      "    solver = _check_solver(self.solver, self.penalty, self.dual)\n",
      "  File \"c:\\users\\joshh\\desktop\\uni\\soton year 3\\comp3200\\fake-news-profiling\\venv\\lib\\site-packages\\sklearn\\linear_model\\_logistic.py\", line 443, in _check_solver\n",
      "    \"got %s penalty.\" % (solver, penalty))\n",
      "ValueError: Solver sag supports only 'l2' or 'none' penalties, got l1 penalty.\n",
      "\n",
      "  FitFailedWarning)\n",
      "c:\\users\\joshh\\desktop\\uni\\soton year 3\\comp3200\\fake-news-profiling\\venv\\lib\\site-packages\\sklearn\\linear_model\\_sag.py:330: ConvergenceWarning: The max_iter was reached which means the coef_ did not converge\n",
      "  \"the coef_ did not converge\", ConvergenceWarning)\n",
      "c:\\users\\joshh\\desktop\\uni\\soton year 3\\comp3200\\fake-news-profiling\\venv\\lib\\site-packages\\sklearn\\linear_model\\_sag.py:330: ConvergenceWarning: The max_iter was reached which means the coef_ did not converge\n",
      "  \"the coef_ did not converge\", ConvergenceWarning)\n",
      "c:\\users\\joshh\\desktop\\uni\\soton year 3\\comp3200\\fake-news-profiling\\venv\\lib\\site-packages\\sklearn\\linear_model\\_sag.py:330: ConvergenceWarning: The max_iter was reached which means the coef_ did not converge\n",
      "  \"the coef_ did not converge\", ConvergenceWarning)\n",
      "c:\\users\\joshh\\desktop\\uni\\soton year 3\\comp3200\\fake-news-profiling\\venv\\lib\\site-packages\\sklearn\\linear_model\\_sag.py:330: ConvergenceWarning: The max_iter was reached which means the coef_ did not converge\n",
      "  \"the coef_ did not converge\", ConvergenceWarning)\n",
      "c:\\users\\joshh\\desktop\\uni\\soton year 3\\comp3200\\fake-news-profiling\\venv\\lib\\site-packages\\sklearn\\linear_model\\_sag.py:330: ConvergenceWarning: The max_iter was reached which means the coef_ did not converge\n",
      "  \"the coef_ did not converge\", ConvergenceWarning)\n",
      "c:\\users\\joshh\\desktop\\uni\\soton year 3\\comp3200\\fake-news-profiling\\venv\\lib\\site-packages\\scipy\\optimize\\linesearch.py:327: LineSearchWarning: The line search algorithm did not converge\n",
      "  warn('The line search algorithm did not converge', LineSearchWarning)\n",
      "c:\\users\\joshh\\desktop\\uni\\soton year 3\\comp3200\\fake-news-profiling\\venv\\lib\\site-packages\\sklearn\\utils\\optimize.py:204: UserWarning: Line Search failed\n",
      "  warnings.warn('Line Search failed')\n",
      "c:\\users\\joshh\\desktop\\uni\\soton year 3\\comp3200\\fake-news-profiling\\venv\\lib\\site-packages\\scipy\\optimize\\linesearch.py:327: LineSearchWarning: The line search algorithm did not converge\n",
      "  warn('The line search algorithm did not converge', LineSearchWarning)\n",
      "c:\\users\\joshh\\desktop\\uni\\soton year 3\\comp3200\\fake-news-profiling\\venv\\lib\\site-packages\\sklearn\\utils\\optimize.py:204: UserWarning: Line Search failed\n",
      "  warnings.warn('Line Search failed')\n",
      "c:\\users\\joshh\\desktop\\uni\\soton year 3\\comp3200\\fake-news-profiling\\venv\\lib\\site-packages\\sklearn\\linear_model\\_sag.py:330: ConvergenceWarning: The max_iter was reached which means the coef_ did not converge\n",
      "  \"the coef_ did not converge\", ConvergenceWarning)\n",
      "c:\\users\\joshh\\desktop\\uni\\soton year 3\\comp3200\\fake-news-profiling\\venv\\lib\\site-packages\\sklearn\\linear_model\\_sag.py:330: ConvergenceWarning: The max_iter was reached which means the coef_ did not converge\n",
      "  \"the coef_ did not converge\", ConvergenceWarning)\n",
      "c:\\users\\joshh\\desktop\\uni\\soton year 3\\comp3200\\fake-news-profiling\\venv\\lib\\site-packages\\sklearn\\linear_model\\_sag.py:330: ConvergenceWarning: The max_iter was reached which means the coef_ did not converge\n",
      "  \"the coef_ did not converge\", ConvergenceWarning)\n",
      "c:\\users\\joshh\\desktop\\uni\\soton year 3\\comp3200\\fake-news-profiling\\venv\\lib\\site-packages\\sklearn\\linear_model\\_sag.py:330: ConvergenceWarning: The max_iter was reached which means the coef_ did not converge\n",
      "  \"the coef_ did not converge\", ConvergenceWarning)\n",
      "c:\\users\\joshh\\desktop\\uni\\soton year 3\\comp3200\\fake-news-profiling\\venv\\lib\\site-packages\\sklearn\\linear_model\\_sag.py:330: ConvergenceWarning: The max_iter was reached which means the coef_ did not converge\n",
      "  \"the coef_ did not converge\", ConvergenceWarning)\n",
      "c:\\users\\joshh\\desktop\\uni\\soton year 3\\comp3200\\fake-news-profiling\\venv\\lib\\site-packages\\sklearn\\linear_model\\_sag.py:330: ConvergenceWarning: The max_iter was reached which means the coef_ did not converge\n",
      "  \"the coef_ did not converge\", ConvergenceWarning)\n",
      "c:\\users\\joshh\\desktop\\uni\\soton year 3\\comp3200\\fake-news-profiling\\venv\\lib\\site-packages\\sklearn\\linear_model\\_sag.py:330: ConvergenceWarning: The max_iter was reached which means the coef_ did not converge\n",
      "  \"the coef_ did not converge\", ConvergenceWarning)\n",
      "c:\\users\\joshh\\desktop\\uni\\soton year 3\\comp3200\\fake-news-profiling\\venv\\lib\\site-packages\\sklearn\\linear_model\\_sag.py:330: ConvergenceWarning: The max_iter was reached which means the coef_ did not converge\n",
      "  \"the coef_ did not converge\", ConvergenceWarning)\n",
      "c:\\users\\joshh\\desktop\\uni\\soton year 3\\comp3200\\fake-news-profiling\\venv\\lib\\site-packages\\sklearn\\linear_model\\_sag.py:330: ConvergenceWarning: The max_iter was reached which means the coef_ did not converge\n",
      "  \"the coef_ did not converge\", ConvergenceWarning)\n",
      "c:\\users\\joshh\\desktop\\uni\\soton year 3\\comp3200\\fake-news-profiling\\venv\\lib\\site-packages\\sklearn\\model_selection\\_validation.py:552: FitFailedWarning: Estimator fit failed. The score on this train-test partition for these parameters will be set to nan. Details: \n",
      "Traceback (most recent call last):\n",
      "  File \"c:\\users\\joshh\\desktop\\uni\\soton year 3\\comp3200\\fake-news-profiling\\venv\\lib\\site-packages\\sklearn\\model_selection\\_validation.py\", line 531, in _fit_and_score\n",
      "    estimator.fit(X_train, y_train, **fit_params)\n",
      "  File \"c:\\users\\joshh\\desktop\\uni\\soton year 3\\comp3200\\fake-news-profiling\\venv\\lib\\site-packages\\sklearn\\linear_model\\_logistic.py\", line 1304, in fit\n",
      "    solver = _check_solver(self.solver, self.penalty, self.dual)\n",
      "  File \"c:\\users\\joshh\\desktop\\uni\\soton year 3\\comp3200\\fake-news-profiling\\venv\\lib\\site-packages\\sklearn\\linear_model\\_logistic.py\", line 443, in _check_solver\n",
      "    \"got %s penalty.\" % (solver, penalty))\n",
      "ValueError: Solver newton-cg supports only 'l2' or 'none' penalties, got l1 penalty.\n",
      "\n",
      "  FitFailedWarning)\n",
      "c:\\users\\joshh\\desktop\\uni\\soton year 3\\comp3200\\fake-news-profiling\\venv\\lib\\site-packages\\sklearn\\model_selection\\_validation.py:552: FitFailedWarning: Estimator fit failed. The score on this train-test partition for these parameters will be set to nan. Details: \n",
      "Traceback (most recent call last):\n",
      "  File \"c:\\users\\joshh\\desktop\\uni\\soton year 3\\comp3200\\fake-news-profiling\\venv\\lib\\site-packages\\sklearn\\model_selection\\_validation.py\", line 531, in _fit_and_score\n",
      "    estimator.fit(X_train, y_train, **fit_params)\n",
      "  File \"c:\\users\\joshh\\desktop\\uni\\soton year 3\\comp3200\\fake-news-profiling\\venv\\lib\\site-packages\\sklearn\\linear_model\\_logistic.py\", line 1304, in fit\n",
      "    solver = _check_solver(self.solver, self.penalty, self.dual)\n",
      "  File \"c:\\users\\joshh\\desktop\\uni\\soton year 3\\comp3200\\fake-news-profiling\\venv\\lib\\site-packages\\sklearn\\linear_model\\_logistic.py\", line 443, in _check_solver\n",
      "    \"got %s penalty.\" % (solver, penalty))\n",
      "ValueError: Solver lbfgs supports only 'l2' or 'none' penalties, got l1 penalty.\n",
      "\n",
      "  FitFailedWarning)\n",
      "c:\\users\\joshh\\desktop\\uni\\soton year 3\\comp3200\\fake-news-profiling\\venv\\lib\\site-packages\\sklearn\\model_selection\\_validation.py:552: FitFailedWarning: Estimator fit failed. The score on this train-test partition for these parameters will be set to nan. Details: \n",
      "Traceback (most recent call last):\n",
      "  File \"c:\\users\\joshh\\desktop\\uni\\soton year 3\\comp3200\\fake-news-profiling\\venv\\lib\\site-packages\\sklearn\\model_selection\\_validation.py\", line 531, in _fit_and_score\n",
      "    estimator.fit(X_train, y_train, **fit_params)\n",
      "  File \"c:\\users\\joshh\\desktop\\uni\\soton year 3\\comp3200\\fake-news-profiling\\venv\\lib\\site-packages\\sklearn\\linear_model\\_logistic.py\", line 1304, in fit\n",
      "    solver = _check_solver(self.solver, self.penalty, self.dual)\n",
      "  File \"c:\\users\\joshh\\desktop\\uni\\soton year 3\\comp3200\\fake-news-profiling\\venv\\lib\\site-packages\\sklearn\\linear_model\\_logistic.py\", line 443, in _check_solver\n",
      "    \"got %s penalty.\" % (solver, penalty))\n",
      "ValueError: Solver sag supports only 'l2' or 'none' penalties, got l1 penalty.\n",
      "\n",
      "  FitFailedWarning)\n",
      "c:\\users\\joshh\\desktop\\uni\\soton year 3\\comp3200\\fake-news-profiling\\venv\\lib\\site-packages\\sklearn\\linear_model\\_sag.py:330: ConvergenceWarning: The max_iter was reached which means the coef_ did not converge\n",
      "  \"the coef_ did not converge\", ConvergenceWarning)\n"
     ]
    },
    {
     "name": "stderr",
     "output_type": "stream",
     "text": [
      "c:\\users\\joshh\\desktop\\uni\\soton year 3\\comp3200\\fake-news-profiling\\venv\\lib\\site-packages\\sklearn\\linear_model\\_sag.py:330: ConvergenceWarning: The max_iter was reached which means the coef_ did not converge\n",
      "  \"the coef_ did not converge\", ConvergenceWarning)\n",
      "c:\\users\\joshh\\desktop\\uni\\soton year 3\\comp3200\\fake-news-profiling\\venv\\lib\\site-packages\\sklearn\\linear_model\\_sag.py:330: ConvergenceWarning: The max_iter was reached which means the coef_ did not converge\n",
      "  \"the coef_ did not converge\", ConvergenceWarning)\n",
      "c:\\users\\joshh\\desktop\\uni\\soton year 3\\comp3200\\fake-news-profiling\\venv\\lib\\site-packages\\sklearn\\linear_model\\_sag.py:330: ConvergenceWarning: The max_iter was reached which means the coef_ did not converge\n",
      "  \"the coef_ did not converge\", ConvergenceWarning)\n",
      "c:\\users\\joshh\\desktop\\uni\\soton year 3\\comp3200\\fake-news-profiling\\venv\\lib\\site-packages\\sklearn\\linear_model\\_sag.py:330: ConvergenceWarning: The max_iter was reached which means the coef_ did not converge\n",
      "  \"the coef_ did not converge\", ConvergenceWarning)\n",
      "c:\\users\\joshh\\desktop\\uni\\soton year 3\\comp3200\\fake-news-profiling\\venv\\lib\\site-packages\\scipy\\optimize\\linesearch.py:327: LineSearchWarning: The line search algorithm did not converge\n",
      "  warn('The line search algorithm did not converge', LineSearchWarning)\n",
      "c:\\users\\joshh\\desktop\\uni\\soton year 3\\comp3200\\fake-news-profiling\\venv\\lib\\site-packages\\sklearn\\utils\\optimize.py:204: UserWarning: Line Search failed\n",
      "  warnings.warn('Line Search failed')\n",
      "c:\\users\\joshh\\desktop\\uni\\soton year 3\\comp3200\\fake-news-profiling\\venv\\lib\\site-packages\\scipy\\optimize\\linesearch.py:327: LineSearchWarning: The line search algorithm did not converge\n",
      "  warn('The line search algorithm did not converge', LineSearchWarning)\n",
      "c:\\users\\joshh\\desktop\\uni\\soton year 3\\comp3200\\fake-news-profiling\\venv\\lib\\site-packages\\sklearn\\utils\\optimize.py:204: UserWarning: Line Search failed\n",
      "  warnings.warn('Line Search failed')\n",
      "c:\\users\\joshh\\desktop\\uni\\soton year 3\\comp3200\\fake-news-profiling\\venv\\lib\\site-packages\\sklearn\\model_selection\\_validation.py:552: FitFailedWarning: Estimator fit failed. The score on this train-test partition for these parameters will be set to nan. Details: \n",
      "Traceback (most recent call last):\n",
      "  File \"c:\\users\\joshh\\desktop\\uni\\soton year 3\\comp3200\\fake-news-profiling\\venv\\lib\\site-packages\\sklearn\\model_selection\\_validation.py\", line 531, in _fit_and_score\n",
      "    estimator.fit(X_train, y_train, **fit_params)\n",
      "  File \"c:\\users\\joshh\\desktop\\uni\\soton year 3\\comp3200\\fake-news-profiling\\venv\\lib\\site-packages\\sklearn\\linear_model\\_logistic.py\", line 1304, in fit\n",
      "    solver = _check_solver(self.solver, self.penalty, self.dual)\n",
      "  File \"c:\\users\\joshh\\desktop\\uni\\soton year 3\\comp3200\\fake-news-profiling\\venv\\lib\\site-packages\\sklearn\\linear_model\\_logistic.py\", line 443, in _check_solver\n",
      "    \"got %s penalty.\" % (solver, penalty))\n",
      "ValueError: Solver newton-cg supports only 'l2' or 'none' penalties, got l1 penalty.\n",
      "\n",
      "  FitFailedWarning)\n",
      "c:\\users\\joshh\\desktop\\uni\\soton year 3\\comp3200\\fake-news-profiling\\venv\\lib\\site-packages\\sklearn\\model_selection\\_validation.py:552: FitFailedWarning: Estimator fit failed. The score on this train-test partition for these parameters will be set to nan. Details: \n",
      "Traceback (most recent call last):\n",
      "  File \"c:\\users\\joshh\\desktop\\uni\\soton year 3\\comp3200\\fake-news-profiling\\venv\\lib\\site-packages\\sklearn\\model_selection\\_validation.py\", line 531, in _fit_and_score\n",
      "    estimator.fit(X_train, y_train, **fit_params)\n",
      "  File \"c:\\users\\joshh\\desktop\\uni\\soton year 3\\comp3200\\fake-news-profiling\\venv\\lib\\site-packages\\sklearn\\linear_model\\_logistic.py\", line 1304, in fit\n",
      "    solver = _check_solver(self.solver, self.penalty, self.dual)\n",
      "  File \"c:\\users\\joshh\\desktop\\uni\\soton year 3\\comp3200\\fake-news-profiling\\venv\\lib\\site-packages\\sklearn\\linear_model\\_logistic.py\", line 443, in _check_solver\n",
      "    \"got %s penalty.\" % (solver, penalty))\n",
      "ValueError: Solver lbfgs supports only 'l2' or 'none' penalties, got l1 penalty.\n",
      "\n",
      "  FitFailedWarning)\n",
      "c:\\users\\joshh\\desktop\\uni\\soton year 3\\comp3200\\fake-news-profiling\\venv\\lib\\site-packages\\sklearn\\model_selection\\_validation.py:552: FitFailedWarning: Estimator fit failed. The score on this train-test partition for these parameters will be set to nan. Details: \n",
      "Traceback (most recent call last):\n",
      "  File \"c:\\users\\joshh\\desktop\\uni\\soton year 3\\comp3200\\fake-news-profiling\\venv\\lib\\site-packages\\sklearn\\model_selection\\_validation.py\", line 531, in _fit_and_score\n",
      "    estimator.fit(X_train, y_train, **fit_params)\n",
      "  File \"c:\\users\\joshh\\desktop\\uni\\soton year 3\\comp3200\\fake-news-profiling\\venv\\lib\\site-packages\\sklearn\\linear_model\\_logistic.py\", line 1304, in fit\n",
      "    solver = _check_solver(self.solver, self.penalty, self.dual)\n",
      "  File \"c:\\users\\joshh\\desktop\\uni\\soton year 3\\comp3200\\fake-news-profiling\\venv\\lib\\site-packages\\sklearn\\linear_model\\_logistic.py\", line 443, in _check_solver\n",
      "    \"got %s penalty.\" % (solver, penalty))\n",
      "ValueError: Solver sag supports only 'l2' or 'none' penalties, got l1 penalty.\n",
      "\n",
      "  FitFailedWarning)\n",
      "c:\\users\\joshh\\desktop\\uni\\soton year 3\\comp3200\\fake-news-profiling\\venv\\lib\\site-packages\\sklearn\\linear_model\\_sag.py:330: ConvergenceWarning: The max_iter was reached which means the coef_ did not converge\n",
      "  \"the coef_ did not converge\", ConvergenceWarning)\n",
      "c:\\users\\joshh\\desktop\\uni\\soton year 3\\comp3200\\fake-news-profiling\\venv\\lib\\site-packages\\sklearn\\linear_model\\_sag.py:330: ConvergenceWarning: The max_iter was reached which means the coef_ did not converge\n",
      "  \"the coef_ did not converge\", ConvergenceWarning)\n",
      "c:\\users\\joshh\\desktop\\uni\\soton year 3\\comp3200\\fake-news-profiling\\venv\\lib\\site-packages\\sklearn\\linear_model\\_sag.py:330: ConvergenceWarning: The max_iter was reached which means the coef_ did not converge\n",
      "  \"the coef_ did not converge\", ConvergenceWarning)\n",
      "c:\\users\\joshh\\desktop\\uni\\soton year 3\\comp3200\\fake-news-profiling\\venv\\lib\\site-packages\\sklearn\\linear_model\\_sag.py:330: ConvergenceWarning: The max_iter was reached which means the coef_ did not converge\n",
      "  \"the coef_ did not converge\", ConvergenceWarning)\n",
      "c:\\users\\joshh\\desktop\\uni\\soton year 3\\comp3200\\fake-news-profiling\\venv\\lib\\site-packages\\sklearn\\linear_model\\_sag.py:330: ConvergenceWarning: The max_iter was reached which means the coef_ did not converge\n",
      "  \"the coef_ did not converge\", ConvergenceWarning)\n",
      "c:\\users\\joshh\\desktop\\uni\\soton year 3\\comp3200\\fake-news-profiling\\venv\\lib\\site-packages\\scipy\\optimize\\linesearch.py:327: LineSearchWarning: The line search algorithm did not converge\n",
      "  warn('The line search algorithm did not converge', LineSearchWarning)\n",
      "c:\\users\\joshh\\desktop\\uni\\soton year 3\\comp3200\\fake-news-profiling\\venv\\lib\\site-packages\\sklearn\\utils\\optimize.py:204: UserWarning: Line Search failed\n",
      "  warnings.warn('Line Search failed')\n",
      "c:\\users\\joshh\\desktop\\uni\\soton year 3\\comp3200\\fake-news-profiling\\venv\\lib\\site-packages\\sklearn\\linear_model\\_sag.py:330: ConvergenceWarning: The max_iter was reached which means the coef_ did not converge\n",
      "  \"the coef_ did not converge\", ConvergenceWarning)\n",
      "c:\\users\\joshh\\desktop\\uni\\soton year 3\\comp3200\\fake-news-profiling\\venv\\lib\\site-packages\\sklearn\\linear_model\\_sag.py:330: ConvergenceWarning: The max_iter was reached which means the coef_ did not converge\n",
      "  \"the coef_ did not converge\", ConvergenceWarning)\n",
      "c:\\users\\joshh\\desktop\\uni\\soton year 3\\comp3200\\fake-news-profiling\\venv\\lib\\site-packages\\sklearn\\linear_model\\_sag.py:330: ConvergenceWarning: The max_iter was reached which means the coef_ did not converge\n",
      "  \"the coef_ did not converge\", ConvergenceWarning)\n",
      "c:\\users\\joshh\\desktop\\uni\\soton year 3\\comp3200\\fake-news-profiling\\venv\\lib\\site-packages\\sklearn\\linear_model\\_sag.py:330: ConvergenceWarning: The max_iter was reached which means the coef_ did not converge\n",
      "  \"the coef_ did not converge\", ConvergenceWarning)\n",
      "c:\\users\\joshh\\desktop\\uni\\soton year 3\\comp3200\\fake-news-profiling\\venv\\lib\\site-packages\\sklearn\\linear_model\\_sag.py:330: ConvergenceWarning: The max_iter was reached which means the coef_ did not converge\n",
      "  \"the coef_ did not converge\", ConvergenceWarning)\n",
      "c:\\users\\joshh\\desktop\\uni\\soton year 3\\comp3200\\fake-news-profiling\\venv\\lib\\site-packages\\sklearn\\linear_model\\_sag.py:330: ConvergenceWarning: The max_iter was reached which means the coef_ did not converge\n",
      "  \"the coef_ did not converge\", ConvergenceWarning)\n",
      "c:\\users\\joshh\\desktop\\uni\\soton year 3\\comp3200\\fake-news-profiling\\venv\\lib\\site-packages\\sklearn\\linear_model\\_sag.py:330: ConvergenceWarning: The max_iter was reached which means the coef_ did not converge\n",
      "  \"the coef_ did not converge\", ConvergenceWarning)\n",
      "c:\\users\\joshh\\desktop\\uni\\soton year 3\\comp3200\\fake-news-profiling\\venv\\lib\\site-packages\\sklearn\\linear_model\\_sag.py:330: ConvergenceWarning: The max_iter was reached which means the coef_ did not converge\n",
      "  \"the coef_ did not converge\", ConvergenceWarning)\n",
      "c:\\users\\joshh\\desktop\\uni\\soton year 3\\comp3200\\fake-news-profiling\\venv\\lib\\site-packages\\sklearn\\linear_model\\_sag.py:330: ConvergenceWarning: The max_iter was reached which means the coef_ did not converge\n",
      "  \"the coef_ did not converge\", ConvergenceWarning)\n",
      "c:\\users\\joshh\\desktop\\uni\\soton year 3\\comp3200\\fake-news-profiling\\venv\\lib\\site-packages\\sklearn\\linear_model\\_sag.py:330: ConvergenceWarning: The max_iter was reached which means the coef_ did not converge\n",
      "  \"the coef_ did not converge\", ConvergenceWarning)\n",
      "c:\\users\\joshh\\desktop\\uni\\soton year 3\\comp3200\\fake-news-profiling\\venv\\lib\\site-packages\\sklearn\\model_selection\\_validation.py:552: FitFailedWarning: Estimator fit failed. The score on this train-test partition for these parameters will be set to nan. Details: \n",
      "Traceback (most recent call last):\n",
      "  File \"c:\\users\\joshh\\desktop\\uni\\soton year 3\\comp3200\\fake-news-profiling\\venv\\lib\\site-packages\\sklearn\\model_selection\\_validation.py\", line 531, in _fit_and_score\n",
      "    estimator.fit(X_train, y_train, **fit_params)\n",
      "  File \"c:\\users\\joshh\\desktop\\uni\\soton year 3\\comp3200\\fake-news-profiling\\venv\\lib\\site-packages\\sklearn\\linear_model\\_logistic.py\", line 1304, in fit\n",
      "    solver = _check_solver(self.solver, self.penalty, self.dual)\n",
      "  File \"c:\\users\\joshh\\desktop\\uni\\soton year 3\\comp3200\\fake-news-profiling\\venv\\lib\\site-packages\\sklearn\\linear_model\\_logistic.py\", line 443, in _check_solver\n",
      "    \"got %s penalty.\" % (solver, penalty))\n",
      "ValueError: Solver newton-cg supports only 'l2' or 'none' penalties, got l1 penalty.\n",
      "\n",
      "  FitFailedWarning)\n",
      "c:\\users\\joshh\\desktop\\uni\\soton year 3\\comp3200\\fake-news-profiling\\venv\\lib\\site-packages\\sklearn\\model_selection\\_validation.py:552: FitFailedWarning: Estimator fit failed. The score on this train-test partition for these parameters will be set to nan. Details: \n",
      "Traceback (most recent call last):\n",
      "  File \"c:\\users\\joshh\\desktop\\uni\\soton year 3\\comp3200\\fake-news-profiling\\venv\\lib\\site-packages\\sklearn\\model_selection\\_validation.py\", line 531, in _fit_and_score\n",
      "    estimator.fit(X_train, y_train, **fit_params)\n",
      "  File \"c:\\users\\joshh\\desktop\\uni\\soton year 3\\comp3200\\fake-news-profiling\\venv\\lib\\site-packages\\sklearn\\linear_model\\_logistic.py\", line 1304, in fit\n",
      "    solver = _check_solver(self.solver, self.penalty, self.dual)\n",
      "  File \"c:\\users\\joshh\\desktop\\uni\\soton year 3\\comp3200\\fake-news-profiling\\venv\\lib\\site-packages\\sklearn\\linear_model\\_logistic.py\", line 443, in _check_solver\n",
      "    \"got %s penalty.\" % (solver, penalty))\n",
      "ValueError: Solver lbfgs supports only 'l2' or 'none' penalties, got l1 penalty.\n",
      "\n",
      "  FitFailedWarning)\n",
      "c:\\users\\joshh\\desktop\\uni\\soton year 3\\comp3200\\fake-news-profiling\\venv\\lib\\site-packages\\sklearn\\model_selection\\_validation.py:552: FitFailedWarning: Estimator fit failed. The score on this train-test partition for these parameters will be set to nan. Details: \n",
      "Traceback (most recent call last):\n",
      "  File \"c:\\users\\joshh\\desktop\\uni\\soton year 3\\comp3200\\fake-news-profiling\\venv\\lib\\site-packages\\sklearn\\model_selection\\_validation.py\", line 531, in _fit_and_score\n",
      "    estimator.fit(X_train, y_train, **fit_params)\n",
      "  File \"c:\\users\\joshh\\desktop\\uni\\soton year 3\\comp3200\\fake-news-profiling\\venv\\lib\\site-packages\\sklearn\\linear_model\\_logistic.py\", line 1304, in fit\n",
      "    solver = _check_solver(self.solver, self.penalty, self.dual)\n",
      "  File \"c:\\users\\joshh\\desktop\\uni\\soton year 3\\comp3200\\fake-news-profiling\\venv\\lib\\site-packages\\sklearn\\linear_model\\_logistic.py\", line 443, in _check_solver\n",
      "    \"got %s penalty.\" % (solver, penalty))\n",
      "ValueError: Solver sag supports only 'l2' or 'none' penalties, got l1 penalty.\n",
      "\n",
      "  FitFailedWarning)\n",
      "c:\\users\\joshh\\desktop\\uni\\soton year 3\\comp3200\\fake-news-profiling\\venv\\lib\\site-packages\\sklearn\\linear_model\\_sag.py:330: ConvergenceWarning: The max_iter was reached which means the coef_ did not converge\n",
      "  \"the coef_ did not converge\", ConvergenceWarning)\n"
     ]
    },
    {
     "name": "stderr",
     "output_type": "stream",
     "text": [
      "c:\\users\\joshh\\desktop\\uni\\soton year 3\\comp3200\\fake-news-profiling\\venv\\lib\\site-packages\\sklearn\\linear_model\\_sag.py:330: ConvergenceWarning: The max_iter was reached which means the coef_ did not converge\n",
      "  \"the coef_ did not converge\", ConvergenceWarning)\n",
      "c:\\users\\joshh\\desktop\\uni\\soton year 3\\comp3200\\fake-news-profiling\\venv\\lib\\site-packages\\sklearn\\linear_model\\_sag.py:330: ConvergenceWarning: The max_iter was reached which means the coef_ did not converge\n",
      "  \"the coef_ did not converge\", ConvergenceWarning)\n",
      "c:\\users\\joshh\\desktop\\uni\\soton year 3\\comp3200\\fake-news-profiling\\venv\\lib\\site-packages\\sklearn\\linear_model\\_sag.py:330: ConvergenceWarning: The max_iter was reached which means the coef_ did not converge\n",
      "  \"the coef_ did not converge\", ConvergenceWarning)\n",
      "c:\\users\\joshh\\desktop\\uni\\soton year 3\\comp3200\\fake-news-profiling\\venv\\lib\\site-packages\\sklearn\\linear_model\\_sag.py:330: ConvergenceWarning: The max_iter was reached which means the coef_ did not converge\n",
      "  \"the coef_ did not converge\", ConvergenceWarning)\n",
      "c:\\users\\joshh\\desktop\\uni\\soton year 3\\comp3200\\fake-news-profiling\\venv\\lib\\site-packages\\scipy\\optimize\\linesearch.py:327: LineSearchWarning: The line search algorithm did not converge\n",
      "  warn('The line search algorithm did not converge', LineSearchWarning)\n",
      "c:\\users\\joshh\\desktop\\uni\\soton year 3\\comp3200\\fake-news-profiling\\venv\\lib\\site-packages\\sklearn\\utils\\optimize.py:204: UserWarning: Line Search failed\n",
      "  warnings.warn('Line Search failed')\n",
      "c:\\users\\joshh\\desktop\\uni\\soton year 3\\comp3200\\fake-news-profiling\\venv\\lib\\site-packages\\sklearn\\linear_model\\_sag.py:330: ConvergenceWarning: The max_iter was reached which means the coef_ did not converge\n",
      "  \"the coef_ did not converge\", ConvergenceWarning)\n",
      "c:\\users\\joshh\\desktop\\uni\\soton year 3\\comp3200\\fake-news-profiling\\venv\\lib\\site-packages\\sklearn\\linear_model\\_sag.py:330: ConvergenceWarning: The max_iter was reached which means the coef_ did not converge\n",
      "  \"the coef_ did not converge\", ConvergenceWarning)\n",
      "c:\\users\\joshh\\desktop\\uni\\soton year 3\\comp3200\\fake-news-profiling\\venv\\lib\\site-packages\\sklearn\\linear_model\\_sag.py:330: ConvergenceWarning: The max_iter was reached which means the coef_ did not converge\n",
      "  \"the coef_ did not converge\", ConvergenceWarning)\n",
      "c:\\users\\joshh\\desktop\\uni\\soton year 3\\comp3200\\fake-news-profiling\\venv\\lib\\site-packages\\sklearn\\linear_model\\_sag.py:330: ConvergenceWarning: The max_iter was reached which means the coef_ did not converge\n",
      "  \"the coef_ did not converge\", ConvergenceWarning)\n",
      "c:\\users\\joshh\\desktop\\uni\\soton year 3\\comp3200\\fake-news-profiling\\venv\\lib\\site-packages\\sklearn\\linear_model\\_sag.py:330: ConvergenceWarning: The max_iter was reached which means the coef_ did not converge\n",
      "  \"the coef_ did not converge\", ConvergenceWarning)\n"
     ]
    },
    {
     "name": "stdout",
     "output_type": "stream",
     "text": [
      "Best classifiers for BERT model batch_size32-epochs10-lr3e-05-size128:\n",
      "{'LogisticRegression': {'unsorted-params': {'params': {'max_iter': 100, 'penalty': 'l2', 'solver': 'newton-cg'}, 'accuracy': 0.7666666666666667, 'f1': 0.7741935483870969, 'log_loss': 8.059154438469852}, 'sorted': {'params': {'max_iter': 100, 'penalty': 'l2', 'solver': 'liblinear'}, 'accuracy': 0.7666666666666667, 'f1': 0.7586206896551724, 'log_loss': 8.059127785222179}}, 'SVC': {'unsorted-params': {'params': {'degree': 2, 'kernel': 'linear'}, 'accuracy': 0.7666666666666667, 'f1': 0.7741935483870969, 'log_loss': 8.059154438469852}, 'sorted': {'params': {'degree': 2, 'kernel': 'poly'}, 'accuracy': 0.7666666666666667, 'f1': 0.7586206896551724, 'log_loss': 8.059127785222179}}, 'RandomForestClassifier': {'unsorted-params': {'params': {'criterion': 'gini', 'n_estimators': 150}, 'accuracy': 0.7666666666666667, 'f1': 0.7586206896551724, 'log_loss': 8.059127785222179}, 'sorted': {'params': {'criterion': 'entropy', 'n_estimators': 50}, 'accuracy': 0.8, 'f1': 0.8125, 'log_loss': 6.9078618919728285}}, 'GradientBoostingClassifier': {'unsorted-params': {'params': {'learning_rate': 0.2, 'loss': 'deviance', 'n_estimators': 150}, 'accuracy': 0.7666666666666667, 'f1': 0.7586206896551724, 'log_loss': 8.059127785222179}, 'sorted': {'params': {'learning_rate': 0.01, 'loss': 'deviance', 'n_estimators': 200}, 'accuracy': 0.7333333333333333, 'f1': 0.7500000000000001, 'log_loss': 9.210473638214548}}}\n",
      "Loading weights for model: batch_size16-epochs10-lr3e-05-size128\n",
      "Successfully loaded weights\n"
     ]
    },
    {
     "name": "stderr",
     "output_type": "stream",
     "text": [
      "c:\\users\\joshh\\desktop\\uni\\soton year 3\\comp3200\\fake-news-profiling\\venv\\lib\\site-packages\\sklearn\\model_selection\\_validation.py:552: FitFailedWarning: Estimator fit failed. The score on this train-test partition for these parameters will be set to nan. Details: \n",
      "Traceback (most recent call last):\n",
      "  File \"c:\\users\\joshh\\desktop\\uni\\soton year 3\\comp3200\\fake-news-profiling\\venv\\lib\\site-packages\\sklearn\\model_selection\\_validation.py\", line 531, in _fit_and_score\n",
      "    estimator.fit(X_train, y_train, **fit_params)\n",
      "  File \"c:\\users\\joshh\\desktop\\uni\\soton year 3\\comp3200\\fake-news-profiling\\venv\\lib\\site-packages\\sklearn\\linear_model\\_logistic.py\", line 1304, in fit\n",
      "    solver = _check_solver(self.solver, self.penalty, self.dual)\n",
      "  File \"c:\\users\\joshh\\desktop\\uni\\soton year 3\\comp3200\\fake-news-profiling\\venv\\lib\\site-packages\\sklearn\\linear_model\\_logistic.py\", line 443, in _check_solver\n",
      "    \"got %s penalty.\" % (solver, penalty))\n",
      "ValueError: Solver newton-cg supports only 'l2' or 'none' penalties, got l1 penalty.\n",
      "\n",
      "  FitFailedWarning)\n",
      "c:\\users\\joshh\\desktop\\uni\\soton year 3\\comp3200\\fake-news-profiling\\venv\\lib\\site-packages\\sklearn\\model_selection\\_validation.py:552: FitFailedWarning: Estimator fit failed. The score on this train-test partition for these parameters will be set to nan. Details: \n",
      "Traceback (most recent call last):\n",
      "  File \"c:\\users\\joshh\\desktop\\uni\\soton year 3\\comp3200\\fake-news-profiling\\venv\\lib\\site-packages\\sklearn\\model_selection\\_validation.py\", line 531, in _fit_and_score\n",
      "    estimator.fit(X_train, y_train, **fit_params)\n",
      "  File \"c:\\users\\joshh\\desktop\\uni\\soton year 3\\comp3200\\fake-news-profiling\\venv\\lib\\site-packages\\sklearn\\linear_model\\_logistic.py\", line 1304, in fit\n",
      "    solver = _check_solver(self.solver, self.penalty, self.dual)\n",
      "  File \"c:\\users\\joshh\\desktop\\uni\\soton year 3\\comp3200\\fake-news-profiling\\venv\\lib\\site-packages\\sklearn\\linear_model\\_logistic.py\", line 443, in _check_solver\n",
      "    \"got %s penalty.\" % (solver, penalty))\n",
      "ValueError: Solver lbfgs supports only 'l2' or 'none' penalties, got l1 penalty.\n",
      "\n",
      "  FitFailedWarning)\n",
      "c:\\users\\joshh\\desktop\\uni\\soton year 3\\comp3200\\fake-news-profiling\\venv\\lib\\site-packages\\sklearn\\model_selection\\_validation.py:552: FitFailedWarning: Estimator fit failed. The score on this train-test partition for these parameters will be set to nan. Details: \n",
      "Traceback (most recent call last):\n",
      "  File \"c:\\users\\joshh\\desktop\\uni\\soton year 3\\comp3200\\fake-news-profiling\\venv\\lib\\site-packages\\sklearn\\model_selection\\_validation.py\", line 531, in _fit_and_score\n",
      "    estimator.fit(X_train, y_train, **fit_params)\n",
      "  File \"c:\\users\\joshh\\desktop\\uni\\soton year 3\\comp3200\\fake-news-profiling\\venv\\lib\\site-packages\\sklearn\\linear_model\\_logistic.py\", line 1304, in fit\n",
      "    solver = _check_solver(self.solver, self.penalty, self.dual)\n",
      "  File \"c:\\users\\joshh\\desktop\\uni\\soton year 3\\comp3200\\fake-news-profiling\\venv\\lib\\site-packages\\sklearn\\linear_model\\_logistic.py\", line 443, in _check_solver\n",
      "    \"got %s penalty.\" % (solver, penalty))\n",
      "ValueError: Solver sag supports only 'l2' or 'none' penalties, got l1 penalty.\n",
      "\n",
      "  FitFailedWarning)\n",
      "c:\\users\\joshh\\desktop\\uni\\soton year 3\\comp3200\\fake-news-profiling\\venv\\lib\\site-packages\\sklearn\\linear_model\\_sag.py:330: ConvergenceWarning: The max_iter was reached which means the coef_ did not converge\n",
      "  \"the coef_ did not converge\", ConvergenceWarning)\n",
      "c:\\users\\joshh\\desktop\\uni\\soton year 3\\comp3200\\fake-news-profiling\\venv\\lib\\site-packages\\sklearn\\linear_model\\_sag.py:330: ConvergenceWarning: The max_iter was reached which means the coef_ did not converge\n",
      "  \"the coef_ did not converge\", ConvergenceWarning)\n",
      "c:\\users\\joshh\\desktop\\uni\\soton year 3\\comp3200\\fake-news-profiling\\venv\\lib\\site-packages\\sklearn\\linear_model\\_sag.py:330: ConvergenceWarning: The max_iter was reached which means the coef_ did not converge\n",
      "  \"the coef_ did not converge\", ConvergenceWarning)\n",
      "c:\\users\\joshh\\desktop\\uni\\soton year 3\\comp3200\\fake-news-profiling\\venv\\lib\\site-packages\\sklearn\\linear_model\\_sag.py:330: ConvergenceWarning: The max_iter was reached which means the coef_ did not converge\n",
      "  \"the coef_ did not converge\", ConvergenceWarning)\n",
      "c:\\users\\joshh\\desktop\\uni\\soton year 3\\comp3200\\fake-news-profiling\\venv\\lib\\site-packages\\sklearn\\linear_model\\_sag.py:330: ConvergenceWarning: The max_iter was reached which means the coef_ did not converge\n",
      "  \"the coef_ did not converge\", ConvergenceWarning)\n",
      "c:\\users\\joshh\\desktop\\uni\\soton year 3\\comp3200\\fake-news-profiling\\venv\\lib\\site-packages\\sklearn\\linear_model\\_sag.py:330: ConvergenceWarning: The max_iter was reached which means the coef_ did not converge\n",
      "  \"the coef_ did not converge\", ConvergenceWarning)\n",
      "c:\\users\\joshh\\desktop\\uni\\soton year 3\\comp3200\\fake-news-profiling\\venv\\lib\\site-packages\\sklearn\\linear_model\\_sag.py:330: ConvergenceWarning: The max_iter was reached which means the coef_ did not converge\n",
      "  \"the coef_ did not converge\", ConvergenceWarning)\n",
      "c:\\users\\joshh\\desktop\\uni\\soton year 3\\comp3200\\fake-news-profiling\\venv\\lib\\site-packages\\sklearn\\linear_model\\_sag.py:330: ConvergenceWarning: The max_iter was reached which means the coef_ did not converge\n",
      "  \"the coef_ did not converge\", ConvergenceWarning)\n",
      "c:\\users\\joshh\\desktop\\uni\\soton year 3\\comp3200\\fake-news-profiling\\venv\\lib\\site-packages\\sklearn\\linear_model\\_sag.py:330: ConvergenceWarning: The max_iter was reached which means the coef_ did not converge\n",
      "  \"the coef_ did not converge\", ConvergenceWarning)\n",
      "c:\\users\\joshh\\desktop\\uni\\soton year 3\\comp3200\\fake-news-profiling\\venv\\lib\\site-packages\\sklearn\\linear_model\\_sag.py:330: ConvergenceWarning: The max_iter was reached which means the coef_ did not converge\n",
      "  \"the coef_ did not converge\", ConvergenceWarning)\n",
      "c:\\users\\joshh\\desktop\\uni\\soton year 3\\comp3200\\fake-news-profiling\\venv\\lib\\site-packages\\sklearn\\model_selection\\_validation.py:552: FitFailedWarning: Estimator fit failed. The score on this train-test partition for these parameters will be set to nan. Details: \n",
      "Traceback (most recent call last):\n",
      "  File \"c:\\users\\joshh\\desktop\\uni\\soton year 3\\comp3200\\fake-news-profiling\\venv\\lib\\site-packages\\sklearn\\model_selection\\_validation.py\", line 531, in _fit_and_score\n",
      "    estimator.fit(X_train, y_train, **fit_params)\n",
      "  File \"c:\\users\\joshh\\desktop\\uni\\soton year 3\\comp3200\\fake-news-profiling\\venv\\lib\\site-packages\\sklearn\\linear_model\\_logistic.py\", line 1304, in fit\n",
      "    solver = _check_solver(self.solver, self.penalty, self.dual)\n",
      "  File \"c:\\users\\joshh\\desktop\\uni\\soton year 3\\comp3200\\fake-news-profiling\\venv\\lib\\site-packages\\sklearn\\linear_model\\_logistic.py\", line 443, in _check_solver\n",
      "    \"got %s penalty.\" % (solver, penalty))\n",
      "ValueError: Solver newton-cg supports only 'l2' or 'none' penalties, got l1 penalty.\n",
      "\n",
      "  FitFailedWarning)\n",
      "c:\\users\\joshh\\desktop\\uni\\soton year 3\\comp3200\\fake-news-profiling\\venv\\lib\\site-packages\\sklearn\\model_selection\\_validation.py:552: FitFailedWarning: Estimator fit failed. The score on this train-test partition for these parameters will be set to nan. Details: \n",
      "Traceback (most recent call last):\n",
      "  File \"c:\\users\\joshh\\desktop\\uni\\soton year 3\\comp3200\\fake-news-profiling\\venv\\lib\\site-packages\\sklearn\\model_selection\\_validation.py\", line 531, in _fit_and_score\n",
      "    estimator.fit(X_train, y_train, **fit_params)\n",
      "  File \"c:\\users\\joshh\\desktop\\uni\\soton year 3\\comp3200\\fake-news-profiling\\venv\\lib\\site-packages\\sklearn\\linear_model\\_logistic.py\", line 1304, in fit\n",
      "    solver = _check_solver(self.solver, self.penalty, self.dual)\n",
      "  File \"c:\\users\\joshh\\desktop\\uni\\soton year 3\\comp3200\\fake-news-profiling\\venv\\lib\\site-packages\\sklearn\\linear_model\\_logistic.py\", line 443, in _check_solver\n",
      "    \"got %s penalty.\" % (solver, penalty))\n",
      "ValueError: Solver lbfgs supports only 'l2' or 'none' penalties, got l1 penalty.\n",
      "\n",
      "  FitFailedWarning)\n",
      "c:\\users\\joshh\\desktop\\uni\\soton year 3\\comp3200\\fake-news-profiling\\venv\\lib\\site-packages\\sklearn\\model_selection\\_validation.py:552: FitFailedWarning: Estimator fit failed. The score on this train-test partition for these parameters will be set to nan. Details: \n",
      "Traceback (most recent call last):\n",
      "  File \"c:\\users\\joshh\\desktop\\uni\\soton year 3\\comp3200\\fake-news-profiling\\venv\\lib\\site-packages\\sklearn\\model_selection\\_validation.py\", line 531, in _fit_and_score\n",
      "    estimator.fit(X_train, y_train, **fit_params)\n",
      "  File \"c:\\users\\joshh\\desktop\\uni\\soton year 3\\comp3200\\fake-news-profiling\\venv\\lib\\site-packages\\sklearn\\linear_model\\_logistic.py\", line 1304, in fit\n",
      "    solver = _check_solver(self.solver, self.penalty, self.dual)\n",
      "  File \"c:\\users\\joshh\\desktop\\uni\\soton year 3\\comp3200\\fake-news-profiling\\venv\\lib\\site-packages\\sklearn\\linear_model\\_logistic.py\", line 443, in _check_solver\n",
      "    \"got %s penalty.\" % (solver, penalty))\n",
      "ValueError: Solver sag supports only 'l2' or 'none' penalties, got l1 penalty.\n",
      "\n",
      "  FitFailedWarning)\n",
      "c:\\users\\joshh\\desktop\\uni\\soton year 3\\comp3200\\fake-news-profiling\\venv\\lib\\site-packages\\sklearn\\linear_model\\_sag.py:330: ConvergenceWarning: The max_iter was reached which means the coef_ did not converge\n",
      "  \"the coef_ did not converge\", ConvergenceWarning)\n",
      "c:\\users\\joshh\\desktop\\uni\\soton year 3\\comp3200\\fake-news-profiling\\venv\\lib\\site-packages\\sklearn\\linear_model\\_sag.py:330: ConvergenceWarning: The max_iter was reached which means the coef_ did not converge\n",
      "  \"the coef_ did not converge\", ConvergenceWarning)\n",
      "c:\\users\\joshh\\desktop\\uni\\soton year 3\\comp3200\\fake-news-profiling\\venv\\lib\\site-packages\\sklearn\\linear_model\\_sag.py:330: ConvergenceWarning: The max_iter was reached which means the coef_ did not converge\n",
      "  \"the coef_ did not converge\", ConvergenceWarning)\n"
     ]
    },
    {
     "name": "stderr",
     "output_type": "stream",
     "text": [
      "c:\\users\\joshh\\desktop\\uni\\soton year 3\\comp3200\\fake-news-profiling\\venv\\lib\\site-packages\\sklearn\\linear_model\\_sag.py:330: ConvergenceWarning: The max_iter was reached which means the coef_ did not converge\n",
      "  \"the coef_ did not converge\", ConvergenceWarning)\n",
      "c:\\users\\joshh\\desktop\\uni\\soton year 3\\comp3200\\fake-news-profiling\\venv\\lib\\site-packages\\sklearn\\linear_model\\_sag.py:330: ConvergenceWarning: The max_iter was reached which means the coef_ did not converge\n",
      "  \"the coef_ did not converge\", ConvergenceWarning)\n",
      "c:\\users\\joshh\\desktop\\uni\\soton year 3\\comp3200\\fake-news-profiling\\venv\\lib\\site-packages\\sklearn\\linear_model\\_sag.py:330: ConvergenceWarning: The max_iter was reached which means the coef_ did not converge\n",
      "  \"the coef_ did not converge\", ConvergenceWarning)\n",
      "c:\\users\\joshh\\desktop\\uni\\soton year 3\\comp3200\\fake-news-profiling\\venv\\lib\\site-packages\\sklearn\\model_selection\\_validation.py:552: FitFailedWarning: Estimator fit failed. The score on this train-test partition for these parameters will be set to nan. Details: \n",
      "Traceback (most recent call last):\n",
      "  File \"c:\\users\\joshh\\desktop\\uni\\soton year 3\\comp3200\\fake-news-profiling\\venv\\lib\\site-packages\\sklearn\\model_selection\\_validation.py\", line 531, in _fit_and_score\n",
      "    estimator.fit(X_train, y_train, **fit_params)\n",
      "  File \"c:\\users\\joshh\\desktop\\uni\\soton year 3\\comp3200\\fake-news-profiling\\venv\\lib\\site-packages\\sklearn\\linear_model\\_logistic.py\", line 1304, in fit\n",
      "    solver = _check_solver(self.solver, self.penalty, self.dual)\n",
      "  File \"c:\\users\\joshh\\desktop\\uni\\soton year 3\\comp3200\\fake-news-profiling\\venv\\lib\\site-packages\\sklearn\\linear_model\\_logistic.py\", line 443, in _check_solver\n",
      "    \"got %s penalty.\" % (solver, penalty))\n",
      "ValueError: Solver newton-cg supports only 'l2' or 'none' penalties, got l1 penalty.\n",
      "\n",
      "  FitFailedWarning)\n",
      "c:\\users\\joshh\\desktop\\uni\\soton year 3\\comp3200\\fake-news-profiling\\venv\\lib\\site-packages\\sklearn\\model_selection\\_validation.py:552: FitFailedWarning: Estimator fit failed. The score on this train-test partition for these parameters will be set to nan. Details: \n",
      "Traceback (most recent call last):\n",
      "  File \"c:\\users\\joshh\\desktop\\uni\\soton year 3\\comp3200\\fake-news-profiling\\venv\\lib\\site-packages\\sklearn\\model_selection\\_validation.py\", line 531, in _fit_and_score\n",
      "    estimator.fit(X_train, y_train, **fit_params)\n",
      "  File \"c:\\users\\joshh\\desktop\\uni\\soton year 3\\comp3200\\fake-news-profiling\\venv\\lib\\site-packages\\sklearn\\linear_model\\_logistic.py\", line 1304, in fit\n",
      "    solver = _check_solver(self.solver, self.penalty, self.dual)\n",
      "  File \"c:\\users\\joshh\\desktop\\uni\\soton year 3\\comp3200\\fake-news-profiling\\venv\\lib\\site-packages\\sklearn\\linear_model\\_logistic.py\", line 443, in _check_solver\n",
      "    \"got %s penalty.\" % (solver, penalty))\n",
      "ValueError: Solver lbfgs supports only 'l2' or 'none' penalties, got l1 penalty.\n",
      "\n",
      "  FitFailedWarning)\n",
      "c:\\users\\joshh\\desktop\\uni\\soton year 3\\comp3200\\fake-news-profiling\\venv\\lib\\site-packages\\sklearn\\model_selection\\_validation.py:552: FitFailedWarning: Estimator fit failed. The score on this train-test partition for these parameters will be set to nan. Details: \n",
      "Traceback (most recent call last):\n",
      "  File \"c:\\users\\joshh\\desktop\\uni\\soton year 3\\comp3200\\fake-news-profiling\\venv\\lib\\site-packages\\sklearn\\model_selection\\_validation.py\", line 531, in _fit_and_score\n",
      "    estimator.fit(X_train, y_train, **fit_params)\n",
      "  File \"c:\\users\\joshh\\desktop\\uni\\soton year 3\\comp3200\\fake-news-profiling\\venv\\lib\\site-packages\\sklearn\\linear_model\\_logistic.py\", line 1304, in fit\n",
      "    solver = _check_solver(self.solver, self.penalty, self.dual)\n",
      "  File \"c:\\users\\joshh\\desktop\\uni\\soton year 3\\comp3200\\fake-news-profiling\\venv\\lib\\site-packages\\sklearn\\linear_model\\_logistic.py\", line 443, in _check_solver\n",
      "    \"got %s penalty.\" % (solver, penalty))\n",
      "ValueError: Solver sag supports only 'l2' or 'none' penalties, got l1 penalty.\n",
      "\n",
      "  FitFailedWarning)\n",
      "c:\\users\\joshh\\desktop\\uni\\soton year 3\\comp3200\\fake-news-profiling\\venv\\lib\\site-packages\\sklearn\\linear_model\\_sag.py:330: ConvergenceWarning: The max_iter was reached which means the coef_ did not converge\n",
      "  \"the coef_ did not converge\", ConvergenceWarning)\n",
      "c:\\users\\joshh\\desktop\\uni\\soton year 3\\comp3200\\fake-news-profiling\\venv\\lib\\site-packages\\sklearn\\linear_model\\_sag.py:330: ConvergenceWarning: The max_iter was reached which means the coef_ did not converge\n",
      "  \"the coef_ did not converge\", ConvergenceWarning)\n",
      "c:\\users\\joshh\\desktop\\uni\\soton year 3\\comp3200\\fake-news-profiling\\venv\\lib\\site-packages\\sklearn\\linear_model\\_sag.py:330: ConvergenceWarning: The max_iter was reached which means the coef_ did not converge\n",
      "  \"the coef_ did not converge\", ConvergenceWarning)\n",
      "c:\\users\\joshh\\desktop\\uni\\soton year 3\\comp3200\\fake-news-profiling\\venv\\lib\\site-packages\\sklearn\\linear_model\\_sag.py:330: ConvergenceWarning: The max_iter was reached which means the coef_ did not converge\n",
      "  \"the coef_ did not converge\", ConvergenceWarning)\n",
      "c:\\users\\joshh\\desktop\\uni\\soton year 3\\comp3200\\fake-news-profiling\\venv\\lib\\site-packages\\sklearn\\linear_model\\_sag.py:330: ConvergenceWarning: The max_iter was reached which means the coef_ did not converge\n",
      "  \"the coef_ did not converge\", ConvergenceWarning)\n",
      "c:\\users\\joshh\\desktop\\uni\\soton year 3\\comp3200\\fake-news-profiling\\venv\\lib\\site-packages\\scipy\\optimize\\linesearch.py:327: LineSearchWarning: The line search algorithm did not converge\n",
      "  warn('The line search algorithm did not converge', LineSearchWarning)\n",
      "c:\\users\\joshh\\desktop\\uni\\soton year 3\\comp3200\\fake-news-profiling\\venv\\lib\\site-packages\\sklearn\\utils\\optimize.py:204: UserWarning: Line Search failed\n",
      "  warnings.warn('Line Search failed')\n",
      "c:\\users\\joshh\\desktop\\uni\\soton year 3\\comp3200\\fake-news-profiling\\venv\\lib\\site-packages\\sklearn\\linear_model\\_sag.py:330: ConvergenceWarning: The max_iter was reached which means the coef_ did not converge\n",
      "  \"the coef_ did not converge\", ConvergenceWarning)\n",
      "c:\\users\\joshh\\desktop\\uni\\soton year 3\\comp3200\\fake-news-profiling\\venv\\lib\\site-packages\\sklearn\\linear_model\\_sag.py:330: ConvergenceWarning: The max_iter was reached which means the coef_ did not converge\n",
      "  \"the coef_ did not converge\", ConvergenceWarning)\n",
      "c:\\users\\joshh\\desktop\\uni\\soton year 3\\comp3200\\fake-news-profiling\\venv\\lib\\site-packages\\sklearn\\linear_model\\_sag.py:330: ConvergenceWarning: The max_iter was reached which means the coef_ did not converge\n",
      "  \"the coef_ did not converge\", ConvergenceWarning)\n",
      "c:\\users\\joshh\\desktop\\uni\\soton year 3\\comp3200\\fake-news-profiling\\venv\\lib\\site-packages\\sklearn\\linear_model\\_sag.py:330: ConvergenceWarning: The max_iter was reached which means the coef_ did not converge\n",
      "  \"the coef_ did not converge\", ConvergenceWarning)\n",
      "c:\\users\\joshh\\desktop\\uni\\soton year 3\\comp3200\\fake-news-profiling\\venv\\lib\\site-packages\\sklearn\\linear_model\\_sag.py:330: ConvergenceWarning: The max_iter was reached which means the coef_ did not converge\n",
      "  \"the coef_ did not converge\", ConvergenceWarning)\n",
      "c:\\users\\joshh\\desktop\\uni\\soton year 3\\comp3200\\fake-news-profiling\\venv\\lib\\site-packages\\sklearn\\linear_model\\_sag.py:330: ConvergenceWarning: The max_iter was reached which means the coef_ did not converge\n",
      "  \"the coef_ did not converge\", ConvergenceWarning)\n",
      "c:\\users\\joshh\\desktop\\uni\\soton year 3\\comp3200\\fake-news-profiling\\venv\\lib\\site-packages\\sklearn\\linear_model\\_sag.py:330: ConvergenceWarning: The max_iter was reached which means the coef_ did not converge\n",
      "  \"the coef_ did not converge\", ConvergenceWarning)\n",
      "c:\\users\\joshh\\desktop\\uni\\soton year 3\\comp3200\\fake-news-profiling\\venv\\lib\\site-packages\\sklearn\\linear_model\\_sag.py:330: ConvergenceWarning: The max_iter was reached which means the coef_ did not converge\n",
      "  \"the coef_ did not converge\", ConvergenceWarning)\n",
      "c:\\users\\joshh\\desktop\\uni\\soton year 3\\comp3200\\fake-news-profiling\\venv\\lib\\site-packages\\sklearn\\linear_model\\_sag.py:330: ConvergenceWarning: The max_iter was reached which means the coef_ did not converge\n",
      "  \"the coef_ did not converge\", ConvergenceWarning)\n",
      "c:\\users\\joshh\\desktop\\uni\\soton year 3\\comp3200\\fake-news-profiling\\venv\\lib\\site-packages\\sklearn\\linear_model\\_sag.py:330: ConvergenceWarning: The max_iter was reached which means the coef_ did not converge\n",
      "  \"the coef_ did not converge\", ConvergenceWarning)\n",
      "c:\\users\\joshh\\desktop\\uni\\soton year 3\\comp3200\\fake-news-profiling\\venv\\lib\\site-packages\\sklearn\\model_selection\\_validation.py:552: FitFailedWarning: Estimator fit failed. The score on this train-test partition for these parameters will be set to nan. Details: \n",
      "Traceback (most recent call last):\n",
      "  File \"c:\\users\\joshh\\desktop\\uni\\soton year 3\\comp3200\\fake-news-profiling\\venv\\lib\\site-packages\\sklearn\\model_selection\\_validation.py\", line 531, in _fit_and_score\n",
      "    estimator.fit(X_train, y_train, **fit_params)\n",
      "  File \"c:\\users\\joshh\\desktop\\uni\\soton year 3\\comp3200\\fake-news-profiling\\venv\\lib\\site-packages\\sklearn\\linear_model\\_logistic.py\", line 1304, in fit\n",
      "    solver = _check_solver(self.solver, self.penalty, self.dual)\n",
      "  File \"c:\\users\\joshh\\desktop\\uni\\soton year 3\\comp3200\\fake-news-profiling\\venv\\lib\\site-packages\\sklearn\\linear_model\\_logistic.py\", line 443, in _check_solver\n",
      "    \"got %s penalty.\" % (solver, penalty))\n",
      "ValueError: Solver newton-cg supports only 'l2' or 'none' penalties, got l1 penalty.\n",
      "\n",
      "  FitFailedWarning)\n",
      "c:\\users\\joshh\\desktop\\uni\\soton year 3\\comp3200\\fake-news-profiling\\venv\\lib\\site-packages\\sklearn\\model_selection\\_validation.py:552: FitFailedWarning: Estimator fit failed. The score on this train-test partition for these parameters will be set to nan. Details: \n",
      "Traceback (most recent call last):\n",
      "  File \"c:\\users\\joshh\\desktop\\uni\\soton year 3\\comp3200\\fake-news-profiling\\venv\\lib\\site-packages\\sklearn\\model_selection\\_validation.py\", line 531, in _fit_and_score\n",
      "    estimator.fit(X_train, y_train, **fit_params)\n",
      "  File \"c:\\users\\joshh\\desktop\\uni\\soton year 3\\comp3200\\fake-news-profiling\\venv\\lib\\site-packages\\sklearn\\linear_model\\_logistic.py\", line 1304, in fit\n",
      "    solver = _check_solver(self.solver, self.penalty, self.dual)\n",
      "  File \"c:\\users\\joshh\\desktop\\uni\\soton year 3\\comp3200\\fake-news-profiling\\venv\\lib\\site-packages\\sklearn\\linear_model\\_logistic.py\", line 443, in _check_solver\n",
      "    \"got %s penalty.\" % (solver, penalty))\n",
      "ValueError: Solver lbfgs supports only 'l2' or 'none' penalties, got l1 penalty.\n",
      "\n",
      "  FitFailedWarning)\n",
      "c:\\users\\joshh\\desktop\\uni\\soton year 3\\comp3200\\fake-news-profiling\\venv\\lib\\site-packages\\sklearn\\model_selection\\_validation.py:552: FitFailedWarning: Estimator fit failed. The score on this train-test partition for these parameters will be set to nan. Details: \n",
      "Traceback (most recent call last):\n",
      "  File \"c:\\users\\joshh\\desktop\\uni\\soton year 3\\comp3200\\fake-news-profiling\\venv\\lib\\site-packages\\sklearn\\model_selection\\_validation.py\", line 531, in _fit_and_score\n",
      "    estimator.fit(X_train, y_train, **fit_params)\n",
      "  File \"c:\\users\\joshh\\desktop\\uni\\soton year 3\\comp3200\\fake-news-profiling\\venv\\lib\\site-packages\\sklearn\\linear_model\\_logistic.py\", line 1304, in fit\n",
      "    solver = _check_solver(self.solver, self.penalty, self.dual)\n",
      "  File \"c:\\users\\joshh\\desktop\\uni\\soton year 3\\comp3200\\fake-news-profiling\\venv\\lib\\site-packages\\sklearn\\linear_model\\_logistic.py\", line 443, in _check_solver\n",
      "    \"got %s penalty.\" % (solver, penalty))\n",
      "ValueError: Solver sag supports only 'l2' or 'none' penalties, got l1 penalty.\n",
      "\n",
      "  FitFailedWarning)\n",
      "c:\\users\\joshh\\desktop\\uni\\soton year 3\\comp3200\\fake-news-profiling\\venv\\lib\\site-packages\\sklearn\\linear_model\\_sag.py:330: ConvergenceWarning: The max_iter was reached which means the coef_ did not converge\n",
      "  \"the coef_ did not converge\", ConvergenceWarning)\n",
      "c:\\users\\joshh\\desktop\\uni\\soton year 3\\comp3200\\fake-news-profiling\\venv\\lib\\site-packages\\sklearn\\linear_model\\_sag.py:330: ConvergenceWarning: The max_iter was reached which means the coef_ did not converge\n",
      "  \"the coef_ did not converge\", ConvergenceWarning)\n",
      "c:\\users\\joshh\\desktop\\uni\\soton year 3\\comp3200\\fake-news-profiling\\venv\\lib\\site-packages\\sklearn\\linear_model\\_sag.py:330: ConvergenceWarning: The max_iter was reached which means the coef_ did not converge\n",
      "  \"the coef_ did not converge\", ConvergenceWarning)\n"
     ]
    },
    {
     "name": "stderr",
     "output_type": "stream",
     "text": [
      "c:\\users\\joshh\\desktop\\uni\\soton year 3\\comp3200\\fake-news-profiling\\venv\\lib\\site-packages\\sklearn\\linear_model\\_sag.py:330: ConvergenceWarning: The max_iter was reached which means the coef_ did not converge\n",
      "  \"the coef_ did not converge\", ConvergenceWarning)\n",
      "c:\\users\\joshh\\desktop\\uni\\soton year 3\\comp3200\\fake-news-profiling\\venv\\lib\\site-packages\\sklearn\\linear_model\\_sag.py:330: ConvergenceWarning: The max_iter was reached which means the coef_ did not converge\n",
      "  \"the coef_ did not converge\", ConvergenceWarning)\n",
      "c:\\users\\joshh\\desktop\\uni\\soton year 3\\comp3200\\fake-news-profiling\\venv\\lib\\site-packages\\scipy\\optimize\\linesearch.py:327: LineSearchWarning: The line search algorithm did not converge\n",
      "  warn('The line search algorithm did not converge', LineSearchWarning)\n",
      "c:\\users\\joshh\\desktop\\uni\\soton year 3\\comp3200\\fake-news-profiling\\venv\\lib\\site-packages\\sklearn\\utils\\optimize.py:204: UserWarning: Line Search failed\n",
      "  warnings.warn('Line Search failed')\n",
      "c:\\users\\joshh\\desktop\\uni\\soton year 3\\comp3200\\fake-news-profiling\\venv\\lib\\site-packages\\sklearn\\linear_model\\_sag.py:330: ConvergenceWarning: The max_iter was reached which means the coef_ did not converge\n",
      "  \"the coef_ did not converge\", ConvergenceWarning)\n",
      "c:\\users\\joshh\\desktop\\uni\\soton year 3\\comp3200\\fake-news-profiling\\venv\\lib\\site-packages\\sklearn\\linear_model\\_sag.py:330: ConvergenceWarning: The max_iter was reached which means the coef_ did not converge\n",
      "  \"the coef_ did not converge\", ConvergenceWarning)\n",
      "c:\\users\\joshh\\desktop\\uni\\soton year 3\\comp3200\\fake-news-profiling\\venv\\lib\\site-packages\\sklearn\\linear_model\\_sag.py:330: ConvergenceWarning: The max_iter was reached which means the coef_ did not converge\n",
      "  \"the coef_ did not converge\", ConvergenceWarning)\n",
      "c:\\users\\joshh\\desktop\\uni\\soton year 3\\comp3200\\fake-news-profiling\\venv\\lib\\site-packages\\sklearn\\linear_model\\_sag.py:330: ConvergenceWarning: The max_iter was reached which means the coef_ did not converge\n",
      "  \"the coef_ did not converge\", ConvergenceWarning)\n",
      "c:\\users\\joshh\\desktop\\uni\\soton year 3\\comp3200\\fake-news-profiling\\venv\\lib\\site-packages\\sklearn\\linear_model\\_sag.py:330: ConvergenceWarning: The max_iter was reached which means the coef_ did not converge\n",
      "  \"the coef_ did not converge\", ConvergenceWarning)\n"
     ]
    },
    {
     "name": "stdout",
     "output_type": "stream",
     "text": [
      "Best classifiers for BERT model batch_size16-epochs10-lr3e-05-size128:\n",
      "{'LogisticRegression': {'unsorted-params': {'params': {'max_iter': 100, 'penalty': 'l1', 'solver': 'saga'}, 'accuracy': 0.7666666666666667, 'f1': 0.7586206896551724, 'log_loss': 8.059127785222179}, 'sorted': {'params': {'max_iter': 100, 'penalty': 'l1', 'solver': 'liblinear'}, 'accuracy': 0.7333333333333333, 'f1': 0.7142857142857142, 'log_loss': 9.210420331719202}}, 'SVC': {'unsorted-params': {'params': {'degree': 2, 'kernel': 'rbf'}, 'accuracy': 0.8333333333333334, 'f1': 0.8275862068965518, 'log_loss': 5.75651603898046}, 'sorted': {'params': {'degree': 2, 'kernel': 'linear'}, 'accuracy': 0.7333333333333333, 'f1': 0.7142857142857142, 'log_loss': 9.210420331719202}}, 'RandomForestClassifier': {'unsorted-params': {'params': {'criterion': 'entropy', 'n_estimators': 200}, 'accuracy': 0.8, 'f1': 0.7857142857142856, 'log_loss': 6.907808585477483}, 'sorted': {'params': {'criterion': 'gini', 'n_estimators': 100}, 'accuracy': 0.7333333333333333, 'f1': 0.7333333333333333, 'log_loss': 9.210446984966874}}, 'GradientBoostingClassifier': {'unsorted-params': {'params': {'learning_rate': 0.01, 'loss': 'exponential', 'n_estimators': 150}, 'accuracy': 0.6666666666666666, 'f1': 0.6666666666666666, 'log_loss': 11.513058731208593}, 'sorted': {'params': {'learning_rate': 0.1, 'loss': 'exponential', 'n_estimators': 100}, 'accuracy': 0.7, 'f1': 0.7096774193548386, 'log_loss': 10.36176618471157}}}\n",
      "Loading weights for model: batch_size16-epochs10-lr3e-05-size256\n",
      "Successfully loaded weights\n"
     ]
    },
    {
     "name": "stderr",
     "output_type": "stream",
     "text": [
      "c:\\users\\joshh\\desktop\\uni\\soton year 3\\comp3200\\fake-news-profiling\\venv\\lib\\site-packages\\sklearn\\model_selection\\_validation.py:552: FitFailedWarning: Estimator fit failed. The score on this train-test partition for these parameters will be set to nan. Details: \n",
      "Traceback (most recent call last):\n",
      "  File \"c:\\users\\joshh\\desktop\\uni\\soton year 3\\comp3200\\fake-news-profiling\\venv\\lib\\site-packages\\sklearn\\model_selection\\_validation.py\", line 531, in _fit_and_score\n",
      "    estimator.fit(X_train, y_train, **fit_params)\n",
      "  File \"c:\\users\\joshh\\desktop\\uni\\soton year 3\\comp3200\\fake-news-profiling\\venv\\lib\\site-packages\\sklearn\\linear_model\\_logistic.py\", line 1304, in fit\n",
      "    solver = _check_solver(self.solver, self.penalty, self.dual)\n",
      "  File \"c:\\users\\joshh\\desktop\\uni\\soton year 3\\comp3200\\fake-news-profiling\\venv\\lib\\site-packages\\sklearn\\linear_model\\_logistic.py\", line 443, in _check_solver\n",
      "    \"got %s penalty.\" % (solver, penalty))\n",
      "ValueError: Solver newton-cg supports only 'l2' or 'none' penalties, got l1 penalty.\n",
      "\n",
      "  FitFailedWarning)\n",
      "c:\\users\\joshh\\desktop\\uni\\soton year 3\\comp3200\\fake-news-profiling\\venv\\lib\\site-packages\\sklearn\\model_selection\\_validation.py:552: FitFailedWarning: Estimator fit failed. The score on this train-test partition for these parameters will be set to nan. Details: \n",
      "Traceback (most recent call last):\n",
      "  File \"c:\\users\\joshh\\desktop\\uni\\soton year 3\\comp3200\\fake-news-profiling\\venv\\lib\\site-packages\\sklearn\\model_selection\\_validation.py\", line 531, in _fit_and_score\n",
      "    estimator.fit(X_train, y_train, **fit_params)\n",
      "  File \"c:\\users\\joshh\\desktop\\uni\\soton year 3\\comp3200\\fake-news-profiling\\venv\\lib\\site-packages\\sklearn\\linear_model\\_logistic.py\", line 1304, in fit\n",
      "    solver = _check_solver(self.solver, self.penalty, self.dual)\n",
      "  File \"c:\\users\\joshh\\desktop\\uni\\soton year 3\\comp3200\\fake-news-profiling\\venv\\lib\\site-packages\\sklearn\\linear_model\\_logistic.py\", line 443, in _check_solver\n",
      "    \"got %s penalty.\" % (solver, penalty))\n",
      "ValueError: Solver lbfgs supports only 'l2' or 'none' penalties, got l1 penalty.\n",
      "\n",
      "  FitFailedWarning)\n",
      "c:\\users\\joshh\\desktop\\uni\\soton year 3\\comp3200\\fake-news-profiling\\venv\\lib\\site-packages\\sklearn\\model_selection\\_validation.py:552: FitFailedWarning: Estimator fit failed. The score on this train-test partition for these parameters will be set to nan. Details: \n",
      "Traceback (most recent call last):\n",
      "  File \"c:\\users\\joshh\\desktop\\uni\\soton year 3\\comp3200\\fake-news-profiling\\venv\\lib\\site-packages\\sklearn\\model_selection\\_validation.py\", line 531, in _fit_and_score\n",
      "    estimator.fit(X_train, y_train, **fit_params)\n",
      "  File \"c:\\users\\joshh\\desktop\\uni\\soton year 3\\comp3200\\fake-news-profiling\\venv\\lib\\site-packages\\sklearn\\linear_model\\_logistic.py\", line 1304, in fit\n",
      "    solver = _check_solver(self.solver, self.penalty, self.dual)\n",
      "  File \"c:\\users\\joshh\\desktop\\uni\\soton year 3\\comp3200\\fake-news-profiling\\venv\\lib\\site-packages\\sklearn\\linear_model\\_logistic.py\", line 443, in _check_solver\n",
      "    \"got %s penalty.\" % (solver, penalty))\n",
      "ValueError: Solver sag supports only 'l2' or 'none' penalties, got l1 penalty.\n",
      "\n",
      "  FitFailedWarning)\n",
      "c:\\users\\joshh\\desktop\\uni\\soton year 3\\comp3200\\fake-news-profiling\\venv\\lib\\site-packages\\sklearn\\linear_model\\_sag.py:330: ConvergenceWarning: The max_iter was reached which means the coef_ did not converge\n",
      "  \"the coef_ did not converge\", ConvergenceWarning)\n",
      "c:\\users\\joshh\\desktop\\uni\\soton year 3\\comp3200\\fake-news-profiling\\venv\\lib\\site-packages\\sklearn\\linear_model\\_sag.py:330: ConvergenceWarning: The max_iter was reached which means the coef_ did not converge\n",
      "  \"the coef_ did not converge\", ConvergenceWarning)\n",
      "c:\\users\\joshh\\desktop\\uni\\soton year 3\\comp3200\\fake-news-profiling\\venv\\lib\\site-packages\\sklearn\\linear_model\\_sag.py:330: ConvergenceWarning: The max_iter was reached which means the coef_ did not converge\n",
      "  \"the coef_ did not converge\", ConvergenceWarning)\n",
      "c:\\users\\joshh\\desktop\\uni\\soton year 3\\comp3200\\fake-news-profiling\\venv\\lib\\site-packages\\sklearn\\linear_model\\_sag.py:330: ConvergenceWarning: The max_iter was reached which means the coef_ did not converge\n",
      "  \"the coef_ did not converge\", ConvergenceWarning)\n",
      "c:\\users\\joshh\\desktop\\uni\\soton year 3\\comp3200\\fake-news-profiling\\venv\\lib\\site-packages\\sklearn\\linear_model\\_sag.py:330: ConvergenceWarning: The max_iter was reached which means the coef_ did not converge\n",
      "  \"the coef_ did not converge\", ConvergenceWarning)\n",
      "c:\\users\\joshh\\desktop\\uni\\soton year 3\\comp3200\\fake-news-profiling\\venv\\lib\\site-packages\\scipy\\optimize\\linesearch.py:327: LineSearchWarning: The line search algorithm did not converge\n",
      "  warn('The line search algorithm did not converge', LineSearchWarning)\n",
      "c:\\users\\joshh\\desktop\\uni\\soton year 3\\comp3200\\fake-news-profiling\\venv\\lib\\site-packages\\sklearn\\utils\\optimize.py:204: UserWarning: Line Search failed\n",
      "  warnings.warn('Line Search failed')\n",
      "c:\\users\\joshh\\desktop\\uni\\soton year 3\\comp3200\\fake-news-profiling\\venv\\lib\\site-packages\\sklearn\\linear_model\\_sag.py:330: ConvergenceWarning: The max_iter was reached which means the coef_ did not converge\n",
      "  \"the coef_ did not converge\", ConvergenceWarning)\n",
      "c:\\users\\joshh\\desktop\\uni\\soton year 3\\comp3200\\fake-news-profiling\\venv\\lib\\site-packages\\sklearn\\linear_model\\_sag.py:330: ConvergenceWarning: The max_iter was reached which means the coef_ did not converge\n",
      "  \"the coef_ did not converge\", ConvergenceWarning)\n",
      "c:\\users\\joshh\\desktop\\uni\\soton year 3\\comp3200\\fake-news-profiling\\venv\\lib\\site-packages\\sklearn\\linear_model\\_sag.py:330: ConvergenceWarning: The max_iter was reached which means the coef_ did not converge\n",
      "  \"the coef_ did not converge\", ConvergenceWarning)\n",
      "c:\\users\\joshh\\desktop\\uni\\soton year 3\\comp3200\\fake-news-profiling\\venv\\lib\\site-packages\\sklearn\\linear_model\\_sag.py:330: ConvergenceWarning: The max_iter was reached which means the coef_ did not converge\n",
      "  \"the coef_ did not converge\", ConvergenceWarning)\n",
      "c:\\users\\joshh\\desktop\\uni\\soton year 3\\comp3200\\fake-news-profiling\\venv\\lib\\site-packages\\sklearn\\linear_model\\_sag.py:330: ConvergenceWarning: The max_iter was reached which means the coef_ did not converge\n",
      "  \"the coef_ did not converge\", ConvergenceWarning)\n",
      "c:\\users\\joshh\\desktop\\uni\\soton year 3\\comp3200\\fake-news-profiling\\venv\\lib\\site-packages\\sklearn\\linear_model\\_sag.py:330: ConvergenceWarning: The max_iter was reached which means the coef_ did not converge\n",
      "  \"the coef_ did not converge\", ConvergenceWarning)\n",
      "c:\\users\\joshh\\desktop\\uni\\soton year 3\\comp3200\\fake-news-profiling\\venv\\lib\\site-packages\\sklearn\\linear_model\\_sag.py:330: ConvergenceWarning: The max_iter was reached which means the coef_ did not converge\n",
      "  \"the coef_ did not converge\", ConvergenceWarning)\n",
      "c:\\users\\joshh\\desktop\\uni\\soton year 3\\comp3200\\fake-news-profiling\\venv\\lib\\site-packages\\sklearn\\linear_model\\_sag.py:330: ConvergenceWarning: The max_iter was reached which means the coef_ did not converge\n",
      "  \"the coef_ did not converge\", ConvergenceWarning)\n",
      "c:\\users\\joshh\\desktop\\uni\\soton year 3\\comp3200\\fake-news-profiling\\venv\\lib\\site-packages\\sklearn\\linear_model\\_sag.py:330: ConvergenceWarning: The max_iter was reached which means the coef_ did not converge\n",
      "  \"the coef_ did not converge\", ConvergenceWarning)\n",
      "c:\\users\\joshh\\desktop\\uni\\soton year 3\\comp3200\\fake-news-profiling\\venv\\lib\\site-packages\\sklearn\\model_selection\\_validation.py:552: FitFailedWarning: Estimator fit failed. The score on this train-test partition for these parameters will be set to nan. Details: \n",
      "Traceback (most recent call last):\n",
      "  File \"c:\\users\\joshh\\desktop\\uni\\soton year 3\\comp3200\\fake-news-profiling\\venv\\lib\\site-packages\\sklearn\\model_selection\\_validation.py\", line 531, in _fit_and_score\n",
      "    estimator.fit(X_train, y_train, **fit_params)\n",
      "  File \"c:\\users\\joshh\\desktop\\uni\\soton year 3\\comp3200\\fake-news-profiling\\venv\\lib\\site-packages\\sklearn\\linear_model\\_logistic.py\", line 1304, in fit\n",
      "    solver = _check_solver(self.solver, self.penalty, self.dual)\n",
      "  File \"c:\\users\\joshh\\desktop\\uni\\soton year 3\\comp3200\\fake-news-profiling\\venv\\lib\\site-packages\\sklearn\\linear_model\\_logistic.py\", line 443, in _check_solver\n",
      "    \"got %s penalty.\" % (solver, penalty))\n",
      "ValueError: Solver newton-cg supports only 'l2' or 'none' penalties, got l1 penalty.\n",
      "\n",
      "  FitFailedWarning)\n",
      "c:\\users\\joshh\\desktop\\uni\\soton year 3\\comp3200\\fake-news-profiling\\venv\\lib\\site-packages\\sklearn\\model_selection\\_validation.py:552: FitFailedWarning: Estimator fit failed. The score on this train-test partition for these parameters will be set to nan. Details: \n",
      "Traceback (most recent call last):\n",
      "  File \"c:\\users\\joshh\\desktop\\uni\\soton year 3\\comp3200\\fake-news-profiling\\venv\\lib\\site-packages\\sklearn\\model_selection\\_validation.py\", line 531, in _fit_and_score\n",
      "    estimator.fit(X_train, y_train, **fit_params)\n",
      "  File \"c:\\users\\joshh\\desktop\\uni\\soton year 3\\comp3200\\fake-news-profiling\\venv\\lib\\site-packages\\sklearn\\linear_model\\_logistic.py\", line 1304, in fit\n",
      "    solver = _check_solver(self.solver, self.penalty, self.dual)\n",
      "  File \"c:\\users\\joshh\\desktop\\uni\\soton year 3\\comp3200\\fake-news-profiling\\venv\\lib\\site-packages\\sklearn\\linear_model\\_logistic.py\", line 443, in _check_solver\n",
      "    \"got %s penalty.\" % (solver, penalty))\n",
      "ValueError: Solver lbfgs supports only 'l2' or 'none' penalties, got l1 penalty.\n",
      "\n",
      "  FitFailedWarning)\n",
      "c:\\users\\joshh\\desktop\\uni\\soton year 3\\comp3200\\fake-news-profiling\\venv\\lib\\site-packages\\sklearn\\model_selection\\_validation.py:552: FitFailedWarning: Estimator fit failed. The score on this train-test partition for these parameters will be set to nan. Details: \n",
      "Traceback (most recent call last):\n",
      "  File \"c:\\users\\joshh\\desktop\\uni\\soton year 3\\comp3200\\fake-news-profiling\\venv\\lib\\site-packages\\sklearn\\model_selection\\_validation.py\", line 531, in _fit_and_score\n",
      "    estimator.fit(X_train, y_train, **fit_params)\n",
      "  File \"c:\\users\\joshh\\desktop\\uni\\soton year 3\\comp3200\\fake-news-profiling\\venv\\lib\\site-packages\\sklearn\\linear_model\\_logistic.py\", line 1304, in fit\n",
      "    solver = _check_solver(self.solver, self.penalty, self.dual)\n",
      "  File \"c:\\users\\joshh\\desktop\\uni\\soton year 3\\comp3200\\fake-news-profiling\\venv\\lib\\site-packages\\sklearn\\linear_model\\_logistic.py\", line 443, in _check_solver\n",
      "    \"got %s penalty.\" % (solver, penalty))\n",
      "ValueError: Solver sag supports only 'l2' or 'none' penalties, got l1 penalty.\n",
      "\n",
      "  FitFailedWarning)\n",
      "c:\\users\\joshh\\desktop\\uni\\soton year 3\\comp3200\\fake-news-profiling\\venv\\lib\\site-packages\\sklearn\\linear_model\\_sag.py:330: ConvergenceWarning: The max_iter was reached which means the coef_ did not converge\n",
      "  \"the coef_ did not converge\", ConvergenceWarning)\n",
      "c:\\users\\joshh\\desktop\\uni\\soton year 3\\comp3200\\fake-news-profiling\\venv\\lib\\site-packages\\sklearn\\linear_model\\_sag.py:330: ConvergenceWarning: The max_iter was reached which means the coef_ did not converge\n",
      "  \"the coef_ did not converge\", ConvergenceWarning)\n",
      "c:\\users\\joshh\\desktop\\uni\\soton year 3\\comp3200\\fake-news-profiling\\venv\\lib\\site-packages\\sklearn\\linear_model\\_sag.py:330: ConvergenceWarning: The max_iter was reached which means the coef_ did not converge\n",
      "  \"the coef_ did not converge\", ConvergenceWarning)\n"
     ]
    },
    {
     "name": "stderr",
     "output_type": "stream",
     "text": [
      "c:\\users\\joshh\\desktop\\uni\\soton year 3\\comp3200\\fake-news-profiling\\venv\\lib\\site-packages\\sklearn\\linear_model\\_sag.py:330: ConvergenceWarning: The max_iter was reached which means the coef_ did not converge\n",
      "  \"the coef_ did not converge\", ConvergenceWarning)\n",
      "c:\\users\\joshh\\desktop\\uni\\soton year 3\\comp3200\\fake-news-profiling\\venv\\lib\\site-packages\\sklearn\\linear_model\\_sag.py:330: ConvergenceWarning: The max_iter was reached which means the coef_ did not converge\n",
      "  \"the coef_ did not converge\", ConvergenceWarning)\n",
      "c:\\users\\joshh\\desktop\\uni\\soton year 3\\comp3200\\fake-news-profiling\\venv\\lib\\site-packages\\scipy\\optimize\\linesearch.py:327: LineSearchWarning: The line search algorithm did not converge\n",
      "  warn('The line search algorithm did not converge', LineSearchWarning)\n",
      "c:\\users\\joshh\\desktop\\uni\\soton year 3\\comp3200\\fake-news-profiling\\venv\\lib\\site-packages\\sklearn\\utils\\optimize.py:204: UserWarning: Line Search failed\n",
      "  warnings.warn('Line Search failed')\n",
      "c:\\users\\joshh\\desktop\\uni\\soton year 3\\comp3200\\fake-news-profiling\\venv\\lib\\site-packages\\sklearn\\linear_model\\_sag.py:330: ConvergenceWarning: The max_iter was reached which means the coef_ did not converge\n",
      "  \"the coef_ did not converge\", ConvergenceWarning)\n",
      "c:\\users\\joshh\\desktop\\uni\\soton year 3\\comp3200\\fake-news-profiling\\venv\\lib\\site-packages\\sklearn\\linear_model\\_sag.py:330: ConvergenceWarning: The max_iter was reached which means the coef_ did not converge\n",
      "  \"the coef_ did not converge\", ConvergenceWarning)\n",
      "c:\\users\\joshh\\desktop\\uni\\soton year 3\\comp3200\\fake-news-profiling\\venv\\lib\\site-packages\\sklearn\\model_selection\\_validation.py:552: FitFailedWarning: Estimator fit failed. The score on this train-test partition for these parameters will be set to nan. Details: \n",
      "Traceback (most recent call last):\n",
      "  File \"c:\\users\\joshh\\desktop\\uni\\soton year 3\\comp3200\\fake-news-profiling\\venv\\lib\\site-packages\\sklearn\\model_selection\\_validation.py\", line 531, in _fit_and_score\n",
      "    estimator.fit(X_train, y_train, **fit_params)\n",
      "  File \"c:\\users\\joshh\\desktop\\uni\\soton year 3\\comp3200\\fake-news-profiling\\venv\\lib\\site-packages\\sklearn\\linear_model\\_logistic.py\", line 1304, in fit\n",
      "    solver = _check_solver(self.solver, self.penalty, self.dual)\n",
      "  File \"c:\\users\\joshh\\desktop\\uni\\soton year 3\\comp3200\\fake-news-profiling\\venv\\lib\\site-packages\\sklearn\\linear_model\\_logistic.py\", line 443, in _check_solver\n",
      "    \"got %s penalty.\" % (solver, penalty))\n",
      "ValueError: Solver newton-cg supports only 'l2' or 'none' penalties, got l1 penalty.\n",
      "\n",
      "  FitFailedWarning)\n",
      "c:\\users\\joshh\\desktop\\uni\\soton year 3\\comp3200\\fake-news-profiling\\venv\\lib\\site-packages\\sklearn\\model_selection\\_validation.py:552: FitFailedWarning: Estimator fit failed. The score on this train-test partition for these parameters will be set to nan. Details: \n",
      "Traceback (most recent call last):\n",
      "  File \"c:\\users\\joshh\\desktop\\uni\\soton year 3\\comp3200\\fake-news-profiling\\venv\\lib\\site-packages\\sklearn\\model_selection\\_validation.py\", line 531, in _fit_and_score\n",
      "    estimator.fit(X_train, y_train, **fit_params)\n",
      "  File \"c:\\users\\joshh\\desktop\\uni\\soton year 3\\comp3200\\fake-news-profiling\\venv\\lib\\site-packages\\sklearn\\linear_model\\_logistic.py\", line 1304, in fit\n",
      "    solver = _check_solver(self.solver, self.penalty, self.dual)\n",
      "  File \"c:\\users\\joshh\\desktop\\uni\\soton year 3\\comp3200\\fake-news-profiling\\venv\\lib\\site-packages\\sklearn\\linear_model\\_logistic.py\", line 443, in _check_solver\n",
      "    \"got %s penalty.\" % (solver, penalty))\n",
      "ValueError: Solver lbfgs supports only 'l2' or 'none' penalties, got l1 penalty.\n",
      "\n",
      "  FitFailedWarning)\n",
      "c:\\users\\joshh\\desktop\\uni\\soton year 3\\comp3200\\fake-news-profiling\\venv\\lib\\site-packages\\sklearn\\model_selection\\_validation.py:552: FitFailedWarning: Estimator fit failed. The score on this train-test partition for these parameters will be set to nan. Details: \n",
      "Traceback (most recent call last):\n",
      "  File \"c:\\users\\joshh\\desktop\\uni\\soton year 3\\comp3200\\fake-news-profiling\\venv\\lib\\site-packages\\sklearn\\model_selection\\_validation.py\", line 531, in _fit_and_score\n",
      "    estimator.fit(X_train, y_train, **fit_params)\n",
      "  File \"c:\\users\\joshh\\desktop\\uni\\soton year 3\\comp3200\\fake-news-profiling\\venv\\lib\\site-packages\\sklearn\\linear_model\\_logistic.py\", line 1304, in fit\n",
      "    solver = _check_solver(self.solver, self.penalty, self.dual)\n",
      "  File \"c:\\users\\joshh\\desktop\\uni\\soton year 3\\comp3200\\fake-news-profiling\\venv\\lib\\site-packages\\sklearn\\linear_model\\_logistic.py\", line 443, in _check_solver\n",
      "    \"got %s penalty.\" % (solver, penalty))\n",
      "ValueError: Solver sag supports only 'l2' or 'none' penalties, got l1 penalty.\n",
      "\n",
      "  FitFailedWarning)\n",
      "c:\\users\\joshh\\desktop\\uni\\soton year 3\\comp3200\\fake-news-profiling\\venv\\lib\\site-packages\\sklearn\\linear_model\\_sag.py:330: ConvergenceWarning: The max_iter was reached which means the coef_ did not converge\n",
      "  \"the coef_ did not converge\", ConvergenceWarning)\n",
      "c:\\users\\joshh\\desktop\\uni\\soton year 3\\comp3200\\fake-news-profiling\\venv\\lib\\site-packages\\sklearn\\linear_model\\_sag.py:330: ConvergenceWarning: The max_iter was reached which means the coef_ did not converge\n",
      "  \"the coef_ did not converge\", ConvergenceWarning)\n",
      "c:\\users\\joshh\\desktop\\uni\\soton year 3\\comp3200\\fake-news-profiling\\venv\\lib\\site-packages\\sklearn\\linear_model\\_sag.py:330: ConvergenceWarning: The max_iter was reached which means the coef_ did not converge\n",
      "  \"the coef_ did not converge\", ConvergenceWarning)\n",
      "c:\\users\\joshh\\desktop\\uni\\soton year 3\\comp3200\\fake-news-profiling\\venv\\lib\\site-packages\\sklearn\\linear_model\\_sag.py:330: ConvergenceWarning: The max_iter was reached which means the coef_ did not converge\n",
      "  \"the coef_ did not converge\", ConvergenceWarning)\n",
      "c:\\users\\joshh\\desktop\\uni\\soton year 3\\comp3200\\fake-news-profiling\\venv\\lib\\site-packages\\sklearn\\linear_model\\_sag.py:330: ConvergenceWarning: The max_iter was reached which means the coef_ did not converge\n",
      "  \"the coef_ did not converge\", ConvergenceWarning)\n",
      "c:\\users\\joshh\\desktop\\uni\\soton year 3\\comp3200\\fake-news-profiling\\venv\\lib\\site-packages\\scipy\\optimize\\linesearch.py:327: LineSearchWarning: The line search algorithm did not converge\n",
      "  warn('The line search algorithm did not converge', LineSearchWarning)\n",
      "c:\\users\\joshh\\desktop\\uni\\soton year 3\\comp3200\\fake-news-profiling\\venv\\lib\\site-packages\\sklearn\\utils\\optimize.py:204: UserWarning: Line Search failed\n",
      "  warnings.warn('Line Search failed')\n",
      "c:\\users\\joshh\\desktop\\uni\\soton year 3\\comp3200\\fake-news-profiling\\venv\\lib\\site-packages\\scipy\\optimize\\linesearch.py:327: LineSearchWarning: The line search algorithm did not converge\n",
      "  warn('The line search algorithm did not converge', LineSearchWarning)\n",
      "c:\\users\\joshh\\desktop\\uni\\soton year 3\\comp3200\\fake-news-profiling\\venv\\lib\\site-packages\\sklearn\\utils\\optimize.py:204: UserWarning: Line Search failed\n",
      "  warnings.warn('Line Search failed')\n",
      "c:\\users\\joshh\\desktop\\uni\\soton year 3\\comp3200\\fake-news-profiling\\venv\\lib\\site-packages\\scipy\\optimize\\linesearch.py:327: LineSearchWarning: The line search algorithm did not converge\n",
      "  warn('The line search algorithm did not converge', LineSearchWarning)\n",
      "c:\\users\\joshh\\desktop\\uni\\soton year 3\\comp3200\\fake-news-profiling\\venv\\lib\\site-packages\\sklearn\\utils\\optimize.py:204: UserWarning: Line Search failed\n",
      "  warnings.warn('Line Search failed')\n",
      "c:\\users\\joshh\\desktop\\uni\\soton year 3\\comp3200\\fake-news-profiling\\venv\\lib\\site-packages\\sklearn\\linear_model\\_sag.py:330: ConvergenceWarning: The max_iter was reached which means the coef_ did not converge\n",
      "  \"the coef_ did not converge\", ConvergenceWarning)\n",
      "c:\\users\\joshh\\desktop\\uni\\soton year 3\\comp3200\\fake-news-profiling\\venv\\lib\\site-packages\\sklearn\\linear_model\\_sag.py:330: ConvergenceWarning: The max_iter was reached which means the coef_ did not converge\n",
      "  \"the coef_ did not converge\", ConvergenceWarning)\n",
      "c:\\users\\joshh\\desktop\\uni\\soton year 3\\comp3200\\fake-news-profiling\\venv\\lib\\site-packages\\sklearn\\linear_model\\_sag.py:330: ConvergenceWarning: The max_iter was reached which means the coef_ did not converge\n",
      "  \"the coef_ did not converge\", ConvergenceWarning)\n",
      "c:\\users\\joshh\\desktop\\uni\\soton year 3\\comp3200\\fake-news-profiling\\venv\\lib\\site-packages\\sklearn\\linear_model\\_sag.py:330: ConvergenceWarning: The max_iter was reached which means the coef_ did not converge\n",
      "  \"the coef_ did not converge\", ConvergenceWarning)\n",
      "c:\\users\\joshh\\desktop\\uni\\soton year 3\\comp3200\\fake-news-profiling\\venv\\lib\\site-packages\\sklearn\\linear_model\\_sag.py:330: ConvergenceWarning: The max_iter was reached which means the coef_ did not converge\n",
      "  \"the coef_ did not converge\", ConvergenceWarning)\n",
      "c:\\users\\joshh\\desktop\\uni\\soton year 3\\comp3200\\fake-news-profiling\\venv\\lib\\site-packages\\sklearn\\linear_model\\_sag.py:330: ConvergenceWarning: The max_iter was reached which means the coef_ did not converge\n",
      "  \"the coef_ did not converge\", ConvergenceWarning)\n"
     ]
    },
    {
     "name": "stderr",
     "output_type": "stream",
     "text": [
      "c:\\users\\joshh\\desktop\\uni\\soton year 3\\comp3200\\fake-news-profiling\\venv\\lib\\site-packages\\sklearn\\linear_model\\_sag.py:330: ConvergenceWarning: The max_iter was reached which means the coef_ did not converge\n",
      "  \"the coef_ did not converge\", ConvergenceWarning)\n",
      "c:\\users\\joshh\\desktop\\uni\\soton year 3\\comp3200\\fake-news-profiling\\venv\\lib\\site-packages\\sklearn\\linear_model\\_sag.py:330: ConvergenceWarning: The max_iter was reached which means the coef_ did not converge\n",
      "  \"the coef_ did not converge\", ConvergenceWarning)\n",
      "c:\\users\\joshh\\desktop\\uni\\soton year 3\\comp3200\\fake-news-profiling\\venv\\lib\\site-packages\\sklearn\\linear_model\\_sag.py:330: ConvergenceWarning: The max_iter was reached which means the coef_ did not converge\n",
      "  \"the coef_ did not converge\", ConvergenceWarning)\n",
      "c:\\users\\joshh\\desktop\\uni\\soton year 3\\comp3200\\fake-news-profiling\\venv\\lib\\site-packages\\sklearn\\linear_model\\_sag.py:330: ConvergenceWarning: The max_iter was reached which means the coef_ did not converge\n",
      "  \"the coef_ did not converge\", ConvergenceWarning)\n",
      "c:\\users\\joshh\\desktop\\uni\\soton year 3\\comp3200\\fake-news-profiling\\venv\\lib\\site-packages\\sklearn\\model_selection\\_validation.py:552: FitFailedWarning: Estimator fit failed. The score on this train-test partition for these parameters will be set to nan. Details: \n",
      "Traceback (most recent call last):\n",
      "  File \"c:\\users\\joshh\\desktop\\uni\\soton year 3\\comp3200\\fake-news-profiling\\venv\\lib\\site-packages\\sklearn\\model_selection\\_validation.py\", line 531, in _fit_and_score\n",
      "    estimator.fit(X_train, y_train, **fit_params)\n",
      "  File \"c:\\users\\joshh\\desktop\\uni\\soton year 3\\comp3200\\fake-news-profiling\\venv\\lib\\site-packages\\sklearn\\linear_model\\_logistic.py\", line 1304, in fit\n",
      "    solver = _check_solver(self.solver, self.penalty, self.dual)\n",
      "  File \"c:\\users\\joshh\\desktop\\uni\\soton year 3\\comp3200\\fake-news-profiling\\venv\\lib\\site-packages\\sklearn\\linear_model\\_logistic.py\", line 443, in _check_solver\n",
      "    \"got %s penalty.\" % (solver, penalty))\n",
      "ValueError: Solver newton-cg supports only 'l2' or 'none' penalties, got l1 penalty.\n",
      "\n",
      "  FitFailedWarning)\n",
      "c:\\users\\joshh\\desktop\\uni\\soton year 3\\comp3200\\fake-news-profiling\\venv\\lib\\site-packages\\sklearn\\model_selection\\_validation.py:552: FitFailedWarning: Estimator fit failed. The score on this train-test partition for these parameters will be set to nan. Details: \n",
      "Traceback (most recent call last):\n",
      "  File \"c:\\users\\joshh\\desktop\\uni\\soton year 3\\comp3200\\fake-news-profiling\\venv\\lib\\site-packages\\sklearn\\model_selection\\_validation.py\", line 531, in _fit_and_score\n",
      "    estimator.fit(X_train, y_train, **fit_params)\n",
      "  File \"c:\\users\\joshh\\desktop\\uni\\soton year 3\\comp3200\\fake-news-profiling\\venv\\lib\\site-packages\\sklearn\\linear_model\\_logistic.py\", line 1304, in fit\n",
      "    solver = _check_solver(self.solver, self.penalty, self.dual)\n",
      "  File \"c:\\users\\joshh\\desktop\\uni\\soton year 3\\comp3200\\fake-news-profiling\\venv\\lib\\site-packages\\sklearn\\linear_model\\_logistic.py\", line 443, in _check_solver\n",
      "    \"got %s penalty.\" % (solver, penalty))\n",
      "ValueError: Solver lbfgs supports only 'l2' or 'none' penalties, got l1 penalty.\n",
      "\n",
      "  FitFailedWarning)\n",
      "c:\\users\\joshh\\desktop\\uni\\soton year 3\\comp3200\\fake-news-profiling\\venv\\lib\\site-packages\\sklearn\\model_selection\\_validation.py:552: FitFailedWarning: Estimator fit failed. The score on this train-test partition for these parameters will be set to nan. Details: \n",
      "Traceback (most recent call last):\n",
      "  File \"c:\\users\\joshh\\desktop\\uni\\soton year 3\\comp3200\\fake-news-profiling\\venv\\lib\\site-packages\\sklearn\\model_selection\\_validation.py\", line 531, in _fit_and_score\n",
      "    estimator.fit(X_train, y_train, **fit_params)\n",
      "  File \"c:\\users\\joshh\\desktop\\uni\\soton year 3\\comp3200\\fake-news-profiling\\venv\\lib\\site-packages\\sklearn\\linear_model\\_logistic.py\", line 1304, in fit\n",
      "    solver = _check_solver(self.solver, self.penalty, self.dual)\n",
      "  File \"c:\\users\\joshh\\desktop\\uni\\soton year 3\\comp3200\\fake-news-profiling\\venv\\lib\\site-packages\\sklearn\\linear_model\\_logistic.py\", line 443, in _check_solver\n",
      "    \"got %s penalty.\" % (solver, penalty))\n",
      "ValueError: Solver sag supports only 'l2' or 'none' penalties, got l1 penalty.\n",
      "\n",
      "  FitFailedWarning)\n",
      "c:\\users\\joshh\\desktop\\uni\\soton year 3\\comp3200\\fake-news-profiling\\venv\\lib\\site-packages\\sklearn\\linear_model\\_sag.py:330: ConvergenceWarning: The max_iter was reached which means the coef_ did not converge\n",
      "  \"the coef_ did not converge\", ConvergenceWarning)\n",
      "c:\\users\\joshh\\desktop\\uni\\soton year 3\\comp3200\\fake-news-profiling\\venv\\lib\\site-packages\\sklearn\\linear_model\\_sag.py:330: ConvergenceWarning: The max_iter was reached which means the coef_ did not converge\n",
      "  \"the coef_ did not converge\", ConvergenceWarning)\n",
      "c:\\users\\joshh\\desktop\\uni\\soton year 3\\comp3200\\fake-news-profiling\\venv\\lib\\site-packages\\sklearn\\linear_model\\_sag.py:330: ConvergenceWarning: The max_iter was reached which means the coef_ did not converge\n",
      "  \"the coef_ did not converge\", ConvergenceWarning)\n",
      "c:\\users\\joshh\\desktop\\uni\\soton year 3\\comp3200\\fake-news-profiling\\venv\\lib\\site-packages\\sklearn\\linear_model\\_sag.py:330: ConvergenceWarning: The max_iter was reached which means the coef_ did not converge\n",
      "  \"the coef_ did not converge\", ConvergenceWarning)\n",
      "c:\\users\\joshh\\desktop\\uni\\soton year 3\\comp3200\\fake-news-profiling\\venv\\lib\\site-packages\\sklearn\\linear_model\\_sag.py:330: ConvergenceWarning: The max_iter was reached which means the coef_ did not converge\n",
      "  \"the coef_ did not converge\", ConvergenceWarning)\n",
      "c:\\users\\joshh\\desktop\\uni\\soton year 3\\comp3200\\fake-news-profiling\\venv\\lib\\site-packages\\scipy\\optimize\\linesearch.py:327: LineSearchWarning: The line search algorithm did not converge\n",
      "  warn('The line search algorithm did not converge', LineSearchWarning)\n",
      "c:\\users\\joshh\\desktop\\uni\\soton year 3\\comp3200\\fake-news-profiling\\venv\\lib\\site-packages\\sklearn\\utils\\optimize.py:204: UserWarning: Line Search failed\n",
      "  warnings.warn('Line Search failed')\n",
      "c:\\users\\joshh\\desktop\\uni\\soton year 3\\comp3200\\fake-news-profiling\\venv\\lib\\site-packages\\scipy\\optimize\\linesearch.py:327: LineSearchWarning: The line search algorithm did not converge\n",
      "  warn('The line search algorithm did not converge', LineSearchWarning)\n",
      "c:\\users\\joshh\\desktop\\uni\\soton year 3\\comp3200\\fake-news-profiling\\venv\\lib\\site-packages\\sklearn\\utils\\optimize.py:204: UserWarning: Line Search failed\n",
      "  warnings.warn('Line Search failed')\n",
      "c:\\users\\joshh\\desktop\\uni\\soton year 3\\comp3200\\fake-news-profiling\\venv\\lib\\site-packages\\scipy\\optimize\\linesearch.py:327: LineSearchWarning: The line search algorithm did not converge\n",
      "  warn('The line search algorithm did not converge', LineSearchWarning)\n",
      "c:\\users\\joshh\\desktop\\uni\\soton year 3\\comp3200\\fake-news-profiling\\venv\\lib\\site-packages\\sklearn\\utils\\optimize.py:204: UserWarning: Line Search failed\n",
      "  warnings.warn('Line Search failed')\n",
      "c:\\users\\joshh\\desktop\\uni\\soton year 3\\comp3200\\fake-news-profiling\\venv\\lib\\site-packages\\sklearn\\linear_model\\_sag.py:330: ConvergenceWarning: The max_iter was reached which means the coef_ did not converge\n",
      "  \"the coef_ did not converge\", ConvergenceWarning)\n",
      "c:\\users\\joshh\\desktop\\uni\\soton year 3\\comp3200\\fake-news-profiling\\venv\\lib\\site-packages\\sklearn\\linear_model\\_sag.py:330: ConvergenceWarning: The max_iter was reached which means the coef_ did not converge\n",
      "  \"the coef_ did not converge\", ConvergenceWarning)\n",
      "c:\\users\\joshh\\desktop\\uni\\soton year 3\\comp3200\\fake-news-profiling\\venv\\lib\\site-packages\\sklearn\\linear_model\\_sag.py:330: ConvergenceWarning: The max_iter was reached which means the coef_ did not converge\n",
      "  \"the coef_ did not converge\", ConvergenceWarning)\n",
      "c:\\users\\joshh\\desktop\\uni\\soton year 3\\comp3200\\fake-news-profiling\\venv\\lib\\site-packages\\sklearn\\linear_model\\_sag.py:330: ConvergenceWarning: The max_iter was reached which means the coef_ did not converge\n",
      "  \"the coef_ did not converge\", ConvergenceWarning)\n",
      "c:\\users\\joshh\\desktop\\uni\\soton year 3\\comp3200\\fake-news-profiling\\venv\\lib\\site-packages\\sklearn\\linear_model\\_sag.py:330: ConvergenceWarning: The max_iter was reached which means the coef_ did not converge\n",
      "  \"the coef_ did not converge\", ConvergenceWarning)\n"
     ]
    },
    {
     "name": "stdout",
     "output_type": "stream",
     "text": [
      "Best classifiers for BERT model batch_size16-epochs10-lr3e-05-size256:\n",
      "{'LogisticRegression': {'unsorted-params': {'params': {'max_iter': 100, 'penalty': 'l2', 'solver': 'saga'}, 'accuracy': 0.7333333333333333, 'f1': 0.7333333333333333, 'log_loss': 9.210446984966874}, 'sorted': {'params': {'max_iter': 100, 'penalty': 'l2', 'solver': 'newton-cg'}, 'accuracy': 0.7666666666666667, 'f1': 0.7407407407407408, 'log_loss': 8.059101131974506}}, 'SVC': {'unsorted-params': {'params': {'degree': 2, 'kernel': 'rbf'}, 'accuracy': 0.7333333333333333, 'f1': 0.7142857142857142, 'log_loss': 9.210420331719202}, 'sorted': {'params': {'degree': 2, 'kernel': 'sigmoid'}, 'accuracy': 0.7333333333333333, 'f1': 0.7142857142857142, 'log_loss': 9.210420331719202}}, 'RandomForestClassifier': {'unsorted-params': {'params': {'criterion': 'entropy', 'n_estimators': 150}, 'accuracy': 0.7333333333333333, 'f1': 0.7142857142857142, 'log_loss': 9.210420331719202}, 'sorted': {'params': {'criterion': 'entropy', 'n_estimators': 150}, 'accuracy': 0.8333333333333334, 'f1': 0.8275862068965518, 'log_loss': 5.75651603898046}}, 'GradientBoostingClassifier': {'unsorted-params': {'params': {'learning_rate': 0.2, 'loss': 'deviance', 'n_estimators': 150}, 'accuracy': 0.7333333333333333, 'f1': 0.7142857142857142, 'log_loss': 9.210420331719202}, 'sorted': {'params': {'learning_rate': 0.1, 'loss': 'deviance', 'n_estimators': 100}, 'accuracy': 0.7666666666666667, 'f1': 0.7741935483870969, 'log_loss': 8.059154438469852}}}\n"
     ]
    }
   ],
   "source": [
    "# Save the best model only, through the 10 epochs\n",
    "models = [\n",
    "    (32, 10, 5e-5, 128, 'adam'),\n",
    "    (40, 10, 2e-5, 128, 'adam'),\n",
    "    (32, 10, 3e-5, 128, 'adamw'),\n",
    "    (16, 10, 3e-5, 128, 'adamw'),\n",
    "    (16, 10, 3e-5, 256, 'adamw'),\n",
    "]\n",
    "\n",
    "models_data = {}\n",
    "models_df = []\n",
    "\n",
    "for model in models:\n",
    "    data, df, model_name = train_bert_individual_model(*model)\n",
    "    models_df.append(df)\n",
    "    models_data[model_name] = data"
   ]
  },
  {
   "cell_type": "code",
   "execution_count": 82,
   "metadata": {},
   "outputs": [],
   "source": [
    "models_df = np.asarray([clf_sorted \n",
    "            for bert_models in models_df \n",
    "            for clf_models in bert_models \n",
    "            for clf_sorted in clf_models])"
   ]
  },
  {
   "cell_type": "code",
   "execution_count": 101,
   "metadata": {
    "scrolled": false
   },
   "outputs": [
    {
     "data": {
      "text/html": [
       "<div>\n",
       "<style scoped>\n",
       "    .dataframe tbody tr th:only-of-type {\n",
       "        vertical-align: middle;\n",
       "    }\n",
       "\n",
       "    .dataframe tbody tr th {\n",
       "        vertical-align: top;\n",
       "    }\n",
       "\n",
       "    .dataframe thead th {\n",
       "        text-align: right;\n",
       "    }\n",
       "</style>\n",
       "<table border=\"1\" class=\"dataframe\">\n",
       "  <thead>\n",
       "    <tr style=\"text-align: right;\">\n",
       "      <th></th>\n",
       "      <th>BERT model</th>\n",
       "      <th>Classifier</th>\n",
       "      <th>Classifier data</th>\n",
       "      <th>Log loss</th>\n",
       "      <th>Accuracy</th>\n",
       "      <th>F1</th>\n",
       "    </tr>\n",
       "  </thead>\n",
       "  <tbody>\n",
       "    <tr>\n",
       "      <th>1</th>\n",
       "      <td>batch_size32-epochs10-lr5e-05-size128</td>\n",
       "      <td>LogisticRegression</td>\n",
       "      <td>Sorted</td>\n",
       "      <td>5.756516</td>\n",
       "      <td>0.833333</td>\n",
       "      <td>0.827586</td>\n",
       "    </tr>\n",
       "    <tr>\n",
       "      <th>26</th>\n",
       "      <td>batch_size16-epochs10-lr3e-05-size128</td>\n",
       "      <td>SVC</td>\n",
       "      <td>Unsorted</td>\n",
       "      <td>5.756516</td>\n",
       "      <td>0.833333</td>\n",
       "      <td>0.827586</td>\n",
       "    </tr>\n",
       "    <tr>\n",
       "      <th>37</th>\n",
       "      <td>batch_size16-epochs10-lr3e-05-size256</td>\n",
       "      <td>RandomForest</td>\n",
       "      <td>Sorted</td>\n",
       "      <td>5.756516</td>\n",
       "      <td>0.833333</td>\n",
       "      <td>0.827586</td>\n",
       "    </tr>\n",
       "    <tr>\n",
       "      <th>11</th>\n",
       "      <td>batch_size40-epochs10-lr2e-05-size128</td>\n",
       "      <td>SVC</td>\n",
       "      <td>Sorted</td>\n",
       "      <td>6.907782</td>\n",
       "      <td>0.800000</td>\n",
       "      <td>0.769231</td>\n",
       "    </tr>\n",
       "    <tr>\n",
       "      <th>28</th>\n",
       "      <td>batch_size16-epochs10-lr3e-05-size128</td>\n",
       "      <td>RandomForest</td>\n",
       "      <td>Unsorted</td>\n",
       "      <td>6.907809</td>\n",
       "      <td>0.800000</td>\n",
       "      <td>0.785714</td>\n",
       "    </tr>\n",
       "    <tr>\n",
       "      <th>2</th>\n",
       "      <td>batch_size32-epochs10-lr5e-05-size128</td>\n",
       "      <td>SVC</td>\n",
       "      <td>Unsorted</td>\n",
       "      <td>6.907835</td>\n",
       "      <td>0.800000</td>\n",
       "      <td>0.800000</td>\n",
       "    </tr>\n",
       "    <tr>\n",
       "      <th>3</th>\n",
       "      <td>batch_size32-epochs10-lr5e-05-size128</td>\n",
       "      <td>SVC</td>\n",
       "      <td>Sorted</td>\n",
       "      <td>6.907835</td>\n",
       "      <td>0.800000</td>\n",
       "      <td>0.800000</td>\n",
       "    </tr>\n",
       "    <tr>\n",
       "      <th>5</th>\n",
       "      <td>batch_size32-epochs10-lr5e-05-size128</td>\n",
       "      <td>RandomForest</td>\n",
       "      <td>Sorted</td>\n",
       "      <td>6.907835</td>\n",
       "      <td>0.800000</td>\n",
       "      <td>0.800000</td>\n",
       "    </tr>\n",
       "    <tr>\n",
       "      <th>13</th>\n",
       "      <td>batch_size40-epochs10-lr2e-05-size128</td>\n",
       "      <td>RandomForest</td>\n",
       "      <td>Sorted</td>\n",
       "      <td>6.907835</td>\n",
       "      <td>0.800000</td>\n",
       "      <td>0.800000</td>\n",
       "    </tr>\n",
       "    <tr>\n",
       "      <th>15</th>\n",
       "      <td>batch_size40-epochs10-lr2e-05-size128</td>\n",
       "      <td>GradientBoosting</td>\n",
       "      <td>Sorted</td>\n",
       "      <td>6.907862</td>\n",
       "      <td>0.800000</td>\n",
       "      <td>0.812500</td>\n",
       "    </tr>\n",
       "    <tr>\n",
       "      <th>21</th>\n",
       "      <td>batch_size32-epochs10-lr3e-05-size128</td>\n",
       "      <td>RandomForest</td>\n",
       "      <td>Sorted</td>\n",
       "      <td>6.907862</td>\n",
       "      <td>0.800000</td>\n",
       "      <td>0.812500</td>\n",
       "    </tr>\n",
       "    <tr>\n",
       "      <th>9</th>\n",
       "      <td>batch_size40-epochs10-lr2e-05-size128</td>\n",
       "      <td>LogisticRegression</td>\n",
       "      <td>Sorted</td>\n",
       "      <td>8.059101</td>\n",
       "      <td>0.766667</td>\n",
       "      <td>0.740741</td>\n",
       "    </tr>\n",
       "    <tr>\n",
       "      <th>33</th>\n",
       "      <td>batch_size16-epochs10-lr3e-05-size256</td>\n",
       "      <td>LogisticRegression</td>\n",
       "      <td>Sorted</td>\n",
       "      <td>8.059101</td>\n",
       "      <td>0.766667</td>\n",
       "      <td>0.740741</td>\n",
       "    </tr>\n",
       "    <tr>\n",
       "      <th>17</th>\n",
       "      <td>batch_size32-epochs10-lr3e-05-size128</td>\n",
       "      <td>LogisticRegression</td>\n",
       "      <td>Sorted</td>\n",
       "      <td>8.059128</td>\n",
       "      <td>0.766667</td>\n",
       "      <td>0.758621</td>\n",
       "    </tr>\n",
       "    <tr>\n",
       "      <th>19</th>\n",
       "      <td>batch_size32-epochs10-lr3e-05-size128</td>\n",
       "      <td>SVC</td>\n",
       "      <td>Sorted</td>\n",
       "      <td>8.059128</td>\n",
       "      <td>0.766667</td>\n",
       "      <td>0.758621</td>\n",
       "    </tr>\n",
       "    <tr>\n",
       "      <th>20</th>\n",
       "      <td>batch_size32-epochs10-lr3e-05-size128</td>\n",
       "      <td>RandomForest</td>\n",
       "      <td>Unsorted</td>\n",
       "      <td>8.059128</td>\n",
       "      <td>0.766667</td>\n",
       "      <td>0.758621</td>\n",
       "    </tr>\n",
       "    <tr>\n",
       "      <th>22</th>\n",
       "      <td>batch_size32-epochs10-lr3e-05-size128</td>\n",
       "      <td>GradientBoosting</td>\n",
       "      <td>Unsorted</td>\n",
       "      <td>8.059128</td>\n",
       "      <td>0.766667</td>\n",
       "      <td>0.758621</td>\n",
       "    </tr>\n",
       "    <tr>\n",
       "      <th>24</th>\n",
       "      <td>batch_size16-epochs10-lr3e-05-size128</td>\n",
       "      <td>LogisticRegression</td>\n",
       "      <td>Unsorted</td>\n",
       "      <td>8.059128</td>\n",
       "      <td>0.766667</td>\n",
       "      <td>0.758621</td>\n",
       "    </tr>\n",
       "    <tr>\n",
       "      <th>0</th>\n",
       "      <td>batch_size32-epochs10-lr5e-05-size128</td>\n",
       "      <td>LogisticRegression</td>\n",
       "      <td>Unsorted</td>\n",
       "      <td>8.059155</td>\n",
       "      <td>0.766667</td>\n",
       "      <td>0.774194</td>\n",
       "    </tr>\n",
       "    <tr>\n",
       "      <th>10</th>\n",
       "      <td>batch_size40-epochs10-lr2e-05-size128</td>\n",
       "      <td>SVC</td>\n",
       "      <td>Unsorted</td>\n",
       "      <td>8.059155</td>\n",
       "      <td>0.766667</td>\n",
       "      <td>0.774194</td>\n",
       "    </tr>\n",
       "    <tr>\n",
       "      <th>16</th>\n",
       "      <td>batch_size32-epochs10-lr3e-05-size128</td>\n",
       "      <td>LogisticRegression</td>\n",
       "      <td>Unsorted</td>\n",
       "      <td>8.059155</td>\n",
       "      <td>0.766667</td>\n",
       "      <td>0.774194</td>\n",
       "    </tr>\n",
       "    <tr>\n",
       "      <th>18</th>\n",
       "      <td>batch_size32-epochs10-lr3e-05-size128</td>\n",
       "      <td>SVC</td>\n",
       "      <td>Unsorted</td>\n",
       "      <td>8.059155</td>\n",
       "      <td>0.766667</td>\n",
       "      <td>0.774194</td>\n",
       "    </tr>\n",
       "    <tr>\n",
       "      <th>39</th>\n",
       "      <td>batch_size16-epochs10-lr3e-05-size256</td>\n",
       "      <td>GradientBoosting</td>\n",
       "      <td>Sorted</td>\n",
       "      <td>8.059155</td>\n",
       "      <td>0.766667</td>\n",
       "      <td>0.774194</td>\n",
       "    </tr>\n",
       "    <tr>\n",
       "      <th>25</th>\n",
       "      <td>batch_size16-epochs10-lr3e-05-size128</td>\n",
       "      <td>LogisticRegression</td>\n",
       "      <td>Sorted</td>\n",
       "      <td>9.210421</td>\n",
       "      <td>0.733333</td>\n",
       "      <td>0.714286</td>\n",
       "    </tr>\n",
       "    <tr>\n",
       "      <th>27</th>\n",
       "      <td>batch_size16-epochs10-lr3e-05-size128</td>\n",
       "      <td>SVC</td>\n",
       "      <td>Sorted</td>\n",
       "      <td>9.210421</td>\n",
       "      <td>0.733333</td>\n",
       "      <td>0.714286</td>\n",
       "    </tr>\n",
       "    <tr>\n",
       "      <th>34</th>\n",
       "      <td>batch_size16-epochs10-lr3e-05-size256</td>\n",
       "      <td>SVC</td>\n",
       "      <td>Unsorted</td>\n",
       "      <td>9.210421</td>\n",
       "      <td>0.733333</td>\n",
       "      <td>0.714286</td>\n",
       "    </tr>\n",
       "    <tr>\n",
       "      <th>35</th>\n",
       "      <td>batch_size16-epochs10-lr3e-05-size256</td>\n",
       "      <td>SVC</td>\n",
       "      <td>Sorted</td>\n",
       "      <td>9.210421</td>\n",
       "      <td>0.733333</td>\n",
       "      <td>0.714286</td>\n",
       "    </tr>\n",
       "    <tr>\n",
       "      <th>36</th>\n",
       "      <td>batch_size16-epochs10-lr3e-05-size256</td>\n",
       "      <td>RandomForest</td>\n",
       "      <td>Unsorted</td>\n",
       "      <td>9.210421</td>\n",
       "      <td>0.733333</td>\n",
       "      <td>0.714286</td>\n",
       "    </tr>\n",
       "    <tr>\n",
       "      <th>38</th>\n",
       "      <td>batch_size16-epochs10-lr3e-05-size256</td>\n",
       "      <td>GradientBoosting</td>\n",
       "      <td>Unsorted</td>\n",
       "      <td>9.210421</td>\n",
       "      <td>0.733333</td>\n",
       "      <td>0.714286</td>\n",
       "    </tr>\n",
       "    <tr>\n",
       "      <th>6</th>\n",
       "      <td>batch_size32-epochs10-lr5e-05-size128</td>\n",
       "      <td>GradientBoosting</td>\n",
       "      <td>Unsorted</td>\n",
       "      <td>9.210447</td>\n",
       "      <td>0.733333</td>\n",
       "      <td>0.733333</td>\n",
       "    </tr>\n",
       "    <tr>\n",
       "      <th>29</th>\n",
       "      <td>batch_size16-epochs10-lr3e-05-size128</td>\n",
       "      <td>RandomForest</td>\n",
       "      <td>Sorted</td>\n",
       "      <td>9.210447</td>\n",
       "      <td>0.733333</td>\n",
       "      <td>0.733333</td>\n",
       "    </tr>\n",
       "    <tr>\n",
       "      <th>32</th>\n",
       "      <td>batch_size16-epochs10-lr3e-05-size256</td>\n",
       "      <td>LogisticRegression</td>\n",
       "      <td>Unsorted</td>\n",
       "      <td>9.210447</td>\n",
       "      <td>0.733333</td>\n",
       "      <td>0.733333</td>\n",
       "    </tr>\n",
       "    <tr>\n",
       "      <th>4</th>\n",
       "      <td>batch_size32-epochs10-lr5e-05-size128</td>\n",
       "      <td>RandomForest</td>\n",
       "      <td>Unsorted</td>\n",
       "      <td>9.210474</td>\n",
       "      <td>0.733333</td>\n",
       "      <td>0.750000</td>\n",
       "    </tr>\n",
       "    <tr>\n",
       "      <th>23</th>\n",
       "      <td>batch_size32-epochs10-lr3e-05-size128</td>\n",
       "      <td>GradientBoosting</td>\n",
       "      <td>Sorted</td>\n",
       "      <td>9.210474</td>\n",
       "      <td>0.733333</td>\n",
       "      <td>0.750000</td>\n",
       "    </tr>\n",
       "    <tr>\n",
       "      <th>12</th>\n",
       "      <td>batch_size40-epochs10-lr2e-05-size128</td>\n",
       "      <td>RandomForest</td>\n",
       "      <td>Unsorted</td>\n",
       "      <td>10.361766</td>\n",
       "      <td>0.700000</td>\n",
       "      <td>0.709677</td>\n",
       "    </tr>\n",
       "    <tr>\n",
       "      <th>31</th>\n",
       "      <td>batch_size16-epochs10-lr3e-05-size128</td>\n",
       "      <td>GradientBoosting</td>\n",
       "      <td>Sorted</td>\n",
       "      <td>10.361766</td>\n",
       "      <td>0.700000</td>\n",
       "      <td>0.709677</td>\n",
       "    </tr>\n",
       "    <tr>\n",
       "      <th>14</th>\n",
       "      <td>batch_size40-epochs10-lr2e-05-size128</td>\n",
       "      <td>GradientBoosting</td>\n",
       "      <td>Unsorted</td>\n",
       "      <td>10.361793</td>\n",
       "      <td>0.700000</td>\n",
       "      <td>0.727273</td>\n",
       "    </tr>\n",
       "    <tr>\n",
       "      <th>30</th>\n",
       "      <td>batch_size16-epochs10-lr3e-05-size128</td>\n",
       "      <td>GradientBoosting</td>\n",
       "      <td>Unsorted</td>\n",
       "      <td>11.513059</td>\n",
       "      <td>0.666667</td>\n",
       "      <td>0.666667</td>\n",
       "    </tr>\n",
       "    <tr>\n",
       "      <th>7</th>\n",
       "      <td>batch_size32-epochs10-lr5e-05-size128</td>\n",
       "      <td>GradientBoosting</td>\n",
       "      <td>Sorted</td>\n",
       "      <td>11.513085</td>\n",
       "      <td>0.666667</td>\n",
       "      <td>0.687500</td>\n",
       "    </tr>\n",
       "    <tr>\n",
       "      <th>8</th>\n",
       "      <td>batch_size40-epochs10-lr2e-05-size128</td>\n",
       "      <td>LogisticRegression</td>\n",
       "      <td>Unsorted</td>\n",
       "      <td>11.513085</td>\n",
       "      <td>0.666667</td>\n",
       "      <td>0.687500</td>\n",
       "    </tr>\n",
       "  </tbody>\n",
       "</table>\n",
       "</div>"
      ],
      "text/plain": [
       "                               BERT model          Classifier Classifier data  \\\n",
       "1   batch_size32-epochs10-lr5e-05-size128  LogisticRegression          Sorted   \n",
       "26  batch_size16-epochs10-lr3e-05-size128                 SVC        Unsorted   \n",
       "37  batch_size16-epochs10-lr3e-05-size256        RandomForest          Sorted   \n",
       "11  batch_size40-epochs10-lr2e-05-size128                 SVC          Sorted   \n",
       "28  batch_size16-epochs10-lr3e-05-size128        RandomForest        Unsorted   \n",
       "2   batch_size32-epochs10-lr5e-05-size128                 SVC        Unsorted   \n",
       "3   batch_size32-epochs10-lr5e-05-size128                 SVC          Sorted   \n",
       "5   batch_size32-epochs10-lr5e-05-size128        RandomForest          Sorted   \n",
       "13  batch_size40-epochs10-lr2e-05-size128        RandomForest          Sorted   \n",
       "15  batch_size40-epochs10-lr2e-05-size128    GradientBoosting          Sorted   \n",
       "21  batch_size32-epochs10-lr3e-05-size128        RandomForest          Sorted   \n",
       "9   batch_size40-epochs10-lr2e-05-size128  LogisticRegression          Sorted   \n",
       "33  batch_size16-epochs10-lr3e-05-size256  LogisticRegression          Sorted   \n",
       "17  batch_size32-epochs10-lr3e-05-size128  LogisticRegression          Sorted   \n",
       "19  batch_size32-epochs10-lr3e-05-size128                 SVC          Sorted   \n",
       "20  batch_size32-epochs10-lr3e-05-size128        RandomForest        Unsorted   \n",
       "22  batch_size32-epochs10-lr3e-05-size128    GradientBoosting        Unsorted   \n",
       "24  batch_size16-epochs10-lr3e-05-size128  LogisticRegression        Unsorted   \n",
       "0   batch_size32-epochs10-lr5e-05-size128  LogisticRegression        Unsorted   \n",
       "10  batch_size40-epochs10-lr2e-05-size128                 SVC        Unsorted   \n",
       "16  batch_size32-epochs10-lr3e-05-size128  LogisticRegression        Unsorted   \n",
       "18  batch_size32-epochs10-lr3e-05-size128                 SVC        Unsorted   \n",
       "39  batch_size16-epochs10-lr3e-05-size256    GradientBoosting          Sorted   \n",
       "25  batch_size16-epochs10-lr3e-05-size128  LogisticRegression          Sorted   \n",
       "27  batch_size16-epochs10-lr3e-05-size128                 SVC          Sorted   \n",
       "34  batch_size16-epochs10-lr3e-05-size256                 SVC        Unsorted   \n",
       "35  batch_size16-epochs10-lr3e-05-size256                 SVC          Sorted   \n",
       "36  batch_size16-epochs10-lr3e-05-size256        RandomForest        Unsorted   \n",
       "38  batch_size16-epochs10-lr3e-05-size256    GradientBoosting        Unsorted   \n",
       "6   batch_size32-epochs10-lr5e-05-size128    GradientBoosting        Unsorted   \n",
       "29  batch_size16-epochs10-lr3e-05-size128        RandomForest          Sorted   \n",
       "32  batch_size16-epochs10-lr3e-05-size256  LogisticRegression        Unsorted   \n",
       "4   batch_size32-epochs10-lr5e-05-size128        RandomForest        Unsorted   \n",
       "23  batch_size32-epochs10-lr3e-05-size128    GradientBoosting          Sorted   \n",
       "12  batch_size40-epochs10-lr2e-05-size128        RandomForest        Unsorted   \n",
       "31  batch_size16-epochs10-lr3e-05-size128    GradientBoosting          Sorted   \n",
       "14  batch_size40-epochs10-lr2e-05-size128    GradientBoosting        Unsorted   \n",
       "30  batch_size16-epochs10-lr3e-05-size128    GradientBoosting        Unsorted   \n",
       "7   batch_size32-epochs10-lr5e-05-size128    GradientBoosting          Sorted   \n",
       "8   batch_size40-epochs10-lr2e-05-size128  LogisticRegression        Unsorted   \n",
       "\n",
       "     Log loss  Accuracy        F1  \n",
       "1    5.756516  0.833333  0.827586  \n",
       "26   5.756516  0.833333  0.827586  \n",
       "37   5.756516  0.833333  0.827586  \n",
       "11   6.907782  0.800000  0.769231  \n",
       "28   6.907809  0.800000  0.785714  \n",
       "2    6.907835  0.800000  0.800000  \n",
       "3    6.907835  0.800000  0.800000  \n",
       "5    6.907835  0.800000  0.800000  \n",
       "13   6.907835  0.800000  0.800000  \n",
       "15   6.907862  0.800000  0.812500  \n",
       "21   6.907862  0.800000  0.812500  \n",
       "9    8.059101  0.766667  0.740741  \n",
       "33   8.059101  0.766667  0.740741  \n",
       "17   8.059128  0.766667  0.758621  \n",
       "19   8.059128  0.766667  0.758621  \n",
       "20   8.059128  0.766667  0.758621  \n",
       "22   8.059128  0.766667  0.758621  \n",
       "24   8.059128  0.766667  0.758621  \n",
       "0    8.059155  0.766667  0.774194  \n",
       "10   8.059155  0.766667  0.774194  \n",
       "16   8.059155  0.766667  0.774194  \n",
       "18   8.059155  0.766667  0.774194  \n",
       "39   8.059155  0.766667  0.774194  \n",
       "25   9.210421  0.733333  0.714286  \n",
       "27   9.210421  0.733333  0.714286  \n",
       "34   9.210421  0.733333  0.714286  \n",
       "35   9.210421  0.733333  0.714286  \n",
       "36   9.210421  0.733333  0.714286  \n",
       "38   9.210421  0.733333  0.714286  \n",
       "6    9.210447  0.733333  0.733333  \n",
       "29   9.210447  0.733333  0.733333  \n",
       "32   9.210447  0.733333  0.733333  \n",
       "4    9.210474  0.733333  0.750000  \n",
       "23   9.210474  0.733333  0.750000  \n",
       "12  10.361766  0.700000  0.709677  \n",
       "31  10.361766  0.700000  0.709677  \n",
       "14  10.361793  0.700000  0.727273  \n",
       "30  11.513059  0.666667  0.666667  \n",
       "7   11.513085  0.666667  0.687500  \n",
       "8   11.513085  0.666667  0.687500  "
      ]
     },
     "execution_count": 101,
     "metadata": {},
     "output_type": "execute_result"
    }
   ],
   "source": [
    "df = pd.DataFrame(\n",
    "    models_df, \n",
    "    columns=(\"BERT model\", \"Classifier\", \"Classifier data\", \"Log loss\", \"Accuracy\", \"F1\")\n",
    ")\n",
    "df = df.astype({\"Log loss\": \"float32\", \"Accuracy\": \"float32\", \"F1\": \"float32\"})\n",
    "df.sort_values([\"Log loss\", \"Accuracy\", \"F1\"], ascending=[True, False, False])"
   ]
  },
  {
   "cell_type": "markdown",
   "metadata": {},
   "source": [
    "### Investigating BERT output classifiers\n",
    "* Investigate using other classifiers ontop of BERT's pooled output.\n",
    "    * Previously used a single Dense layer, now investigate using: RNN, Transformer decoder, Multilayered Perceptron"
   ]
  },
  {
   "cell_type": "code",
   "execution_count": 139,
   "metadata": {},
   "outputs": [],
   "source": [
    "def train_bert_individual_model(\n",
    "    url, batch_size, epochs, learning_rate, bert_size, optimizer_name, bert_model_func):\n",
    "    # Load encoder and tokenizer\n",
    "    encoder = hub.KerasLayer(url, trainable=True)\n",
    "    tokenizer = bclf.BertIndividualTweetTokenizer(encoder, bert_size)\n",
    "    \n",
    "    tweet_individual_train = tokenizer.tokenize_input(tweet_train_processed)\n",
    "    label_individual_train = tokenizer.tokenize_labels(label_train)\n",
    "    tweet_individual_val = tokenizer.tokenize_input(tweet_val_processed)\n",
    "    label_individual_val = tokenizer.tokenize_labels(label_val)\n",
    "    \n",
    "    # Callbacks (checkpoint, tensorboard)\n",
    "    name = f\"batch_size{batch_size}-epochs{epochs}-lr{learning_rate}-size{bert_size}\"\n",
    "    path = \"training/bert_individual/loss-testing-full-model-1/\"\n",
    "    log_dir = path + \"logs/\" + name\n",
    "    tensorboard = tf.keras.callbacks.TensorBoard(log_dir=log_dir)\n",
    "    \n",
    "    checkpoint_path = path + name + \"/cp.ckpt\"\n",
    "    checkpoint = ModelCheckpoint(\n",
    "        filepath=checkpoint_path,\n",
    "        save_weights_only=True,\n",
    "        save_best_only=True,\n",
    "        verbose=1,\n",
    "    )\n",
    "    \n",
    "    # Optimizer\n",
    "    if optimizer_name == 'adam':\n",
    "        optimizer = tf.keras.optimizers.Adam(learning_rate)\n",
    "    elif optimizer_name == 'adamw':\n",
    "        steps_per_epoch = len(tweet_individual_train['input_word_ids']) / batch_size\n",
    "        total_training_steps = epochs * steps_per_epoch\n",
    "        warmup_steps = int(0.1 * total_training_steps)\n",
    "        optimizer = optimization.create_optimizer(\n",
    "            init_lr=learning_rate,\n",
    "            num_train_steps=total_training_steps,\n",
    "            num_warmup_steps=warmup_steps,\n",
    "            optimizer_type='adamw'\n",
    "        )\n",
    "    \n",
    "    # BERT Model\n",
    "    bert_model = bert_model_func(encoder, bert_size)\n",
    "    bert_model.compile(\n",
    "        optimizer=optimizer, \n",
    "        loss=tf.keras.losses.BinaryCrossentropy(from_logits=True), \n",
    "        metrics=tf.metrics.BinaryAccuracy(),\n",
    "    )\n",
    "\n",
    "#     Train BERT\n",
    "    bert_model.fit(\n",
    "        x=tweet_individual_train,\n",
    "        y=label_individual_train,\n",
    "        batch_size=batch_size,\n",
    "        epochs=epochs,\n",
    "        callbacks=[checkpoint, tensorboard],\n",
    "        validation_data=(tweet_individual_val, label_individual_val),\n",
    "    )\n",
    "    \n",
    "    return bert_model"
   ]
  },
  {
   "cell_type": "code",
   "execution_count": 141,
   "metadata": {},
   "outputs": [
    {
     "ename": "AttributeError",
     "evalue": "module 'ipynb.fs.full.bert_fake_news_classifier' has no attribute 'bert_model_lstm'",
     "output_type": "error",
     "traceback": [
      "\u001b[1;31m---------------------------------------------------------------------------\u001b[0m",
      "\u001b[1;31mAttributeError\u001b[0m                            Traceback (most recent call last)",
      "\u001b[1;32m<ipython-input-141-f9ae465a8963>\u001b[0m in \u001b[0;36m<module>\u001b[1;34m\u001b[0m\n\u001b[0;32m      6\u001b[0m     \u001b[1;36m5e-05\u001b[0m\u001b[1;33m,\u001b[0m\u001b[1;33m\u001b[0m\u001b[1;33m\u001b[0m\u001b[0m\n\u001b[0;32m      7\u001b[0m     \u001b[1;34m'adam'\u001b[0m\u001b[1;33m,\u001b[0m\u001b[1;33m\u001b[0m\u001b[1;33m\u001b[0m\u001b[0m\n\u001b[1;32m----> 8\u001b[1;33m     \u001b[0mbclf\u001b[0m\u001b[1;33m.\u001b[0m\u001b[0mbert_model_lstm\u001b[0m\u001b[1;33m\u001b[0m\u001b[1;33m\u001b[0m\u001b[0m\n\u001b[0m\u001b[0;32m      9\u001b[0m )\n",
      "\u001b[1;31mAttributeError\u001b[0m: module 'ipynb.fs.full.bert_fake_news_classifier' has no attribute 'bert_model_lstm'"
     ]
    }
   ],
   "source": [
    "bert_model_with_lstm = train_bert_individual_model(\n",
    "    \"https://tfhub.dev/tensorflow/small_bert/bert_en_uncased_L-12_H-128_A-2/1\",\n",
    "    128,\n",
    "    32,\n",
    "    10,\n",
    "    5e-05,\n",
    "    'adam',\n",
    "    bclf.bert_model_lstm\n",
    ")"
   ]
  },
  {
   "cell_type": "code",
   "execution_count": null,
   "metadata": {},
   "outputs": [],
   "source": []
  },
  {
   "cell_type": "code",
   "execution_count": null,
   "metadata": {},
   "outputs": [],
   "source": []
  },
  {
   "cell_type": "code",
   "execution_count": null,
   "metadata": {},
   "outputs": [],
   "source": []
  },
  {
   "cell_type": "code",
   "execution_count": null,
   "metadata": {},
   "outputs": [],
   "source": []
  },
  {
   "cell_type": "code",
   "execution_count": null,
   "metadata": {},
   "outputs": [],
   "source": []
  },
  {
   "cell_type": "code",
   "execution_count": 14,
   "metadata": {},
   "outputs": [
    {
     "ename": "KeyboardInterrupt",
     "evalue": "",
     "output_type": "error",
     "traceback": [
      "\u001b[1;31m---------------------------------------------------------------------------\u001b[0m",
      "\u001b[1;31mKeyError\u001b[0m                                  Traceback (most recent call last)",
      "\u001b[1;32mc:\\users\\joshh\\desktop\\uni\\soton year 3\\comp3200\\fake-news-profiling\\venv\\lib\\site-packages\\tensorflow\\python\\framework\\ops.py\u001b[0m in \u001b[0;36m_get_op_def\u001b[1;34m(self, type)\u001b[0m\n\u001b[0;32m   3872\u001b[0m     \u001b[1;32mtry\u001b[0m\u001b[1;33m:\u001b[0m\u001b[1;33m\u001b[0m\u001b[1;33m\u001b[0m\u001b[0m\n\u001b[1;32m-> 3873\u001b[1;33m       \u001b[1;32mreturn\u001b[0m \u001b[0mself\u001b[0m\u001b[1;33m.\u001b[0m\u001b[0m_op_def_cache\u001b[0m\u001b[1;33m[\u001b[0m\u001b[0mtype\u001b[0m\u001b[1;33m]\u001b[0m\u001b[1;33m\u001b[0m\u001b[1;33m\u001b[0m\u001b[0m\n\u001b[0m\u001b[0;32m   3874\u001b[0m     \u001b[1;32mexcept\u001b[0m \u001b[0mKeyError\u001b[0m\u001b[1;33m:\u001b[0m\u001b[1;33m\u001b[0m\u001b[1;33m\u001b[0m\u001b[0m\n",
      "\u001b[1;31mKeyError\u001b[0m: 'Placeholder'",
      "\nDuring handling of the above exception, another exception occurred:\n",
      "\u001b[1;31mKeyboardInterrupt\u001b[0m                         Traceback (most recent call last)",
      "\u001b[1;32m<ipython-input-14-258585802e5c>\u001b[0m in \u001b[0;36m<module>\u001b[1;34m\u001b[0m\n\u001b[0;32m      2\u001b[0m bert_encoder_individual = hub.KerasLayer(\n\u001b[0;32m      3\u001b[0m     \u001b[0msmall_bert_url\u001b[0m\u001b[1;33m,\u001b[0m\u001b[1;33m\u001b[0m\u001b[1;33m\u001b[0m\u001b[0m\n\u001b[1;32m----> 4\u001b[1;33m     \u001b[0mtrainable\u001b[0m\u001b[1;33m=\u001b[0m\u001b[1;32mTrue\u001b[0m\u001b[1;33m,\u001b[0m\u001b[1;33m\u001b[0m\u001b[1;33m\u001b[0m\u001b[0m\n\u001b[0m\u001b[0;32m      5\u001b[0m )\n\u001b[0;32m      6\u001b[0m \u001b[0mbert_input_size_individual\u001b[0m \u001b[1;33m=\u001b[0m \u001b[1;36m128\u001b[0m\u001b[1;33m\u001b[0m\u001b[1;33m\u001b[0m\u001b[0m\n",
      "\u001b[1;32mc:\\users\\joshh\\desktop\\uni\\soton year 3\\comp3200\\fake-news-profiling\\venv\\lib\\site-packages\\tensorflow_hub\\keras_layer.py\u001b[0m in \u001b[0;36m__init__\u001b[1;34m(self, handle, trainable, arguments, _sentinel, tags, signature, signature_outputs_as_dict, output_key, output_shape, load_options, **kwargs)\u001b[0m\n\u001b[0;32m    150\u001b[0m \u001b[1;33m\u001b[0m\u001b[0m\n\u001b[0;32m    151\u001b[0m     \u001b[0mself\u001b[0m\u001b[1;33m.\u001b[0m\u001b[0m_load_options\u001b[0m \u001b[1;33m=\u001b[0m \u001b[0mload_options\u001b[0m\u001b[1;33m\u001b[0m\u001b[1;33m\u001b[0m\u001b[0m\n\u001b[1;32m--> 152\u001b[1;33m     \u001b[0mself\u001b[0m\u001b[1;33m.\u001b[0m\u001b[0m_func\u001b[0m \u001b[1;33m=\u001b[0m \u001b[0mload_module\u001b[0m\u001b[1;33m(\u001b[0m\u001b[0mhandle\u001b[0m\u001b[1;33m,\u001b[0m \u001b[0mtags\u001b[0m\u001b[1;33m,\u001b[0m \u001b[0mself\u001b[0m\u001b[1;33m.\u001b[0m\u001b[0m_load_options\u001b[0m\u001b[1;33m)\u001b[0m\u001b[1;33m\u001b[0m\u001b[1;33m\u001b[0m\u001b[0m\n\u001b[0m\u001b[0;32m    153\u001b[0m     \u001b[0mself\u001b[0m\u001b[1;33m.\u001b[0m\u001b[0m_has_training_argument\u001b[0m \u001b[1;33m=\u001b[0m \u001b[0mfunc_has_training_argument\u001b[0m\u001b[1;33m(\u001b[0m\u001b[0mself\u001b[0m\u001b[1;33m.\u001b[0m\u001b[0m_func\u001b[0m\u001b[1;33m)\u001b[0m\u001b[1;33m\u001b[0m\u001b[1;33m\u001b[0m\u001b[0m\n\u001b[0;32m    154\u001b[0m     \u001b[0mself\u001b[0m\u001b[1;33m.\u001b[0m\u001b[0m_is_hub_module_v1\u001b[0m \u001b[1;33m=\u001b[0m \u001b[0mgetattr\u001b[0m\u001b[1;33m(\u001b[0m\u001b[0mself\u001b[0m\u001b[1;33m.\u001b[0m\u001b[0m_func\u001b[0m\u001b[1;33m,\u001b[0m \u001b[1;34m\"_is_hub_module_v1\"\u001b[0m\u001b[1;33m,\u001b[0m \u001b[1;32mFalse\u001b[0m\u001b[1;33m)\u001b[0m\u001b[1;33m\u001b[0m\u001b[1;33m\u001b[0m\u001b[0m\n",
      "\u001b[1;32mc:\\users\\joshh\\desktop\\uni\\soton year 3\\comp3200\\fake-news-profiling\\venv\\lib\\site-packages\\tensorflow_hub\\keras_layer.py\u001b[0m in \u001b[0;36mload_module\u001b[1;34m(handle, tags, load_options)\u001b[0m\n\u001b[0;32m    419\u001b[0m     \u001b[1;32mexcept\u001b[0m \u001b[0mImportError\u001b[0m\u001b[1;33m:\u001b[0m  \u001b[1;31m# Expected before TF2.4.\u001b[0m\u001b[1;33m\u001b[0m\u001b[1;33m\u001b[0m\u001b[0m\n\u001b[0;32m    420\u001b[0m       \u001b[0mset_load_options\u001b[0m \u001b[1;33m=\u001b[0m \u001b[0mload_options\u001b[0m\u001b[1;33m\u001b[0m\u001b[1;33m\u001b[0m\u001b[0m\n\u001b[1;32m--> 421\u001b[1;33m     \u001b[1;32mreturn\u001b[0m \u001b[0mmodule_v2\u001b[0m\u001b[1;33m.\u001b[0m\u001b[0mload\u001b[0m\u001b[1;33m(\u001b[0m\u001b[0mhandle\u001b[0m\u001b[1;33m,\u001b[0m \u001b[0mtags\u001b[0m\u001b[1;33m=\u001b[0m\u001b[0mtags\u001b[0m\u001b[1;33m,\u001b[0m \u001b[0moptions\u001b[0m\u001b[1;33m=\u001b[0m\u001b[0mset_load_options\u001b[0m\u001b[1;33m)\u001b[0m\u001b[1;33m\u001b[0m\u001b[1;33m\u001b[0m\u001b[0m\n\u001b[0m\u001b[0;32m    422\u001b[0m \u001b[1;33m\u001b[0m\u001b[0m\n\u001b[0;32m    423\u001b[0m \u001b[1;33m\u001b[0m\u001b[0m\n",
      "\u001b[1;32mc:\\users\\joshh\\desktop\\uni\\soton year 3\\comp3200\\fake-news-profiling\\venv\\lib\\site-packages\\tensorflow_hub\\module_v2.py\u001b[0m in \u001b[0;36mload\u001b[1;34m(handle, tags, options)\u001b[0m\n\u001b[0;32m    104\u001b[0m         module_path, tags=tags, options=options)\n\u001b[0;32m    105\u001b[0m   \u001b[1;32melse\u001b[0m\u001b[1;33m:\u001b[0m\u001b[1;33m\u001b[0m\u001b[1;33m\u001b[0m\u001b[0m\n\u001b[1;32m--> 106\u001b[1;33m     \u001b[0mobj\u001b[0m \u001b[1;33m=\u001b[0m \u001b[0mtf\u001b[0m\u001b[1;33m.\u001b[0m\u001b[0mcompat\u001b[0m\u001b[1;33m.\u001b[0m\u001b[0mv1\u001b[0m\u001b[1;33m.\u001b[0m\u001b[0msaved_model\u001b[0m\u001b[1;33m.\u001b[0m\u001b[0mload_v2\u001b[0m\u001b[1;33m(\u001b[0m\u001b[0mmodule_path\u001b[0m\u001b[1;33m,\u001b[0m \u001b[0mtags\u001b[0m\u001b[1;33m=\u001b[0m\u001b[0mtags\u001b[0m\u001b[1;33m)\u001b[0m\u001b[1;33m\u001b[0m\u001b[1;33m\u001b[0m\u001b[0m\n\u001b[0m\u001b[0;32m    107\u001b[0m   \u001b[0mobj\u001b[0m\u001b[1;33m.\u001b[0m\u001b[0m_is_hub_module_v1\u001b[0m \u001b[1;33m=\u001b[0m \u001b[0mis_hub_module_v1\u001b[0m  \u001b[1;31m# pylint: disable=protected-access\u001b[0m\u001b[1;33m\u001b[0m\u001b[1;33m\u001b[0m\u001b[0m\n\u001b[0;32m    108\u001b[0m   \u001b[1;32mreturn\u001b[0m \u001b[0mobj\u001b[0m\u001b[1;33m\u001b[0m\u001b[1;33m\u001b[0m\u001b[0m\n",
      "\u001b[1;32mc:\\users\\joshh\\desktop\\uni\\soton year 3\\comp3200\\fake-news-profiling\\venv\\lib\\site-packages\\tensorflow\\python\\saved_model\\load.py\u001b[0m in \u001b[0;36mload\u001b[1;34m(export_dir, tags, options)\u001b[0m\n\u001b[0;32m    601\u001b[0m     \u001b[0mValueError\u001b[0m\u001b[1;33m:\u001b[0m \u001b[0mIf\u001b[0m\u001b[0;31m \u001b[0m\u001b[0;31m`\u001b[0m\u001b[0mtags\u001b[0m\u001b[0;31m`\u001b[0m \u001b[0mdon\u001b[0m\u001b[0;31m'\u001b[0m\u001b[0mt\u001b[0m \u001b[0mmatch\u001b[0m \u001b[0ma\u001b[0m \u001b[0mMetaGraph\u001b[0m \u001b[1;32min\u001b[0m \u001b[0mthe\u001b[0m \u001b[0mSavedModel\u001b[0m\u001b[1;33m.\u001b[0m\u001b[1;33m\u001b[0m\u001b[1;33m\u001b[0m\u001b[0m\n\u001b[0;32m    602\u001b[0m   \"\"\"\n\u001b[1;32m--> 603\u001b[1;33m   \u001b[1;32mreturn\u001b[0m \u001b[0mload_internal\u001b[0m\u001b[1;33m(\u001b[0m\u001b[0mexport_dir\u001b[0m\u001b[1;33m,\u001b[0m \u001b[0mtags\u001b[0m\u001b[1;33m,\u001b[0m \u001b[0moptions\u001b[0m\u001b[1;33m)\u001b[0m\u001b[1;33m\u001b[0m\u001b[1;33m\u001b[0m\u001b[0m\n\u001b[0m\u001b[0;32m    604\u001b[0m \u001b[1;33m\u001b[0m\u001b[0m\n\u001b[0;32m    605\u001b[0m \u001b[1;33m\u001b[0m\u001b[0m\n",
      "\u001b[1;32mc:\\users\\joshh\\desktop\\uni\\soton year 3\\comp3200\\fake-news-profiling\\venv\\lib\\site-packages\\tensorflow\\python\\saved_model\\load.py\u001b[0m in \u001b[0;36mload_internal\u001b[1;34m(export_dir, tags, options, loader_cls)\u001b[0m\n\u001b[0;32m    631\u001b[0m       \u001b[1;32mtry\u001b[0m\u001b[1;33m:\u001b[0m\u001b[1;33m\u001b[0m\u001b[1;33m\u001b[0m\u001b[0m\n\u001b[0;32m    632\u001b[0m         loader = loader_cls(object_graph_proto, saved_model_proto, export_dir,\n\u001b[1;32m--> 633\u001b[1;33m                             ckpt_options)\n\u001b[0m\u001b[0;32m    634\u001b[0m       \u001b[1;32mexcept\u001b[0m \u001b[0merrors\u001b[0m\u001b[1;33m.\u001b[0m\u001b[0mNotFoundError\u001b[0m \u001b[1;32mas\u001b[0m \u001b[0merr\u001b[0m\u001b[1;33m:\u001b[0m\u001b[1;33m\u001b[0m\u001b[1;33m\u001b[0m\u001b[0m\n\u001b[0;32m    635\u001b[0m         raise FileNotFoundError(\n",
      "\u001b[1;32mc:\\users\\joshh\\desktop\\uni\\soton year 3\\comp3200\\fake-news-profiling\\venv\\lib\\site-packages\\tensorflow\\python\\saved_model\\load.py\u001b[0m in \u001b[0;36m__init__\u001b[1;34m(self, object_graph_proto, saved_model_proto, export_dir, ckpt_options)\u001b[0m\n\u001b[0;32m    120\u001b[0m     self._concrete_functions = (\n\u001b[0;32m    121\u001b[0m         function_deserialization.load_function_def_library(\n\u001b[1;32m--> 122\u001b[1;33m             meta_graph.graph_def.library))\n\u001b[0m\u001b[0;32m    123\u001b[0m     \u001b[0mself\u001b[0m\u001b[1;33m.\u001b[0m\u001b[0m_checkpoint_options\u001b[0m \u001b[1;33m=\u001b[0m \u001b[0mckpt_options\u001b[0m\u001b[1;33m\u001b[0m\u001b[1;33m\u001b[0m\u001b[0m\n\u001b[0;32m    124\u001b[0m \u001b[1;33m\u001b[0m\u001b[0m\n",
      "\u001b[1;32mc:\\users\\joshh\\desktop\\uni\\soton year 3\\comp3200\\fake-news-profiling\\venv\\lib\\site-packages\\tensorflow\\python\\saved_model\\function_deserialization.py\u001b[0m in \u001b[0;36mload_function_def_library\u001b[1;34m(library, load_shared_name_suffix)\u001b[0m\n\u001b[0;32m    322\u001b[0m     \u001b[1;31m# import).\u001b[0m\u001b[1;33m\u001b[0m\u001b[1;33m\u001b[0m\u001b[1;33m\u001b[0m\u001b[0m\n\u001b[0;32m    323\u001b[0m     \u001b[1;32mwith\u001b[0m \u001b[0mgraph\u001b[0m\u001b[1;33m.\u001b[0m\u001b[0mas_default\u001b[0m\u001b[1;33m(\u001b[0m\u001b[1;33m)\u001b[0m\u001b[1;33m:\u001b[0m\u001b[1;33m\u001b[0m\u001b[1;33m\u001b[0m\u001b[0m\n\u001b[1;32m--> 324\u001b[1;33m       \u001b[0mfunc_graph\u001b[0m \u001b[1;33m=\u001b[0m \u001b[0mfunction_def_lib\u001b[0m\u001b[1;33m.\u001b[0m\u001b[0mfunction_def_to_graph\u001b[0m\u001b[1;33m(\u001b[0m\u001b[0mcopy\u001b[0m\u001b[1;33m)\u001b[0m\u001b[1;33m\u001b[0m\u001b[1;33m\u001b[0m\u001b[0m\n\u001b[0m\u001b[0;32m    325\u001b[0m     \u001b[0m_restore_gradient_functions\u001b[0m\u001b[1;33m(\u001b[0m\u001b[0mfunc_graph\u001b[0m\u001b[1;33m,\u001b[0m \u001b[0mrenamed_functions\u001b[0m\u001b[1;33m)\u001b[0m\u001b[1;33m\u001b[0m\u001b[1;33m\u001b[0m\u001b[0m\n\u001b[0;32m    326\u001b[0m \u001b[1;33m\u001b[0m\u001b[0m\n",
      "\u001b[1;32mc:\\users\\joshh\\desktop\\uni\\soton year 3\\comp3200\\fake-news-profiling\\venv\\lib\\site-packages\\tensorflow\\python\\framework\\function_def_to_graph.py\u001b[0m in \u001b[0;36mfunction_def_to_graph\u001b[1;34m(fdef, input_shapes)\u001b[0m\n\u001b[0;32m     61\u001b[0m   \u001b[1;32mwith\u001b[0m \u001b[0mfunc_graph\u001b[0m\u001b[1;33m.\u001b[0m\u001b[0mas_default\u001b[0m\u001b[1;33m(\u001b[0m\u001b[1;33m)\u001b[0m\u001b[1;33m:\u001b[0m\u001b[1;33m\u001b[0m\u001b[1;33m\u001b[0m\u001b[0m\n\u001b[0;32m     62\u001b[0m     \u001b[1;31m# Add all function nodes to the graph.\u001b[0m\u001b[1;33m\u001b[0m\u001b[1;33m\u001b[0m\u001b[1;33m\u001b[0m\u001b[0m\n\u001b[1;32m---> 63\u001b[1;33m     \u001b[0mimporter\u001b[0m\u001b[1;33m.\u001b[0m\u001b[0mimport_graph_def_for_function\u001b[0m\u001b[1;33m(\u001b[0m\u001b[0mgraph_def\u001b[0m\u001b[1;33m,\u001b[0m \u001b[0mname\u001b[0m\u001b[1;33m=\u001b[0m\u001b[1;34m\"\"\u001b[0m\u001b[1;33m)\u001b[0m\u001b[1;33m\u001b[0m\u001b[1;33m\u001b[0m\u001b[0m\n\u001b[0m\u001b[0;32m     64\u001b[0m \u001b[1;33m\u001b[0m\u001b[0m\n\u001b[0;32m     65\u001b[0m     \u001b[1;31m# Initialize fields specific to FuncGraph.\u001b[0m\u001b[1;33m\u001b[0m\u001b[1;33m\u001b[0m\u001b[1;33m\u001b[0m\u001b[0m\n",
      "\u001b[1;32mc:\\users\\joshh\\desktop\\uni\\soton year 3\\comp3200\\fake-news-profiling\\venv\\lib\\site-packages\\tensorflow\\python\\framework\\importer.py\u001b[0m in \u001b[0;36mimport_graph_def_for_function\u001b[1;34m(graph_def, name)\u001b[0m\n\u001b[0;32m    410\u001b[0m   \u001b[1;34m\"\"\"Like import_graph_def but does not validate colocation constraints.\"\"\"\u001b[0m\u001b[1;33m\u001b[0m\u001b[1;33m\u001b[0m\u001b[0m\n\u001b[0;32m    411\u001b[0m   return _import_graph_def_internal(\n\u001b[1;32m--> 412\u001b[1;33m       graph_def, validate_colocation_constraints=False, name=name)\n\u001b[0m\u001b[0;32m    413\u001b[0m \u001b[1;33m\u001b[0m\u001b[0m\n\u001b[0;32m    414\u001b[0m \u001b[1;33m\u001b[0m\u001b[0m\n",
      "\u001b[1;32mc:\\users\\joshh\\desktop\\uni\\soton year 3\\comp3200\\fake-news-profiling\\venv\\lib\\site-packages\\tensorflow\\python\\framework\\importer.py\u001b[0m in \u001b[0;36m_import_graph_def_internal\u001b[1;34m(graph_def, input_map, return_elements, validate_colocation_constraints, name, producer_op_list)\u001b[0m\n\u001b[0;32m    511\u001b[0m     \u001b[1;31m# TODO(skyewm): avoid sending serialized FunctionDefs back to the TF_Graph\u001b[0m\u001b[1;33m\u001b[0m\u001b[1;33m\u001b[0m\u001b[1;33m\u001b[0m\u001b[0m\n\u001b[0;32m    512\u001b[0m \u001b[1;33m\u001b[0m\u001b[0m\n\u001b[1;32m--> 513\u001b[1;33m     \u001b[0m_ProcessNewOps\u001b[0m\u001b[1;33m(\u001b[0m\u001b[0mgraph\u001b[0m\u001b[1;33m)\u001b[0m\u001b[1;33m\u001b[0m\u001b[1;33m\u001b[0m\u001b[0m\n\u001b[0m\u001b[0;32m    514\u001b[0m \u001b[1;33m\u001b[0m\u001b[0m\n\u001b[0;32m    515\u001b[0m   \u001b[1;32mif\u001b[0m \u001b[0mgraph_def\u001b[0m\u001b[1;33m.\u001b[0m\u001b[0mlibrary\u001b[0m \u001b[1;32mand\u001b[0m \u001b[0mgraph_def\u001b[0m\u001b[1;33m.\u001b[0m\u001b[0mlibrary\u001b[0m\u001b[1;33m.\u001b[0m\u001b[0mfunction\u001b[0m\u001b[1;33m:\u001b[0m\u001b[1;33m\u001b[0m\u001b[1;33m\u001b[0m\u001b[0m\n",
      "\u001b[1;32mc:\\users\\joshh\\desktop\\uni\\soton year 3\\comp3200\\fake-news-profiling\\venv\\lib\\site-packages\\tensorflow\\python\\framework\\importer.py\u001b[0m in \u001b[0;36m_ProcessNewOps\u001b[1;34m(graph)\u001b[0m\n\u001b[0;32m    241\u001b[0m   \u001b[0mcolocation_pairs\u001b[0m \u001b[1;33m=\u001b[0m \u001b[1;33m{\u001b[0m\u001b[1;33m}\u001b[0m\u001b[1;33m\u001b[0m\u001b[1;33m\u001b[0m\u001b[0m\n\u001b[0;32m    242\u001b[0m \u001b[1;33m\u001b[0m\u001b[0m\n\u001b[1;32m--> 243\u001b[1;33m   \u001b[1;32mfor\u001b[0m \u001b[0mnew_op\u001b[0m \u001b[1;32min\u001b[0m \u001b[0mgraph\u001b[0m\u001b[1;33m.\u001b[0m\u001b[0m_add_new_tf_operations\u001b[0m\u001b[1;33m(\u001b[0m\u001b[0mcompute_devices\u001b[0m\u001b[1;33m=\u001b[0m\u001b[1;32mFalse\u001b[0m\u001b[1;33m)\u001b[0m\u001b[1;33m:\u001b[0m  \u001b[1;31m# pylint: disable=protected-access\u001b[0m\u001b[1;33m\u001b[0m\u001b[1;33m\u001b[0m\u001b[0m\n\u001b[0m\u001b[0;32m    244\u001b[0m     \u001b[0moriginal_device\u001b[0m \u001b[1;33m=\u001b[0m \u001b[0mnew_op\u001b[0m\u001b[1;33m.\u001b[0m\u001b[0mdevice\u001b[0m\u001b[1;33m\u001b[0m\u001b[1;33m\u001b[0m\u001b[0m\n\u001b[0;32m    245\u001b[0m     \u001b[0mnew_op\u001b[0m\u001b[1;33m.\u001b[0m\u001b[0m_set_device\u001b[0m\u001b[1;33m(\u001b[0m\u001b[1;34m''\u001b[0m\u001b[1;33m)\u001b[0m  \u001b[1;31m# pylint: disable=protected-access\u001b[0m\u001b[1;33m\u001b[0m\u001b[1;33m\u001b[0m\u001b[0m\n",
      "\u001b[1;32mc:\\users\\joshh\\desktop\\uni\\soton year 3\\comp3200\\fake-news-profiling\\venv\\lib\\site-packages\\tensorflow\\python\\framework\\ops.py\u001b[0m in \u001b[0;36m_add_new_tf_operations\u001b[1;34m(self, compute_devices)\u001b[0m\n\u001b[0;32m   3622\u001b[0m     new_ops = [\n\u001b[0;32m   3623\u001b[0m         \u001b[0mself\u001b[0m\u001b[1;33m.\u001b[0m\u001b[0m_create_op_from_tf_operation\u001b[0m\u001b[1;33m(\u001b[0m\u001b[0mc_op\u001b[0m\u001b[1;33m,\u001b[0m \u001b[0mcompute_device\u001b[0m\u001b[1;33m=\u001b[0m\u001b[0mcompute_devices\u001b[0m\u001b[1;33m)\u001b[0m\u001b[1;33m\u001b[0m\u001b[1;33m\u001b[0m\u001b[0m\n\u001b[1;32m-> 3624\u001b[1;33m         \u001b[1;32mfor\u001b[0m \u001b[0mc_op\u001b[0m \u001b[1;32min\u001b[0m \u001b[0mc_api_util\u001b[0m\u001b[1;33m.\u001b[0m\u001b[0mnew_tf_operations\u001b[0m\u001b[1;33m(\u001b[0m\u001b[0mself\u001b[0m\u001b[1;33m)\u001b[0m\u001b[1;33m\u001b[0m\u001b[1;33m\u001b[0m\u001b[0m\n\u001b[0m\u001b[0;32m   3625\u001b[0m     ]\n\u001b[0;32m   3626\u001b[0m \u001b[1;33m\u001b[0m\u001b[0m\n",
      "\u001b[1;32mc:\\users\\joshh\\desktop\\uni\\soton year 3\\comp3200\\fake-news-profiling\\venv\\lib\\site-packages\\tensorflow\\python\\framework\\ops.py\u001b[0m in \u001b[0;36m<listcomp>\u001b[1;34m(.0)\u001b[0m\n\u001b[0;32m   3622\u001b[0m     new_ops = [\n\u001b[0;32m   3623\u001b[0m         \u001b[0mself\u001b[0m\u001b[1;33m.\u001b[0m\u001b[0m_create_op_from_tf_operation\u001b[0m\u001b[1;33m(\u001b[0m\u001b[0mc_op\u001b[0m\u001b[1;33m,\u001b[0m \u001b[0mcompute_device\u001b[0m\u001b[1;33m=\u001b[0m\u001b[0mcompute_devices\u001b[0m\u001b[1;33m)\u001b[0m\u001b[1;33m\u001b[0m\u001b[1;33m\u001b[0m\u001b[0m\n\u001b[1;32m-> 3624\u001b[1;33m         \u001b[1;32mfor\u001b[0m \u001b[0mc_op\u001b[0m \u001b[1;32min\u001b[0m \u001b[0mc_api_util\u001b[0m\u001b[1;33m.\u001b[0m\u001b[0mnew_tf_operations\u001b[0m\u001b[1;33m(\u001b[0m\u001b[0mself\u001b[0m\u001b[1;33m)\u001b[0m\u001b[1;33m\u001b[0m\u001b[1;33m\u001b[0m\u001b[0m\n\u001b[0m\u001b[0;32m   3625\u001b[0m     ]\n\u001b[0;32m   3626\u001b[0m \u001b[1;33m\u001b[0m\u001b[0m\n",
      "\u001b[1;32mc:\\users\\joshh\\desktop\\uni\\soton year 3\\comp3200\\fake-news-profiling\\venv\\lib\\site-packages\\tensorflow\\python\\framework\\ops.py\u001b[0m in \u001b[0;36m_create_op_from_tf_operation\u001b[1;34m(self, c_op, compute_device)\u001b[0m\n\u001b[0;32m   3508\u001b[0m     \"\"\"\n\u001b[0;32m   3509\u001b[0m     \u001b[0mself\u001b[0m\u001b[1;33m.\u001b[0m\u001b[0m_check_not_finalized\u001b[0m\u001b[1;33m(\u001b[0m\u001b[1;33m)\u001b[0m\u001b[1;33m\u001b[0m\u001b[1;33m\u001b[0m\u001b[0m\n\u001b[1;32m-> 3510\u001b[1;33m     \u001b[0mret\u001b[0m \u001b[1;33m=\u001b[0m \u001b[0mOperation\u001b[0m\u001b[1;33m(\u001b[0m\u001b[0mc_op\u001b[0m\u001b[1;33m,\u001b[0m \u001b[0mself\u001b[0m\u001b[1;33m)\u001b[0m\u001b[1;33m\u001b[0m\u001b[1;33m\u001b[0m\u001b[0m\n\u001b[0m\u001b[0;32m   3511\u001b[0m     \u001b[1;31m# If a name_scope was created with ret.name but no nodes were created in it,\u001b[0m\u001b[1;33m\u001b[0m\u001b[1;33m\u001b[0m\u001b[1;33m\u001b[0m\u001b[0m\n\u001b[0;32m   3512\u001b[0m     \u001b[1;31m# the name will still appear in _names_in_use even though the name hasn't\u001b[0m\u001b[1;33m\u001b[0m\u001b[1;33m\u001b[0m\u001b[1;33m\u001b[0m\u001b[0m\n",
      "\u001b[1;32mc:\\users\\joshh\\desktop\\uni\\soton year 3\\comp3200\\fake-news-profiling\\venv\\lib\\site-packages\\tensorflow\\python\\framework\\ops.py\u001b[0m in \u001b[0;36m__init__\u001b[1;34m(self, node_def, g, inputs, output_types, control_inputs, input_types, original_op, op_def)\u001b[0m\n\u001b[0;32m   1967\u001b[0m     \u001b[1;32mif\u001b[0m \u001b[0mc_op\u001b[0m\u001b[1;33m:\u001b[0m\u001b[1;33m\u001b[0m\u001b[1;33m\u001b[0m\u001b[0m\n\u001b[0;32m   1968\u001b[0m       \u001b[0mself\u001b[0m\u001b[1;33m.\u001b[0m\u001b[0m_c_op\u001b[0m \u001b[1;33m=\u001b[0m \u001b[0mc_op\u001b[0m\u001b[1;33m\u001b[0m\u001b[1;33m\u001b[0m\u001b[0m\n\u001b[1;32m-> 1969\u001b[1;33m       \u001b[0mop_def\u001b[0m \u001b[1;33m=\u001b[0m \u001b[0mg\u001b[0m\u001b[1;33m.\u001b[0m\u001b[0m_get_op_def\u001b[0m\u001b[1;33m(\u001b[0m\u001b[0mpywrap_tf_session\u001b[0m\u001b[1;33m.\u001b[0m\u001b[0mTF_OperationOpType\u001b[0m\u001b[1;33m(\u001b[0m\u001b[0mc_op\u001b[0m\u001b[1;33m)\u001b[0m\u001b[1;33m)\u001b[0m\u001b[1;33m\u001b[0m\u001b[1;33m\u001b[0m\u001b[0m\n\u001b[0m\u001b[0;32m   1970\u001b[0m       \u001b[0mname\u001b[0m \u001b[1;33m=\u001b[0m \u001b[0mself\u001b[0m\u001b[1;33m.\u001b[0m\u001b[0mname\u001b[0m\u001b[1;33m\u001b[0m\u001b[1;33m\u001b[0m\u001b[0m\n\u001b[0;32m   1971\u001b[0m     \u001b[1;32melse\u001b[0m\u001b[1;33m:\u001b[0m\u001b[1;33m\u001b[0m\u001b[1;33m\u001b[0m\u001b[0m\n",
      "\u001b[1;32mc:\\users\\joshh\\desktop\\uni\\soton year 3\\comp3200\\fake-news-profiling\\venv\\lib\\site-packages\\tensorflow\\python\\framework\\ops.py\u001b[0m in \u001b[0;36m_get_op_def\u001b[1;34m(self, type)\u001b[0m\n\u001b[0;32m   3876\u001b[0m         \u001b[1;31m# pylint: disable=protected-access\u001b[0m\u001b[1;33m\u001b[0m\u001b[1;33m\u001b[0m\u001b[1;33m\u001b[0m\u001b[0m\n\u001b[0;32m   3877\u001b[0m         pywrap_tf_session.TF_GraphGetOpDef(self._c_graph, compat.as_bytes(type),\n\u001b[1;32m-> 3878\u001b[1;33m                                            buf)\n\u001b[0m\u001b[0;32m   3879\u001b[0m         \u001b[1;31m# pylint: enable=protected-access\u001b[0m\u001b[1;33m\u001b[0m\u001b[1;33m\u001b[0m\u001b[1;33m\u001b[0m\u001b[0m\n\u001b[0;32m   3880\u001b[0m         \u001b[0mdata\u001b[0m \u001b[1;33m=\u001b[0m \u001b[0mpywrap_tf_session\u001b[0m\u001b[1;33m.\u001b[0m\u001b[0mTF_GetBuffer\u001b[0m\u001b[1;33m(\u001b[0m\u001b[0mbuf\u001b[0m\u001b[1;33m)\u001b[0m\u001b[1;33m\u001b[0m\u001b[1;33m\u001b[0m\u001b[0m\n",
      "\u001b[1;31mKeyboardInterrupt\u001b[0m: "
     ]
    }
   ],
   "source": [
    "small_bert_url = \"https://tfhub.dev/tensorflow/small_bert/bert_en_uncased_L-12_H-256_A-2/1\"\n",
    "bert_encoder_individual = hub.KerasLayer(\n",
    "    small_bert_url, \n",
    "    trainable=True,\n",
    ")\n",
    "bert_input_size_individual = 256"
   ]
  },
  {
   "cell_type": "code",
   "execution_count": null,
   "metadata": {
    "scrolled": false
   },
   "outputs": [],
   "source": [
    "individual_tokenizer = bclf.BertIndividualTweetTokenizer(bert_encoder_individual, bert_input_size_individual)\n",
    "\n",
    "tweet_individual_train = individual_tokenizer.tokenize_input(tweet_train)\n",
    "label_individual_train = individual_tokenizer.tokenize_labels(label_train)\n",
    "tweet_individual_val = individual_tokenizer.tokenize_input(tweet_val)\n",
    "label_individual_val = individual_tokenizer.tokenize_labels(label_val)\n",
    "tweet_individual_test = individual_tokenizer.tokenize_input(tweet_test)\n",
    "label_individual_test = individual_tokenizer.tokenize_labels(label_test)"
   ]
  },
  {
   "cell_type": "markdown",
   "metadata": {},
   "source": [
    "### Finding optimal hyper parameters (batch_size, epochs)"
   ]
  },
  {
   "cell_type": "code",
   "execution_count": 13,
   "metadata": {},
   "outputs": [
    {
     "name": "stdout",
     "output_type": "stream",
     "text": [
      "Epoch 1/10\n",
      "329/329 [==============================] - 81s 246ms/step - loss: 0.6682 - accuracy: 0.5874\n",
      "Epoch 2/10\n",
      "329/329 [==============================] - 81s 247ms/step - loss: 0.6340 - accuracy: 0.6392\n",
      "Epoch 3/10\n",
      "329/329 [==============================] - 81s 247ms/step - loss: 0.6187 - accuracy: 0.6549\n",
      "Epoch 4/10\n",
      "329/329 [==============================] - 81s 247ms/step - loss: 0.5999 - accuracy: 0.6768\n",
      "Epoch 5/10\n",
      "329/329 [==============================] - 81s 247ms/step - loss: 0.5834 - accuracy: 0.6926\n",
      "Epoch 6/10\n",
      "329/329 [==============================] - 81s 247ms/step - loss: 0.5652 - accuracy: 0.7097\n",
      "Epoch 7/10\n",
      "329/329 [==============================] - 81s 246ms/step - loss: 0.5473 - accuracy: 0.7217\n",
      "Epoch 8/10\n",
      "329/329 [==============================] - 81s 247ms/step - loss: 0.5304 - accuracy: 0.7325\n",
      "Epoch 9/10\n",
      "329/329 [==============================] - 81s 247ms/step - loss: 0.5142 - accuracy: 0.7476\n",
      "Epoch 10/10\n",
      "329/329 [==============================] - 81s 247ms/step - loss: 0.4966 - accuracy: 0.7599\n",
      "141/141 [==============================] - 6s 42ms/step - loss: 0.7258 - accuracy: 0.6438\n",
      "{'batch_size': 64, 'epochs': 10, 'loss': 0.725799024105072, 'accuracy': 0.6437777876853943}\n",
      "Epoch 1/50\n",
      "329/329 [==============================] - 81s 247ms/step - loss: 0.6675 - accuracy: 0.5849\n",
      "Epoch 2/50\n",
      "329/329 [==============================] - 81s 247ms/step - loss: 0.6373 - accuracy: 0.6348\n",
      "Epoch 3/50\n",
      "329/329 [==============================] - 81s 248ms/step - loss: 0.6210 - accuracy: 0.6556\n",
      "Epoch 4/50\n",
      "329/329 [==============================] - 81s 247ms/step - loss: 0.6013 - accuracy: 0.6748\n",
      "Epoch 5/50\n",
      "329/329 [==============================] - 81s 247ms/step - loss: 0.5870 - accuracy: 0.6868\n",
      "Epoch 6/50\n",
      "329/329 [==============================] - 81s 247ms/step - loss: 0.5705 - accuracy: 0.7022\n",
      "Epoch 7/50\n",
      "329/329 [==============================] - 81s 247ms/step - loss: 0.5506 - accuracy: 0.7178\n",
      "Epoch 8/50\n",
      "329/329 [==============================] - 81s 247ms/step - loss: 0.5337 - accuracy: 0.7310\n",
      "Epoch 9/50\n",
      "329/329 [==============================] - 81s 247ms/step - loss: 0.5162 - accuracy: 0.7440\n",
      "Epoch 10/50\n",
      "329/329 [==============================] - 81s 247ms/step - loss: 0.5007 - accuracy: 0.7552\n",
      "Epoch 11/50\n",
      "329/329 [==============================] - 81s 247ms/step - loss: 0.4855 - accuracy: 0.7650\n",
      "Epoch 12/50\n",
      "329/329 [==============================] - 81s 247ms/step - loss: 0.4693 - accuracy: 0.7762\n",
      "Epoch 13/50\n",
      "329/329 [==============================] - 81s 247ms/step - loss: 0.4535 - accuracy: 0.7846\n",
      "Epoch 14/50\n",
      "329/329 [==============================] - 81s 247ms/step - loss: 0.4432 - accuracy: 0.7926\n",
      "Epoch 15/50\n",
      "329/329 [==============================] - 81s 247ms/step - loss: 0.4250 - accuracy: 0.8017\n",
      "Epoch 16/50\n",
      "329/329 [==============================] - 81s 247ms/step - loss: 0.4130 - accuracy: 0.8084\n",
      "Epoch 17/50\n",
      "329/329 [==============================] - 81s 247ms/step - loss: 0.3982 - accuracy: 0.8176\n",
      "Epoch 18/50\n",
      "329/329 [==============================] - 81s 247ms/step - loss: 0.3882 - accuracy: 0.8230\n",
      "Epoch 19/50\n",
      "329/329 [==============================] - 81s 247ms/step - loss: 0.3713 - accuracy: 0.8344\n",
      "Epoch 20/50\n",
      "329/329 [==============================] - 81s 247ms/step - loss: 0.3604 - accuracy: 0.8385\n",
      "Epoch 21/50\n",
      "329/329 [==============================] - 81s 247ms/step - loss: 0.3503 - accuracy: 0.8455\n",
      "Epoch 22/50\n",
      "329/329 [==============================] - 81s 247ms/step - loss: 0.3419 - accuracy: 0.8488\n",
      "Epoch 23/50\n",
      "329/329 [==============================] - 81s 247ms/step - loss: 0.3281 - accuracy: 0.8574\n",
      "Epoch 24/50\n",
      "329/329 [==============================] - 81s 247ms/step - loss: 0.3175 - accuracy: 0.8609\n",
      "Epoch 25/50\n",
      "329/329 [==============================] - 81s 247ms/step - loss: 0.3039 - accuracy: 0.8677\n",
      "Epoch 26/50\n",
      "329/329 [==============================] - 81s 247ms/step - loss: 0.2986 - accuracy: 0.8721\n",
      "Epoch 27/50\n",
      "329/329 [==============================] - 81s 247ms/step - loss: 0.2861 - accuracy: 0.8782\n",
      "Epoch 28/50\n",
      "329/329 [==============================] - 81s 247ms/step - loss: 0.2801 - accuracy: 0.8797\n",
      "Epoch 29/50\n",
      "329/329 [==============================] - 81s 247ms/step - loss: 0.2720 - accuracy: 0.8842\n",
      "Epoch 30/50\n",
      "329/329 [==============================] - 81s 247ms/step - loss: 0.2623 - accuracy: 0.8892\n",
      "Epoch 31/50\n",
      "329/329 [==============================] - 81s 247ms/step - loss: 0.2534 - accuracy: 0.8934\n",
      "Epoch 32/50\n",
      "329/329 [==============================] - 81s 247ms/step - loss: 0.2464 - accuracy: 0.8994\n",
      "Epoch 33/50\n",
      "329/329 [==============================] - 81s 247ms/step - loss: 0.2390 - accuracy: 0.9009\n",
      "Epoch 34/50\n",
      "329/329 [==============================] - 81s 247ms/step - loss: 0.2288 - accuracy: 0.9050\n",
      "Epoch 35/50\n",
      "329/329 [==============================] - 81s 247ms/step - loss: 0.2200 - accuracy: 0.9079\n",
      "Epoch 36/50\n",
      "329/329 [==============================] - 81s 247ms/step - loss: 0.2117 - accuracy: 0.9137\n",
      "Epoch 37/50\n",
      "329/329 [==============================] - 81s 247ms/step - loss: 0.2072 - accuracy: 0.9151\n",
      "Epoch 38/50\n",
      "329/329 [==============================] - 81s 247ms/step - loss: 0.2022 - accuracy: 0.9154\n",
      "Epoch 39/50\n",
      "329/329 [==============================] - 81s 247ms/step - loss: 0.1959 - accuracy: 0.9206\n",
      "Epoch 40/50\n",
      "329/329 [==============================] - 81s 247ms/step - loss: 0.1913 - accuracy: 0.9209\n",
      "Epoch 41/50\n",
      "329/329 [==============================] - 81s 247ms/step - loss: 0.1832 - accuracy: 0.9259\n",
      "Epoch 42/50\n",
      "329/329 [==============================] - 81s 247ms/step - loss: 0.1751 - accuracy: 0.9272\n",
      "Epoch 43/50\n",
      "329/329 [==============================] - 81s 247ms/step - loss: 0.1680 - accuracy: 0.9310\n",
      "Epoch 44/50\n",
      "329/329 [==============================] - 81s 247ms/step - loss: 0.1686 - accuracy: 0.9327\n",
      "Epoch 45/50\n",
      "329/329 [==============================] - 81s 247ms/step - loss: 0.1600 - accuracy: 0.9360\n",
      "Epoch 46/50\n",
      "329/329 [==============================] - 81s 247ms/step - loss: 0.1538 - accuracy: 0.9382\n",
      "Epoch 47/50\n",
      "329/329 [==============================] - 81s 247ms/step - loss: 0.1507 - accuracy: 0.9387\n",
      "Epoch 48/50\n",
      "329/329 [==============================] - 81s 247ms/step - loss: 0.1504 - accuracy: 0.9412\n",
      "Epoch 49/50\n",
      "329/329 [==============================] - 81s 247ms/step - loss: 0.1421 - accuracy: 0.9447\n",
      "Epoch 50/50\n",
      "329/329 [==============================] - 81s 247ms/step - loss: 0.1409 - accuracy: 0.9453\n",
      "141/141 [==============================] - 6s 42ms/step - loss: 1.4172 - accuracy: 0.6007\n",
      "{'batch_size': 64, 'epochs': 50, 'loss': 1.4171788692474365, 'accuracy': 0.6006666421890259}\n",
      "Epoch 1/100\n",
      "329/329 [==============================] - 81s 247ms/step - loss: 0.6698 - accuracy: 0.5900\n",
      "Epoch 2/100\n",
      "329/329 [==============================] - 81s 247ms/step - loss: 0.6373 - accuracy: 0.6343\n",
      "Epoch 3/100\n",
      "329/329 [==============================] - 81s 247ms/step - loss: 0.6187 - accuracy: 0.6573\n",
      "Epoch 4/100\n",
      "329/329 [==============================] - 81s 247ms/step - loss: 0.6033 - accuracy: 0.6720\n",
      "Epoch 5/100\n",
      "329/329 [==============================] - 82s 248ms/step - loss: 0.5861 - accuracy: 0.6903\n",
      "Epoch 6/100\n",
      "329/329 [==============================] - 81s 247ms/step - loss: 0.5716 - accuracy: 0.7026\n",
      "Epoch 7/100\n",
      "329/329 [==============================] - 81s 247ms/step - loss: 0.5514 - accuracy: 0.7180\n",
      "Epoch 8/100\n",
      "329/329 [==============================] - 81s 247ms/step - loss: 0.5372 - accuracy: 0.7263\n",
      "Epoch 9/100\n",
      "329/329 [==============================] - 81s 247ms/step - loss: 0.5229 - accuracy: 0.7405\n",
      "Epoch 10/100\n",
      "329/329 [==============================] - 81s 247ms/step - loss: 0.5041 - accuracy: 0.7526\n",
      "Epoch 11/100\n",
      "329/329 [==============================] - 81s 247ms/step - loss: 0.4880 - accuracy: 0.7659\n",
      "Epoch 12/100\n",
      "329/329 [==============================] - 81s 247ms/step - loss: 0.4755 - accuracy: 0.7714\n",
      "Epoch 13/100\n",
      "329/329 [==============================] - 81s 247ms/step - loss: 0.4594 - accuracy: 0.7842\n",
      "Epoch 14/100\n",
      "329/329 [==============================] - 81s 247ms/step - loss: 0.4424 - accuracy: 0.7936\n",
      "Epoch 15/100\n",
      "329/329 [==============================] - 81s 247ms/step - loss: 0.4319 - accuracy: 0.8002\n",
      "Epoch 16/100\n",
      "329/329 [==============================] - 81s 247ms/step - loss: 0.4131 - accuracy: 0.8091\n",
      "Epoch 17/100\n",
      "329/329 [==============================] - 81s 247ms/step - loss: 0.4057 - accuracy: 0.8139\n",
      "Epoch 18/100\n",
      "329/329 [==============================] - 81s 247ms/step - loss: 0.3897 - accuracy: 0.8245\n",
      "Epoch 19/100\n",
      "329/329 [==============================] - 81s 247ms/step - loss: 0.3792 - accuracy: 0.8281\n",
      "Epoch 20/100\n",
      "329/329 [==============================] - 81s 247ms/step - loss: 0.3696 - accuracy: 0.8358\n",
      "Epoch 21/100\n",
      "329/329 [==============================] - 81s 247ms/step - loss: 0.3486 - accuracy: 0.8451\n",
      "Epoch 22/100\n",
      "329/329 [==============================] - 81s 247ms/step - loss: 0.3392 - accuracy: 0.8492\n",
      "Epoch 23/100\n",
      "329/329 [==============================] - 81s 247ms/step - loss: 0.3348 - accuracy: 0.8530\n",
      "Epoch 24/100\n",
      "329/329 [==============================] - 81s 247ms/step - loss: 0.3168 - accuracy: 0.8631\n",
      "Epoch 25/100\n",
      "329/329 [==============================] - 81s 247ms/step - loss: 0.3130 - accuracy: 0.8646\n",
      "Epoch 26/100\n",
      "329/329 [==============================] - 81s 247ms/step - loss: 0.2983 - accuracy: 0.8709\n",
      "Epoch 27/100\n",
      "329/329 [==============================] - 81s 247ms/step - loss: 0.2949 - accuracy: 0.8744\n",
      "Epoch 28/100\n",
      "329/329 [==============================] - 81s 247ms/step - loss: 0.2815 - accuracy: 0.8796\n",
      "Epoch 29/100\n",
      "329/329 [==============================] - 81s 247ms/step - loss: 0.2729 - accuracy: 0.8846\n",
      "Epoch 30/100\n",
      "329/329 [==============================] - 81s 247ms/step - loss: 0.2652 - accuracy: 0.8871\n",
      "Epoch 31/100\n",
      "329/329 [==============================] - 81s 247ms/step - loss: 0.2554 - accuracy: 0.8932\n",
      "Epoch 32/100\n",
      "329/329 [==============================] - 81s 247ms/step - loss: 0.2456 - accuracy: 0.8962\n",
      "Epoch 33/100\n",
      "329/329 [==============================] - 81s 247ms/step - loss: 0.2393 - accuracy: 0.8998\n",
      "Epoch 34/100\n",
      "329/329 [==============================] - 81s 247ms/step - loss: 0.2316 - accuracy: 0.9025\n",
      "Epoch 35/100\n",
      "329/329 [==============================] - 81s 247ms/step - loss: 0.2296 - accuracy: 0.9048\n",
      "Epoch 36/100\n",
      "329/329 [==============================] - 81s 247ms/step - loss: 0.2193 - accuracy: 0.9088\n",
      "Epoch 37/100\n",
      "329/329 [==============================] - 81s 247ms/step - loss: 0.2104 - accuracy: 0.9136\n",
      "Epoch 38/100\n",
      "329/329 [==============================] - 81s 247ms/step - loss: 0.2030 - accuracy: 0.9153\n",
      "Epoch 39/100\n",
      "329/329 [==============================] - 81s 247ms/step - loss: 0.2011 - accuracy: 0.9170\n",
      "Epoch 40/100\n",
      "329/329 [==============================] - 81s 247ms/step - loss: 0.1846 - accuracy: 0.9250\n",
      "Epoch 41/100\n",
      "329/329 [==============================] - 81s 247ms/step - loss: 0.1850 - accuracy: 0.9237\n",
      "Epoch 42/100\n",
      "329/329 [==============================] - 81s 247ms/step - loss: 0.1820 - accuracy: 0.9260\n",
      "Epoch 43/100\n",
      "329/329 [==============================] - 81s 247ms/step - loss: 0.1770 - accuracy: 0.9267\n",
      "Epoch 44/100\n",
      "329/329 [==============================] - 81s 247ms/step - loss: 0.1655 - accuracy: 0.9324\n",
      "Epoch 45/100\n",
      "329/329 [==============================] - 81s 247ms/step - loss: 0.1608 - accuracy: 0.9365\n",
      "Epoch 46/100\n",
      "329/329 [==============================] - 81s 247ms/step - loss: 0.1557 - accuracy: 0.9387\n",
      "Epoch 47/100\n",
      "329/329 [==============================] - 81s 247ms/step - loss: 0.1529 - accuracy: 0.9383\n",
      "Epoch 48/100\n",
      "329/329 [==============================] - 81s 247ms/step - loss: 0.1469 - accuracy: 0.9421\n",
      "Epoch 49/100\n",
      "329/329 [==============================] - 81s 247ms/step - loss: 0.1424 - accuracy: 0.9431\n",
      "Epoch 50/100\n",
      "329/329 [==============================] - 82s 248ms/step - loss: 0.1413 - accuracy: 0.9450\n",
      "Epoch 51/100\n",
      "329/329 [==============================] - 81s 247ms/step - loss: 0.1409 - accuracy: 0.9440\n",
      "Epoch 52/100\n",
      "329/329 [==============================] - 81s 247ms/step - loss: 0.1323 - accuracy: 0.9471\n",
      "Epoch 53/100\n",
      "329/329 [==============================] - 81s 247ms/step - loss: 0.1336 - accuracy: 0.9481\n",
      "Epoch 54/100\n",
      "329/329 [==============================] - 81s 247ms/step - loss: 0.1280 - accuracy: 0.9491\n",
      "Epoch 55/100\n",
      "329/329 [==============================] - 81s 247ms/step - loss: 0.1281 - accuracy: 0.9483\n",
      "Epoch 56/100\n",
      "329/329 [==============================] - 81s 247ms/step - loss: 0.1231 - accuracy: 0.9516\n",
      "Epoch 57/100\n",
      "329/329 [==============================] - 81s 247ms/step - loss: 0.1142 - accuracy: 0.9564\n",
      "Epoch 58/100\n",
      "329/329 [==============================] - 81s 247ms/step - loss: 0.1152 - accuracy: 0.9554\n",
      "Epoch 59/100\n",
      "329/329 [==============================] - 81s 247ms/step - loss: 0.1135 - accuracy: 0.9556\n",
      "Epoch 60/100\n",
      "329/329 [==============================] - 81s 247ms/step - loss: 0.1098 - accuracy: 0.9569\n",
      "Epoch 61/100\n",
      "329/329 [==============================] - 81s 247ms/step - loss: 0.1027 - accuracy: 0.9608\n",
      "Epoch 62/100\n",
      "329/329 [==============================] - 81s 247ms/step - loss: 0.1016 - accuracy: 0.9603\n",
      "Epoch 63/100\n",
      "329/329 [==============================] - 81s 247ms/step - loss: 0.1015 - accuracy: 0.9595\n",
      "Epoch 64/100\n",
      "329/329 [==============================] - 81s 247ms/step - loss: 0.0972 - accuracy: 0.9619\n",
      "Epoch 65/100\n",
      "329/329 [==============================] - 81s 247ms/step - loss: 0.0984 - accuracy: 0.9616\n",
      "Epoch 66/100\n",
      "329/329 [==============================] - 81s 247ms/step - loss: 0.0892 - accuracy: 0.9651\n",
      "Epoch 67/100\n",
      "329/329 [==============================] - 81s 247ms/step - loss: 0.0884 - accuracy: 0.9658\n",
      "Epoch 68/100\n",
      "329/329 [==============================] - 81s 247ms/step - loss: 0.0883 - accuracy: 0.9667\n",
      "Epoch 69/100\n",
      "329/329 [==============================] - 81s 247ms/step - loss: 0.0846 - accuracy: 0.9663\n",
      "Epoch 70/100\n",
      "329/329 [==============================] - 81s 247ms/step - loss: 0.0825 - accuracy: 0.9676\n",
      "Epoch 71/100\n",
      "329/329 [==============================] - 81s 247ms/step - loss: 0.0842 - accuracy: 0.9683\n",
      "Epoch 72/100\n",
      "329/329 [==============================] - 81s 247ms/step - loss: 0.0788 - accuracy: 0.9693\n",
      "Epoch 73/100\n",
      "329/329 [==============================] - 81s 247ms/step - loss: 0.0842 - accuracy: 0.9679\n",
      "Epoch 74/100\n",
      "329/329 [==============================] - 81s 247ms/step - loss: 0.0777 - accuracy: 0.9692\n",
      "Epoch 75/100\n",
      "329/329 [==============================] - 81s 247ms/step - loss: 0.0780 - accuracy: 0.9701\n",
      "Epoch 76/100\n",
      "329/329 [==============================] - 81s 247ms/step - loss: 0.0775 - accuracy: 0.9697\n",
      "Epoch 77/100\n",
      "329/329 [==============================] - 81s 247ms/step - loss: 0.0753 - accuracy: 0.9705\n",
      "Epoch 78/100\n",
      "329/329 [==============================] - 81s 247ms/step - loss: 0.0707 - accuracy: 0.9730\n",
      "Epoch 79/100\n",
      "329/329 [==============================] - 81s 247ms/step - loss: 0.0707 - accuracy: 0.9729\n",
      "Epoch 80/100\n",
      "329/329 [==============================] - 81s 247ms/step - loss: 0.0734 - accuracy: 0.9721\n",
      "Epoch 81/100\n",
      "329/329 [==============================] - 81s 247ms/step - loss: 0.0686 - accuracy: 0.9716\n",
      "Epoch 82/100\n",
      "329/329 [==============================] - 81s 248ms/step - loss: 0.0675 - accuracy: 0.9730\n",
      "Epoch 83/100\n",
      "329/329 [==============================] - 81s 247ms/step - loss: 0.0652 - accuracy: 0.9743\n",
      "Epoch 84/100\n",
      "329/329 [==============================] - 81s 247ms/step - loss: 0.0641 - accuracy: 0.9754\n",
      "Epoch 85/100\n",
      "329/329 [==============================] - 81s 247ms/step - loss: 0.0604 - accuracy: 0.9750\n",
      "Epoch 86/100\n",
      "329/329 [==============================] - 81s 247ms/step - loss: 0.0631 - accuracy: 0.9756\n",
      "Epoch 87/100\n",
      "329/329 [==============================] - 81s 248ms/step - loss: 0.0632 - accuracy: 0.9757\n",
      "Epoch 88/100\n",
      "329/329 [==============================] - 81s 247ms/step - loss: 0.0618 - accuracy: 0.9762\n",
      "Epoch 89/100\n",
      "329/329 [==============================] - 81s 247ms/step - loss: 0.0626 - accuracy: 0.9753\n",
      "Epoch 90/100\n",
      "329/329 [==============================] - 81s 247ms/step - loss: 0.0593 - accuracy: 0.9762\n",
      "Epoch 91/100\n",
      "329/329 [==============================] - 81s 247ms/step - loss: 0.0558 - accuracy: 0.9779\n",
      "Epoch 92/100\n",
      "329/329 [==============================] - 81s 247ms/step - loss: 0.0596 - accuracy: 0.9773\n",
      "Epoch 93/100\n",
      "329/329 [==============================] - 81s 247ms/step - loss: 0.0573 - accuracy: 0.9783\n",
      "Epoch 94/100\n"
     ]
    },
    {
     "name": "stdout",
     "output_type": "stream",
     "text": [
      "329/329 [==============================] - 81s 247ms/step - loss: 0.0514 - accuracy: 0.9796\n",
      "Epoch 95/100\n",
      "329/329 [==============================] - 81s 247ms/step - loss: 0.0529 - accuracy: 0.9806\n",
      "Epoch 96/100\n",
      "329/329 [==============================] - 81s 247ms/step - loss: 0.0484 - accuracy: 0.9811\n",
      "Epoch 97/100\n",
      "329/329 [==============================] - 81s 247ms/step - loss: 0.0541 - accuracy: 0.9789\n",
      "Epoch 98/100\n",
      "329/329 [==============================] - 81s 247ms/step - loss: 0.0518 - accuracy: 0.9798\n",
      "Epoch 99/100\n",
      "329/329 [==============================] - 81s 247ms/step - loss: 0.0523 - accuracy: 0.9791\n",
      "Epoch 100/100\n",
      "329/329 [==============================] - 81s 247ms/step - loss: 0.0497 - accuracy: 0.9812\n",
      "141/141 [==============================] - 6s 42ms/step - loss: 2.0028 - accuracy: 0.6007\n",
      "{'batch_size': 64, 'epochs': 100, 'loss': 2.0028185844421387, 'accuracy': 0.6006666421890259}\n"
     ]
    }
   ],
   "source": [
    "results = [{'batch_size': 1, 'epochs': 10, 'loss': 1.2027349472045898, 'accuracy': 0.570888876914978}, {'batch_size': 8, 'epochs': 10, 'loss': 0.8909910321235657, 'accuracy': 0.5973333120346069}, {'batch_size': 8, 'epochs': 50, 'loss': 2.1527915000915527, 'accuracy': 0.5951111316680908}, {'batch_size': 8, 'epochs': 100, 'loss': 2.6716349124908447, 'accuracy': 0.5737777948379517}, {'batch_size': 32, 'epochs': 10, 'loss': 0.8014382719993591, 'accuracy': 0.5855555534362793}, {'batch_size': 32, 'epochs': 50, 'loss': 1.791918396949768, 'accuracy': 0.5933333039283752}, {'batch_size': 32, 'epochs': 100, 'loss': 2.2307729721069336, 'accuracy': 0.5973333120346069}]\n",
    "batch_sizes = [64]\n",
    "epochs = [10, 50, 100]\n",
    "\n",
    "for batch_size in batch_sizes:\n",
    "    for epoch in epochs:\n",
    "\n",
    "        # Fit the model and then evaluate\n",
    "        with tf.device('gpu:0'):\n",
    "            bert_encoder_individual_test = hub.KerasLayer(\n",
    "                small_bert_url, \n",
    "                trainable=True,\n",
    "            )\n",
    "            bert_model_individual_test = clf.create_bert_model(bert_encoder_individual_test, bert_input_size_individual)\n",
    "            bert_model_individual_test.compile(Adam(lr=1e-5), 'binary_crossentropy', ['accuracy'])\n",
    "            \n",
    "            bert_model_individual_test.fit(\n",
    "                x=tweet_individual_train, \n",
    "                y=label_individual_train, \n",
    "                batch_size=batch_size, \n",
    "                epochs=epoch,\n",
    "            )\n",
    "            \n",
    "            evaluated_results = bert_model_individual_test.evaluate(tweet_individual_val, label_individual_val)\n",
    "            results.append({\n",
    "                'batch_size': batch_size, \n",
    "                'epochs': epoch, \n",
    "                'loss': evaluated_results[0], \n",
    "                'accuracy': evaluated_results[1]\n",
    "            })\n",
    "            print(results[-1])"
   ]
  },
  {
   "cell_type": "code",
   "execution_count": 21,
   "metadata": {},
   "outputs": [
    {
     "data": {
      "text/plain": [
       "{'batch_size': 64,\n",
       " 'epochs': 10,\n",
       " 'loss': 0.725799024105072,\n",
       " 'accuracy': 0.6437777876853943}"
      ]
     },
     "execution_count": 21,
     "metadata": {},
     "output_type": "execute_result"
    }
   ],
   "source": [
    "best_result = max(results, key=lambda result: result['accuracy'])\n",
    "best_result"
   ]
  },
  {
   "cell_type": "code",
   "execution_count": 15,
   "metadata": {},
   "outputs": [],
   "source": [
    "send_email(\n",
    "    f\"\"\"\n",
    "    Grid Search finished.\n",
    "    Best model: \n",
    "    > batch_size: {best_result['batch_size']}\n",
    "    > epochs: {best_result['epochs']}\n",
    "    > loss: {best_result['loss']}\n",
    "    > accuracy: {best_result['accuracy']}\n",
    "    \n",
    "    All results: {results}\n",
    "    \n",
    "    Now training model.\n",
    "    \"\"\")"
   ]
  },
  {
   "cell_type": "code",
   "execution_count": null,
   "metadata": {},
   "outputs": [],
   "source": [
    "results = [{'batch_size': 1,\n",
    "  'epochs': 10,\n",
    "  'loss': 1.2027349472045898,\n",
    "  'accuracy': 0.570888876914978},\n",
    " {'batch_size': 8,\n",
    "  'epochs': 10,\n",
    "  'loss': 0.8909910321235657,\n",
    "  'accuracy': 0.5973333120346069},\n",
    " {'batch_size': 8,\n",
    "  'epochs': 50,\n",
    "  'loss': 2.1527915000915527,\n",
    "  'accuracy': 0.5951111316680908},\n",
    " {'batch_size': 8,\n",
    "  'epochs': 100,\n",
    "  'loss': 2.6716349124908447,\n",
    "  'accuracy': 0.5737777948379517},\n",
    " {'batch_size': 32,\n",
    "  'epochs': 10,\n",
    "  'loss': 0.8014382719993591,\n",
    "  'accuracy': 0.5855555534362793},\n",
    " {'batch_size': 32,\n",
    "  'epochs': 50,\n",
    "  'loss': 1.791918396949768,\n",
    "  'accuracy': 0.5933333039283752},\n",
    " {'batch_size': 32,\n",
    "  'epochs': 100,\n",
    "  'loss': 2.2307729721069336,\n",
    "  'accuracy': 0.5973333120346069},\n",
    " {'batch_size': 64,\n",
    "  'epochs': 10,\n",
    "  'loss': 0.725799024105072,\n",
    "  'accuracy': 0.6437777876853943},\n",
    " {'batch_size': 64,\n",
    "  'epochs': 50,\n",
    "  'loss': 1.4171788692474365,\n",
    "  'accuracy': 0.6006666421890259},\n",
    " {'batch_size': 64,\n",
    "  'epochs': 100,\n",
    "  'loss': 2.0028185844421387,\n",
    "  'accuracy': 0.6006666421890259}]"
   ]
  },
  {
   "cell_type": "markdown",
   "metadata": {},
   "source": [
    "#### Fitting with optimal parameters"
   ]
  },
  {
   "cell_type": "code",
   "execution_count": 16,
   "metadata": {
    "scrolled": false
   },
   "outputs": [
    {
     "name": "stdout",
     "output_type": "stream",
     "text": [
      "Epoch 1/10\n",
      "328/329 [============================>.] - ETA: 0s - loss: 0.6594 - accuracy: 0.6004\n",
      "Epoch 00001: saving model to training/bert_training_individual_1\\cp.ckpt\n",
      "329/329 [==============================] - 88s 266ms/step - loss: 0.6594 - accuracy: 0.6003 - val_loss: 0.6572 - val_accuracy: 0.6369\n",
      "Epoch 2/10\n",
      "328/329 [============================>.] - ETA: 0s - loss: 0.6308 - accuracy: 0.6431\n",
      "Epoch 00002: saving model to training/bert_training_individual_1\\cp.ckpt\n",
      "329/329 [==============================] - 87s 265ms/step - loss: 0.6309 - accuracy: 0.6430 - val_loss: 0.6558 - val_accuracy: 0.6418\n",
      "Epoch 3/10\n",
      "328/329 [============================>.] - ETA: 0s - loss: 0.6128 - accuracy: 0.6644\n",
      "Epoch 00003: saving model to training/bert_training_individual_1\\cp.ckpt\n",
      "329/329 [==============================] - 87s 265ms/step - loss: 0.6129 - accuracy: 0.6643 - val_loss: 0.6577 - val_accuracy: 0.6456\n",
      "Epoch 4/10\n",
      "328/329 [============================>.] - ETA: 0s - loss: 0.5971 - accuracy: 0.6759\n",
      "Epoch 00004: saving model to training/bert_training_individual_1\\cp.ckpt\n",
      "329/329 [==============================] - 87s 265ms/step - loss: 0.5970 - accuracy: 0.6759 - val_loss: 0.6565 - val_accuracy: 0.6407\n",
      "Epoch 5/10\n",
      "328/329 [============================>.] - ETA: 0s - loss: 0.5816 - accuracy: 0.6888\n",
      "Epoch 00005: saving model to training/bert_training_individual_1\\cp.ckpt\n",
      "329/329 [==============================] - 87s 265ms/step - loss: 0.5816 - accuracy: 0.6889 - val_loss: 0.6641 - val_accuracy: 0.6451\n",
      "Epoch 6/10\n",
      "328/329 [============================>.] - ETA: 0s - loss: 0.5617 - accuracy: 0.7079\n",
      "Epoch 00006: saving model to training/bert_training_individual_1\\cp.ckpt\n",
      "329/329 [==============================] - 87s 265ms/step - loss: 0.5618 - accuracy: 0.7078 - val_loss: 0.6865 - val_accuracy: 0.6400\n",
      "Epoch 7/10\n",
      "328/329 [============================>.] - ETA: 0s - loss: 0.5498 - accuracy: 0.7167\n",
      "Epoch 00007: saving model to training/bert_training_individual_1\\cp.ckpt\n",
      "329/329 [==============================] - 87s 265ms/step - loss: 0.5497 - accuracy: 0.7168 - val_loss: 0.6756 - val_accuracy: 0.6453\n",
      "Epoch 8/10\n",
      "328/329 [============================>.] - ETA: 0s - loss: 0.5317 - accuracy: 0.7300\n",
      "Epoch 00008: saving model to training/bert_training_individual_1\\cp.ckpt\n",
      "329/329 [==============================] - 87s 265ms/step - loss: 0.5316 - accuracy: 0.7301 - val_loss: 0.6962 - val_accuracy: 0.6389\n",
      "Epoch 9/10\n",
      "328/329 [============================>.] - ETA: 0s - loss: 0.5164 - accuracy: 0.7421\n",
      "Epoch 00009: saving model to training/bert_training_individual_1\\cp.ckpt\n",
      "329/329 [==============================] - 87s 265ms/step - loss: 0.5164 - accuracy: 0.7420 - val_loss: 0.7110 - val_accuracy: 0.6480\n",
      "Epoch 10/10\n",
      "328/329 [============================>.] - ETA: 0s - loss: 0.4997 - accuracy: 0.7554\n",
      "Epoch 00010: saving model to training/bert_training_individual_1\\cp.ckpt\n",
      "329/329 [==============================] - 87s 265ms/step - loss: 0.4997 - accuracy: 0.7554 - val_loss: 0.7152 - val_accuracy: 0.6384\n"
     ]
    }
   ],
   "source": [
    "with tf.device('gpu:0'):\n",
    "    # Fit\n",
    "    bert_model_individual.fit(\n",
    "        x=tweet_individual_train, \n",
    "        y=label_individual_train, \n",
    "        batch_size=best_result['batch_size'], \n",
    "        epochs=best_result['epochs'], \n",
    "        callbacks=[bert_checkpoint_callback_individual],\n",
    "        validation_data=(tweet_individual_val, label_individual_val),\n",
    "    )"
   ]
  },
  {
   "cell_type": "code",
   "execution_count": 17,
   "metadata": {},
   "outputs": [
    {
     "name": "stdout",
     "output_type": "stream",
     "text": [
      "141/141 [==============================] - 6s 42ms/step - loss: 0.7464 - accuracy: 0.5804\n"
     ]
    }
   ],
   "source": [
    "eval_result = bert_model_individual.evaluate(tweet_individual_test, label_individual_test)"
   ]
  },
  {
   "cell_type": "code",
   "execution_count": 18,
   "metadata": {},
   "outputs": [],
   "source": [
    "send_email(\n",
    "    f\"\"\"\n",
    "    Individual model fit finished.\n",
    "    > loss: {eval_result[0]}\n",
    "    > accuracy: {eval_result[1]}\n",
    "    \"\"\")"
   ]
  },
  {
   "cell_type": "markdown",
   "metadata": {},
   "source": [
    "### Evaluating for each user (rather than each tweet)"
   ]
  },
  {
   "cell_type": "code",
   "execution_count": 11,
   "metadata": {},
   "outputs": [],
   "source": []
  },
  {
   "cell_type": "code",
   "execution_count": 12,
   "metadata": {},
   "outputs": [],
   "source": [
    "def is_true_positive(label, prediction):\n",
    "    return label == 1 and prediction == 1\n",
    "    \n",
    "def is_false_positive(label, prediction):\n",
    "    return label == 0 and prediction == 1\n",
    "\n",
    "def is_false_negative(label, prediction):\n",
    "    return label == 1 and prediction == 0 \n",
    "    \n",
    "def is_true_negative(label, prediction):\n",
    "    return label == 0 and prediction == 0\n",
    "\n",
    "# Evaluate the model, returning accuracy, recall, f1, etc\n",
    "# predictions should be of type [(label, [predictions])]\n",
    "def evaluate_model(predictions, labels):\n",
    "    tp = 0\n",
    "    fp = 0\n",
    "    fn = 0\n",
    "    tn = 0\n",
    "    for prediction, label in zip(predictions, labels):\n",
    "        # Take the mean of the users predictions and compare to threshold\n",
    "        if is_true_positive(label, prediction):\n",
    "            tp += 1\n",
    "        elif is_false_positive(label, prediction):\n",
    "            fp += 1\n",
    "        elif is_false_negative(label, prediction):\n",
    "            fn += 1\n",
    "        elif is_true_negative(label, prediction):\n",
    "            tn += 1\n",
    "        else:\n",
    "            print(\"Error:\", label, prediction)\n",
    "    \n",
    "    accuracy = (tp + tn) / (tp + tn + fp + fn)\n",
    "    precision = tp / (tp + fp) if (tp + fp) > 0 else float(\"NaN\")\n",
    "    recall = tp / (tp + fn) if (tp + fn) > 0 else float(\"NaN\")\n",
    "    f1 = 2 * (precision * recall) / (precision + recall) if precision > 0 and recall > 0 else float(\"NaN\")\n",
    "            \n",
    "    return {\n",
    "        'true_positives': tp,\n",
    "        'false_positives': fp,\n",
    "        'false_negatives': fn,\n",
    "        'true_negatives': tn,\n",
    "        'accuracy': accuracy,\n",
    "        'precision': precision,\n",
    "        'recall': recall,\n",
    "        'f1': f1,\n",
    "    }"
   ]
  },
  {
   "cell_type": "code",
   "execution_count": 98,
   "metadata": {},
   "outputs": [],
   "source": [
    "def create_test_model(trainable=True):\n",
    "    bert_encoder_individual_test = hub.KerasLayer(\n",
    "        small_bert_url, \n",
    "        trainable=trainable,\n",
    "    )\n",
    "    bert_model_individual_test = bclf.create_bert_model(bert_encoder_individual_test, bert_input_size_individual)\n",
    "    bert_model_individual_test.compile(Adam(lr=1e-5), 'binary_crossentropy', ['accuracy'])\n",
    "    return bert_encoder_individual_test, bert_model_individual_test"
   ]
  },
  {
   "cell_type": "code",
   "execution_count": 95,
   "metadata": {},
   "outputs": [
    {
     "name": "stdout",
     "output_type": "stream",
     "text": [
      "Epoch 1/10\n",
      "   1/2625 [..............................] - ETA: 1:10 - loss: 0.6308 - accuracy: 0.7500WARNING:tensorflow:Callbacks method `on_train_batch_end` is slow compared to the batch time (batch time: 0.0160s vs `on_train_batch_end` time: 0.0290s). Check your callbacks.\n"
     ]
    },
    {
     "name": "stderr",
     "output_type": "stream",
     "text": [
      "WARNING:tensorflow:Callbacks method `on_train_batch_end` is slow compared to the batch time (batch time: 0.0160s vs `on_train_batch_end` time: 0.0290s). Check your callbacks.\n"
     ]
    },
    {
     "name": "stdout",
     "output_type": "stream",
     "text": [
      "2625/2625 [==============================] - ETA: 0s - loss: 0.6508 - accuracy: 0.6153\n",
      "Epoch 00001: saving model to training/bert_individual/batch8-epoch10-2\\cp.ckpt\n",
      "2625/2625 [==============================] - 107s 41ms/step - loss: 0.6508 - accuracy: 0.6153\n",
      "Epoch 2/10\n",
      "2625/2625 [==============================] - ETA: 0s - loss: 0.6046 - accuracy: 0.6673\n",
      "Epoch 00002: saving model to training/bert_individual/batch8-epoch10-2\\cp.ckpt\n",
      "2625/2625 [==============================] - 108s 41ms/step - loss: 0.6046 - accuracy: 0.6673\n",
      "Epoch 3/10\n",
      "2625/2625 [==============================] - ETA: 0s - loss: 0.5679 - accuracy: 0.7029\n",
      "Epoch 00003: saving model to training/bert_individual/batch8-epoch10-2\\cp.ckpt\n",
      "2625/2625 [==============================] - 107s 41ms/step - loss: 0.5679 - accuracy: 0.7029\n",
      "Epoch 4/10\n",
      "2625/2625 [==============================] - ETA: 0s - loss: 0.5316 - accuracy: 0.7358\n",
      "Epoch 00004: saving model to training/bert_individual/batch8-epoch10-2\\cp.ckpt\n",
      "2625/2625 [==============================] - 107s 41ms/step - loss: 0.5316 - accuracy: 0.7358\n",
      "Epoch 5/10\n",
      "2625/2625 [==============================] - ETA: 0s - loss: 0.5011 - accuracy: 0.7546\n",
      "Epoch 00005: saving model to training/bert_individual/batch8-epoch10-2\\cp.ckpt\n",
      "2625/2625 [==============================] - 107s 41ms/step - loss: 0.5011 - accuracy: 0.7546\n",
      "Epoch 6/10\n",
      "2625/2625 [==============================] - ETA: 0s - loss: 0.4671 - accuracy: 0.7750\n",
      "Epoch 00006: saving model to training/bert_individual/batch8-epoch10-2\\cp.ckpt\n",
      "2625/2625 [==============================] - 107s 41ms/step - loss: 0.4671 - accuracy: 0.7750\n",
      "Epoch 7/10\n",
      "2625/2625 [==============================] - ETA: 0s - loss: 0.4400 - accuracy: 0.7923\n",
      "Epoch 00007: saving model to training/bert_individual/batch8-epoch10-2\\cp.ckpt\n",
      "2625/2625 [==============================] - 107s 41ms/step - loss: 0.4400 - accuracy: 0.7923\n",
      "Epoch 8/10\n",
      "2625/2625 [==============================] - ETA: 0s - loss: 0.4087 - accuracy: 0.8102\n",
      "Epoch 00008: saving model to training/bert_individual/batch8-epoch10-2\\cp.ckpt\n",
      "2625/2625 [==============================] - 107s 41ms/step - loss: 0.4087 - accuracy: 0.8102\n",
      "Epoch 9/10\n",
      "2625/2625 [==============================] - ETA: 0s - loss: 0.3807 - accuracy: 0.8289\n",
      "Epoch 00009: saving model to training/bert_individual/batch8-epoch10-2\\cp.ckpt\n",
      "2625/2625 [==============================] - 107s 41ms/step - loss: 0.3807 - accuracy: 0.8289\n",
      "Epoch 10/10\n",
      "2625/2625 [==============================] - ETA: 0s - loss: 0.3548 - accuracy: 0.8443\n",
      "Epoch 00010: saving model to training/bert_individual/batch8-epoch10-2\\cp.ckpt\n",
      "2625/2625 [==============================] - 107s 41ms/step - loss: 0.3548 - accuracy: 0.8443\n",
      "Epoch 1/100\n",
      "656/657 [============================>.] - ETA: 0s - loss: 0.6614 - accuracy: 0.6000\n",
      "Epoch 00001: saving model to training/bert_individual/batch32-epoch100-2\\cp.ckpt\n",
      "657/657 [==============================] - 88s 134ms/step - loss: 0.6613 - accuracy: 0.6000\n",
      "Epoch 2/100\n",
      "656/657 [============================>.] - ETA: 0s - loss: 0.6254 - accuracy: 0.6505\n",
      "Epoch 00002: saving model to training/bert_individual/batch32-epoch100-2\\cp.ckpt\n",
      "657/657 [==============================] - 88s 134ms/step - loss: 0.6254 - accuracy: 0.6505\n",
      "Epoch 3/100\n",
      "656/657 [============================>.] - ETA: 0s - loss: 0.5992 - accuracy: 0.6759\n",
      "Epoch 00003: saving model to training/bert_individual/batch32-epoch100-2\\cp.ckpt\n",
      "657/657 [==============================] - 88s 134ms/step - loss: 0.5991 - accuracy: 0.6759\n",
      "Epoch 4/100\n",
      "656/657 [============================>.] - ETA: 0s - loss: 0.5774 - accuracy: 0.6946\n",
      "Epoch 00004: saving model to training/bert_individual/batch32-epoch100-2\\cp.ckpt\n",
      "657/657 [==============================] - 88s 134ms/step - loss: 0.5775 - accuracy: 0.6945\n",
      "Epoch 5/100\n",
      "656/657 [============================>.] - ETA: 0s - loss: 0.5550 - accuracy: 0.7134\n",
      "Epoch 00005: saving model to training/bert_individual/batch32-epoch100-2\\cp.ckpt\n",
      "657/657 [==============================] - 88s 134ms/step - loss: 0.5549 - accuracy: 0.7135\n",
      "Epoch 6/100\n",
      "656/657 [============================>.] - ETA: 0s - loss: 0.5297 - accuracy: 0.7307\n",
      "Epoch 00006: saving model to training/bert_individual/batch32-epoch100-2\\cp.ckpt\n",
      "657/657 [==============================] - 88s 134ms/step - loss: 0.5297 - accuracy: 0.7307\n",
      "Epoch 7/100\n",
      "656/657 [============================>.] - ETA: 0s - loss: 0.5085 - accuracy: 0.7505\n",
      "Epoch 00007: saving model to training/bert_individual/batch32-epoch100-2\\cp.ckpt\n",
      "657/657 [==============================] - 88s 134ms/step - loss: 0.5085 - accuracy: 0.7505\n",
      "Epoch 8/100\n",
      "656/657 [============================>.] - ETA: 0s - loss: 0.4907 - accuracy: 0.7606\n",
      "Epoch 00008: saving model to training/bert_individual/batch32-epoch100-2\\cp.ckpt\n",
      "657/657 [==============================] - 88s 134ms/step - loss: 0.4907 - accuracy: 0.7607\n",
      "Epoch 9/100\n",
      "656/657 [============================>.] - ETA: 0s - loss: 0.4708 - accuracy: 0.7731\n",
      "Epoch 00009: saving model to training/bert_individual/batch32-epoch100-2\\cp.ckpt\n",
      "657/657 [==============================] - 88s 134ms/step - loss: 0.4707 - accuracy: 0.7731\n",
      "Epoch 10/100\n",
      "656/657 [============================>.] - ETA: 0s - loss: 0.4483 - accuracy: 0.7924\n",
      "Epoch 00010: saving model to training/bert_individual/batch32-epoch100-2\\cp.ckpt\n",
      "657/657 [==============================] - 88s 134ms/step - loss: 0.4483 - accuracy: 0.7924\n",
      "Epoch 11/100\n",
      "656/657 [============================>.] - ETA: 0s - loss: 0.4309 - accuracy: 0.8037\n",
      "Epoch 00011: saving model to training/bert_individual/batch32-epoch100-2\\cp.ckpt\n",
      "657/657 [==============================] - 88s 134ms/step - loss: 0.4310 - accuracy: 0.8037\n",
      "Epoch 12/100\n",
      "656/657 [============================>.] - ETA: 0s - loss: 0.4132 - accuracy: 0.8134\n",
      "Epoch 00012: saving model to training/bert_individual/batch32-epoch100-2\\cp.ckpt\n",
      "657/657 [==============================] - 87s 132ms/step - loss: 0.4132 - accuracy: 0.8133\n",
      "Epoch 13/100\n",
      "656/657 [============================>.] - ETA: 0s - loss: 0.3969 - accuracy: 0.8208\n",
      "Epoch 00013: saving model to training/bert_individual/batch32-epoch100-2\\cp.ckpt\n",
      "657/657 [==============================] - 87s 132ms/step - loss: 0.3971 - accuracy: 0.8207\n",
      "Epoch 14/100\n",
      "656/657 [============================>.] - ETA: 0s - loss: 0.3808 - accuracy: 0.8285\n",
      "Epoch 00014: saving model to training/bert_individual/batch32-epoch100-2\\cp.ckpt\n",
      "657/657 [==============================] - 87s 132ms/step - loss: 0.3808 - accuracy: 0.8284\n",
      "Epoch 15/100\n",
      "656/657 [============================>.] - ETA: 0s - loss: 0.3649 - accuracy: 0.8409\n",
      "Epoch 00015: saving model to training/bert_individual/batch32-epoch100-2\\cp.ckpt\n",
      "657/657 [==============================] - 87s 132ms/step - loss: 0.3648 - accuracy: 0.8410\n",
      "Epoch 16/100\n",
      "656/657 [============================>.] - ETA: 0s - loss: 0.3509 - accuracy: 0.8427\n",
      "Epoch 00016: saving model to training/bert_individual/batch32-epoch100-2\\cp.ckpt\n",
      "657/657 [==============================] - 87s 132ms/step - loss: 0.3510 - accuracy: 0.8427\n",
      "Epoch 17/100\n",
      "656/657 [============================>.] - ETA: 0s - loss: 0.3288 - accuracy: 0.8554\n",
      "Epoch 00017: saving model to training/bert_individual/batch32-epoch100-2\\cp.ckpt\n",
      "657/657 [==============================] - 87s 132ms/step - loss: 0.3287 - accuracy: 0.8554\n",
      "Epoch 18/100\n",
      "656/657 [============================>.] - ETA: 0s - loss: 0.3209 - accuracy: 0.8613\n",
      "Epoch 00018: saving model to training/bert_individual/batch32-epoch100-2\\cp.ckpt\n",
      "657/657 [==============================] - 87s 132ms/step - loss: 0.3209 - accuracy: 0.8613\n",
      "Epoch 19/100\n",
      "656/657 [============================>.] - ETA: 0s - loss: 0.3050 - accuracy: 0.8691\n",
      "Epoch 00019: saving model to training/bert_individual/batch32-epoch100-2\\cp.ckpt\n",
      "657/657 [==============================] - 87s 132ms/step - loss: 0.3050 - accuracy: 0.8691\n",
      "Epoch 20/100\n",
      "656/657 [============================>.] - ETA: 0s - loss: 0.2915 - accuracy: 0.8760\n",
      "Epoch 00020: saving model to training/bert_individual/batch32-epoch100-2\\cp.ckpt\n",
      "657/657 [==============================] - 87s 132ms/step - loss: 0.2917 - accuracy: 0.8759\n",
      "Epoch 21/100\n",
      "656/657 [============================>.] - ETA: 0s - loss: 0.2766 - accuracy: 0.8825\n",
      "Epoch 00021: saving model to training/bert_individual/batch32-epoch100-2\\cp.ckpt\n",
      "657/657 [==============================] - 87s 132ms/step - loss: 0.2766 - accuracy: 0.8825\n",
      "Epoch 22/100\n",
      "656/657 [============================>.] - ETA: 0s - loss: 0.2652 - accuracy: 0.8904\n",
      "Epoch 00022: saving model to training/bert_individual/batch32-epoch100-2\\cp.ckpt\n",
      "657/657 [==============================] - 87s 132ms/step - loss: 0.2651 - accuracy: 0.8904\n",
      "Epoch 23/100\n",
      "656/657 [============================>.] - ETA: 0s - loss: 0.2529 - accuracy: 0.8950\n",
      "Epoch 00023: saving model to training/bert_individual/batch32-epoch100-2\\cp.ckpt\n",
      "657/657 [==============================] - 87s 132ms/step - loss: 0.2531 - accuracy: 0.8949\n",
      "Epoch 24/100\n",
      "656/657 [============================>.] - ETA: 0s - loss: 0.2400 - accuracy: 0.9009\n",
      "Epoch 00024: saving model to training/bert_individual/batch32-epoch100-2\\cp.ckpt\n",
      "657/657 [==============================] - 87s 132ms/step - loss: 0.2400 - accuracy: 0.9009\n",
      "Epoch 25/100\n",
      "656/657 [============================>.] - ETA: 0s - loss: 0.2302 - accuracy: 0.9038\n",
      "Epoch 00025: saving model to training/bert_individual/batch32-epoch100-2\\cp.ckpt\n",
      "657/657 [==============================] - 87s 132ms/step - loss: 0.2302 - accuracy: 0.9037\n",
      "Epoch 26/100\n",
      "656/657 [============================>.] - ETA: 0s - loss: 0.2240 - accuracy: 0.9079\n",
      "Epoch 00026: saving model to training/bert_individual/batch32-epoch100-2\\cp.ckpt\n",
      "657/657 [==============================] - 87s 132ms/step - loss: 0.2239 - accuracy: 0.9079\n",
      "Epoch 27/100\n",
      "656/657 [============================>.] - ETA: 0s - loss: 0.2133 - accuracy: 0.9137\n",
      "Epoch 00027: saving model to training/bert_individual/batch32-epoch100-2\\cp.ckpt\n",
      "657/657 [==============================] - 87s 132ms/step - loss: 0.2132 - accuracy: 0.9138\n",
      "Epoch 28/100\n",
      "656/657 [============================>.] - ETA: 0s - loss: 0.1972 - accuracy: 0.9205\n",
      "Epoch 00028: saving model to training/bert_individual/batch32-epoch100-2\\cp.ckpt\n",
      "657/657 [==============================] - 87s 132ms/step - loss: 0.1972 - accuracy: 0.9205\n",
      "Epoch 29/100\n",
      "656/657 [============================>.] - ETA: 0s - loss: 0.1896 - accuracy: 0.9246\n",
      "Epoch 00029: saving model to training/bert_individual/batch32-epoch100-2\\cp.ckpt\n",
      "657/657 [==============================] - 87s 132ms/step - loss: 0.1895 - accuracy: 0.9246\n",
      "Epoch 30/100\n",
      "656/657 [============================>.] - ETA: 0s - loss: 0.1812 - accuracy: 0.9278\n",
      "Epoch 00030: saving model to training/bert_individual/batch32-epoch100-2\\cp.ckpt\n",
      "657/657 [==============================] - 87s 132ms/step - loss: 0.1812 - accuracy: 0.9277\n",
      "Epoch 31/100\n",
      "656/657 [============================>.] - ETA: 0s - loss: 0.1708 - accuracy: 0.9303\n",
      "Epoch 00031: saving model to training/bert_individual/batch32-epoch100-2\\cp.ckpt\n",
      "657/657 [==============================] - 87s 132ms/step - loss: 0.1709 - accuracy: 0.9303\n",
      "Epoch 32/100\n",
      "656/657 [============================>.] - ETA: 0s - loss: 0.1697 - accuracy: 0.9320\n",
      "Epoch 00032: saving model to training/bert_individual/batch32-epoch100-2\\cp.ckpt\n",
      "657/657 [==============================] - 87s 132ms/step - loss: 0.1698 - accuracy: 0.9319\n",
      "Epoch 33/100\n",
      "656/657 [============================>.] - ETA: 0s - loss: 0.1574 - accuracy: 0.9384\n",
      "Epoch 00033: saving model to training/bert_individual/batch32-epoch100-2\\cp.ckpt\n",
      "657/657 [==============================] - 87s 132ms/step - loss: 0.1574 - accuracy: 0.9384\n",
      "Epoch 34/100\n",
      "656/657 [============================>.] - ETA: 0s - loss: 0.1513 - accuracy: 0.9406\n",
      "Epoch 00034: saving model to training/bert_individual/batch32-epoch100-2\\cp.ckpt\n",
      "657/657 [==============================] - 87s 132ms/step - loss: 0.1513 - accuracy: 0.9406\n",
      "Epoch 35/100\n",
      "656/657 [============================>.] - ETA: 0s - loss: 0.1479 - accuracy: 0.9419\n",
      "Epoch 00035: saving model to training/bert_individual/batch32-epoch100-2\\cp.ckpt\n",
      "657/657 [==============================] - 87s 132ms/step - loss: 0.1479 - accuracy: 0.9419\n",
      "Epoch 36/100\n",
      "656/657 [============================>.] - ETA: 0s - loss: 0.1405 - accuracy: 0.9440\n",
      "Epoch 00036: saving model to training/bert_individual/batch32-epoch100-2\\cp.ckpt\n",
      "657/657 [==============================] - 87s 132ms/step - loss: 0.1405 - accuracy: 0.9440\n",
      "Epoch 37/100\n",
      "656/657 [============================>.] - ETA: 0s - loss: 0.1320 - accuracy: 0.9489\n",
      "Epoch 00037: saving model to training/bert_individual/batch32-epoch100-2\\cp.ckpt\n",
      "657/657 [==============================] - 87s 132ms/step - loss: 0.1320 - accuracy: 0.9489\n",
      "Epoch 38/100\n",
      "656/657 [============================>.] - ETA: 0s - loss: 0.1254 - accuracy: 0.9516\n",
      "Epoch 00038: saving model to training/bert_individual/batch32-epoch100-2\\cp.ckpt\n",
      "657/657 [==============================] - 87s 132ms/step - loss: 0.1255 - accuracy: 0.9516\n",
      "Epoch 39/100\n",
      "656/657 [============================>.] - ETA: 0s - loss: 0.1245 - accuracy: 0.9512\n",
      "Epoch 00039: saving model to training/bert_individual/batch32-epoch100-2\\cp.ckpt\n",
      "657/657 [==============================] - 87s 133ms/step - loss: 0.1245 - accuracy: 0.9512\n",
      "Epoch 40/100\n",
      "656/657 [============================>.] - ETA: 0s - loss: 0.1187 - accuracy: 0.9540\n",
      "Epoch 00040: saving model to training/bert_individual/batch32-epoch100-2\\cp.ckpt\n",
      "657/657 [==============================] - 87s 132ms/step - loss: 0.1187 - accuracy: 0.9540\n",
      "Epoch 41/100\n",
      "656/657 [============================>.] - ETA: 0s - loss: 0.1086 - accuracy: 0.9570\n",
      "Epoch 00041: saving model to training/bert_individual/batch32-epoch100-2\\cp.ckpt\n",
      "657/657 [==============================] - 91s 138ms/step - loss: 0.1085 - accuracy: 0.9570\n",
      "Epoch 42/100\n",
      "656/657 [============================>.] - ETA: 0s - loss: 0.1100 - accuracy: 0.9570\n",
      "Epoch 00042: saving model to training/bert_individual/batch32-epoch100-2\\cp.ckpt\n",
      "657/657 [==============================] - 87s 132ms/step - loss: 0.1100 - accuracy: 0.9570\n",
      "Epoch 43/100\n",
      "656/657 [============================>.] - ETA: 0s - loss: 0.1025 - accuracy: 0.9588\n",
      "Epoch 00043: saving model to training/bert_individual/batch32-epoch100-2\\cp.ckpt\n",
      "657/657 [==============================] - 87s 132ms/step - loss: 0.1024 - accuracy: 0.9589\n",
      "Epoch 44/100\n",
      "656/657 [============================>.] - ETA: 0s - loss: 0.1009 - accuracy: 0.9606\n",
      "Epoch 00044: saving model to training/bert_individual/batch32-epoch100-2\\cp.ckpt\n",
      "657/657 [==============================] - 87s 132ms/step - loss: 0.1009 - accuracy: 0.9606\n",
      "Epoch 45/100\n",
      "656/657 [============================>.] - ETA: 0s - loss: 0.0961 - accuracy: 0.9629\n",
      "Epoch 00045: saving model to training/bert_individual/batch32-epoch100-2\\cp.ckpt\n",
      "657/657 [==============================] - 87s 132ms/step - loss: 0.0961 - accuracy: 0.9629\n",
      "Epoch 46/100\n",
      "656/657 [============================>.] - ETA: 0s - loss: 0.0965 - accuracy: 0.9626\n",
      "Epoch 00046: saving model to training/bert_individual/batch32-epoch100-2\\cp.ckpt\n",
      "657/657 [==============================] - 87s 132ms/step - loss: 0.0965 - accuracy: 0.9626\n",
      "Epoch 47/100\n",
      "656/657 [============================>.] - ETA: 0s - loss: 0.0904 - accuracy: 0.9653\n",
      "Epoch 00047: saving model to training/bert_individual/batch32-epoch100-2\\cp.ckpt\n",
      "657/657 [==============================] - 87s 132ms/step - loss: 0.0904 - accuracy: 0.9653\n",
      "Epoch 48/100\n",
      "656/657 [============================>.] - ETA: 0s - loss: 0.0844 - accuracy: 0.9676\n",
      "Epoch 00048: saving model to training/bert_individual/batch32-epoch100-2\\cp.ckpt\n",
      "657/657 [==============================] - 87s 132ms/step - loss: 0.0844 - accuracy: 0.9676\n",
      "Epoch 49/100\n",
      "656/657 [============================>.] - ETA: 0s - loss: 0.0836 - accuracy: 0.9682\n",
      "Epoch 00049: saving model to training/bert_individual/batch32-epoch100-2\\cp.ckpt\n",
      "657/657 [==============================] - 87s 132ms/step - loss: 0.0836 - accuracy: 0.9682\n",
      "Epoch 50/100\n",
      "656/657 [============================>.] - ETA: 0s - loss: 0.0815 - accuracy: 0.9707\n",
      "Epoch 00050: saving model to training/bert_individual/batch32-epoch100-2\\cp.ckpt\n",
      "657/657 [==============================] - 87s 132ms/step - loss: 0.0816 - accuracy: 0.9706\n",
      "Epoch 51/100\n"
     ]
    },
    {
     "name": "stdout",
     "output_type": "stream",
     "text": [
      "656/657 [============================>.] - ETA: 0s - loss: 0.0753 - accuracy: 0.9708\n",
      "Epoch 00051: saving model to training/bert_individual/batch32-epoch100-2\\cp.ckpt\n",
      "657/657 [==============================] - 87s 132ms/step - loss: 0.0753 - accuracy: 0.9708\n",
      "Epoch 52/100\n",
      "656/657 [============================>.] - ETA: 0s - loss: 0.0790 - accuracy: 0.9698\n",
      "Epoch 00052: saving model to training/bert_individual/batch32-epoch100-2\\cp.ckpt\n",
      "657/657 [==============================] - 87s 132ms/step - loss: 0.0790 - accuracy: 0.9698\n",
      "Epoch 53/100\n",
      "656/657 [============================>.] - ETA: 0s - loss: 0.0745 - accuracy: 0.9726\n",
      "Epoch 00053: saving model to training/bert_individual/batch32-epoch100-2\\cp.ckpt\n",
      "657/657 [==============================] - 87s 132ms/step - loss: 0.0745 - accuracy: 0.9726\n",
      "Epoch 54/100\n",
      "656/657 [============================>.] - ETA: 0s - loss: 0.0681 - accuracy: 0.9737\n",
      "Epoch 00054: saving model to training/bert_individual/batch32-epoch100-2\\cp.ckpt\n",
      "657/657 [==============================] - 87s 132ms/step - loss: 0.0681 - accuracy: 0.9737\n",
      "Epoch 55/100\n",
      "656/657 [============================>.] - ETA: 0s - loss: 0.0699 - accuracy: 0.9730\n",
      "Epoch 00055: saving model to training/bert_individual/batch32-epoch100-2\\cp.ckpt\n",
      "657/657 [==============================] - 87s 132ms/step - loss: 0.0699 - accuracy: 0.9730\n",
      "Epoch 56/100\n",
      "656/657 [============================>.] - ETA: 0s - loss: 0.0684 - accuracy: 0.9754\n",
      "Epoch 00056: saving model to training/bert_individual/batch32-epoch100-2\\cp.ckpt\n",
      "657/657 [==============================] - 87s 132ms/step - loss: 0.0684 - accuracy: 0.9754\n",
      "Epoch 57/100\n",
      "656/657 [============================>.] - ETA: 0s - loss: 0.0651 - accuracy: 0.9764\n",
      "Epoch 00057: saving model to training/bert_individual/batch32-epoch100-2\\cp.ckpt\n",
      "657/657 [==============================] - 87s 132ms/step - loss: 0.0651 - accuracy: 0.9764\n",
      "Epoch 58/100\n",
      "656/657 [============================>.] - ETA: 0s - loss: 0.0659 - accuracy: 0.9765\n",
      "Epoch 00058: saving model to training/bert_individual/batch32-epoch100-2\\cp.ckpt\n",
      "657/657 [==============================] - 87s 132ms/step - loss: 0.0659 - accuracy: 0.9764\n",
      "Epoch 59/100\n",
      "656/657 [============================>.] - ETA: 0s - loss: 0.0642 - accuracy: 0.9752\n",
      "Epoch 00059: saving model to training/bert_individual/batch32-epoch100-2\\cp.ckpt\n",
      "657/657 [==============================] - 87s 132ms/step - loss: 0.0641 - accuracy: 0.9752\n",
      "Epoch 60/100\n",
      "656/657 [============================>.] - ETA: 0s - loss: 0.0608 - accuracy: 0.9773\n",
      "Epoch 00060: saving model to training/bert_individual/batch32-epoch100-2\\cp.ckpt\n",
      "657/657 [==============================] - 87s 132ms/step - loss: 0.0608 - accuracy: 0.9773\n",
      "Epoch 61/100\n",
      "656/657 [============================>.] - ETA: 0s - loss: 0.0574 - accuracy: 0.9780\n",
      "Epoch 00061: saving model to training/bert_individual/batch32-epoch100-2\\cp.ckpt\n",
      "657/657 [==============================] - 87s 132ms/step - loss: 0.0574 - accuracy: 0.9780\n",
      "Epoch 62/100\n",
      "656/657 [============================>.] - ETA: 0s - loss: 0.0578 - accuracy: 0.9790\n",
      "Epoch 00062: saving model to training/bert_individual/batch32-epoch100-2\\cp.ckpt\n",
      "657/657 [==============================] - 87s 132ms/step - loss: 0.0580 - accuracy: 0.9790\n",
      "Epoch 63/100\n",
      "656/657 [============================>.] - ETA: 0s - loss: 0.0542 - accuracy: 0.9801\n",
      "Epoch 00063: saving model to training/bert_individual/batch32-epoch100-2\\cp.ckpt\n",
      "657/657 [==============================] - 87s 132ms/step - loss: 0.0543 - accuracy: 0.9800\n",
      "Epoch 64/100\n",
      "656/657 [============================>.] - ETA: 0s - loss: 0.0560 - accuracy: 0.9801\n",
      "Epoch 00064: saving model to training/bert_individual/batch32-epoch100-2\\cp.ckpt\n",
      "657/657 [==============================] - 87s 132ms/step - loss: 0.0560 - accuracy: 0.9801\n",
      "Epoch 65/100\n",
      "656/657 [============================>.] - ETA: 0s - loss: 0.0532 - accuracy: 0.9796\n",
      "Epoch 00065: saving model to training/bert_individual/batch32-epoch100-2\\cp.ckpt\n",
      "657/657 [==============================] - 87s 132ms/step - loss: 0.0534 - accuracy: 0.9795\n",
      "Epoch 66/100\n",
      "656/657 [============================>.] - ETA: 0s - loss: 0.0523 - accuracy: 0.9798\n",
      "Epoch 00066: saving model to training/bert_individual/batch32-epoch100-2\\cp.ckpt\n",
      "657/657 [==============================] - 87s 132ms/step - loss: 0.0523 - accuracy: 0.9798\n",
      "Epoch 67/100\n",
      "656/657 [============================>.] - ETA: 0s - loss: 0.0518 - accuracy: 0.9804\n",
      "Epoch 00067: saving model to training/bert_individual/batch32-epoch100-2\\cp.ckpt\n",
      "657/657 [==============================] - 87s 132ms/step - loss: 0.0518 - accuracy: 0.9804\n",
      "Epoch 68/100\n",
      "656/657 [============================>.] - ETA: 0s - loss: 0.0511 - accuracy: 0.9804\n",
      "Epoch 00068: saving model to training/bert_individual/batch32-epoch100-2\\cp.ckpt\n",
      "657/657 [==============================] - 87s 132ms/step - loss: 0.0511 - accuracy: 0.9804\n",
      "Epoch 69/100\n",
      "656/657 [============================>.] - ETA: 0s - loss: 0.0470 - accuracy: 0.9824\n",
      "Epoch 00069: saving model to training/bert_individual/batch32-epoch100-2\\cp.ckpt\n",
      "657/657 [==============================] - 87s 132ms/step - loss: 0.0470 - accuracy: 0.9824\n",
      "Epoch 70/100\n",
      "656/657 [============================>.] - ETA: 0s - loss: 0.0453 - accuracy: 0.9832\n",
      "Epoch 00070: saving model to training/bert_individual/batch32-epoch100-2\\cp.ckpt\n",
      "657/657 [==============================] - 87s 132ms/step - loss: 0.0453 - accuracy: 0.9831\n",
      "Epoch 71/100\n",
      "656/657 [============================>.] - ETA: 0s - loss: 0.0449 - accuracy: 0.9832\n",
      "Epoch 00071: saving model to training/bert_individual/batch32-epoch100-2\\cp.ckpt\n",
      "657/657 [==============================] - 87s 132ms/step - loss: 0.0449 - accuracy: 0.9832\n",
      "Epoch 72/100\n",
      "656/657 [============================>.] - ETA: 0s - loss: 0.0427 - accuracy: 0.9840\n",
      "Epoch 00072: saving model to training/bert_individual/batch32-epoch100-2\\cp.ckpt\n",
      "657/657 [==============================] - 87s 132ms/step - loss: 0.0426 - accuracy: 0.9840\n",
      "Epoch 73/100\n",
      "656/657 [============================>.] - ETA: 0s - loss: 0.0450 - accuracy: 0.9840\n",
      "Epoch 00073: saving model to training/bert_individual/batch32-epoch100-2\\cp.ckpt\n",
      "657/657 [==============================] - 87s 132ms/step - loss: 0.0450 - accuracy: 0.9840\n",
      "Epoch 74/100\n",
      "656/657 [============================>.] - ETA: 0s - loss: 0.0420 - accuracy: 0.9847\n",
      "Epoch 00074: saving model to training/bert_individual/batch32-epoch100-2\\cp.ckpt\n",
      "657/657 [==============================] - 87s 132ms/step - loss: 0.0420 - accuracy: 0.9847\n",
      "Epoch 75/100\n",
      "656/657 [============================>.] - ETA: 0s - loss: 0.0425 - accuracy: 0.9846\n",
      "Epoch 00075: saving model to training/bert_individual/batch32-epoch100-2\\cp.ckpt\n",
      "657/657 [==============================] - 87s 132ms/step - loss: 0.0425 - accuracy: 0.9846\n",
      "Epoch 76/100\n",
      "656/657 [============================>.] - ETA: 0s - loss: 0.0423 - accuracy: 0.9840\n",
      "Epoch 00076: saving model to training/bert_individual/batch32-epoch100-2\\cp.ckpt\n",
      "657/657 [==============================] - 87s 132ms/step - loss: 0.0423 - accuracy: 0.9840\n",
      "Epoch 77/100\n",
      "656/657 [============================>.] - ETA: 0s - loss: 0.0385 - accuracy: 0.9856\n",
      "Epoch 00077: saving model to training/bert_individual/batch32-epoch100-2\\cp.ckpt\n",
      "657/657 [==============================] - 87s 132ms/step - loss: 0.0385 - accuracy: 0.9856\n",
      "Epoch 78/100\n",
      "656/657 [============================>.] - ETA: 0s - loss: 0.0376 - accuracy: 0.9857\n",
      "Epoch 00078: saving model to training/bert_individual/batch32-epoch100-2\\cp.ckpt\n",
      "657/657 [==============================] - 87s 132ms/step - loss: 0.0376 - accuracy: 0.9857\n",
      "Epoch 79/100\n",
      "656/657 [============================>.] - ETA: 0s - loss: 0.0410 - accuracy: 0.9848\n",
      "Epoch 00079: saving model to training/bert_individual/batch32-epoch100-2\\cp.ckpt\n",
      "657/657 [==============================] - 87s 132ms/step - loss: 0.0409 - accuracy: 0.9848\n",
      "Epoch 80/100\n",
      "656/657 [============================>.] - ETA: 0s - loss: 0.0364 - accuracy: 0.9869\n",
      "Epoch 00080: saving model to training/bert_individual/batch32-epoch100-2\\cp.ckpt\n",
      "657/657 [==============================] - 87s 132ms/step - loss: 0.0364 - accuracy: 0.9869\n",
      "Epoch 81/100\n",
      "656/657 [============================>.] - ETA: 0s - loss: 0.0344 - accuracy: 0.9862\n",
      "Epoch 00081: saving model to training/bert_individual/batch32-epoch100-2\\cp.ckpt\n",
      "657/657 [==============================] - 87s 132ms/step - loss: 0.0343 - accuracy: 0.9862\n",
      "Epoch 82/100\n",
      "656/657 [============================>.] - ETA: 0s - loss: 0.0374 - accuracy: 0.9861\n",
      "Epoch 00082: saving model to training/bert_individual/batch32-epoch100-2\\cp.ckpt\n",
      "657/657 [==============================] - 87s 132ms/step - loss: 0.0374 - accuracy: 0.9861\n",
      "Epoch 83/100\n",
      "656/657 [============================>.] - ETA: 0s - loss: 0.0368 - accuracy: 0.9868\n",
      "Epoch 00083: saving model to training/bert_individual/batch32-epoch100-2\\cp.ckpt\n",
      "657/657 [==============================] - 87s 132ms/step - loss: 0.0367 - accuracy: 0.9868\n",
      "Epoch 84/100\n",
      "656/657 [============================>.] - ETA: 0s - loss: 0.0342 - accuracy: 0.9875\n",
      "Epoch 00084: saving model to training/bert_individual/batch32-epoch100-2\\cp.ckpt\n",
      "657/657 [==============================] - 87s 132ms/step - loss: 0.0342 - accuracy: 0.9875\n",
      "Epoch 85/100\n",
      "656/657 [============================>.] - ETA: 0s - loss: 0.0324 - accuracy: 0.9885\n",
      "Epoch 00085: saving model to training/bert_individual/batch32-epoch100-2\\cp.ckpt\n",
      "657/657 [==============================] - 87s 132ms/step - loss: 0.0324 - accuracy: 0.9885\n",
      "Epoch 86/100\n",
      "656/657 [============================>.] - ETA: 0s - loss: 0.0355 - accuracy: 0.9860\n",
      "Epoch 00086: saving model to training/bert_individual/batch32-epoch100-2\\cp.ckpt\n",
      "657/657 [==============================] - 87s 132ms/step - loss: 0.0355 - accuracy: 0.9860\n",
      "Epoch 87/100\n",
      "656/657 [============================>.] - ETA: 0s - loss: 0.0347 - accuracy: 0.9867\n",
      "Epoch 00087: saving model to training/bert_individual/batch32-epoch100-2\\cp.ckpt\n",
      "657/657 [==============================] - 87s 132ms/step - loss: 0.0347 - accuracy: 0.9867\n",
      "Epoch 88/100\n",
      "656/657 [============================>.] - ETA: 0s - loss: 0.0343 - accuracy: 0.9870\n",
      "Epoch 00088: saving model to training/bert_individual/batch32-epoch100-2\\cp.ckpt\n",
      "657/657 [==============================] - 87s 132ms/step - loss: 0.0343 - accuracy: 0.9870\n",
      "Epoch 89/100\n",
      "656/657 [============================>.] - ETA: 0s - loss: 0.0323 - accuracy: 0.9878\n",
      "Epoch 00089: saving model to training/bert_individual/batch32-epoch100-2\\cp.ckpt\n",
      "657/657 [==============================] - 87s 132ms/step - loss: 0.0323 - accuracy: 0.9878\n",
      "Epoch 90/100\n",
      "656/657 [============================>.] - ETA: 0s - loss: 0.0310 - accuracy: 0.9884\n",
      "Epoch 00090: saving model to training/bert_individual/batch32-epoch100-2\\cp.ckpt\n",
      "657/657 [==============================] - 88s 133ms/step - loss: 0.0311 - accuracy: 0.9883\n",
      "Epoch 91/100\n",
      "656/657 [============================>.] - ETA: 0s - loss: 0.0323 - accuracy: 0.9889\n",
      "Epoch 00091: saving model to training/bert_individual/batch32-epoch100-2\\cp.ckpt\n",
      "657/657 [==============================] - 89s 135ms/step - loss: 0.0323 - accuracy: 0.9889\n",
      "Epoch 92/100\n",
      "656/657 [============================>.] - ETA: 0s - loss: 0.0319 - accuracy: 0.9880\n",
      "Epoch 00092: saving model to training/bert_individual/batch32-epoch100-2\\cp.ckpt\n",
      "657/657 [==============================] - 88s 135ms/step - loss: 0.0319 - accuracy: 0.9880\n",
      "Epoch 93/100\n",
      "656/657 [============================>.] - ETA: 0s - loss: 0.0310 - accuracy: 0.9880\n",
      "Epoch 00093: saving model to training/bert_individual/batch32-epoch100-2\\cp.ckpt\n",
      "657/657 [==============================] - 88s 134ms/step - loss: 0.0310 - accuracy: 0.9880\n",
      "Epoch 94/100\n",
      "656/657 [============================>.] - ETA: 0s - loss: 0.0292 - accuracy: 0.9889\n",
      "Epoch 00094: saving model to training/bert_individual/batch32-epoch100-2\\cp.ckpt\n",
      "657/657 [==============================] - 88s 134ms/step - loss: 0.0292 - accuracy: 0.9889\n",
      "Epoch 95/100\n",
      "656/657 [============================>.] - ETA: 0s - loss: 0.0329 - accuracy: 0.9877\n",
      "Epoch 00095: saving model to training/bert_individual/batch32-epoch100-2\\cp.ckpt\n",
      "657/657 [==============================] - 88s 134ms/step - loss: 0.0329 - accuracy: 0.9877\n",
      "Epoch 96/100\n",
      "656/657 [============================>.] - ETA: 0s - loss: 0.0291 - accuracy: 0.9888\n",
      "Epoch 00096: saving model to training/bert_individual/batch32-epoch100-2\\cp.ckpt\n",
      "657/657 [==============================] - 88s 134ms/step - loss: 0.0291 - accuracy: 0.9888\n",
      "Epoch 97/100\n",
      "656/657 [============================>.] - ETA: 0s - loss: 0.0285 - accuracy: 0.9898\n",
      "Epoch 00097: saving model to training/bert_individual/batch32-epoch100-2\\cp.ckpt\n",
      "657/657 [==============================] - 88s 135ms/step - loss: 0.0285 - accuracy: 0.9898\n",
      "Epoch 98/100\n",
      "656/657 [============================>.] - ETA: 0s - loss: 0.0322 - accuracy: 0.9880\n",
      "Epoch 00098: saving model to training/bert_individual/batch32-epoch100-2\\cp.ckpt\n",
      "657/657 [==============================] - 88s 134ms/step - loss: 0.0321 - accuracy: 0.9880\n",
      "Epoch 99/100\n",
      "656/657 [============================>.] - ETA: 0s - loss: 0.0308 - accuracy: 0.9885\n",
      "Epoch 00099: saving model to training/bert_individual/batch32-epoch100-2\\cp.ckpt\n",
      "657/657 [==============================] - 88s 134ms/step - loss: 0.0308 - accuracy: 0.9885\n",
      "Epoch 100/100\n",
      "656/657 [============================>.] - ETA: 0s - loss: 0.0274 - accuracy: 0.9886\n",
      "Epoch 00100: saving model to training/bert_individual/batch32-epoch100-2\\cp.ckpt\n",
      "657/657 [==============================] - 88s 134ms/step - loss: 0.0274 - accuracy: 0.9886\n",
      "Epoch 1/10\n",
      "328/329 [============================>.] - ETA: 0s - loss: 0.6753 - accuracy: 0.5743\n",
      "Epoch 00001: saving model to training/bert_individual/batch64-epoch10-2\\cp.ckpt\n",
      "329/329 [==============================] - 82s 248ms/step - loss: 0.6753 - accuracy: 0.5743\n",
      "Epoch 2/10\n",
      "328/329 [============================>.] - ETA: 0s - loss: 0.6466 - accuracy: 0.6212\n",
      "Epoch 00002: saving model to training/bert_individual/batch64-epoch10-2\\cp.ckpt\n",
      "329/329 [==============================] - 82s 249ms/step - loss: 0.6467 - accuracy: 0.6210\n",
      "Epoch 3/10\n",
      "328/329 [============================>.] - ETA: 0s - loss: 0.6282 - accuracy: 0.6424\n",
      "Epoch 00003: saving model to training/bert_individual/batch64-epoch10-2\\cp.ckpt\n",
      "329/329 [==============================] - 82s 249ms/step - loss: 0.6283 - accuracy: 0.6422\n",
      "Epoch 4/10\n",
      "328/329 [============================>.] - ETA: 0s - loss: 0.6113 - accuracy: 0.6607\n",
      "Epoch 00004: saving model to training/bert_individual/batch64-epoch10-2\\cp.ckpt\n",
      "329/329 [==============================] - 82s 249ms/step - loss: 0.6114 - accuracy: 0.6607\n",
      "Epoch 5/10\n",
      "328/329 [============================>.] - ETA: 0s - loss: 0.5930 - accuracy: 0.6788\n",
      "Epoch 00005: saving model to training/bert_individual/batch64-epoch10-2\\cp.ckpt\n",
      "329/329 [==============================] - 82s 249ms/step - loss: 0.5929 - accuracy: 0.6789\n",
      "Epoch 6/10\n",
      "328/329 [============================>.] - ETA: 0s - loss: 0.5728 - accuracy: 0.6973\n",
      "Epoch 00006: saving model to training/bert_individual/batch64-epoch10-2\\cp.ckpt\n",
      "329/329 [==============================] - 82s 249ms/step - loss: 0.5729 - accuracy: 0.6972\n",
      "Epoch 7/10\n",
      "328/329 [============================>.] - ETA: 0s - loss: 0.5570 - accuracy: 0.7108\n",
      "Epoch 00007: saving model to training/bert_individual/batch64-epoch10-2\\cp.ckpt\n",
      "329/329 [==============================] - 82s 249ms/step - loss: 0.5569 - accuracy: 0.7107\n",
      "Epoch 8/10\n",
      "328/329 [============================>.] - ETA: 0s - loss: 0.5393 - accuracy: 0.7217\n",
      "Epoch 00008: saving model to training/bert_individual/batch64-epoch10-2\\cp.ckpt\n",
      "329/329 [==============================] - 82s 249ms/step - loss: 0.5393 - accuracy: 0.7217\n",
      "Epoch 9/10\n",
      "328/329 [============================>.] - ETA: 0s - loss: 0.5250 - accuracy: 0.7341\n",
      "Epoch 00009: saving model to training/bert_individual/batch64-epoch10-2\\cp.ckpt\n",
      "329/329 [==============================] - 82s 249ms/step - loss: 0.5249 - accuracy: 0.7341\n",
      "Epoch 10/10\n",
      "328/329 [============================>.] - ETA: 0s - loss: 0.5073 - accuracy: 0.7480\n",
      "Epoch 00010: saving model to training/bert_individual/batch64-epoch10-2\\cp.ckpt\n",
      "329/329 [==============================] - 82s 249ms/step - loss: 0.5073 - accuracy: 0.7481\n"
     ]
    }
   ],
   "source": [
    "# Train and save best individual models\n",
    "pairs = [(8, 10), (32, 100), (64, 10)]\n",
    "\n",
    "for batch_size, epoch in pairs:\n",
    "    with tf.device('gpu:0'):\n",
    "        # Create checkpoint\n",
    "        checkpoint = ModelCheckpoint(\n",
    "            filepath=f\"training/bert_individual/batch{batch_size}-epoch{epoch}-2/cp.ckpt\",\n",
    "            save_weights_only=True,\n",
    "            verbose=1\n",
    "        )\n",
    "        \n",
    "        # Create model\n",
    "        bert_encoder_individual_test = hub.KerasLayer(\n",
    "            small_bert_url, \n",
    "            trainable=True,\n",
    "        )\n",
    "        bert_model_individual_test = bclf.create_bert_model(bert_encoder_individual_test, bert_input_size_individual)\n",
    "        bert_model_individual_test.compile(Adam(lr=1e-5), 'binary_crossentropy', ['accuracy'])\n",
    "\n",
    "        bert_model_individual_test.fit(\n",
    "            x=tweet_individual_train, \n",
    "            y=label_individual_train, \n",
    "            batch_size=batch_size, \n",
    "            epochs=epoch, \n",
    "            callbacks=[checkpoint],\n",
    "        )"
   ]
  },
  {
   "cell_type": "code",
   "execution_count": 154,
   "metadata": {},
   "outputs": [],
   "source": [
    "send_email(\"Finished training\")"
   ]
  },
  {
   "cell_type": "markdown",
   "metadata": {},
   "source": [
    "#### Classifying BERT predictions"
   ]
  },
  {
   "cell_type": "code",
   "execution_count": 14,
   "metadata": {},
   "outputs": [],
   "source": [
    "from sklearn.linear_model import LogisticRegression\n",
    "from sklearn.svm import SVC"
   ]
  },
  {
   "cell_type": "code",
   "execution_count": 96,
   "metadata": {},
   "outputs": [],
   "source": [
    "def train_classifier(clf, X_train, y_train, X_val, y_val, batch_size, epochs):\n",
    "    clf.fit(X_train, y_train)\n",
    "    predictions = clf.predict(X_val)\n",
    "    return {\n",
    "        'batch_size': batch_size,\n",
    "        'epochs': epochs,\n",
    "        'predictions_val': predictions,\n",
    "        'labels_val': y_val,\n",
    "    }"
   ]
  },
  {
   "cell_type": "code",
   "execution_count": 99,
   "metadata": {
    "scrolled": false
   },
   "outputs": [
    {
     "name": "stdout",
     "output_type": "stream",
     "text": [
      "Loading weights for batch_size:8, epochs: 10\n",
      "Training LR\n",
      "Training LR sorted\n",
      "Training SVM\n",
      "Training SVM sorted\n",
      "Loading weights for batch_size:32, epochs: 100\n",
      "Training LR\n",
      "Training LR sorted\n",
      "Training SVM\n",
      "Training SVM sorted\n",
      "Loading weights for batch_size:64, epochs: 10\n",
      "Training LR\n",
      "Training LR sorted\n",
      "Training SVM\n",
      "Training SVM sorted\n"
     ]
    }
   ],
   "source": [
    "pairs = [(8, 10), (32, 100), (64, 10)]\n",
    "predictions = {\n",
    "    'logistic_regression': [],\n",
    "    'logistic_regression_sorted': [],\n",
    "    'svm': [],\n",
    "    'svm_sorted': [],\n",
    "}\n",
    "\n",
    "for batch_size, epoch in pairs:\n",
    "    # Load the BERT model\n",
    "    print(f\"Loading weights for batch_size:{batch_size}, epochs: {epoch}\")\n",
    "    encoder, model = create_test_model(trainable=False)\n",
    "    model.load_weights(\n",
    "        f\"training/bert_individual/batch{batch_size}-epoch{epoch}-2/cp.ckpt\"\n",
    "    ).expect_partial()\n",
    "    \n",
    "    # Predict training and validation set data\n",
    "    X_train, y_train = calculate_user_predictions_from_individual_tweets(\n",
    "        model, \n",
    "        tweet_individual_train, \n",
    "        label_individual_train,\n",
    "    )\n",
    "    X_val, y_val = calculate_user_predictions_from_individual_tweets(\n",
    "        model, \n",
    "        tweet_individual_val, \n",
    "        label_individual_val,\n",
    "    )\n",
    "    \n",
    "    # Train Logistic Regression model\n",
    "    print(\"Training LR\")\n",
    "    predictions['logistic_regression'].append(\n",
    "        train_classifier(\n",
    "            LogisticRegression(), \n",
    "            X_train, \n",
    "            y_train, \n",
    "            X_val, \n",
    "            y_val, \n",
    "            batch_size, \n",
    "            epoch\n",
    "        )\n",
    "    )\n",
    "    \n",
    "    # Train Logistic Regression when training data sorted\n",
    "    print(\"Training LR sorted\")\n",
    "    X_train_sorted = np.sort(X_train, axis=1)\n",
    "    X_val_sorted = np.sort(X_val, axis=1)\n",
    "    predictions['logistic_regression_sorted'].append(\n",
    "        train_classifier(\n",
    "            LogisticRegression(), \n",
    "            X_train_sorted, \n",
    "            y_train, \n",
    "            X_val_sorted, \n",
    "            y_val, \n",
    "            batch_size, \n",
    "            epoch\n",
    "        )\n",
    "    )\n",
    "\n",
    "    # Train SVM model\n",
    "    print(\"Training SVM\")\n",
    "    predictions['svm'].append(\n",
    "        train_classifier(\n",
    "            SVC(probability=True), \n",
    "            X_train, \n",
    "            y_train, \n",
    "            X_val, \n",
    "            y_val, \n",
    "            batch_size, \n",
    "            epoch\n",
    "        )\n",
    "    )\n",
    "\n",
    "    # Train SVM when training data sorted\n",
    "    print(\"Training SVM sorted\")\n",
    "    predictions['svm_sorted'].append(\n",
    "        train_classifier(\n",
    "            SVC(probability=True), \n",
    "            X_train_sorted, \n",
    "            y_train, \n",
    "            X_val_sorted, \n",
    "            y_val, \n",
    "            batch_size, \n",
    "            epoch\n",
    "        )\n",
    "    )"
   ]
  },
  {
   "cell_type": "code",
   "execution_count": 47,
   "metadata": {
    "scrolled": true
   },
   "outputs": [
    {
     "data": {
      "text/plain": [
       "{'logistic_regression': [{'batch_size': 8,\n",
       "   'epochs': 10,\n",
       "   'predictions_val': array([0, 0, 1, 1, 1, 0, 1, 1, 1, 1, 0, 1, 0, 0, 1, 0, 0, 0, 0, 0, 1, 0,\n",
       "          1, 1, 0, 0, 1, 0, 1, 1, 0, 1, 0, 1, 1, 0, 1, 0, 0, 0, 1, 1, 1, 0,\n",
       "          1]),\n",
       "   'labels_val': array([0, 0, 1, 1, 1, 0, 1, 1, 1, 1, 0, 1, 0, 0, 1, 1, 0, 0, 0, 1, 0, 0,\n",
       "          1, 1, 0, 0, 1, 1, 0, 1, 1, 1, 0, 1, 0, 0, 1, 0, 0, 0, 1, 1, 1, 0,\n",
       "          1])},\n",
       "  {'batch_size': 32,\n",
       "   'epochs': 100,\n",
       "   'predictions_val': array([0, 0, 1, 1, 1, 0, 1, 1, 1, 1, 0, 1, 0, 0, 1, 1, 0, 0, 0, 1, 1, 1,\n",
       "          1, 1, 0, 0, 1, 1, 1, 1, 1, 1, 0, 0, 0, 0, 1, 0, 0, 0, 1, 1, 1, 0,\n",
       "          1]),\n",
       "   'labels_val': array([0, 0, 1, 1, 1, 0, 1, 1, 1, 1, 0, 1, 0, 0, 1, 1, 0, 0, 0, 1, 0, 0,\n",
       "          1, 1, 0, 0, 1, 1, 0, 1, 1, 1, 0, 1, 0, 0, 1, 0, 0, 0, 1, 1, 1, 0,\n",
       "          1])},\n",
       "  {'batch_size': 64,\n",
       "   'epochs': 10,\n",
       "   'predictions_val': array([0, 0, 1, 1, 1, 0, 1, 1, 0, 1, 0, 1, 0, 0, 1, 1, 1, 1, 0, 0, 0, 0,\n",
       "          1, 1, 0, 0, 1, 0, 1, 1, 0, 1, 0, 1, 1, 0, 1, 0, 0, 0, 1, 1, 1, 0,\n",
       "          1]),\n",
       "   'labels_val': array([0, 0, 1, 1, 1, 0, 1, 1, 1, 1, 0, 1, 0, 0, 1, 1, 0, 0, 0, 1, 0, 0,\n",
       "          1, 1, 0, 0, 1, 1, 0, 1, 1, 1, 0, 1, 0, 0, 1, 0, 0, 0, 1, 1, 1, 0,\n",
       "          1])}],\n",
       " 'logistic_regression_sorted': [{'batch_size': 8,\n",
       "   'epochs': 10,\n",
       "   'predictions_val': array([0, 0, 1, 1, 1, 0, 1, 1, 1, 1, 0, 1, 0, 0, 1, 1, 0, 0, 0, 0, 0, 0,\n",
       "          1, 1, 0, 0, 1, 0, 1, 1, 0, 1, 0, 1, 0, 0, 1, 0, 0, 0, 1, 1, 1, 0,\n",
       "          1]),\n",
       "   'labels_val': array([0, 0, 1, 1, 1, 0, 1, 1, 1, 1, 0, 1, 0, 0, 1, 1, 0, 0, 0, 1, 0, 0,\n",
       "          1, 1, 0, 0, 1, 1, 0, 1, 1, 1, 0, 1, 0, 0, 1, 0, 0, 0, 1, 1, 1, 0,\n",
       "          1])},\n",
       "  {'batch_size': 32,\n",
       "   'epochs': 100,\n",
       "   'predictions_val': array([0, 0, 1, 1, 1, 0, 1, 1, 1, 1, 0, 1, 0, 0, 1, 1, 0, 0, 0, 0, 0, 0,\n",
       "          1, 1, 0, 0, 1, 1, 1, 1, 0, 1, 0, 1, 0, 0, 1, 0, 0, 0, 1, 1, 1, 0,\n",
       "          1]),\n",
       "   'labels_val': array([0, 0, 1, 1, 1, 0, 1, 1, 1, 1, 0, 1, 0, 0, 1, 1, 0, 0, 0, 1, 0, 0,\n",
       "          1, 1, 0, 0, 1, 1, 0, 1, 1, 1, 0, 1, 0, 0, 1, 0, 0, 0, 1, 1, 1, 0,\n",
       "          1])},\n",
       "  {'batch_size': 64,\n",
       "   'epochs': 10,\n",
       "   'predictions_val': array([0, 0, 1, 1, 1, 0, 1, 1, 1, 1, 0, 1, 0, 0, 1, 1, 0, 1, 0, 0, 0, 1,\n",
       "          1, 1, 0, 0, 1, 0, 1, 1, 0, 1, 0, 1, 0, 0, 1, 0, 0, 0, 1, 1, 1, 0,\n",
       "          1]),\n",
       "   'labels_val': array([0, 0, 1, 1, 1, 0, 1, 1, 1, 1, 0, 1, 0, 0, 1, 1, 0, 0, 0, 1, 0, 0,\n",
       "          1, 1, 0, 0, 1, 1, 0, 1, 1, 1, 0, 1, 0, 0, 1, 0, 0, 0, 1, 1, 1, 0,\n",
       "          1])}],\n",
       " 'svm': [{'batch_size': 8,\n",
       "   'epochs': 10,\n",
       "   'predictions_val': array([0, 0, 1, 1, 1, 0, 1, 1, 1, 1, 0, 1, 0, 0, 1, 1, 0, 0, 0, 0, 0, 0,\n",
       "          1, 1, 0, 0, 1, 0, 1, 1, 0, 1, 0, 1, 1, 0, 1, 0, 0, 0, 1, 1, 1, 0,\n",
       "          1]),\n",
       "   'labels_val': array([0, 0, 1, 1, 1, 0, 1, 1, 1, 1, 0, 1, 0, 0, 1, 1, 0, 0, 0, 1, 0, 0,\n",
       "          1, 1, 0, 0, 1, 1, 0, 1, 1, 1, 0, 1, 0, 0, 1, 0, 0, 0, 1, 1, 1, 0,\n",
       "          1])},\n",
       "  {'batch_size': 32,\n",
       "   'epochs': 100,\n",
       "   'predictions_val': array([0, 0, 1, 1, 1, 0, 1, 1, 1, 1, 0, 1, 0, 0, 1, 1, 0, 0, 0, 1, 0, 1,\n",
       "          1, 1, 0, 0, 1, 1, 1, 1, 0, 1, 0, 1, 0, 0, 1, 0, 0, 0, 1, 1, 1, 0,\n",
       "          1]),\n",
       "   'labels_val': array([0, 0, 1, 1, 1, 0, 1, 1, 1, 1, 0, 1, 0, 0, 1, 1, 0, 0, 0, 1, 0, 0,\n",
       "          1, 1, 0, 0, 1, 1, 0, 1, 1, 1, 0, 1, 0, 0, 1, 0, 0, 0, 1, 1, 1, 0,\n",
       "          1])},\n",
       "  {'batch_size': 64,\n",
       "   'epochs': 10,\n",
       "   'predictions_val': array([0, 0, 1, 1, 1, 0, 0, 1, 0, 1, 0, 1, 0, 0, 1, 1, 0, 1, 0, 0, 0, 0,\n",
       "          1, 1, 0, 0, 1, 0, 1, 1, 0, 1, 0, 1, 0, 0, 1, 0, 0, 0, 1, 1, 1, 0,\n",
       "          1]),\n",
       "   'labels_val': array([0, 0, 1, 1, 1, 0, 1, 1, 1, 1, 0, 1, 0, 0, 1, 1, 0, 0, 0, 1, 0, 0,\n",
       "          1, 1, 0, 0, 1, 1, 0, 1, 1, 1, 0, 1, 0, 0, 1, 0, 0, 0, 1, 1, 1, 0,\n",
       "          1])}],\n",
       " 'svm_sorted': [{'batch_size': 8,\n",
       "   'epochs': 10,\n",
       "   'predictions_val': array([0, 0, 1, 1, 1, 0, 1, 1, 1, 1, 0, 1, 0, 0, 1, 1, 0, 0, 0, 0, 0, 0,\n",
       "          1, 1, 0, 0, 1, 0, 1, 1, 0, 1, 0, 1, 0, 0, 1, 0, 0, 0, 1, 1, 1, 0,\n",
       "          1]),\n",
       "   'labels_val': array([0, 0, 1, 1, 1, 0, 1, 1, 1, 1, 0, 1, 0, 0, 1, 1, 0, 0, 0, 1, 0, 0,\n",
       "          1, 1, 0, 0, 1, 1, 0, 1, 1, 1, 0, 1, 0, 0, 1, 0, 0, 0, 1, 1, 1, 0,\n",
       "          1])},\n",
       "  {'batch_size': 32,\n",
       "   'epochs': 100,\n",
       "   'predictions_val': array([0, 0, 1, 1, 1, 0, 1, 1, 1, 1, 0, 1, 0, 0, 1, 1, 0, 0, 0, 0, 0, 0,\n",
       "          1, 1, 0, 0, 1, 1, 1, 1, 0, 1, 0, 1, 0, 0, 1, 0, 0, 0, 1, 1, 1, 0,\n",
       "          1]),\n",
       "   'labels_val': array([0, 0, 1, 1, 1, 0, 1, 1, 1, 1, 0, 1, 0, 0, 1, 1, 0, 0, 0, 1, 0, 0,\n",
       "          1, 1, 0, 0, 1, 1, 0, 1, 1, 1, 0, 1, 0, 0, 1, 0, 0, 0, 1, 1, 1, 0,\n",
       "          1])},\n",
       "  {'batch_size': 64,\n",
       "   'epochs': 10,\n",
       "   'predictions_val': array([0, 0, 1, 1, 1, 0, 0, 1, 0, 1, 0, 1, 0, 0, 1, 1, 0, 1, 0, 0, 0, 0,\n",
       "          1, 1, 0, 0, 1, 0, 1, 1, 0, 1, 0, 1, 0, 0, 1, 0, 0, 0, 1, 1, 1, 0,\n",
       "          1]),\n",
       "   'labels_val': array([0, 0, 1, 1, 1, 0, 1, 1, 1, 1, 0, 1, 0, 0, 1, 1, 0, 0, 0, 1, 0, 0,\n",
       "          1, 1, 0, 0, 1, 1, 0, 1, 1, 1, 0, 1, 0, 0, 1, 0, 0, 0, 1, 1, 1, 0,\n",
       "          1])}]}"
      ]
     },
     "execution_count": 47,
     "metadata": {},
     "output_type": "execute_result"
    }
   ],
   "source": [
    "send_email(f\"Finished training, predictions:\\n{predictions}\")\n",
    "predictions"
   ]
  },
  {
   "cell_type": "code",
   "execution_count": 100,
   "metadata": {},
   "outputs": [],
   "source": [
    "import pandas as pd\n",
    "\n",
    "results = []\n",
    "for key, val in predictions.items():\n",
    "    for clf_info in val:\n",
    "        res = []\n",
    "        res.append(key)\n",
    "        res.append(clf_info['batch_size'])\n",
    "        res.append(clf_info['epochs'])\n",
    "        \n",
    "        eval_scores = evaluate_model(\n",
    "            clf_info['predictions_val'], \n",
    "            clf_info['labels_val']\n",
    "        )\n",
    "        res.append(eval_scores['accuracy'])\n",
    "        res.append(eval_scores['precision'])\n",
    "        res.append(eval_scores['recall'])\n",
    "        res.append(eval_scores['f1'])\n",
    "        results.append(res)\n",
    "\n",
    "df = pd.DataFrame(results, columns=['final classifier', 'batch_size', 'epochs', 'accuracy', 'precision', 'recall', 'f1'])"
   ]
  },
  {
   "cell_type": "code",
   "execution_count": 101,
   "metadata": {},
   "outputs": [
    {
     "data": {
      "text/html": [
       "<div>\n",
       "<style scoped>\n",
       "    .dataframe tbody tr th:only-of-type {\n",
       "        vertical-align: middle;\n",
       "    }\n",
       "\n",
       "    .dataframe tbody tr th {\n",
       "        vertical-align: top;\n",
       "    }\n",
       "\n",
       "    .dataframe thead th {\n",
       "        text-align: right;\n",
       "    }\n",
       "</style>\n",
       "<table border=\"1\" class=\"dataframe\">\n",
       "  <thead>\n",
       "    <tr style=\"text-align: right;\">\n",
       "      <th></th>\n",
       "      <th>final classifier</th>\n",
       "      <th>batch_size</th>\n",
       "      <th>epochs</th>\n",
       "      <th>accuracy</th>\n",
       "      <th>precision</th>\n",
       "      <th>recall</th>\n",
       "      <th>f1</th>\n",
       "    </tr>\n",
       "  </thead>\n",
       "  <tbody>\n",
       "    <tr>\n",
       "      <th>1</th>\n",
       "      <td>logistic_regression</td>\n",
       "      <td>32</td>\n",
       "      <td>100</td>\n",
       "      <td>0.777778</td>\n",
       "      <td>0.750000</td>\n",
       "      <td>0.875000</td>\n",
       "      <td>0.807692</td>\n",
       "    </tr>\n",
       "    <tr>\n",
       "      <th>9</th>\n",
       "      <td>svm_sorted</td>\n",
       "      <td>8</td>\n",
       "      <td>10</td>\n",
       "      <td>0.755556</td>\n",
       "      <td>0.782609</td>\n",
       "      <td>0.750000</td>\n",
       "      <td>0.765957</td>\n",
       "    </tr>\n",
       "    <tr>\n",
       "      <th>7</th>\n",
       "      <td>svm</td>\n",
       "      <td>32</td>\n",
       "      <td>100</td>\n",
       "      <td>0.733333</td>\n",
       "      <td>0.772727</td>\n",
       "      <td>0.708333</td>\n",
       "      <td>0.739130</td>\n",
       "    </tr>\n",
       "    <tr>\n",
       "      <th>4</th>\n",
       "      <td>logistic_regression_sorted</td>\n",
       "      <td>32</td>\n",
       "      <td>100</td>\n",
       "      <td>0.711111</td>\n",
       "      <td>0.720000</td>\n",
       "      <td>0.750000</td>\n",
       "      <td>0.734694</td>\n",
       "    </tr>\n",
       "    <tr>\n",
       "      <th>2</th>\n",
       "      <td>logistic_regression</td>\n",
       "      <td>64</td>\n",
       "      <td>10</td>\n",
       "      <td>0.711111</td>\n",
       "      <td>0.739130</td>\n",
       "      <td>0.708333</td>\n",
       "      <td>0.723404</td>\n",
       "    </tr>\n",
       "    <tr>\n",
       "      <th>10</th>\n",
       "      <td>svm_sorted</td>\n",
       "      <td>32</td>\n",
       "      <td>100</td>\n",
       "      <td>0.711111</td>\n",
       "      <td>0.739130</td>\n",
       "      <td>0.708333</td>\n",
       "      <td>0.723404</td>\n",
       "    </tr>\n",
       "    <tr>\n",
       "      <th>0</th>\n",
       "      <td>logistic_regression</td>\n",
       "      <td>8</td>\n",
       "      <td>10</td>\n",
       "      <td>0.711111</td>\n",
       "      <td>0.761905</td>\n",
       "      <td>0.666667</td>\n",
       "      <td>0.711111</td>\n",
       "    </tr>\n",
       "    <tr>\n",
       "      <th>3</th>\n",
       "      <td>logistic_regression_sorted</td>\n",
       "      <td>8</td>\n",
       "      <td>10</td>\n",
       "      <td>0.711111</td>\n",
       "      <td>0.761905</td>\n",
       "      <td>0.666667</td>\n",
       "      <td>0.711111</td>\n",
       "    </tr>\n",
       "    <tr>\n",
       "      <th>8</th>\n",
       "      <td>svm</td>\n",
       "      <td>64</td>\n",
       "      <td>10</td>\n",
       "      <td>0.711111</td>\n",
       "      <td>0.789474</td>\n",
       "      <td>0.625000</td>\n",
       "      <td>0.697674</td>\n",
       "    </tr>\n",
       "    <tr>\n",
       "      <th>5</th>\n",
       "      <td>logistic_regression_sorted</td>\n",
       "      <td>64</td>\n",
       "      <td>10</td>\n",
       "      <td>0.711111</td>\n",
       "      <td>0.823529</td>\n",
       "      <td>0.583333</td>\n",
       "      <td>0.682927</td>\n",
       "    </tr>\n",
       "    <tr>\n",
       "      <th>6</th>\n",
       "      <td>svm</td>\n",
       "      <td>8</td>\n",
       "      <td>10</td>\n",
       "      <td>0.688889</td>\n",
       "      <td>0.750000</td>\n",
       "      <td>0.625000</td>\n",
       "      <td>0.681818</td>\n",
       "    </tr>\n",
       "    <tr>\n",
       "      <th>11</th>\n",
       "      <td>svm_sorted</td>\n",
       "      <td>64</td>\n",
       "      <td>10</td>\n",
       "      <td>0.688889</td>\n",
       "      <td>0.777778</td>\n",
       "      <td>0.583333</td>\n",
       "      <td>0.666667</td>\n",
       "    </tr>\n",
       "  </tbody>\n",
       "</table>\n",
       "</div>"
      ],
      "text/plain": [
       "              final classifier  batch_size  epochs  accuracy  precision  \\\n",
       "1          logistic_regression          32     100  0.777778   0.750000   \n",
       "9                   svm_sorted           8      10  0.755556   0.782609   \n",
       "7                          svm          32     100  0.733333   0.772727   \n",
       "4   logistic_regression_sorted          32     100  0.711111   0.720000   \n",
       "2          logistic_regression          64      10  0.711111   0.739130   \n",
       "10                  svm_sorted          32     100  0.711111   0.739130   \n",
       "0          logistic_regression           8      10  0.711111   0.761905   \n",
       "3   logistic_regression_sorted           8      10  0.711111   0.761905   \n",
       "8                          svm          64      10  0.711111   0.789474   \n",
       "5   logistic_regression_sorted          64      10  0.711111   0.823529   \n",
       "6                          svm           8      10  0.688889   0.750000   \n",
       "11                  svm_sorted          64      10  0.688889   0.777778   \n",
       "\n",
       "      recall        f1  \n",
       "1   0.875000  0.807692  \n",
       "9   0.750000  0.765957  \n",
       "7   0.708333  0.739130  \n",
       "4   0.750000  0.734694  \n",
       "2   0.708333  0.723404  \n",
       "10  0.708333  0.723404  \n",
       "0   0.666667  0.711111  \n",
       "3   0.666667  0.711111  \n",
       "8   0.625000  0.697674  \n",
       "5   0.583333  0.682927  \n",
       "6   0.625000  0.681818  \n",
       "11  0.583333  0.666667  "
      ]
     },
     "execution_count": 101,
     "metadata": {},
     "output_type": "execute_result"
    }
   ],
   "source": [
    "df.sort_values(by=['accuracy', 'f1'], ascending=False)"
   ]
  },
  {
   "cell_type": "code",
   "execution_count": null,
   "metadata": {},
   "outputs": [],
   "source": [
    "send_email(\"Finished\")"
   ]
  },
  {
   "cell_type": "markdown",
   "metadata": {},
   "source": [
    "#### Predict the probability of a user being a fake news spreader"
   ]
  },
  {
   "cell_type": "code",
   "execution_count": 31,
   "metadata": {},
   "outputs": [
    {
     "name": "stdout",
     "output_type": "stream",
     "text": [
      "Loading weights for batch_size: 32, epochs: 100\n",
      "WARNING:tensorflow:Unresolved object in checkpoint: (root).optimizer.iter\n"
     ]
    },
    {
     "name": "stderr",
     "output_type": "stream",
     "text": [
      "WARNING:tensorflow:Unresolved object in checkpoint: (root).optimizer.iter\n"
     ]
    },
    {
     "name": "stdout",
     "output_type": "stream",
     "text": [
      "WARNING:tensorflow:Unresolved object in checkpoint: (root).optimizer.beta_1\n"
     ]
    },
    {
     "name": "stderr",
     "output_type": "stream",
     "text": [
      "WARNING:tensorflow:Unresolved object in checkpoint: (root).optimizer.beta_1\n"
     ]
    },
    {
     "name": "stdout",
     "output_type": "stream",
     "text": [
      "WARNING:tensorflow:Unresolved object in checkpoint: (root).optimizer.beta_2\n"
     ]
    },
    {
     "name": "stderr",
     "output_type": "stream",
     "text": [
      "WARNING:tensorflow:Unresolved object in checkpoint: (root).optimizer.beta_2\n"
     ]
    },
    {
     "name": "stdout",
     "output_type": "stream",
     "text": [
      "WARNING:tensorflow:Unresolved object in checkpoint: (root).optimizer.decay\n"
     ]
    },
    {
     "name": "stderr",
     "output_type": "stream",
     "text": [
      "WARNING:tensorflow:Unresolved object in checkpoint: (root).optimizer.decay\n"
     ]
    },
    {
     "name": "stdout",
     "output_type": "stream",
     "text": [
      "WARNING:tensorflow:Unresolved object in checkpoint: (root).optimizer.learning_rate\n"
     ]
    },
    {
     "name": "stderr",
     "output_type": "stream",
     "text": [
      "WARNING:tensorflow:Unresolved object in checkpoint: (root).optimizer.learning_rate\n"
     ]
    },
    {
     "name": "stdout",
     "output_type": "stream",
     "text": [
      "WARNING:tensorflow:A checkpoint was restored (e.g. tf.train.Checkpoint.restore or tf.keras.Model.load_weights) but not all checkpointed values were used. See above for specific issues. Use expect_partial() on the load status object, e.g. tf.train.Checkpoint.restore(...).expect_partial(), to silence these warnings, or use assert_consumed() to make the check explicit. See https://www.tensorflow.org/guide/checkpoint#loading_mechanics for details.\n"
     ]
    },
    {
     "name": "stderr",
     "output_type": "stream",
     "text": [
      "WARNING:tensorflow:A checkpoint was restored (e.g. tf.train.Checkpoint.restore or tf.keras.Model.load_weights) but not all checkpointed values were used. See above for specific issues. Use expect_partial() on the load status object, e.g. tf.train.Checkpoint.restore(...).expect_partial(), to silence these warnings, or use assert_consumed() to make the check explicit. See https://www.tensorflow.org/guide/checkpoint#loading_mechanics for details.\n"
     ]
    },
    {
     "name": "stdout",
     "output_type": "stream",
     "text": [
      "Training LR\n",
      "Training SVM\n",
      "Training LR sorted\n"
     ]
    },
    {
     "data": {
      "text/plain": [
       "LogisticRegression()"
      ]
     },
     "execution_count": 31,
     "metadata": {},
     "output_type": "execute_result"
    }
   ],
   "source": [
    "# Load the BERT model\n",
    "print(f\"Loading weights for batch_size: 32, epochs: 100\")\n",
    "encoder, model = create_test_model()\n",
    "model.load_weights(\n",
    "    f\"training/bert_individual/batch32-epoch100/cp.ckpt\"\n",
    ").expect_partial()\n",
    "\n",
    "# Predict training and validation set data\n",
    "X_train, y_train = calculate_user_predictions_from_individual_tweets(\n",
    "    model, \n",
    "    tweet_individual_train, \n",
    "    label_individual_train,\n",
    ")\n",
    "X_val, y_val = calculate_user_predictions_from_individual_tweets(\n",
    "    model, \n",
    "    tweet_individual_val, \n",
    "    label_individual_val,\n",
    ")\n",
    "\n",
    "# Train Logistic Regression model\n",
    "print(\"Training LR\")\n",
    "log_reg_clf = LogisticRegression()\n",
    "log_reg_clf.fit(X_train, y_train)\n",
    "\n",
    "# Train SVM\n",
    "print(\"Training SVM\")\n",
    "svm_clf = SVC(probability=True)\n",
    "svm_clf.fit(X_train, y_train)\n",
    "\n",
    "# Train Logistic Regression when training data sorted\n",
    "print(\"Training LR sorted\")\n",
    "X_train_sorted = np.sort(X_train, axis=1)\n",
    "X_val_sorted = np.sort(X_val, axis=1)\n",
    "log_reg_sorted_clf = LogisticRegression()\n",
    "log_reg_sorted_clf.fit(X_train_sorted, y_train)"
   ]
  },
  {
   "cell_type": "code",
   "execution_count": 32,
   "metadata": {},
   "outputs": [
    {
     "name": "stdout",
     "output_type": "stream",
     "text": [
      "LR User 1 predict probability: [[0.52118894 0.47881106]]\n",
      "LR User 1 prediction: [0]\n",
      "LR sorted User 1 predict probability: [[0.74938058 0.25061942]]\n",
      "LR sorted User 1 prediction: [0]\n",
      "SVM User 1 predict probability: [[0.792287 0.207713]]\n",
      "SVM User 1 prediction: [0]\n",
      "User 1 label: 0\n"
     ]
    }
   ],
   "source": [
    "print(\"LR User 1 predict probability:\", \n",
    "      log_reg_clf.predict_proba([X_val[0]]))\n",
    "print(\"LR User 1 prediction:\", log_reg_clf.predict([X_val[0]]))\n",
    "print(\"LR sorted User 1 predict probability:\", \n",
    "      log_reg_sorted_clf.predict_proba([X_val_sorted[0]]))\n",
    "print(\"LR sorted User 1 prediction:\", log_reg_sorted_clf.predict([X_val_sorted[0]]))\n",
    "print(\"SVM User 1 predict probability:\", \n",
    "\n",
    "      svm_clf.predict_proba([X_val[0]]))\n",
    "print(\"SVM User 1 prediction:\", svm_clf.predict([X_val[0]]))\n",
    "print(\"User 1 label:\", y_val[0])"
   ]
  },
  {
   "cell_type": "markdown",
   "metadata": {},
   "source": [
    "### Training BERT individual + Logistic Regression sorted\n",
    "BERT Model:\n",
    "* BERT L-12, Input 128\n",
    "* Individual tweets\n",
    "* batch_size 32, epochs 100\n",
    "\n",
    "Logistic Regression Model:\n",
    "* Predict training set using BERT and sort each datapoint - this will be the LR training data\n",
    "* Logistic Regression"
   ]
  },
  {
   "cell_type": "code",
   "execution_count": 84,
   "metadata": {},
   "outputs": [
    {
     "data": {
      "text/plain": [
       "<tensorflow.python.training.tracking.util.CheckpointLoadStatus at 0x1398e39eac8>"
      ]
     },
     "execution_count": 84,
     "metadata": {},
     "output_type": "execute_result"
    }
   ],
   "source": [
    "# Load the above BERT model\n",
    "# bert_individual_model = bclf.create_bert_model(\n",
    "#     bert_individual_encoder, \n",
    "#     bert_individual_size,\n",
    "# )\n",
    "# bert_individual_model.load_weights(\n",
    "#     f\"training/bert_individual/batch32-epoch100/cp.ckpt\"\n",
    "# ).expect_partial()"
   ]
  },
  {
   "cell_type": "code",
   "execution_count": 90,
   "metadata": {},
   "outputs": [
    {
     "data": {
      "text/plain": [
       "['training/bert_individual/best-batch_size32-epochs-100-2/logistic_regressor.joblib']"
      ]
     },
     "execution_count": 90,
     "metadata": {},
     "output_type": "execute_result"
    }
   ],
   "source": [
    "from joblib import dump, load\n",
    "\n",
    "# Train Logistic Regression classifier\n",
    "X_train, y_train = calculate_user_predictions_from_individual_tweets(\n",
    "    bert_individual_model, \n",
    "    tweet_individual_train, \n",
    "    label_individual_train,\n",
    ")\n",
    "X_train_sorted = np.sort(X_train, axis=1)\n",
    "\n",
    "clf = LogisticRegression()\n",
    "clf.fit(X_train_sorted, y_train)\n",
    "dump(clf, model_path + \"logistic_regressor.joblib\") "
   ]
  },
  {
   "cell_type": "code",
   "execution_count": 92,
   "metadata": {},
   "outputs": [
    {
     "name": "stdout",
     "output_type": "stream",
     "text": [
      "Validation eval:\n",
      "{'true_positives': 19, 'false_positives': 8, 'false_negatives': 5, 'true_negatives': 13, 'accuracy': 0.7111111111111111, 'precision': 0.7037037037037037, 'recall': 0.7916666666666666, 'f1': 0.7450980392156864}\n",
      "Test eval:\n",
      "{'true_positives': 14, 'false_positives': 12, 'false_negatives': 4, 'true_negatives': 15, 'accuracy': 0.6444444444444445, 'precision': 0.5384615384615384, 'recall': 0.7777777777777778, 'f1': 0.6363636363636364}\n"
     ]
    }
   ],
   "source": [
    "# Evaluate the model\n",
    "X_val, y_val = calculate_user_predictions_from_individual_tweets(\n",
    "    bert_individual_model, \n",
    "    tweet_individual_val, \n",
    "    label_individual_val,\n",
    ")\n",
    "X_val_sorted = np.sort(X_val, axis=1)\n",
    "\n",
    "X_test, y_test = calculate_user_predictions_from_individual_tweets(\n",
    "    bert_individual_model, \n",
    "    tweet_individual_test, \n",
    "    label_individual_test,\n",
    ")\n",
    "X_test_sorted = np.sort(X_test, axis=1)\n",
    "\n",
    "pred_val = clf.predict(X_val_sorted)\n",
    "pred_test = clf.predict(X_test_sorted)\n",
    "\n",
    "result = f\"Validation eval:\\n{evaluate_model(pred_val, y_val)}\\nTest eval:\\n{evaluate_model(pred_test, y_test)}\"\n",
    "send_email(result)\n",
    "print(result)"
   ]
  },
  {
   "cell_type": "markdown",
   "metadata": {},
   "source": [
    "## BERT Tweet Feed Model"
   ]
  },
  {
   "cell_type": "code",
   "execution_count": 11,
   "metadata": {},
   "outputs": [],
   "source": [
    "medium_bert_url = \"https://tfhub.dev/tensorflow/small_bert/bert_en_uncased_L-12_H-512_A-8/1\"\n",
    "bert_encoder_feed = hub.KerasLayer(\n",
    "    medium_bert_url, \n",
    "    trainable=True,\n",
    ")\n",
    "\n",
    "bert_input_size_feed = 512"
   ]
  },
  {
   "cell_type": "markdown",
   "metadata": {},
   "source": [
    "### Training"
   ]
  },
  {
   "cell_type": "code",
   "execution_count": 12,
   "metadata": {},
   "outputs": [],
   "source": [
    "feed_tokenizer = bclf.BertTweetFeedTokenizer(bert_encoder_feed, bert_input_size_feed)\n",
    "\n",
    "tweet_feed_train = feed_tokenizer.tokenize_input(tweet_train)\n",
    "label_feed_train = feed_tokenizer.tokenize_labels(label_train)\n",
    "tweet_feed_val = feed_tokenizer.tokenize_input(tweet_val)\n",
    "label_feed_val = feed_tokenizer.tokenize_labels(label_val)\n",
    "tweet_feed_test = feed_tokenizer.tokenize_input(tweet_test)\n",
    "label_feed_test = feed_tokenizer.tokenize_labels(label_test)"
   ]
  },
  {
   "cell_type": "code",
   "execution_count": 1,
   "metadata": {},
   "outputs": [],
   "source": [
    "def bert_loss_testing(model_path, bert_size, bert_encoder_url, X_train, y_train, X_val, y_val):\n",
    "    setup = [(b, e, lr) \n",
    "             for b in [16] \n",
    "             for e in [10] \n",
    "             for lr in [5e-5, 3e-5, 2e-5, 1e-5]]\n",
    "\n",
    "    for batch_size, epochs, learning_rate in setup:\n",
    "        # TensorBoard callback for logging loss\n",
    "        model_name = f\"batch_size{batch_size}-epochs{epochs}-lr{learning_rate}\"\n",
    "        log_dir = model_path + \"logs/\" + model_name\n",
    "        tensorboard_callback = tf.keras.callbacks.TensorBoard(log_dir=log_dir)\n",
    "\n",
    "        # Checkpoint to save model\n",
    "        checkpoint_path = model_path + model_name + \"/cp.ckpt\"\n",
    "        checkpoint_callback = ModelCheckpoint(\n",
    "            filepath=checkpoint_path,\n",
    "            save_weights_only=True,\n",
    "            verbose=1,\n",
    "        )\n",
    "\n",
    "        # BERT model\n",
    "        bert_encoder = hub.KerasLayer(\n",
    "            bert_encoder_url, \n",
    "            trainable=True,\n",
    "        )\n",
    "        bert_model = bclf.create_bert_model(\n",
    "            bert_encoder, \n",
    "            bert_size,\n",
    "        )\n",
    "        bert_model.compile(\n",
    "            Adam(learning_rate=learning_rate), \n",
    "            'binary_crossentropy', \n",
    "            ['accuracy'],\n",
    "        )\n",
    "\n",
    "        # Train BERT\n",
    "        bert_model.fit(\n",
    "            x=X_train,\n",
    "            y=y_train,\n",
    "            batch_size=batch_size,\n",
    "            epochs=epochs,\n",
    "            callbacks=[checkpoint_callback, tensorboard_callback],\n",
    "            validation_data=(X_val, y_val),\n",
    "        )"
   ]
  },
  {
   "cell_type": "code",
   "execution_count": 2,
   "metadata": {},
   "outputs": [
    {
     "ename": "NameError",
     "evalue": "name 'tf' is not defined",
     "output_type": "error",
     "traceback": [
      "\u001b[1;31m---------------------------------------------------------------------------\u001b[0m",
      "\u001b[1;31mNameError\u001b[0m                                 Traceback (most recent call last)",
      "\u001b[1;32m<ipython-input-2-495ff7b89c6b>\u001b[0m in \u001b[0;36m<module>\u001b[1;34m\u001b[0m\n\u001b[1;32m----> 1\u001b[1;33m \u001b[1;32mwith\u001b[0m \u001b[0mtf\u001b[0m\u001b[1;33m.\u001b[0m\u001b[0mdevice\u001b[0m\u001b[1;33m(\u001b[0m\u001b[1;34m\"/cpu:0\"\u001b[0m\u001b[1;33m)\u001b[0m\u001b[1;33m:\u001b[0m\u001b[1;33m\u001b[0m\u001b[1;33m\u001b[0m\u001b[0m\n\u001b[0m\u001b[0;32m      2\u001b[0m     bert_loss_testing(\n\u001b[0;32m      3\u001b[0m         \u001b[1;34m\"training/bert_feed/loss-testing/\"\u001b[0m\u001b[1;33m,\u001b[0m\u001b[1;33m\u001b[0m\u001b[1;33m\u001b[0m\u001b[0m\n\u001b[0;32m      4\u001b[0m         \u001b[0mbert_input_size_feed\u001b[0m\u001b[1;33m,\u001b[0m\u001b[1;33m\u001b[0m\u001b[1;33m\u001b[0m\u001b[0m\n\u001b[0;32m      5\u001b[0m         \u001b[0mmedium_bert_url\u001b[0m\u001b[1;33m,\u001b[0m\u001b[1;33m\u001b[0m\u001b[1;33m\u001b[0m\u001b[0m\n",
      "\u001b[1;31mNameError\u001b[0m: name 'tf' is not defined"
     ]
    }
   ],
   "source": [
    "with tf.device(\"/cpu:0\"):\n",
    "    bert_loss_testing(\n",
    "        \"training/bert_feed/loss-testing/\", \n",
    "        bert_input_size_feed,    \n",
    "        medium_bert_url, \n",
    "        tweet_feed_train, \n",
    "        label_feed_train, \n",
    "        tweet_feed_val, \n",
    "        label_feed_val,\n",
    "    )"
   ]
  },
  {
   "cell_type": "code",
   "execution_count": null,
   "metadata": {},
   "outputs": [],
   "source": []
  },
  {
   "cell_type": "code",
   "execution_count": null,
   "metadata": {},
   "outputs": [],
   "source": []
  },
  {
   "cell_type": "code",
   "execution_count": null,
   "metadata": {},
   "outputs": [],
   "source": []
  }
 ],
 "metadata": {
  "kernelspec": {
   "display_name": "Python 3",
   "language": "python",
   "name": "python3"
  },
  "language_info": {
   "codemirror_mode": {
    "name": "ipython",
    "version": 3
   },
   "file_extension": ".py",
   "mimetype": "text/x-python",
   "name": "python",
   "nbconvert_exporter": "python",
   "pygments_lexer": "ipython3",
   "version": "3.7.8"
  }
 },
 "nbformat": 4,
 "nbformat_minor": 4
}
