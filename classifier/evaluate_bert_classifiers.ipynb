{
 "cells": [
  {
   "cell_type": "code",
   "execution_count": 1,
   "metadata": {},
   "outputs": [],
   "source": [
    "import sys\n",
    "\n",
    "preprocessing_path = 'C:\\\\Users\\\\joshh\\\\Desktop\\\\Uni\\\\Soton Year 3\\\\COMP3200\\\\fake-news-profiling\\\\classifier\\\\preprocessing'\n",
    "if preprocessing_path not in sys.path:\n",
    "    sys.path.insert(1, preprocessing_path)\n",
    "\n",
    "notif_path = 'C:\\\\Users\\\\joshh\\\\Desktop\\\\Uni\\\\Soton Year 3\\\\COMP3200\\\\fake-news-profiling\\\\classifier\\\\notifications'\n",
    "if notif_path not in sys.path:\n",
    "    sys.path.insert(1, notif_path)"
   ]
  },
  {
   "cell_type": "code",
   "execution_count": 25,
   "metadata": {},
   "outputs": [],
   "source": [
    "import matplotlib.pyplot as plt\n",
    "import numpy as np\n",
    "import pandas as pd\n",
    "\n",
    "import tensorflow as tf\n",
    "from tensorflow_hub import KerasLayer\n",
    "from tensorflow.keras.layers import Dense, Input\n",
    "from tensorflow.keras.models import Model\n",
    "from tensorflow.keras.callbacks import ModelCheckpoint\n",
    "from tensorflow.keras.optimizers import Adam\n",
    "from official.nlp import optimization\n",
    "\n",
    "import ipynb.fs.full.parse_datasets as datasets\n",
    "import ipynb.fs.full.preprocessing as processing\n",
    "import ipynb.fs.full.bert_fake_news_classifier as bclf\n",
    "from ipynb.fs.full.notif_email import send_email"
   ]
  },
  {
   "cell_type": "markdown",
   "metadata": {},
   "source": [
    "# Load Dataset"
   ]
  },
  {
   "cell_type": "code",
   "execution_count": 19,
   "metadata": {},
   "outputs": [],
   "source": [
    "# Load the saved dataset split\n",
    "def load_data():\n",
    "    return np.load(\"datasets/en_split_data.npy\", allow_pickle=True)\n",
    "\n",
    "(tweet_train, label_train, \n",
    " tweet_val, label_val, \n",
    " tweet_test, label_test) = load_data()"
   ]
  },
  {
   "cell_type": "markdown",
   "metadata": {},
   "source": [
    "# Load BERT"
   ]
  },
  {
   "cell_type": "code",
   "execution_count": 39,
   "metadata": {},
   "outputs": [],
   "source": [
    "# Preprocess dataset\n",
    "tweet_preprocessor = processing.BertTweetFeedDataPreprocessor(\n",
    "    transformers = [\n",
    "        processing.tag_indicators,\n",
    "        processing.replace_xml_and_html,\n",
    "        processing.replace_emojis,\n",
    "        processing.remove_punctuation,\n",
    "        processing.replace_tags,\n",
    "        processing.remove_hashtag_chars,\n",
    "        processing.replace_accented_chars,\n",
    "        processing.tag_numbers,\n",
    "        processing.remove_stopwords,\n",
    "        processing.remove_extra_spacing,\n",
    "    ])\n",
    "tweet_train_processed = tweet_preprocessor.transform(tweet_train)\n",
    "tweet_val_processed = tweet_preprocessor.transform(tweet_val)"
   ]
  },
  {
   "cell_type": "code",
   "execution_count": 62,
   "metadata": {},
   "outputs": [],
   "source": [
    "bert_encoder_url = \"https://tfhub.dev/tensorflow/small_bert/bert_en_uncased_L-12_H-128_A-2/1\"\n",
    "bert_hidden_layer_size = 128\n",
    "\n",
    "bert_encoder = KerasLayer(bert_encoder_url, trainable=False)\n",
    "tokenizer = bclf.BertTweetFeedTokenizer(bert_encoder, bert_hidden_layer_size)\n",
    "bert_model = tf.keras.models.Model(*bclf.base_bert_model(bert_encoder, bert_hidden_layer_size))\n",
    "bert_model.load_weights(\n",
    "    \"training/bert_feed/initial_eval/bert128-batch_size32-epochs10-lr5e-05-optimizeradamw/cp.ckpt\")"
   ]
  },
  {
   "cell_type": "code",
   "execution_count": 44,
   "metadata": {},
   "outputs": [],
   "source": [
    "# BERT tokenized input\n",
    "X_train = tokenizer.tokenize_input(tweet_train_processed)\n",
    "y_train = tokenizer.tokenize_labels(label_train)\n",
    "X_validation = tokenizer.tokenize_input(tweet_val_processed)\n",
    "y_validation = tokenizer.tokenize_labels(label_val)"
   ]
  },
  {
   "cell_type": "code",
   "execution_count": 74,
   "metadata": {},
   "outputs": [],
   "source": [
    "# BERT predictions\n",
    "with tf.device(\"/cpu:0\"):\n",
    "    X_train_bert_out = bert_model.predict(X_train)[\"pooled_output\"]\n",
    "    X_val_bert_out = bert_model.predict(X_val)[\"pooled_output\"]"
   ]
  },
  {
   "cell_type": "markdown",
   "metadata": {},
   "source": [
    "## FFNN"
   ]
  },
  {
   "cell_type": "code",
   "execution_count": 90,
   "metadata": {},
   "outputs": [
    {
     "ename": "TypeError",
     "evalue": "train_step() missing 1 required positional argument: 'data'",
     "output_type": "error",
     "traceback": [
      "\u001b[1;31m---------------------------------------------------------------------------\u001b[0m",
      "\u001b[1;31mTypeError\u001b[0m                                 Traceback (most recent call last)",
      "\u001b[1;32m<ipython-input-90-f93bb8e287a0>\u001b[0m in \u001b[0;36m<module>\u001b[1;34m\u001b[0m\n\u001b[1;32m----> 1\u001b[1;33m \u001b[0mffnn\u001b[0m\u001b[1;33m.\u001b[0m\u001b[0mtrain_step\u001b[0m\u001b[1;33m(\u001b[0m\u001b[1;33m)\u001b[0m\u001b[1;33m\u001b[0m\u001b[1;33m\u001b[0m\u001b[0m\n\u001b[0m",
      "\u001b[1;31mTypeError\u001b[0m: train_step() missing 1 required positional argument: 'data'"
     ]
    }
   ],
   "source": [
    "ffnn.train_step()"
   ]
  },
  {
   "cell_type": "code",
   "execution_count": 76,
   "metadata": {},
   "outputs": [],
   "source": [
    "# (128,) -> (256,) -> (128,) -> (64,) -> (1,)\n",
    "ffnn = tf.keras.models.Sequential([\n",
    "    Input(shape=(bert_hidden_layer_size,), dtype=tf.float32),\n",
    "    Dense(bert_hidden_layer_size*2, activation=\"relu\"),\n",
    "    Dense(bert_hidden_layer_size, activation=\"relu\"),\n",
    "    Dense(bert_hidden_layer_size//2, activation=\"relu\"),\n",
    "    Dense(1, activation=\"sigmoid\"),\n",
    "])\n",
    "\n",
    "# Optimizer\n",
    "total_training_steps = epochs * len(X_train_bert_out) / batch_size\n",
    "warmup_steps = int(0.1 * total_training_steps)\n",
    "optimizer = optimization.create_optimizer(\n",
    "    init_lr=lr,\n",
    "    num_train_steps=total_training_steps,\n",
    "    num_warmup_steps=warmup_steps,\n",
    "    optimizer_type='adamw'\n",
    ")\n",
    "\n",
    "ffnn.compile(\n",
    "    optimizer=tf.keras.optimizers.Adam(5e-5), \n",
    "    loss=tf.keras.losses.BinaryCrossentropy(from_logits=True), \n",
    "    metrics=tf.metrics.BinaryAccuracy(), \n",
    ")"
   ]
  },
  {
   "cell_type": "code",
   "execution_count": 86,
   "metadata": {},
   "outputs": [
    {
     "name": "stdout",
     "output_type": "stream",
     "text": [
      "Epoch 1/100\n",
      "  1/188 [..............................] - ETA: 0s - loss: 0.7260 - binary_accuracy: 0.5938WARNING:tensorflow:Callbacks method `on_train_batch_end` is slow compared to the batch time (batch time: 0.0020s vs `on_train_batch_end` time: 0.0305s). Check your callbacks.\n"
     ]
    },
    {
     "name": "stderr",
     "output_type": "stream",
     "text": [
      "WARNING:tensorflow:Callbacks method `on_train_batch_end` is slow compared to the batch time (batch time: 0.0020s vs `on_train_batch_end` time: 0.0305s). Check your callbacks.\n"
     ]
    },
    {
     "name": "stdout",
     "output_type": "stream",
     "text": [
      "188/188 [==============================] - 0s 2ms/step - loss: 0.6174 - binary_accuracy: 0.7544 - val_loss: 0.6169 - val_binary_accuracy: 0.7452\n",
      "Epoch 2/100\n",
      "188/188 [==============================] - 0s 2ms/step - loss: 0.6165 - binary_accuracy: 0.7601 - val_loss: 0.6181 - val_binary_accuracy: 0.7371\n",
      "Epoch 3/100\n",
      "188/188 [==============================] - 0s 2ms/step - loss: 0.6155 - binary_accuracy: 0.7599 - val_loss: 0.6174 - val_binary_accuracy: 0.7466\n",
      "Epoch 4/100\n",
      "188/188 [==============================] - 0s 2ms/step - loss: 0.6147 - binary_accuracy: 0.7645 - val_loss: 0.6188 - val_binary_accuracy: 0.7302\n",
      "Epoch 5/100\n",
      "188/188 [==============================] - 0s 2ms/step - loss: 0.6144 - binary_accuracy: 0.7679 - val_loss: 0.6189 - val_binary_accuracy: 0.7411\n",
      "Epoch 6/100\n",
      "188/188 [==============================] - 0s 2ms/step - loss: 0.6136 - binary_accuracy: 0.7689 - val_loss: 0.6190 - val_binary_accuracy: 0.7398\n",
      "Epoch 7/100\n",
      "188/188 [==============================] - 0s 2ms/step - loss: 0.6129 - binary_accuracy: 0.7714 - val_loss: 0.6189 - val_binary_accuracy: 0.7439\n",
      "Epoch 8/100\n",
      "188/188 [==============================] - 0s 2ms/step - loss: 0.6123 - binary_accuracy: 0.7727 - val_loss: 0.6190 - val_binary_accuracy: 0.7398\n",
      "Epoch 9/100\n",
      "188/188 [==============================] - 0s 2ms/step - loss: 0.6116 - binary_accuracy: 0.7749 - val_loss: 0.6193 - val_binary_accuracy: 0.7439\n",
      "Epoch 10/100\n",
      "188/188 [==============================] - 0s 2ms/step - loss: 0.6109 - binary_accuracy: 0.7772 - val_loss: 0.6200 - val_binary_accuracy: 0.7302\n",
      "Epoch 11/100\n",
      "188/188 [==============================] - 0s 2ms/step - loss: 0.6106 - binary_accuracy: 0.7772 - val_loss: 0.6197 - val_binary_accuracy: 0.7357\n",
      "Epoch 12/100\n",
      "188/188 [==============================] - 0s 2ms/step - loss: 0.6099 - binary_accuracy: 0.7779 - val_loss: 0.6186 - val_binary_accuracy: 0.7507\n",
      "Epoch 13/100\n",
      "188/188 [==============================] - 0s 2ms/step - loss: 0.6096 - binary_accuracy: 0.7793 - val_loss: 0.6204 - val_binary_accuracy: 0.7289\n",
      "Epoch 14/100\n",
      "188/188 [==============================] - 0s 2ms/step - loss: 0.6087 - binary_accuracy: 0.7823 - val_loss: 0.6190 - val_binary_accuracy: 0.7493\n",
      "Epoch 15/100\n",
      "188/188 [==============================] - 0s 2ms/step - loss: 0.6082 - binary_accuracy: 0.7838 - val_loss: 0.6208 - val_binary_accuracy: 0.7180\n",
      "Epoch 16/100\n",
      "188/188 [==============================] - 0s 2ms/step - loss: 0.6076 - binary_accuracy: 0.7825 - val_loss: 0.6203 - val_binary_accuracy: 0.7302\n",
      "Epoch 17/100\n",
      "188/188 [==============================] - 0s 2ms/step - loss: 0.6070 - binary_accuracy: 0.7880 - val_loss: 0.6213 - val_binary_accuracy: 0.7302\n",
      "Epoch 18/100\n",
      "188/188 [==============================] - 0s 2ms/step - loss: 0.6063 - binary_accuracy: 0.7903 - val_loss: 0.6214 - val_binary_accuracy: 0.7207\n",
      "Epoch 19/100\n",
      "188/188 [==============================] - 0s 2ms/step - loss: 0.6056 - binary_accuracy: 0.7915 - val_loss: 0.6202 - val_binary_accuracy: 0.7384\n",
      "Epoch 20/100\n",
      "188/188 [==============================] - 0s 2ms/step - loss: 0.6051 - binary_accuracy: 0.7920 - val_loss: 0.6219 - val_binary_accuracy: 0.7248\n",
      "Epoch 21/100\n",
      "188/188 [==============================] - 0s 2ms/step - loss: 0.6045 - binary_accuracy: 0.7941 - val_loss: 0.6209 - val_binary_accuracy: 0.7289\n",
      "Epoch 22/100\n",
      "188/188 [==============================] - 0s 2ms/step - loss: 0.6039 - binary_accuracy: 0.7950 - val_loss: 0.6220 - val_binary_accuracy: 0.7262\n",
      "Epoch 23/100\n",
      "188/188 [==============================] - 0s 2ms/step - loss: 0.6031 - binary_accuracy: 0.7968 - val_loss: 0.6235 - val_binary_accuracy: 0.7207\n",
      "Epoch 24/100\n",
      "188/188 [==============================] - 0s 2ms/step - loss: 0.6026 - binary_accuracy: 0.7971 - val_loss: 0.6228 - val_binary_accuracy: 0.7234\n",
      "Epoch 25/100\n",
      "188/188 [==============================] - 0s 2ms/step - loss: 0.6020 - binary_accuracy: 0.7996 - val_loss: 0.6233 - val_binary_accuracy: 0.7248\n",
      "Epoch 26/100\n",
      "188/188 [==============================] - 0s 2ms/step - loss: 0.6014 - binary_accuracy: 0.8006 - val_loss: 0.6235 - val_binary_accuracy: 0.7302\n",
      "Epoch 27/100\n",
      "188/188 [==============================] - 0s 2ms/step - loss: 0.6009 - binary_accuracy: 0.8050 - val_loss: 0.6236 - val_binary_accuracy: 0.7289\n",
      "Epoch 28/100\n",
      "188/188 [==============================] - 0s 2ms/step - loss: 0.5999 - binary_accuracy: 0.8061 - val_loss: 0.6235 - val_binary_accuracy: 0.7302\n",
      "Epoch 29/100\n",
      "188/188 [==============================] - 0s 2ms/step - loss: 0.5991 - binary_accuracy: 0.8065 - val_loss: 0.6258 - val_binary_accuracy: 0.7316\n",
      "Epoch 30/100\n",
      "188/188 [==============================] - 0s 2ms/step - loss: 0.5987 - binary_accuracy: 0.8053 - val_loss: 0.6254 - val_binary_accuracy: 0.7302\n",
      "Epoch 31/100\n",
      "188/188 [==============================] - 0s 2ms/step - loss: 0.5982 - binary_accuracy: 0.8076 - val_loss: 0.6233 - val_binary_accuracy: 0.7302\n",
      "Epoch 32/100\n",
      "188/188 [==============================] - 0s 2ms/step - loss: 0.5972 - binary_accuracy: 0.8106 - val_loss: 0.6246 - val_binary_accuracy: 0.7221\n",
      "Epoch 33/100\n",
      "188/188 [==============================] - 0s 2ms/step - loss: 0.5971 - binary_accuracy: 0.8131 - val_loss: 0.6250 - val_binary_accuracy: 0.7248\n",
      "Epoch 34/100\n",
      "188/188 [==============================] - 0s 2ms/step - loss: 0.5963 - binary_accuracy: 0.8114 - val_loss: 0.6257 - val_binary_accuracy: 0.7302\n",
      "Epoch 35/100\n",
      "188/188 [==============================] - 0s 2ms/step - loss: 0.5959 - binary_accuracy: 0.8154 - val_loss: 0.6253 - val_binary_accuracy: 0.7289\n",
      "Epoch 36/100\n",
      "188/188 [==============================] - 0s 2ms/step - loss: 0.5954 - binary_accuracy: 0.8166 - val_loss: 0.6246 - val_binary_accuracy: 0.7248\n",
      "Epoch 37/100\n",
      "188/188 [==============================] - 0s 2ms/step - loss: 0.5944 - binary_accuracy: 0.8181 - val_loss: 0.6263 - val_binary_accuracy: 0.7289\n",
      "Epoch 38/100\n",
      "188/188 [==============================] - 0s 2ms/step - loss: 0.5940 - binary_accuracy: 0.8191 - val_loss: 0.6269 - val_binary_accuracy: 0.7221\n",
      "Epoch 39/100\n",
      "188/188 [==============================] - 0s 2ms/step - loss: 0.5934 - binary_accuracy: 0.8186 - val_loss: 0.6234 - val_binary_accuracy: 0.7357\n",
      "Epoch 40/100\n",
      "188/188 [==============================] - 0s 2ms/step - loss: 0.5928 - binary_accuracy: 0.8227 - val_loss: 0.6309 - val_binary_accuracy: 0.7153\n",
      "Epoch 41/100\n",
      "188/188 [==============================] - 0s 2ms/step - loss: 0.5927 - binary_accuracy: 0.8209 - val_loss: 0.6258 - val_binary_accuracy: 0.7221\n",
      "Epoch 42/100\n",
      "188/188 [==============================] - 0s 2ms/step - loss: 0.5919 - binary_accuracy: 0.8242 - val_loss: 0.6276 - val_binary_accuracy: 0.7275\n",
      "Epoch 43/100\n",
      "188/188 [==============================] - 0s 2ms/step - loss: 0.5915 - binary_accuracy: 0.8246 - val_loss: 0.6251 - val_binary_accuracy: 0.7262\n",
      "Epoch 44/100\n",
      "188/188 [==============================] - 0s 2ms/step - loss: 0.5911 - binary_accuracy: 0.8262 - val_loss: 0.6277 - val_binary_accuracy: 0.7234\n",
      "Epoch 45/100\n",
      "188/188 [==============================] - 0s 2ms/step - loss: 0.5905 - binary_accuracy: 0.8256 - val_loss: 0.6240 - val_binary_accuracy: 0.7248\n",
      "Epoch 46/100\n",
      "188/188 [==============================] - 0s 2ms/step - loss: 0.5902 - binary_accuracy: 0.8269 - val_loss: 0.6238 - val_binary_accuracy: 0.7289\n",
      "Epoch 47/100\n",
      "188/188 [==============================] - 0s 2ms/step - loss: 0.5895 - binary_accuracy: 0.8292 - val_loss: 0.6229 - val_binary_accuracy: 0.7289\n",
      "Epoch 48/100\n",
      "188/188 [==============================] - 0s 2ms/step - loss: 0.5889 - binary_accuracy: 0.8276 - val_loss: 0.6285 - val_binary_accuracy: 0.7234\n",
      "Epoch 49/100\n",
      "188/188 [==============================] - 0s 2ms/step - loss: 0.5882 - binary_accuracy: 0.8336 - val_loss: 0.6251 - val_binary_accuracy: 0.7207\n",
      "Epoch 50/100\n",
      "188/188 [==============================] - 0s 2ms/step - loss: 0.5879 - binary_accuracy: 0.8332 - val_loss: 0.6245 - val_binary_accuracy: 0.7262\n",
      "Epoch 51/100\n",
      "188/188 [==============================] - 0s 2ms/step - loss: 0.5879 - binary_accuracy: 0.8346 - val_loss: 0.6273 - val_binary_accuracy: 0.7275\n",
      "Epoch 52/100\n",
      "188/188 [==============================] - 0s 2ms/step - loss: 0.5871 - binary_accuracy: 0.8337 - val_loss: 0.6277 - val_binary_accuracy: 0.7234\n"
     ]
    },
    {
     "name": "stdout",
     "output_type": "stream",
     "text": [
      "Epoch 53/100\n",
      "188/188 [==============================] - 0s 2ms/step - loss: 0.5869 - binary_accuracy: 0.8347 - val_loss: 0.6250 - val_binary_accuracy: 0.7330\n",
      "Epoch 54/100\n",
      "188/188 [==============================] - 0s 2ms/step - loss: 0.5861 - binary_accuracy: 0.8380 - val_loss: 0.6251 - val_binary_accuracy: 0.7275\n",
      "Epoch 55/100\n",
      "188/188 [==============================] - 0s 2ms/step - loss: 0.5856 - binary_accuracy: 0.8380 - val_loss: 0.6242 - val_binary_accuracy: 0.7302\n",
      "Epoch 56/100\n",
      "188/188 [==============================] - 0s 2ms/step - loss: 0.5854 - binary_accuracy: 0.8384 - val_loss: 0.6251 - val_binary_accuracy: 0.7343\n",
      "Epoch 57/100\n",
      "188/188 [==============================] - 0s 2ms/step - loss: 0.5848 - binary_accuracy: 0.8400 - val_loss: 0.6237 - val_binary_accuracy: 0.7343\n",
      "Epoch 58/100\n",
      "188/188 [==============================] - 0s 2ms/step - loss: 0.5845 - binary_accuracy: 0.8395 - val_loss: 0.6245 - val_binary_accuracy: 0.7302\n",
      "Epoch 59/100\n",
      "188/188 [==============================] - 0s 2ms/step - loss: 0.5839 - binary_accuracy: 0.8404 - val_loss: 0.6254 - val_binary_accuracy: 0.7316\n",
      "Epoch 60/100\n",
      "188/188 [==============================] - 0s 2ms/step - loss: 0.5833 - binary_accuracy: 0.8445 - val_loss: 0.6242 - val_binary_accuracy: 0.7357\n",
      "Epoch 61/100\n",
      "188/188 [==============================] - 0s 2ms/step - loss: 0.5830 - binary_accuracy: 0.8439 - val_loss: 0.6247 - val_binary_accuracy: 0.7316\n",
      "Epoch 62/100\n",
      "188/188 [==============================] - 0s 2ms/step - loss: 0.5824 - binary_accuracy: 0.8454 - val_loss: 0.6252 - val_binary_accuracy: 0.7302\n",
      "Epoch 63/100\n",
      "188/188 [==============================] - 0s 2ms/step - loss: 0.5821 - binary_accuracy: 0.8442 - val_loss: 0.6237 - val_binary_accuracy: 0.7384\n",
      "Epoch 64/100\n",
      "188/188 [==============================] - 0s 2ms/step - loss: 0.5818 - binary_accuracy: 0.8459 - val_loss: 0.6245 - val_binary_accuracy: 0.7330\n",
      "Epoch 65/100\n",
      "188/188 [==============================] - 0s 2ms/step - loss: 0.5815 - binary_accuracy: 0.8470 - val_loss: 0.6238 - val_binary_accuracy: 0.7330\n",
      "Epoch 66/100\n",
      "188/188 [==============================] - 0s 2ms/step - loss: 0.5810 - binary_accuracy: 0.8470 - val_loss: 0.6230 - val_binary_accuracy: 0.7371\n",
      "Epoch 67/100\n",
      "188/188 [==============================] - 0s 2ms/step - loss: 0.5804 - binary_accuracy: 0.8490 - val_loss: 0.6244 - val_binary_accuracy: 0.7275\n",
      "Epoch 68/100\n",
      "188/188 [==============================] - 0s 2ms/step - loss: 0.5805 - binary_accuracy: 0.8485 - val_loss: 0.6267 - val_binary_accuracy: 0.7289\n",
      "Epoch 69/100\n",
      "188/188 [==============================] - 0s 2ms/step - loss: 0.5799 - binary_accuracy: 0.8494 - val_loss: 0.6270 - val_binary_accuracy: 0.7302\n",
      "Epoch 70/100\n",
      "188/188 [==============================] - 0s 2ms/step - loss: 0.5793 - binary_accuracy: 0.8505 - val_loss: 0.6261 - val_binary_accuracy: 0.7316\n",
      "Epoch 71/100\n",
      "188/188 [==============================] - 0s 2ms/step - loss: 0.5789 - binary_accuracy: 0.8527 - val_loss: 0.6242 - val_binary_accuracy: 0.7357\n",
      "Epoch 72/100\n",
      "188/188 [==============================] - 0s 2ms/step - loss: 0.5789 - binary_accuracy: 0.8525 - val_loss: 0.6253 - val_binary_accuracy: 0.7425\n",
      "Epoch 73/100\n",
      "188/188 [==============================] - 0s 2ms/step - loss: 0.5788 - binary_accuracy: 0.8518 - val_loss: 0.6232 - val_binary_accuracy: 0.7398\n",
      "Epoch 74/100\n",
      "188/188 [==============================] - 0s 2ms/step - loss: 0.5780 - binary_accuracy: 0.8533 - val_loss: 0.6293 - val_binary_accuracy: 0.7330\n",
      "Epoch 75/100\n",
      "188/188 [==============================] - 0s 2ms/step - loss: 0.5779 - binary_accuracy: 0.8537 - val_loss: 0.6220 - val_binary_accuracy: 0.7371\n",
      "Epoch 76/100\n",
      "188/188 [==============================] - 0s 2ms/step - loss: 0.5774 - binary_accuracy: 0.8552 - val_loss: 0.6284 - val_binary_accuracy: 0.7262\n",
      "Epoch 77/100\n",
      "188/188 [==============================] - 0s 2ms/step - loss: 0.5774 - binary_accuracy: 0.8555 - val_loss: 0.6242 - val_binary_accuracy: 0.7316\n",
      "Epoch 78/100\n",
      "188/188 [==============================] - 0s 2ms/step - loss: 0.5767 - binary_accuracy: 0.8560 - val_loss: 0.6268 - val_binary_accuracy: 0.7316\n",
      "Epoch 79/100\n",
      "188/188 [==============================] - 0s 2ms/step - loss: 0.5765 - binary_accuracy: 0.8567 - val_loss: 0.6218 - val_binary_accuracy: 0.7371\n",
      "Epoch 80/100\n",
      "188/188 [==============================] - 0s 2ms/step - loss: 0.5762 - binary_accuracy: 0.8568 - val_loss: 0.6265 - val_binary_accuracy: 0.7330\n",
      "Epoch 81/100\n",
      "188/188 [==============================] - 0s 2ms/step - loss: 0.5760 - binary_accuracy: 0.8580 - val_loss: 0.6227 - val_binary_accuracy: 0.7411\n",
      "Epoch 82/100\n",
      "188/188 [==============================] - 0s 2ms/step - loss: 0.5754 - binary_accuracy: 0.8585 - val_loss: 0.6244 - val_binary_accuracy: 0.7316\n",
      "Epoch 83/100\n",
      "188/188 [==============================] - 0s 2ms/step - loss: 0.5751 - binary_accuracy: 0.8588 - val_loss: 0.6239 - val_binary_accuracy: 0.7371\n",
      "Epoch 84/100\n",
      "188/188 [==============================] - 0s 2ms/step - loss: 0.5749 - binary_accuracy: 0.8588 - val_loss: 0.6231 - val_binary_accuracy: 0.7371\n",
      "Epoch 85/100\n",
      "188/188 [==============================] - 0s 2ms/step - loss: 0.5745 - binary_accuracy: 0.8610 - val_loss: 0.6224 - val_binary_accuracy: 0.7425\n",
      "Epoch 86/100\n",
      "188/188 [==============================] - 0s 2ms/step - loss: 0.5742 - binary_accuracy: 0.8612 - val_loss: 0.6229 - val_binary_accuracy: 0.7371\n",
      "Epoch 87/100\n",
      "188/188 [==============================] - 0s 2ms/step - loss: 0.5738 - binary_accuracy: 0.8625 - val_loss: 0.6211 - val_binary_accuracy: 0.7425\n",
      "Epoch 88/100\n",
      "188/188 [==============================] - 0s 2ms/step - loss: 0.5734 - binary_accuracy: 0.8627 - val_loss: 0.6233 - val_binary_accuracy: 0.7371\n",
      "Epoch 89/100\n",
      "188/188 [==============================] - 0s 2ms/step - loss: 0.5730 - binary_accuracy: 0.8646 - val_loss: 0.6229 - val_binary_accuracy: 0.7357\n",
      "Epoch 90/100\n",
      "188/188 [==============================] - 0s 2ms/step - loss: 0.5728 - binary_accuracy: 0.8648 - val_loss: 0.6230 - val_binary_accuracy: 0.7384\n",
      "Epoch 91/100\n",
      "188/188 [==============================] - 0s 2ms/step - loss: 0.5728 - binary_accuracy: 0.8643 - val_loss: 0.6242 - val_binary_accuracy: 0.7398\n",
      "Epoch 92/100\n",
      "188/188 [==============================] - 0s 2ms/step - loss: 0.5725 - binary_accuracy: 0.8638 - val_loss: 0.6213 - val_binary_accuracy: 0.7425\n",
      "Epoch 93/100\n",
      "188/188 [==============================] - 0s 2ms/step - loss: 0.5725 - binary_accuracy: 0.8638 - val_loss: 0.6229 - val_binary_accuracy: 0.7384\n",
      "Epoch 94/100\n",
      "188/188 [==============================] - 0s 2ms/step - loss: 0.5716 - binary_accuracy: 0.8658 - val_loss: 0.6252 - val_binary_accuracy: 0.7357\n",
      "Epoch 95/100\n",
      "188/188 [==============================] - 0s 2ms/step - loss: 0.5719 - binary_accuracy: 0.8645 - val_loss: 0.6221 - val_binary_accuracy: 0.7371\n",
      "Epoch 96/100\n",
      "188/188 [==============================] - 0s 2ms/step - loss: 0.5722 - binary_accuracy: 0.8637 - val_loss: 0.6218 - val_binary_accuracy: 0.7384\n",
      "Epoch 97/100\n",
      "188/188 [==============================] - 0s 2ms/step - loss: 0.5713 - binary_accuracy: 0.8661 - val_loss: 0.6219 - val_binary_accuracy: 0.7384\n",
      "Epoch 98/100\n",
      "188/188 [==============================] - 0s 2ms/step - loss: 0.5710 - binary_accuracy: 0.8668 - val_loss: 0.6214 - val_binary_accuracy: 0.7425\n",
      "Epoch 99/100\n",
      "188/188 [==============================] - 0s 2ms/step - loss: 0.5708 - binary_accuracy: 0.8671 - val_loss: 0.6213 - val_binary_accuracy: 0.7371\n",
      "Epoch 100/100\n",
      "188/188 [==============================] - 0s 2ms/step - loss: 0.5705 - binary_accuracy: 0.8666 - val_loss: 0.6236 - val_binary_accuracy: 0.7411\n"
     ]
    }
   ],
   "source": [
    "with tf.device(\"/cpu:0\"):\n",
    "    train_history = ffnn.fit(\n",
    "            x=X_train_bert_out,\n",
    "            y=y_train,\n",
    "            batch_size=32,\n",
    "            epochs=40,\n",
    "            validation_data=(X_val_bert_out, y_validation),\n",
    "            callbacks=[tf.keras.callbacks.TensorBoard(log_dir=\"training/bert_clf/testing/logs/ffnn-256-128-64-1\")],\n",
    "    )"
   ]
  },
  {
   "cell_type": "code",
   "execution_count": 87,
   "metadata": {},
   "outputs": [
    {
     "data": {
      "text/plain": [
       "<tensorflow.python.keras.callbacks.History at 0x149b50e2a48>"
      ]
     },
     "execution_count": 87,
     "metadata": {},
     "output_type": "execute_result"
    }
   ],
   "source": [
    "train_history"
   ]
  },
  {
   "cell_type": "code",
   "execution_count": null,
   "metadata": {},
   "outputs": [],
   "source": [
    "# BERT model with an LSTM output layer\n",
    "def create_bert_model_lstm(encoder, input_size, **kwargs):\n",
    "    bert_pooled_output = base_bert_model(encoder, input_size)['pooled_output']\n",
    "\n",
    "    # LSTM layer output\n",
    "    dense_output = LSTM(1, **kwargs)(bert_pooled_output)\n",
    "\n",
    "    # Create the Keras model and compile\n",
    "    return Model(inputs, dense_output)"
   ]
  },
  {
   "cell_type": "code",
   "execution_count": null,
   "metadata": {},
   "outputs": [],
   "source": []
  },
  {
   "cell_type": "code",
   "execution_count": null,
   "metadata": {},
   "outputs": [],
   "source": []
  },
  {
   "cell_type": "code",
   "execution_count": null,
   "metadata": {},
   "outputs": [],
   "source": []
  }
 ],
 "metadata": {
  "kernelspec": {
   "display_name": "Python 3",
   "language": "python",
   "name": "python3"
  },
  "language_info": {
   "codemirror_mode": {
    "name": "ipython",
    "version": 3
   },
   "file_extension": ".py",
   "mimetype": "text/x-python",
   "name": "python",
   "nbconvert_exporter": "python",
   "pygments_lexer": "ipython3",
   "version": "3.7.8"
  }
 },
 "nbformat": 4,
 "nbformat_minor": 4
}
