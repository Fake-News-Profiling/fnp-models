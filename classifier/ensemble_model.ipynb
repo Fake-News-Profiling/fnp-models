{
 "cells": [
  {
   "cell_type": "code",
   "execution_count": 1,
   "metadata": {},
   "outputs": [],
   "source": [
    "import sys\n",
    "\n",
    "preprocessing_path = 'C:\\\\Users\\\\joshh\\\\Desktop\\\\Uni\\\\Soton Uni - Yr 3\\\\COMP3200\\\\fake-news-profiling\\\\classifier\\\\preprocessing'\n",
    "if preprocessing_path not in sys.path:\n",
    "    sys.path.insert(1, preprocessing_path)\n",
    "\n",
    "notif_path = 'C:\\\\Users\\\\joshh\\\\Desktop\\\\Uni\\\\Soton Uni - Yr 3\\\\COMP3200\\\\fake-news-profiling\\\\classifier\\\\notifications'\n",
    "if notif_path not in sys.path:\n",
    "    sys.path.insert(1, notif_path)"
   ]
  },
  {
   "cell_type": "code",
   "execution_count": 2,
   "metadata": {},
   "outputs": [],
   "source": [
    "import matplotlib.pyplot as plt\n",
    "import numpy as np\n",
    "\n",
    "import tensorflow as tf\n",
    "\n",
    "import ipynb.fs.full.parse_datasets as datasets\n",
    "import ipynb.fs.full.preprocessing as pp\n",
    "import ipynb.fs.full.bert_fake_news_classifier as bclf\n",
    "from ipynb.fs.full.notif_email import send_email"
   ]
  },
  {
   "cell_type": "markdown",
   "metadata": {},
   "source": [
    "# Dataset"
   ]
  },
  {
   "cell_type": "code",
   "execution_count": 4,
   "metadata": {},
   "outputs": [],
   "source": [
    "tweet_data, label_data = datasets.parse_dataset(\"datasets\", \"en\")"
   ]
  },
  {
   "cell_type": "code",
   "execution_count": 5,
   "metadata": {},
   "outputs": [],
   "source": [
    "# Preprocess the data\n",
    "tweet_preprocessor = pp.TweetPreprocessor(\n",
    "    preprocess_funcs = [\n",
    "        pp.tag_indicators,\n",
    "        pp.replace_xml_and_html,\n",
    "        pp.replace_emojis,\n",
    "        pp.remove_punctuation,\n",
    "        pp.replace_tags,\n",
    "        pp.remove_hashtag_chars,\n",
    "        pp.replace_accented_chars,\n",
    "        pp.tag_numbers,\n",
    "        pp.remove_extra_spacing,\n",
    "    ])\n",
    "tweet_preprocessor.preprocess(tweet_data)\n",
    "\n",
    "# Individual dataset\n",
    "tweet_data_individual = tweet_preprocessor.get_individual_tweets_dataset()"
   ]
  },
  {
   "cell_type": "code",
   "execution_count": 7,
   "metadata": {},
   "outputs": [],
   "source": [
    "(tweet_train, label_train, \n",
    " tweet_val, label_val, \n",
    " tweet_test, label_test) = datasets.split_dataset(tweet_data_individual, label_data)"
   ]
  },
  {
   "cell_type": "markdown",
   "metadata": {},
   "source": [
    "## Sentiment"
   ]
  },
  {
   "cell_type": "code",
   "execution_count": 14,
   "metadata": {},
   "outputs": [],
   "source": [
    "from vaderSentiment.vaderSentiment import SentimentIntensityAnalyzer\n",
    "sentiment_analyser = SentimentIntensityAnalyzer()"
   ]
  },
  {
   "cell_type": "code",
   "execution_count": 67,
   "metadata": {},
   "outputs": [],
   "source": [
    "def compound_sentiment(text):\n",
    "    return sentiment_analyser.polarity_scores(text)['compound']\n",
    "\n",
    "def sentiments(text):\n",
    "    scores = sentiment_analyser.polarity_scores(text)\n",
    "    return np.asarray([scores['neg'], scores['neu'], scores['pos']])"
   ]
  },
  {
   "cell_type": "markdown",
   "metadata": {},
   "source": [
    "### Sentiment model 1\n",
    "Measures the sentiment scores for each of the users tweets.\n",
    "Uses these 100 data points to then profile the user."
   ]
  },
  {
   "cell_type": "code",
   "execution_count": 79,
   "metadata": {},
   "outputs": [],
   "source": [
    "X_train = np.asarray([[compound_sentiment(tweet) for tweet in user_tweets] for user_tweets in tweet_train])\n",
    "X_train = np.sort(X_train, axis=1)\n",
    "y_train = label_train\n",
    "\n",
    "X_val = np.asarray([[compound_sentiment(tweet) for tweet in user_tweets] for user_tweets in tweet_val])\n",
    "X_val = np.sort(X_val, axis=1)\n",
    "y_val = label_val"
   ]
  },
  {
   "cell_type": "code",
   "execution_count": 80,
   "metadata": {},
   "outputs": [
    {
     "data": {
      "text/plain": [
       "SVC()"
      ]
     },
     "execution_count": 80,
     "metadata": {},
     "output_type": "execute_result"
    }
   ],
   "source": [
    "from sklearn.linear_model import LogisticRegression\n",
    "from sklearn.svm import SVC\n",
    "\n",
    "log_reg_clf = LogisticRegression()\n",
    "log_reg_clf.fit(X_train, y_train)\n",
    "\n",
    "svc_clf = SVC()\n",
    "svc_clf.fit(X_train, y_train)"
   ]
  },
  {
   "cell_type": "code",
   "execution_count": 81,
   "metadata": {},
   "outputs": [
    {
     "name": "stdout",
     "output_type": "stream",
     "text": [
      "Train accuracy (LogisticRegression): 0.6857142857142857\n",
      "Train accuracy (SVC): 0.6619047619047619\n"
     ]
    }
   ],
   "source": [
    "print(\"Train accuracy (LogisticRegression):\", log_reg_clf.score(X_train, y_train))\n",
    "print(\"Train accuracy (SVC):\", svc_clf.score(X_train, y_train))"
   ]
  },
  {
   "cell_type": "code",
   "execution_count": 82,
   "metadata": {},
   "outputs": [
    {
     "name": "stdout",
     "output_type": "stream",
     "text": [
      "Validation score (LogisticRegression): 0.6444444444444445\n",
      "Validation score (SVC): 0.6222222222222222\n"
     ]
    }
   ],
   "source": [
    "print(\"Validation score (LogisticRegression):\", log_reg_clf.score(X_val, y_val))\n",
    "print(\"Validation score (SVC):\", svc_clf.score(X_val, y_val))"
   ]
  },
  {
   "cell_type": "markdown",
   "metadata": {},
   "source": [
    "### Sentiment model 2\n",
    "Measures the overall sentiment of the user, taking the mean of their neural, positive, and negative sentiments. So each data point is of shape (3,). This is then used to profile the user."
   ]
  },
  {
   "cell_type": "code",
   "execution_count": 83,
   "metadata": {},
   "outputs": [],
   "source": [
    "def format_X_data(data):\n",
    "    return np.asarray([\n",
    "        np.mean([sentiments(tweet) for tweet in user_tweets], axis=0) \n",
    "        for user_tweets in data\n",
    "    ])\n",
    "\n",
    "X_train = format_X_data(tweet_train)\n",
    "y_train = label_train\n",
    "\n",
    "X_val = format_X_data(tweet_val)\n",
    "y_val = label_val"
   ]
  },
  {
   "cell_type": "code",
   "execution_count": 84,
   "metadata": {},
   "outputs": [
    {
     "data": {
      "text/plain": [
       "SVC()"
      ]
     },
     "execution_count": 84,
     "metadata": {},
     "output_type": "execute_result"
    }
   ],
   "source": [
    "log_reg_clf = LogisticRegression()\n",
    "log_reg_clf.fit(X_train, y_train)\n",
    "\n",
    "svc_clf = SVC()\n",
    "svc_clf.fit(X_train, y_train)"
   ]
  },
  {
   "cell_type": "code",
   "execution_count": 85,
   "metadata": {},
   "outputs": [
    {
     "name": "stdout",
     "output_type": "stream",
     "text": [
      "Train accuracy (LogisticRegression): 0.6476190476190476\n",
      "Train accuracy (SVC): 0.6619047619047619\n"
     ]
    }
   ],
   "source": [
    "print(\"Train accuracy (LogisticRegression):\", log_reg_clf.score(X_train, y_train))\n",
    "print(\"Train accuracy (SVC):\", svc_clf.score(X_train, y_train))"
   ]
  },
  {
   "cell_type": "code",
   "execution_count": 86,
   "metadata": {},
   "outputs": [
    {
     "name": "stdout",
     "output_type": "stream",
     "text": [
      "Validation accuracy (LogisticRegression): 0.7111111111111111\n",
      "Validation accuracy (SVC): 0.6444444444444445\n"
     ]
    }
   ],
   "source": [
    "print(\"Validation accuracy (LogisticRegression):\", log_reg_clf.score(X_val, y_val))\n",
    "print(\"Validation accuracy (SVC):\", svc_clf.score(X_val, y_val))"
   ]
  },
  {
   "cell_type": "code",
   "execution_count": null,
   "metadata": {},
   "outputs": [],
   "source": []
  },
  {
   "cell_type": "code",
   "execution_count": null,
   "metadata": {},
   "outputs": [],
   "source": []
  },
  {
   "cell_type": "code",
   "execution_count": null,
   "metadata": {},
   "outputs": [],
   "source": []
  }
 ],
 "metadata": {
  "kernelspec": {
   "display_name": "Python 3",
   "language": "python",
   "name": "python3"
  },
  "language_info": {
   "codemirror_mode": {
    "name": "ipython",
    "version": 3
   },
   "file_extension": ".py",
   "mimetype": "text/x-python",
   "name": "python",
   "nbconvert_exporter": "python",
   "pygments_lexer": "ipython3",
   "version": "3.8.3"
  }
 },
 "nbformat": 4,
 "nbformat_minor": 4
}
